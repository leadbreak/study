{
 "cells": [
  {
   "cell_type": "code",
   "execution_count": 1,
   "metadata": {},
   "outputs": [
    {
     "name": "stderr",
     "output_type": "stream",
     "text": [
      "/usr/local/lib/python3.10/dist-packages/tqdm/auto.py:21: TqdmWarning: IProgress not found. Please update jupyter and ipywidgets. See https://ipywidgets.readthedocs.io/en/stable/user_install.html\n",
      "  from .autonotebook import tqdm as notebook_tqdm\n"
     ]
    }
   ],
   "source": [
    "import numpy as np\n",
    "from collections import OrderedDict\n",
    "\n",
    "import torch\n",
    "import torch.nn as nn\n",
    "import torch.nn.functional as F\n",
    "\n",
    "import torch.optim as optim\n",
    "from torchvision import transforms\n",
    "from torchvision.datasets import ImageFolder\n",
    "from torch.utils.data import DataLoader\n",
    "\n",
    "from torch.cuda.amp import autocast, GradScaler\n",
    "from torch.nn.utils import clip_grad_norm_\n",
    "from tqdm import tqdm\n",
    "import time\n",
    "\n",
    "from timm.data import Mixup\n",
    "import transformers\n",
    "\n",
    "from einops import rearrange\n",
    "from einops.layers.torch import Rearrange\n",
    "\n",
    "from timm.models.layers import DropPath, trunc_normal_, to_2tuple\n",
    "\n",
    "from sklearn.metrics import confusion_matrix\n",
    "import pandas as pd\n",
    "from sklearn.metrics import accuracy_score, precision_recall_fscore_support"
   ]
  },
  {
   "cell_type": "markdown",
   "metadata": {},
   "source": [
    "# 01.Convolutional Token Embedding"
   ]
  },
  {
   "cell_type": "code",
   "execution_count": 2,
   "metadata": {},
   "outputs": [],
   "source": [
    "class ConvEmbed(nn.Module):\n",
    "    '''\n",
    "    img/token map to Conv Embedding\n",
    "    '''\n",
    "    \n",
    "    def __init__(self,\n",
    "                 patch_size=11, # [11, 7, 7, 3]\n",
    "                 in_chans=3,   # [3, dim of stage1, dim of stage2]\n",
    "                 embed_dim=64, # [32, 64, 192, 384]\n",
    "                 stride=4,     # [6, 4, 4, 2]\n",
    "                 padding=2,    # [3, 2, 2, 1]\n",
    "                 norm_layer=None):\n",
    "        super().__init__()\n",
    "        self.patch_size = to_2tuple(patch_size)\n",
    "        \n",
    "        self.proj = nn.Conv2d(\n",
    "            in_channels=in_chans,\n",
    "            out_channels=embed_dim,\n",
    "            kernel_size=patch_size,\n",
    "            stride=stride,\n",
    "            padding=padding\n",
    "        )\n",
    "        \n",
    "        self.norm = norm_layer(embed_dim) if norm_layer else nn.Identity()\n",
    "        \n",
    "    def forward(self, x):\n",
    "        x = self.proj(x)\n",
    "        \n",
    "        _, _, H, W = x.shape\n",
    "        x = rearrange(x, 'b c h w -> b (h w) c')\n",
    "        x = self.norm(x)\n",
    "        x = rearrange(x, 'b (h w) c -> b c h w', h=H, w=W)\n",
    "        return x\n",
    "    "
   ]
  },
  {
   "cell_type": "code",
   "execution_count": 3,
   "metadata": {},
   "outputs": [],
   "source": [
    "class AttentionConv(nn.Module):\n",
    "    def __init__(self,\n",
    "                 dim=64,        # [32, 64,192,384]\n",
    "                 num_heads=4,   # [1,3,6,9]\n",
    "                 qkv_bias=False,\n",
    "                 attn_drop=0.,\n",
    "                 proj_drop=0.,\n",
    "                 kernel_size=3,\n",
    "                 padding_q=1,\n",
    "                 padding_kv=1,\n",
    "                 stride_q=1,\n",
    "                 stride_kv=2,\n",
    "                 **kwargs\n",
    "                 ):\n",
    "        super().__init__()\n",
    "        self.stride_q = stride_q\n",
    "        self.stride_kv = stride_kv\n",
    "        self.dim = dim\n",
    "        self.num_heads = num_heads        \n",
    "        self.scale = dim ** -0.5\n",
    "        \n",
    "        self.conv_proj_q = self._build_projection(dim,\n",
    "                                                  kernel_size,\n",
    "                                                  padding_q,\n",
    "                                                  stride_q,\n",
    "                                                  )\n",
    "        self.conv_proj_k = self._build_projection(dim,\n",
    "                                                  kernel_size,\n",
    "                                                  padding_kv,\n",
    "                                                  stride_kv,\n",
    "                                                  )\n",
    "        \n",
    "        self.conv_proj_v = self._build_projection(dim,\n",
    "                                                  kernel_size,\n",
    "                                                  padding_kv,\n",
    "                                                  stride_kv,\n",
    "                                                  )\n",
    "        \n",
    "        self.linear_proj_q = nn.Linear(dim, dim, bias=qkv_bias)\n",
    "        self.linear_proj_k = nn.Linear(dim, dim, bias=qkv_bias)\n",
    "        self.linear_proj_v = nn.Linear(dim, dim, bias=qkv_bias)\n",
    "        \n",
    "        self.attn_drop = nn.Dropout(attn_drop)\n",
    "        self.linear_proj_last = nn.Linear(dim, dim)\n",
    "        self.proj_drop = nn.Dropout(proj_drop)        \n",
    "        \n",
    "    def _build_projection(self,\n",
    "                          dim,\n",
    "                          kernel_size,\n",
    "                          padding,\n",
    "                          stride,\n",
    "                          ):\n",
    "        \n",
    "        proj = nn.Sequential(OrderedDict([\n",
    "            ('conv', nn.Conv2d(\n",
    "                dim,\n",
    "                dim,\n",
    "                kernel_size=kernel_size,\n",
    "                padding=padding,\n",
    "                stride=stride,\n",
    "                bias=False,\n",
    "                groups=dim)),\n",
    "            ('ln', nn.LayerNorm(dim)),\n",
    "            ('rearrange', Rearrange('b c h w -> b (h w) c'))\n",
    "        ]))\n",
    "        \n",
    "        return proj\n",
    "    \n",
    "    def forward(self, x, h, w):\n",
    "        x = rearrange(x, 'b (h w) c -> b c h w', h=h, w=w)\n",
    "        \n",
    "        q = self.conv_proj_q(x)\n",
    "        k = self.conv_proj_k(x)\n",
    "        v = self.conv_proj_v(x)\n",
    "        \n",
    "        q = rearrange(self.linear_proj_q(q), 'b t (h d) -> b h t d', h=self.num_heads)\n",
    "        k = rearrange(self.linear_proj_k(k), 'b t (h d) -> b h t d', h=self.num_heads)\n",
    "        v = rearrange(self.linear_proj_v(v), 'b t (h d) -> b h t d', h=self.num_heads)\n",
    "        \n",
    "        attn_score = torch.einsum('bhlk,bhtk->bhlt', [q, k]) * self.scale\n",
    "        attn = self.attn_drop(F.softmax(attn_score, dim=-1))\n",
    "        \n",
    "        x = torch.matmul(attn, v)\n",
    "        batch_size, num_heads, seq_length, depth = x.size()\n",
    "        x = x.view(batch_size, seq_length, num_heads * depth)\n",
    "        \n",
    "        x = self.proj_drop(self.linear_proj_last(x))\n",
    "        \n",
    "        return x\n"
   ]
  },
  {
   "cell_type": "code",
   "execution_count": 4,
   "metadata": {},
   "outputs": [],
   "source": [
    "# transformer block에 작은 스케일 인자 곱하기\n",
    "class LayerScale(nn.Module):\n",
    "    def __init__(self, dim, init_values=1e-5):\n",
    "        super().__init__()\n",
    "        self.gamma = nn.Parameter(init_values * torch.ones((dim)))\n",
    "\n",
    "    def forward(self, x):\n",
    "        return self.gamma * x"
   ]
  },
  {
   "cell_type": "code",
   "execution_count": 5,
   "metadata": {},
   "outputs": [],
   "source": [
    "class Block(nn.Module):\n",
    "    \n",
    "    def __init__(self,\n",
    "                 dim,\n",
    "                 num_heads,\n",
    "                 mlp_ratio=4.,\n",
    "                 qkv_bias=False,\n",
    "                 drop=0.,\n",
    "                 attn_drop=0.,\n",
    "                 drop_path=0.,\n",
    "                 act_layer=nn.GELU,\n",
    "                 norm_layer=nn.LayerNorm,\n",
    "                 **kwargs\n",
    "                ):\n",
    "        super().__init__()\n",
    "        \n",
    "        self.norm1 = norm_layer(dim)\n",
    "        self.ls1 = LayerScale(dim)\n",
    "        self.attn = AttentionConv(dim=dim,\n",
    "                                  num_heads=num_heads,\n",
    "                                  qkv_bias=qkv_bias,\n",
    "                                  attn_drop=attn_drop,\n",
    "                                  proj_drop=drop,\n",
    "                                  **kwargs)        \n",
    "        self.drop_path = DropPath(drop_path) if drop_path > 0. else nn.Identity()\n",
    "        self.norm2 = norm_layer(dim)\n",
    "        self.ls2 = LayerScale(dim)\n",
    "        mlp_hidden_dim = int(dim*mlp_ratio)\n",
    "        self.mlp = nn.Sequential(\n",
    "            nn.Linear(dim, mlp_hidden_dim),\n",
    "            act_layer(),\n",
    "            nn.Linear(mlp_hidden_dim, dim),\n",
    "            nn.Dropout(drop),\n",
    "        )\n",
    "        \n",
    "    def forward(self, x, h, w):\n",
    "        res = x\n",
    "        x = self.norm1(x)\n",
    "        attn = self.attn(x, h, w)\n",
    "        x = res + self.drop_path(self.ls1(attn))\n",
    "        x = x + self.drop_path(self.ls2(self.mlp(self.norm2(x))))\n",
    "        return x"
   ]
  },
  {
   "cell_type": "code",
   "execution_count": 6,
   "metadata": {},
   "outputs": [],
   "source": [
    "test_img = torch.Tensor(np.zeros((2,3,224,224))) # B, C, H, W\n",
    "\n",
    "block = Block(dim=64,\n",
    "              num_heads=4)"
   ]
  },
  {
   "cell_type": "code",
   "execution_count": 7,
   "metadata": {},
   "outputs": [
    {
     "name": "stdout",
     "output_type": "stream",
     "text": [
      "stage 1 | img shape: torch.Size([2, 3, 224, 224]) → Conv Embed Shape: torch.Size([2, 64, 56, 56])\n"
     ]
    }
   ],
   "source": [
    "# Stage 1 \n",
    "\n",
    "## Patch Embedding\n",
    "convembed = ConvEmbed(patch_size=7, stride=4, padding=2)\n",
    "stage1_img = convembed(test_img)\n",
    "\n",
    "## Attention with Convolution\n",
    "b, c, h, w = stage1_img.shape\n",
    "stage1_img = rearrange(stage1_img, 'b c h w -> b (h w) c')\n",
    "stage1_img = block(stage1_img, h=h, w=w)\n",
    "stage1_img = rearrange(stage1_img, 'b (h w) c -> b c h w', h=h, w=w)\n",
    "\n",
    "## Check Result\n",
    "print(f'stage 1 | img shape: {test_img.shape} → Conv Embed Shape: {stage1_img.shape}')"
   ]
  },
  {
   "cell_type": "code",
   "execution_count": 8,
   "metadata": {},
   "outputs": [
    {
     "name": "stdout",
     "output_type": "stream",
     "text": [
      "stage 2 | img shape: torch.Size([2, 64, 56, 56]) → Conv Embed Shape: torch.Size([2, 64, 28, 28])\n"
     ]
    }
   ],
   "source": [
    "# Stage 2 \n",
    "\n",
    "## Patch Embedding\n",
    "convembed = ConvEmbed(patch_size=3, in_chans=64, stride=2, padding=1)\n",
    "stage2_img = convembed(stage1_img)\n",
    "\n",
    "## Attention with Convolution\n",
    "b, c, h, w = stage2_img.shape\n",
    "stage2_img = rearrange(stage2_img, 'b c h w -> b (h w) c')\n",
    "stage2_img = block(stage2_img, h=h, w=w)\n",
    "stage2_img = rearrange(stage2_img, 'b (h w) c -> b c h w', h=h, w=w)\n",
    "\n",
    "## Check Result\n",
    "print(f'stage 2 | img shape: {stage1_img.shape} → Conv Embed Shape: {stage2_img.shape}')"
   ]
  },
  {
   "cell_type": "code",
   "execution_count": 9,
   "metadata": {},
   "outputs": [
    {
     "name": "stdout",
     "output_type": "stream",
     "text": [
      "stage 3 | img shape: torch.Size([2, 64, 28, 28]) → Conv Embed Shape: torch.Size([2, 64, 14, 14])\n"
     ]
    }
   ],
   "source": [
    "# Stage 3 \n",
    "\n",
    "## Patch Embedding\n",
    "convembed = ConvEmbed(patch_size=3, in_chans=64, stride=2, padding=1)\n",
    "stage3_img = convembed(stage2_img)\n",
    "\n",
    "## Attention with Convolution\n",
    "b, c, h, w = stage3_img.shape\n",
    "stage3_img = rearrange(stage3_img, 'b c h w -> b (h w) c')\n",
    "stage3_img = block(stage3_img, h=h, w=w)\n",
    "stage3_img = rearrange(stage3_img, 'b (h w) c -> b c h w', h=h, w=w)\n",
    "\n",
    "## Check Result\n",
    "print(f'stage 3 | img shape: {stage2_img.shape} → Conv Embed Shape: {stage3_img.shape}')"
   ]
  },
  {
   "cell_type": "code",
   "execution_count": 10,
   "metadata": {},
   "outputs": [],
   "source": [
    "class VisionTransformer(nn.Module):\n",
    "    def __init__(self,\n",
    "                 patch_size=16,\n",
    "                 patch_stride=16,\n",
    "                 patch_padding=0,\n",
    "                 in_chans=3,\n",
    "                 embed_dim=768,\n",
    "                 depth=12,\n",
    "                 num_heads=12,\n",
    "                 mlp_ratio=4.,\n",
    "                 qkv_bias=False,\n",
    "                 drop_rate=0.,\n",
    "                 attn_drop_rate=0.,\n",
    "                 drop_path_rate=0.,\n",
    "                 act_layer=nn.GELU,\n",
    "                 norm_layer=nn.LayerNorm,\n",
    "                 init='trunc_norm',\n",
    "                 **kwargs\n",
    "                 ):\n",
    "        \n",
    "        super().__init__()\n",
    "\n",
    "        self.patch_embed = ConvEmbed(\n",
    "            patch_size=patch_size,\n",
    "            in_chans=in_chans,\n",
    "            stride=patch_stride,\n",
    "            padding=patch_padding,\n",
    "            embed_dim=embed_dim,\n",
    "            norm_layer=norm_layer\n",
    "        )\n",
    "\n",
    "        self.pos_drop = nn.Dropout(p=drop_rate)\n",
    "\n",
    "        self.blocks = nn.ModuleList([\n",
    "            Block(\n",
    "                dim=embed_dim,\n",
    "                num_heads=num_heads,\n",
    "                mlp_ratio=mlp_ratio,\n",
    "                qkv_bias=qkv_bias,\n",
    "                drop=drop_rate,\n",
    "                attn_drop=attn_drop_rate,\n",
    "                drop_path=drop_path_rate,\n",
    "                act_layer=act_layer,\n",
    "                norm_layer=norm_layer,\n",
    "                **kwargs\n",
    "            ) for _ in range(depth)\n",
    "        ])\n",
    "\n",
    "        if init == 'xavier':\n",
    "            self.apply(self._init_weights_xavier)\n",
    "        else:\n",
    "            self.apply(self._init_weights_trunc_normal)\n",
    "\n",
    "    def _init_weights_trunc_normal(self, m):\n",
    "        if isinstance(m, nn.Linear):\n",
    "            trunc_normal_(m.weight, std=0.02)\n",
    "            if m.bias is not None:\n",
    "                nn.init.constant_(m.bias, 0)\n",
    "        elif isinstance(m, (nn.LayerNorm, nn.BatchNorm2d)):\n",
    "            nn.init.constant_(m.bias, 0)\n",
    "            nn.init.constant_(m.weight, 1.0)\n",
    "\n",
    "    def _init_weights_xavier(self, m):\n",
    "        if isinstance(m, nn.Linear):\n",
    "            nn.init.xavier_uniform_(m.weight)\n",
    "            if m.bias is not None:\n",
    "                nn.init.constant_(m.bias, 0)\n",
    "        elif isinstance(m, (nn.LayerNorm, nn.BatchNorm2d)):\n",
    "            nn.init.constant_(m.bias, 0)\n",
    "            nn.init.constant_(m.weight, 1.0)\n",
    "\n",
    "    def forward(self, x):\n",
    "        x = self.patch_embed(x)\n",
    "        _, _, H, W = x.size()\n",
    "\n",
    "        x = rearrange(x, 'b c h w -> b (h w) c')\n",
    "        x = self.pos_drop(x)\n",
    "\n",
    "        for _, blk in enumerate(self.blocks):\n",
    "            x = blk(x, H, W)\n",
    "        x = rearrange(x, 'b (h w) c -> b c h w', h=H, w=W)\n",
    "        return x"
   ]
  },
  {
   "cell_type": "code",
   "execution_count": 11,
   "metadata": {},
   "outputs": [],
   "source": [
    "class ConvolutionalVisionTransformer(nn.Module):\n",
    "    def __init__(self,\n",
    "                 in_chans=3,\n",
    "                 num_classes=100,\n",
    "                 act_layer=nn.GELU,\n",
    "                 norm_layer=nn.LayerNorm,\n",
    "                 init='trunc_norm',\n",
    "                 spec=None):\n",
    "        super().__init__()\n",
    "        self.num_classes = num_classes\n",
    "\n",
    "        self.num_stages = spec['NUM_STAGES']\n",
    "        self.stages = nn.ModuleList()\n",
    "        for i in range(self.num_stages):\n",
    "            kwargs = {\n",
    "                'patch_size': spec['PATCH_SIZE'][i],\n",
    "                'patch_stride': spec['PATCH_STRIDE'][i],\n",
    "                'patch_padding': spec['PATCH_PADDING'][i],\n",
    "                'embed_dim': spec['DIM_EMBED'][i],\n",
    "                'depth': spec['DEPTH'][i],\n",
    "                'num_heads': spec['NUM_HEADS'][i],\n",
    "                'mlp_ratio': spec['MLP_RATIO'][i],\n",
    "                'qkv_bias': spec['QKV_BIAS'][i],\n",
    "                'drop_rate': spec['DROP_RATE'][i],\n",
    "                'attn_drop_rate': spec['ATTN_DROP_RATE'][i],\n",
    "                'drop_path_rate': spec['DROP_PATH_RATE'][i],\n",
    "                'kernel_size': spec['KERNEL_QKV'][i],\n",
    "                'padding_q': spec['PADDING_Q'][i],\n",
    "                'padding_kv': spec['PADDING_KV'][i],\n",
    "                'stride_q': spec['STRIDE_Q'][i],\n",
    "                'stride_kv': spec['STRIDE_KV'][i],\n",
    "            }\n",
    "\n",
    "            stage = VisionTransformer(\n",
    "                in_chans=in_chans,\n",
    "                init=init,\n",
    "                act_layer=act_layer,\n",
    "                norm_layer=norm_layer,\n",
    "                **kwargs\n",
    "            )\n",
    "            \n",
    "            self.stages.append(stage)\n",
    "\n",
    "            in_chans = spec['DIM_EMBED'][i]\n",
    "\n",
    "        dim_embed = spec['DIM_EMBED'][-1]\n",
    "        self.norm = norm_layer(dim_embed)\n",
    "        self.pooler = nn.AdaptiveAvgPool1d(1)\n",
    "\n",
    "        # Classifier head\n",
    "        self.head = nn.Linear(dim_embed, num_classes) if num_classes > 0 else nn.Identity()\n",
    "        trunc_normal_(self.head.weight, std=0.02)\n",
    "\n",
    "    def forward_features(self, x):\n",
    "        for stage in self.stages:\n",
    "            x = stage(x)\n",
    "\n",
    "        x = rearrange(x, 'b c h w -> b (h w) c') # (B, L, C)\n",
    "        x = self.norm(x)                         # (B, L, C)\n",
    "        x = self.pooler(x.transpose(1,2))        # (B, C, 1)\n",
    "        x = torch.flatten(x, 1)                  # (B, C)\n",
    "        # x = torch.mean(x, dim=1)\n",
    "\n",
    "        return x\n",
    "\n",
    "    def forward(self, x):\n",
    "        x = self.forward_features(x)\n",
    "        x = self.head(x)\n",
    "\n",
    "        return x"
   ]
  },
  {
   "cell_type": "code",
   "execution_count": 12,
   "metadata": {},
   "outputs": [],
   "source": [
    "class QuickGELU(nn.Module):\n",
    "    def forward(self, x: torch.Tensor):\n",
    "        return x * torch.sigmoid(1.702 * x)"
   ]
  },
  {
   "cell_type": "code",
   "execution_count": 13,
   "metadata": {},
   "outputs": [
    {
     "data": {
      "text/plain": [
       "{'NUM_STAGES': 3,\n",
       " 'PATCH_SIZE': [7, 3, 3],\n",
       " 'PATCH_STRIDE': [4, 2, 2],\n",
       " 'PATCH_PADDING': [2, 1, 1],\n",
       " 'DIM_EMBED': [64, 192, 384],\n",
       " 'DEPTH': [1, 4, 16],\n",
       " 'NUM_HEADS': [4, 8, 12],\n",
       " 'MLP_RATIO': [4.0, 4.0, 4.0],\n",
       " 'QKV_BIAS': [True, True, True],\n",
       " 'DROP_RATE': [0.0, 0.0, 0.0],\n",
       " 'ATTN_DROP_RATE': [0.0, 0.0, 0.0],\n",
       " 'DROP_PATH_RATE': [0.0, 0.0, 0.1],\n",
       " 'KERNEL_QKV': [3, 3, 3],\n",
       " 'PADDING_Q': [1, 1, 1],\n",
       " 'PADDING_KV': [1, 1, 1],\n",
       " 'STRIDE_Q': [1, 1, 1],\n",
       " 'STRIDE_KV': [2, 2, 2]}"
      ]
     },
     "execution_count": 13,
     "metadata": {},
     "output_type": "execute_result"
    }
   ],
   "source": [
    "spec = {\n",
    "    'NUM_STAGES': 3,\n",
    "    'PATCH_SIZE': [7,3,3],\n",
    "    'PATCH_STRIDE': [4,2,2],\n",
    "    'PATCH_PADDING': [2,1,1],\n",
    "    'DIM_EMBED': [64,192,384],\n",
    "    'DEPTH': [1,4,16],\n",
    "    'NUM_HEADS': [4,8,12],   # original : [1,3,6]\n",
    "    'MLP_RATIO': [4.,4.,4.],\n",
    "    'QKV_BIAS': [True, True, True],\n",
    "    'DROP_RATE': [0.,0.,0.],\n",
    "    'ATTN_DROP_RATE': [0.,0.,0.],\n",
    "    'DROP_PATH_RATE': [0.,0.,0.1],\n",
    "    'KERNEL_QKV': [3,3,3],\n",
    "    'PADDING_Q': [1,1,1],\n",
    "    'PADDING_KV': [1,1,1],\n",
    "    'STRIDE_Q': [1,1,1],\n",
    "    'STRIDE_KV': [2,2,2],\n",
    "}\n",
    "\n",
    "spec"
   ]
  },
  {
   "cell_type": "code",
   "execution_count": 14,
   "metadata": {},
   "outputs": [
    {
     "data": {
      "text/plain": [
       "(torch.Size([2, 3, 224, 224]),\n",
       " torch.Size([2, 100]),\n",
       " tensor([[ 0.5680, -0.0057,  0.5946,  0.0385,  0.1394, -0.4408,  0.1991, -0.0863,\n",
       "          -0.0762, -0.9897,  0.5844, -0.3974,  0.4217,  0.3002, -0.2848,  0.1161,\n",
       "           0.2713,  0.1472,  0.0833, -0.1968, -0.1434,  0.3077, -0.3165,  0.0938,\n",
       "           0.2148, -0.3096,  0.9389, -0.0318,  0.1504, -0.3587, -0.0405, -0.1200,\n",
       "           0.8807, -0.2950,  0.1503, -0.0039,  0.1678, -0.0882, -0.3214,  0.4466,\n",
       "          -0.0205, -0.3986,  0.0051, -0.4183,  0.4481,  0.1568, -0.8254,  0.3245,\n",
       "           0.2808,  0.2390,  0.4356,  0.3853, -0.2138, -0.2399,  0.4059,  0.1947,\n",
       "          -0.2538, -0.4597, -0.7134,  0.3248, -0.4259, -0.0985, -0.2268,  0.2928,\n",
       "           0.4572, -0.5515,  0.9746,  0.7403, -0.3231,  0.0473, -0.1068, -0.2116,\n",
       "           0.3023, -0.0855, -0.2746,  0.7141, -0.4178,  0.1195, -0.2360,  0.1622,\n",
       "          -0.4796,  0.2125, -0.5273, -0.1647,  0.1081, -0.1915, -0.0366,  0.1757,\n",
       "          -0.3771, -0.1716, -0.5485,  0.2024,  0.5165,  0.3597,  0.4164, -0.2580,\n",
       "          -0.1428, -0.3123,  0.1375, -0.1437],\n",
       "         [ 0.5680, -0.0057,  0.5946,  0.0385,  0.1394, -0.4408,  0.1991, -0.0863,\n",
       "          -0.0762, -0.9897,  0.5844, -0.3974,  0.4217,  0.3002, -0.2848,  0.1161,\n",
       "           0.2713,  0.1472,  0.0833, -0.1968, -0.1434,  0.3077, -0.3165,  0.0938,\n",
       "           0.2148, -0.3096,  0.9389, -0.0318,  0.1504, -0.3587, -0.0405, -0.1200,\n",
       "           0.8807, -0.2950,  0.1503, -0.0039,  0.1678, -0.0882, -0.3214,  0.4466,\n",
       "          -0.0205, -0.3986,  0.0051, -0.4183,  0.4481,  0.1568, -0.8254,  0.3245,\n",
       "           0.2808,  0.2390,  0.4356,  0.3853, -0.2138, -0.2399,  0.4059,  0.1947,\n",
       "          -0.2538, -0.4597, -0.7134,  0.3248, -0.4259, -0.0985, -0.2268,  0.2928,\n",
       "           0.4572, -0.5515,  0.9746,  0.7403, -0.3231,  0.0473, -0.1068, -0.2116,\n",
       "           0.3023, -0.0855, -0.2746,  0.7141, -0.4178,  0.1195, -0.2360,  0.1622,\n",
       "          -0.4796,  0.2125, -0.5273, -0.1647,  0.1081, -0.1915, -0.0366,  0.1757,\n",
       "          -0.3771, -0.1716, -0.5485,  0.2024,  0.5165,  0.3597,  0.4164, -0.2580,\n",
       "          -0.1428, -0.3123,  0.1375, -0.1437]], grad_fn=<AddmmBackward0>))"
      ]
     },
     "execution_count": 14,
     "metadata": {},
     "output_type": "execute_result"
    }
   ],
   "source": [
    "model = ConvolutionalVisionTransformer(act_layer=QuickGELU, spec=spec)\n",
    "\n",
    "test_result = model(test_img)\n",
    "test_img.shape, test_result.shape, test_result"
   ]
  },
  {
   "cell_type": "code",
   "execution_count": 15,
   "metadata": {},
   "outputs": [
    {
     "name": "stdout",
     "output_type": "stream",
     "text": [
      "----------------------------------------------------------------\n",
      "        Layer (type)               Output Shape         Param #\n",
      "================================================================\n",
      "            Conv2d-1           [-1, 64, 56, 56]           9,472\n",
      "         LayerNorm-2             [-1, 3136, 64]             128\n",
      "         ConvEmbed-3           [-1, 64, 56, 56]               0\n",
      "           Dropout-4             [-1, 3136, 64]               0\n",
      "         LayerNorm-5             [-1, 3136, 64]             128\n",
      "            Conv2d-6           [-1, 64, 56, 56]             576\n",
      "       BatchNorm2d-7           [-1, 64, 56, 56]             128\n",
      "         Rearrange-8             [-1, 3136, 64]               0\n",
      "            Conv2d-9           [-1, 64, 28, 28]             576\n",
      "      BatchNorm2d-10           [-1, 64, 28, 28]             128\n",
      "        Rearrange-11              [-1, 784, 64]               0\n",
      "           Conv2d-12           [-1, 64, 28, 28]             576\n",
      "      BatchNorm2d-13           [-1, 64, 28, 28]             128\n",
      "        Rearrange-14              [-1, 784, 64]               0\n",
      "           Linear-15             [-1, 3136, 64]           4,160\n",
      "           Linear-16              [-1, 784, 64]           4,160\n",
      "           Linear-17              [-1, 784, 64]           4,160\n",
      "          Dropout-18         [-1, 4, 3136, 784]               0\n",
      "           Linear-19             [-1, 3136, 64]           4,160\n",
      "          Dropout-20             [-1, 3136, 64]               0\n",
      "    AttentionConv-21             [-1, 3136, 64]               0\n",
      "       LayerScale-22             [-1, 3136, 64]               0\n",
      "         Identity-23             [-1, 3136, 64]               0\n",
      "        LayerNorm-24             [-1, 3136, 64]             128\n",
      "           Linear-25            [-1, 3136, 256]          16,640\n",
      "        QuickGELU-26            [-1, 3136, 256]               0\n",
      "           Linear-27             [-1, 3136, 64]          16,448\n",
      "          Dropout-28             [-1, 3136, 64]               0\n",
      "       LayerScale-29             [-1, 3136, 64]               0\n",
      "         Identity-30             [-1, 3136, 64]               0\n",
      "            Block-31             [-1, 3136, 64]               0\n",
      "VisionTransformer-32           [-1, 64, 56, 56]               0\n",
      "           Conv2d-33          [-1, 192, 28, 28]         110,784\n",
      "        LayerNorm-34             [-1, 784, 192]             384\n",
      "        ConvEmbed-35          [-1, 192, 28, 28]               0\n",
      "          Dropout-36             [-1, 784, 192]               0\n",
      "        LayerNorm-37             [-1, 784, 192]             384\n",
      "           Conv2d-38          [-1, 192, 28, 28]           1,728\n",
      "      BatchNorm2d-39          [-1, 192, 28, 28]             384\n",
      "        Rearrange-40             [-1, 784, 192]               0\n",
      "           Conv2d-41          [-1, 192, 14, 14]           1,728\n",
      "      BatchNorm2d-42          [-1, 192, 14, 14]             384\n",
      "        Rearrange-43             [-1, 196, 192]               0\n",
      "           Conv2d-44          [-1, 192, 14, 14]           1,728\n",
      "      BatchNorm2d-45          [-1, 192, 14, 14]             384\n",
      "        Rearrange-46             [-1, 196, 192]               0\n",
      "           Linear-47             [-1, 784, 192]          37,056\n",
      "           Linear-48             [-1, 196, 192]          37,056\n",
      "           Linear-49             [-1, 196, 192]          37,056\n",
      "          Dropout-50          [-1, 8, 784, 196]               0\n",
      "           Linear-51             [-1, 784, 192]          37,056\n",
      "          Dropout-52             [-1, 784, 192]               0\n",
      "    AttentionConv-53             [-1, 784, 192]               0\n",
      "       LayerScale-54             [-1, 784, 192]               0\n",
      "         Identity-55             [-1, 784, 192]               0\n",
      "        LayerNorm-56             [-1, 784, 192]             384\n",
      "           Linear-57             [-1, 784, 768]         148,224\n",
      "        QuickGELU-58             [-1, 784, 768]               0\n",
      "           Linear-59             [-1, 784, 192]         147,648\n",
      "          Dropout-60             [-1, 784, 192]               0\n",
      "       LayerScale-61             [-1, 784, 192]               0\n",
      "         Identity-62             [-1, 784, 192]               0\n",
      "            Block-63             [-1, 784, 192]               0\n",
      "        LayerNorm-64             [-1, 784, 192]             384\n",
      "           Conv2d-65          [-1, 192, 28, 28]           1,728\n",
      "      BatchNorm2d-66          [-1, 192, 28, 28]             384\n",
      "        Rearrange-67             [-1, 784, 192]               0\n",
      "           Conv2d-68          [-1, 192, 14, 14]           1,728\n",
      "      BatchNorm2d-69          [-1, 192, 14, 14]             384\n",
      "        Rearrange-70             [-1, 196, 192]               0\n",
      "           Conv2d-71          [-1, 192, 14, 14]           1,728\n",
      "      BatchNorm2d-72          [-1, 192, 14, 14]             384\n",
      "        Rearrange-73             [-1, 196, 192]               0\n",
      "           Linear-74             [-1, 784, 192]          37,056\n",
      "           Linear-75             [-1, 196, 192]          37,056\n",
      "           Linear-76             [-1, 196, 192]          37,056\n",
      "          Dropout-77          [-1, 8, 784, 196]               0\n",
      "           Linear-78             [-1, 784, 192]          37,056\n",
      "          Dropout-79             [-1, 784, 192]               0\n",
      "    AttentionConv-80             [-1, 784, 192]               0\n",
      "       LayerScale-81             [-1, 784, 192]               0\n",
      "         Identity-82             [-1, 784, 192]               0\n",
      "        LayerNorm-83             [-1, 784, 192]             384\n",
      "           Linear-84             [-1, 784, 768]         148,224\n",
      "        QuickGELU-85             [-1, 784, 768]               0\n",
      "           Linear-86             [-1, 784, 192]         147,648\n",
      "          Dropout-87             [-1, 784, 192]               0\n",
      "       LayerScale-88             [-1, 784, 192]               0\n",
      "         Identity-89             [-1, 784, 192]               0\n",
      "            Block-90             [-1, 784, 192]               0\n",
      "        LayerNorm-91             [-1, 784, 192]             384\n",
      "           Conv2d-92          [-1, 192, 28, 28]           1,728\n",
      "      BatchNorm2d-93          [-1, 192, 28, 28]             384\n",
      "        Rearrange-94             [-1, 784, 192]               0\n",
      "           Conv2d-95          [-1, 192, 14, 14]           1,728\n",
      "      BatchNorm2d-96          [-1, 192, 14, 14]             384\n",
      "        Rearrange-97             [-1, 196, 192]               0\n",
      "           Conv2d-98          [-1, 192, 14, 14]           1,728\n",
      "      BatchNorm2d-99          [-1, 192, 14, 14]             384\n",
      "       Rearrange-100             [-1, 196, 192]               0\n",
      "          Linear-101             [-1, 784, 192]          37,056\n",
      "          Linear-102             [-1, 196, 192]          37,056\n",
      "          Linear-103             [-1, 196, 192]          37,056\n",
      "         Dropout-104          [-1, 8, 784, 196]               0\n",
      "          Linear-105             [-1, 784, 192]          37,056\n",
      "         Dropout-106             [-1, 784, 192]               0\n",
      "   AttentionConv-107             [-1, 784, 192]               0\n",
      "      LayerScale-108             [-1, 784, 192]               0\n",
      "        Identity-109             [-1, 784, 192]               0\n",
      "       LayerNorm-110             [-1, 784, 192]             384\n",
      "          Linear-111             [-1, 784, 768]         148,224\n",
      "       QuickGELU-112             [-1, 784, 768]               0\n",
      "          Linear-113             [-1, 784, 192]         147,648\n",
      "         Dropout-114             [-1, 784, 192]               0\n",
      "      LayerScale-115             [-1, 784, 192]               0\n",
      "        Identity-116             [-1, 784, 192]               0\n",
      "           Block-117             [-1, 784, 192]               0\n",
      "       LayerNorm-118             [-1, 784, 192]             384\n",
      "          Conv2d-119          [-1, 192, 28, 28]           1,728\n",
      "     BatchNorm2d-120          [-1, 192, 28, 28]             384\n",
      "       Rearrange-121             [-1, 784, 192]               0\n",
      "          Conv2d-122          [-1, 192, 14, 14]           1,728\n",
      "     BatchNorm2d-123          [-1, 192, 14, 14]             384\n",
      "       Rearrange-124             [-1, 196, 192]               0\n",
      "          Conv2d-125          [-1, 192, 14, 14]           1,728\n",
      "     BatchNorm2d-126          [-1, 192, 14, 14]             384\n",
      "       Rearrange-127             [-1, 196, 192]               0\n",
      "          Linear-128             [-1, 784, 192]          37,056\n",
      "          Linear-129             [-1, 196, 192]          37,056\n",
      "          Linear-130             [-1, 196, 192]          37,056\n",
      "         Dropout-131          [-1, 8, 784, 196]               0\n",
      "          Linear-132             [-1, 784, 192]          37,056\n",
      "         Dropout-133             [-1, 784, 192]               0\n",
      "   AttentionConv-134             [-1, 784, 192]               0\n",
      "      LayerScale-135             [-1, 784, 192]               0\n",
      "        Identity-136             [-1, 784, 192]               0\n",
      "       LayerNorm-137             [-1, 784, 192]             384\n",
      "          Linear-138             [-1, 784, 768]         148,224\n",
      "       QuickGELU-139             [-1, 784, 768]               0\n",
      "          Linear-140             [-1, 784, 192]         147,648\n",
      "         Dropout-141             [-1, 784, 192]               0\n",
      "      LayerScale-142             [-1, 784, 192]               0\n",
      "        Identity-143             [-1, 784, 192]               0\n",
      "           Block-144             [-1, 784, 192]               0\n",
      "VisionTransformer-145          [-1, 192, 28, 28]               0\n",
      "          Conv2d-146          [-1, 384, 14, 14]         663,936\n",
      "       LayerNorm-147             [-1, 196, 384]             768\n",
      "       ConvEmbed-148          [-1, 384, 14, 14]               0\n",
      "         Dropout-149             [-1, 196, 384]               0\n",
      "       LayerNorm-150             [-1, 196, 384]             768\n",
      "          Conv2d-151          [-1, 384, 14, 14]           3,456\n",
      "     BatchNorm2d-152          [-1, 384, 14, 14]             768\n",
      "       Rearrange-153             [-1, 196, 384]               0\n",
      "          Conv2d-154            [-1, 384, 7, 7]           3,456\n",
      "     BatchNorm2d-155            [-1, 384, 7, 7]             768\n",
      "       Rearrange-156              [-1, 49, 384]               0\n",
      "          Conv2d-157            [-1, 384, 7, 7]           3,456\n",
      "     BatchNorm2d-158            [-1, 384, 7, 7]             768\n",
      "       Rearrange-159              [-1, 49, 384]               0\n",
      "          Linear-160             [-1, 196, 384]         147,840\n",
      "          Linear-161              [-1, 49, 384]         147,840\n",
      "          Linear-162              [-1, 49, 384]         147,840\n",
      "         Dropout-163          [-1, 12, 196, 49]               0\n",
      "          Linear-164             [-1, 196, 384]         147,840\n",
      "         Dropout-165             [-1, 196, 384]               0\n",
      "   AttentionConv-166             [-1, 196, 384]               0\n",
      "      LayerScale-167             [-1, 196, 384]               0\n",
      "        DropPath-168             [-1, 196, 384]               0\n",
      "       LayerNorm-169             [-1, 196, 384]             768\n",
      "          Linear-170            [-1, 196, 1536]         591,360\n",
      "       QuickGELU-171            [-1, 196, 1536]               0\n",
      "          Linear-172             [-1, 196, 384]         590,208\n",
      "         Dropout-173             [-1, 196, 384]               0\n",
      "      LayerScale-174             [-1, 196, 384]               0\n",
      "        DropPath-175             [-1, 196, 384]               0\n",
      "           Block-176             [-1, 196, 384]               0\n",
      "       LayerNorm-177             [-1, 196, 384]             768\n",
      "          Conv2d-178          [-1, 384, 14, 14]           3,456\n",
      "     BatchNorm2d-179          [-1, 384, 14, 14]             768\n",
      "       Rearrange-180             [-1, 196, 384]               0\n",
      "          Conv2d-181            [-1, 384, 7, 7]           3,456\n",
      "     BatchNorm2d-182            [-1, 384, 7, 7]             768\n",
      "       Rearrange-183              [-1, 49, 384]               0\n",
      "          Conv2d-184            [-1, 384, 7, 7]           3,456\n",
      "     BatchNorm2d-185            [-1, 384, 7, 7]             768\n",
      "       Rearrange-186              [-1, 49, 384]               0\n",
      "          Linear-187             [-1, 196, 384]         147,840\n",
      "          Linear-188              [-1, 49, 384]         147,840\n",
      "          Linear-189              [-1, 49, 384]         147,840\n",
      "         Dropout-190          [-1, 12, 196, 49]               0\n",
      "          Linear-191             [-1, 196, 384]         147,840\n",
      "         Dropout-192             [-1, 196, 384]               0\n",
      "   AttentionConv-193             [-1, 196, 384]               0\n",
      "      LayerScale-194             [-1, 196, 384]               0\n",
      "        DropPath-195             [-1, 196, 384]               0\n",
      "       LayerNorm-196             [-1, 196, 384]             768\n",
      "          Linear-197            [-1, 196, 1536]         591,360\n",
      "       QuickGELU-198            [-1, 196, 1536]               0\n",
      "          Linear-199             [-1, 196, 384]         590,208\n",
      "         Dropout-200             [-1, 196, 384]               0\n",
      "      LayerScale-201             [-1, 196, 384]               0\n",
      "        DropPath-202             [-1, 196, 384]               0\n",
      "           Block-203             [-1, 196, 384]               0\n",
      "       LayerNorm-204             [-1, 196, 384]             768\n",
      "          Conv2d-205          [-1, 384, 14, 14]           3,456\n",
      "     BatchNorm2d-206          [-1, 384, 14, 14]             768\n",
      "       Rearrange-207             [-1, 196, 384]               0\n",
      "          Conv2d-208            [-1, 384, 7, 7]           3,456\n",
      "     BatchNorm2d-209            [-1, 384, 7, 7]             768\n",
      "       Rearrange-210              [-1, 49, 384]               0\n",
      "          Conv2d-211            [-1, 384, 7, 7]           3,456\n",
      "     BatchNorm2d-212            [-1, 384, 7, 7]             768\n",
      "       Rearrange-213              [-1, 49, 384]               0\n",
      "          Linear-214             [-1, 196, 384]         147,840\n",
      "          Linear-215              [-1, 49, 384]         147,840\n",
      "          Linear-216              [-1, 49, 384]         147,840\n",
      "         Dropout-217          [-1, 12, 196, 49]               0\n",
      "          Linear-218             [-1, 196, 384]         147,840\n",
      "         Dropout-219             [-1, 196, 384]               0\n",
      "   AttentionConv-220             [-1, 196, 384]               0\n",
      "      LayerScale-221             [-1, 196, 384]               0\n",
      "        DropPath-222             [-1, 196, 384]               0\n",
      "       LayerNorm-223             [-1, 196, 384]             768\n",
      "          Linear-224            [-1, 196, 1536]         591,360\n",
      "       QuickGELU-225            [-1, 196, 1536]               0\n",
      "          Linear-226             [-1, 196, 384]         590,208\n",
      "         Dropout-227             [-1, 196, 384]               0\n",
      "      LayerScale-228             [-1, 196, 384]               0\n",
      "        DropPath-229             [-1, 196, 384]               0\n",
      "           Block-230             [-1, 196, 384]               0\n",
      "       LayerNorm-231             [-1, 196, 384]             768\n",
      "          Conv2d-232          [-1, 384, 14, 14]           3,456\n",
      "     BatchNorm2d-233          [-1, 384, 14, 14]             768\n",
      "       Rearrange-234             [-1, 196, 384]               0\n",
      "          Conv2d-235            [-1, 384, 7, 7]           3,456\n",
      "     BatchNorm2d-236            [-1, 384, 7, 7]             768\n",
      "       Rearrange-237              [-1, 49, 384]               0\n",
      "          Conv2d-238            [-1, 384, 7, 7]           3,456\n",
      "     BatchNorm2d-239            [-1, 384, 7, 7]             768\n",
      "       Rearrange-240              [-1, 49, 384]               0\n",
      "          Linear-241             [-1, 196, 384]         147,840\n",
      "          Linear-242              [-1, 49, 384]         147,840\n",
      "          Linear-243              [-1, 49, 384]         147,840\n",
      "         Dropout-244          [-1, 12, 196, 49]               0\n",
      "          Linear-245             [-1, 196, 384]         147,840\n",
      "         Dropout-246             [-1, 196, 384]               0\n",
      "   AttentionConv-247             [-1, 196, 384]               0\n",
      "      LayerScale-248             [-1, 196, 384]               0\n",
      "        DropPath-249             [-1, 196, 384]               0\n",
      "       LayerNorm-250             [-1, 196, 384]             768\n",
      "          Linear-251            [-1, 196, 1536]         591,360\n",
      "       QuickGELU-252            [-1, 196, 1536]               0\n",
      "          Linear-253             [-1, 196, 384]         590,208\n",
      "         Dropout-254             [-1, 196, 384]               0\n",
      "      LayerScale-255             [-1, 196, 384]               0\n",
      "        DropPath-256             [-1, 196, 384]               0\n",
      "           Block-257             [-1, 196, 384]               0\n",
      "       LayerNorm-258             [-1, 196, 384]             768\n",
      "          Conv2d-259          [-1, 384, 14, 14]           3,456\n",
      "     BatchNorm2d-260          [-1, 384, 14, 14]             768\n",
      "       Rearrange-261             [-1, 196, 384]               0\n",
      "          Conv2d-262            [-1, 384, 7, 7]           3,456\n",
      "     BatchNorm2d-263            [-1, 384, 7, 7]             768\n",
      "       Rearrange-264              [-1, 49, 384]               0\n",
      "          Conv2d-265            [-1, 384, 7, 7]           3,456\n",
      "     BatchNorm2d-266            [-1, 384, 7, 7]             768\n",
      "       Rearrange-267              [-1, 49, 384]               0\n",
      "          Linear-268             [-1, 196, 384]         147,840\n",
      "          Linear-269              [-1, 49, 384]         147,840\n",
      "          Linear-270              [-1, 49, 384]         147,840\n",
      "         Dropout-271          [-1, 12, 196, 49]               0\n",
      "          Linear-272             [-1, 196, 384]         147,840\n",
      "         Dropout-273             [-1, 196, 384]               0\n",
      "   AttentionConv-274             [-1, 196, 384]               0\n",
      "      LayerScale-275             [-1, 196, 384]               0\n",
      "        DropPath-276             [-1, 196, 384]               0\n",
      "       LayerNorm-277             [-1, 196, 384]             768\n",
      "          Linear-278            [-1, 196, 1536]         591,360\n",
      "       QuickGELU-279            [-1, 196, 1536]               0\n",
      "          Linear-280             [-1, 196, 384]         590,208\n",
      "         Dropout-281             [-1, 196, 384]               0\n",
      "      LayerScale-282             [-1, 196, 384]               0\n",
      "        DropPath-283             [-1, 196, 384]               0\n",
      "           Block-284             [-1, 196, 384]               0\n",
      "       LayerNorm-285             [-1, 196, 384]             768\n",
      "          Conv2d-286          [-1, 384, 14, 14]           3,456\n",
      "     BatchNorm2d-287          [-1, 384, 14, 14]             768\n",
      "       Rearrange-288             [-1, 196, 384]               0\n",
      "          Conv2d-289            [-1, 384, 7, 7]           3,456\n",
      "     BatchNorm2d-290            [-1, 384, 7, 7]             768\n",
      "       Rearrange-291              [-1, 49, 384]               0\n",
      "          Conv2d-292            [-1, 384, 7, 7]           3,456\n",
      "     BatchNorm2d-293            [-1, 384, 7, 7]             768\n",
      "       Rearrange-294              [-1, 49, 384]               0\n",
      "          Linear-295             [-1, 196, 384]         147,840\n",
      "          Linear-296              [-1, 49, 384]         147,840\n",
      "          Linear-297              [-1, 49, 384]         147,840\n",
      "         Dropout-298          [-1, 12, 196, 49]               0\n",
      "          Linear-299             [-1, 196, 384]         147,840\n",
      "         Dropout-300             [-1, 196, 384]               0\n",
      "   AttentionConv-301             [-1, 196, 384]               0\n",
      "      LayerScale-302             [-1, 196, 384]               0\n",
      "        DropPath-303             [-1, 196, 384]               0\n",
      "       LayerNorm-304             [-1, 196, 384]             768\n",
      "          Linear-305            [-1, 196, 1536]         591,360\n",
      "       QuickGELU-306            [-1, 196, 1536]               0\n",
      "          Linear-307             [-1, 196, 384]         590,208\n",
      "         Dropout-308             [-1, 196, 384]               0\n",
      "      LayerScale-309             [-1, 196, 384]               0\n",
      "        DropPath-310             [-1, 196, 384]               0\n",
      "           Block-311             [-1, 196, 384]               0\n",
      "       LayerNorm-312             [-1, 196, 384]             768\n",
      "          Conv2d-313          [-1, 384, 14, 14]           3,456\n",
      "     BatchNorm2d-314          [-1, 384, 14, 14]             768\n",
      "       Rearrange-315             [-1, 196, 384]               0\n",
      "          Conv2d-316            [-1, 384, 7, 7]           3,456\n",
      "     BatchNorm2d-317            [-1, 384, 7, 7]             768\n",
      "       Rearrange-318              [-1, 49, 384]               0\n",
      "          Conv2d-319            [-1, 384, 7, 7]           3,456\n",
      "     BatchNorm2d-320            [-1, 384, 7, 7]             768\n",
      "       Rearrange-321              [-1, 49, 384]               0\n",
      "          Linear-322             [-1, 196, 384]         147,840\n",
      "          Linear-323              [-1, 49, 384]         147,840\n",
      "          Linear-324              [-1, 49, 384]         147,840\n",
      "         Dropout-325          [-1, 12, 196, 49]               0\n",
      "          Linear-326             [-1, 196, 384]         147,840\n",
      "         Dropout-327             [-1, 196, 384]               0\n",
      "   AttentionConv-328             [-1, 196, 384]               0\n",
      "      LayerScale-329             [-1, 196, 384]               0\n",
      "        DropPath-330             [-1, 196, 384]               0\n",
      "       LayerNorm-331             [-1, 196, 384]             768\n",
      "          Linear-332            [-1, 196, 1536]         591,360\n",
      "       QuickGELU-333            [-1, 196, 1536]               0\n",
      "          Linear-334             [-1, 196, 384]         590,208\n",
      "         Dropout-335             [-1, 196, 384]               0\n",
      "      LayerScale-336             [-1, 196, 384]               0\n",
      "        DropPath-337             [-1, 196, 384]               0\n",
      "           Block-338             [-1, 196, 384]               0\n",
      "       LayerNorm-339             [-1, 196, 384]             768\n",
      "          Conv2d-340          [-1, 384, 14, 14]           3,456\n",
      "     BatchNorm2d-341          [-1, 384, 14, 14]             768\n",
      "       Rearrange-342             [-1, 196, 384]               0\n",
      "          Conv2d-343            [-1, 384, 7, 7]           3,456\n",
      "     BatchNorm2d-344            [-1, 384, 7, 7]             768\n",
      "       Rearrange-345              [-1, 49, 384]               0\n",
      "          Conv2d-346            [-1, 384, 7, 7]           3,456\n",
      "     BatchNorm2d-347            [-1, 384, 7, 7]             768\n",
      "       Rearrange-348              [-1, 49, 384]               0\n",
      "          Linear-349             [-1, 196, 384]         147,840\n",
      "          Linear-350              [-1, 49, 384]         147,840\n",
      "          Linear-351              [-1, 49, 384]         147,840\n",
      "         Dropout-352          [-1, 12, 196, 49]               0\n",
      "          Linear-353             [-1, 196, 384]         147,840\n",
      "         Dropout-354             [-1, 196, 384]               0\n",
      "   AttentionConv-355             [-1, 196, 384]               0\n",
      "      LayerScale-356             [-1, 196, 384]               0\n",
      "        DropPath-357             [-1, 196, 384]               0\n",
      "       LayerNorm-358             [-1, 196, 384]             768\n",
      "          Linear-359            [-1, 196, 1536]         591,360\n",
      "       QuickGELU-360            [-1, 196, 1536]               0\n",
      "          Linear-361             [-1, 196, 384]         590,208\n",
      "         Dropout-362             [-1, 196, 384]               0\n",
      "      LayerScale-363             [-1, 196, 384]               0\n",
      "        DropPath-364             [-1, 196, 384]               0\n",
      "           Block-365             [-1, 196, 384]               0\n",
      "       LayerNorm-366             [-1, 196, 384]             768\n",
      "          Conv2d-367          [-1, 384, 14, 14]           3,456\n",
      "     BatchNorm2d-368          [-1, 384, 14, 14]             768\n",
      "       Rearrange-369             [-1, 196, 384]               0\n",
      "          Conv2d-370            [-1, 384, 7, 7]           3,456\n",
      "     BatchNorm2d-371            [-1, 384, 7, 7]             768\n",
      "       Rearrange-372              [-1, 49, 384]               0\n",
      "          Conv2d-373            [-1, 384, 7, 7]           3,456\n",
      "     BatchNorm2d-374            [-1, 384, 7, 7]             768\n",
      "       Rearrange-375              [-1, 49, 384]               0\n",
      "          Linear-376             [-1, 196, 384]         147,840\n",
      "          Linear-377              [-1, 49, 384]         147,840\n",
      "          Linear-378              [-1, 49, 384]         147,840\n",
      "         Dropout-379          [-1, 12, 196, 49]               0\n",
      "          Linear-380             [-1, 196, 384]         147,840\n",
      "         Dropout-381             [-1, 196, 384]               0\n",
      "   AttentionConv-382             [-1, 196, 384]               0\n",
      "      LayerScale-383             [-1, 196, 384]               0\n",
      "        DropPath-384             [-1, 196, 384]               0\n",
      "       LayerNorm-385             [-1, 196, 384]             768\n",
      "          Linear-386            [-1, 196, 1536]         591,360\n",
      "       QuickGELU-387            [-1, 196, 1536]               0\n",
      "          Linear-388             [-1, 196, 384]         590,208\n",
      "         Dropout-389             [-1, 196, 384]               0\n",
      "      LayerScale-390             [-1, 196, 384]               0\n",
      "        DropPath-391             [-1, 196, 384]               0\n",
      "           Block-392             [-1, 196, 384]               0\n",
      "       LayerNorm-393             [-1, 196, 384]             768\n",
      "          Conv2d-394          [-1, 384, 14, 14]           3,456\n",
      "     BatchNorm2d-395          [-1, 384, 14, 14]             768\n",
      "       Rearrange-396             [-1, 196, 384]               0\n",
      "          Conv2d-397            [-1, 384, 7, 7]           3,456\n",
      "     BatchNorm2d-398            [-1, 384, 7, 7]             768\n",
      "       Rearrange-399              [-1, 49, 384]               0\n",
      "          Conv2d-400            [-1, 384, 7, 7]           3,456\n",
      "     BatchNorm2d-401            [-1, 384, 7, 7]             768\n",
      "       Rearrange-402              [-1, 49, 384]               0\n",
      "          Linear-403             [-1, 196, 384]         147,840\n",
      "          Linear-404              [-1, 49, 384]         147,840\n",
      "          Linear-405              [-1, 49, 384]         147,840\n",
      "         Dropout-406          [-1, 12, 196, 49]               0\n",
      "          Linear-407             [-1, 196, 384]         147,840\n",
      "         Dropout-408             [-1, 196, 384]               0\n",
      "   AttentionConv-409             [-1, 196, 384]               0\n",
      "      LayerScale-410             [-1, 196, 384]               0\n",
      "        DropPath-411             [-1, 196, 384]               0\n",
      "       LayerNorm-412             [-1, 196, 384]             768\n",
      "          Linear-413            [-1, 196, 1536]         591,360\n",
      "       QuickGELU-414            [-1, 196, 1536]               0\n",
      "          Linear-415             [-1, 196, 384]         590,208\n",
      "         Dropout-416             [-1, 196, 384]               0\n",
      "      LayerScale-417             [-1, 196, 384]               0\n",
      "        DropPath-418             [-1, 196, 384]               0\n",
      "           Block-419             [-1, 196, 384]               0\n",
      "       LayerNorm-420             [-1, 196, 384]             768\n",
      "          Conv2d-421          [-1, 384, 14, 14]           3,456\n",
      "     BatchNorm2d-422          [-1, 384, 14, 14]             768\n",
      "       Rearrange-423             [-1, 196, 384]               0\n",
      "          Conv2d-424            [-1, 384, 7, 7]           3,456\n",
      "     BatchNorm2d-425            [-1, 384, 7, 7]             768\n",
      "       Rearrange-426              [-1, 49, 384]               0\n",
      "          Conv2d-427            [-1, 384, 7, 7]           3,456\n",
      "     BatchNorm2d-428            [-1, 384, 7, 7]             768\n",
      "       Rearrange-429              [-1, 49, 384]               0\n",
      "          Linear-430             [-1, 196, 384]         147,840\n",
      "          Linear-431              [-1, 49, 384]         147,840\n",
      "          Linear-432              [-1, 49, 384]         147,840\n",
      "         Dropout-433          [-1, 12, 196, 49]               0\n",
      "          Linear-434             [-1, 196, 384]         147,840\n",
      "         Dropout-435             [-1, 196, 384]               0\n",
      "   AttentionConv-436             [-1, 196, 384]               0\n",
      "      LayerScale-437             [-1, 196, 384]               0\n",
      "        DropPath-438             [-1, 196, 384]               0\n",
      "       LayerNorm-439             [-1, 196, 384]             768\n",
      "          Linear-440            [-1, 196, 1536]         591,360\n",
      "       QuickGELU-441            [-1, 196, 1536]               0\n",
      "          Linear-442             [-1, 196, 384]         590,208\n",
      "         Dropout-443             [-1, 196, 384]               0\n",
      "      LayerScale-444             [-1, 196, 384]               0\n",
      "        DropPath-445             [-1, 196, 384]               0\n",
      "           Block-446             [-1, 196, 384]               0\n",
      "       LayerNorm-447             [-1, 196, 384]             768\n",
      "          Conv2d-448          [-1, 384, 14, 14]           3,456\n",
      "     BatchNorm2d-449          [-1, 384, 14, 14]             768\n",
      "       Rearrange-450             [-1, 196, 384]               0\n",
      "          Conv2d-451            [-1, 384, 7, 7]           3,456\n",
      "     BatchNorm2d-452            [-1, 384, 7, 7]             768\n",
      "       Rearrange-453              [-1, 49, 384]               0\n",
      "          Conv2d-454            [-1, 384, 7, 7]           3,456\n",
      "     BatchNorm2d-455            [-1, 384, 7, 7]             768\n",
      "       Rearrange-456              [-1, 49, 384]               0\n",
      "          Linear-457             [-1, 196, 384]         147,840\n",
      "          Linear-458              [-1, 49, 384]         147,840\n",
      "          Linear-459              [-1, 49, 384]         147,840\n",
      "         Dropout-460          [-1, 12, 196, 49]               0\n",
      "          Linear-461             [-1, 196, 384]         147,840\n",
      "         Dropout-462             [-1, 196, 384]               0\n",
      "   AttentionConv-463             [-1, 196, 384]               0\n",
      "      LayerScale-464             [-1, 196, 384]               0\n",
      "        DropPath-465             [-1, 196, 384]               0\n",
      "       LayerNorm-466             [-1, 196, 384]             768\n",
      "          Linear-467            [-1, 196, 1536]         591,360\n",
      "       QuickGELU-468            [-1, 196, 1536]               0\n",
      "          Linear-469             [-1, 196, 384]         590,208\n",
      "         Dropout-470             [-1, 196, 384]               0\n",
      "      LayerScale-471             [-1, 196, 384]               0\n",
      "        DropPath-472             [-1, 196, 384]               0\n",
      "           Block-473             [-1, 196, 384]               0\n",
      "       LayerNorm-474             [-1, 196, 384]             768\n",
      "          Conv2d-475          [-1, 384, 14, 14]           3,456\n",
      "     BatchNorm2d-476          [-1, 384, 14, 14]             768\n",
      "       Rearrange-477             [-1, 196, 384]               0\n",
      "          Conv2d-478            [-1, 384, 7, 7]           3,456\n",
      "     BatchNorm2d-479            [-1, 384, 7, 7]             768\n",
      "       Rearrange-480              [-1, 49, 384]               0\n",
      "          Conv2d-481            [-1, 384, 7, 7]           3,456\n",
      "     BatchNorm2d-482            [-1, 384, 7, 7]             768\n",
      "       Rearrange-483              [-1, 49, 384]               0\n",
      "          Linear-484             [-1, 196, 384]         147,840\n",
      "          Linear-485              [-1, 49, 384]         147,840\n",
      "          Linear-486              [-1, 49, 384]         147,840\n",
      "         Dropout-487          [-1, 12, 196, 49]               0\n",
      "          Linear-488             [-1, 196, 384]         147,840\n",
      "         Dropout-489             [-1, 196, 384]               0\n",
      "   AttentionConv-490             [-1, 196, 384]               0\n",
      "      LayerScale-491             [-1, 196, 384]               0\n",
      "        DropPath-492             [-1, 196, 384]               0\n",
      "       LayerNorm-493             [-1, 196, 384]             768\n",
      "          Linear-494            [-1, 196, 1536]         591,360\n",
      "       QuickGELU-495            [-1, 196, 1536]               0\n",
      "          Linear-496             [-1, 196, 384]         590,208\n",
      "         Dropout-497             [-1, 196, 384]               0\n",
      "      LayerScale-498             [-1, 196, 384]               0\n",
      "        DropPath-499             [-1, 196, 384]               0\n",
      "           Block-500             [-1, 196, 384]               0\n",
      "       LayerNorm-501             [-1, 196, 384]             768\n",
      "          Conv2d-502          [-1, 384, 14, 14]           3,456\n",
      "     BatchNorm2d-503          [-1, 384, 14, 14]             768\n",
      "       Rearrange-504             [-1, 196, 384]               0\n",
      "          Conv2d-505            [-1, 384, 7, 7]           3,456\n",
      "     BatchNorm2d-506            [-1, 384, 7, 7]             768\n",
      "       Rearrange-507              [-1, 49, 384]               0\n",
      "          Conv2d-508            [-1, 384, 7, 7]           3,456\n",
      "     BatchNorm2d-509            [-1, 384, 7, 7]             768\n",
      "       Rearrange-510              [-1, 49, 384]               0\n",
      "          Linear-511             [-1, 196, 384]         147,840\n",
      "          Linear-512              [-1, 49, 384]         147,840\n",
      "          Linear-513              [-1, 49, 384]         147,840\n",
      "         Dropout-514          [-1, 12, 196, 49]               0\n",
      "          Linear-515             [-1, 196, 384]         147,840\n",
      "         Dropout-516             [-1, 196, 384]               0\n",
      "   AttentionConv-517             [-1, 196, 384]               0\n",
      "      LayerScale-518             [-1, 196, 384]               0\n",
      "        DropPath-519             [-1, 196, 384]               0\n",
      "       LayerNorm-520             [-1, 196, 384]             768\n",
      "          Linear-521            [-1, 196, 1536]         591,360\n",
      "       QuickGELU-522            [-1, 196, 1536]               0\n",
      "          Linear-523             [-1, 196, 384]         590,208\n",
      "         Dropout-524             [-1, 196, 384]               0\n",
      "      LayerScale-525             [-1, 196, 384]               0\n",
      "        DropPath-526             [-1, 196, 384]               0\n",
      "           Block-527             [-1, 196, 384]               0\n",
      "       LayerNorm-528             [-1, 196, 384]             768\n",
      "          Conv2d-529          [-1, 384, 14, 14]           3,456\n",
      "     BatchNorm2d-530          [-1, 384, 14, 14]             768\n",
      "       Rearrange-531             [-1, 196, 384]               0\n",
      "          Conv2d-532            [-1, 384, 7, 7]           3,456\n",
      "     BatchNorm2d-533            [-1, 384, 7, 7]             768\n",
      "       Rearrange-534              [-1, 49, 384]               0\n",
      "          Conv2d-535            [-1, 384, 7, 7]           3,456\n",
      "     BatchNorm2d-536            [-1, 384, 7, 7]             768\n",
      "       Rearrange-537              [-1, 49, 384]               0\n",
      "          Linear-538             [-1, 196, 384]         147,840\n",
      "          Linear-539              [-1, 49, 384]         147,840\n",
      "          Linear-540              [-1, 49, 384]         147,840\n",
      "         Dropout-541          [-1, 12, 196, 49]               0\n",
      "          Linear-542             [-1, 196, 384]         147,840\n",
      "         Dropout-543             [-1, 196, 384]               0\n",
      "   AttentionConv-544             [-1, 196, 384]               0\n",
      "      LayerScale-545             [-1, 196, 384]               0\n",
      "        DropPath-546             [-1, 196, 384]               0\n",
      "       LayerNorm-547             [-1, 196, 384]             768\n",
      "          Linear-548            [-1, 196, 1536]         591,360\n",
      "       QuickGELU-549            [-1, 196, 1536]               0\n",
      "          Linear-550             [-1, 196, 384]         590,208\n",
      "         Dropout-551             [-1, 196, 384]               0\n",
      "      LayerScale-552             [-1, 196, 384]               0\n",
      "        DropPath-553             [-1, 196, 384]               0\n",
      "           Block-554             [-1, 196, 384]               0\n",
      "       LayerNorm-555             [-1, 196, 384]             768\n",
      "          Conv2d-556          [-1, 384, 14, 14]           3,456\n",
      "     BatchNorm2d-557          [-1, 384, 14, 14]             768\n",
      "       Rearrange-558             [-1, 196, 384]               0\n",
      "          Conv2d-559            [-1, 384, 7, 7]           3,456\n",
      "     BatchNorm2d-560            [-1, 384, 7, 7]             768\n",
      "       Rearrange-561              [-1, 49, 384]               0\n",
      "          Conv2d-562            [-1, 384, 7, 7]           3,456\n",
      "     BatchNorm2d-563            [-1, 384, 7, 7]             768\n",
      "       Rearrange-564              [-1, 49, 384]               0\n",
      "          Linear-565             [-1, 196, 384]         147,840\n",
      "          Linear-566              [-1, 49, 384]         147,840\n",
      "          Linear-567              [-1, 49, 384]         147,840\n",
      "         Dropout-568          [-1, 12, 196, 49]               0\n",
      "          Linear-569             [-1, 196, 384]         147,840\n",
      "         Dropout-570             [-1, 196, 384]               0\n",
      "   AttentionConv-571             [-1, 196, 384]               0\n",
      "      LayerScale-572             [-1, 196, 384]               0\n",
      "        DropPath-573             [-1, 196, 384]               0\n",
      "       LayerNorm-574             [-1, 196, 384]             768\n",
      "          Linear-575            [-1, 196, 1536]         591,360\n",
      "       QuickGELU-576            [-1, 196, 1536]               0\n",
      "          Linear-577             [-1, 196, 384]         590,208\n",
      "         Dropout-578             [-1, 196, 384]               0\n",
      "      LayerScale-579             [-1, 196, 384]               0\n",
      "        DropPath-580             [-1, 196, 384]               0\n",
      "           Block-581             [-1, 196, 384]               0\n",
      "VisionTransformer-582          [-1, 384, 14, 14]               0\n",
      "       LayerNorm-583             [-1, 196, 384]             768\n",
      "AdaptiveAvgPool1d-584               [-1, 384, 1]               0\n",
      "          Linear-585                  [-1, 100]          38,500\n",
      "================================================================\n",
      "Total params: 31,275,812\n",
      "Trainable params: 31,275,812\n",
      "Non-trainable params: 0\n",
      "----------------------------------------------------------------\n",
      "Input size (MB): 0.57\n",
      "Forward/backward pass size (MB): 541.59\n",
      "Params size (MB): 119.31\n",
      "Estimated Total Size (MB): 661.47\n",
      "----------------------------------------------------------------\n"
     ]
    }
   ],
   "source": [
    "from torchsummary import summary\n",
    "\n",
    "summary(model.cuda(), (3, 224, 224))"
   ]
  },
  {
   "cell_type": "code",
   "execution_count": 16,
   "metadata": {},
   "outputs": [],
   "source": [
    "# Transforms 정의하기\n",
    "train_transform = transforms.Compose([\n",
    "    transforms.RandomResizedCrop(224, scale=(0.8,1), interpolation=transforms.InterpolationMode.LANCZOS),\n",
    "    transforms.RandomHorizontalFlip(),\n",
    "    transforms.ToTensor(),\n",
    "    transforms.Normalize(mean=[0.485, 0.456, 0.406], std=[0.229, 0.224, 0.225]),\n",
    "    transforms.RandomErasing(p=0.9, scale=(0.02, 0.33)),\n",
    "])\n",
    "\n",
    "test_transform = transforms.Compose([\n",
    "    transforms.ToTensor(),\n",
    "    transforms.Normalize(mean=[0.485, 0.456, 0.406], std=[0.229, 0.224, 0.225]),\n",
    "])\n",
    "\n",
    "data_dir = '../data/sports'\n",
    "batch_size = 256\n",
    "\n",
    "train_path = data_dir+'/train'\n",
    "valid_path = data_dir+'/valid'\n",
    "test_path = data_dir+'/test'\n",
    "\n",
    "# dataset load\n",
    "train_data = ImageFolder(train_path, transform=train_transform)\n",
    "valid_data = ImageFolder(valid_path, transform=test_transform)\n",
    "test_data = ImageFolder(test_path, transform=test_transform)\n",
    "\n",
    "train_loader = DataLoader(train_data, batch_size=batch_size, shuffle=True)\n",
    "valid_loader = DataLoader(valid_data, batch_size=batch_size, shuffle=False)\n",
    "test_loader = DataLoader(test_data, batch_size=batch_size, shuffle=False)"
   ]
  },
  {
   "cell_type": "code",
   "execution_count": 17,
   "metadata": {},
   "outputs": [],
   "source": [
    "device = 'cuda:3'\n",
    "max_norm = 1.0 \n",
    "\n",
    "model.to(device)\n",
    "model_path = '../models/cvt/model.pth'"
   ]
  },
  {
   "cell_type": "code",
   "execution_count": 18,
   "metadata": {},
   "outputs": [],
   "source": [
    "mixup_fn = Mixup(mixup_alpha=.7, \n",
    "                cutmix_alpha=1., \n",
    "                prob=.7, \n",
    "                switch_prob=0.5, \n",
    "                mode='batch',\n",
    "                label_smoothing=.1,\n",
    "                num_classes=100)\n",
    "\n",
    "epochs = 200\n",
    "\n",
    "criterion = nn.CrossEntropyLoss(label_smoothing=0.)"
   ]
  },
  {
   "cell_type": "code",
   "execution_count": 19,
   "metadata": {},
   "outputs": [
    {
     "name": "stderr",
     "output_type": "stream",
     "text": [
      "2024-01-23 10:53:38.246952: E external/local_xla/xla/stream_executor/cuda/cuda_dnn.cc:9261] Unable to register cuDNN factory: Attempting to register factory for plugin cuDNN when one has already been registered\n",
      "2024-01-23 10:53:38.247039: E external/local_xla/xla/stream_executor/cuda/cuda_fft.cc:607] Unable to register cuFFT factory: Attempting to register factory for plugin cuFFT when one has already been registered\n",
      "2024-01-23 10:53:38.247977: E external/local_xla/xla/stream_executor/cuda/cuda_blas.cc:1515] Unable to register cuBLAS factory: Attempting to register factory for plugin cuBLAS when one has already been registered\n",
      "2024-01-23 10:53:38.253913: I tensorflow/core/platform/cpu_feature_guard.cc:182] This TensorFlow binary is optimized to use available CPU instructions in performance-critical operations.\n",
      "To enable the following instructions: AVX2 FMA, in other operations, rebuild TensorFlow with the appropriate compiler flags.\n",
      "2024-01-23 10:53:39.044758: W tensorflow/compiler/tf2tensorrt/utils/py_utils.cc:38] TF-TRT Warning: Could not find TensorRT\n"
     ]
    }
   ],
   "source": [
    "optimizer = optim.AdamW(model.parameters())\n",
    "warmup_steps = int(len(train_loader)*(epochs)*0.1)\n",
    "train_steps = len(train_loader)*(epochs)\n",
    "scheduler = transformers.get_cosine_schedule_with_warmup(optimizer, \n",
    "                                                        num_warmup_steps=warmup_steps, \n",
    "                                                        num_training_steps=train_steps,\n",
    "                                                        num_cycles=0.5)"
   ]
  },
  {
   "cell_type": "code",
   "execution_count": 20,
   "metadata": {},
   "outputs": [
    {
     "name": "stderr",
     "output_type": "stream",
     "text": [
      "Epoch 1: 100%|██████████| 53/53 [01:06<00:00,  1.25s/it]\n"
     ]
    },
    {
     "name": "stdout",
     "output_type": "stream",
     "text": [
      "\tLoss: 4.537683864809432, Val Loss: 4.349697113037109, LR: 5e-05, Duration: 67.66 sec - model saved!\n"
     ]
    },
    {
     "name": "stderr",
     "output_type": "stream",
     "text": [
      "Epoch 2: 100%|██████████| 53/53 [01:05<00:00,  1.23s/it]\n"
     ]
    },
    {
     "name": "stdout",
     "output_type": "stream",
     "text": [
      "\tLoss: 4.394066378755389, Val Loss: 4.159721851348877, LR: 0.0001, Duration: 66.65 sec - model saved!\n"
     ]
    },
    {
     "name": "stderr",
     "output_type": "stream",
     "text": [
      "Epoch 3: 100%|██████████| 53/53 [01:06<00:00,  1.26s/it]\n"
     ]
    },
    {
     "name": "stdout",
     "output_type": "stream",
     "text": [
      "\tLoss: 4.306223248535732, Val Loss: 4.046639680862427, LR: 0.00015, Duration: 68.29 sec - model saved!\n"
     ]
    },
    {
     "name": "stderr",
     "output_type": "stream",
     "text": [
      "Epoch 4: 100%|██████████| 53/53 [01:07<00:00,  1.27s/it]\n"
     ]
    },
    {
     "name": "stdout",
     "output_type": "stream",
     "text": [
      "\tLoss: 4.2567208757940325, Val Loss: 3.9381972551345825, LR: 0.0002, Duration: 69.00 sec - model saved!\n"
     ]
    },
    {
     "name": "stderr",
     "output_type": "stream",
     "text": [
      "Epoch 5: 100%|██████████| 53/53 [01:08<00:00,  1.30s/it]\n"
     ]
    },
    {
     "name": "stdout",
     "output_type": "stream",
     "text": [
      "\tLoss: 4.197715907726648, Val Loss: 3.8908450603485107, LR: 0.00025, Duration: 70.39 sec - model saved!\n"
     ]
    },
    {
     "name": "stderr",
     "output_type": "stream",
     "text": [
      "Epoch 6: 100%|██████████| 53/53 [01:07<00:00,  1.28s/it]\n"
     ]
    },
    {
     "name": "stdout",
     "output_type": "stream",
     "text": [
      "\tLoss: 4.130865731329288, Val Loss: 3.727891445159912, LR: 0.0003, Duration: 69.49 sec - model saved!\n"
     ]
    },
    {
     "name": "stderr",
     "output_type": "stream",
     "text": [
      "Epoch 7: 100%|██████████| 53/53 [01:09<00:00,  1.32s/it]\n"
     ]
    },
    {
     "name": "stdout",
     "output_type": "stream",
     "text": [
      "\tLoss: 4.0832205133618045, Val Loss: 3.6004021167755127, LR: 0.00035, Duration: 71.47 sec - model saved!\n"
     ]
    },
    {
     "name": "stderr",
     "output_type": "stream",
     "text": [
      "Epoch 8: 100%|██████████| 53/53 [01:10<00:00,  1.33s/it]\n"
     ]
    },
    {
     "name": "stdout",
     "output_type": "stream",
     "text": [
      "\tLoss: 4.007168724851788, Val Loss: 3.513296604156494, LR: 0.0004, Duration: 72.45 sec - model saved!\n"
     ]
    },
    {
     "name": "stderr",
     "output_type": "stream",
     "text": [
      "Epoch 9: 100%|██████████| 53/53 [01:08<00:00,  1.29s/it]\n"
     ]
    },
    {
     "name": "stdout",
     "output_type": "stream",
     "text": [
      "\tLoss: 3.945372460023412, Val Loss: 3.4565677642822266, LR: 0.00045000000000000004, Duration: 70.56 sec - model saved!\n"
     ]
    },
    {
     "name": "stderr",
     "output_type": "stream",
     "text": [
      "Epoch 10: 100%|██████████| 53/53 [01:09<00:00,  1.32s/it]\n"
     ]
    },
    {
     "name": "stdout",
     "output_type": "stream",
     "text": [
      "\tLoss: 3.8746990887623913, Val Loss: 3.3265968561172485, LR: 0.0005, Duration: 71.67 sec - model saved!\n"
     ]
    },
    {
     "name": "stderr",
     "output_type": "stream",
     "text": [
      "Epoch 11: 100%|██████████| 53/53 [01:16<00:00,  1.45s/it]\n"
     ]
    },
    {
     "name": "stdout",
     "output_type": "stream",
     "text": [
      "\tLoss: 3.844500298769969, Val Loss: 3.2015161514282227, LR: 0.00055, Duration: 78.76 sec - model saved!\n"
     ]
    },
    {
     "name": "stderr",
     "output_type": "stream",
     "text": [
      "Epoch 12: 100%|██████████| 53/53 [01:12<00:00,  1.37s/it]\n"
     ]
    },
    {
     "name": "stdout",
     "output_type": "stream",
     "text": [
      "\tLoss: 3.7098493171188065, Val Loss: 3.2035694122314453, LR: 0.0006, Duration: 73.86 sec\n"
     ]
    },
    {
     "name": "stderr",
     "output_type": "stream",
     "text": [
      "Epoch 13: 100%|██████████| 53/53 [01:07<00:00,  1.28s/it]\n"
     ]
    },
    {
     "name": "stdout",
     "output_type": "stream",
     "text": [
      "\tLoss: 3.7351154696266606, Val Loss: 3.00018310546875, LR: 0.0006500000000000001, Duration: 69.27 sec - model saved!\n"
     ]
    },
    {
     "name": "stderr",
     "output_type": "stream",
     "text": [
      "Epoch 14: 100%|██████████| 53/53 [01:13<00:00,  1.38s/it]\n"
     ]
    },
    {
     "name": "stdout",
     "output_type": "stream",
     "text": [
      "\tLoss: 3.649167294772166, Val Loss: 2.985475778579712, LR: 0.0007, Duration: 74.79 sec - model saved!\n"
     ]
    },
    {
     "name": "stderr",
     "output_type": "stream",
     "text": [
      "Epoch 15: 100%|██████████| 53/53 [01:12<00:00,  1.36s/it]\n"
     ]
    },
    {
     "name": "stdout",
     "output_type": "stream",
     "text": [
      "\tLoss: 3.587595768694608, Val Loss: 2.966198205947876, LR: 0.00075, Duration: 73.89 sec - model saved!\n"
     ]
    },
    {
     "name": "stderr",
     "output_type": "stream",
     "text": [
      "Epoch 16: 100%|██████████| 53/53 [01:12<00:00,  1.36s/it]\n"
     ]
    },
    {
     "name": "stdout",
     "output_type": "stream",
     "text": [
      "\tLoss: 3.4889190601852706, Val Loss: 2.621359944343567, LR: 0.0008, Duration: 73.78 sec - model saved!\n"
     ]
    },
    {
     "name": "stderr",
     "output_type": "stream",
     "text": [
      "Epoch 17: 100%|██████████| 53/53 [01:10<00:00,  1.34s/it]\n"
     ]
    },
    {
     "name": "stdout",
     "output_type": "stream",
     "text": [
      "\tLoss: 3.4746508553343, Val Loss: 2.564857602119446, LR: 0.00085, Duration: 72.61 sec - model saved!\n"
     ]
    },
    {
     "name": "stderr",
     "output_type": "stream",
     "text": [
      "Epoch 18: 100%|██████████| 53/53 [01:07<00:00,  1.27s/it]\n"
     ]
    },
    {
     "name": "stdout",
     "output_type": "stream",
     "text": [
      "\tLoss: 3.4388802276467376, Val Loss: 2.6002542972564697, LR: 0.0009000000000000001, Duration: 68.85 sec\n"
     ]
    },
    {
     "name": "stderr",
     "output_type": "stream",
     "text": [
      "Epoch 19: 100%|██████████| 53/53 [01:10<00:00,  1.32s/it]\n"
     ]
    },
    {
     "name": "stdout",
     "output_type": "stream",
     "text": [
      "\tLoss: 3.4080461870949224, Val Loss: 2.432523250579834, LR: 0.00095, Duration: 72.14 sec - model saved!\n"
     ]
    },
    {
     "name": "stderr",
     "output_type": "stream",
     "text": [
      "Epoch 20: 100%|██████████| 53/53 [01:10<00:00,  1.33s/it]\n"
     ]
    },
    {
     "name": "stdout",
     "output_type": "stream",
     "text": [
      "\tLoss: 3.230835167866833, Val Loss: 2.2001537084579468, LR: 0.001, Duration: 72.58 sec - model saved!\n"
     ]
    },
    {
     "name": "stderr",
     "output_type": "stream",
     "text": [
      "Epoch 21: 100%|██████████| 53/53 [01:09<00:00,  1.31s/it]\n"
     ]
    },
    {
     "name": "stdout",
     "output_type": "stream",
     "text": [
      "\tLoss: 3.2634730114127106, Val Loss: 2.238510489463806, LR: 0.0009999238475781956, Duration: 70.88 sec\n"
     ]
    },
    {
     "name": "stderr",
     "output_type": "stream",
     "text": [
      "Epoch 22: 100%|██████████| 53/53 [01:03<00:00,  1.20s/it]\n"
     ]
    },
    {
     "name": "stdout",
     "output_type": "stream",
     "text": [
      "\tLoss: 3.2714652160428606, Val Loss: 2.1568328142166138, LR: 0.0009996954135095479, Duration: 65.22 sec - model saved!\n"
     ]
    },
    {
     "name": "stderr",
     "output_type": "stream",
     "text": [
      "Epoch 23: 100%|██████████| 53/53 [01:08<00:00,  1.29s/it]\n"
     ]
    },
    {
     "name": "stdout",
     "output_type": "stream",
     "text": [
      "\tLoss: 3.363811393953719, Val Loss: 2.2312822341918945, LR: 0.0009993147673772868, Duration: 70.51 sec\n"
     ]
    },
    {
     "name": "stderr",
     "output_type": "stream",
     "text": [
      "Epoch 24: 100%|██████████| 53/53 [01:08<00:00,  1.30s/it]\n"
     ]
    },
    {
     "name": "stdout",
     "output_type": "stream",
     "text": [
      "\tLoss: 3.2469494162865407, Val Loss: 2.028446853160858, LR: 0.0009987820251299122, Duration: 70.52 sec - model saved!\n"
     ]
    },
    {
     "name": "stderr",
     "output_type": "stream",
     "text": [
      "Epoch 25: 100%|██████████| 53/53 [01:08<00:00,  1.29s/it]\n"
     ]
    },
    {
     "name": "stdout",
     "output_type": "stream",
     "text": [
      "\tLoss: 3.1041173754997975, Val Loss: 1.9283003211021423, LR: 0.0009980973490458728, Duration: 70.04 sec - model saved!\n"
     ]
    },
    {
     "name": "stderr",
     "output_type": "stream",
     "text": [
      "Epoch 26: 100%|██████████| 53/53 [01:04<00:00,  1.22s/it]\n"
     ]
    },
    {
     "name": "stdout",
     "output_type": "stream",
     "text": [
      "\tLoss: 3.123004823360803, Val Loss: 1.9601702094078064, LR: 0.0009972609476841367, Duration: 66.21 sec\n"
     ]
    },
    {
     "name": "stderr",
     "output_type": "stream",
     "text": [
      "Epoch 27: 100%|██████████| 53/53 [01:08<00:00,  1.29s/it]\n"
     ]
    },
    {
     "name": "stdout",
     "output_type": "stream",
     "text": [
      "\tLoss: 3.138933352704318, Val Loss: 1.8979211449623108, LR: 0.0009962730758206612, Duration: 69.76 sec - model saved!\n"
     ]
    },
    {
     "name": "stderr",
     "output_type": "stream",
     "text": [
      "Epoch 28: 100%|██████████| 53/53 [01:06<00:00,  1.26s/it]\n"
     ]
    },
    {
     "name": "stdout",
     "output_type": "stream",
     "text": [
      "\tLoss: 2.957095002228359, Val Loss: 1.8595646619796753, LR: 0.0009951340343707852, Duration: 68.18 sec - model saved!\n"
     ]
    },
    {
     "name": "stderr",
     "output_type": "stream",
     "text": [
      "Epoch 29: 100%|██████████| 53/53 [01:06<00:00,  1.26s/it]\n"
     ]
    },
    {
     "name": "stdout",
     "output_type": "stream",
     "text": [
      "\tLoss: 3.0274894147549034, Val Loss: 1.7645170092582703, LR: 0.0009938441702975688, Duration: 69.11 sec - model saved!\n"
     ]
    },
    {
     "name": "stderr",
     "output_type": "stream",
     "text": [
      "Epoch 30: 100%|██████████| 53/53 [01:06<00:00,  1.26s/it]\n"
     ]
    },
    {
     "name": "stdout",
     "output_type": "stream",
     "text": [
      "\tLoss: 2.7602729212562993, Val Loss: 1.6169636845588684, LR: 0.000992403876506104, Duration: 68.48 sec - model saved!\n"
     ]
    },
    {
     "name": "stderr",
     "output_type": "stream",
     "text": [
      "Epoch 31: 100%|██████████| 53/53 [01:08<00:00,  1.29s/it]\n"
     ]
    },
    {
     "name": "stdout",
     "output_type": "stream",
     "text": [
      "\tLoss: 2.899551701995562, Val Loss: 1.5270297527313232, LR: 0.000990813591723832, Duration: 70.20 sec - model saved!\n"
     ]
    },
    {
     "name": "stderr",
     "output_type": "stream",
     "text": [
      "Epoch 32: 100%|██████████| 53/53 [01:06<00:00,  1.26s/it]\n"
     ]
    },
    {
     "name": "stdout",
     "output_type": "stream",
     "text": [
      "\tLoss: 2.9121404143999206, Val Loss: 1.6807122826576233, LR: 0.0009890738003669028, Duration: 68.38 sec\n"
     ]
    },
    {
     "name": "stderr",
     "output_type": "stream",
     "text": [
      "Epoch 33: 100%|██████████| 53/53 [01:06<00:00,  1.25s/it]\n"
     ]
    },
    {
     "name": "stdout",
     "output_type": "stream",
     "text": [
      "\tLoss: 2.757728160552259, Val Loss: 1.6268078088760376, LR: 0.0009871850323926177, Duration: 67.46 sec\n"
     ]
    },
    {
     "name": "stderr",
     "output_type": "stream",
     "text": [
      "Epoch 34: 100%|██████████| 53/53 [01:05<00:00,  1.25s/it]\n"
     ]
    },
    {
     "name": "stdout",
     "output_type": "stream",
     "text": [
      "\tLoss: 2.8802365806867494, Val Loss: 1.519200623035431, LR: 0.0009851478631379982, Duration: 67.55 sec - model saved!\n"
     ]
    },
    {
     "name": "stderr",
     "output_type": "stream",
     "text": [
      "Epoch 35: 100%|██████████| 53/53 [01:05<00:00,  1.23s/it]\n"
     ]
    },
    {
     "name": "stdout",
     "output_type": "stream",
     "text": [
      "\tLoss: 2.9191207998203783, Val Loss: 1.5797370672225952, LR: 0.0009829629131445341, Duration: 66.64 sec\n"
     ]
    },
    {
     "name": "stderr",
     "output_type": "stream",
     "text": [
      "Epoch 36: 100%|██████████| 53/53 [01:05<00:00,  1.24s/it]\n"
     ]
    },
    {
     "name": "stdout",
     "output_type": "stream",
     "text": [
      "\tLoss: 2.697543872977203, Val Loss: 1.4686161279678345, LR: 0.0009806308479691594, Duration: 67.42 sec - model saved!\n"
     ]
    },
    {
     "name": "stderr",
     "output_type": "stream",
     "text": [
      "Epoch 37: 100%|██████████| 53/53 [01:05<00:00,  1.24s/it]\n"
     ]
    },
    {
     "name": "stdout",
     "output_type": "stream",
     "text": [
      "\tLoss: 2.774945875383773, Val Loss: 1.489026427268982, LR: 0.0009781523779815178, Duration: 66.87 sec\n"
     ]
    },
    {
     "name": "stderr",
     "output_type": "stream",
     "text": [
      "Epoch 38: 100%|██████████| 53/53 [01:10<00:00,  1.32s/it]\n"
     ]
    },
    {
     "name": "stdout",
     "output_type": "stream",
     "text": [
      "\tLoss: 2.7848451879789247, Val Loss: 1.3621949553489685, LR: 0.0009755282581475768, Duration: 71.61 sec - model saved!\n"
     ]
    },
    {
     "name": "stderr",
     "output_type": "stream",
     "text": [
      "Epoch 39: 100%|██████████| 53/53 [01:06<00:00,  1.25s/it]\n"
     ]
    },
    {
     "name": "stdout",
     "output_type": "stream",
     "text": [
      "\tLoss: 2.6622698644422136, Val Loss: 1.4046376943588257, LR: 0.0009727592877996585, Duration: 68.14 sec\n"
     ]
    },
    {
     "name": "stderr",
     "output_type": "stream",
     "text": [
      "Epoch 40: 100%|██████████| 53/53 [01:09<00:00,  1.31s/it]\n"
     ]
    },
    {
     "name": "stdout",
     "output_type": "stream",
     "text": [
      "\tLoss: 2.8008034949032767, Val Loss: 1.3476057648658752, LR: 0.0009698463103929542, Duration: 70.95 sec - model saved!\n"
     ]
    },
    {
     "name": "stderr",
     "output_type": "stream",
     "text": [
      "Epoch 41: 100%|██████████| 53/53 [01:04<00:00,  1.23s/it]\n"
     ]
    },
    {
     "name": "stdout",
     "output_type": "stream",
     "text": [
      "\tLoss: 2.6625476895638234, Val Loss: 1.2983718514442444, LR: 0.0009667902132486009, Duration: 66.76 sec - model saved!\n"
     ]
    },
    {
     "name": "stderr",
     "output_type": "stream",
     "text": [
      "Epoch 42: 100%|██████████| 53/53 [01:09<00:00,  1.30s/it]\n"
     ]
    },
    {
     "name": "stdout",
     "output_type": "stream",
     "text": [
      "\tLoss: 2.713630548063314, Val Loss: 1.280931532382965, LR: 0.0009635919272833937, Duration: 71.01 sec - model saved!\n"
     ]
    },
    {
     "name": "stderr",
     "output_type": "stream",
     "text": [
      "Epoch 43: 100%|██████████| 53/53 [01:07<00:00,  1.27s/it]\n"
     ]
    },
    {
     "name": "stdout",
     "output_type": "stream",
     "text": [
      "\tLoss: 2.5788832925400644, Val Loss: 1.2840096950531006, LR: 0.0009602524267262203, Duration: 68.93 sec\n"
     ]
    },
    {
     "name": "stderr",
     "output_type": "stream",
     "text": [
      "Epoch 44: 100%|██████████| 53/53 [01:07<00:00,  1.27s/it]\n"
     ]
    },
    {
     "name": "stdout",
     "output_type": "stream",
     "text": [
      "\tLoss: 2.601319076879969, Val Loss: 1.2468762397766113, LR: 0.0009567727288213005, Duration: 68.93 sec - model saved!\n"
     ]
    },
    {
     "name": "stderr",
     "output_type": "stream",
     "text": [
      "Epoch 45: 100%|██████████| 53/53 [01:09<00:00,  1.31s/it]\n"
     ]
    },
    {
     "name": "stdout",
     "output_type": "stream",
     "text": [
      "\tLoss: 2.6049087205023134, Val Loss: 1.2220792770385742, LR: 0.0009531538935183251, Duration: 71.32 sec - model saved!\n"
     ]
    },
    {
     "name": "stderr",
     "output_type": "stream",
     "text": [
      "Epoch 46: 100%|██████████| 53/53 [01:08<00:00,  1.30s/it]\n"
     ]
    },
    {
     "name": "stdout",
     "output_type": "stream",
     "text": [
      "\tLoss: 2.5370800022809012, Val Loss: 1.2350186705589294, LR: 0.0009493970231495835, Duration: 70.20 sec\n"
     ]
    },
    {
     "name": "stderr",
     "output_type": "stream",
     "text": [
      "Epoch 47: 100%|██████████| 53/53 [01:10<00:00,  1.32s/it]\n"
     ]
    },
    {
     "name": "stdout",
     "output_type": "stream",
     "text": [
      "\tLoss: 2.4531547663346776, Val Loss: 1.1346320509910583, LR: 0.0009455032620941839, Duration: 71.80 sec - model saved!\n"
     ]
    },
    {
     "name": "stderr",
     "output_type": "stream",
     "text": [
      "Epoch 48: 100%|██████████| 53/53 [01:07<00:00,  1.27s/it]\n"
     ]
    },
    {
     "name": "stdout",
     "output_type": "stream",
     "text": [
      "\tLoss: 2.3959415746185013, Val Loss: 1.0899577140808105, LR: 0.0009414737964294635, Duration: 69.29 sec - model saved!\n"
     ]
    },
    {
     "name": "stderr",
     "output_type": "stream",
     "text": [
      "Epoch 49: 100%|██████████| 53/53 [01:09<00:00,  1.31s/it]\n"
     ]
    },
    {
     "name": "stdout",
     "output_type": "stream",
     "text": [
      "\tLoss: 2.621443460572441, Val Loss: 1.1385974287986755, LR: 0.0009373098535696979, Duration: 70.56 sec\n"
     ]
    },
    {
     "name": "stderr",
     "output_type": "stream",
     "text": [
      "Epoch 50: 100%|██████████| 53/53 [01:07<00:00,  1.27s/it]\n"
     ]
    },
    {
     "name": "stdout",
     "output_type": "stream",
     "text": [
      "\tLoss: 2.3601299074460877, Val Loss: 1.184909701347351, LR: 0.0009330127018922195, Duration: 68.70 sec\n"
     ]
    },
    {
     "name": "stderr",
     "output_type": "stream",
     "text": [
      "Epoch 51: 100%|██████████| 53/53 [01:08<00:00,  1.29s/it]\n"
     ]
    },
    {
     "name": "stdout",
     "output_type": "stream",
     "text": [
      "\tLoss: 2.44679301864696, Val Loss: 1.0794553756713867, LR: 0.0009285836503510562, Duration: 70.22 sec - model saved!\n"
     ]
    },
    {
     "name": "stderr",
     "output_type": "stream",
     "text": [
      "Epoch 52: 100%|██████████| 53/53 [01:08<00:00,  1.29s/it]\n"
     ]
    },
    {
     "name": "stdout",
     "output_type": "stream",
     "text": [
      "\tLoss: 2.36631315384271, Val Loss: 1.0342167019844055, LR: 0.0009240240480782129, Duration: 70.13 sec - model saved!\n"
     ]
    },
    {
     "name": "stderr",
     "output_type": "stream",
     "text": [
      "Epoch 53: 100%|██████████| 53/53 [01:08<00:00,  1.29s/it]\n"
     ]
    },
    {
     "name": "stdout",
     "output_type": "stream",
     "text": [
      "\tLoss: 2.374906789581731, Val Loss: 1.1046346426010132, LR: 0.0009193352839727121, Duration: 69.72 sec\n"
     ]
    },
    {
     "name": "stderr",
     "output_type": "stream",
     "text": [
      "Epoch 54: 100%|██████████| 53/53 [01:12<00:00,  1.36s/it]\n"
     ]
    },
    {
     "name": "stdout",
     "output_type": "stream",
     "text": [
      "\tLoss: 2.382493147310221, Val Loss: 1.0487196147441864, LR: 0.0009145187862775209, Duration: 73.86 sec\n"
     ]
    },
    {
     "name": "stderr",
     "output_type": "stream",
     "text": [
      "Epoch 55: 100%|██████████| 53/53 [01:06<00:00,  1.25s/it]\n"
     ]
    },
    {
     "name": "stdout",
     "output_type": "stream",
     "text": [
      "\tLoss: 2.4706963795535968, Val Loss: 1.0949257612228394, LR: 0.0009095760221444959, Duration: 67.68 sec\n"
     ]
    },
    {
     "name": "stderr",
     "output_type": "stream",
     "text": [
      "Epoch 56: 100%|██████████| 53/53 [01:06<00:00,  1.26s/it]\n"
     ]
    },
    {
     "name": "stdout",
     "output_type": "stream",
     "text": [
      "\tLoss: 2.259983285418097, Val Loss: 1.0092225074768066, LR: 0.0009045084971874737, Duration: 68.63 sec - model saved!\n"
     ]
    },
    {
     "name": "stderr",
     "output_type": "stream",
     "text": [
      "Epoch 57: 100%|██████████| 53/53 [01:07<00:00,  1.27s/it]\n"
     ]
    },
    {
     "name": "stdout",
     "output_type": "stream",
     "text": [
      "\tLoss: 2.375712129304994, Val Loss: 1.0810033679008484, LR: 0.0008993177550236464, Duration: 68.78 sec\n"
     ]
    },
    {
     "name": "stderr",
     "output_type": "stream",
     "text": [
      "Epoch 58: 100%|██████████| 53/53 [01:06<00:00,  1.25s/it]\n"
     ]
    },
    {
     "name": "stdout",
     "output_type": "stream",
     "text": [
      "\tLoss: 2.2392551539079197, Val Loss: 0.9640330970287323, LR: 0.0008940053768033609, Duration: 68.29 sec - model saved!\n"
     ]
    },
    {
     "name": "stderr",
     "output_type": "stream",
     "text": [
      "Epoch 59: 100%|██████████| 53/53 [01:09<00:00,  1.32s/it]\n"
     ]
    },
    {
     "name": "stdout",
     "output_type": "stream",
     "text": [
      "\tLoss: 2.1724667279225476, Val Loss: 1.0708251595497131, LR: 0.0008885729807284854, Duration: 71.13 sec\n"
     ]
    },
    {
     "name": "stderr",
     "output_type": "stream",
     "text": [
      "Epoch 60: 100%|██████████| 53/53 [01:07<00:00,  1.27s/it]\n"
     ]
    },
    {
     "name": "stdout",
     "output_type": "stream",
     "text": [
      "\tLoss: 2.3499517553257494, Val Loss: 1.1271129250526428, LR: 0.000883022221559489, Duration: 68.89 sec\n"
     ]
    },
    {
     "name": "stderr",
     "output_type": "stream",
     "text": [
      "Epoch 61: 100%|██████████| 53/53 [01:08<00:00,  1.29s/it]\n"
     ]
    },
    {
     "name": "stdout",
     "output_type": "stream",
     "text": [
      "\tLoss: 2.142897531671344, Val Loss: 0.9499890804290771, LR: 0.000877354790111386, Duration: 70.02 sec - model saved!\n"
     ]
    },
    {
     "name": "stderr",
     "output_type": "stream",
     "text": [
      "Epoch 62: 100%|██████████| 53/53 [01:05<00:00,  1.23s/it]\n"
     ]
    },
    {
     "name": "stdout",
     "output_type": "stream",
     "text": [
      "\tLoss: 2.3774829833012707, Val Loss: 0.89008429646492, LR: 0.0008715724127386971, Duration: 66.75 sec - model saved!\n"
     ]
    },
    {
     "name": "stderr",
     "output_type": "stream",
     "text": [
      "Epoch 63: 100%|██████████| 53/53 [01:07<00:00,  1.28s/it]\n"
     ]
    },
    {
     "name": "stdout",
     "output_type": "stream",
     "text": [
      "\tLoss: 2.213716929813601, Val Loss: 0.8908974230289459, LR: 0.0008656768508095852, Duration: 69.22 sec\n"
     ]
    },
    {
     "name": "stderr",
     "output_type": "stream",
     "text": [
      "Epoch 64: 100%|██████████| 53/53 [01:08<00:00,  1.29s/it]\n"
     ]
    },
    {
     "name": "stdout",
     "output_type": "stream",
     "text": [
      "\tLoss: 2.154523937207348, Val Loss: 0.9918058216571808, LR: 0.0008596699001693256, Duration: 69.67 sec\n"
     ]
    },
    {
     "name": "stderr",
     "output_type": "stream",
     "text": [
      "Epoch 65: 100%|██████████| 53/53 [01:09<00:00,  1.31s/it]\n"
     ]
    },
    {
     "name": "stdout",
     "output_type": "stream",
     "text": [
      "\tLoss: 2.351774175212068, Val Loss: 1.0254846513271332, LR: 0.0008535533905932737, Duration: 71.17 sec\n"
     ]
    },
    {
     "name": "stderr",
     "output_type": "stream",
     "text": [
      "Epoch 66: 100%|██████████| 53/53 [01:08<00:00,  1.30s/it]\n"
     ]
    },
    {
     "name": "stdout",
     "output_type": "stream",
     "text": [
      "\tLoss: 2.07050499376261, Val Loss: 0.9590401649475098, LR: 0.0008473291852294987, Duration: 70.53 sec\n"
     ]
    },
    {
     "name": "stderr",
     "output_type": "stream",
     "text": [
      "Epoch 67: 100%|██████████| 53/53 [01:08<00:00,  1.29s/it]\n"
     ]
    },
    {
     "name": "stdout",
     "output_type": "stream",
     "text": [
      "\tLoss: 2.1899174271889454, Val Loss: 0.9236230850219727, LR: 0.0008409991800312493, Duration: 70.16 sec\n"
     ]
    },
    {
     "name": "stderr",
     "output_type": "stream",
     "text": [
      "Epoch 68: 100%|██████████| 53/53 [01:07<00:00,  1.27s/it]\n"
     ]
    },
    {
     "name": "stdout",
     "output_type": "stream",
     "text": [
      "\tLoss: 2.1701511796915307, Val Loss: 0.9468207359313965, LR: 0.0008345653031794292, Duration: 68.73 sec\n"
     ]
    },
    {
     "name": "stderr",
     "output_type": "stream",
     "text": [
      "Epoch 69: 100%|██████████| 53/53 [01:08<00:00,  1.28s/it]\n"
     ]
    },
    {
     "name": "stdout",
     "output_type": "stream",
     "text": [
      "\tLoss: 2.0139625499833307, Val Loss: 0.9072667360305786, LR: 0.0008280295144952537, Duration: 69.51 sec\n"
     ]
    },
    {
     "name": "stderr",
     "output_type": "stream",
     "text": [
      "Epoch 70: 100%|██████████| 53/53 [01:05<00:00,  1.24s/it]\n"
     ]
    },
    {
     "name": "stdout",
     "output_type": "stream",
     "text": [
      "\tLoss: 2.4037386336416566, Val Loss: 0.9340009093284607, LR: 0.0008213938048432696, Duration: 67.30 sec\n"
     ]
    },
    {
     "name": "stderr",
     "output_type": "stream",
     "text": [
      "Epoch 71: 100%|██████████| 53/53 [01:07<00:00,  1.27s/it]\n"
     ]
    },
    {
     "name": "stdout",
     "output_type": "stream",
     "text": [
      "\tLoss: 2.0771577448215126, Val Loss: 0.8833330869674683, LR: 0.0008146601955249188, Duration: 69.33 sec - model saved!\n"
     ]
    },
    {
     "name": "stderr",
     "output_type": "stream",
     "text": [
      "Epoch 72: 100%|██████████| 53/53 [01:09<00:00,  1.30s/it]\n"
     ]
    },
    {
     "name": "stdout",
     "output_type": "stream",
     "text": [
      "\tLoss: 2.3050651595277607, Val Loss: 0.9830370545387268, LR: 0.0008078307376628291, Duration: 70.37 sec\n"
     ]
    },
    {
     "name": "stderr",
     "output_type": "stream",
     "text": [
      "Epoch 73: 100%|██████████| 53/53 [01:09<00:00,  1.31s/it]\n"
     ]
    },
    {
     "name": "stdout",
     "output_type": "stream",
     "text": [
      "\tLoss: 2.0855410953737654, Val Loss: 0.988898903131485, LR: 0.0008009075115760243, Duration: 70.67 sec\n"
     ]
    },
    {
     "name": "stderr",
     "output_type": "stream",
     "text": [
      "Epoch 74: 100%|██████████| 53/53 [01:08<00:00,  1.29s/it]\n"
     ]
    },
    {
     "name": "stdout",
     "output_type": "stream",
     "text": [
      "\tLoss: 1.9335969821462091, Val Loss: 0.9254374504089355, LR: 0.0007938926261462366, Duration: 69.53 sec\n"
     ]
    },
    {
     "name": "stderr",
     "output_type": "stream",
     "text": [
      "Epoch 75: 100%|██████████| 53/53 [01:09<00:00,  1.32s/it]\n"
     ]
    },
    {
     "name": "stdout",
     "output_type": "stream",
     "text": [
      "\tLoss: 2.167549542660983, Val Loss: 0.8728405237197876, LR: 0.0007867882181755231, Duration: 71.51 sec - model saved!\n"
     ]
    },
    {
     "name": "stderr",
     "output_type": "stream",
     "text": [
      "Epoch 76: 100%|██████████| 53/53 [01:09<00:00,  1.31s/it]\n"
     ]
    },
    {
     "name": "stdout",
     "output_type": "stream",
     "text": [
      "\tLoss: 2.065058672203208, Val Loss: 0.810046911239624, LR: 0.0007795964517353734, Duration: 70.92 sec - model saved!\n"
     ]
    },
    {
     "name": "stderr",
     "output_type": "stream",
     "text": [
      "Epoch 77: 100%|██████████| 53/53 [01:07<00:00,  1.28s/it]\n"
     ]
    },
    {
     "name": "stdout",
     "output_type": "stream",
     "text": [
      "\tLoss: 2.1046210369973815, Val Loss: 0.8539855778217316, LR: 0.0007723195175075137, Duration: 69.15 sec\n"
     ]
    },
    {
     "name": "stderr",
     "output_type": "stream",
     "text": [
      "Epoch 78: 100%|██████████| 53/53 [01:08<00:00,  1.30s/it]\n"
     ]
    },
    {
     "name": "stdout",
     "output_type": "stream",
     "text": [
      "\tLoss: 1.901737557267243, Val Loss: 0.9162071049213409, LR: 0.0007649596321166025, Duration: 70.55 sec\n"
     ]
    },
    {
     "name": "stderr",
     "output_type": "stream",
     "text": [
      "Epoch 79: 100%|██████████| 53/53 [01:07<00:00,  1.27s/it]\n"
     ]
    },
    {
     "name": "stdout",
     "output_type": "stream",
     "text": [
      "\tLoss: 2.0777637891049654, Val Loss: 0.927284449338913, LR: 0.0007575190374550272, Duration: 68.38 sec\n"
     ]
    },
    {
     "name": "stderr",
     "output_type": "stream",
     "text": [
      "Epoch 80: 100%|██████████| 53/53 [01:08<00:00,  1.30s/it]\n"
     ]
    },
    {
     "name": "stdout",
     "output_type": "stream",
     "text": [
      "\tLoss: 2.0616223002379797, Val Loss: 0.9124353229999542, LR: 0.00075, Duration: 70.23 sec\n"
     ]
    },
    {
     "name": "stderr",
     "output_type": "stream",
     "text": [
      "Epoch 81: 100%|██████████| 53/53 [01:10<00:00,  1.33s/it]\n"
     ]
    },
    {
     "name": "stdout",
     "output_type": "stream",
     "text": [
      "\tLoss: 2.168152631453748, Val Loss: 0.9412945210933685, LR: 0.0007424048101231686, Duration: 71.78 sec\n"
     ]
    },
    {
     "name": "stderr",
     "output_type": "stream",
     "text": [
      "Epoch 82: 100%|██████████| 53/53 [01:07<00:00,  1.27s/it]\n"
     ]
    },
    {
     "name": "stdout",
     "output_type": "stream",
     "text": [
      "\tLoss: 1.910427248702859, Val Loss: 0.8821657598018646, LR: 0.0007347357813929454, Duration: 68.46 sec\n"
     ]
    },
    {
     "name": "stderr",
     "output_type": "stream",
     "text": [
      "Epoch 83: 100%|██████████| 53/53 [01:06<00:00,  1.26s/it]\n"
     ]
    },
    {
     "name": "stdout",
     "output_type": "stream",
     "text": [
      "\tLoss: 1.8501375868635357, Val Loss: 0.7948972582817078, LR: 0.0007269952498697733, Duration: 68.79 sec - model saved!\n"
     ]
    },
    {
     "name": "stderr",
     "output_type": "stream",
     "text": [
      "Epoch 84: 100%|██████████| 53/53 [01:07<00:00,  1.27s/it]\n"
     ]
    },
    {
     "name": "stdout",
     "output_type": "stream",
     "text": [
      "\tLoss: 2.0252294000589623, Val Loss: 0.8187926113605499, LR: 0.0007191855733945387, Duration: 68.69 sec\n"
     ]
    },
    {
     "name": "stderr",
     "output_type": "stream",
     "text": [
      "Epoch 85: 100%|██████████| 53/53 [01:06<00:00,  1.26s/it]\n"
     ]
    },
    {
     "name": "stdout",
     "output_type": "stream",
     "text": [
      "\tLoss: 1.9929759266241542, Val Loss: 0.8662388026714325, LR: 0.0007113091308703497, Duration: 67.96 sec\n"
     ]
    },
    {
     "name": "stderr",
     "output_type": "stream",
     "text": [
      "Epoch 86: 100%|██████████| 53/53 [01:07<00:00,  1.28s/it]\n"
     ]
    },
    {
     "name": "stdout",
     "output_type": "stream",
     "text": [
      "\tLoss: 1.922163909336306, Val Loss: 0.8632178902626038, LR: 0.0007033683215379002, Duration: 69.47 sec\n"
     ]
    },
    {
     "name": "stderr",
     "output_type": "stream",
     "text": [
      "Epoch 87: 100%|██████████| 53/53 [01:09<00:00,  1.32s/it]\n"
     ]
    },
    {
     "name": "stdout",
     "output_type": "stream",
     "text": [
      "\tLoss: 1.8587568447274982, Val Loss: 0.8656720519065857, LR: 0.0006953655642446368, Duration: 71.31 sec\n"
     ]
    },
    {
     "name": "stderr",
     "output_type": "stream",
     "text": [
      "Epoch 88: 100%|██████████| 53/53 [01:09<00:00,  1.30s/it]\n"
     ]
    },
    {
     "name": "stdout",
     "output_type": "stream",
     "text": [
      "\tLoss: 2.040063349705822, Val Loss: 0.8812656998634338, LR: 0.0006873032967079561, Duration: 70.76 sec\n"
     ]
    },
    {
     "name": "stderr",
     "output_type": "stream",
     "text": [
      "Epoch 89: 100%|██████████| 53/53 [01:07<00:00,  1.28s/it]\n"
     ]
    },
    {
     "name": "stdout",
     "output_type": "stream",
     "text": [
      "\tLoss: 2.050552494121048, Val Loss: 0.7988303303718567, LR: 0.0006791839747726501, Duration: 69.33 sec\n"
     ]
    },
    {
     "name": "stderr",
     "output_type": "stream",
     "text": [
      "Epoch 90: 100%|██████████| 53/53 [01:10<00:00,  1.34s/it]\n"
     ]
    },
    {
     "name": "stdout",
     "output_type": "stream",
     "text": [
      "\tLoss: 1.6729271355664954, Val Loss: 0.763006180524826, LR: 0.0006710100716628344, Duration: 72.44 sec - model saved!\n"
     ]
    },
    {
     "name": "stderr",
     "output_type": "stream",
     "text": [
      "Epoch 91: 100%|██████████| 53/53 [01:08<00:00,  1.29s/it]\n"
     ]
    },
    {
     "name": "stdout",
     "output_type": "stream",
     "text": [
      "\tLoss: 2.2293893312508204, Val Loss: 0.8439348638057709, LR: 0.0006627840772285784, Duration: 70.18 sec\n"
     ]
    },
    {
     "name": "stderr",
     "output_type": "stream",
     "text": [
      "Epoch 92: 100%|██████████| 53/53 [01:06<00:00,  1.25s/it]\n"
     ]
    },
    {
     "name": "stdout",
     "output_type": "stream",
     "text": [
      "\tLoss: 1.7925998804704197, Val Loss: 0.8208872377872467, LR: 0.0006545084971874737, Duration: 67.86 sec\n"
     ]
    },
    {
     "name": "stderr",
     "output_type": "stream",
     "text": [
      "Epoch 93: 100%|██████████| 53/53 [01:07<00:00,  1.27s/it]\n"
     ]
    },
    {
     "name": "stdout",
     "output_type": "stream",
     "text": [
      "\tLoss: 2.1220374793376564, Val Loss: 0.9233711659908295, LR: 0.0006461858523613684, Duration: 68.94 sec\n"
     ]
    },
    {
     "name": "stderr",
     "output_type": "stream",
     "text": [
      "Epoch 94: 100%|██████████| 53/53 [01:11<00:00,  1.36s/it]\n"
     ]
    },
    {
     "name": "stdout",
     "output_type": "stream",
     "text": [
      "\tLoss: 1.9652054253614173, Val Loss: 0.92240309715271, LR: 0.0006378186779084996, Duration: 73.38 sec\n"
     ]
    },
    {
     "name": "stderr",
     "output_type": "stream",
     "text": [
      "Epoch 95: 100%|██████████| 53/53 [01:08<00:00,  1.29s/it]\n"
     ]
    },
    {
     "name": "stdout",
     "output_type": "stream",
     "text": [
      "\tLoss: 1.975875104373356, Val Loss: 0.765396386384964, LR: 0.0006294095225512603, Duration: 70.39 sec\n"
     ]
    },
    {
     "name": "stderr",
     "output_type": "stream",
     "text": [
      "Epoch 96: 100%|██████████| 53/53 [01:08<00:00,  1.29s/it]\n"
     ]
    },
    {
     "name": "stdout",
     "output_type": "stream",
     "text": [
      "\tLoss: 2.042982372472871, Val Loss: 0.8160012662410736, LR: 0.0006209609477998338, Duration: 70.68 sec\n"
     ]
    },
    {
     "name": "stderr",
     "output_type": "stream",
     "text": [
      "Epoch 97: 100%|██████████| 53/53 [01:11<00:00,  1.34s/it]\n"
     ]
    },
    {
     "name": "stdout",
     "output_type": "stream",
     "text": [
      "\tLoss: 1.9387661747212679, Val Loss: 0.8411880731582642, LR: 0.0006124755271719325, Duration: 72.82 sec\n"
     ]
    },
    {
     "name": "stderr",
     "output_type": "stream",
     "text": [
      "Epoch 98: 100%|██████████| 53/53 [01:07<00:00,  1.27s/it]\n"
     ]
    },
    {
     "name": "stdout",
     "output_type": "stream",
     "text": [
      "\tLoss: 1.8532759344802712, Val Loss: 0.8266643285751343, LR: 0.0006039558454088796, Duration: 68.58 sec\n"
     ]
    },
    {
     "name": "stderr",
     "output_type": "stream",
     "text": [
      "Epoch 99: 100%|██████████| 53/53 [01:06<00:00,  1.26s/it]\n"
     ]
    },
    {
     "name": "stdout",
     "output_type": "stream",
     "text": [
      "\tLoss: 1.899150551490064, Val Loss: 0.7962418496608734, LR: 0.0005954044976882724, Duration: 68.13 sec\n"
     ]
    },
    {
     "name": "stderr",
     "output_type": "stream",
     "text": [
      "Epoch 100: 100%|██████████| 53/53 [01:08<00:00,  1.28s/it]\n"
     ]
    },
    {
     "name": "stdout",
     "output_type": "stream",
     "text": [
      "\tLoss: 1.8380278034030266, Val Loss: 0.8045169413089752, LR: 0.0005868240888334653, Duration: 69.49 sec\n"
     ]
    },
    {
     "name": "stderr",
     "output_type": "stream",
     "text": [
      "Epoch 101: 100%|██████████| 53/53 [01:07<00:00,  1.27s/it]\n"
     ]
    },
    {
     "name": "stdout",
     "output_type": "stream",
     "text": [
      "\tLoss: 1.7020273523510627, Val Loss: 0.8144831657409668, LR: 0.0005782172325201155, Duration: 68.94 sec\n"
     ]
    },
    {
     "name": "stderr",
     "output_type": "stream",
     "text": [
      "Epoch 102: 100%|██████████| 53/53 [01:08<00:00,  1.30s/it]\n"
     ]
    },
    {
     "name": "stdout",
     "output_type": "stream",
     "text": [
      "\tLoss: 1.6995622380724493, Val Loss: 0.7425434589385986, LR: 0.0005695865504800327, Duration: 70.35 sec - model saved!\n"
     ]
    },
    {
     "name": "stderr",
     "output_type": "stream",
     "text": [
      "Epoch 103: 100%|██████████| 53/53 [01:07<00:00,  1.28s/it]\n"
     ]
    },
    {
     "name": "stdout",
     "output_type": "stream",
     "text": [
      "\tLoss: 1.69037227473169, Val Loss: 0.8616996109485626, LR: 0.0005609346717025737, Duration: 69.20 sec\n"
     ]
    },
    {
     "name": "stderr",
     "output_type": "stream",
     "text": [
      "Epoch 104: 100%|██████████| 53/53 [01:09<00:00,  1.30s/it]\n"
     ]
    },
    {
     "name": "stdout",
     "output_type": "stream",
     "text": [
      "\tLoss: 1.8602963202404526, Val Loss: 0.7670168280601501, LR: 0.0005522642316338268, Duration: 70.61 sec\n"
     ]
    },
    {
     "name": "stderr",
     "output_type": "stream",
     "text": [
      "Epoch 105: 100%|██████████| 53/53 [01:11<00:00,  1.35s/it]\n"
     ]
    },
    {
     "name": "stdout",
     "output_type": "stream",
     "text": [
      "\tLoss: 1.8847797074407902, Val Loss: 0.8927203416824341, LR: 0.0005435778713738292, Duration: 72.62 sec\n"
     ]
    },
    {
     "name": "stderr",
     "output_type": "stream",
     "text": [
      "Epoch 106: 100%|██████████| 53/53 [01:05<00:00,  1.24s/it]\n"
     ]
    },
    {
     "name": "stdout",
     "output_type": "stream",
     "text": [
      "\tLoss: 1.9881154321274668, Val Loss: 0.8265574276447296, LR: 0.0005348782368720626, Duration: 68.11 sec\n"
     ]
    },
    {
     "name": "stderr",
     "output_type": "stream",
     "text": [
      "Epoch 107: 100%|██████████| 53/53 [01:06<00:00,  1.26s/it]\n"
     ]
    },
    {
     "name": "stdout",
     "output_type": "stream",
     "text": [
      "\tLoss: 1.8418451120268624, Val Loss: 0.8714835345745087, LR: 0.000526167978121472, Duration: 68.85 sec\n"
     ]
    },
    {
     "name": "stderr",
     "output_type": "stream",
     "text": [
      "Epoch 108: 100%|██████████| 53/53 [01:08<00:00,  1.29s/it]\n"
     ]
    },
    {
     "name": "stdout",
     "output_type": "stream",
     "text": [
      "\tLoss: 1.563666380801291, Val Loss: 0.7808961868286133, LR: 0.0005174497483512506, Duration: 70.99 sec\n"
     ]
    },
    {
     "name": "stderr",
     "output_type": "stream",
     "text": [
      "Epoch 109: 100%|██████████| 53/53 [01:06<00:00,  1.26s/it]\n"
     ]
    },
    {
     "name": "stdout",
     "output_type": "stream",
     "text": [
      "\tLoss: 1.9869862659922186, Val Loss: 0.8511853814125061, LR: 0.0005087262032186418, Duration: 68.16 sec\n"
     ]
    },
    {
     "name": "stderr",
     "output_type": "stream",
     "text": [
      "Epoch 110: 100%|██████████| 53/53 [01:05<00:00,  1.24s/it]\n"
     ]
    },
    {
     "name": "stdout",
     "output_type": "stream",
     "text": [
      "\tLoss: 1.9136434905933883, Val Loss: 0.7853161990642548, LR: 0.0005, Duration: 67.14 sec\n"
     ]
    },
    {
     "name": "stderr",
     "output_type": "stream",
     "text": [
      "Epoch 111: 100%|██████████| 53/53 [01:07<00:00,  1.27s/it]\n"
     ]
    },
    {
     "name": "stdout",
     "output_type": "stream",
     "text": [
      "\tLoss: 1.9522356908276397, Val Loss: 0.7978019714355469, LR: 0.0004912737967813582, Duration: 68.83 sec\n"
     ]
    },
    {
     "name": "stderr",
     "output_type": "stream",
     "text": [
      "Epoch 112: 100%|██████████| 53/53 [01:05<00:00,  1.23s/it]\n"
     ]
    },
    {
     "name": "stdout",
     "output_type": "stream",
     "text": [
      "\tLoss: 1.6783982650288995, Val Loss: 0.7880676984786987, LR: 0.0004825502516487497, Duration: 66.57 sec\n"
     ]
    },
    {
     "name": "stderr",
     "output_type": "stream",
     "text": [
      "Epoch 113: 100%|██████████| 53/53 [01:06<00:00,  1.25s/it]\n"
     ]
    },
    {
     "name": "stdout",
     "output_type": "stream",
     "text": [
      "\tLoss: 1.6714037218183841, Val Loss: 0.8249219059944153, LR: 0.0004738320218785281, Duration: 67.93 sec\n"
     ]
    },
    {
     "name": "stderr",
     "output_type": "stream",
     "text": [
      "Epoch 114: 100%|██████████| 53/53 [01:04<00:00,  1.23s/it]\n"
     ]
    },
    {
     "name": "stdout",
     "output_type": "stream",
     "text": [
      "\tLoss: 1.8822165052845794, Val Loss: 0.8018117249011993, LR: 0.00046512176312793734, Duration: 66.35 sec\n"
     ]
    },
    {
     "name": "stderr",
     "output_type": "stream",
     "text": [
      "Epoch 115: 100%|██████████| 53/53 [01:10<00:00,  1.34s/it]\n"
     ]
    },
    {
     "name": "stdout",
     "output_type": "stream",
     "text": [
      "\tLoss: 1.7129823745421644, Val Loss: 0.7532714903354645, LR: 0.00045642212862617086, Duration: 72.51 sec\n"
     ]
    },
    {
     "name": "stderr",
     "output_type": "stream",
     "text": [
      "Epoch 116: 100%|██████████| 53/53 [01:06<00:00,  1.25s/it]\n"
     ]
    },
    {
     "name": "stdout",
     "output_type": "stream",
     "text": [
      "\tLoss: 1.7012412188188084, Val Loss: 0.7864812314510345, LR: 0.00044773576836617336, Duration: 67.37 sec\n"
     ]
    },
    {
     "name": "stderr",
     "output_type": "stream",
     "text": [
      "Epoch 117: 100%|██████████| 53/53 [01:07<00:00,  1.28s/it]\n"
     ]
    },
    {
     "name": "stdout",
     "output_type": "stream",
     "text": [
      "\tLoss: 1.8449166270921815, Val Loss: 0.8691731095314026, LR: 0.00043906532829742634, Duration: 69.05 sec\n"
     ]
    },
    {
     "name": "stderr",
     "output_type": "stream",
     "text": [
      "Epoch 118: 100%|██████████| 53/53 [01:08<00:00,  1.29s/it]\n"
     ]
    },
    {
     "name": "stdout",
     "output_type": "stream",
     "text": [
      "\tLoss: 1.9433155790814813, Val Loss: 0.8759720921516418, LR: 0.0004304134495199674, Duration: 70.03 sec\n"
     ]
    },
    {
     "name": "stderr",
     "output_type": "stream",
     "text": [
      "Epoch 119: 100%|██████████| 53/53 [01:06<00:00,  1.25s/it]\n"
     ]
    },
    {
     "name": "stdout",
     "output_type": "stream",
     "text": [
      "\tLoss: 1.6529525934525255, Val Loss: 0.7759281694889069, LR: 0.0004217827674798845, Duration: 67.56 sec\n"
     ]
    },
    {
     "name": "stderr",
     "output_type": "stream",
     "text": [
      "Epoch 120: 100%|██████████| 53/53 [01:05<00:00,  1.24s/it]\n"
     ]
    },
    {
     "name": "stdout",
     "output_type": "stream",
     "text": [
      "\tLoss: 1.637932057650584, Val Loss: 0.780752032995224, LR: 0.00041317591116653486, Duration: 66.97 sec\n"
     ]
    },
    {
     "name": "stderr",
     "output_type": "stream",
     "text": [
      "Epoch 121: 100%|██████████| 53/53 [01:05<00:00,  1.24s/it]\n"
     ]
    },
    {
     "name": "stdout",
     "output_type": "stream",
     "text": [
      "\tLoss: 1.6967871627717648, Val Loss: 0.7794136703014374, LR: 0.0004045955023117276, Duration: 67.10 sec\n"
     ]
    },
    {
     "name": "stderr",
     "output_type": "stream",
     "text": [
      "Epoch 122: 100%|██████████| 53/53 [01:06<00:00,  1.25s/it]\n"
     ]
    },
    {
     "name": "stdout",
     "output_type": "stream",
     "text": [
      "\tLoss: 1.8860381807921067, Val Loss: 0.7561697363853455, LR: 0.0003960441545911204, Duration: 67.47 sec\n"
     ]
    },
    {
     "name": "stderr",
     "output_type": "stream",
     "text": [
      "Epoch 123: 100%|██████████| 53/53 [01:06<00:00,  1.25s/it]\n"
     ]
    },
    {
     "name": "stdout",
     "output_type": "stream",
     "text": [
      "\tLoss: 1.8049393611134223, Val Loss: 0.7286350429058075, LR: 0.0003875244728280676, Duration: 68.06 sec - model saved!\n"
     ]
    },
    {
     "name": "stderr",
     "output_type": "stream",
     "text": [
      "Epoch 124: 100%|██████████| 53/53 [01:07<00:00,  1.27s/it]\n"
     ]
    },
    {
     "name": "stdout",
     "output_type": "stream",
     "text": [
      "\tLoss: 1.820828210632756, Val Loss: 0.8053478300571442, LR: 0.0003790390522001662, Duration: 68.50 sec\n"
     ]
    },
    {
     "name": "stderr",
     "output_type": "stream",
     "text": [
      "Epoch 125: 100%|██████████| 53/53 [01:04<00:00,  1.21s/it]\n"
     ]
    },
    {
     "name": "stdout",
     "output_type": "stream",
     "text": [
      "\tLoss: 1.8581797210675366, Val Loss: 0.7302627861499786, LR: 0.0003705904774487396, Duration: 65.60 sec\n"
     ]
    },
    {
     "name": "stderr",
     "output_type": "stream",
     "text": [
      "Epoch 126: 100%|██████████| 53/53 [01:07<00:00,  1.27s/it]\n"
     ]
    },
    {
     "name": "stdout",
     "output_type": "stream",
     "text": [
      "\tLoss: 1.6197977099778518, Val Loss: 0.8068489134311676, LR: 0.00036218132209150044, Duration: 68.92 sec\n"
     ]
    },
    {
     "name": "stderr",
     "output_type": "stream",
     "text": [
      "Epoch 127: 100%|██████████| 53/53 [01:09<00:00,  1.30s/it]\n"
     ]
    },
    {
     "name": "stdout",
     "output_type": "stream",
     "text": [
      "\tLoss: 1.7831352949142456, Val Loss: 0.7571579217910767, LR: 0.00035381414763863166, Duration: 70.38 sec\n"
     ]
    },
    {
     "name": "stderr",
     "output_type": "stream",
     "text": [
      "Epoch 128: 100%|██████████| 53/53 [01:07<00:00,  1.28s/it]\n"
     ]
    },
    {
     "name": "stdout",
     "output_type": "stream",
     "text": [
      "\tLoss: 1.7040115943494833, Val Loss: 0.7612000703811646, LR: 0.00034549150281252633, Duration: 69.06 sec\n"
     ]
    },
    {
     "name": "stderr",
     "output_type": "stream",
     "text": [
      "Epoch 129: 100%|██████████| 53/53 [01:10<00:00,  1.34s/it]\n"
     ]
    },
    {
     "name": "stdout",
     "output_type": "stream",
     "text": [
      "\tLoss: 1.6541629096247115, Val Loss: 0.7370565831661224, LR: 0.00033721592277142175, Duration: 72.76 sec\n"
     ]
    },
    {
     "name": "stderr",
     "output_type": "stream",
     "text": [
      "Epoch 130: 100%|██████████| 53/53 [01:11<00:00,  1.34s/it]\n"
     ]
    },
    {
     "name": "stdout",
     "output_type": "stream",
     "text": [
      "\tLoss: 1.6527416559885133, Val Loss: 0.7483926117420197, LR: 0.0003289899283371657, Duration: 72.52 sec\n"
     ]
    },
    {
     "name": "stderr",
     "output_type": "stream",
     "text": [
      "Epoch 131: 100%|██████████| 53/53 [01:05<00:00,  1.23s/it]\n"
     ]
    },
    {
     "name": "stdout",
     "output_type": "stream",
     "text": [
      "\tLoss: 1.9254235321620725, Val Loss: 0.8238010704517365, LR: 0.00032081602522734986, Duration: 66.76 sec\n"
     ]
    },
    {
     "name": "stderr",
     "output_type": "stream",
     "text": [
      "Epoch 132: 100%|██████████| 53/53 [01:03<00:00,  1.20s/it]\n"
     ]
    },
    {
     "name": "stdout",
     "output_type": "stream",
     "text": [
      "\tLoss: 1.7973861154520288, Val Loss: 0.8003910779953003, LR: 0.00031269670329204396, Duration: 65.50 sec\n"
     ]
    },
    {
     "name": "stderr",
     "output_type": "stream",
     "text": [
      "Epoch 133: 100%|██████████| 53/53 [01:06<00:00,  1.26s/it]\n"
     ]
    },
    {
     "name": "stdout",
     "output_type": "stream",
     "text": [
      "\tLoss: 1.5003981657747953, Val Loss: 0.7092953324317932, LR: 0.0003046344357553632, Duration: 68.33 sec - model saved!\n"
     ]
    },
    {
     "name": "stderr",
     "output_type": "stream",
     "text": [
      "Epoch 134: 100%|██████████| 53/53 [01:09<00:00,  1.30s/it]\n"
     ]
    },
    {
     "name": "stdout",
     "output_type": "stream",
     "text": [
      "\tLoss: 1.644100769510809, Val Loss: 0.7418966293334961, LR: 0.0002966316784621, Duration: 70.40 sec\n"
     ]
    },
    {
     "name": "stderr",
     "output_type": "stream",
     "text": [
      "Epoch 135: 100%|██████████| 53/53 [01:05<00:00,  1.23s/it]\n"
     ]
    },
    {
     "name": "stdout",
     "output_type": "stream",
     "text": [
      "\tLoss: 1.4989878985117067, Val Loss: 0.776311844587326, LR: 0.0002886908691296504, Duration: 67.14 sec\n"
     ]
    },
    {
     "name": "stderr",
     "output_type": "stream",
     "text": [
      "Epoch 136: 100%|██████████| 53/53 [01:07<00:00,  1.28s/it]\n"
     ]
    },
    {
     "name": "stdout",
     "output_type": "stream",
     "text": [
      "\tLoss: 1.7423652759138144, Val Loss: 0.7555673122406006, LR: 0.00028081442660546124, Duration: 69.03 sec\n"
     ]
    },
    {
     "name": "stderr",
     "output_type": "stream",
     "text": [
      "Epoch 137: 100%|██████████| 53/53 [01:01<00:00,  1.16s/it]\n"
     ]
    },
    {
     "name": "stdout",
     "output_type": "stream",
     "text": [
      "\tLoss: 1.7876039552238752, Val Loss: 0.8455520868301392, LR: 0.00027300475013022663, Duration: 62.65 sec\n"
     ]
    },
    {
     "name": "stderr",
     "output_type": "stream",
     "text": [
      "Epoch 138: 100%|██████████| 53/53 [01:00<00:00,  1.15s/it]\n"
     ]
    },
    {
     "name": "stdout",
     "output_type": "stream",
     "text": [
      "\tLoss: 1.674104391403918, Val Loss: 0.7537186443805695, LR: 0.00026526421860705474, Duration: 62.02 sec\n"
     ]
    },
    {
     "name": "stderr",
     "output_type": "stream",
     "text": [
      "Epoch 139: 100%|██████████| 53/53 [01:02<00:00,  1.18s/it]\n"
     ]
    },
    {
     "name": "stdout",
     "output_type": "stream",
     "text": [
      "\tLoss: 1.6733639150295618, Val Loss: 0.7789199948310852, LR: 0.0002575951898768315, Duration: 63.69 sec\n"
     ]
    },
    {
     "name": "stderr",
     "output_type": "stream",
     "text": [
      "Epoch 140: 100%|██████████| 53/53 [01:04<00:00,  1.21s/it]\n"
     ]
    },
    {
     "name": "stdout",
     "output_type": "stream",
     "text": [
      "\tLoss: 1.7194854077303185, Val Loss: 0.7448199093341827, LR: 0.0002500000000000001, Duration: 65.73 sec\n"
     ]
    },
    {
     "name": "stderr",
     "output_type": "stream",
     "text": [
      "Epoch 141: 100%|██████████| 53/53 [01:06<00:00,  1.25s/it]\n"
     ]
    },
    {
     "name": "stdout",
     "output_type": "stream",
     "text": [
      "\tLoss: 1.6759010789529332, Val Loss: 0.8577691316604614, LR: 0.00024248096254497287, Duration: 67.50 sec\n"
     ]
    },
    {
     "name": "stderr",
     "output_type": "stream",
     "text": [
      "Epoch 142: 100%|██████████| 53/53 [01:04<00:00,  1.22s/it]\n"
     ]
    },
    {
     "name": "stdout",
     "output_type": "stream",
     "text": [
      "\tLoss: 1.5587398724735908, Val Loss: 0.7719778716564178, LR: 0.0002350403678833976, Duration: 66.06 sec\n"
     ]
    },
    {
     "name": "stderr",
     "output_type": "stream",
     "text": [
      "Epoch 143: 100%|██████████| 53/53 [01:07<00:00,  1.27s/it]\n"
     ]
    },
    {
     "name": "stdout",
     "output_type": "stream",
     "text": [
      "\tLoss: 1.5920397155689743, Val Loss: 0.7672890424728394, LR: 0.00022768048249248646, Duration: 69.12 sec\n"
     ]
    },
    {
     "name": "stderr",
     "output_type": "stream",
     "text": [
      "Epoch 144: 100%|██████████| 53/53 [01:07<00:00,  1.28s/it]\n"
     ]
    },
    {
     "name": "stdout",
     "output_type": "stream",
     "text": [
      "\tLoss: 1.6350026917907428, Val Loss: 0.7803880274295807, LR: 0.00022040354826462666, Duration: 69.15 sec\n"
     ]
    },
    {
     "name": "stderr",
     "output_type": "stream",
     "text": [
      "Epoch 145: 100%|██████████| 53/53 [01:07<00:00,  1.28s/it]\n"
     ]
    },
    {
     "name": "stdout",
     "output_type": "stream",
     "text": [
      "\tLoss: 1.7313790130165387, Val Loss: 0.7628268599510193, LR: 0.00021321178182447708, Duration: 69.28 sec\n"
     ]
    },
    {
     "name": "stderr",
     "output_type": "stream",
     "text": [
      "Epoch 146: 100%|██████████| 53/53 [01:07<00:00,  1.27s/it]\n"
     ]
    },
    {
     "name": "stdout",
     "output_type": "stream",
     "text": [
      "\tLoss: 1.8448800084725865, Val Loss: 0.7263382971286774, LR: 0.00020610737385376348, Duration: 68.69 sec\n"
     ]
    },
    {
     "name": "stderr",
     "output_type": "stream",
     "text": [
      "Epoch 147: 100%|██████████| 53/53 [01:11<00:00,  1.35s/it]\n"
     ]
    },
    {
     "name": "stdout",
     "output_type": "stream",
     "text": [
      "\tLoss: 1.5710603313625984, Val Loss: 0.7363249063491821, LR: 0.00019909248842397582, Duration: 72.98 sec\n"
     ]
    },
    {
     "name": "stderr",
     "output_type": "stream",
     "text": [
      "Epoch 148: 100%|██████████| 53/53 [01:08<00:00,  1.30s/it]\n"
     ]
    },
    {
     "name": "stdout",
     "output_type": "stream",
     "text": [
      "\tLoss: 1.6644068146651645, Val Loss: 0.7468211948871613, LR: 0.00019216926233717085, Duration: 70.19 sec\n"
     ]
    },
    {
     "name": "stderr",
     "output_type": "stream",
     "text": [
      "Epoch 149: 100%|██████████| 53/53 [01:11<00:00,  1.36s/it]\n"
     ]
    },
    {
     "name": "stdout",
     "output_type": "stream",
     "text": [
      "\tLoss: 1.7774302115980185, Val Loss: 0.7746618688106537, LR: 0.00018533980447508135, Duration: 73.29 sec\n"
     ]
    },
    {
     "name": "stderr",
     "output_type": "stream",
     "text": [
      "Epoch 150: 100%|██████████| 53/53 [01:09<00:00,  1.31s/it]\n"
     ]
    },
    {
     "name": "stdout",
     "output_type": "stream",
     "text": [
      "\tLoss: 1.7550000053531718, Val Loss: 0.763534426689148, LR: 0.0001786061951567303, Duration: 71.06 sec\n"
     ]
    },
    {
     "name": "stderr",
     "output_type": "stream",
     "text": [
      "Epoch 151: 100%|██████████| 53/53 [01:04<00:00,  1.22s/it]\n"
     ]
    },
    {
     "name": "stdout",
     "output_type": "stream",
     "text": [
      "\tLoss: 1.7215711541895597, Val Loss: 0.7391687035560608, LR: 0.00017197048550474643, Duration: 66.15 sec\n"
     ]
    },
    {
     "name": "stderr",
     "output_type": "stream",
     "text": [
      "Epoch 152: 100%|██████████| 53/53 [01:12<00:00,  1.36s/it]\n"
     ]
    },
    {
     "name": "stdout",
     "output_type": "stream",
     "text": [
      "\tLoss: 1.4832201138982233, Val Loss: 0.7897578179836273, LR: 0.00016543469682057105, Duration: 73.57 sec\n"
     ]
    },
    {
     "name": "stderr",
     "output_type": "stream",
     "text": [
      "Epoch 153: 100%|██████████| 53/53 [01:08<00:00,  1.30s/it]\n"
     ]
    },
    {
     "name": "stdout",
     "output_type": "stream",
     "text": [
      "\tLoss: 1.6660433377859727, Val Loss: 0.8007492125034332, LR: 0.00015900081996875082, Duration: 70.36 sec\n"
     ]
    },
    {
     "name": "stderr",
     "output_type": "stream",
     "text": [
      "Epoch 154: 100%|██████████| 53/53 [01:08<00:00,  1.30s/it]\n"
     ]
    },
    {
     "name": "stdout",
     "output_type": "stream",
     "text": [
      "\tLoss: 1.699189175974648, Val Loss: 0.7676083147525787, LR: 0.00015267081477050133, Duration: 70.30 sec\n"
     ]
    },
    {
     "name": "stderr",
     "output_type": "stream",
     "text": [
      "Epoch 155: 100%|██████████| 53/53 [01:10<00:00,  1.32s/it]\n"
     ]
    },
    {
     "name": "stdout",
     "output_type": "stream",
     "text": [
      "\tLoss: 1.8584195712827287, Val Loss: 0.7920304536819458, LR: 0.00014644660940672628, Duration: 71.61 sec\n"
     ]
    },
    {
     "name": "stderr",
     "output_type": "stream",
     "text": [
      "Epoch 156: 100%|██████████| 53/53 [01:08<00:00,  1.30s/it]\n"
     ]
    },
    {
     "name": "stdout",
     "output_type": "stream",
     "text": [
      "\tLoss: 1.6352944362838313, Val Loss: 0.7380310893058777, LR: 0.00014033009983067452, Duration: 71.37 sec\n"
     ]
    },
    {
     "name": "stderr",
     "output_type": "stream",
     "text": [
      "Epoch 157: 100%|██████████| 53/53 [01:07<00:00,  1.27s/it]\n"
     ]
    },
    {
     "name": "stdout",
     "output_type": "stream",
     "text": [
      "\tLoss: 1.535618670706479, Val Loss: 0.7428313195705414, LR: 0.00013432314919041476, Duration: 69.12 sec\n"
     ]
    },
    {
     "name": "stderr",
     "output_type": "stream",
     "text": [
      "Epoch 158: 100%|██████████| 53/53 [01:05<00:00,  1.24s/it]\n"
     ]
    },
    {
     "name": "stdout",
     "output_type": "stream",
     "text": [
      "\tLoss: 1.6580077409744263, Val Loss: 0.7649380266666412, LR: 0.00012842758726130281, Duration: 67.33 sec\n"
     ]
    },
    {
     "name": "stderr",
     "output_type": "stream",
     "text": [
      "Epoch 159: 100%|██████████| 53/53 [01:02<00:00,  1.19s/it]\n"
     ]
    },
    {
     "name": "stdout",
     "output_type": "stream",
     "text": [
      "\tLoss: 1.4511294578606229, Val Loss: 0.7064040899276733, LR: 0.000122645209888614, Duration: 64.48 sec - model saved!\n"
     ]
    },
    {
     "name": "stderr",
     "output_type": "stream",
     "text": [
      "Epoch 160: 100%|██████████| 53/53 [01:07<00:00,  1.27s/it]\n"
     ]
    },
    {
     "name": "stdout",
     "output_type": "stream",
     "text": [
      "\tLoss: 1.4770590460525368, Val Loss: 0.744839996099472, LR: 0.00011697777844051105, Duration: 68.80 sec\n"
     ]
    },
    {
     "name": "stderr",
     "output_type": "stream",
     "text": [
      "Epoch 161: 100%|██████████| 53/53 [01:05<00:00,  1.24s/it]\n"
     ]
    },
    {
     "name": "stdout",
     "output_type": "stream",
     "text": [
      "\tLoss: 1.6290813841909733, Val Loss: 0.722836971282959, LR: 0.00011142701927151455, Duration: 66.87 sec\n"
     ]
    },
    {
     "name": "stderr",
     "output_type": "stream",
     "text": [
      "Epoch 162: 100%|██████████| 53/53 [01:06<00:00,  1.26s/it]\n"
     ]
    },
    {
     "name": "stdout",
     "output_type": "stream",
     "text": [
      "\tLoss: 1.6622577883162588, Val Loss: 0.7437524795532227, LR: 0.00010599462319663906, Duration: 68.29 sec\n"
     ]
    },
    {
     "name": "stderr",
     "output_type": "stream",
     "text": [
      "Epoch 163: 100%|██████████| 53/53 [01:07<00:00,  1.27s/it]\n"
     ]
    },
    {
     "name": "stdout",
     "output_type": "stream",
     "text": [
      "\tLoss: 1.80148524383329, Val Loss: 0.7539777755737305, LR: 0.00010068224497635369, Duration: 68.38 sec\n"
     ]
    },
    {
     "name": "stderr",
     "output_type": "stream",
     "text": [
      "Epoch 164: 100%|██████████| 53/53 [01:05<00:00,  1.24s/it]\n"
     ]
    },
    {
     "name": "stdout",
     "output_type": "stream",
     "text": [
      "\tLoss: 1.8088075788515918, Val Loss: 0.808564305305481, LR: 9.549150281252633e-05, Duration: 67.12 sec\n"
     ]
    },
    {
     "name": "stderr",
     "output_type": "stream",
     "text": [
      "Epoch 165: 100%|██████████| 53/53 [01:06<00:00,  1.25s/it]\n"
     ]
    },
    {
     "name": "stdout",
     "output_type": "stream",
     "text": [
      "\tLoss: 1.5450115102641988, Val Loss: 0.7598788738250732, LR: 9.042397785550405e-05, Duration: 67.58 sec\n"
     ]
    },
    {
     "name": "stderr",
     "output_type": "stream",
     "text": [
      "Epoch 166: 100%|██████████| 53/53 [01:05<00:00,  1.24s/it]\n"
     ]
    },
    {
     "name": "stdout",
     "output_type": "stream",
     "text": [
      "\tLoss: 1.7334594085531414, Val Loss: 0.7724864482879639, LR: 8.548121372247918e-05, Duration: 67.01 sec\n"
     ]
    },
    {
     "name": "stderr",
     "output_type": "stream",
     "text": [
      "Epoch 167: 100%|██████████| 53/53 [01:05<00:00,  1.23s/it]\n"
     ]
    },
    {
     "name": "stdout",
     "output_type": "stream",
     "text": [
      "\tLoss: 1.6081511412026748, Val Loss: 0.7453342378139496, LR: 8.066471602728804e-05, Duration: 66.54 sec\n"
     ]
    },
    {
     "name": "stderr",
     "output_type": "stream",
     "text": [
      "Epoch 168: 100%|██████████| 53/53 [01:06<00:00,  1.25s/it]\n"
     ]
    },
    {
     "name": "stdout",
     "output_type": "stream",
     "text": [
      "\tLoss: 1.6563703586470406, Val Loss: 0.7552216351032257, LR: 7.597595192178702e-05, Duration: 67.43 sec\n"
     ]
    },
    {
     "name": "stderr",
     "output_type": "stream",
     "text": [
      "Epoch 169: 100%|██████████| 53/53 [01:04<00:00,  1.21s/it]\n"
     ]
    },
    {
     "name": "stdout",
     "output_type": "stream",
     "text": [
      "\tLoss: 1.75865408946883, Val Loss: 0.7454264163970947, LR: 7.14163496489439e-05, Duration: 65.68 sec\n"
     ]
    },
    {
     "name": "stderr",
     "output_type": "stream",
     "text": [
      "Epoch 170: 100%|██████████| 53/53 [01:08<00:00,  1.29s/it]\n"
     ]
    },
    {
     "name": "stdout",
     "output_type": "stream",
     "text": [
      "\tLoss: 1.6025583923987623, Val Loss: 0.746038556098938, LR: 6.698729810778065e-05, Duration: 69.57 sec\n"
     ]
    },
    {
     "name": "stderr",
     "output_type": "stream",
     "text": [
      "Epoch 171: 100%|██████████| 53/53 [01:11<00:00,  1.35s/it]\n"
     ]
    },
    {
     "name": "stdout",
     "output_type": "stream",
     "text": [
      "\tLoss: 1.707341009715818, Val Loss: 0.7153103053569794, LR: 6.269014643030213e-05, Duration: 72.80 sec\n"
     ]
    },
    {
     "name": "stderr",
     "output_type": "stream",
     "text": [
      "Epoch 172: 100%|██████████| 53/53 [01:12<00:00,  1.37s/it]\n"
     ]
    },
    {
     "name": "stdout",
     "output_type": "stream",
     "text": [
      "\tLoss: 1.5617030195470125, Val Loss: 0.7507217824459076, LR: 5.852620357053651e-05, Duration: 74.03 sec\n"
     ]
    },
    {
     "name": "stderr",
     "output_type": "stream",
     "text": [
      "Epoch 173: 100%|██████████| 53/53 [01:10<00:00,  1.33s/it]\n"
     ]
    },
    {
     "name": "stdout",
     "output_type": "stream",
     "text": [
      "\tLoss: 1.5632824751566041, Val Loss: 0.704144299030304, LR: 5.449673790581611e-05, Duration: 72.10 sec - model saved!\n"
     ]
    },
    {
     "name": "stderr",
     "output_type": "stream",
     "text": [
      "Epoch 174: 100%|██████████| 53/53 [01:07<00:00,  1.28s/it]\n"
     ]
    },
    {
     "name": "stdout",
     "output_type": "stream",
     "text": [
      "\tLoss: 1.603491943962169, Val Loss: 0.7226953506469727, LR: 5.060297685041659e-05, Duration: 69.29 sec\n"
     ]
    },
    {
     "name": "stderr",
     "output_type": "stream",
     "text": [
      "Epoch 175: 100%|██████████| 53/53 [01:04<00:00,  1.22s/it]\n"
     ]
    },
    {
     "name": "stdout",
     "output_type": "stream",
     "text": [
      "\tLoss: 1.6044494464712322, Val Loss: 0.748854249715805, LR: 4.684610648167503e-05, Duration: 66.38 sec\n"
     ]
    },
    {
     "name": "stderr",
     "output_type": "stream",
     "text": [
      "Epoch 176: 100%|██████████| 53/53 [01:05<00:00,  1.24s/it]\n"
     ]
    },
    {
     "name": "stdout",
     "output_type": "stream",
     "text": [
      "\tLoss: 1.6734905355381515, Val Loss: 0.7348622381687164, LR: 4.322727117869951e-05, Duration: 67.08 sec\n"
     ]
    },
    {
     "name": "stderr",
     "output_type": "stream",
     "text": [
      "Epoch 177: 100%|██████████| 53/53 [01:03<00:00,  1.20s/it]\n"
     ]
    },
    {
     "name": "stdout",
     "output_type": "stream",
     "text": [
      "\tLoss: 1.639394038128403, Val Loss: 0.7328132688999176, LR: 3.974757327377981e-05, Duration: 64.80 sec\n"
     ]
    },
    {
     "name": "stderr",
     "output_type": "stream",
     "text": [
      "Epoch 178: 100%|██████████| 53/53 [01:08<00:00,  1.29s/it]\n"
     ]
    },
    {
     "name": "stdout",
     "output_type": "stream",
     "text": [
      "\tLoss: 1.7110910190726227, Val Loss: 0.7692517936229706, LR: 3.6408072716606344e-05, Duration: 69.79 sec\n"
     ]
    },
    {
     "name": "stderr",
     "output_type": "stream",
     "text": [
      "Epoch 179: 100%|██████████| 53/53 [01:06<00:00,  1.26s/it]\n"
     ]
    },
    {
     "name": "stdout",
     "output_type": "stream",
     "text": [
      "\tLoss: 1.4783818328155662, Val Loss: 0.7065657079219818, LR: 3.3209786751399184e-05, Duration: 68.38 sec\n"
     ]
    },
    {
     "name": "stderr",
     "output_type": "stream",
     "text": [
      "Epoch 180: 100%|██████████| 53/53 [01:07<00:00,  1.27s/it]\n"
     ]
    },
    {
     "name": "stdout",
     "output_type": "stream",
     "text": [
      "\tLoss: 1.669161227514159, Val Loss: 0.7137289941310883, LR: 3.0153689607045842e-05, Duration: 68.36 sec\n"
     ]
    },
    {
     "name": "stderr",
     "output_type": "stream",
     "text": [
      "Epoch 181: 100%|██████████| 53/53 [01:06<00:00,  1.25s/it]\n"
     ]
    },
    {
     "name": "stdout",
     "output_type": "stream",
     "text": [
      "\tLoss: 1.672662857568489, Val Loss: 0.7190732955932617, LR: 2.724071220034158e-05, Duration: 67.54 sec\n"
     ]
    },
    {
     "name": "stderr",
     "output_type": "stream",
     "text": [
      "Epoch 182: 100%|██████████| 53/53 [01:06<00:00,  1.25s/it]\n"
     ]
    },
    {
     "name": "stdout",
     "output_type": "stream",
     "text": [
      "\tLoss: 1.5004848826606318, Val Loss: 0.7328768372535706, LR: 2.4471741852423235e-05, Duration: 67.79 sec\n"
     ]
    },
    {
     "name": "stderr",
     "output_type": "stream",
     "text": [
      "Epoch 183: 100%|██████████| 53/53 [01:05<00:00,  1.24s/it]\n"
     ]
    },
    {
     "name": "stdout",
     "output_type": "stream",
     "text": [
      "\tLoss: 1.6893092337644324, Val Loss: 0.7450671792030334, LR: 2.1847622018482283e-05, Duration: 66.81 sec\n"
     ]
    },
    {
     "name": "stderr",
     "output_type": "stream",
     "text": [
      "Epoch 184: 100%|██████████| 53/53 [01:07<00:00,  1.28s/it]\n"
     ]
    },
    {
     "name": "stdout",
     "output_type": "stream",
     "text": [
      "\tLoss: 1.570696346040042, Val Loss: 0.685739666223526, LR: 1.9369152030840554e-05, Duration: 69.42 sec - model saved!\n"
     ]
    },
    {
     "name": "stderr",
     "output_type": "stream",
     "text": [
      "Epoch 185: 100%|██████████| 53/53 [01:07<00:00,  1.28s/it]\n"
     ]
    },
    {
     "name": "stdout",
     "output_type": "stream",
     "text": [
      "\tLoss: 1.493210398925925, Val Loss: 0.6944133937358856, LR: 1.70370868554659e-05, Duration: 69.10 sec\n"
     ]
    },
    {
     "name": "stderr",
     "output_type": "stream",
     "text": [
      "Epoch 186: 100%|██████████| 53/53 [01:05<00:00,  1.23s/it]\n"
     ]
    },
    {
     "name": "stdout",
     "output_type": "stream",
     "text": [
      "\tLoss: 1.7141168196246308, Val Loss: 0.7194492816925049, LR: 1.4852136862001764e-05, Duration: 67.48 sec\n"
     ]
    },
    {
     "name": "stderr",
     "output_type": "stream",
     "text": [
      "Epoch 187: 100%|██████████| 53/53 [01:07<00:00,  1.28s/it]\n"
     ]
    },
    {
     "name": "stdout",
     "output_type": "stream",
     "text": [
      "\tLoss: 1.6904195243457578, Val Loss: 0.7415862083435059, LR: 1.2814967607382432e-05, Duration: 69.61 sec\n"
     ]
    },
    {
     "name": "stderr",
     "output_type": "stream",
     "text": [
      "Epoch 188: 100%|██████████| 53/53 [01:08<00:00,  1.29s/it]\n"
     ]
    },
    {
     "name": "stdout",
     "output_type": "stream",
     "text": [
      "\tLoss: 1.6522346498831264, Val Loss: 0.719210684299469, LR: 1.0926199633097156e-05, Duration: 70.39 sec\n"
     ]
    },
    {
     "name": "stderr",
     "output_type": "stream",
     "text": [
      "Epoch 189: 100%|██████████| 53/53 [01:08<00:00,  1.30s/it]\n"
     ]
    },
    {
     "name": "stdout",
     "output_type": "stream",
     "text": [
      "\tLoss: 1.5768055555955418, Val Loss: 0.7235369682312012, LR: 9.186408276168012e-06, Duration: 70.43 sec\n"
     ]
    },
    {
     "name": "stderr",
     "output_type": "stream",
     "text": [
      "Epoch 190: 100%|██████████| 53/53 [01:06<00:00,  1.26s/it]\n"
     ]
    },
    {
     "name": "stdout",
     "output_type": "stream",
     "text": [
      "\tLoss: 1.6261512513430614, Val Loss: 0.7520422339439392, LR: 7.59612349389599e-06, Duration: 68.27 sec\n"
     ]
    },
    {
     "name": "stderr",
     "output_type": "stream",
     "text": [
      "Epoch 191: 100%|██████████| 53/53 [01:04<00:00,  1.22s/it]\n"
     ]
    },
    {
     "name": "stdout",
     "output_type": "stream",
     "text": [
      "\tLoss: 1.634457581448105, Val Loss: 0.714269757270813, LR: 6.15582970243117e-06, Duration: 66.46 sec\n"
     ]
    },
    {
     "name": "stderr",
     "output_type": "stream",
     "text": [
      "Epoch 192: 100%|██████████| 53/53 [01:07<00:00,  1.27s/it]\n"
     ]
    },
    {
     "name": "stdout",
     "output_type": "stream",
     "text": [
      "\tLoss: 1.7364515223593082, Val Loss: 0.7056788504123688, LR: 4.865965629214819e-06, Duration: 68.38 sec\n"
     ]
    },
    {
     "name": "stderr",
     "output_type": "stream",
     "text": [
      "Epoch 193: 100%|██████████| 53/53 [01:07<00:00,  1.27s/it]\n"
     ]
    },
    {
     "name": "stdout",
     "output_type": "stream",
     "text": [
      "\tLoss: 1.6996433386262857, Val Loss: 0.7098640501499176, LR: 3.7269241793390084e-06, Duration: 69.09 sec\n"
     ]
    },
    {
     "name": "stderr",
     "output_type": "stream",
     "text": [
      "Epoch 194: 100%|██████████| 53/53 [01:11<00:00,  1.36s/it]\n"
     ]
    },
    {
     "name": "stdout",
     "output_type": "stream",
     "text": [
      "\tLoss: 1.5774643241234545, Val Loss: 0.7018886208534241, LR: 2.739052315863355e-06, Duration: 73.23 sec\n"
     ]
    },
    {
     "name": "stderr",
     "output_type": "stream",
     "text": [
      "Epoch 195: 100%|██████████| 53/53 [01:08<00:00,  1.30s/it]\n"
     ]
    },
    {
     "name": "stdout",
     "output_type": "stream",
     "text": [
      "\tLoss: 1.584841528028812, Val Loss: 0.7290970683097839, LR: 1.9026509541272275e-06, Duration: 70.69 sec\n"
     ]
    },
    {
     "name": "stderr",
     "output_type": "stream",
     "text": [
      "Epoch 196: 100%|██████████| 53/53 [01:06<00:00,  1.26s/it]\n"
     ]
    },
    {
     "name": "stdout",
     "output_type": "stream",
     "text": [
      "\tLoss: 1.6742625686357606, Val Loss: 0.7170135378837585, LR: 1.2179748700879012e-06, Duration: 68.17 sec\n"
     ]
    },
    {
     "name": "stderr",
     "output_type": "stream",
     "text": [
      "Epoch 197: 100%|██████████| 53/53 [01:06<00:00,  1.26s/it]\n"
     ]
    },
    {
     "name": "stdout",
     "output_type": "stream",
     "text": [
      "\tLoss: 1.5121302188567396, Val Loss: 0.7160431742668152, LR: 6.852326227130834e-07, Duration: 68.85 sec\n"
     ]
    },
    {
     "name": "stderr",
     "output_type": "stream",
     "text": [
      "Epoch 198: 100%|██████████| 53/53 [01:08<00:00,  1.29s/it]\n"
     ]
    },
    {
     "name": "stdout",
     "output_type": "stream",
     "text": [
      "\tLoss: 1.6255936757573541, Val Loss: 0.7210342884063721, LR: 3.0458649045211895e-07, Duration: 69.80 sec\n"
     ]
    },
    {
     "name": "stderr",
     "output_type": "stream",
     "text": [
      "Epoch 199: 100%|██████████| 53/53 [01:07<00:00,  1.28s/it]\n"
     ]
    },
    {
     "name": "stdout",
     "output_type": "stream",
     "text": [
      "\tLoss: 1.6224259981569253, Val Loss: 0.7067807018756866, LR: 7.615242180436521e-08, Duration: 69.50 sec\n"
     ]
    },
    {
     "name": "stderr",
     "output_type": "stream",
     "text": [
      "Epoch 200: 100%|██████████| 53/53 [01:06<00:00,  1.25s/it]\n"
     ]
    },
    {
     "name": "stdout",
     "output_type": "stream",
     "text": [
      "\tLoss: 1.6150663090202044, Val Loss: 0.7627346813678741, LR: 0.0, Duration: 67.73 sec\n",
      "Epoch 당 평균 소요시간 : 69.28초\n"
     ]
    }
   ],
   "source": [
    "training_time = 0\n",
    "losses = []\n",
    "val_losses = []\n",
    "lrs = []\n",
    "best_loss = float('inf')\n",
    "\n",
    "# GradScaler 초기화\n",
    "scaler = GradScaler()\n",
    "\n",
    "for epoch in range(epochs):\n",
    "    model.train()\n",
    "    start_time = time.time()\n",
    "    running_loss = 0.0\n",
    "    pbar = tqdm(enumerate(train_loader), total=len(train_loader), desc=f\"Epoch {epoch + 1}\")\n",
    "    \n",
    "    for _, data in pbar:\n",
    "        inputs, labels = data[0].to(device), data[1].to(device)\n",
    "        inputs, labels = mixup_fn(inputs, labels)\n",
    "        optimizer.zero_grad()\n",
    "\n",
    "        # AutoCast 적용\n",
    "        with autocast():\n",
    "            outputs = model(inputs)\n",
    "            loss = criterion(outputs, labels)\n",
    "            \n",
    "        # 스케일링된 그라디언트 계산\n",
    "        scaler.scale(loss).backward()\n",
    "\n",
    "        # 그라디언트 클리핑 전에 스케일링 제거\n",
    "        scaler.unscale_(optimizer)\n",
    "        clip_grad_norm_(model.parameters(), max_norm=max_norm)\n",
    "\n",
    "        # 옵티마이저 스텝 및 스케일러 업데이트\n",
    "        scaler.step(optimizer)\n",
    "        scaler.update()\n",
    "        scheduler.step()\n",
    "            \n",
    "        lr = optimizer.param_groups[0][\"lr\"]\n",
    "        lrs.append(lr)\n",
    "        running_loss += loss.item()\n",
    "\n",
    "    epoch_loss = running_loss / len(train_loader)\n",
    "    losses.append(epoch_loss)        \n",
    "\n",
    "    model.eval()\n",
    "    val_loss = 0.0\n",
    "    with torch.no_grad():\n",
    "        for data in valid_loader:\n",
    "            inputs, labels = data[0].to(device), data[1].to(device)\n",
    "            outputs = model(inputs)\n",
    "            loss = criterion(outputs, labels)\n",
    "            val_loss += loss.item()\n",
    "            \n",
    "    val_loss /= len(valid_loader)\n",
    "    val_losses.append(val_loss)\n",
    "    \n",
    "    # 모델 저장\n",
    "    if val_loss < best_loss:\n",
    "        best_loss = val_loss\n",
    "        vit_save = True\n",
    "        if vit_save:\n",
    "            torch.save(model.state_dict(), model_path)\n",
    "\n",
    "    epoch_duration = time.time() - start_time\n",
    "    training_time += epoch_duration\n",
    "    \n",
    "    text = f'\\tLoss: {epoch_loss}, Val Loss: {val_loss}, LR: {lr}, Duration: {epoch_duration:.2f} sec'\n",
    "    \n",
    "    if vit_save:\n",
    "        text += f' - model saved!'\n",
    "        vit_save = False\n",
    "\n",
    "    print(text)\n",
    "        \n",
    "text = f\"Epoch 당 평균 소요시간 : {training_time / epochs:.2f}초\"      \n",
    "print(text)"
   ]
  },
  {
   "cell_type": "code",
   "execution_count": 21,
   "metadata": {},
   "outputs": [
    {
     "data": {
      "text/html": [
       "<div>\n",
       "<style scoped>\n",
       "    .dataframe tbody tr th:only-of-type {\n",
       "        vertical-align: middle;\n",
       "    }\n",
       "\n",
       "    .dataframe tbody tr th {\n",
       "        vertical-align: top;\n",
       "    }\n",
       "\n",
       "    .dataframe thead th {\n",
       "        text-align: right;\n",
       "    }\n",
       "</style>\n",
       "<table border=\"1\" class=\"dataframe\">\n",
       "  <thead>\n",
       "    <tr style=\"text-align: right;\">\n",
       "      <th></th>\n",
       "      <th>Metric</th>\n",
       "      <th>Value</th>\n",
       "    </tr>\n",
       "  </thead>\n",
       "  <tbody>\n",
       "    <tr>\n",
       "      <th>0</th>\n",
       "      <td>Accuracy</td>\n",
       "      <td>0.882000</td>\n",
       "    </tr>\n",
       "    <tr>\n",
       "      <th>1</th>\n",
       "      <td>Precision</td>\n",
       "      <td>0.900060</td>\n",
       "    </tr>\n",
       "    <tr>\n",
       "      <th>2</th>\n",
       "      <td>Recall</td>\n",
       "      <td>0.882000</td>\n",
       "    </tr>\n",
       "    <tr>\n",
       "      <th>3</th>\n",
       "      <td>F1 Score</td>\n",
       "      <td>0.878017</td>\n",
       "    </tr>\n",
       "  </tbody>\n",
       "</table>\n",
       "</div>"
      ],
      "text/plain": [
       "      Metric     Value\n",
       "0   Accuracy  0.882000\n",
       "1  Precision  0.900060\n",
       "2     Recall  0.882000\n",
       "3   F1 Score  0.878017"
      ]
     },
     "execution_count": 21,
     "metadata": {},
     "output_type": "execute_result"
    }
   ],
   "source": [
    "# 예측 수행 및 레이블 저장\n",
    "all_preds = []\n",
    "all_labels = []\n",
    "with torch.no_grad():\n",
    "    for images, labels in test_loader:\n",
    "        images, labels = images.to(device), labels.to(device)\n",
    "        outputs = model(images)\n",
    "        _, predicted = torch.max(outputs, 1)\n",
    "        all_preds.extend(predicted.cpu().numpy())\n",
    "        all_labels.extend(labels.cpu().numpy())\n",
    "\n",
    "# 혼동 행렬 생성\n",
    "cm = confusion_matrix(all_labels, all_preds)\n",
    "\n",
    "# 예측과 실제 레이블\n",
    "y_true = all_labels  # 실제 레이블\n",
    "y_pred = all_preds  # 모델에 의해 예측된 레이블\n",
    "\n",
    "# 전체 데이터셋에 대한 정확도\n",
    "accuracy = accuracy_score(y_true, y_pred)\n",
    "\n",
    "# 평균 정밀도, 리콜, F1-Score ('weighted')\n",
    "precision, recall, f1_score, _ = precision_recall_fscore_support(y_true, y_pred, average='weighted')\n",
    "\n",
    "# 판다스 데이터프레임으로 결과 정리\n",
    "performance_metrics = pd.DataFrame({\n",
    "    'Metric': ['Accuracy', 'Precision', 'Recall', 'F1 Score'],\n",
    "    'Value': [accuracy, precision, recall, f1_score]\n",
    "})\n",
    "\n",
    "# 데이터프레임 출력\n",
    "performance_metrics"
   ]
  }
 ],
 "metadata": {
  "kernelspec": {
   "display_name": "Python 3",
   "language": "python",
   "name": "python3"
  },
  "language_info": {
   "codemirror_mode": {
    "name": "ipython",
    "version": 3
   },
   "file_extension": ".py",
   "mimetype": "text/x-python",
   "name": "python",
   "nbconvert_exporter": "python",
   "pygments_lexer": "ipython3",
   "version": "3.10.12"
  }
 },
 "nbformat": 4,
 "nbformat_minor": 2
}
