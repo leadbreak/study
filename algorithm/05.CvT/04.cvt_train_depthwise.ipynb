{
 "cells": [
  {
   "cell_type": "markdown",
   "metadata": {},
   "source": [
    "depthwise cvt-13"
   ]
  },
  {
   "cell_type": "code",
   "execution_count": 1,
   "metadata": {},
   "outputs": [
    {
     "name": "stderr",
     "output_type": "stream",
     "text": [
      "/usr/local/lib/python3.10/dist-packages/tqdm/auto.py:21: TqdmWarning: IProgress not found. Please update jupyter and ipywidgets. See https://ipywidgets.readthedocs.io/en/stable/user_install.html\n",
      "  from .autonotebook import tqdm as notebook_tqdm\n"
     ]
    }
   ],
   "source": [
    "import numpy as np\n",
    "from collections import OrderedDict\n",
    "\n",
    "import torch\n",
    "import torch.nn as nn\n",
    "import torch.nn.functional as F\n",
    "\n",
    "import torch.optim as optim\n",
    "from torchvision import transforms\n",
    "from torchvision.datasets import ImageFolder\n",
    "from torch.utils.data import DataLoader\n",
    "\n",
    "from torch.cuda.amp import autocast, GradScaler\n",
    "from torch.nn.utils import clip_grad_norm_\n",
    "from tqdm import tqdm\n",
    "import time\n",
    "\n",
    "from timm.data import Mixup\n",
    "import transformers\n",
    "\n",
    "from einops import rearrange\n",
    "from einops.layers.torch import Rearrange\n",
    "\n",
    "from timm.models.layers import DropPath, trunc_normal_, to_2tuple\n",
    "\n",
    "from sklearn.metrics import confusion_matrix\n",
    "import pandas as pd\n",
    "from sklearn.metrics import accuracy_score, precision_recall_fscore_support"
   ]
  },
  {
   "cell_type": "markdown",
   "metadata": {},
   "source": [
    "# 01.Convolutional Token Embedding"
   ]
  },
  {
   "cell_type": "code",
   "execution_count": 2,
   "metadata": {},
   "outputs": [],
   "source": [
    "class ConvEmbed(nn.Module):\n",
    "    '''\n",
    "    img/token map to Conv Embedding\n",
    "    '''\n",
    "    \n",
    "    def __init__(self,\n",
    "                 patch_size=7, # [7, 3, 3]\n",
    "                 in_chans=3,   # [3, dim of stage1, dim of stage2]\n",
    "                 embed_dim=64, # [64, 192, 384]\n",
    "                 stride=4,     # [4, 2, 2]\n",
    "                 padding=2,    # [2, 1, 1]\n",
    "                 norm_layer=None):\n",
    "        super().__init__()\n",
    "        self.patch_size = to_2tuple(patch_size)\n",
    "        \n",
    "        self.proj = nn.Conv2d(\n",
    "            in_channels=in_chans,\n",
    "            out_channels=embed_dim,\n",
    "            kernel_size=patch_size,\n",
    "            stride=stride,\n",
    "            padding=padding\n",
    "        )\n",
    "        \n",
    "        self.norm = norm_layer(embed_dim) if norm_layer else nn.Identity()\n",
    "        \n",
    "    def forward(self, x):\n",
    "        x = self.proj(x)\n",
    "        \n",
    "        _, _, H, W = x.shape\n",
    "        x = rearrange(x, 'b c h w -> b (h w) c')\n",
    "        x = self.norm(x)\n",
    "        x = rearrange(x, 'b (h w) c -> b c h w', h=H, w=W)\n",
    "        return x\n",
    "    "
   ]
  },
  {
   "cell_type": "code",
   "execution_count": 3,
   "metadata": {},
   "outputs": [],
   "source": [
    "class AttentionConv(nn.Module):\n",
    "    def __init__(self,\n",
    "                 dim=64,        # [64,192,384]\n",
    "                 num_heads=4,   # paper: [1,3,6], me: [4,8,16]\n",
    "                 qkv_bias=False,\n",
    "                 attn_drop=0.,\n",
    "                 proj_drop=0.,\n",
    "                 kernel_size=3,\n",
    "                 padding_q=1,\n",
    "                 padding_kv=1,\n",
    "                 stride_q=1,\n",
    "                 stride_kv=2,\n",
    "                 **kwargs\n",
    "                 ):\n",
    "        super().__init__()\n",
    "        self.stride_q = stride_q\n",
    "        self.stride_kv = stride_kv\n",
    "        self.dim = dim\n",
    "        self.num_heads = num_heads        \n",
    "        self.scale = dim ** -0.5\n",
    "        \n",
    "        self.conv_proj_q = self._build_projection(dim,\n",
    "                                                  kernel_size,\n",
    "                                                  padding_q,\n",
    "                                                  stride_q,\n",
    "                                                  )\n",
    "        self.conv_proj_k = self._build_projection(dim,\n",
    "                                                  kernel_size,\n",
    "                                                  padding_kv,\n",
    "                                                  stride_kv,\n",
    "                                                  )\n",
    "        \n",
    "        self.conv_proj_v = self._build_projection(dim,\n",
    "                                                  kernel_size,\n",
    "                                                  padding_kv,\n",
    "                                                  stride_kv,\n",
    "                                                  )\n",
    "        \n",
    "        self.linear_proj_q = nn.Linear(dim, dim, bias=qkv_bias)\n",
    "        self.linear_proj_k = nn.Linear(dim, dim, bias=qkv_bias)\n",
    "        self.linear_proj_v = nn.Linear(dim, dim, bias=qkv_bias)\n",
    "        \n",
    "        self.attn_drop = nn.Dropout(attn_drop)\n",
    "        self.linear_proj_last = nn.Linear(dim, dim)\n",
    "        self.proj_drop = nn.Dropout(proj_drop)        \n",
    "        \n",
    "    def _build_projection(self,\n",
    "                          dim,\n",
    "                          kernel_size,\n",
    "                          padding,\n",
    "                          stride,\n",
    "                          ):\n",
    "        \n",
    "        proj = nn.Sequential(OrderedDict([\n",
    "            ('conv', nn.Conv2d(\n",
    "                dim,\n",
    "                dim,\n",
    "                kernel_size=kernel_size,\n",
    "                padding=padding,\n",
    "                stride=stride,\n",
    "                bias=False,\n",
    "                groups=dim)),\n",
    "            ('bn', nn.BatchNorm2d(dim)),\n",
    "            ('rearrange', Rearrange('b c h w -> b (h w) c'))\n",
    "        ]))\n",
    "        \n",
    "        return proj\n",
    "    \n",
    "    def forward(self, x, h, w):\n",
    "        x = rearrange(x, 'b (h w) c -> b c h w', h=h, w=w)\n",
    "        \n",
    "        q = self.conv_proj_q(x)\n",
    "        k = self.conv_proj_k(x)\n",
    "        v = self.conv_proj_v(x)\n",
    "        \n",
    "        q = rearrange(self.linear_proj_q(q), 'b t (h d) -> b h t d', h=self.num_heads)\n",
    "        k = rearrange(self.linear_proj_k(k), 'b t (h d) -> b h t d', h=self.num_heads)\n",
    "        v = rearrange(self.linear_proj_v(v), 'b t (h d) -> b h t d', h=self.num_heads)\n",
    "        \n",
    "        attn_score = torch.einsum('bhlk,bhtk->bhlt', [q, k]) * self.scale\n",
    "        attn = self.attn_drop(F.softmax(attn_score, dim=-1))\n",
    "        \n",
    "        x = torch.matmul(attn, v)\n",
    "        batch_size, num_heads, seq_length, depth = x.size()\n",
    "        x = x.view(batch_size, seq_length, num_heads * depth)\n",
    "        \n",
    "        x = self.proj_drop(self.linear_proj_last(x))\n",
    "        \n",
    "        return x\n"
   ]
  },
  {
   "cell_type": "code",
   "execution_count": 4,
   "metadata": {},
   "outputs": [],
   "source": [
    "# transformer block에 작은 스케일 인자 곱하기\n",
    "class LayerScale(nn.Module):\n",
    "    def __init__(self, dim, init_values=1e-5):\n",
    "        super().__init__()\n",
    "        self.gamma = nn.Parameter(init_values * torch.ones((dim)))\n",
    "\n",
    "    def forward(self, x):\n",
    "        return self.gamma * x"
   ]
  },
  {
   "cell_type": "code",
   "execution_count": 5,
   "metadata": {},
   "outputs": [],
   "source": [
    "class Block(nn.Module):\n",
    "    \n",
    "    def __init__(self,\n",
    "                 dim,\n",
    "                 num_heads,\n",
    "                 mlp_ratio=4.,\n",
    "                 qkv_bias=False,\n",
    "                 drop=0.,\n",
    "                 attn_drop=0.,\n",
    "                 drop_path=0.,\n",
    "                 act_layer=nn.GELU,\n",
    "                 norm_layer=nn.LayerNorm,\n",
    "                 **kwargs\n",
    "                ):\n",
    "        super().__init__()\n",
    "        \n",
    "        self.norm1 = norm_layer(dim)\n",
    "        self.ls1 = LayerScale(dim)\n",
    "        self.attn = AttentionConv(dim=dim,\n",
    "                                  num_heads=num_heads,\n",
    "                                  qkv_bias=qkv_bias,\n",
    "                                  attn_drop=attn_drop,\n",
    "                                  proj_drop=drop,\n",
    "                                  **kwargs)        \n",
    "        self.drop_path = DropPath(drop_path) if drop_path > 0. else nn.Identity()\n",
    "        self.norm2 = norm_layer(dim)\n",
    "        self.ls2 = LayerScale(dim)\n",
    "        mlp_hidden_dim = int(dim*mlp_ratio)\n",
    "        self.mlp = nn.Sequential(\n",
    "            nn.Linear(dim, mlp_hidden_dim),\n",
    "            act_layer(),\n",
    "            nn.Linear(mlp_hidden_dim, dim),\n",
    "            nn.Dropout(drop),\n",
    "        )\n",
    "        \n",
    "    def forward(self, x, h, w):\n",
    "        res = x\n",
    "        x = self.norm1(x)\n",
    "        attn = self.attn(x, h, w)\n",
    "        x = res + self.drop_path(self.ls1(attn))\n",
    "        x = x + self.drop_path(self.ls2(self.mlp(self.norm2(x))))\n",
    "        return x"
   ]
  },
  {
   "cell_type": "code",
   "execution_count": 6,
   "metadata": {},
   "outputs": [],
   "source": [
    "test_img = torch.Tensor(np.zeros((2,3,224,224))) # B, C, H, W\n",
    "\n",
    "block = Block(dim=64,\n",
    "              num_heads=4)"
   ]
  },
  {
   "cell_type": "code",
   "execution_count": 7,
   "metadata": {},
   "outputs": [
    {
     "name": "stdout",
     "output_type": "stream",
     "text": [
      "stage 1 | img shape: torch.Size([2, 3, 224, 224]) → Conv Embed Shape: torch.Size([2, 64, 56, 56])\n"
     ]
    }
   ],
   "source": [
    "# Stage 1 \n",
    "\n",
    "## Patch Embedding\n",
    "convembed = ConvEmbed(patch_size=7, stride=4, padding=2)\n",
    "stage1_img = convembed(test_img)\n",
    "\n",
    "## Attention with Convolution\n",
    "b, c, h, w = stage1_img.shape\n",
    "stage1_img = rearrange(stage1_img, 'b c h w -> b (h w) c')\n",
    "stage1_img = block(stage1_img, h=h, w=w)\n",
    "stage1_img = rearrange(stage1_img, 'b (h w) c -> b c h w', h=h, w=w)\n",
    "\n",
    "## Check Result\n",
    "print(f'stage 1 | img shape: {test_img.shape} → Conv Embed Shape: {stage1_img.shape}')"
   ]
  },
  {
   "cell_type": "code",
   "execution_count": 8,
   "metadata": {},
   "outputs": [
    {
     "name": "stdout",
     "output_type": "stream",
     "text": [
      "stage 2 | img shape: torch.Size([2, 64, 56, 56]) → Conv Embed Shape: torch.Size([2, 64, 28, 28])\n"
     ]
    }
   ],
   "source": [
    "# Stage 2 \n",
    "\n",
    "## Patch Embedding\n",
    "convembed = ConvEmbed(patch_size=3, in_chans=64, stride=2, padding=1)\n",
    "stage2_img = convembed(stage1_img)\n",
    "\n",
    "## Attention with Convolution\n",
    "b, c, h, w = stage2_img.shape\n",
    "stage2_img = rearrange(stage2_img, 'b c h w -> b (h w) c')\n",
    "stage2_img = block(stage2_img, h=h, w=w)\n",
    "stage2_img = rearrange(stage2_img, 'b (h w) c -> b c h w', h=h, w=w)\n",
    "\n",
    "## Check Result\n",
    "print(f'stage 2 | img shape: {stage1_img.shape} → Conv Embed Shape: {stage2_img.shape}')"
   ]
  },
  {
   "cell_type": "code",
   "execution_count": 9,
   "metadata": {},
   "outputs": [
    {
     "name": "stdout",
     "output_type": "stream",
     "text": [
      "stage 3 | img shape: torch.Size([2, 64, 28, 28]) → Conv Embed Shape: torch.Size([2, 64, 14, 14])\n"
     ]
    }
   ],
   "source": [
    "# Stage 3 \n",
    "\n",
    "## Patch Embedding\n",
    "convembed = ConvEmbed(patch_size=3, in_chans=64, stride=2, padding=1)\n",
    "stage3_img = convembed(stage2_img)\n",
    "\n",
    "## Attention with Convolution\n",
    "b, c, h, w = stage3_img.shape\n",
    "stage3_img = rearrange(stage3_img, 'b c h w -> b (h w) c')\n",
    "stage3_img = block(stage3_img, h=h, w=w)\n",
    "stage3_img = rearrange(stage3_img, 'b (h w) c -> b c h w', h=h, w=w)\n",
    "\n",
    "## Check Result\n",
    "print(f'stage 3 | img shape: {stage2_img.shape} → Conv Embed Shape: {stage3_img.shape}')"
   ]
  },
  {
   "cell_type": "code",
   "execution_count": 10,
   "metadata": {},
   "outputs": [],
   "source": [
    "class VisionTransformer(nn.Module):\n",
    "    def __init__(self,\n",
    "                 patch_size=16,\n",
    "                 patch_stride=16,\n",
    "                 patch_padding=0,\n",
    "                 in_chans=3,\n",
    "                 embed_dim=768,\n",
    "                 depth=12,\n",
    "                 num_heads=12,\n",
    "                 mlp_ratio=4.,\n",
    "                 qkv_bias=False,\n",
    "                 drop_rate=0.,\n",
    "                 attn_drop_rate=0.,\n",
    "                 drop_path_rate=0.,\n",
    "                 act_layer=nn.GELU,\n",
    "                 norm_layer=nn.LayerNorm,\n",
    "                 init='trunc_norm',\n",
    "                 **kwargs\n",
    "                 ):\n",
    "        \n",
    "        super().__init__()\n",
    "\n",
    "        self.patch_embed = ConvEmbed(\n",
    "            patch_size=patch_size,\n",
    "            in_chans=in_chans,\n",
    "            stride=patch_stride,\n",
    "            padding=patch_padding,\n",
    "            embed_dim=embed_dim,\n",
    "            norm_layer=norm_layer\n",
    "        )\n",
    "\n",
    "        self.pos_drop = nn.Dropout(p=drop_rate)\n",
    "\n",
    "        self.blocks = nn.ModuleList([\n",
    "            Block(\n",
    "                dim=embed_dim,\n",
    "                num_heads=num_heads,\n",
    "                mlp_ratio=mlp_ratio,\n",
    "                qkv_bias=qkv_bias,\n",
    "                drop=drop_rate,\n",
    "                attn_drop=attn_drop_rate,\n",
    "                drop_path=drop_path_rate,\n",
    "                act_layer=act_layer,\n",
    "                norm_layer=norm_layer,\n",
    "                **kwargs\n",
    "            ) for _ in range(depth)\n",
    "        ])\n",
    "\n",
    "        if init == 'xavier':\n",
    "            self.apply(self._init_weights_xavier)\n",
    "        else:\n",
    "            self.apply(self._init_weights_trunc_normal)\n",
    "\n",
    "    def _init_weights_trunc_normal(self, m):\n",
    "        if isinstance(m, nn.Linear):\n",
    "            trunc_normal_(m.weight, std=0.02)\n",
    "            if m.bias is not None:\n",
    "                nn.init.constant_(m.bias, 0)\n",
    "        elif isinstance(m, (nn.LayerNorm, nn.BatchNorm2d)):\n",
    "            nn.init.constant_(m.bias, 0)\n",
    "            nn.init.constant_(m.weight, 1.0)\n",
    "\n",
    "    def _init_weights_xavier(self, m):\n",
    "        if isinstance(m, nn.Linear):\n",
    "            nn.init.xavier_uniform_(m.weight)\n",
    "            if m.bias is not None:\n",
    "                nn.init.constant_(m.bias, 0)\n",
    "        elif isinstance(m, (nn.LayerNorm, nn.BatchNorm2d)):\n",
    "            nn.init.constant_(m.bias, 0)\n",
    "            nn.init.constant_(m.weight, 1.0)\n",
    "\n",
    "    def forward(self, x):\n",
    "        x = self.patch_embed(x)\n",
    "        _, _, H, W = x.size()\n",
    "\n",
    "        x = rearrange(x, 'b c h w -> b (h w) c')\n",
    "        x = self.pos_drop(x)\n",
    "\n",
    "        for _, blk in enumerate(self.blocks):\n",
    "            x = blk(x, H, W)\n",
    "        x = rearrange(x, 'b (h w) c -> b c h w', h=H, w=W)\n",
    "        return x"
   ]
  },
  {
   "cell_type": "code",
   "execution_count": 11,
   "metadata": {},
   "outputs": [],
   "source": [
    "class ConvolutionalVisionTransformer(nn.Module):\n",
    "    def __init__(self,\n",
    "                 in_chans=3,\n",
    "                 num_classes=100,\n",
    "                 act_layer=nn.GELU,\n",
    "                 norm_layer=nn.LayerNorm,\n",
    "                 init='trunc_norm',\n",
    "                 spec=None):\n",
    "        super().__init__()\n",
    "        self.num_classes = num_classes\n",
    "\n",
    "        self.num_stages = spec['NUM_STAGES']\n",
    "        self.stages = nn.ModuleList()\n",
    "        for i in range(self.num_stages):\n",
    "            kwargs = {\n",
    "                'patch_size': spec['PATCH_SIZE'][i],\n",
    "                'patch_stride': spec['PATCH_STRIDE'][i],\n",
    "                'patch_padding': spec['PATCH_PADDING'][i],\n",
    "                'embed_dim': spec['DIM_EMBED'][i],\n",
    "                'depth': spec['DEPTH'][i],\n",
    "                'num_heads': spec['NUM_HEADS'][i],\n",
    "                'mlp_ratio': spec['MLP_RATIO'][i],\n",
    "                'qkv_bias': spec['QKV_BIAS'][i],\n",
    "                'drop_rate': spec['DROP_RATE'][i],\n",
    "                'attn_drop_rate': spec['ATTN_DROP_RATE'][i],\n",
    "                'drop_path_rate': spec['DROP_PATH_RATE'][i],\n",
    "                'kernel_size': spec['KERNEL_QKV'][i],\n",
    "                'padding_q': spec['PADDING_Q'][i],\n",
    "                'padding_kv': spec['PADDING_KV'][i],\n",
    "                'stride_q': spec['STRIDE_Q'][i],\n",
    "                'stride_kv': spec['STRIDE_KV'][i],\n",
    "            }\n",
    "\n",
    "            stage = VisionTransformer(\n",
    "                in_chans=in_chans,\n",
    "                init=init,\n",
    "                act_layer=act_layer,\n",
    "                norm_layer=norm_layer,\n",
    "                **kwargs\n",
    "            )\n",
    "            \n",
    "            self.stages.append(stage)\n",
    "\n",
    "            in_chans = spec['DIM_EMBED'][i]\n",
    "\n",
    "        dim_embed = spec['DIM_EMBED'][-1]\n",
    "        self.norm = norm_layer(dim_embed)\n",
    "        self.pooler = nn.AdaptiveAvgPool1d(1)\n",
    "\n",
    "        # Classifier head\n",
    "        self.head = nn.Linear(dim_embed, num_classes) if num_classes > 0 else nn.Identity()\n",
    "        trunc_normal_(self.head.weight, std=0.02)\n",
    "\n",
    "    def forward_features(self, x):\n",
    "        for stage in self.stages:\n",
    "            x = stage(x)\n",
    "        x = rearrange(x, 'b c h w -> b (h w) c') # (B, L, C)\n",
    "        x = self.norm(x)                         # (B, L, C)\n",
    "        x = self.pooler(x.transpose(1,2))        # (B, C, 1)\n",
    "        x = torch.flatten(x, 1)                  # (B, C)\n",
    "        return x\n",
    "\n",
    "    def forward(self, x):\n",
    "        x = self.forward_features(x)\n",
    "        x = self.head(x)\n",
    "\n",
    "        return x"
   ]
  },
  {
   "cell_type": "code",
   "execution_count": 12,
   "metadata": {},
   "outputs": [],
   "source": [
    "class QuickGELU(nn.Module):\n",
    "    def forward(self, x: torch.Tensor):\n",
    "        return x * torch.sigmoid(1.702 * x)"
   ]
  },
  {
   "cell_type": "code",
   "execution_count": 13,
   "metadata": {},
   "outputs": [
    {
     "data": {
      "text/plain": [
       "{'NUM_STAGES': 3,\n",
       " 'PATCH_SIZE': [7, 3, 3],\n",
       " 'PATCH_STRIDE': [4, 2, 2],\n",
       " 'PATCH_PADDING': [2, 1, 1],\n",
       " 'DIM_EMBED': [64, 192, 384],\n",
       " 'DEPTH': [1, 2, 10],\n",
       " 'NUM_HEADS': [1, 3, 6],\n",
       " 'MLP_RATIO': [4.0, 4.0, 4.0],\n",
       " 'QKV_BIAS': [True, True, True],\n",
       " 'DROP_RATE': [0.0, 0.0, 0.0],\n",
       " 'ATTN_DROP_RATE': [0.0, 0.0, 0.0],\n",
       " 'DROP_PATH_RATE': [0.0, 0.0, 0.1],\n",
       " 'KERNEL_QKV': [3, 3, 3],\n",
       " 'PADDING_Q': [1, 1, 1],\n",
       " 'PADDING_KV': [1, 1, 1],\n",
       " 'STRIDE_Q': [1, 1, 1],\n",
       " 'STRIDE_KV': [2, 2, 2]}"
      ]
     },
     "execution_count": 13,
     "metadata": {},
     "output_type": "execute_result"
    }
   ],
   "source": [
    "spec = {\n",
    "    'NUM_STAGES': 3,\n",
    "    'PATCH_SIZE': [7,3,3],\n",
    "    'PATCH_STRIDE': [4,2,2],\n",
    "    'PATCH_PADDING': [2,1,1],\n",
    "    'DIM_EMBED': [64,192,384],\n",
    "    'DEPTH': [1,2,10],\n",
    "    'NUM_HEADS': [1,3,6],   # original : [1,3,6]\n",
    "    'MLP_RATIO': [4.,4.,4.],\n",
    "    'QKV_BIAS': [True, True, True],\n",
    "    'DROP_RATE': [0.,0.,0.],\n",
    "    'ATTN_DROP_RATE': [0.,0.,0.],\n",
    "    'DROP_PATH_RATE': [0.,0.,0.1],\n",
    "    'KERNEL_QKV': [3,3,3],\n",
    "    'PADDING_Q': [1,1,1],\n",
    "    'PADDING_KV': [1,1,1],\n",
    "    'STRIDE_Q': [1,1,1],\n",
    "    'STRIDE_KV': [2,2,2],\n",
    "}\n",
    "\n",
    "spec"
   ]
  },
  {
   "cell_type": "code",
   "execution_count": 14,
   "metadata": {},
   "outputs": [
    {
     "data": {
      "text/plain": [
       "(torch.Size([2, 3, 224, 224]),\n",
       " torch.Size([2, 100]),\n",
       " tensor([[-7.9516e-01,  8.9927e-02, -7.9876e-01,  1.9718e-01,  6.7919e-01,\n",
       "           5.6505e-01, -5.7144e-01, -7.0451e-01, -4.0002e-01,  1.6177e-01,\n",
       "          -4.2596e-01,  2.3073e-01, -1.2838e-01, -7.0041e-01,  5.5844e-02,\n",
       "          -1.2933e-01, -7.1162e-01, -4.7629e-01, -1.5207e-01,  4.1306e-01,\n",
       "          -2.7655e-01, -3.8693e-02,  5.6808e-01, -1.2431e+00,  1.4201e-01,\n",
       "          -4.1541e-01, -2.5885e-01,  2.3689e-01, -1.8220e-01,  2.0186e-01,\n",
       "          -1.8760e-03,  4.2509e-01, -1.3690e-01, -2.6694e-01,  5.8804e-01,\n",
       "          -2.9382e-01, -5.0694e-01,  2.9230e-01,  1.7002e-01,  4.9806e-01,\n",
       "           2.5904e-01, -1.7182e-01, -9.2920e-02,  1.8590e-01,  2.5689e-01,\n",
       "          -4.7757e-02, -3.9020e-01,  4.1199e-01,  1.0601e-01,  3.0157e-01,\n",
       "          -2.6591e-01, -3.0358e-01,  2.4360e-01, -2.8593e-01, -3.6533e-02,\n",
       "          -1.3611e-01,  6.7637e-01, -1.4739e-01, -5.0525e-02, -4.8399e-01,\n",
       "          -1.5807e-01, -1.4355e-01,  1.1490e-01,  4.3266e-01,  1.9668e-01,\n",
       "           4.9137e-02, -8.4235e-01,  4.6231e-01, -1.3596e-01,  3.7592e-01,\n",
       "           1.4539e-01,  2.8148e-01, -6.4349e-01,  4.1544e-01,  8.5329e-02,\n",
       "          -3.1802e-01, -3.9033e-01, -1.8251e-01, -4.2127e-02, -4.6616e-01,\n",
       "           9.9829e-02,  9.1325e-02, -2.9853e-01, -1.2250e+00, -1.8476e-04,\n",
       "           6.5881e-02, -2.3592e-01,  1.7786e-01,  7.2648e-01,  1.0765e-01,\n",
       "          -5.9484e-01,  1.3139e-01,  3.8033e-01, -1.5512e-01, -1.1112e-02,\n",
       "           5.5932e-01,  1.7184e-01, -3.1337e-01,  5.5057e-02, -5.5671e-02],\n",
       "         [-7.9516e-01,  8.9926e-02, -7.9876e-01,  1.9718e-01,  6.7919e-01,\n",
       "           5.6505e-01, -5.7144e-01, -7.0451e-01, -4.0002e-01,  1.6177e-01,\n",
       "          -4.2596e-01,  2.3073e-01, -1.2838e-01, -7.0040e-01,  5.5845e-02,\n",
       "          -1.2932e-01, -7.1163e-01, -4.7630e-01, -1.5207e-01,  4.1306e-01,\n",
       "          -2.7655e-01, -3.8694e-02,  5.6808e-01, -1.2431e+00,  1.4201e-01,\n",
       "          -4.1541e-01, -2.5885e-01,  2.3689e-01, -1.8220e-01,  2.0186e-01,\n",
       "          -1.8760e-03,  4.2509e-01, -1.3690e-01, -2.6694e-01,  5.8804e-01,\n",
       "          -2.9382e-01, -5.0693e-01,  2.9230e-01,  1.7002e-01,  4.9806e-01,\n",
       "           2.5904e-01, -1.7182e-01, -9.2920e-02,  1.8590e-01,  2.5689e-01,\n",
       "          -4.7757e-02, -3.9020e-01,  4.1199e-01,  1.0601e-01,  3.0157e-01,\n",
       "          -2.6591e-01, -3.0359e-01,  2.4360e-01, -2.8594e-01, -3.6533e-02,\n",
       "          -1.3611e-01,  6.7637e-01, -1.4739e-01, -5.0524e-02, -4.8399e-01,\n",
       "          -1.5807e-01, -1.4355e-01,  1.1490e-01,  4.3266e-01,  1.9668e-01,\n",
       "           4.9136e-02, -8.4235e-01,  4.6231e-01, -1.3596e-01,  3.7592e-01,\n",
       "           1.4539e-01,  2.8148e-01, -6.4349e-01,  4.1544e-01,  8.5329e-02,\n",
       "          -3.1802e-01, -3.9033e-01, -1.8251e-01, -4.2127e-02, -4.6616e-01,\n",
       "           9.9830e-02,  9.1325e-02, -2.9853e-01, -1.2250e+00, -1.8426e-04,\n",
       "           6.5880e-02, -2.3592e-01,  1.7786e-01,  7.2648e-01,  1.0764e-01,\n",
       "          -5.9484e-01,  1.3139e-01,  3.8033e-01, -1.5512e-01, -1.1113e-02,\n",
       "           5.5932e-01,  1.7184e-01, -3.1338e-01,  5.5057e-02, -5.5672e-02]],\n",
       "        grad_fn=<AddmmBackward0>))"
      ]
     },
     "execution_count": 14,
     "metadata": {},
     "output_type": "execute_result"
    }
   ],
   "source": [
    "model = ConvolutionalVisionTransformer(act_layer=QuickGELU, spec=spec)\n",
    "\n",
    "test_result = model(test_img)\n",
    "test_img.shape, test_result.shape, test_result"
   ]
  },
  {
   "cell_type": "code",
   "execution_count": 15,
   "metadata": {},
   "outputs": [
    {
     "name": "stdout",
     "output_type": "stream",
     "text": [
      "----------------------------------------------------------------\n",
      "        Layer (type)               Output Shape         Param #\n",
      "================================================================\n",
      "            Conv2d-1           [-1, 64, 56, 56]           9,472\n",
      "         LayerNorm-2             [-1, 3136, 64]             128\n",
      "         ConvEmbed-3           [-1, 64, 56, 56]               0\n",
      "           Dropout-4             [-1, 3136, 64]               0\n",
      "         LayerNorm-5             [-1, 3136, 64]             128\n",
      "            Conv2d-6           [-1, 64, 56, 56]             576\n",
      "       BatchNorm2d-7           [-1, 64, 56, 56]             128\n",
      "         Rearrange-8             [-1, 3136, 64]               0\n",
      "            Conv2d-9           [-1, 64, 28, 28]             576\n",
      "      BatchNorm2d-10           [-1, 64, 28, 28]             128\n",
      "        Rearrange-11              [-1, 784, 64]               0\n",
      "           Conv2d-12           [-1, 64, 28, 28]             576\n",
      "      BatchNorm2d-13           [-1, 64, 28, 28]             128\n",
      "        Rearrange-14              [-1, 784, 64]               0\n",
      "           Linear-15             [-1, 3136, 64]           4,160\n",
      "           Linear-16              [-1, 784, 64]           4,160\n",
      "           Linear-17              [-1, 784, 64]           4,160\n",
      "          Dropout-18         [-1, 1, 3136, 784]               0\n",
      "           Linear-19             [-1, 3136, 64]           4,160\n",
      "          Dropout-20             [-1, 3136, 64]               0\n",
      "    AttentionConv-21             [-1, 3136, 64]               0\n",
      "       LayerScale-22             [-1, 3136, 64]               0\n",
      "         Identity-23             [-1, 3136, 64]               0\n",
      "        LayerNorm-24             [-1, 3136, 64]             128\n",
      "           Linear-25            [-1, 3136, 256]          16,640\n",
      "        QuickGELU-26            [-1, 3136, 256]               0\n",
      "           Linear-27             [-1, 3136, 64]          16,448\n",
      "          Dropout-28             [-1, 3136, 64]               0\n",
      "       LayerScale-29             [-1, 3136, 64]               0\n",
      "         Identity-30             [-1, 3136, 64]               0\n",
      "            Block-31             [-1, 3136, 64]               0\n",
      "VisionTransformer-32           [-1, 64, 56, 56]               0\n",
      "           Conv2d-33          [-1, 192, 28, 28]         110,784\n",
      "        LayerNorm-34             [-1, 784, 192]             384\n",
      "        ConvEmbed-35          [-1, 192, 28, 28]               0\n",
      "          Dropout-36             [-1, 784, 192]               0\n",
      "        LayerNorm-37             [-1, 784, 192]             384\n",
      "           Conv2d-38          [-1, 192, 28, 28]           1,728\n",
      "      BatchNorm2d-39          [-1, 192, 28, 28]             384\n",
      "        Rearrange-40             [-1, 784, 192]               0\n",
      "           Conv2d-41          [-1, 192, 14, 14]           1,728\n",
      "      BatchNorm2d-42          [-1, 192, 14, 14]             384\n",
      "        Rearrange-43             [-1, 196, 192]               0\n",
      "           Conv2d-44          [-1, 192, 14, 14]           1,728\n",
      "      BatchNorm2d-45          [-1, 192, 14, 14]             384\n",
      "        Rearrange-46             [-1, 196, 192]               0\n",
      "           Linear-47             [-1, 784, 192]          37,056\n",
      "           Linear-48             [-1, 196, 192]          37,056\n",
      "           Linear-49             [-1, 196, 192]          37,056\n",
      "          Dropout-50          [-1, 3, 784, 196]               0\n",
      "           Linear-51             [-1, 784, 192]          37,056\n",
      "          Dropout-52             [-1, 784, 192]               0\n",
      "    AttentionConv-53             [-1, 784, 192]               0\n",
      "       LayerScale-54             [-1, 784, 192]               0\n",
      "         Identity-55             [-1, 784, 192]               0\n",
      "        LayerNorm-56             [-1, 784, 192]             384\n",
      "           Linear-57             [-1, 784, 768]         148,224\n",
      "        QuickGELU-58             [-1, 784, 768]               0\n",
      "           Linear-59             [-1, 784, 192]         147,648\n",
      "          Dropout-60             [-1, 784, 192]               0\n",
      "       LayerScale-61             [-1, 784, 192]               0\n",
      "         Identity-62             [-1, 784, 192]               0\n",
      "            Block-63             [-1, 784, 192]               0\n",
      "        LayerNorm-64             [-1, 784, 192]             384\n",
      "           Conv2d-65          [-1, 192, 28, 28]           1,728\n",
      "      BatchNorm2d-66          [-1, 192, 28, 28]             384\n",
      "        Rearrange-67             [-1, 784, 192]               0\n",
      "           Conv2d-68          [-1, 192, 14, 14]           1,728\n",
      "      BatchNorm2d-69          [-1, 192, 14, 14]             384\n",
      "        Rearrange-70             [-1, 196, 192]               0\n",
      "           Conv2d-71          [-1, 192, 14, 14]           1,728\n",
      "      BatchNorm2d-72          [-1, 192, 14, 14]             384\n",
      "        Rearrange-73             [-1, 196, 192]               0\n",
      "           Linear-74             [-1, 784, 192]          37,056\n",
      "           Linear-75             [-1, 196, 192]          37,056\n",
      "           Linear-76             [-1, 196, 192]          37,056\n",
      "          Dropout-77          [-1, 3, 784, 196]               0\n",
      "           Linear-78             [-1, 784, 192]          37,056\n",
      "          Dropout-79             [-1, 784, 192]               0\n",
      "    AttentionConv-80             [-1, 784, 192]               0\n",
      "       LayerScale-81             [-1, 784, 192]               0\n",
      "         Identity-82             [-1, 784, 192]               0\n",
      "        LayerNorm-83             [-1, 784, 192]             384\n",
      "           Linear-84             [-1, 784, 768]         148,224\n",
      "        QuickGELU-85             [-1, 784, 768]               0\n",
      "           Linear-86             [-1, 784, 192]         147,648\n",
      "          Dropout-87             [-1, 784, 192]               0\n",
      "       LayerScale-88             [-1, 784, 192]               0\n",
      "         Identity-89             [-1, 784, 192]               0\n",
      "            Block-90             [-1, 784, 192]               0\n",
      "VisionTransformer-91          [-1, 192, 28, 28]               0\n",
      "           Conv2d-92          [-1, 384, 14, 14]         663,936\n",
      "        LayerNorm-93             [-1, 196, 384]             768\n",
      "        ConvEmbed-94          [-1, 384, 14, 14]               0\n",
      "          Dropout-95             [-1, 196, 384]               0\n",
      "        LayerNorm-96             [-1, 196, 384]             768\n",
      "           Conv2d-97          [-1, 384, 14, 14]           3,456\n",
      "      BatchNorm2d-98          [-1, 384, 14, 14]             768\n",
      "        Rearrange-99             [-1, 196, 384]               0\n",
      "          Conv2d-100            [-1, 384, 7, 7]           3,456\n",
      "     BatchNorm2d-101            [-1, 384, 7, 7]             768\n",
      "       Rearrange-102              [-1, 49, 384]               0\n",
      "          Conv2d-103            [-1, 384, 7, 7]           3,456\n",
      "     BatchNorm2d-104            [-1, 384, 7, 7]             768\n",
      "       Rearrange-105              [-1, 49, 384]               0\n",
      "          Linear-106             [-1, 196, 384]         147,840\n",
      "          Linear-107              [-1, 49, 384]         147,840\n",
      "          Linear-108              [-1, 49, 384]         147,840\n",
      "         Dropout-109           [-1, 6, 196, 49]               0\n",
      "          Linear-110             [-1, 196, 384]         147,840\n",
      "         Dropout-111             [-1, 196, 384]               0\n",
      "   AttentionConv-112             [-1, 196, 384]               0\n",
      "      LayerScale-113             [-1, 196, 384]               0\n",
      "        DropPath-114             [-1, 196, 384]               0\n",
      "       LayerNorm-115             [-1, 196, 384]             768\n",
      "          Linear-116            [-1, 196, 1536]         591,360\n",
      "       QuickGELU-117            [-1, 196, 1536]               0\n",
      "          Linear-118             [-1, 196, 384]         590,208\n",
      "         Dropout-119             [-1, 196, 384]               0\n",
      "      LayerScale-120             [-1, 196, 384]               0\n",
      "        DropPath-121             [-1, 196, 384]               0\n",
      "           Block-122             [-1, 196, 384]               0\n",
      "       LayerNorm-123             [-1, 196, 384]             768\n",
      "          Conv2d-124          [-1, 384, 14, 14]           3,456\n",
      "     BatchNorm2d-125          [-1, 384, 14, 14]             768\n",
      "       Rearrange-126             [-1, 196, 384]               0\n",
      "          Conv2d-127            [-1, 384, 7, 7]           3,456\n",
      "     BatchNorm2d-128            [-1, 384, 7, 7]             768\n",
      "       Rearrange-129              [-1, 49, 384]               0\n",
      "          Conv2d-130            [-1, 384, 7, 7]           3,456\n",
      "     BatchNorm2d-131            [-1, 384, 7, 7]             768\n",
      "       Rearrange-132              [-1, 49, 384]               0\n",
      "          Linear-133             [-1, 196, 384]         147,840\n",
      "          Linear-134              [-1, 49, 384]         147,840\n",
      "          Linear-135              [-1, 49, 384]         147,840\n",
      "         Dropout-136           [-1, 6, 196, 49]               0\n",
      "          Linear-137             [-1, 196, 384]         147,840\n",
      "         Dropout-138             [-1, 196, 384]               0\n",
      "   AttentionConv-139             [-1, 196, 384]               0\n",
      "      LayerScale-140             [-1, 196, 384]               0\n",
      "        DropPath-141             [-1, 196, 384]               0\n",
      "       LayerNorm-142             [-1, 196, 384]             768\n",
      "          Linear-143            [-1, 196, 1536]         591,360\n",
      "       QuickGELU-144            [-1, 196, 1536]               0\n",
      "          Linear-145             [-1, 196, 384]         590,208\n",
      "         Dropout-146             [-1, 196, 384]               0\n",
      "      LayerScale-147             [-1, 196, 384]               0\n",
      "        DropPath-148             [-1, 196, 384]               0\n",
      "           Block-149             [-1, 196, 384]               0\n",
      "       LayerNorm-150             [-1, 196, 384]             768\n",
      "          Conv2d-151          [-1, 384, 14, 14]           3,456\n",
      "     BatchNorm2d-152          [-1, 384, 14, 14]             768\n",
      "       Rearrange-153             [-1, 196, 384]               0\n",
      "          Conv2d-154            [-1, 384, 7, 7]           3,456\n",
      "     BatchNorm2d-155            [-1, 384, 7, 7]             768\n",
      "       Rearrange-156              [-1, 49, 384]               0\n",
      "          Conv2d-157            [-1, 384, 7, 7]           3,456\n",
      "     BatchNorm2d-158            [-1, 384, 7, 7]             768\n",
      "       Rearrange-159              [-1, 49, 384]               0\n",
      "          Linear-160             [-1, 196, 384]         147,840\n",
      "          Linear-161              [-1, 49, 384]         147,840\n",
      "          Linear-162              [-1, 49, 384]         147,840\n",
      "         Dropout-163           [-1, 6, 196, 49]               0\n",
      "          Linear-164             [-1, 196, 384]         147,840\n",
      "         Dropout-165             [-1, 196, 384]               0\n",
      "   AttentionConv-166             [-1, 196, 384]               0\n",
      "      LayerScale-167             [-1, 196, 384]               0\n",
      "        DropPath-168             [-1, 196, 384]               0\n",
      "       LayerNorm-169             [-1, 196, 384]             768\n",
      "          Linear-170            [-1, 196, 1536]         591,360\n",
      "       QuickGELU-171            [-1, 196, 1536]               0\n",
      "          Linear-172             [-1, 196, 384]         590,208\n",
      "         Dropout-173             [-1, 196, 384]               0\n",
      "      LayerScale-174             [-1, 196, 384]               0\n",
      "        DropPath-175             [-1, 196, 384]               0\n",
      "           Block-176             [-1, 196, 384]               0\n",
      "       LayerNorm-177             [-1, 196, 384]             768\n",
      "          Conv2d-178          [-1, 384, 14, 14]           3,456\n",
      "     BatchNorm2d-179          [-1, 384, 14, 14]             768\n",
      "       Rearrange-180             [-1, 196, 384]               0\n",
      "          Conv2d-181            [-1, 384, 7, 7]           3,456\n",
      "     BatchNorm2d-182            [-1, 384, 7, 7]             768\n",
      "       Rearrange-183              [-1, 49, 384]               0\n",
      "          Conv2d-184            [-1, 384, 7, 7]           3,456\n",
      "     BatchNorm2d-185            [-1, 384, 7, 7]             768\n",
      "       Rearrange-186              [-1, 49, 384]               0\n",
      "          Linear-187             [-1, 196, 384]         147,840\n",
      "          Linear-188              [-1, 49, 384]         147,840\n",
      "          Linear-189              [-1, 49, 384]         147,840\n",
      "         Dropout-190           [-1, 6, 196, 49]               0\n",
      "          Linear-191             [-1, 196, 384]         147,840\n",
      "         Dropout-192             [-1, 196, 384]               0\n",
      "   AttentionConv-193             [-1, 196, 384]               0\n",
      "      LayerScale-194             [-1, 196, 384]               0\n",
      "        DropPath-195             [-1, 196, 384]               0\n",
      "       LayerNorm-196             [-1, 196, 384]             768\n",
      "          Linear-197            [-1, 196, 1536]         591,360\n",
      "       QuickGELU-198            [-1, 196, 1536]               0\n",
      "          Linear-199             [-1, 196, 384]         590,208\n",
      "         Dropout-200             [-1, 196, 384]               0\n",
      "      LayerScale-201             [-1, 196, 384]               0\n",
      "        DropPath-202             [-1, 196, 384]               0\n",
      "           Block-203             [-1, 196, 384]               0\n",
      "       LayerNorm-204             [-1, 196, 384]             768\n",
      "          Conv2d-205          [-1, 384, 14, 14]           3,456\n",
      "     BatchNorm2d-206          [-1, 384, 14, 14]             768\n",
      "       Rearrange-207             [-1, 196, 384]               0\n",
      "          Conv2d-208            [-1, 384, 7, 7]           3,456\n",
      "     BatchNorm2d-209            [-1, 384, 7, 7]             768\n",
      "       Rearrange-210              [-1, 49, 384]               0\n",
      "          Conv2d-211            [-1, 384, 7, 7]           3,456\n",
      "     BatchNorm2d-212            [-1, 384, 7, 7]             768\n",
      "       Rearrange-213              [-1, 49, 384]               0\n",
      "          Linear-214             [-1, 196, 384]         147,840\n",
      "          Linear-215              [-1, 49, 384]         147,840\n",
      "          Linear-216              [-1, 49, 384]         147,840\n",
      "         Dropout-217           [-1, 6, 196, 49]               0\n",
      "          Linear-218             [-1, 196, 384]         147,840\n",
      "         Dropout-219             [-1, 196, 384]               0\n",
      "   AttentionConv-220             [-1, 196, 384]               0\n",
      "      LayerScale-221             [-1, 196, 384]               0\n",
      "        DropPath-222             [-1, 196, 384]               0\n",
      "       LayerNorm-223             [-1, 196, 384]             768\n",
      "          Linear-224            [-1, 196, 1536]         591,360\n",
      "       QuickGELU-225            [-1, 196, 1536]               0\n",
      "          Linear-226             [-1, 196, 384]         590,208\n",
      "         Dropout-227             [-1, 196, 384]               0\n",
      "      LayerScale-228             [-1, 196, 384]               0\n",
      "        DropPath-229             [-1, 196, 384]               0\n",
      "           Block-230             [-1, 196, 384]               0\n",
      "       LayerNorm-231             [-1, 196, 384]             768\n",
      "          Conv2d-232          [-1, 384, 14, 14]           3,456\n",
      "     BatchNorm2d-233          [-1, 384, 14, 14]             768\n",
      "       Rearrange-234             [-1, 196, 384]               0\n",
      "          Conv2d-235            [-1, 384, 7, 7]           3,456\n",
      "     BatchNorm2d-236            [-1, 384, 7, 7]             768\n",
      "       Rearrange-237              [-1, 49, 384]               0\n",
      "          Conv2d-238            [-1, 384, 7, 7]           3,456\n",
      "     BatchNorm2d-239            [-1, 384, 7, 7]             768\n",
      "       Rearrange-240              [-1, 49, 384]               0\n",
      "          Linear-241             [-1, 196, 384]         147,840\n",
      "          Linear-242              [-1, 49, 384]         147,840\n",
      "          Linear-243              [-1, 49, 384]         147,840\n",
      "         Dropout-244           [-1, 6, 196, 49]               0\n",
      "          Linear-245             [-1, 196, 384]         147,840\n",
      "         Dropout-246             [-1, 196, 384]               0\n",
      "   AttentionConv-247             [-1, 196, 384]               0\n",
      "      LayerScale-248             [-1, 196, 384]               0\n",
      "        DropPath-249             [-1, 196, 384]               0\n",
      "       LayerNorm-250             [-1, 196, 384]             768\n",
      "          Linear-251            [-1, 196, 1536]         591,360\n",
      "       QuickGELU-252            [-1, 196, 1536]               0\n",
      "          Linear-253             [-1, 196, 384]         590,208\n",
      "         Dropout-254             [-1, 196, 384]               0\n",
      "      LayerScale-255             [-1, 196, 384]               0\n",
      "        DropPath-256             [-1, 196, 384]               0\n",
      "           Block-257             [-1, 196, 384]               0\n",
      "       LayerNorm-258             [-1, 196, 384]             768\n",
      "          Conv2d-259          [-1, 384, 14, 14]           3,456\n",
      "     BatchNorm2d-260          [-1, 384, 14, 14]             768\n",
      "       Rearrange-261             [-1, 196, 384]               0\n",
      "          Conv2d-262            [-1, 384, 7, 7]           3,456\n",
      "     BatchNorm2d-263            [-1, 384, 7, 7]             768\n",
      "       Rearrange-264              [-1, 49, 384]               0\n",
      "          Conv2d-265            [-1, 384, 7, 7]           3,456\n",
      "     BatchNorm2d-266            [-1, 384, 7, 7]             768\n",
      "       Rearrange-267              [-1, 49, 384]               0\n",
      "          Linear-268             [-1, 196, 384]         147,840\n",
      "          Linear-269              [-1, 49, 384]         147,840\n",
      "          Linear-270              [-1, 49, 384]         147,840\n",
      "         Dropout-271           [-1, 6, 196, 49]               0\n",
      "          Linear-272             [-1, 196, 384]         147,840\n",
      "         Dropout-273             [-1, 196, 384]               0\n",
      "   AttentionConv-274             [-1, 196, 384]               0\n",
      "      LayerScale-275             [-1, 196, 384]               0\n",
      "        DropPath-276             [-1, 196, 384]               0\n",
      "       LayerNorm-277             [-1, 196, 384]             768\n",
      "          Linear-278            [-1, 196, 1536]         591,360\n",
      "       QuickGELU-279            [-1, 196, 1536]               0\n",
      "          Linear-280             [-1, 196, 384]         590,208\n",
      "         Dropout-281             [-1, 196, 384]               0\n",
      "      LayerScale-282             [-1, 196, 384]               0\n",
      "        DropPath-283             [-1, 196, 384]               0\n",
      "           Block-284             [-1, 196, 384]               0\n",
      "       LayerNorm-285             [-1, 196, 384]             768\n",
      "          Conv2d-286          [-1, 384, 14, 14]           3,456\n",
      "     BatchNorm2d-287          [-1, 384, 14, 14]             768\n",
      "       Rearrange-288             [-1, 196, 384]               0\n",
      "          Conv2d-289            [-1, 384, 7, 7]           3,456\n",
      "     BatchNorm2d-290            [-1, 384, 7, 7]             768\n",
      "       Rearrange-291              [-1, 49, 384]               0\n",
      "          Conv2d-292            [-1, 384, 7, 7]           3,456\n",
      "     BatchNorm2d-293            [-1, 384, 7, 7]             768\n",
      "       Rearrange-294              [-1, 49, 384]               0\n",
      "          Linear-295             [-1, 196, 384]         147,840\n",
      "          Linear-296              [-1, 49, 384]         147,840\n",
      "          Linear-297              [-1, 49, 384]         147,840\n",
      "         Dropout-298           [-1, 6, 196, 49]               0\n",
      "          Linear-299             [-1, 196, 384]         147,840\n",
      "         Dropout-300             [-1, 196, 384]               0\n",
      "   AttentionConv-301             [-1, 196, 384]               0\n",
      "      LayerScale-302             [-1, 196, 384]               0\n",
      "        DropPath-303             [-1, 196, 384]               0\n",
      "       LayerNorm-304             [-1, 196, 384]             768\n",
      "          Linear-305            [-1, 196, 1536]         591,360\n",
      "       QuickGELU-306            [-1, 196, 1536]               0\n",
      "          Linear-307             [-1, 196, 384]         590,208\n",
      "         Dropout-308             [-1, 196, 384]               0\n",
      "      LayerScale-309             [-1, 196, 384]               0\n",
      "        DropPath-310             [-1, 196, 384]               0\n",
      "           Block-311             [-1, 196, 384]               0\n",
      "       LayerNorm-312             [-1, 196, 384]             768\n",
      "          Conv2d-313          [-1, 384, 14, 14]           3,456\n",
      "     BatchNorm2d-314          [-1, 384, 14, 14]             768\n",
      "       Rearrange-315             [-1, 196, 384]               0\n",
      "          Conv2d-316            [-1, 384, 7, 7]           3,456\n",
      "     BatchNorm2d-317            [-1, 384, 7, 7]             768\n",
      "       Rearrange-318              [-1, 49, 384]               0\n",
      "          Conv2d-319            [-1, 384, 7, 7]           3,456\n",
      "     BatchNorm2d-320            [-1, 384, 7, 7]             768\n",
      "       Rearrange-321              [-1, 49, 384]               0\n",
      "          Linear-322             [-1, 196, 384]         147,840\n",
      "          Linear-323              [-1, 49, 384]         147,840\n",
      "          Linear-324              [-1, 49, 384]         147,840\n",
      "         Dropout-325           [-1, 6, 196, 49]               0\n",
      "          Linear-326             [-1, 196, 384]         147,840\n",
      "         Dropout-327             [-1, 196, 384]               0\n",
      "   AttentionConv-328             [-1, 196, 384]               0\n",
      "      LayerScale-329             [-1, 196, 384]               0\n",
      "        DropPath-330             [-1, 196, 384]               0\n",
      "       LayerNorm-331             [-1, 196, 384]             768\n",
      "          Linear-332            [-1, 196, 1536]         591,360\n",
      "       QuickGELU-333            [-1, 196, 1536]               0\n",
      "          Linear-334             [-1, 196, 384]         590,208\n",
      "         Dropout-335             [-1, 196, 384]               0\n",
      "      LayerScale-336             [-1, 196, 384]               0\n",
      "        DropPath-337             [-1, 196, 384]               0\n",
      "           Block-338             [-1, 196, 384]               0\n",
      "       LayerNorm-339             [-1, 196, 384]             768\n",
      "          Conv2d-340          [-1, 384, 14, 14]           3,456\n",
      "     BatchNorm2d-341          [-1, 384, 14, 14]             768\n",
      "       Rearrange-342             [-1, 196, 384]               0\n",
      "          Conv2d-343            [-1, 384, 7, 7]           3,456\n",
      "     BatchNorm2d-344            [-1, 384, 7, 7]             768\n",
      "       Rearrange-345              [-1, 49, 384]               0\n",
      "          Conv2d-346            [-1, 384, 7, 7]           3,456\n",
      "     BatchNorm2d-347            [-1, 384, 7, 7]             768\n",
      "       Rearrange-348              [-1, 49, 384]               0\n",
      "          Linear-349             [-1, 196, 384]         147,840\n",
      "          Linear-350              [-1, 49, 384]         147,840\n",
      "          Linear-351              [-1, 49, 384]         147,840\n",
      "         Dropout-352           [-1, 6, 196, 49]               0\n",
      "          Linear-353             [-1, 196, 384]         147,840\n",
      "         Dropout-354             [-1, 196, 384]               0\n",
      "   AttentionConv-355             [-1, 196, 384]               0\n",
      "      LayerScale-356             [-1, 196, 384]               0\n",
      "        DropPath-357             [-1, 196, 384]               0\n",
      "       LayerNorm-358             [-1, 196, 384]             768\n",
      "          Linear-359            [-1, 196, 1536]         591,360\n",
      "       QuickGELU-360            [-1, 196, 1536]               0\n",
      "          Linear-361             [-1, 196, 384]         590,208\n",
      "         Dropout-362             [-1, 196, 384]               0\n",
      "      LayerScale-363             [-1, 196, 384]               0\n",
      "        DropPath-364             [-1, 196, 384]               0\n",
      "           Block-365             [-1, 196, 384]               0\n",
      "VisionTransformer-366          [-1, 384, 14, 14]               0\n",
      "       LayerNorm-367             [-1, 196, 384]             768\n",
      "AdaptiveAvgPool1d-368               [-1, 384, 1]               0\n",
      "          Linear-369                  [-1, 100]          38,500\n",
      "================================================================\n",
      "Total params: 19,650,596\n",
      "Trainable params: 19,650,596\n",
      "Non-trainable params: 0\n",
      "----------------------------------------------------------------\n",
      "Input size (MB): 0.57\n",
      "Forward/backward pass size (MB): 295.86\n",
      "Params size (MB): 74.96\n",
      "Estimated Total Size (MB): 371.40\n",
      "----------------------------------------------------------------\n"
     ]
    }
   ],
   "source": [
    "from torchsummary import summary\n",
    "\n",
    "summary(model.cuda(), (3, 224, 224))"
   ]
  },
  {
   "cell_type": "code",
   "execution_count": 16,
   "metadata": {},
   "outputs": [],
   "source": [
    "# Transforms 정의하기\n",
    "train_transform = transforms.Compose([\n",
    "    transforms.RandomResizedCrop(224, scale=(0.8,1), interpolation=transforms.InterpolationMode.LANCZOS),\n",
    "    transforms.RandomHorizontalFlip(),\n",
    "    transforms.ToTensor(),\n",
    "    transforms.Normalize(mean=[0.485, 0.456, 0.406], std=[0.229, 0.224, 0.225]),\n",
    "    transforms.RandomErasing(p=0.9, scale=(0.02, 0.33)),\n",
    "])\n",
    "\n",
    "test_transform = transforms.Compose([\n",
    "    transforms.ToTensor(),\n",
    "    transforms.Normalize(mean=[0.485, 0.456, 0.406], std=[0.229, 0.224, 0.225]),\n",
    "])\n",
    "\n",
    "data_dir = '../data/sports'\n",
    "batch_size = 256\n",
    "\n",
    "train_path = data_dir+'/train'\n",
    "valid_path = data_dir+'/valid'\n",
    "test_path = data_dir+'/test'\n",
    "\n",
    "# dataset load\n",
    "train_data = ImageFolder(train_path, transform=train_transform)\n",
    "valid_data = ImageFolder(valid_path, transform=test_transform)\n",
    "test_data = ImageFolder(test_path, transform=test_transform)\n",
    "\n",
    "train_loader = DataLoader(train_data, batch_size=batch_size, shuffle=True)\n",
    "valid_loader = DataLoader(valid_data, batch_size=batch_size, shuffle=False)\n",
    "test_loader = DataLoader(test_data, batch_size=batch_size, shuffle=False)"
   ]
  },
  {
   "cell_type": "code",
   "execution_count": 17,
   "metadata": {},
   "outputs": [],
   "source": [
    "device = 'cuda:3'\n",
    "max_norm = 1.0 \n",
    "\n",
    "model.to(device)\n",
    "model_path = '../models/cvt/model.pth'"
   ]
  },
  {
   "cell_type": "code",
   "execution_count": 18,
   "metadata": {},
   "outputs": [],
   "source": [
    "mixup_fn = Mixup(mixup_alpha=.7, \n",
    "                cutmix_alpha=1., \n",
    "                prob=.7, \n",
    "                switch_prob=0.5, \n",
    "                mode='batch',\n",
    "                label_smoothing=.1,\n",
    "                num_classes=100)\n",
    "\n",
    "epochs = 200\n",
    "\n",
    "criterion = nn.CrossEntropyLoss(label_smoothing=0.)"
   ]
  },
  {
   "cell_type": "code",
   "execution_count": 19,
   "metadata": {},
   "outputs": [
    {
     "name": "stderr",
     "output_type": "stream",
     "text": [
      "2024-01-23 14:46:06.147581: E external/local_xla/xla/stream_executor/cuda/cuda_dnn.cc:9261] Unable to register cuDNN factory: Attempting to register factory for plugin cuDNN when one has already been registered\n",
      "2024-01-23 14:46:06.147674: E external/local_xla/xla/stream_executor/cuda/cuda_fft.cc:607] Unable to register cuFFT factory: Attempting to register factory for plugin cuFFT when one has already been registered\n",
      "2024-01-23 14:46:06.148595: E external/local_xla/xla/stream_executor/cuda/cuda_blas.cc:1515] Unable to register cuBLAS factory: Attempting to register factory for plugin cuBLAS when one has already been registered\n",
      "2024-01-23 14:46:06.154296: I tensorflow/core/platform/cpu_feature_guard.cc:182] This TensorFlow binary is optimized to use available CPU instructions in performance-critical operations.\n",
      "To enable the following instructions: AVX2 FMA, in other operations, rebuild TensorFlow with the appropriate compiler flags.\n",
      "2024-01-23 14:46:06.949992: W tensorflow/compiler/tf2tensorrt/utils/py_utils.cc:38] TF-TRT Warning: Could not find TensorRT\n"
     ]
    }
   ],
   "source": [
    "optimizer = optim.AdamW(model.parameters())\n",
    "warmup_steps = int(len(train_loader)*(epochs)*0.1)\n",
    "train_steps = len(train_loader)*(epochs)\n",
    "scheduler = transformers.get_cosine_schedule_with_warmup(optimizer, \n",
    "                                                        num_warmup_steps=warmup_steps, \n",
    "                                                        num_training_steps=train_steps,\n",
    "                                                        num_cycles=0.5)"
   ]
  },
  {
   "cell_type": "code",
   "execution_count": 20,
   "metadata": {},
   "outputs": [
    {
     "name": "stderr",
     "output_type": "stream",
     "text": [
      "Epoch 1: 100%|██████████| 53/53 [00:51<00:00,  1.02it/s]\n"
     ]
    },
    {
     "name": "stdout",
     "output_type": "stream",
     "text": [
      "\tLoss: 4.545834649283931, Val Loss: 4.359464406967163, LR: 5e-05, Duration: 53.07 sec - model saved!\n"
     ]
    },
    {
     "name": "stderr",
     "output_type": "stream",
     "text": [
      "Epoch 2: 100%|██████████| 53/53 [00:55<00:00,  1.05s/it]\n"
     ]
    },
    {
     "name": "stdout",
     "output_type": "stream",
     "text": [
      "\tLoss: 4.385654341499761, Val Loss: 4.161001682281494, LR: 0.0001, Duration: 56.50 sec - model saved!\n"
     ]
    },
    {
     "name": "stderr",
     "output_type": "stream",
     "text": [
      "Epoch 3: 100%|██████████| 53/53 [00:54<00:00,  1.03s/it]\n"
     ]
    },
    {
     "name": "stdout",
     "output_type": "stream",
     "text": [
      "\tLoss: 4.2957694665440975, Val Loss: 4.0260632038116455, LR: 0.00015, Duration: 55.57 sec - model saved!\n"
     ]
    },
    {
     "name": "stderr",
     "output_type": "stream",
     "text": [
      "Epoch 4: 100%|██████████| 53/53 [00:58<00:00,  1.11s/it]\n"
     ]
    },
    {
     "name": "stdout",
     "output_type": "stream",
     "text": [
      "\tLoss: 4.255405417028463, Val Loss: 3.9450289011001587, LR: 0.0002, Duration: 60.27 sec - model saved!\n"
     ]
    },
    {
     "name": "stderr",
     "output_type": "stream",
     "text": [
      "Epoch 5: 100%|██████████| 53/53 [00:53<00:00,  1.01s/it]\n"
     ]
    },
    {
     "name": "stdout",
     "output_type": "stream",
     "text": [
      "\tLoss: 4.207706087040451, Val Loss: 3.8942573070526123, LR: 0.00025, Duration: 54.64 sec - model saved!\n"
     ]
    },
    {
     "name": "stderr",
     "output_type": "stream",
     "text": [
      "Epoch 6: 100%|██████████| 53/53 [00:56<00:00,  1.07s/it]\n"
     ]
    },
    {
     "name": "stdout",
     "output_type": "stream",
     "text": [
      "\tLoss: 4.10236853023745, Val Loss: 3.732183814048767, LR: 0.0003, Duration: 57.72 sec - model saved!\n"
     ]
    },
    {
     "name": "stderr",
     "output_type": "stream",
     "text": [
      "Epoch 7: 100%|██████████| 53/53 [00:54<00:00,  1.03s/it]\n"
     ]
    },
    {
     "name": "stdout",
     "output_type": "stream",
     "text": [
      "\tLoss: 4.063815526242526, Val Loss: 3.713098406791687, LR: 0.00035, Duration: 55.95 sec - model saved!\n"
     ]
    },
    {
     "name": "stderr",
     "output_type": "stream",
     "text": [
      "Epoch 8: 100%|██████████| 53/53 [00:52<00:00,  1.00it/s]\n"
     ]
    },
    {
     "name": "stdout",
     "output_type": "stream",
     "text": [
      "\tLoss: 4.031652702475494, Val Loss: 3.646880269050598, LR: 0.0004, Duration: 54.21 sec - model saved!\n"
     ]
    },
    {
     "name": "stderr",
     "output_type": "stream",
     "text": [
      "Epoch 9: 100%|██████████| 53/53 [00:53<00:00,  1.01s/it]\n"
     ]
    },
    {
     "name": "stdout",
     "output_type": "stream",
     "text": [
      "\tLoss: 4.026816314121462, Val Loss: 3.4858001470565796, LR: 0.00045000000000000004, Duration: 54.67 sec - model saved!\n"
     ]
    },
    {
     "name": "stderr",
     "output_type": "stream",
     "text": [
      "Epoch 10: 100%|██████████| 53/53 [00:53<00:00,  1.01s/it]\n"
     ]
    },
    {
     "name": "stdout",
     "output_type": "stream",
     "text": [
      "\tLoss: 3.9060470742999382, Val Loss: 3.3453176021575928, LR: 0.0005, Duration: 54.89 sec - model saved!\n"
     ]
    },
    {
     "name": "stderr",
     "output_type": "stream",
     "text": [
      "Epoch 11: 100%|██████████| 53/53 [00:52<00:00,  1.01it/s]\n"
     ]
    },
    {
     "name": "stdout",
     "output_type": "stream",
     "text": [
      "\tLoss: 3.9240480953792356, Val Loss: 3.251126527786255, LR: 0.00055, Duration: 54.39 sec - model saved!\n"
     ]
    },
    {
     "name": "stderr",
     "output_type": "stream",
     "text": [
      "Epoch 12: 100%|██████████| 53/53 [00:51<00:00,  1.03it/s]\n"
     ]
    },
    {
     "name": "stdout",
     "output_type": "stream",
     "text": [
      "\tLoss: 3.853681982688184, Val Loss: 3.1631343364715576, LR: 0.0006, Duration: 52.68 sec - model saved!\n"
     ]
    },
    {
     "name": "stderr",
     "output_type": "stream",
     "text": [
      "Epoch 13: 100%|██████████| 53/53 [00:51<00:00,  1.04it/s]\n"
     ]
    },
    {
     "name": "stdout",
     "output_type": "stream",
     "text": [
      "\tLoss: 3.8141804551178553, Val Loss: 3.102978825569153, LR: 0.0006500000000000001, Duration: 52.19 sec - model saved!\n"
     ]
    },
    {
     "name": "stderr",
     "output_type": "stream",
     "text": [
      "Epoch 14: 100%|██████████| 53/53 [00:52<00:00,  1.02it/s]\n"
     ]
    },
    {
     "name": "stdout",
     "output_type": "stream",
     "text": [
      "\tLoss: 3.7111773355951847, Val Loss: 3.0337573289871216, LR: 0.0007, Duration: 53.33 sec - model saved!\n"
     ]
    },
    {
     "name": "stderr",
     "output_type": "stream",
     "text": [
      "Epoch 15: 100%|██████████| 53/53 [00:53<00:00,  1.02s/it]\n"
     ]
    },
    {
     "name": "stdout",
     "output_type": "stream",
     "text": [
      "\tLoss: 3.7124398339469478, Val Loss: 2.913422703742981, LR: 0.00075, Duration: 55.46 sec - model saved!\n"
     ]
    },
    {
     "name": "stderr",
     "output_type": "stream",
     "text": [
      "Epoch 16: 100%|██████████| 53/53 [00:54<00:00,  1.02s/it]\n"
     ]
    },
    {
     "name": "stdout",
     "output_type": "stream",
     "text": [
      "\tLoss: 3.6885302111787617, Val Loss: 2.8779025077819824, LR: 0.0008, Duration: 55.21 sec - model saved!\n"
     ]
    },
    {
     "name": "stderr",
     "output_type": "stream",
     "text": [
      "Epoch 17: 100%|██████████| 53/53 [00:53<00:00,  1.01s/it]\n"
     ]
    },
    {
     "name": "stdout",
     "output_type": "stream",
     "text": [
      "\tLoss: 3.535752813771086, Val Loss: 2.714572548866272, LR: 0.00085, Duration: 54.49 sec - model saved!\n"
     ]
    },
    {
     "name": "stderr",
     "output_type": "stream",
     "text": [
      "Epoch 18: 100%|██████████| 53/53 [00:53<00:00,  1.01s/it]\n"
     ]
    },
    {
     "name": "stdout",
     "output_type": "stream",
     "text": [
      "\tLoss: 3.4513249307308556, Val Loss: 2.580653667449951, LR: 0.0009000000000000001, Duration: 54.78 sec - model saved!\n"
     ]
    },
    {
     "name": "stderr",
     "output_type": "stream",
     "text": [
      "Epoch 19: 100%|██████████| 53/53 [00:54<00:00,  1.03s/it]\n"
     ]
    },
    {
     "name": "stdout",
     "output_type": "stream",
     "text": [
      "\tLoss: 3.4369072734184987, Val Loss: 2.7238612174987793, LR: 0.00095, Duration: 55.77 sec\n"
     ]
    },
    {
     "name": "stderr",
     "output_type": "stream",
     "text": [
      "Epoch 20: 100%|██████████| 53/53 [00:56<00:00,  1.07s/it]\n"
     ]
    },
    {
     "name": "stdout",
     "output_type": "stream",
     "text": [
      "\tLoss: 3.4843517564377695, Val Loss: 2.447668433189392, LR: 0.001, Duration: 58.11 sec - model saved!\n"
     ]
    },
    {
     "name": "stderr",
     "output_type": "stream",
     "text": [
      "Epoch 21: 100%|██████████| 53/53 [00:54<00:00,  1.03s/it]\n"
     ]
    },
    {
     "name": "stdout",
     "output_type": "stream",
     "text": [
      "\tLoss: 3.417641135881532, Val Loss: 2.313370704650879, LR: 0.0009999238475781956, Duration: 55.47 sec - model saved!\n"
     ]
    },
    {
     "name": "stderr",
     "output_type": "stream",
     "text": [
      "Epoch 22: 100%|██████████| 53/53 [00:52<00:00,  1.01it/s]\n"
     ]
    },
    {
     "name": "stdout",
     "output_type": "stream",
     "text": [
      "\tLoss: 3.352398782406213, Val Loss: 2.2534390687942505, LR: 0.0009996954135095479, Duration: 53.84 sec - model saved!\n"
     ]
    },
    {
     "name": "stderr",
     "output_type": "stream",
     "text": [
      "Epoch 23: 100%|██████████| 53/53 [00:53<00:00,  1.00s/it]\n"
     ]
    },
    {
     "name": "stdout",
     "output_type": "stream",
     "text": [
      "\tLoss: 3.3243445990220555, Val Loss: 2.1865514516830444, LR: 0.0009993147673772868, Duration: 55.04 sec - model saved!\n"
     ]
    },
    {
     "name": "stderr",
     "output_type": "stream",
     "text": [
      "Epoch 24: 100%|██████████| 53/53 [00:53<00:00,  1.01s/it]\n"
     ]
    },
    {
     "name": "stdout",
     "output_type": "stream",
     "text": [
      "\tLoss: 3.411529190135452, Val Loss: 2.154899835586548, LR: 0.0009987820251299122, Duration: 54.97 sec - model saved!\n"
     ]
    },
    {
     "name": "stderr",
     "output_type": "stream",
     "text": [
      "Epoch 25: 100%|██████████| 53/53 [00:53<00:00,  1.02s/it]\n"
     ]
    },
    {
     "name": "stdout",
     "output_type": "stream",
     "text": [
      "\tLoss: 3.2155189559144794, Val Loss: 2.0939801931381226, LR: 0.0009980973490458728, Duration: 55.55 sec - model saved!\n"
     ]
    },
    {
     "name": "stderr",
     "output_type": "stream",
     "text": [
      "Epoch 26: 100%|██████████| 53/53 [00:53<00:00,  1.01s/it]\n"
     ]
    },
    {
     "name": "stdout",
     "output_type": "stream",
     "text": [
      "\tLoss: 3.1948585105392167, Val Loss: 1.9768757224082947, LR: 0.0009972609476841367, Duration: 54.56 sec - model saved!\n"
     ]
    },
    {
     "name": "stderr",
     "output_type": "stream",
     "text": [
      "Epoch 27: 100%|██████████| 53/53 [00:53<00:00,  1.02s/it]\n"
     ]
    },
    {
     "name": "stdout",
     "output_type": "stream",
     "text": [
      "\tLoss: 3.028208206284721, Val Loss: 1.89173823595047, LR: 0.0009962730758206612, Duration: 55.08 sec - model saved!\n"
     ]
    },
    {
     "name": "stderr",
     "output_type": "stream",
     "text": [
      "Epoch 28: 100%|██████████| 53/53 [00:53<00:00,  1.01s/it]\n"
     ]
    },
    {
     "name": "stdout",
     "output_type": "stream",
     "text": [
      "\tLoss: 3.169852850572118, Val Loss: 2.054997444152832, LR: 0.0009951340343707852, Duration: 54.49 sec\n"
     ]
    },
    {
     "name": "stderr",
     "output_type": "stream",
     "text": [
      "Epoch 29: 100%|██████████| 53/53 [00:56<00:00,  1.06s/it]\n"
     ]
    },
    {
     "name": "stdout",
     "output_type": "stream",
     "text": [
      "\tLoss: 2.9649020275979674, Val Loss: 1.7324511408805847, LR: 0.0009938441702975688, Duration: 57.58 sec - model saved!\n"
     ]
    },
    {
     "name": "stderr",
     "output_type": "stream",
     "text": [
      "Epoch 30: 100%|██████████| 53/53 [00:54<00:00,  1.03s/it]\n"
     ]
    },
    {
     "name": "stdout",
     "output_type": "stream",
     "text": [
      "\tLoss: 3.081321176492943, Val Loss: 1.8062515258789062, LR: 0.000992403876506104, Duration: 55.72 sec\n"
     ]
    },
    {
     "name": "stderr",
     "output_type": "stream",
     "text": [
      "Epoch 31: 100%|██████████| 53/53 [00:55<00:00,  1.04s/it]\n"
     ]
    },
    {
     "name": "stdout",
     "output_type": "stream",
     "text": [
      "\tLoss: 2.8783804920484437, Val Loss: 1.64189875125885, LR: 0.000990813591723832, Duration: 56.78 sec - model saved!\n"
     ]
    },
    {
     "name": "stderr",
     "output_type": "stream",
     "text": [
      "Epoch 32: 100%|██████████| 53/53 [00:54<00:00,  1.03s/it]\n"
     ]
    },
    {
     "name": "stdout",
     "output_type": "stream",
     "text": [
      "\tLoss: 3.0518636568537296, Val Loss: 1.734662413597107, LR: 0.0009890738003669028, Duration: 55.39 sec\n"
     ]
    },
    {
     "name": "stderr",
     "output_type": "stream",
     "text": [
      "Epoch 33: 100%|██████████| 53/53 [00:52<00:00,  1.01it/s]\n"
     ]
    },
    {
     "name": "stdout",
     "output_type": "stream",
     "text": [
      "\tLoss: 2.9461440230315588, Val Loss: 1.6606509685516357, LR: 0.0009871850323926177, Duration: 53.84 sec\n"
     ]
    },
    {
     "name": "stderr",
     "output_type": "stream",
     "text": [
      "Epoch 34: 100%|██████████| 53/53 [00:55<00:00,  1.04s/it]\n"
     ]
    },
    {
     "name": "stdout",
     "output_type": "stream",
     "text": [
      "\tLoss: 2.865259831806399, Val Loss: 1.5463714003562927, LR: 0.0009851478631379982, Duration: 56.54 sec - model saved!\n"
     ]
    },
    {
     "name": "stderr",
     "output_type": "stream",
     "text": [
      "Epoch 35: 100%|██████████| 53/53 [00:54<00:00,  1.03s/it]\n"
     ]
    },
    {
     "name": "stdout",
     "output_type": "stream",
     "text": [
      "\tLoss: 2.9654582311522284, Val Loss: 1.5911399722099304, LR: 0.0009829629131445341, Duration: 55.78 sec\n"
     ]
    },
    {
     "name": "stderr",
     "output_type": "stream",
     "text": [
      "Epoch 36: 100%|██████████| 53/53 [00:55<00:00,  1.06s/it]\n"
     ]
    },
    {
     "name": "stdout",
     "output_type": "stream",
     "text": [
      "\tLoss: 2.7321169466342567, Val Loss: 1.528205931186676, LR: 0.0009806308479691594, Duration: 57.44 sec - model saved!\n"
     ]
    },
    {
     "name": "stderr",
     "output_type": "stream",
     "text": [
      "Epoch 37: 100%|██████████| 53/53 [00:56<00:00,  1.06s/it]\n"
     ]
    },
    {
     "name": "stdout",
     "output_type": "stream",
     "text": [
      "\tLoss: 2.804683010533171, Val Loss: 1.5267230868339539, LR: 0.0009781523779815178, Duration: 57.46 sec - model saved!\n"
     ]
    },
    {
     "name": "stderr",
     "output_type": "stream",
     "text": [
      "Epoch 38: 100%|██████████| 53/53 [00:53<00:00,  1.01s/it]\n"
     ]
    },
    {
     "name": "stdout",
     "output_type": "stream",
     "text": [
      "\tLoss: 2.75445852414617, Val Loss: 1.488661527633667, LR: 0.0009755282581475768, Duration: 54.85 sec - model saved!\n"
     ]
    },
    {
     "name": "stderr",
     "output_type": "stream",
     "text": [
      "Epoch 39: 100%|██████████| 53/53 [00:54<00:00,  1.03s/it]\n"
     ]
    },
    {
     "name": "stdout",
     "output_type": "stream",
     "text": [
      "\tLoss: 2.9193870998778433, Val Loss: 1.4530768394470215, LR: 0.0009727592877996585, Duration: 55.97 sec - model saved!\n"
     ]
    },
    {
     "name": "stderr",
     "output_type": "stream",
     "text": [
      "Epoch 40: 100%|██████████| 53/53 [00:55<00:00,  1.05s/it]\n"
     ]
    },
    {
     "name": "stdout",
     "output_type": "stream",
     "text": [
      "\tLoss: 2.800789104317719, Val Loss: 1.3863869309425354, LR: 0.0009698463103929542, Duration: 56.78 sec - model saved!\n"
     ]
    },
    {
     "name": "stderr",
     "output_type": "stream",
     "text": [
      "Epoch 41: 100%|██████████| 53/53 [00:57<00:00,  1.08s/it]\n"
     ]
    },
    {
     "name": "stdout",
     "output_type": "stream",
     "text": [
      "\tLoss: 2.717852178609596, Val Loss: 1.3095507621765137, LR: 0.0009667902132486009, Duration: 58.50 sec - model saved!\n"
     ]
    },
    {
     "name": "stderr",
     "output_type": "stream",
     "text": [
      "Epoch 42: 100%|██████████| 53/53 [00:55<00:00,  1.05s/it]\n"
     ]
    },
    {
     "name": "stdout",
     "output_type": "stream",
     "text": [
      "\tLoss: 2.670654312619623, Val Loss: 1.3770115375518799, LR: 0.0009635919272833937, Duration: 56.59 sec\n"
     ]
    },
    {
     "name": "stderr",
     "output_type": "stream",
     "text": [
      "Epoch 43: 100%|██████████| 53/53 [00:53<00:00,  1.00s/it]\n"
     ]
    },
    {
     "name": "stdout",
     "output_type": "stream",
     "text": [
      "\tLoss: 2.677338757604923, Val Loss: 1.3698248267173767, LR: 0.0009602524267262203, Duration: 54.31 sec\n"
     ]
    },
    {
     "name": "stderr",
     "output_type": "stream",
     "text": [
      "Epoch 44: 100%|██████████| 53/53 [00:54<00:00,  1.02s/it]\n"
     ]
    },
    {
     "name": "stdout",
     "output_type": "stream",
     "text": [
      "\tLoss: 2.8128446498007142, Val Loss: 1.2911623120307922, LR: 0.0009567727288213005, Duration: 55.28 sec - model saved!\n"
     ]
    },
    {
     "name": "stderr",
     "output_type": "stream",
     "text": [
      "Epoch 45: 100%|██████████| 53/53 [00:54<00:00,  1.02s/it]\n"
     ]
    },
    {
     "name": "stdout",
     "output_type": "stream",
     "text": [
      "\tLoss: 2.594049096107483, Val Loss: 1.2270532250404358, LR: 0.0009531538935183251, Duration: 55.42 sec - model saved!\n"
     ]
    },
    {
     "name": "stderr",
     "output_type": "stream",
     "text": [
      "Epoch 46: 100%|██████████| 53/53 [00:54<00:00,  1.03s/it]\n"
     ]
    },
    {
     "name": "stdout",
     "output_type": "stream",
     "text": [
      "\tLoss: 2.443238582251207, Val Loss: 1.2195707559585571, LR: 0.0009493970231495835, Duration: 55.87 sec - model saved!\n"
     ]
    },
    {
     "name": "stderr",
     "output_type": "stream",
     "text": [
      "Epoch 47: 100%|██████████| 53/53 [00:53<00:00,  1.01s/it]\n"
     ]
    },
    {
     "name": "stdout",
     "output_type": "stream",
     "text": [
      "\tLoss: 2.5503382142984643, Val Loss: 1.1491207480430603, LR: 0.0009455032620941839, Duration: 54.74 sec - model saved!\n"
     ]
    },
    {
     "name": "stderr",
     "output_type": "stream",
     "text": [
      "Epoch 48: 100%|██████████| 53/53 [00:55<00:00,  1.04s/it]\n"
     ]
    },
    {
     "name": "stdout",
     "output_type": "stream",
     "text": [
      "\tLoss: 2.5578412424843266, Val Loss: 1.2558914422988892, LR: 0.0009414737964294635, Duration: 57.37 sec\n"
     ]
    },
    {
     "name": "stderr",
     "output_type": "stream",
     "text": [
      "Epoch 49: 100%|██████████| 53/53 [00:54<00:00,  1.03s/it]\n"
     ]
    },
    {
     "name": "stdout",
     "output_type": "stream",
     "text": [
      "\tLoss: 2.342664219298453, Val Loss: 1.0665205717086792, LR: 0.0009373098535696979, Duration: 56.20 sec - model saved!\n"
     ]
    },
    {
     "name": "stderr",
     "output_type": "stream",
     "text": [
      "Epoch 50: 100%|██████████| 53/53 [00:52<00:00,  1.01it/s]\n"
     ]
    },
    {
     "name": "stdout",
     "output_type": "stream",
     "text": [
      "\tLoss: 2.6033848591570585, Val Loss: 1.042730987071991, LR: 0.0009330127018922195, Duration: 54.22 sec - model saved!\n"
     ]
    },
    {
     "name": "stderr",
     "output_type": "stream",
     "text": [
      "Epoch 51: 100%|██████████| 53/53 [00:53<00:00,  1.00s/it]\n"
     ]
    },
    {
     "name": "stdout",
     "output_type": "stream",
     "text": [
      "\tLoss: 2.4571773353612647, Val Loss: 1.110414981842041, LR: 0.0009285836503510562, Duration: 54.16 sec\n"
     ]
    },
    {
     "name": "stderr",
     "output_type": "stream",
     "text": [
      "Epoch 52: 100%|██████████| 53/53 [00:53<00:00,  1.01s/it]\n"
     ]
    },
    {
     "name": "stdout",
     "output_type": "stream",
     "text": [
      "\tLoss: 2.6541122288074135, Val Loss: 1.0907429456710815, LR: 0.0009240240480782129, Duration: 54.79 sec\n"
     ]
    },
    {
     "name": "stderr",
     "output_type": "stream",
     "text": [
      "Epoch 53: 100%|██████████| 53/53 [00:54<00:00,  1.02s/it]\n"
     ]
    },
    {
     "name": "stdout",
     "output_type": "stream",
     "text": [
      "\tLoss: 2.555837975358063, Val Loss: 1.0942850708961487, LR: 0.0009193352839727121, Duration: 55.13 sec\n"
     ]
    },
    {
     "name": "stderr",
     "output_type": "stream",
     "text": [
      "Epoch 54: 100%|██████████| 53/53 [00:54<00:00,  1.03s/it]\n"
     ]
    },
    {
     "name": "stdout",
     "output_type": "stream",
     "text": [
      "\tLoss: 2.493097615691851, Val Loss: 1.0617780685424805, LR: 0.0009145187862775209, Duration: 55.36 sec\n"
     ]
    },
    {
     "name": "stderr",
     "output_type": "stream",
     "text": [
      "Epoch 55: 100%|██████████| 53/53 [00:56<00:00,  1.07s/it]\n"
     ]
    },
    {
     "name": "stdout",
     "output_type": "stream",
     "text": [
      "\tLoss: 2.2157857800429723, Val Loss: 1.0660861730575562, LR: 0.0009095760221444959, Duration: 57.68 sec\n"
     ]
    },
    {
     "name": "stderr",
     "output_type": "stream",
     "text": [
      "Epoch 56: 100%|██████████| 53/53 [00:51<00:00,  1.03it/s]\n"
     ]
    },
    {
     "name": "stdout",
     "output_type": "stream",
     "text": [
      "\tLoss: 2.53370844643071, Val Loss: 1.08162260055542, LR: 0.0009045084971874737, Duration: 52.70 sec\n"
     ]
    },
    {
     "name": "stderr",
     "output_type": "stream",
     "text": [
      "Epoch 57: 100%|██████████| 53/53 [00:54<00:00,  1.03s/it]\n"
     ]
    },
    {
     "name": "stdout",
     "output_type": "stream",
     "text": [
      "\tLoss: 2.2741223303776867, Val Loss: 1.0024556517601013, LR: 0.0008993177550236464, Duration: 56.39 sec - model saved!\n"
     ]
    },
    {
     "name": "stderr",
     "output_type": "stream",
     "text": [
      "Epoch 58: 100%|██████████| 53/53 [00:55<00:00,  1.05s/it]\n"
     ]
    },
    {
     "name": "stdout",
     "output_type": "stream",
     "text": [
      "\tLoss: 2.417735657601986, Val Loss: 1.0947595238685608, LR: 0.0008940053768033609, Duration: 56.89 sec\n"
     ]
    },
    {
     "name": "stderr",
     "output_type": "stream",
     "text": [
      "Epoch 59: 100%|██████████| 53/53 [00:57<00:00,  1.08s/it]\n"
     ]
    },
    {
     "name": "stdout",
     "output_type": "stream",
     "text": [
      "\tLoss: 2.319584252699366, Val Loss: 0.9300487041473389, LR: 0.0008885729807284854, Duration: 58.60 sec - model saved!\n"
     ]
    },
    {
     "name": "stderr",
     "output_type": "stream",
     "text": [
      "Epoch 60: 100%|██████████| 53/53 [00:53<00:00,  1.01s/it]\n"
     ]
    },
    {
     "name": "stdout",
     "output_type": "stream",
     "text": [
      "\tLoss: 2.3449742996467733, Val Loss: 1.0675588846206665, LR: 0.000883022221559489, Duration: 55.05 sec\n"
     ]
    },
    {
     "name": "stderr",
     "output_type": "stream",
     "text": [
      "Epoch 61: 100%|██████████| 53/53 [00:53<00:00,  1.01s/it]\n"
     ]
    },
    {
     "name": "stdout",
     "output_type": "stream",
     "text": [
      "\tLoss: 2.253984017192193, Val Loss: 1.0440133213996887, LR: 0.000877354790111386, Duration: 54.46 sec\n"
     ]
    },
    {
     "name": "stderr",
     "output_type": "stream",
     "text": [
      "Epoch 62: 100%|██████████| 53/53 [00:56<00:00,  1.07s/it]\n"
     ]
    },
    {
     "name": "stdout",
     "output_type": "stream",
     "text": [
      "\tLoss: 2.4153635479369253, Val Loss: 0.9386581182479858, LR: 0.0008715724127386971, Duration: 58.02 sec\n"
     ]
    },
    {
     "name": "stderr",
     "output_type": "stream",
     "text": [
      "Epoch 63: 100%|██████████| 53/53 [00:54<00:00,  1.03s/it]\n"
     ]
    },
    {
     "name": "stdout",
     "output_type": "stream",
     "text": [
      "\tLoss: 2.205497046686568, Val Loss: 0.921240508556366, LR: 0.0008656768508095852, Duration: 55.63 sec - model saved!\n"
     ]
    },
    {
     "name": "stderr",
     "output_type": "stream",
     "text": [
      "Epoch 64: 100%|██████████| 53/53 [00:54<00:00,  1.04s/it]\n"
     ]
    },
    {
     "name": "stdout",
     "output_type": "stream",
     "text": [
      "\tLoss: 2.310613211595787, Val Loss: 0.9143078625202179, LR: 0.0008596699001693256, Duration: 56.11 sec - model saved!\n"
     ]
    },
    {
     "name": "stderr",
     "output_type": "stream",
     "text": [
      "Epoch 65: 100%|██████████| 53/53 [00:55<00:00,  1.04s/it]\n"
     ]
    },
    {
     "name": "stdout",
     "output_type": "stream",
     "text": [
      "\tLoss: 2.403618630373253, Val Loss: 0.9502743482589722, LR: 0.0008535533905932737, Duration: 56.47 sec\n"
     ]
    },
    {
     "name": "stderr",
     "output_type": "stream",
     "text": [
      "Epoch 66: 100%|██████████| 53/53 [00:51<00:00,  1.02it/s]\n"
     ]
    },
    {
     "name": "stdout",
     "output_type": "stream",
     "text": [
      "\tLoss: 2.2579150964628973, Val Loss: 0.8833553194999695, LR: 0.0008473291852294987, Duration: 53.02 sec - model saved!\n"
     ]
    },
    {
     "name": "stderr",
     "output_type": "stream",
     "text": [
      "Epoch 67: 100%|██████████| 53/53 [00:53<00:00,  1.00s/it]\n"
     ]
    },
    {
     "name": "stdout",
     "output_type": "stream",
     "text": [
      "\tLoss: 2.2774284920602477, Val Loss: 0.9764192700386047, LR: 0.0008409991800312493, Duration: 54.00 sec\n"
     ]
    },
    {
     "name": "stderr",
     "output_type": "stream",
     "text": [
      "Epoch 68: 100%|██████████| 53/53 [00:53<00:00,  1.01s/it]\n"
     ]
    },
    {
     "name": "stdout",
     "output_type": "stream",
     "text": [
      "\tLoss: 2.1365044881712714, Val Loss: 0.9110971093177795, LR: 0.0008345653031794292, Duration: 54.42 sec\n"
     ]
    },
    {
     "name": "stderr",
     "output_type": "stream",
     "text": [
      "Epoch 69: 100%|██████████| 53/53 [00:54<00:00,  1.02s/it]\n"
     ]
    },
    {
     "name": "stdout",
     "output_type": "stream",
     "text": [
      "\tLoss: 2.2805160913827285, Val Loss: 0.867189347743988, LR: 0.0008280295144952537, Duration: 55.61 sec - model saved!\n"
     ]
    },
    {
     "name": "stderr",
     "output_type": "stream",
     "text": [
      "Epoch 70: 100%|██████████| 53/53 [00:53<00:00,  1.01s/it]\n"
     ]
    },
    {
     "name": "stdout",
     "output_type": "stream",
     "text": [
      "\tLoss: 2.1687475982702002, Val Loss: 0.9406475126743317, LR: 0.0008213938048432696, Duration: 54.57 sec\n"
     ]
    },
    {
     "name": "stderr",
     "output_type": "stream",
     "text": [
      "Epoch 71: 100%|██████████| 53/53 [00:53<00:00,  1.01s/it]\n"
     ]
    },
    {
     "name": "stdout",
     "output_type": "stream",
     "text": [
      "\tLoss: 2.0727123291987293, Val Loss: 0.8242586851119995, LR: 0.0008146601955249188, Duration: 54.62 sec - model saved!\n"
     ]
    },
    {
     "name": "stderr",
     "output_type": "stream",
     "text": [
      "Epoch 72: 100%|██████████| 53/53 [00:54<00:00,  1.03s/it]\n"
     ]
    },
    {
     "name": "stdout",
     "output_type": "stream",
     "text": [
      "\tLoss: 2.074996739063623, Val Loss: 0.805954247713089, LR: 0.0008078307376628291, Duration: 56.26 sec - model saved!\n"
     ]
    },
    {
     "name": "stderr",
     "output_type": "stream",
     "text": [
      "Epoch 73: 100%|██████████| 53/53 [00:56<00:00,  1.06s/it]\n"
     ]
    },
    {
     "name": "stdout",
     "output_type": "stream",
     "text": [
      "\tLoss: 2.013730413508865, Val Loss: 0.8352153301239014, LR: 0.0008009075115760243, Duration: 57.65 sec\n"
     ]
    },
    {
     "name": "stderr",
     "output_type": "stream",
     "text": [
      "Epoch 74: 100%|██████████| 53/53 [00:56<00:00,  1.07s/it]\n"
     ]
    },
    {
     "name": "stdout",
     "output_type": "stream",
     "text": [
      "\tLoss: 1.9569748572583467, Val Loss: 0.8338195085525513, LR: 0.0007938926261462366, Duration: 58.22 sec\n"
     ]
    },
    {
     "name": "stderr",
     "output_type": "stream",
     "text": [
      "Epoch 75: 100%|██████████| 53/53 [00:56<00:00,  1.06s/it]\n"
     ]
    },
    {
     "name": "stdout",
     "output_type": "stream",
     "text": [
      "\tLoss: 2.0179739043397724, Val Loss: 0.838370144367218, LR: 0.0007867882181755231, Duration: 57.26 sec\n"
     ]
    },
    {
     "name": "stderr",
     "output_type": "stream",
     "text": [
      "Epoch 76: 100%|██████████| 53/53 [00:55<00:00,  1.04s/it]\n"
     ]
    },
    {
     "name": "stdout",
     "output_type": "stream",
     "text": [
      "\tLoss: 2.057381755900833, Val Loss: 0.7936604022979736, LR: 0.0007795964517353734, Duration: 56.33 sec - model saved!\n"
     ]
    },
    {
     "name": "stderr",
     "output_type": "stream",
     "text": [
      "Epoch 77: 100%|██████████| 53/53 [00:55<00:00,  1.04s/it]\n"
     ]
    },
    {
     "name": "stdout",
     "output_type": "stream",
     "text": [
      "\tLoss: 2.099441078473937, Val Loss: 0.7818156480789185, LR: 0.0007723195175075137, Duration: 56.88 sec - model saved!\n"
     ]
    },
    {
     "name": "stderr",
     "output_type": "stream",
     "text": [
      "Epoch 78: 100%|██████████| 53/53 [00:53<00:00,  1.02s/it]\n"
     ]
    },
    {
     "name": "stdout",
     "output_type": "stream",
     "text": [
      "\tLoss: 2.127740783511468, Val Loss: 0.8063650727272034, LR: 0.0007649596321166025, Duration: 54.94 sec\n"
     ]
    },
    {
     "name": "stderr",
     "output_type": "stream",
     "text": [
      "Epoch 79: 100%|██████████| 53/53 [00:55<00:00,  1.04s/it]\n"
     ]
    },
    {
     "name": "stdout",
     "output_type": "stream",
     "text": [
      "\tLoss: 1.980309344687552, Val Loss: 0.8000202775001526, LR: 0.0007575190374550272, Duration: 56.04 sec\n"
     ]
    },
    {
     "name": "stderr",
     "output_type": "stream",
     "text": [
      "Epoch 80: 100%|██████████| 53/53 [00:55<00:00,  1.05s/it]\n"
     ]
    },
    {
     "name": "stdout",
     "output_type": "stream",
     "text": [
      "\tLoss: 2.0294270942795953, Val Loss: 0.936674565076828, LR: 0.00075, Duration: 56.98 sec\n"
     ]
    },
    {
     "name": "stderr",
     "output_type": "stream",
     "text": [
      "Epoch 81: 100%|██████████| 53/53 [00:55<00:00,  1.04s/it]\n"
     ]
    },
    {
     "name": "stdout",
     "output_type": "stream",
     "text": [
      "\tLoss: 2.333226500817065, Val Loss: 0.8518303036689758, LR: 0.0007424048101231686, Duration: 56.41 sec\n"
     ]
    },
    {
     "name": "stderr",
     "output_type": "stream",
     "text": [
      "Epoch 82: 100%|██████████| 53/53 [00:54<00:00,  1.03s/it]\n"
     ]
    },
    {
     "name": "stdout",
     "output_type": "stream",
     "text": [
      "\tLoss: 2.0523800602499045, Val Loss: 0.8566164374351501, LR: 0.0007347357813929454, Duration: 55.43 sec\n"
     ]
    },
    {
     "name": "stderr",
     "output_type": "stream",
     "text": [
      "Epoch 83: 100%|██████████| 53/53 [00:54<00:00,  1.03s/it]\n"
     ]
    },
    {
     "name": "stdout",
     "output_type": "stream",
     "text": [
      "\tLoss: 2.1313993840847374, Val Loss: 0.7956953048706055, LR: 0.0007269952498697733, Duration: 55.45 sec\n"
     ]
    },
    {
     "name": "stderr",
     "output_type": "stream",
     "text": [
      "Epoch 84: 100%|██████████| 53/53 [00:56<00:00,  1.06s/it]\n"
     ]
    },
    {
     "name": "stdout",
     "output_type": "stream",
     "text": [
      "\tLoss: 1.8053377259452388, Val Loss: 0.7814171314239502, LR: 0.0007191855733945387, Duration: 57.39 sec - model saved!\n"
     ]
    },
    {
     "name": "stderr",
     "output_type": "stream",
     "text": [
      "Epoch 85: 100%|██████████| 53/53 [00:52<00:00,  1.01it/s]\n"
     ]
    },
    {
     "name": "stdout",
     "output_type": "stream",
     "text": [
      "\tLoss: 1.8435160416477132, Val Loss: 0.7866812646389008, LR: 0.0007113091308703497, Duration: 54.41 sec\n"
     ]
    },
    {
     "name": "stderr",
     "output_type": "stream",
     "text": [
      "Epoch 86: 100%|██████████| 53/53 [00:55<00:00,  1.04s/it]\n"
     ]
    },
    {
     "name": "stdout",
     "output_type": "stream",
     "text": [
      "\tLoss: 2.176641916329006, Val Loss: 0.8527088761329651, LR: 0.0007033683215379002, Duration: 56.30 sec\n"
     ]
    },
    {
     "name": "stderr",
     "output_type": "stream",
     "text": [
      "Epoch 87: 100%|██████████| 53/53 [00:53<00:00,  1.02s/it]\n"
     ]
    },
    {
     "name": "stdout",
     "output_type": "stream",
     "text": [
      "\tLoss: 1.9864713335936923, Val Loss: 0.7748362421989441, LR: 0.0006953655642446368, Duration: 55.10 sec - model saved!\n"
     ]
    },
    {
     "name": "stderr",
     "output_type": "stream",
     "text": [
      "Epoch 88: 100%|██████████| 53/53 [00:55<00:00,  1.05s/it]\n"
     ]
    },
    {
     "name": "stdout",
     "output_type": "stream",
     "text": [
      "\tLoss: 1.8916143516324602, Val Loss: 0.8100885450839996, LR: 0.0006873032967079561, Duration: 56.69 sec\n"
     ]
    },
    {
     "name": "stderr",
     "output_type": "stream",
     "text": [
      "Epoch 89: 100%|██████████| 53/53 [00:51<00:00,  1.02it/s]\n"
     ]
    },
    {
     "name": "stdout",
     "output_type": "stream",
     "text": [
      "\tLoss: 2.1044816475994184, Val Loss: 0.8415380120277405, LR: 0.0006791839747726501, Duration: 52.86 sec\n"
     ]
    },
    {
     "name": "stderr",
     "output_type": "stream",
     "text": [
      "Epoch 90: 100%|██████████| 53/53 [00:54<00:00,  1.02s/it]\n"
     ]
    },
    {
     "name": "stdout",
     "output_type": "stream",
     "text": [
      "\tLoss: 1.8656560373756121, Val Loss: 0.7703889608383179, LR: 0.0006710100716628344, Duration: 55.15 sec - model saved!\n"
     ]
    },
    {
     "name": "stderr",
     "output_type": "stream",
     "text": [
      "Epoch 91: 100%|██████████| 53/53 [00:52<00:00,  1.01it/s]\n"
     ]
    },
    {
     "name": "stdout",
     "output_type": "stream",
     "text": [
      "\tLoss: 2.175869046517138, Val Loss: 0.7951071858406067, LR: 0.0006627840772285784, Duration: 53.38 sec\n"
     ]
    },
    {
     "name": "stderr",
     "output_type": "stream",
     "text": [
      "Epoch 92: 100%|██████████| 53/53 [00:53<00:00,  1.01s/it]\n"
     ]
    },
    {
     "name": "stdout",
     "output_type": "stream",
     "text": [
      "\tLoss: 1.9909762481473527, Val Loss: 0.7813763916492462, LR: 0.0006545084971874737, Duration: 54.41 sec\n"
     ]
    },
    {
     "name": "stderr",
     "output_type": "stream",
     "text": [
      "Epoch 93: 100%|██████████| 53/53 [00:54<00:00,  1.02s/it]\n"
     ]
    },
    {
     "name": "stdout",
     "output_type": "stream",
     "text": [
      "\tLoss: 2.033025901272612, Val Loss: 0.8107391595840454, LR: 0.0006461858523613684, Duration: 55.88 sec\n"
     ]
    },
    {
     "name": "stderr",
     "output_type": "stream",
     "text": [
      "Epoch 94: 100%|██████████| 53/53 [00:54<00:00,  1.04s/it]\n"
     ]
    },
    {
     "name": "stdout",
     "output_type": "stream",
     "text": [
      "\tLoss: 1.9233853119724202, Val Loss: 0.7796331346035004, LR: 0.0006378186779084996, Duration: 55.84 sec\n"
     ]
    },
    {
     "name": "stderr",
     "output_type": "stream",
     "text": [
      "Epoch 95: 100%|██████████| 53/53 [00:50<00:00,  1.05it/s]\n"
     ]
    },
    {
     "name": "stdout",
     "output_type": "stream",
     "text": [
      "\tLoss: 1.974688469239001, Val Loss: 0.8114884793758392, LR: 0.0006294095225512603, Duration: 51.34 sec\n"
     ]
    },
    {
     "name": "stderr",
     "output_type": "stream",
     "text": [
      "Epoch 96: 100%|██████████| 53/53 [00:54<00:00,  1.03s/it]\n"
     ]
    },
    {
     "name": "stdout",
     "output_type": "stream",
     "text": [
      "\tLoss: 2.023110676486537, Val Loss: 0.8224549889564514, LR: 0.0006209609477998338, Duration: 55.74 sec\n"
     ]
    },
    {
     "name": "stderr",
     "output_type": "stream",
     "text": [
      "Epoch 97: 100%|██████████| 53/53 [00:54<00:00,  1.02s/it]\n"
     ]
    },
    {
     "name": "stdout",
     "output_type": "stream",
     "text": [
      "\tLoss: 1.819736581928325, Val Loss: 0.7394175827503204, LR: 0.0006124755271719325, Duration: 55.21 sec - model saved!\n"
     ]
    },
    {
     "name": "stderr",
     "output_type": "stream",
     "text": [
      "Epoch 98: 100%|██████████| 53/53 [00:50<00:00,  1.04it/s]\n"
     ]
    },
    {
     "name": "stdout",
     "output_type": "stream",
     "text": [
      "\tLoss: 1.8421136478208147, Val Loss: 0.7573162317276001, LR: 0.0006039558454088796, Duration: 51.92 sec\n"
     ]
    },
    {
     "name": "stderr",
     "output_type": "stream",
     "text": [
      "Epoch 99: 100%|██████████| 53/53 [00:52<00:00,  1.01it/s]\n"
     ]
    },
    {
     "name": "stdout",
     "output_type": "stream",
     "text": [
      "\tLoss: 1.8389393653509751, Val Loss: 0.8332683444023132, LR: 0.0005954044976882724, Duration: 53.49 sec\n"
     ]
    },
    {
     "name": "stderr",
     "output_type": "stream",
     "text": [
      "Epoch 100: 100%|██████████| 53/53 [00:57<00:00,  1.08s/it]\n"
     ]
    },
    {
     "name": "stdout",
     "output_type": "stream",
     "text": [
      "\tLoss: 1.8503605127334595, Val Loss: 0.7469978332519531, LR: 0.0005868240888334653, Duration: 58.46 sec\n"
     ]
    },
    {
     "name": "stderr",
     "output_type": "stream",
     "text": [
      "Epoch 101: 100%|██████████| 53/53 [00:58<00:00,  1.11s/it]\n"
     ]
    },
    {
     "name": "stdout",
     "output_type": "stream",
     "text": [
      "\tLoss: 2.1647394659384243, Val Loss: 0.7606184482574463, LR: 0.0005782172325201155, Duration: 59.99 sec\n"
     ]
    },
    {
     "name": "stderr",
     "output_type": "stream",
     "text": [
      "Epoch 102: 100%|██████████| 53/53 [00:55<00:00,  1.05s/it]\n"
     ]
    },
    {
     "name": "stdout",
     "output_type": "stream",
     "text": [
      "\tLoss: 1.9494174145302683, Val Loss: 0.7428838908672333, LR: 0.0005695865504800327, Duration: 56.93 sec\n"
     ]
    },
    {
     "name": "stderr",
     "output_type": "stream",
     "text": [
      "Epoch 103: 100%|██████████| 53/53 [00:57<00:00,  1.08s/it]\n"
     ]
    },
    {
     "name": "stdout",
     "output_type": "stream",
     "text": [
      "\tLoss: 1.7977095212576524, Val Loss: 0.7223609387874603, LR: 0.0005609346717025737, Duration: 58.56 sec - model saved!\n"
     ]
    },
    {
     "name": "stderr",
     "output_type": "stream",
     "text": [
      "Epoch 104: 100%|██████████| 53/53 [00:58<00:00,  1.11s/it]\n"
     ]
    },
    {
     "name": "stdout",
     "output_type": "stream",
     "text": [
      "\tLoss: 2.0046126954960375, Val Loss: 0.7738460898399353, LR: 0.0005522642316338268, Duration: 59.71 sec\n"
     ]
    },
    {
     "name": "stderr",
     "output_type": "stream",
     "text": [
      "Epoch 105: 100%|██████████| 53/53 [00:56<00:00,  1.07s/it]\n"
     ]
    },
    {
     "name": "stdout",
     "output_type": "stream",
     "text": [
      "\tLoss: 1.9628003745708826, Val Loss: 0.7904259562492371, LR: 0.0005435778713738292, Duration: 57.43 sec\n"
     ]
    },
    {
     "name": "stderr",
     "output_type": "stream",
     "text": [
      "Epoch 106: 100%|██████████| 53/53 [01:00<00:00,  1.14s/it]\n"
     ]
    },
    {
     "name": "stdout",
     "output_type": "stream",
     "text": [
      "\tLoss: 1.9245123503343113, Val Loss: 0.7833870053291321, LR: 0.0005348782368720626, Duration: 61.40 sec\n"
     ]
    },
    {
     "name": "stderr",
     "output_type": "stream",
     "text": [
      "Epoch 107: 100%|██████████| 53/53 [01:02<00:00,  1.19s/it]\n"
     ]
    },
    {
     "name": "stdout",
     "output_type": "stream",
     "text": [
      "\tLoss: 1.754549648401872, Val Loss: 0.7489040791988373, LR: 0.000526167978121472, Duration: 63.89 sec\n"
     ]
    },
    {
     "name": "stderr",
     "output_type": "stream",
     "text": [
      "Epoch 108: 100%|██████████| 53/53 [00:57<00:00,  1.09s/it]\n"
     ]
    },
    {
     "name": "stdout",
     "output_type": "stream",
     "text": [
      "\tLoss: 1.8288643270168665, Val Loss: 0.8250174224376678, LR: 0.0005174497483512506, Duration: 59.67 sec\n"
     ]
    },
    {
     "name": "stderr",
     "output_type": "stream",
     "text": [
      "Epoch 109: 100%|██████████| 53/53 [01:00<00:00,  1.14s/it]\n"
     ]
    },
    {
     "name": "stdout",
     "output_type": "stream",
     "text": [
      "\tLoss: 1.729884406305709, Val Loss: 0.7615804970264435, LR: 0.0005087262032186418, Duration: 62.12 sec\n"
     ]
    },
    {
     "name": "stderr",
     "output_type": "stream",
     "text": [
      "Epoch 110: 100%|██████████| 53/53 [00:56<00:00,  1.07s/it]\n"
     ]
    },
    {
     "name": "stdout",
     "output_type": "stream",
     "text": [
      "\tLoss: 1.8613080258639354, Val Loss: 0.7568840086460114, LR: 0.0005, Duration: 58.27 sec\n"
     ]
    },
    {
     "name": "stderr",
     "output_type": "stream",
     "text": [
      "Epoch 111: 100%|██████████| 53/53 [00:58<00:00,  1.10s/it]\n"
     ]
    },
    {
     "name": "stdout",
     "output_type": "stream",
     "text": [
      "\tLoss: 1.787068079102714, Val Loss: 0.7867358326911926, LR: 0.0004912737967813582, Duration: 59.46 sec\n"
     ]
    },
    {
     "name": "stderr",
     "output_type": "stream",
     "text": [
      "Epoch 112: 100%|██████████| 53/53 [01:00<00:00,  1.15s/it]\n"
     ]
    },
    {
     "name": "stdout",
     "output_type": "stream",
     "text": [
      "\tLoss: 2.030370091492275, Val Loss: 0.7691796123981476, LR: 0.0004825502516487497, Duration: 61.96 sec\n"
     ]
    },
    {
     "name": "stderr",
     "output_type": "stream",
     "text": [
      "Epoch 113: 100%|██████████| 53/53 [00:57<00:00,  1.08s/it]\n"
     ]
    },
    {
     "name": "stdout",
     "output_type": "stream",
     "text": [
      "\tLoss: 1.8236399967715424, Val Loss: 0.7371138036251068, LR: 0.0004738320218785281, Duration: 58.76 sec\n"
     ]
    },
    {
     "name": "stderr",
     "output_type": "stream",
     "text": [
      "Epoch 114: 100%|██████████| 53/53 [01:02<00:00,  1.18s/it]\n"
     ]
    },
    {
     "name": "stdout",
     "output_type": "stream",
     "text": [
      "\tLoss: 1.8048734439993805, Val Loss: 0.7669168710708618, LR: 0.00046512176312793734, Duration: 64.29 sec\n"
     ]
    },
    {
     "name": "stderr",
     "output_type": "stream",
     "text": [
      "Epoch 115: 100%|██████████| 53/53 [00:57<00:00,  1.08s/it]\n"
     ]
    },
    {
     "name": "stdout",
     "output_type": "stream",
     "text": [
      "\tLoss: 1.872641088827601, Val Loss: 0.8076295256614685, LR: 0.00045642212862617086, Duration: 58.31 sec\n"
     ]
    },
    {
     "name": "stderr",
     "output_type": "stream",
     "text": [
      "Epoch 116: 100%|██████████| 53/53 [00:58<00:00,  1.10s/it]\n"
     ]
    },
    {
     "name": "stdout",
     "output_type": "stream",
     "text": [
      "\tLoss: 1.7982170131971251, Val Loss: 0.7745428383350372, LR: 0.00044773576836617336, Duration: 59.62 sec\n"
     ]
    },
    {
     "name": "stderr",
     "output_type": "stream",
     "text": [
      "Epoch 117: 100%|██████████| 53/53 [00:55<00:00,  1.04s/it]\n"
     ]
    },
    {
     "name": "stdout",
     "output_type": "stream",
     "text": [
      "\tLoss: 1.993064375418537, Val Loss: 0.8010600507259369, LR: 0.00043906532829742634, Duration: 56.08 sec\n"
     ]
    },
    {
     "name": "stderr",
     "output_type": "stream",
     "text": [
      "Epoch 118: 100%|██████████| 53/53 [00:55<00:00,  1.05s/it]\n"
     ]
    },
    {
     "name": "stdout",
     "output_type": "stream",
     "text": [
      "\tLoss: 1.6279014135306735, Val Loss: 0.8208394646644592, LR: 0.0004304134495199674, Duration: 57.22 sec\n"
     ]
    },
    {
     "name": "stderr",
     "output_type": "stream",
     "text": [
      "Epoch 119: 100%|██████████| 53/53 [00:56<00:00,  1.07s/it]\n"
     ]
    },
    {
     "name": "stdout",
     "output_type": "stream",
     "text": [
      "\tLoss: 1.9381784436837681, Val Loss: 0.7752794325351715, LR: 0.0004217827674798845, Duration: 58.04 sec\n"
     ]
    },
    {
     "name": "stderr",
     "output_type": "stream",
     "text": [
      "Epoch 120: 100%|██████████| 53/53 [00:55<00:00,  1.05s/it]\n"
     ]
    },
    {
     "name": "stdout",
     "output_type": "stream",
     "text": [
      "\tLoss: 1.7409047866767307, Val Loss: 0.7790868580341339, LR: 0.00041317591116653486, Duration: 56.75 sec\n"
     ]
    },
    {
     "name": "stderr",
     "output_type": "stream",
     "text": [
      "Epoch 121: 100%|██████████| 53/53 [00:55<00:00,  1.05s/it]\n"
     ]
    },
    {
     "name": "stdout",
     "output_type": "stream",
     "text": [
      "\tLoss: 1.7424664137498387, Val Loss: 0.7359690070152283, LR: 0.0004045955023117276, Duration: 56.85 sec\n"
     ]
    },
    {
     "name": "stderr",
     "output_type": "stream",
     "text": [
      "Epoch 122: 100%|██████████| 53/53 [00:58<00:00,  1.10s/it]\n"
     ]
    },
    {
     "name": "stdout",
     "output_type": "stream",
     "text": [
      "\tLoss: 1.648892028151818, Val Loss: 0.7384626269340515, LR: 0.0003960441545911204, Duration: 59.37 sec\n"
     ]
    },
    {
     "name": "stderr",
     "output_type": "stream",
     "text": [
      "Epoch 123: 100%|██████████| 53/53 [00:56<00:00,  1.07s/it]\n"
     ]
    },
    {
     "name": "stdout",
     "output_type": "stream",
     "text": [
      "\tLoss: 1.6517298086634222, Val Loss: 0.7862665355205536, LR: 0.0003875244728280676, Duration: 57.76 sec\n"
     ]
    },
    {
     "name": "stderr",
     "output_type": "stream",
     "text": [
      "Epoch 124: 100%|██████████| 53/53 [00:54<00:00,  1.04s/it]\n"
     ]
    },
    {
     "name": "stdout",
     "output_type": "stream",
     "text": [
      "\tLoss: 1.9343630930162825, Val Loss: 0.7684400677680969, LR: 0.0003790390522001662, Duration: 56.71 sec\n"
     ]
    },
    {
     "name": "stderr",
     "output_type": "stream",
     "text": [
      "Epoch 125: 100%|██████████| 53/53 [00:53<00:00,  1.01s/it]\n"
     ]
    },
    {
     "name": "stdout",
     "output_type": "stream",
     "text": [
      "\tLoss: 1.7228766724748432, Val Loss: 0.7428741455078125, LR: 0.0003705904774487396, Duration: 54.46 sec\n"
     ]
    },
    {
     "name": "stderr",
     "output_type": "stream",
     "text": [
      "Epoch 126: 100%|██████████| 53/53 [00:55<00:00,  1.04s/it]\n"
     ]
    },
    {
     "name": "stdout",
     "output_type": "stream",
     "text": [
      "\tLoss: 1.8618896007537842, Val Loss: 0.7360974848270416, LR: 0.00036218132209150044, Duration: 56.14 sec\n"
     ]
    },
    {
     "name": "stderr",
     "output_type": "stream",
     "text": [
      "Epoch 127: 100%|██████████| 53/53 [00:54<00:00,  1.03s/it]\n"
     ]
    },
    {
     "name": "stdout",
     "output_type": "stream",
     "text": [
      "\tLoss: 1.7377171437695342, Val Loss: 0.7707103192806244, LR: 0.00035381414763863166, Duration: 55.29 sec\n"
     ]
    },
    {
     "name": "stderr",
     "output_type": "stream",
     "text": [
      "Epoch 128: 100%|██████████| 53/53 [00:54<00:00,  1.02s/it]\n"
     ]
    },
    {
     "name": "stdout",
     "output_type": "stream",
     "text": [
      "\tLoss: 1.8116589391006614, Val Loss: 0.721858561038971, LR: 0.00034549150281252633, Duration: 55.51 sec - model saved!\n"
     ]
    },
    {
     "name": "stderr",
     "output_type": "stream",
     "text": [
      "Epoch 129: 100%|██████████| 53/53 [00:54<00:00,  1.02s/it]\n"
     ]
    },
    {
     "name": "stdout",
     "output_type": "stream",
     "text": [
      "\tLoss: 1.8063928732332193, Val Loss: 0.757730096578598, LR: 0.00033721592277142175, Duration: 54.96 sec\n"
     ]
    },
    {
     "name": "stderr",
     "output_type": "stream",
     "text": [
      "Epoch 130: 100%|██████████| 53/53 [00:52<00:00,  1.01it/s]\n"
     ]
    },
    {
     "name": "stdout",
     "output_type": "stream",
     "text": [
      "\tLoss: 1.615504670817897, Val Loss: 0.7388972342014313, LR: 0.0003289899283371657, Duration: 53.41 sec\n"
     ]
    },
    {
     "name": "stderr",
     "output_type": "stream",
     "text": [
      "Epoch 131: 100%|██████████| 53/53 [00:56<00:00,  1.07s/it]\n"
     ]
    },
    {
     "name": "stdout",
     "output_type": "stream",
     "text": [
      "\tLoss: 1.7829632680371124, Val Loss: 0.7313882112503052, LR: 0.00032081602522734986, Duration: 57.82 sec\n"
     ]
    },
    {
     "name": "stderr",
     "output_type": "stream",
     "text": [
      "Epoch 132: 100%|██████████| 53/53 [00:52<00:00,  1.01it/s]\n"
     ]
    },
    {
     "name": "stdout",
     "output_type": "stream",
     "text": [
      "\tLoss: 1.9229527183298796, Val Loss: 0.8009506464004517, LR: 0.00031269670329204396, Duration: 54.32 sec\n"
     ]
    },
    {
     "name": "stderr",
     "output_type": "stream",
     "text": [
      "Epoch 133: 100%|██████████| 53/53 [00:58<00:00,  1.11s/it]\n"
     ]
    },
    {
     "name": "stdout",
     "output_type": "stream",
     "text": [
      "\tLoss: 1.7371472727577641, Val Loss: 0.7824046909809113, LR: 0.0003046344357553632, Duration: 60.18 sec\n"
     ]
    },
    {
     "name": "stderr",
     "output_type": "stream",
     "text": [
      "Epoch 134: 100%|██████████| 53/53 [00:56<00:00,  1.07s/it]\n"
     ]
    },
    {
     "name": "stdout",
     "output_type": "stream",
     "text": [
      "\tLoss: 1.8197337152822963, Val Loss: 0.7600119113922119, LR: 0.0002966316784621, Duration: 58.02 sec\n"
     ]
    },
    {
     "name": "stderr",
     "output_type": "stream",
     "text": [
      "Epoch 135: 100%|██████████| 53/53 [00:54<00:00,  1.04s/it]\n"
     ]
    },
    {
     "name": "stdout",
     "output_type": "stream",
     "text": [
      "\tLoss: 1.7665395455540351, Val Loss: 0.8313522934913635, LR: 0.0002886908691296504, Duration: 56.46 sec\n"
     ]
    },
    {
     "name": "stderr",
     "output_type": "stream",
     "text": [
      "Epoch 136: 100%|██████████| 53/53 [00:59<00:00,  1.11s/it]\n"
     ]
    },
    {
     "name": "stdout",
     "output_type": "stream",
     "text": [
      "\tLoss: 1.6538343789442531, Val Loss: 0.7466786801815033, LR: 0.00028081442660546124, Duration: 60.50 sec\n"
     ]
    },
    {
     "name": "stderr",
     "output_type": "stream",
     "text": [
      "Epoch 137: 100%|██████████| 53/53 [00:57<00:00,  1.09s/it]\n"
     ]
    },
    {
     "name": "stdout",
     "output_type": "stream",
     "text": [
      "\tLoss: 1.688927079146763, Val Loss: 0.7899739742279053, LR: 0.00027300475013022663, Duration: 58.72 sec\n"
     ]
    },
    {
     "name": "stderr",
     "output_type": "stream",
     "text": [
      "Epoch 138: 100%|██████████| 53/53 [00:57<00:00,  1.09s/it]\n"
     ]
    },
    {
     "name": "stdout",
     "output_type": "stream",
     "text": [
      "\tLoss: 1.8328983738737286, Val Loss: 0.8103805780410767, LR: 0.00026526421860705474, Duration: 59.08 sec\n"
     ]
    },
    {
     "name": "stderr",
     "output_type": "stream",
     "text": [
      "Epoch 139: 100%|██████████| 53/53 [00:58<00:00,  1.10s/it]\n"
     ]
    },
    {
     "name": "stdout",
     "output_type": "stream",
     "text": [
      "\tLoss: 1.7230705866273843, Val Loss: 0.7506562173366547, LR: 0.0002575951898768315, Duration: 59.28 sec\n"
     ]
    },
    {
     "name": "stderr",
     "output_type": "stream",
     "text": [
      "Epoch 140: 100%|██████████| 53/53 [00:55<00:00,  1.05s/it]\n"
     ]
    },
    {
     "name": "stdout",
     "output_type": "stream",
     "text": [
      "\tLoss: 1.449784387957375, Val Loss: 0.702716737985611, LR: 0.0002500000000000001, Duration: 57.70 sec - model saved!\n"
     ]
    },
    {
     "name": "stderr",
     "output_type": "stream",
     "text": [
      "Epoch 141: 100%|██████████| 53/53 [00:57<00:00,  1.08s/it]\n"
     ]
    },
    {
     "name": "stdout",
     "output_type": "stream",
     "text": [
      "\tLoss: 1.8062497040010848, Val Loss: 0.764437198638916, LR: 0.00024248096254497287, Duration: 58.26 sec\n"
     ]
    },
    {
     "name": "stderr",
     "output_type": "stream",
     "text": [
      "Epoch 142: 100%|██████████| 53/53 [00:53<00:00,  1.02s/it]\n"
     ]
    },
    {
     "name": "stdout",
     "output_type": "stream",
     "text": [
      "\tLoss: 1.712375338347453, Val Loss: 0.7633450329303741, LR: 0.0002350403678833976, Duration: 54.76 sec\n"
     ]
    },
    {
     "name": "stderr",
     "output_type": "stream",
     "text": [
      "Epoch 143: 100%|██████████| 53/53 [01:00<00:00,  1.13s/it]\n"
     ]
    },
    {
     "name": "stdout",
     "output_type": "stream",
     "text": [
      "\tLoss: 1.8565168594414334, Val Loss: 0.7845994234085083, LR: 0.00022768048249248646, Duration: 60.99 sec\n"
     ]
    },
    {
     "name": "stderr",
     "output_type": "stream",
     "text": [
      "Epoch 144: 100%|██████████| 53/53 [00:55<00:00,  1.06s/it]\n"
     ]
    },
    {
     "name": "stdout",
     "output_type": "stream",
     "text": [
      "\tLoss: 1.7130160129295204, Val Loss: 0.78911492228508, LR: 0.00022040354826462666, Duration: 56.89 sec\n"
     ]
    },
    {
     "name": "stderr",
     "output_type": "stream",
     "text": [
      "Epoch 145: 100%|██████████| 53/53 [00:55<00:00,  1.04s/it]\n"
     ]
    },
    {
     "name": "stdout",
     "output_type": "stream",
     "text": [
      "\tLoss: 1.716503914797081, Val Loss: 0.7260822057723999, LR: 0.00021321178182447708, Duration: 56.87 sec\n"
     ]
    },
    {
     "name": "stderr",
     "output_type": "stream",
     "text": [
      "Epoch 146: 100%|██████████| 53/53 [00:57<00:00,  1.09s/it]\n"
     ]
    },
    {
     "name": "stdout",
     "output_type": "stream",
     "text": [
      "\tLoss: 1.8320722906094677, Val Loss: 0.7602744400501251, LR: 0.00020610737385376348, Duration: 58.79 sec\n"
     ]
    },
    {
     "name": "stderr",
     "output_type": "stream",
     "text": [
      "Epoch 147: 100%|██████████| 53/53 [00:59<00:00,  1.13s/it]\n"
     ]
    },
    {
     "name": "stdout",
     "output_type": "stream",
     "text": [
      "\tLoss: 1.8575165372974467, Val Loss: 0.7854813933372498, LR: 0.00019909248842397582, Duration: 60.92 sec\n"
     ]
    },
    {
     "name": "stderr",
     "output_type": "stream",
     "text": [
      "Epoch 148: 100%|██████████| 53/53 [00:56<00:00,  1.07s/it]\n"
     ]
    },
    {
     "name": "stdout",
     "output_type": "stream",
     "text": [
      "\tLoss: 1.6069652067040496, Val Loss: 0.7884134352207184, LR: 0.00019216926233717085, Duration: 57.75 sec\n"
     ]
    },
    {
     "name": "stderr",
     "output_type": "stream",
     "text": [
      "Epoch 149: 100%|██████████| 53/53 [00:53<00:00,  1.01s/it]\n"
     ]
    },
    {
     "name": "stdout",
     "output_type": "stream",
     "text": [
      "\tLoss: 1.5992135416786626, Val Loss: 0.7064690887928009, LR: 0.00018533980447508135, Duration: 54.89 sec\n"
     ]
    },
    {
     "name": "stderr",
     "output_type": "stream",
     "text": [
      "Epoch 150: 100%|██████████| 53/53 [01:00<00:00,  1.14s/it]\n"
     ]
    },
    {
     "name": "stdout",
     "output_type": "stream",
     "text": [
      "\tLoss: 1.838466725259457, Val Loss: 0.7579708695411682, LR: 0.0001786061951567303, Duration: 61.65 sec\n"
     ]
    },
    {
     "name": "stderr",
     "output_type": "stream",
     "text": [
      "Epoch 151: 100%|██████████| 53/53 [00:58<00:00,  1.10s/it]\n"
     ]
    },
    {
     "name": "stdout",
     "output_type": "stream",
     "text": [
      "\tLoss: 1.6458430470160719, Val Loss: 0.7381014227867126, LR: 0.00017197048550474643, Duration: 59.22 sec\n"
     ]
    },
    {
     "name": "stderr",
     "output_type": "stream",
     "text": [
      "Epoch 152: 100%|██████████| 53/53 [01:01<00:00,  1.16s/it]\n"
     ]
    },
    {
     "name": "stdout",
     "output_type": "stream",
     "text": [
      "\tLoss: 1.649406057483745, Val Loss: 0.7305369973182678, LR: 0.00016543469682057105, Duration: 62.36 sec\n"
     ]
    },
    {
     "name": "stderr",
     "output_type": "stream",
     "text": [
      "Epoch 153: 100%|██████████| 53/53 [00:55<00:00,  1.06s/it]\n"
     ]
    },
    {
     "name": "stdout",
     "output_type": "stream",
     "text": [
      "\tLoss: 1.5872292552354201, Val Loss: 0.7515593469142914, LR: 0.00015900081996875082, Duration: 56.92 sec\n"
     ]
    },
    {
     "name": "stderr",
     "output_type": "stream",
     "text": [
      "Epoch 154: 100%|██████████| 53/53 [00:54<00:00,  1.02s/it]\n"
     ]
    },
    {
     "name": "stdout",
     "output_type": "stream",
     "text": [
      "\tLoss: 1.6526558916523773, Val Loss: 0.7271912693977356, LR: 0.00015267081477050133, Duration: 55.47 sec\n"
     ]
    },
    {
     "name": "stderr",
     "output_type": "stream",
     "text": [
      "Epoch 155: 100%|██████████| 53/53 [00:55<00:00,  1.05s/it]\n"
     ]
    },
    {
     "name": "stdout",
     "output_type": "stream",
     "text": [
      "\tLoss: 1.7838174622013885, Val Loss: 0.7703079581260681, LR: 0.00014644660940672628, Duration: 56.78 sec\n"
     ]
    },
    {
     "name": "stderr",
     "output_type": "stream",
     "text": [
      "Epoch 156: 100%|██████████| 53/53 [00:59<00:00,  1.12s/it]\n"
     ]
    },
    {
     "name": "stdout",
     "output_type": "stream",
     "text": [
      "\tLoss: 1.8060145018235692, Val Loss: 0.7902923822402954, LR: 0.00014033009983067452, Duration: 60.13 sec\n"
     ]
    },
    {
     "name": "stderr",
     "output_type": "stream",
     "text": [
      "Epoch 157: 100%|██████████| 53/53 [00:58<00:00,  1.11s/it]\n"
     ]
    },
    {
     "name": "stdout",
     "output_type": "stream",
     "text": [
      "\tLoss: 1.702058879834301, Val Loss: 0.7711792290210724, LR: 0.00013432314919041476, Duration: 59.66 sec\n"
     ]
    },
    {
     "name": "stderr",
     "output_type": "stream",
     "text": [
      "Epoch 158: 100%|██████████| 53/53 [00:59<00:00,  1.11s/it]\n"
     ]
    },
    {
     "name": "stdout",
     "output_type": "stream",
     "text": [
      "\tLoss: 1.777706874991363, Val Loss: 0.7898205518722534, LR: 0.00012842758726130281, Duration: 59.95 sec\n"
     ]
    },
    {
     "name": "stderr",
     "output_type": "stream",
     "text": [
      "Epoch 159: 100%|██████████| 53/53 [01:02<00:00,  1.18s/it]\n"
     ]
    },
    {
     "name": "stdout",
     "output_type": "stream",
     "text": [
      "\tLoss: 1.6875156276630905, Val Loss: 0.7452817857265472, LR: 0.000122645209888614, Duration: 63.78 sec\n"
     ]
    },
    {
     "name": "stderr",
     "output_type": "stream",
     "text": [
      "Epoch 160: 100%|██████████| 53/53 [01:03<00:00,  1.20s/it]\n"
     ]
    },
    {
     "name": "stdout",
     "output_type": "stream",
     "text": [
      "\tLoss: 1.6919944736192811, Val Loss: 0.7743054330348969, LR: 0.00011697777844051105, Duration: 64.41 sec\n"
     ]
    },
    {
     "name": "stderr",
     "output_type": "stream",
     "text": [
      "Epoch 161: 100%|██████████| 53/53 [01:02<00:00,  1.17s/it]\n"
     ]
    },
    {
     "name": "stdout",
     "output_type": "stream",
     "text": [
      "\tLoss: 1.717869885687558, Val Loss: 0.7120849192142487, LR: 0.00011142701927151455, Duration: 63.12 sec\n"
     ]
    },
    {
     "name": "stderr",
     "output_type": "stream",
     "text": [
      "Epoch 162: 100%|██████████| 53/53 [01:02<00:00,  1.19s/it]\n"
     ]
    },
    {
     "name": "stdout",
     "output_type": "stream",
     "text": [
      "\tLoss: 1.5554501605483722, Val Loss: 0.7233306765556335, LR: 0.00010599462319663906, Duration: 64.08 sec\n"
     ]
    },
    {
     "name": "stderr",
     "output_type": "stream",
     "text": [
      "Epoch 163: 100%|██████████| 53/53 [00:58<00:00,  1.11s/it]\n"
     ]
    },
    {
     "name": "stdout",
     "output_type": "stream",
     "text": [
      "\tLoss: 1.9257056454442583, Val Loss: 0.7625243365764618, LR: 0.00010068224497635369, Duration: 59.93 sec\n"
     ]
    },
    {
     "name": "stderr",
     "output_type": "stream",
     "text": [
      "Epoch 164: 100%|██████████| 53/53 [00:55<00:00,  1.04s/it]\n"
     ]
    },
    {
     "name": "stdout",
     "output_type": "stream",
     "text": [
      "\tLoss: 1.7773891260039132, Val Loss: 0.7809544205665588, LR: 9.549150281252633e-05, Duration: 56.01 sec\n"
     ]
    },
    {
     "name": "stderr",
     "output_type": "stream",
     "text": [
      "Epoch 165: 100%|██████████| 53/53 [01:02<00:00,  1.17s/it]\n"
     ]
    },
    {
     "name": "stdout",
     "output_type": "stream",
     "text": [
      "\tLoss: 1.6712312169794767, Val Loss: 0.7181693315505981, LR: 9.042397785550405e-05, Duration: 63.23 sec\n"
     ]
    },
    {
     "name": "stderr",
     "output_type": "stream",
     "text": [
      "Epoch 166: 100%|██████████| 53/53 [00:55<00:00,  1.05s/it]\n"
     ]
    },
    {
     "name": "stdout",
     "output_type": "stream",
     "text": [
      "\tLoss: 1.7379966693104438, Val Loss: 0.7650629878044128, LR: 8.548121372247918e-05, Duration: 57.31 sec\n"
     ]
    },
    {
     "name": "stderr",
     "output_type": "stream",
     "text": [
      "Epoch 167: 100%|██████████| 53/53 [00:59<00:00,  1.12s/it]\n"
     ]
    },
    {
     "name": "stdout",
     "output_type": "stream",
     "text": [
      "\tLoss: 1.6956493708322633, Val Loss: 0.7329340577125549, LR: 8.066471602728804e-05, Duration: 60.46 sec\n"
     ]
    },
    {
     "name": "stderr",
     "output_type": "stream",
     "text": [
      "Epoch 168: 100%|██████████| 53/53 [00:53<00:00,  1.02s/it]\n"
     ]
    },
    {
     "name": "stdout",
     "output_type": "stream",
     "text": [
      "\tLoss: 1.659137986740976, Val Loss: 0.7261374294757843, LR: 7.597595192178702e-05, Duration: 54.93 sec\n"
     ]
    },
    {
     "name": "stderr",
     "output_type": "stream",
     "text": [
      "Epoch 169: 100%|██████████| 53/53 [00:57<00:00,  1.09s/it]\n"
     ]
    },
    {
     "name": "stdout",
     "output_type": "stream",
     "text": [
      "\tLoss: 1.6011083632145289, Val Loss: 0.7376112043857574, LR: 7.14163496489439e-05, Duration: 58.74 sec\n"
     ]
    },
    {
     "name": "stderr",
     "output_type": "stream",
     "text": [
      "Epoch 170: 100%|██████████| 53/53 [00:58<00:00,  1.10s/it]\n"
     ]
    },
    {
     "name": "stdout",
     "output_type": "stream",
     "text": [
      "\tLoss: 1.686628815138115, Val Loss: 0.7448252141475677, LR: 6.698729810778065e-05, Duration: 59.34 sec\n"
     ]
    },
    {
     "name": "stderr",
     "output_type": "stream",
     "text": [
      "Epoch 171: 100%|██████████| 53/53 [00:58<00:00,  1.10s/it]\n"
     ]
    },
    {
     "name": "stdout",
     "output_type": "stream",
     "text": [
      "\tLoss: 1.8526073379336663, Val Loss: 0.7722975313663483, LR: 6.269014643030213e-05, Duration: 59.31 sec\n"
     ]
    },
    {
     "name": "stderr",
     "output_type": "stream",
     "text": [
      "Epoch 172: 100%|██████████| 53/53 [00:54<00:00,  1.02s/it]\n"
     ]
    },
    {
     "name": "stdout",
     "output_type": "stream",
     "text": [
      "\tLoss: 1.6808276457606621, Val Loss: 0.7236518561840057, LR: 5.852620357053651e-05, Duration: 55.15 sec\n"
     ]
    },
    {
     "name": "stderr",
     "output_type": "stream",
     "text": [
      "Epoch 173: 100%|██████████| 53/53 [00:54<00:00,  1.03s/it]\n"
     ]
    },
    {
     "name": "stdout",
     "output_type": "stream",
     "text": [
      "\tLoss: 1.6389244153814495, Val Loss: 0.7392392158508301, LR: 5.449673790581611e-05, Duration: 55.63 sec\n"
     ]
    },
    {
     "name": "stderr",
     "output_type": "stream",
     "text": [
      "Epoch 174: 100%|██████████| 53/53 [00:55<00:00,  1.05s/it]\n"
     ]
    },
    {
     "name": "stdout",
     "output_type": "stream",
     "text": [
      "\tLoss: 1.6808953982479167, Val Loss: 0.7391366064548492, LR: 5.060297685041659e-05, Duration: 56.43 sec\n"
     ]
    },
    {
     "name": "stderr",
     "output_type": "stream",
     "text": [
      "Epoch 175: 100%|██████████| 53/53 [00:54<00:00,  1.03s/it]\n"
     ]
    },
    {
     "name": "stdout",
     "output_type": "stream",
     "text": [
      "\tLoss: 1.6433335261524848, Val Loss: 0.7302559912204742, LR: 4.684610648167503e-05, Duration: 55.56 sec\n"
     ]
    },
    {
     "name": "stderr",
     "output_type": "stream",
     "text": [
      "Epoch 176: 100%|██████████| 53/53 [00:55<00:00,  1.04s/it]\n"
     ]
    },
    {
     "name": "stdout",
     "output_type": "stream",
     "text": [
      "\tLoss: 1.5747145088213794, Val Loss: 0.7086385786533356, LR: 4.322727117869951e-05, Duration: 56.24 sec\n"
     ]
    },
    {
     "name": "stderr",
     "output_type": "stream",
     "text": [
      "Epoch 177: 100%|██████████| 53/53 [00:52<00:00,  1.00it/s]\n"
     ]
    },
    {
     "name": "stdout",
     "output_type": "stream",
     "text": [
      "\tLoss: 1.7980548267094594, Val Loss: 0.7383048236370087, LR: 3.974757327377981e-05, Duration: 54.15 sec\n"
     ]
    },
    {
     "name": "stderr",
     "output_type": "stream",
     "text": [
      "Epoch 178: 100%|██████████| 53/53 [00:55<00:00,  1.05s/it]\n"
     ]
    },
    {
     "name": "stdout",
     "output_type": "stream",
     "text": [
      "\tLoss: 1.5426227641555499, Val Loss: 0.7182380259037018, LR: 3.6408072716606344e-05, Duration: 56.81 sec\n"
     ]
    },
    {
     "name": "stderr",
     "output_type": "stream",
     "text": [
      "Epoch 179: 100%|██████████| 53/53 [00:54<00:00,  1.03s/it]\n"
     ]
    },
    {
     "name": "stdout",
     "output_type": "stream",
     "text": [
      "\tLoss: 1.7693237797269281, Val Loss: 0.7543533146381378, LR: 3.3209786751399184e-05, Duration: 55.75 sec\n"
     ]
    },
    {
     "name": "stderr",
     "output_type": "stream",
     "text": [
      "Epoch 180: 100%|██████████| 53/53 [00:56<00:00,  1.06s/it]\n"
     ]
    },
    {
     "name": "stdout",
     "output_type": "stream",
     "text": [
      "\tLoss: 1.6627439991483148, Val Loss: 0.7628084719181061, LR: 3.0153689607045842e-05, Duration: 57.30 sec\n"
     ]
    },
    {
     "name": "stderr",
     "output_type": "stream",
     "text": [
      "Epoch 181: 100%|██████████| 53/53 [00:59<00:00,  1.13s/it]\n"
     ]
    },
    {
     "name": "stdout",
     "output_type": "stream",
     "text": [
      "\tLoss: 1.6080399627955455, Val Loss: 0.7153394818305969, LR: 2.724071220034158e-05, Duration: 61.05 sec\n"
     ]
    },
    {
     "name": "stderr",
     "output_type": "stream",
     "text": [
      "Epoch 182: 100%|██████████| 53/53 [00:55<00:00,  1.04s/it]\n"
     ]
    },
    {
     "name": "stdout",
     "output_type": "stream",
     "text": [
      "\tLoss: 1.7110139199022978, Val Loss: 0.7276025116443634, LR: 2.4471741852423235e-05, Duration: 56.18 sec\n"
     ]
    },
    {
     "name": "stderr",
     "output_type": "stream",
     "text": [
      "Epoch 183: 100%|██████████| 53/53 [00:56<00:00,  1.07s/it]\n"
     ]
    },
    {
     "name": "stdout",
     "output_type": "stream",
     "text": [
      "\tLoss: 1.5801548046885796, Val Loss: 0.7520189881324768, LR: 2.1847622018482283e-05, Duration: 57.96 sec\n"
     ]
    },
    {
     "name": "stderr",
     "output_type": "stream",
     "text": [
      "Epoch 184: 100%|██████████| 53/53 [00:56<00:00,  1.07s/it]\n"
     ]
    },
    {
     "name": "stdout",
     "output_type": "stream",
     "text": [
      "\tLoss: 1.9038270307037066, Val Loss: 0.7553151249885559, LR: 1.9369152030840554e-05, Duration: 58.27 sec\n"
     ]
    },
    {
     "name": "stderr",
     "output_type": "stream",
     "text": [
      "Epoch 185: 100%|██████████| 53/53 [00:54<00:00,  1.02s/it]\n"
     ]
    },
    {
     "name": "stdout",
     "output_type": "stream",
     "text": [
      "\tLoss: 1.6308027843259416, Val Loss: 0.7724303007125854, LR: 1.70370868554659e-05, Duration: 55.40 sec\n"
     ]
    },
    {
     "name": "stderr",
     "output_type": "stream",
     "text": [
      "Epoch 186: 100%|██████████| 53/53 [00:59<00:00,  1.11s/it]\n"
     ]
    },
    {
     "name": "stdout",
     "output_type": "stream",
     "text": [
      "\tLoss: 1.758717342367712, Val Loss: 0.7555288970470428, LR: 1.4852136862001764e-05, Duration: 60.64 sec\n"
     ]
    },
    {
     "name": "stderr",
     "output_type": "stream",
     "text": [
      "Epoch 187: 100%|██████████| 53/53 [00:56<00:00,  1.08s/it]\n"
     ]
    },
    {
     "name": "stdout",
     "output_type": "stream",
     "text": [
      "\tLoss: 1.765896403564597, Val Loss: 0.7524445354938507, LR: 1.2814967607382432e-05, Duration: 57.97 sec\n"
     ]
    },
    {
     "name": "stderr",
     "output_type": "stream",
     "text": [
      "Epoch 188: 100%|██████████| 53/53 [00:53<00:00,  1.01s/it]\n"
     ]
    },
    {
     "name": "stdout",
     "output_type": "stream",
     "text": [
      "\tLoss: 1.7545333707107689, Val Loss: 0.7279216647148132, LR: 1.0926199633097156e-05, Duration: 54.70 sec\n"
     ]
    },
    {
     "name": "stderr",
     "output_type": "stream",
     "text": [
      "Epoch 189: 100%|██████████| 53/53 [00:55<00:00,  1.05s/it]\n"
     ]
    },
    {
     "name": "stdout",
     "output_type": "stream",
     "text": [
      "\tLoss: 1.6326914800787873, Val Loss: 0.7318361401557922, LR: 9.186408276168012e-06, Duration: 56.86 sec\n"
     ]
    },
    {
     "name": "stderr",
     "output_type": "stream",
     "text": [
      "Epoch 190: 100%|██████████| 53/53 [00:58<00:00,  1.10s/it]\n"
     ]
    },
    {
     "name": "stdout",
     "output_type": "stream",
     "text": [
      "\tLoss: 1.7613145652806983, Val Loss: 0.7522876858711243, LR: 7.59612349389599e-06, Duration: 59.25 sec\n"
     ]
    },
    {
     "name": "stderr",
     "output_type": "stream",
     "text": [
      "Epoch 191: 100%|██████████| 53/53 [00:55<00:00,  1.04s/it]\n"
     ]
    },
    {
     "name": "stdout",
     "output_type": "stream",
     "text": [
      "\tLoss: 1.5618458300266627, Val Loss: 0.7183786332607269, LR: 6.15582970243117e-06, Duration: 56.41 sec\n"
     ]
    },
    {
     "name": "stderr",
     "output_type": "stream",
     "text": [
      "Epoch 192: 100%|██████████| 53/53 [00:53<00:00,  1.02s/it]\n"
     ]
    },
    {
     "name": "stdout",
     "output_type": "stream",
     "text": [
      "\tLoss: 1.6803745919803403, Val Loss: 0.7379816174507141, LR: 4.865965629214819e-06, Duration: 54.95 sec\n"
     ]
    },
    {
     "name": "stderr",
     "output_type": "stream",
     "text": [
      "Epoch 193: 100%|██████████| 53/53 [00:57<00:00,  1.08s/it]\n"
     ]
    },
    {
     "name": "stdout",
     "output_type": "stream",
     "text": [
      "\tLoss: 1.8758455537400156, Val Loss: 0.7741304039955139, LR: 3.7269241793390084e-06, Duration: 58.28 sec\n"
     ]
    },
    {
     "name": "stderr",
     "output_type": "stream",
     "text": [
      "Epoch 194: 100%|██████████| 53/53 [00:56<00:00,  1.07s/it]\n"
     ]
    },
    {
     "name": "stdout",
     "output_type": "stream",
     "text": [
      "\tLoss: 1.6183043707091853, Val Loss: 0.7587576806545258, LR: 2.739052315863355e-06, Duration: 57.96 sec\n"
     ]
    },
    {
     "name": "stderr",
     "output_type": "stream",
     "text": [
      "Epoch 195: 100%|██████████| 53/53 [00:59<00:00,  1.12s/it]\n"
     ]
    },
    {
     "name": "stdout",
     "output_type": "stream",
     "text": [
      "\tLoss: 1.5692788531195443, Val Loss: 0.7383160591125488, LR: 1.9026509541272275e-06, Duration: 60.33 sec\n"
     ]
    },
    {
     "name": "stderr",
     "output_type": "stream",
     "text": [
      "Epoch 196: 100%|██████████| 53/53 [00:55<00:00,  1.05s/it]\n"
     ]
    },
    {
     "name": "stdout",
     "output_type": "stream",
     "text": [
      "\tLoss: 1.8062908030905813, Val Loss: 0.7813937962055206, LR: 1.2179748700879012e-06, Duration: 56.80 sec\n"
     ]
    },
    {
     "name": "stderr",
     "output_type": "stream",
     "text": [
      "Epoch 197: 100%|██████████| 53/53 [01:06<00:00,  1.26s/it]\n"
     ]
    },
    {
     "name": "stdout",
     "output_type": "stream",
     "text": [
      "\tLoss: 1.5678866977961559, Val Loss: 0.7585743963718414, LR: 6.852326227130834e-07, Duration: 67.72 sec\n"
     ]
    },
    {
     "name": "stderr",
     "output_type": "stream",
     "text": [
      "Epoch 198: 100%|██████████| 53/53 [01:00<00:00,  1.13s/it]\n"
     ]
    },
    {
     "name": "stdout",
     "output_type": "stream",
     "text": [
      "\tLoss: 1.8204767793979284, Val Loss: 0.7889171242713928, LR: 3.0458649045211895e-07, Duration: 61.06 sec\n"
     ]
    },
    {
     "name": "stderr",
     "output_type": "stream",
     "text": [
      "Epoch 199: 100%|██████████| 53/53 [00:59<00:00,  1.11s/it]\n"
     ]
    },
    {
     "name": "stdout",
     "output_type": "stream",
     "text": [
      "\tLoss: 1.7562802085336648, Val Loss: 0.7334723174571991, LR: 7.615242180436521e-08, Duration: 60.02 sec\n"
     ]
    },
    {
     "name": "stderr",
     "output_type": "stream",
     "text": [
      "Epoch 200: 100%|██████████| 53/53 [00:57<00:00,  1.08s/it]\n"
     ]
    },
    {
     "name": "stdout",
     "output_type": "stream",
     "text": [
      "\tLoss: 1.4988717852898363, Val Loss: 0.7163605093955994, LR: 0.0, Duration: 58.11 sec\n",
      "Epoch 당 평균 소요시간 : 56.96초\n"
     ]
    }
   ],
   "source": [
    "training_time = 0\n",
    "losses = []\n",
    "val_losses = []\n",
    "lrs = []\n",
    "best_loss = float('inf')\n",
    "\n",
    "# GradScaler 초기화\n",
    "scaler = GradScaler()\n",
    "\n",
    "for epoch in range(epochs):\n",
    "    model.train()\n",
    "    start_time = time.time()\n",
    "    running_loss = 0.0\n",
    "    pbar = tqdm(enumerate(train_loader), total=len(train_loader), desc=f\"Epoch {epoch + 1}\")\n",
    "    \n",
    "    for _, data in pbar:\n",
    "        inputs, labels = data[0].to(device), data[1].to(device)\n",
    "        inputs, labels = mixup_fn(inputs, labels)\n",
    "        optimizer.zero_grad()\n",
    "\n",
    "        # AutoCast 적용\n",
    "        with autocast():\n",
    "            outputs = model(inputs)\n",
    "            loss = criterion(outputs, labels)\n",
    "            \n",
    "        # 스케일링된 그라디언트 계산\n",
    "        scaler.scale(loss).backward()\n",
    "\n",
    "        # 그라디언트 클리핑 전에 스케일링 제거\n",
    "        scaler.unscale_(optimizer)\n",
    "        clip_grad_norm_(model.parameters(), max_norm=max_norm)\n",
    "\n",
    "        # 옵티마이저 스텝 및 스케일러 업데이트\n",
    "        scaler.step(optimizer)\n",
    "        scaler.update()\n",
    "        scheduler.step()\n",
    "            \n",
    "        lr = optimizer.param_groups[0][\"lr\"]\n",
    "        lrs.append(lr)\n",
    "        running_loss += loss.item()\n",
    "\n",
    "    epoch_loss = running_loss / len(train_loader)\n",
    "    losses.append(epoch_loss)        \n",
    "\n",
    "    model.eval()\n",
    "    val_loss = 0.0\n",
    "    with torch.no_grad():\n",
    "        for data in valid_loader:\n",
    "            inputs, labels = data[0].to(device), data[1].to(device)\n",
    "            outputs = model(inputs)\n",
    "            loss = criterion(outputs, labels)\n",
    "            val_loss += loss.item()\n",
    "            \n",
    "    val_loss /= len(valid_loader)\n",
    "    val_losses.append(val_loss)\n",
    "    \n",
    "    # 모델 저장\n",
    "    if val_loss < best_loss:\n",
    "        best_loss = val_loss\n",
    "        vit_save = True\n",
    "        if vit_save:\n",
    "            torch.save(model.state_dict(), model_path)\n",
    "\n",
    "    epoch_duration = time.time() - start_time\n",
    "    training_time += epoch_duration\n",
    "    \n",
    "    text = f'\\tLoss: {epoch_loss}, Val Loss: {val_loss}, LR: {lr}, Duration: {epoch_duration:.2f} sec'\n",
    "    \n",
    "    if vit_save:\n",
    "        text += f' - model saved!'\n",
    "        vit_save = False\n",
    "\n",
    "    print(text)\n",
    "        \n",
    "text = f\"Epoch 당 평균 소요시간 : {training_time / epochs:.2f}초\"      \n",
    "print(text)"
   ]
  },
  {
   "cell_type": "code",
   "execution_count": 21,
   "metadata": {},
   "outputs": [
    {
     "data": {
      "text/html": [
       "<div>\n",
       "<style scoped>\n",
       "    .dataframe tbody tr th:only-of-type {\n",
       "        vertical-align: middle;\n",
       "    }\n",
       "\n",
       "    .dataframe tbody tr th {\n",
       "        vertical-align: top;\n",
       "    }\n",
       "\n",
       "    .dataframe thead th {\n",
       "        text-align: right;\n",
       "    }\n",
       "</style>\n",
       "<table border=\"1\" class=\"dataframe\">\n",
       "  <thead>\n",
       "    <tr style=\"text-align: right;\">\n",
       "      <th></th>\n",
       "      <th>Metric</th>\n",
       "      <th>Value</th>\n",
       "    </tr>\n",
       "  </thead>\n",
       "  <tbody>\n",
       "    <tr>\n",
       "      <th>0</th>\n",
       "      <td>Accuracy</td>\n",
       "      <td>0.874000</td>\n",
       "    </tr>\n",
       "    <tr>\n",
       "      <th>1</th>\n",
       "      <td>Precision</td>\n",
       "      <td>0.888115</td>\n",
       "    </tr>\n",
       "    <tr>\n",
       "      <th>2</th>\n",
       "      <td>Recall</td>\n",
       "      <td>0.874000</td>\n",
       "    </tr>\n",
       "    <tr>\n",
       "      <th>3</th>\n",
       "      <td>F1 Score</td>\n",
       "      <td>0.868540</td>\n",
       "    </tr>\n",
       "  </tbody>\n",
       "</table>\n",
       "</div>"
      ],
      "text/plain": [
       "      Metric     Value\n",
       "0   Accuracy  0.874000\n",
       "1  Precision  0.888115\n",
       "2     Recall  0.874000\n",
       "3   F1 Score  0.868540"
      ]
     },
     "execution_count": 21,
     "metadata": {},
     "output_type": "execute_result"
    }
   ],
   "source": [
    "# 예측 수행 및 레이블 저장\n",
    "all_preds = []\n",
    "all_labels = []\n",
    "with torch.no_grad():\n",
    "    for images, labels in test_loader:\n",
    "        images, labels = images.to(device), labels.to(device)\n",
    "        outputs = model(images)\n",
    "        _, predicted = torch.max(outputs, 1)\n",
    "        all_preds.extend(predicted.cpu().numpy())\n",
    "        all_labels.extend(labels.cpu().numpy())\n",
    "\n",
    "# 혼동 행렬 생성\n",
    "cm = confusion_matrix(all_labels, all_preds)\n",
    "\n",
    "# 예측과 실제 레이블\n",
    "y_true = all_labels  # 실제 레이블\n",
    "y_pred = all_preds  # 모델에 의해 예측된 레이블\n",
    "\n",
    "# 전체 데이터셋에 대한 정확도\n",
    "accuracy = accuracy_score(y_true, y_pred)\n",
    "\n",
    "# 평균 정밀도, 리콜, F1-Score ('weighted')\n",
    "precision, recall, f1_score, _ = precision_recall_fscore_support(y_true, y_pred, average='weighted')\n",
    "\n",
    "# 판다스 데이터프레임으로 결과 정리\n",
    "performance_metrics = pd.DataFrame({\n",
    "    'Metric': ['Accuracy', 'Precision', 'Recall', 'F1 Score'],\n",
    "    'Value': [accuracy, precision, recall, f1_score]\n",
    "})\n",
    "\n",
    "# 데이터프레임 출력\n",
    "performance_metrics"
   ]
  }
 ],
 "metadata": {
  "kernelspec": {
   "display_name": "Python 3",
   "language": "python",
   "name": "python3"
  },
  "language_info": {
   "codemirror_mode": {
    "name": "ipython",
    "version": 3
   },
   "file_extension": ".py",
   "mimetype": "text/x-python",
   "name": "python",
   "nbconvert_exporter": "python",
   "pygments_lexer": "ipython3",
   "version": "3.10.12"
  }
 },
 "nbformat": 4,
 "nbformat_minor": 2
}
