{
 "cells": [
  {
   "cell_type": "code",
   "execution_count": 1,
   "metadata": {},
   "outputs": [
    {
     "name": "stderr",
     "output_type": "stream",
     "text": [
      "/usr/local/lib/python3.10/dist-packages/tqdm/auto.py:21: TqdmWarning: IProgress not found. Please update jupyter and ipywidgets. See https://ipywidgets.readthedocs.io/en/stable/user_install.html\n",
      "  from .autonotebook import tqdm as notebook_tqdm\n"
     ]
    }
   ],
   "source": [
    "import numpy as np\n",
    "from collections import OrderedDict\n",
    "\n",
    "import torch\n",
    "import torch.nn as nn\n",
    "import torch.nn.functional as F\n",
    "\n",
    "import torch.optim as optim\n",
    "from torchvision import transforms\n",
    "from torchvision.datasets import ImageFolder\n",
    "from torch.utils.data import DataLoader\n",
    "\n",
    "from torch.cuda.amp import autocast, GradScaler\n",
    "from torch.nn.utils import clip_grad_norm_\n",
    "from tqdm import tqdm\n",
    "import time\n",
    "\n",
    "from timm.data import Mixup\n",
    "import transformers\n",
    "\n",
    "from einops import rearrange\n",
    "from einops.layers.torch import Rearrange\n",
    "\n",
    "from timm.models.layers import DropPath, trunc_normal_, to_2tuple\n",
    "\n",
    "from sklearn.metrics import confusion_matrix\n",
    "import pandas as pd\n",
    "from sklearn.metrics import accuracy_score, precision_recall_fscore_support"
   ]
  },
  {
   "cell_type": "markdown",
   "metadata": {},
   "source": [
    "# 01.Convolutional Token Embedding"
   ]
  },
  {
   "cell_type": "code",
   "execution_count": 2,
   "metadata": {},
   "outputs": [],
   "source": [
    "class ConvEmbed(nn.Module):\n",
    "    '''\n",
    "    img/token map to Conv Embedding\n",
    "    '''\n",
    "    \n",
    "    def __init__(self,\n",
    "                 patch_size=7, # [7, 3, 3]\n",
    "                 in_chans=3,   # [3, dim of stage1, dim of stage2]\n",
    "                 embed_dim=64, # [64, 192, 384]\n",
    "                 stride=4,     # [4, 2, 2]\n",
    "                 padding=2,    # [2, 1, 1]\n",
    "                 norm_layer=None):\n",
    "        super().__init__()\n",
    "        self.patch_size = to_2tuple(patch_size)\n",
    "        \n",
    "        self.proj = nn.Conv2d(\n",
    "            in_channels=in_chans,\n",
    "            out_channels=embed_dim,\n",
    "            kernel_size=patch_size,\n",
    "            stride=stride,\n",
    "            padding=padding\n",
    "        )\n",
    "        \n",
    "        self.norm = norm_layer(embed_dim) if norm_layer else nn.Identity()\n",
    "        \n",
    "    def forward(self, x):\n",
    "        x = self.proj(x)\n",
    "        \n",
    "        _, _, H, W = x.shape\n",
    "        x = rearrange(x, 'b c h w -> b (h w) c')\n",
    "        x = self.norm(x)\n",
    "        x = rearrange(x, 'b (h w) c -> b c h w', h=H, w=W)\n",
    "        return x\n",
    "    "
   ]
  },
  {
   "cell_type": "code",
   "execution_count": 3,
   "metadata": {},
   "outputs": [],
   "source": [
    "class AttentionConv(nn.Module):\n",
    "    def __init__(self,\n",
    "                 dim=64,        # [64,192,384]\n",
    "                 num_heads=4,   # paper: [1,3,6], me: [4,8,16]\n",
    "                 qkv_bias=False,\n",
    "                 attn_drop=0.,\n",
    "                 proj_drop=0.,\n",
    "                 kernel_size=3,\n",
    "                 padding_q=1,\n",
    "                 padding_kv=1,\n",
    "                 stride_q=1,\n",
    "                 stride_kv=2,\n",
    "                 **kwargs\n",
    "                 ):\n",
    "        super().__init__()\n",
    "        self.stride_q = stride_q\n",
    "        self.stride_kv = stride_kv\n",
    "        self.dim = dim\n",
    "        self.num_heads = num_heads        \n",
    "        self.scale = dim ** -0.5\n",
    "        \n",
    "        self.conv_proj_q = self._build_projection(dim,\n",
    "                                                  kernel_size,\n",
    "                                                  padding_q,\n",
    "                                                  stride_q,\n",
    "                                                  )\n",
    "        self.conv_proj_k = self._build_projection(dim,\n",
    "                                                  kernel_size,\n",
    "                                                  padding_kv,\n",
    "                                                  stride_kv,\n",
    "                                                  )\n",
    "        \n",
    "        self.conv_proj_v = self._build_projection(dim,\n",
    "                                                  kernel_size,\n",
    "                                                  padding_kv,\n",
    "                                                  stride_kv,\n",
    "                                                  )\n",
    "        \n",
    "        self.linear_proj_q = nn.Linear(dim, dim, bias=qkv_bias)\n",
    "        self.linear_proj_k = nn.Linear(dim, dim, bias=qkv_bias)\n",
    "        self.linear_proj_v = nn.Linear(dim, dim, bias=qkv_bias)\n",
    "        \n",
    "        self.attn_drop = nn.Dropout(attn_drop)\n",
    "        self.linear_proj_last = nn.Linear(dim, dim)\n",
    "        self.proj_drop = nn.Dropout(proj_drop)        \n",
    "        \n",
    "    def _build_projection(self,\n",
    "                          dim,\n",
    "                          kernel_size,\n",
    "                          padding,\n",
    "                          stride,\n",
    "                          ):\n",
    "        \n",
    "        proj = nn.Sequential(OrderedDict([\n",
    "            ('depthwise', nn.Conv2d(\n",
    "                dim,\n",
    "                dim,\n",
    "                kernel_size=kernel_size,\n",
    "                padding=padding,\n",
    "                stride=stride,\n",
    "                bias=False,\n",
    "                groups=dim)),\n",
    "            ('bn', nn.BatchNorm2d(dim)),\n",
    "            ('pointwise', nn.Conv2d(\n",
    "                dim,\n",
    "                dim,\n",
    "                kernel_size=1)),\n",
    "            ('rearrange', Rearrange('b c h w -> b (h w) c'))\n",
    "        ]))\n",
    "        \n",
    "        return proj\n",
    "    \n",
    "    def forward(self, x, h, w):\n",
    "        x = rearrange(x, 'b (h w) c -> b c h w', h=h, w=w)\n",
    "        \n",
    "        q = F.normalize(self.conv_proj_q(x), dim=-1)\n",
    "        k = F.normalize(self.conv_proj_k(x), dim=-1)\n",
    "        v = self.conv_proj_v(x)\n",
    "        \n",
    "        q = rearrange(self.linear_proj_q(q), 'b t (h d) -> b h t d', h=self.num_heads)\n",
    "        k = rearrange(self.linear_proj_k(k), 'b t (h d) -> b h t d', h=self.num_heads)\n",
    "        v = rearrange(self.linear_proj_v(v), 'b t (h d) -> b h t d', h=self.num_heads)\n",
    "        \n",
    "        attn_score = torch.einsum('bhlk,bhtk->bhlt', [q, k]) * self.scale\n",
    "        attn = self.attn_drop(F.softmax(attn_score, dim=-1))\n",
    "        \n",
    "        x = torch.matmul(attn, v)\n",
    "        batch_size, num_heads, seq_length, depth = x.size()\n",
    "        x = x.view(batch_size, seq_length, num_heads * depth)\n",
    "        \n",
    "        x = self.proj_drop(self.linear_proj_last(x))\n",
    "        \n",
    "        return x\n"
   ]
  },
  {
   "cell_type": "code",
   "execution_count": 4,
   "metadata": {},
   "outputs": [],
   "source": [
    "# transformer block에 작은 스케일 인자 곱하기\n",
    "class LayerScale(nn.Module):\n",
    "    def __init__(self, dim, init_values=1e-5):\n",
    "        super().__init__()\n",
    "        self.gamma = nn.Parameter(init_values * torch.ones((dim)))\n",
    "\n",
    "    def forward(self, x):\n",
    "        return self.gamma * x"
   ]
  },
  {
   "cell_type": "code",
   "execution_count": 5,
   "metadata": {},
   "outputs": [],
   "source": [
    "class Block(nn.Module):\n",
    "    \n",
    "    def __init__(self,\n",
    "                 dim,\n",
    "                 num_heads,\n",
    "                 mlp_ratio=4.,\n",
    "                 qkv_bias=False,\n",
    "                 drop=0.,\n",
    "                 attn_drop=0.,\n",
    "                 drop_path=0.,\n",
    "                 act_layer=nn.GELU,\n",
    "                 norm_layer=nn.LayerNorm,\n",
    "                 **kwargs\n",
    "                ):\n",
    "        super().__init__()\n",
    "        \n",
    "        self.norm1 = norm_layer(dim)\n",
    "        self.ls1 = LayerScale(dim)\n",
    "        self.attn = AttentionConv(dim=dim,\n",
    "                                  num_heads=num_heads,\n",
    "                                  qkv_bias=qkv_bias,\n",
    "                                  attn_drop=attn_drop,\n",
    "                                  proj_drop=drop,\n",
    "                                  **kwargs)        \n",
    "        self.drop_path = DropPath(drop_path) if drop_path > 0. else nn.Identity()\n",
    "        self.norm2 = norm_layer(dim)\n",
    "        self.ls2 = LayerScale(dim)\n",
    "        mlp_hidden_dim = int(dim*mlp_ratio)\n",
    "        self.mlp = nn.Sequential(\n",
    "            nn.Linear(dim, mlp_hidden_dim),\n",
    "            act_layer(),\n",
    "            nn.Linear(mlp_hidden_dim, dim),\n",
    "            nn.Dropout(drop),\n",
    "        )\n",
    "        \n",
    "    def forward(self, x, h, w):\n",
    "        res = x\n",
    "        x = self.norm1(x)\n",
    "        attn = self.attn(x, h, w)\n",
    "        x = res + self.drop_path(self.ls1(attn))\n",
    "        x = x + self.drop_path(self.ls2(self.mlp(self.norm2(x))))\n",
    "        return x"
   ]
  },
  {
   "cell_type": "code",
   "execution_count": 6,
   "metadata": {},
   "outputs": [],
   "source": [
    "test_img = torch.Tensor(np.zeros((2,3,224,224))) # B, C, H, W\n",
    "\n",
    "block = Block(dim=64,\n",
    "              num_heads=4)"
   ]
  },
  {
   "cell_type": "code",
   "execution_count": 7,
   "metadata": {},
   "outputs": [
    {
     "name": "stdout",
     "output_type": "stream",
     "text": [
      "stage 1 | img shape: torch.Size([2, 3, 224, 224]) → Conv Embed Shape: torch.Size([2, 64, 56, 56])\n"
     ]
    }
   ],
   "source": [
    "# Stage 1 \n",
    "\n",
    "## Patch Embedding\n",
    "convembed = ConvEmbed(patch_size=7, stride=4, padding=2)\n",
    "stage1_img = convembed(test_img)\n",
    "\n",
    "## Attention with Convolution\n",
    "b, c, h, w = stage1_img.shape\n",
    "stage1_img = rearrange(stage1_img, 'b c h w -> b (h w) c')\n",
    "stage1_img = block(stage1_img, h=h, w=w)\n",
    "stage1_img = rearrange(stage1_img, 'b (h w) c -> b c h w', h=h, w=w)\n",
    "\n",
    "## Check Result\n",
    "print(f'stage 1 | img shape: {test_img.shape} → Conv Embed Shape: {stage1_img.shape}')"
   ]
  },
  {
   "cell_type": "code",
   "execution_count": 8,
   "metadata": {},
   "outputs": [
    {
     "name": "stdout",
     "output_type": "stream",
     "text": [
      "stage 2 | img shape: torch.Size([2, 64, 56, 56]) → Conv Embed Shape: torch.Size([2, 64, 28, 28])\n"
     ]
    }
   ],
   "source": [
    "# Stage 2 \n",
    "\n",
    "## Patch Embedding\n",
    "convembed = ConvEmbed(patch_size=3, in_chans=64, stride=2, padding=1)\n",
    "stage2_img = convembed(stage1_img)\n",
    "\n",
    "## Attention with Convolution\n",
    "b, c, h, w = stage2_img.shape\n",
    "stage2_img = rearrange(stage2_img, 'b c h w -> b (h w) c')\n",
    "stage2_img = block(stage2_img, h=h, w=w)\n",
    "stage2_img = rearrange(stage2_img, 'b (h w) c -> b c h w', h=h, w=w)\n",
    "\n",
    "## Check Result\n",
    "print(f'stage 2 | img shape: {stage1_img.shape} → Conv Embed Shape: {stage2_img.shape}')"
   ]
  },
  {
   "cell_type": "code",
   "execution_count": 9,
   "metadata": {},
   "outputs": [
    {
     "name": "stdout",
     "output_type": "stream",
     "text": [
      "stage 3 | img shape: torch.Size([2, 64, 28, 28]) → Conv Embed Shape: torch.Size([2, 64, 14, 14])\n"
     ]
    }
   ],
   "source": [
    "# Stage 3 \n",
    "\n",
    "## Patch Embedding\n",
    "convembed = ConvEmbed(patch_size=3, in_chans=64, stride=2, padding=1)\n",
    "stage3_img = convembed(stage2_img)\n",
    "\n",
    "## Attention with Convolution\n",
    "b, c, h, w = stage3_img.shape\n",
    "stage3_img = rearrange(stage3_img, 'b c h w -> b (h w) c')\n",
    "stage3_img = block(stage3_img, h=h, w=w)\n",
    "stage3_img = rearrange(stage3_img, 'b (h w) c -> b c h w', h=h, w=w)\n",
    "\n",
    "## Check Result\n",
    "print(f'stage 3 | img shape: {stage2_img.shape} → Conv Embed Shape: {stage3_img.shape}')"
   ]
  },
  {
   "cell_type": "code",
   "execution_count": 10,
   "metadata": {},
   "outputs": [],
   "source": [
    "class VisionTransformer(nn.Module):\n",
    "    def __init__(self,\n",
    "                 patch_size=16,\n",
    "                 patch_stride=16,\n",
    "                 patch_padding=0,\n",
    "                 in_chans=3,\n",
    "                 embed_dim=768,\n",
    "                 depth=12,\n",
    "                 num_heads=12,\n",
    "                 mlp_ratio=4.,\n",
    "                 qkv_bias=False,\n",
    "                 drop_rate=0.,\n",
    "                 attn_drop_rate=0.,\n",
    "                 drop_path_rate=0.,\n",
    "                 act_layer=nn.GELU,\n",
    "                 norm_layer=nn.LayerNorm,\n",
    "                 init='trunc_norm',\n",
    "                 **kwargs\n",
    "                 ):\n",
    "        \n",
    "        super().__init__()\n",
    "\n",
    "        self.patch_embed = ConvEmbed(\n",
    "            patch_size=patch_size,\n",
    "            in_chans=in_chans,\n",
    "            stride=patch_stride,\n",
    "            padding=patch_padding,\n",
    "            embed_dim=embed_dim,\n",
    "            norm_layer=norm_layer\n",
    "        )\n",
    "\n",
    "        self.pos_drop = nn.Dropout(p=drop_rate)\n",
    "\n",
    "        self.blocks = nn.ModuleList([\n",
    "            Block(\n",
    "                dim=embed_dim,\n",
    "                num_heads=num_heads,\n",
    "                mlp_ratio=mlp_ratio,\n",
    "                qkv_bias=qkv_bias,\n",
    "                drop=drop_rate,\n",
    "                attn_drop=attn_drop_rate,\n",
    "                drop_path=drop_path_rate,\n",
    "                act_layer=act_layer,\n",
    "                norm_layer=norm_layer,\n",
    "                **kwargs\n",
    "            ) for _ in range(depth)\n",
    "        ])\n",
    "\n",
    "        if init == 'xavier':\n",
    "            self.apply(self._init_weights_xavier)\n",
    "        else:\n",
    "            self.apply(self._init_weights_trunc_normal)\n",
    "\n",
    "    def _init_weights_trunc_normal(self, m):\n",
    "        if isinstance(m, nn.Linear):\n",
    "            trunc_normal_(m.weight, std=0.02)\n",
    "            if m.bias is not None:\n",
    "                nn.init.constant_(m.bias, 0)\n",
    "        elif isinstance(m, (nn.LayerNorm, nn.BatchNorm2d)):\n",
    "            nn.init.constant_(m.bias, 0)\n",
    "            nn.init.constant_(m.weight, 1.0)\n",
    "\n",
    "    def _init_weights_xavier(self, m):\n",
    "        if isinstance(m, nn.Linear):\n",
    "            nn.init.xavier_uniform_(m.weight)\n",
    "            if m.bias is not None:\n",
    "                nn.init.constant_(m.bias, 0)\n",
    "        elif isinstance(m, (nn.LayerNorm, nn.BatchNorm2d)):\n",
    "            nn.init.constant_(m.bias, 0)\n",
    "            nn.init.constant_(m.weight, 1.0)\n",
    "\n",
    "    def forward(self, x):\n",
    "        x = self.patch_embed(x)\n",
    "        _, _, H, W = x.size()\n",
    "\n",
    "        x = rearrange(x, 'b c h w -> b (h w) c')\n",
    "        x = self.pos_drop(x)\n",
    "\n",
    "        for _, blk in enumerate(self.blocks):\n",
    "            x = blk(x, H, W)\n",
    "        x = rearrange(x, 'b (h w) c -> b c h w', h=H, w=W)\n",
    "        return x"
   ]
  },
  {
   "cell_type": "code",
   "execution_count": 11,
   "metadata": {},
   "outputs": [],
   "source": [
    "class ConvolutionalVisionTransformer(nn.Module):\n",
    "    def __init__(self,\n",
    "                 in_chans=3,\n",
    "                 num_classes=100,\n",
    "                 act_layer=nn.GELU,\n",
    "                 norm_layer=nn.LayerNorm,\n",
    "                 init='trunc_norm',\n",
    "                 spec=None):\n",
    "        super().__init__()\n",
    "        self.num_classes = num_classes\n",
    "\n",
    "        self.num_stages = spec['NUM_STAGES']\n",
    "        self.stages = nn.ModuleList()\n",
    "        for i in range(self.num_stages):\n",
    "            kwargs = {\n",
    "                'patch_size': spec['PATCH_SIZE'][i],\n",
    "                'patch_stride': spec['PATCH_STRIDE'][i],\n",
    "                'patch_padding': spec['PATCH_PADDING'][i],\n",
    "                'embed_dim': spec['DIM_EMBED'][i],\n",
    "                'depth': spec['DEPTH'][i],\n",
    "                'num_heads': spec['NUM_HEADS'][i],\n",
    "                'mlp_ratio': spec['MLP_RATIO'][i],\n",
    "                'qkv_bias': spec['QKV_BIAS'][i],\n",
    "                'drop_rate': spec['DROP_RATE'][i],\n",
    "                'attn_drop_rate': spec['ATTN_DROP_RATE'][i],\n",
    "                'drop_path_rate': spec['DROP_PATH_RATE'][i],\n",
    "                'kernel_size': spec['KERNEL_QKV'][i],\n",
    "                'padding_q': spec['PADDING_Q'][i],\n",
    "                'padding_kv': spec['PADDING_KV'][i],\n",
    "                'stride_q': spec['STRIDE_Q'][i],\n",
    "                'stride_kv': spec['STRIDE_KV'][i],\n",
    "            }\n",
    "\n",
    "            stage = VisionTransformer(\n",
    "                in_chans=in_chans,\n",
    "                init=init,\n",
    "                act_layer=act_layer,\n",
    "                norm_layer=norm_layer,\n",
    "                **kwargs\n",
    "            )\n",
    "            \n",
    "            self.stages.append(stage)\n",
    "\n",
    "            in_chans = spec['DIM_EMBED'][i]\n",
    "\n",
    "        dim_embed = spec['DIM_EMBED'][-1]\n",
    "        self.norm = norm_layer(dim_embed)\n",
    "        self.pooler = nn.AdaptiveAvgPool1d(1)\n",
    "\n",
    "        # Classifier head\n",
    "        self.head = nn.Linear(dim_embed, num_classes) if num_classes > 0 else nn.Identity()\n",
    "        trunc_normal_(self.head.weight, std=0.02)\n",
    "\n",
    "    def forward_features(self, x):\n",
    "        for stage in self.stages:\n",
    "            x = stage(x)\n",
    "\n",
    "        x = rearrange(x, 'b c h w -> b (h w) c') # (B, L, C)\n",
    "        x = self.norm(x)                         # (B, L, C)\n",
    "        x = self.pooler(x.transpose(1,2))        # (B, C, 1)\n",
    "        x = torch.flatten(x, 1)                  # (B, C)\n",
    "        # x = torch.mean(x, dim=1)\n",
    "\n",
    "        return x\n",
    "\n",
    "    def forward(self, x):\n",
    "        x = self.forward_features(x)\n",
    "        x = self.head(x)\n",
    "\n",
    "        return x"
   ]
  },
  {
   "cell_type": "code",
   "execution_count": 12,
   "metadata": {},
   "outputs": [],
   "source": [
    "class QuickGELU(nn.Module):\n",
    "    def forward(self, x: torch.Tensor):\n",
    "        return x * torch.sigmoid(1.702 * x)"
   ]
  },
  {
   "cell_type": "code",
   "execution_count": 13,
   "metadata": {},
   "outputs": [
    {
     "data": {
      "text/plain": [
       "{'NUM_STAGES': 3,\n",
       " 'PATCH_SIZE': [7, 3, 3],\n",
       " 'PATCH_STRIDE': [4, 2, 2],\n",
       " 'PATCH_PADDING': [2, 1, 1],\n",
       " 'DIM_EMBED': [64, 192, 384],\n",
       " 'DEPTH': [1, 4, 16],\n",
       " 'NUM_HEADS': [4, 8, 12],\n",
       " 'MLP_RATIO': [4.0, 4.0, 4.0],\n",
       " 'QKV_BIAS': [True, True, True],\n",
       " 'DROP_RATE': [0.0, 0.0, 0.0],\n",
       " 'ATTN_DROP_RATE': [0.0, 0.0, 0.0],\n",
       " 'DROP_PATH_RATE': [0.0, 0.0, 0.1],\n",
       " 'KERNEL_QKV': [3, 3, 3],\n",
       " 'PADDING_Q': [1, 1, 1],\n",
       " 'PADDING_KV': [1, 1, 1],\n",
       " 'STRIDE_Q': [1, 1, 1],\n",
       " 'STRIDE_KV': [2, 2, 2]}"
      ]
     },
     "execution_count": 13,
     "metadata": {},
     "output_type": "execute_result"
    }
   ],
   "source": [
    "spec = {\n",
    "    'NUM_STAGES': 3,\n",
    "    'PATCH_SIZE': [7,3,3],\n",
    "    'PATCH_STRIDE': [4,2,2],\n",
    "    'PATCH_PADDING': [2,1,1],\n",
    "    'DIM_EMBED': [64,192,384],\n",
    "    'DEPTH': [1,4,16],\n",
    "    'NUM_HEADS': [4,8,12],   # original : [1,3,6]\n",
    "    'MLP_RATIO': [4.,4.,4.],\n",
    "    'QKV_BIAS': [True, True, True],\n",
    "    'DROP_RATE': [0.,0.,0.],\n",
    "    'ATTN_DROP_RATE': [0.,0.,0.],\n",
    "    'DROP_PATH_RATE': [0.,0.,0.1],\n",
    "    'KERNEL_QKV': [3,3,3],\n",
    "    'PADDING_Q': [1,1,1],\n",
    "    'PADDING_KV': [1,1,1],\n",
    "    'STRIDE_Q': [1,1,1],\n",
    "    'STRIDE_KV': [2,2,2],\n",
    "}\n",
    "\n",
    "spec"
   ]
  },
  {
   "cell_type": "code",
   "execution_count": 14,
   "metadata": {},
   "outputs": [
    {
     "data": {
      "text/plain": [
       "(torch.Size([2, 3, 224, 224]),\n",
       " torch.Size([2, 100]),\n",
       " tensor([[ 0.0573, -0.3300,  0.1631, -0.2469,  0.1199, -0.4747, -0.2398, -0.2601,\n",
       "          -0.2083, -0.3067, -0.4420, -0.2363, -0.4238,  0.1563,  0.5536,  0.6952,\n",
       "          -0.1009, -0.0711,  0.1994, -0.0983, -0.2994,  0.2103, -0.1918,  0.0854,\n",
       "           0.5746,  0.2007,  0.5062,  0.3160, -0.0377, -0.0469,  0.3352, -0.0135,\n",
       "          -0.0695,  0.0139,  0.3362, -0.2402, -0.0803, -0.1184, -0.3606, -0.0425,\n",
       "           0.5607, -0.0710,  0.1194,  0.4710,  0.3237,  0.2954,  0.3701, -0.1351,\n",
       "          -0.3893, -0.6530, -0.0915, -0.4402,  0.5940, -0.0504, -0.1436, -0.1440,\n",
       "          -0.1348,  0.1385,  0.0060,  0.1912, -0.1912, -0.2690,  0.0814,  0.4572,\n",
       "          -0.3219,  0.0105,  0.3513,  0.2510, -0.1194,  0.6762, -0.3090, -0.1742,\n",
       "           0.2942, -0.3909, -0.1001, -0.0823,  0.1245,  0.1299,  0.2696,  0.8545,\n",
       "          -0.1888,  0.2991,  0.0111,  0.3033, -0.2090,  0.5354,  0.8021,  0.0036,\n",
       "          -0.0706,  0.2601, -0.1980,  0.3533,  0.2466, -0.0538, -0.1817,  0.1645,\n",
       "          -0.5431, -0.1700, -0.0083,  0.3043],\n",
       "         [ 0.0573, -0.3300,  0.1631, -0.2469,  0.1199, -0.4747, -0.2398, -0.2601,\n",
       "          -0.2083, -0.3067, -0.4420, -0.2363, -0.4238,  0.1563,  0.5536,  0.6952,\n",
       "          -0.1009, -0.0711,  0.1994, -0.0983, -0.2994,  0.2103, -0.1918,  0.0854,\n",
       "           0.5746,  0.2007,  0.5062,  0.3160, -0.0377, -0.0469,  0.3352, -0.0135,\n",
       "          -0.0695,  0.0139,  0.3362, -0.2402, -0.0803, -0.1184, -0.3606, -0.0425,\n",
       "           0.5607, -0.0710,  0.1194,  0.4710,  0.3237,  0.2954,  0.3701, -0.1351,\n",
       "          -0.3893, -0.6530, -0.0915, -0.4402,  0.5940, -0.0504, -0.1436, -0.1440,\n",
       "          -0.1348,  0.1385,  0.0060,  0.1912, -0.1912, -0.2690,  0.0814,  0.4572,\n",
       "          -0.3219,  0.0105,  0.3513,  0.2510, -0.1194,  0.6762, -0.3090, -0.1742,\n",
       "           0.2942, -0.3909, -0.1001, -0.0823,  0.1245,  0.1299,  0.2696,  0.8545,\n",
       "          -0.1888,  0.2991,  0.0111,  0.3033, -0.2090,  0.5354,  0.8021,  0.0036,\n",
       "          -0.0706,  0.2601, -0.1981,  0.3533,  0.2466, -0.0538, -0.1817,  0.1645,\n",
       "          -0.5431, -0.1700, -0.0083,  0.3043]], grad_fn=<AddmmBackward0>))"
      ]
     },
     "execution_count": 14,
     "metadata": {},
     "output_type": "execute_result"
    }
   ],
   "source": [
    "model = ConvolutionalVisionTransformer(act_layer=QuickGELU, spec=spec)\n",
    "\n",
    "test_result = model(test_img)\n",
    "test_img.shape, test_result.shape, test_result"
   ]
  },
  {
   "cell_type": "code",
   "execution_count": 15,
   "metadata": {},
   "outputs": [
    {
     "name": "stdout",
     "output_type": "stream",
     "text": [
      "----------------------------------------------------------------\n",
      "        Layer (type)               Output Shape         Param #\n",
      "================================================================\n",
      "            Conv2d-1           [-1, 64, 56, 56]           9,472\n",
      "         LayerNorm-2             [-1, 3136, 64]             128\n",
      "         ConvEmbed-3           [-1, 64, 56, 56]               0\n",
      "           Dropout-4             [-1, 3136, 64]               0\n",
      "         LayerNorm-5             [-1, 3136, 64]             128\n",
      "            Conv2d-6           [-1, 64, 56, 56]             576\n",
      "       BatchNorm2d-7           [-1, 64, 56, 56]             128\n",
      "            Conv2d-8           [-1, 64, 56, 56]           4,160\n",
      "         Rearrange-9             [-1, 3136, 64]               0\n",
      "           Conv2d-10           [-1, 64, 28, 28]             576\n",
      "      BatchNorm2d-11           [-1, 64, 28, 28]             128\n",
      "           Conv2d-12           [-1, 64, 28, 28]           4,160\n",
      "        Rearrange-13              [-1, 784, 64]               0\n",
      "           Conv2d-14           [-1, 64, 28, 28]             576\n",
      "      BatchNorm2d-15           [-1, 64, 28, 28]             128\n",
      "           Conv2d-16           [-1, 64, 28, 28]           4,160\n",
      "        Rearrange-17              [-1, 784, 64]               0\n",
      "           Linear-18             [-1, 3136, 64]           4,160\n",
      "           Linear-19              [-1, 784, 64]           4,160\n",
      "           Linear-20              [-1, 784, 64]           4,160\n",
      "          Dropout-21         [-1, 4, 3136, 784]               0\n",
      "           Linear-22             [-1, 3136, 64]           4,160\n",
      "          Dropout-23             [-1, 3136, 64]               0\n",
      "    AttentionConv-24             [-1, 3136, 64]               0\n",
      "       LayerScale-25             [-1, 3136, 64]               0\n",
      "         Identity-26             [-1, 3136, 64]               0\n",
      "        LayerNorm-27             [-1, 3136, 64]             128\n",
      "           Linear-28            [-1, 3136, 256]          16,640\n",
      "        QuickGELU-29            [-1, 3136, 256]               0\n",
      "           Linear-30             [-1, 3136, 64]          16,448\n",
      "          Dropout-31             [-1, 3136, 64]               0\n",
      "       LayerScale-32             [-1, 3136, 64]               0\n",
      "         Identity-33             [-1, 3136, 64]               0\n",
      "            Block-34             [-1, 3136, 64]               0\n",
      "VisionTransformer-35           [-1, 64, 56, 56]               0\n",
      "           Conv2d-36          [-1, 192, 28, 28]         110,784\n",
      "        LayerNorm-37             [-1, 784, 192]             384\n",
      "        ConvEmbed-38          [-1, 192, 28, 28]               0\n",
      "          Dropout-39             [-1, 784, 192]               0\n",
      "        LayerNorm-40             [-1, 784, 192]             384\n",
      "           Conv2d-41          [-1, 192, 28, 28]           1,728\n",
      "      BatchNorm2d-42          [-1, 192, 28, 28]             384\n",
      "           Conv2d-43          [-1, 192, 28, 28]          37,056\n",
      "        Rearrange-44             [-1, 784, 192]               0\n",
      "           Conv2d-45          [-1, 192, 14, 14]           1,728\n",
      "      BatchNorm2d-46          [-1, 192, 14, 14]             384\n",
      "           Conv2d-47          [-1, 192, 14, 14]          37,056\n",
      "        Rearrange-48             [-1, 196, 192]               0\n",
      "           Conv2d-49          [-1, 192, 14, 14]           1,728\n",
      "      BatchNorm2d-50          [-1, 192, 14, 14]             384\n",
      "           Conv2d-51          [-1, 192, 14, 14]          37,056\n",
      "        Rearrange-52             [-1, 196, 192]               0\n",
      "           Linear-53             [-1, 784, 192]          37,056\n",
      "           Linear-54             [-1, 196, 192]          37,056\n",
      "           Linear-55             [-1, 196, 192]          37,056\n",
      "          Dropout-56          [-1, 8, 784, 196]               0\n",
      "           Linear-57             [-1, 784, 192]          37,056\n",
      "          Dropout-58             [-1, 784, 192]               0\n",
      "    AttentionConv-59             [-1, 784, 192]               0\n",
      "       LayerScale-60             [-1, 784, 192]               0\n",
      "         Identity-61             [-1, 784, 192]               0\n",
      "        LayerNorm-62             [-1, 784, 192]             384\n",
      "           Linear-63             [-1, 784, 768]         148,224\n",
      "        QuickGELU-64             [-1, 784, 768]               0\n",
      "           Linear-65             [-1, 784, 192]         147,648\n",
      "          Dropout-66             [-1, 784, 192]               0\n",
      "       LayerScale-67             [-1, 784, 192]               0\n",
      "         Identity-68             [-1, 784, 192]               0\n",
      "            Block-69             [-1, 784, 192]               0\n",
      "        LayerNorm-70             [-1, 784, 192]             384\n",
      "           Conv2d-71          [-1, 192, 28, 28]           1,728\n",
      "      BatchNorm2d-72          [-1, 192, 28, 28]             384\n",
      "           Conv2d-73          [-1, 192, 28, 28]          37,056\n",
      "        Rearrange-74             [-1, 784, 192]               0\n",
      "           Conv2d-75          [-1, 192, 14, 14]           1,728\n",
      "      BatchNorm2d-76          [-1, 192, 14, 14]             384\n",
      "           Conv2d-77          [-1, 192, 14, 14]          37,056\n",
      "        Rearrange-78             [-1, 196, 192]               0\n",
      "           Conv2d-79          [-1, 192, 14, 14]           1,728\n",
      "      BatchNorm2d-80          [-1, 192, 14, 14]             384\n",
      "           Conv2d-81          [-1, 192, 14, 14]          37,056\n",
      "        Rearrange-82             [-1, 196, 192]               0\n",
      "           Linear-83             [-1, 784, 192]          37,056\n",
      "           Linear-84             [-1, 196, 192]          37,056\n",
      "           Linear-85             [-1, 196, 192]          37,056\n",
      "          Dropout-86          [-1, 8, 784, 196]               0\n",
      "           Linear-87             [-1, 784, 192]          37,056\n",
      "          Dropout-88             [-1, 784, 192]               0\n",
      "    AttentionConv-89             [-1, 784, 192]               0\n",
      "       LayerScale-90             [-1, 784, 192]               0\n",
      "         Identity-91             [-1, 784, 192]               0\n",
      "        LayerNorm-92             [-1, 784, 192]             384\n",
      "           Linear-93             [-1, 784, 768]         148,224\n",
      "        QuickGELU-94             [-1, 784, 768]               0\n",
      "           Linear-95             [-1, 784, 192]         147,648\n",
      "          Dropout-96             [-1, 784, 192]               0\n",
      "       LayerScale-97             [-1, 784, 192]               0\n",
      "         Identity-98             [-1, 784, 192]               0\n",
      "            Block-99             [-1, 784, 192]               0\n",
      "       LayerNorm-100             [-1, 784, 192]             384\n",
      "          Conv2d-101          [-1, 192, 28, 28]           1,728\n",
      "     BatchNorm2d-102          [-1, 192, 28, 28]             384\n",
      "          Conv2d-103          [-1, 192, 28, 28]          37,056\n",
      "       Rearrange-104             [-1, 784, 192]               0\n",
      "          Conv2d-105          [-1, 192, 14, 14]           1,728\n",
      "     BatchNorm2d-106          [-1, 192, 14, 14]             384\n",
      "          Conv2d-107          [-1, 192, 14, 14]          37,056\n",
      "       Rearrange-108             [-1, 196, 192]               0\n",
      "          Conv2d-109          [-1, 192, 14, 14]           1,728\n",
      "     BatchNorm2d-110          [-1, 192, 14, 14]             384\n",
      "          Conv2d-111          [-1, 192, 14, 14]          37,056\n",
      "       Rearrange-112             [-1, 196, 192]               0\n",
      "          Linear-113             [-1, 784, 192]          37,056\n",
      "          Linear-114             [-1, 196, 192]          37,056\n",
      "          Linear-115             [-1, 196, 192]          37,056\n",
      "         Dropout-116          [-1, 8, 784, 196]               0\n",
      "          Linear-117             [-1, 784, 192]          37,056\n",
      "         Dropout-118             [-1, 784, 192]               0\n",
      "   AttentionConv-119             [-1, 784, 192]               0\n",
      "      LayerScale-120             [-1, 784, 192]               0\n",
      "        Identity-121             [-1, 784, 192]               0\n",
      "       LayerNorm-122             [-1, 784, 192]             384\n",
      "          Linear-123             [-1, 784, 768]         148,224\n",
      "       QuickGELU-124             [-1, 784, 768]               0\n",
      "          Linear-125             [-1, 784, 192]         147,648\n",
      "         Dropout-126             [-1, 784, 192]               0\n",
      "      LayerScale-127             [-1, 784, 192]               0\n",
      "        Identity-128             [-1, 784, 192]               0\n",
      "           Block-129             [-1, 784, 192]               0\n",
      "       LayerNorm-130             [-1, 784, 192]             384\n",
      "          Conv2d-131          [-1, 192, 28, 28]           1,728\n",
      "     BatchNorm2d-132          [-1, 192, 28, 28]             384\n",
      "          Conv2d-133          [-1, 192, 28, 28]          37,056\n",
      "       Rearrange-134             [-1, 784, 192]               0\n",
      "          Conv2d-135          [-1, 192, 14, 14]           1,728\n",
      "     BatchNorm2d-136          [-1, 192, 14, 14]             384\n",
      "          Conv2d-137          [-1, 192, 14, 14]          37,056\n",
      "       Rearrange-138             [-1, 196, 192]               0\n",
      "          Conv2d-139          [-1, 192, 14, 14]           1,728\n",
      "     BatchNorm2d-140          [-1, 192, 14, 14]             384\n",
      "          Conv2d-141          [-1, 192, 14, 14]          37,056\n",
      "       Rearrange-142             [-1, 196, 192]               0\n",
      "          Linear-143             [-1, 784, 192]          37,056\n",
      "          Linear-144             [-1, 196, 192]          37,056\n",
      "          Linear-145             [-1, 196, 192]          37,056\n",
      "         Dropout-146          [-1, 8, 784, 196]               0\n",
      "          Linear-147             [-1, 784, 192]          37,056\n",
      "         Dropout-148             [-1, 784, 192]               0\n",
      "   AttentionConv-149             [-1, 784, 192]               0\n",
      "      LayerScale-150             [-1, 784, 192]               0\n",
      "        Identity-151             [-1, 784, 192]               0\n",
      "       LayerNorm-152             [-1, 784, 192]             384\n",
      "          Linear-153             [-1, 784, 768]         148,224\n",
      "       QuickGELU-154             [-1, 784, 768]               0\n",
      "          Linear-155             [-1, 784, 192]         147,648\n",
      "         Dropout-156             [-1, 784, 192]               0\n",
      "      LayerScale-157             [-1, 784, 192]               0\n",
      "        Identity-158             [-1, 784, 192]               0\n",
      "           Block-159             [-1, 784, 192]               0\n",
      "VisionTransformer-160          [-1, 192, 28, 28]               0\n",
      "          Conv2d-161          [-1, 384, 14, 14]         663,936\n",
      "       LayerNorm-162             [-1, 196, 384]             768\n",
      "       ConvEmbed-163          [-1, 384, 14, 14]               0\n",
      "         Dropout-164             [-1, 196, 384]               0\n",
      "       LayerNorm-165             [-1, 196, 384]             768\n",
      "          Conv2d-166          [-1, 384, 14, 14]           3,456\n",
      "     BatchNorm2d-167          [-1, 384, 14, 14]             768\n",
      "          Conv2d-168          [-1, 384, 14, 14]         147,840\n",
      "       Rearrange-169             [-1, 196, 384]               0\n",
      "          Conv2d-170            [-1, 384, 7, 7]           3,456\n",
      "     BatchNorm2d-171            [-1, 384, 7, 7]             768\n",
      "          Conv2d-172            [-1, 384, 7, 7]         147,840\n",
      "       Rearrange-173              [-1, 49, 384]               0\n",
      "          Conv2d-174            [-1, 384, 7, 7]           3,456\n",
      "     BatchNorm2d-175            [-1, 384, 7, 7]             768\n",
      "          Conv2d-176            [-1, 384, 7, 7]         147,840\n",
      "       Rearrange-177              [-1, 49, 384]               0\n",
      "          Linear-178             [-1, 196, 384]         147,840\n",
      "          Linear-179              [-1, 49, 384]         147,840\n",
      "          Linear-180              [-1, 49, 384]         147,840\n",
      "         Dropout-181          [-1, 12, 196, 49]               0\n",
      "          Linear-182             [-1, 196, 384]         147,840\n",
      "         Dropout-183             [-1, 196, 384]               0\n",
      "   AttentionConv-184             [-1, 196, 384]               0\n",
      "      LayerScale-185             [-1, 196, 384]               0\n",
      "        DropPath-186             [-1, 196, 384]               0\n",
      "       LayerNorm-187             [-1, 196, 384]             768\n",
      "          Linear-188            [-1, 196, 1536]         591,360\n",
      "       QuickGELU-189            [-1, 196, 1536]               0\n",
      "          Linear-190             [-1, 196, 384]         590,208\n",
      "         Dropout-191             [-1, 196, 384]               0\n",
      "      LayerScale-192             [-1, 196, 384]               0\n",
      "        DropPath-193             [-1, 196, 384]               0\n",
      "           Block-194             [-1, 196, 384]               0\n",
      "       LayerNorm-195             [-1, 196, 384]             768\n",
      "          Conv2d-196          [-1, 384, 14, 14]           3,456\n",
      "     BatchNorm2d-197          [-1, 384, 14, 14]             768\n",
      "          Conv2d-198          [-1, 384, 14, 14]         147,840\n",
      "       Rearrange-199             [-1, 196, 384]               0\n",
      "          Conv2d-200            [-1, 384, 7, 7]           3,456\n",
      "     BatchNorm2d-201            [-1, 384, 7, 7]             768\n",
      "          Conv2d-202            [-1, 384, 7, 7]         147,840\n",
      "       Rearrange-203              [-1, 49, 384]               0\n",
      "          Conv2d-204            [-1, 384, 7, 7]           3,456\n",
      "     BatchNorm2d-205            [-1, 384, 7, 7]             768\n",
      "          Conv2d-206            [-1, 384, 7, 7]         147,840\n",
      "       Rearrange-207              [-1, 49, 384]               0\n",
      "          Linear-208             [-1, 196, 384]         147,840\n",
      "          Linear-209              [-1, 49, 384]         147,840\n",
      "          Linear-210              [-1, 49, 384]         147,840\n",
      "         Dropout-211          [-1, 12, 196, 49]               0\n",
      "          Linear-212             [-1, 196, 384]         147,840\n",
      "         Dropout-213             [-1, 196, 384]               0\n",
      "   AttentionConv-214             [-1, 196, 384]               0\n",
      "      LayerScale-215             [-1, 196, 384]               0\n",
      "        DropPath-216             [-1, 196, 384]               0\n",
      "       LayerNorm-217             [-1, 196, 384]             768\n",
      "          Linear-218            [-1, 196, 1536]         591,360\n",
      "       QuickGELU-219            [-1, 196, 1536]               0\n",
      "          Linear-220             [-1, 196, 384]         590,208\n",
      "         Dropout-221             [-1, 196, 384]               0\n",
      "      LayerScale-222             [-1, 196, 384]               0\n",
      "        DropPath-223             [-1, 196, 384]               0\n",
      "           Block-224             [-1, 196, 384]               0\n",
      "       LayerNorm-225             [-1, 196, 384]             768\n",
      "          Conv2d-226          [-1, 384, 14, 14]           3,456\n",
      "     BatchNorm2d-227          [-1, 384, 14, 14]             768\n",
      "          Conv2d-228          [-1, 384, 14, 14]         147,840\n",
      "       Rearrange-229             [-1, 196, 384]               0\n",
      "          Conv2d-230            [-1, 384, 7, 7]           3,456\n",
      "     BatchNorm2d-231            [-1, 384, 7, 7]             768\n",
      "          Conv2d-232            [-1, 384, 7, 7]         147,840\n",
      "       Rearrange-233              [-1, 49, 384]               0\n",
      "          Conv2d-234            [-1, 384, 7, 7]           3,456\n",
      "     BatchNorm2d-235            [-1, 384, 7, 7]             768\n",
      "          Conv2d-236            [-1, 384, 7, 7]         147,840\n",
      "       Rearrange-237              [-1, 49, 384]               0\n",
      "          Linear-238             [-1, 196, 384]         147,840\n",
      "          Linear-239              [-1, 49, 384]         147,840\n",
      "          Linear-240              [-1, 49, 384]         147,840\n",
      "         Dropout-241          [-1, 12, 196, 49]               0\n",
      "          Linear-242             [-1, 196, 384]         147,840\n",
      "         Dropout-243             [-1, 196, 384]               0\n",
      "   AttentionConv-244             [-1, 196, 384]               0\n",
      "      LayerScale-245             [-1, 196, 384]               0\n",
      "        DropPath-246             [-1, 196, 384]               0\n",
      "       LayerNorm-247             [-1, 196, 384]             768\n",
      "          Linear-248            [-1, 196, 1536]         591,360\n",
      "       QuickGELU-249            [-1, 196, 1536]               0\n",
      "          Linear-250             [-1, 196, 384]         590,208\n",
      "         Dropout-251             [-1, 196, 384]               0\n",
      "      LayerScale-252             [-1, 196, 384]               0\n",
      "        DropPath-253             [-1, 196, 384]               0\n",
      "           Block-254             [-1, 196, 384]               0\n",
      "       LayerNorm-255             [-1, 196, 384]             768\n",
      "          Conv2d-256          [-1, 384, 14, 14]           3,456\n",
      "     BatchNorm2d-257          [-1, 384, 14, 14]             768\n",
      "          Conv2d-258          [-1, 384, 14, 14]         147,840\n",
      "       Rearrange-259             [-1, 196, 384]               0\n",
      "          Conv2d-260            [-1, 384, 7, 7]           3,456\n",
      "     BatchNorm2d-261            [-1, 384, 7, 7]             768\n",
      "          Conv2d-262            [-1, 384, 7, 7]         147,840\n",
      "       Rearrange-263              [-1, 49, 384]               0\n",
      "          Conv2d-264            [-1, 384, 7, 7]           3,456\n",
      "     BatchNorm2d-265            [-1, 384, 7, 7]             768\n",
      "          Conv2d-266            [-1, 384, 7, 7]         147,840\n",
      "       Rearrange-267              [-1, 49, 384]               0\n",
      "          Linear-268             [-1, 196, 384]         147,840\n",
      "          Linear-269              [-1, 49, 384]         147,840\n",
      "          Linear-270              [-1, 49, 384]         147,840\n",
      "         Dropout-271          [-1, 12, 196, 49]               0\n",
      "          Linear-272             [-1, 196, 384]         147,840\n",
      "         Dropout-273             [-1, 196, 384]               0\n",
      "   AttentionConv-274             [-1, 196, 384]               0\n",
      "      LayerScale-275             [-1, 196, 384]               0\n",
      "        DropPath-276             [-1, 196, 384]               0\n",
      "       LayerNorm-277             [-1, 196, 384]             768\n",
      "          Linear-278            [-1, 196, 1536]         591,360\n",
      "       QuickGELU-279            [-1, 196, 1536]               0\n",
      "          Linear-280             [-1, 196, 384]         590,208\n",
      "         Dropout-281             [-1, 196, 384]               0\n",
      "      LayerScale-282             [-1, 196, 384]               0\n",
      "        DropPath-283             [-1, 196, 384]               0\n",
      "           Block-284             [-1, 196, 384]               0\n",
      "       LayerNorm-285             [-1, 196, 384]             768\n",
      "          Conv2d-286          [-1, 384, 14, 14]           3,456\n",
      "     BatchNorm2d-287          [-1, 384, 14, 14]             768\n",
      "          Conv2d-288          [-1, 384, 14, 14]         147,840\n",
      "       Rearrange-289             [-1, 196, 384]               0\n",
      "          Conv2d-290            [-1, 384, 7, 7]           3,456\n",
      "     BatchNorm2d-291            [-1, 384, 7, 7]             768\n",
      "          Conv2d-292            [-1, 384, 7, 7]         147,840\n",
      "       Rearrange-293              [-1, 49, 384]               0\n",
      "          Conv2d-294            [-1, 384, 7, 7]           3,456\n",
      "     BatchNorm2d-295            [-1, 384, 7, 7]             768\n",
      "          Conv2d-296            [-1, 384, 7, 7]         147,840\n",
      "       Rearrange-297              [-1, 49, 384]               0\n",
      "          Linear-298             [-1, 196, 384]         147,840\n",
      "          Linear-299              [-1, 49, 384]         147,840\n",
      "          Linear-300              [-1, 49, 384]         147,840\n",
      "         Dropout-301          [-1, 12, 196, 49]               0\n",
      "          Linear-302             [-1, 196, 384]         147,840\n",
      "         Dropout-303             [-1, 196, 384]               0\n",
      "   AttentionConv-304             [-1, 196, 384]               0\n",
      "      LayerScale-305             [-1, 196, 384]               0\n",
      "        DropPath-306             [-1, 196, 384]               0\n",
      "       LayerNorm-307             [-1, 196, 384]             768\n",
      "          Linear-308            [-1, 196, 1536]         591,360\n",
      "       QuickGELU-309            [-1, 196, 1536]               0\n",
      "          Linear-310             [-1, 196, 384]         590,208\n",
      "         Dropout-311             [-1, 196, 384]               0\n",
      "      LayerScale-312             [-1, 196, 384]               0\n",
      "        DropPath-313             [-1, 196, 384]               0\n",
      "           Block-314             [-1, 196, 384]               0\n",
      "       LayerNorm-315             [-1, 196, 384]             768\n",
      "          Conv2d-316          [-1, 384, 14, 14]           3,456\n",
      "     BatchNorm2d-317          [-1, 384, 14, 14]             768\n",
      "          Conv2d-318          [-1, 384, 14, 14]         147,840\n",
      "       Rearrange-319             [-1, 196, 384]               0\n",
      "          Conv2d-320            [-1, 384, 7, 7]           3,456\n",
      "     BatchNorm2d-321            [-1, 384, 7, 7]             768\n",
      "          Conv2d-322            [-1, 384, 7, 7]         147,840\n",
      "       Rearrange-323              [-1, 49, 384]               0\n",
      "          Conv2d-324            [-1, 384, 7, 7]           3,456\n",
      "     BatchNorm2d-325            [-1, 384, 7, 7]             768\n",
      "          Conv2d-326            [-1, 384, 7, 7]         147,840\n",
      "       Rearrange-327              [-1, 49, 384]               0\n",
      "          Linear-328             [-1, 196, 384]         147,840\n",
      "          Linear-329              [-1, 49, 384]         147,840\n",
      "          Linear-330              [-1, 49, 384]         147,840\n",
      "         Dropout-331          [-1, 12, 196, 49]               0\n",
      "          Linear-332             [-1, 196, 384]         147,840\n",
      "         Dropout-333             [-1, 196, 384]               0\n",
      "   AttentionConv-334             [-1, 196, 384]               0\n",
      "      LayerScale-335             [-1, 196, 384]               0\n",
      "        DropPath-336             [-1, 196, 384]               0\n",
      "       LayerNorm-337             [-1, 196, 384]             768\n",
      "          Linear-338            [-1, 196, 1536]         591,360\n",
      "       QuickGELU-339            [-1, 196, 1536]               0\n",
      "          Linear-340             [-1, 196, 384]         590,208\n",
      "         Dropout-341             [-1, 196, 384]               0\n",
      "      LayerScale-342             [-1, 196, 384]               0\n",
      "        DropPath-343             [-1, 196, 384]               0\n",
      "           Block-344             [-1, 196, 384]               0\n",
      "       LayerNorm-345             [-1, 196, 384]             768\n",
      "          Conv2d-346          [-1, 384, 14, 14]           3,456\n",
      "     BatchNorm2d-347          [-1, 384, 14, 14]             768\n",
      "          Conv2d-348          [-1, 384, 14, 14]         147,840\n",
      "       Rearrange-349             [-1, 196, 384]               0\n",
      "          Conv2d-350            [-1, 384, 7, 7]           3,456\n",
      "     BatchNorm2d-351            [-1, 384, 7, 7]             768\n",
      "          Conv2d-352            [-1, 384, 7, 7]         147,840\n",
      "       Rearrange-353              [-1, 49, 384]               0\n",
      "          Conv2d-354            [-1, 384, 7, 7]           3,456\n",
      "     BatchNorm2d-355            [-1, 384, 7, 7]             768\n",
      "          Conv2d-356            [-1, 384, 7, 7]         147,840\n",
      "       Rearrange-357              [-1, 49, 384]               0\n",
      "          Linear-358             [-1, 196, 384]         147,840\n",
      "          Linear-359              [-1, 49, 384]         147,840\n",
      "          Linear-360              [-1, 49, 384]         147,840\n",
      "         Dropout-361          [-1, 12, 196, 49]               0\n",
      "          Linear-362             [-1, 196, 384]         147,840\n",
      "         Dropout-363             [-1, 196, 384]               0\n",
      "   AttentionConv-364             [-1, 196, 384]               0\n",
      "      LayerScale-365             [-1, 196, 384]               0\n",
      "        DropPath-366             [-1, 196, 384]               0\n",
      "       LayerNorm-367             [-1, 196, 384]             768\n",
      "          Linear-368            [-1, 196, 1536]         591,360\n",
      "       QuickGELU-369            [-1, 196, 1536]               0\n",
      "          Linear-370             [-1, 196, 384]         590,208\n",
      "         Dropout-371             [-1, 196, 384]               0\n",
      "      LayerScale-372             [-1, 196, 384]               0\n",
      "        DropPath-373             [-1, 196, 384]               0\n",
      "           Block-374             [-1, 196, 384]               0\n",
      "       LayerNorm-375             [-1, 196, 384]             768\n",
      "          Conv2d-376          [-1, 384, 14, 14]           3,456\n",
      "     BatchNorm2d-377          [-1, 384, 14, 14]             768\n",
      "          Conv2d-378          [-1, 384, 14, 14]         147,840\n",
      "       Rearrange-379             [-1, 196, 384]               0\n",
      "          Conv2d-380            [-1, 384, 7, 7]           3,456\n",
      "     BatchNorm2d-381            [-1, 384, 7, 7]             768\n",
      "          Conv2d-382            [-1, 384, 7, 7]         147,840\n",
      "       Rearrange-383              [-1, 49, 384]               0\n",
      "          Conv2d-384            [-1, 384, 7, 7]           3,456\n",
      "     BatchNorm2d-385            [-1, 384, 7, 7]             768\n",
      "          Conv2d-386            [-1, 384, 7, 7]         147,840\n",
      "       Rearrange-387              [-1, 49, 384]               0\n",
      "          Linear-388             [-1, 196, 384]         147,840\n",
      "          Linear-389              [-1, 49, 384]         147,840\n",
      "          Linear-390              [-1, 49, 384]         147,840\n",
      "         Dropout-391          [-1, 12, 196, 49]               0\n",
      "          Linear-392             [-1, 196, 384]         147,840\n",
      "         Dropout-393             [-1, 196, 384]               0\n",
      "   AttentionConv-394             [-1, 196, 384]               0\n",
      "      LayerScale-395             [-1, 196, 384]               0\n",
      "        DropPath-396             [-1, 196, 384]               0\n",
      "       LayerNorm-397             [-1, 196, 384]             768\n",
      "          Linear-398            [-1, 196, 1536]         591,360\n",
      "       QuickGELU-399            [-1, 196, 1536]               0\n",
      "          Linear-400             [-1, 196, 384]         590,208\n",
      "         Dropout-401             [-1, 196, 384]               0\n",
      "      LayerScale-402             [-1, 196, 384]               0\n",
      "        DropPath-403             [-1, 196, 384]               0\n",
      "           Block-404             [-1, 196, 384]               0\n",
      "       LayerNorm-405             [-1, 196, 384]             768\n",
      "          Conv2d-406          [-1, 384, 14, 14]           3,456\n",
      "     BatchNorm2d-407          [-1, 384, 14, 14]             768\n",
      "          Conv2d-408          [-1, 384, 14, 14]         147,840\n",
      "       Rearrange-409             [-1, 196, 384]               0\n",
      "          Conv2d-410            [-1, 384, 7, 7]           3,456\n",
      "     BatchNorm2d-411            [-1, 384, 7, 7]             768\n",
      "          Conv2d-412            [-1, 384, 7, 7]         147,840\n",
      "       Rearrange-413              [-1, 49, 384]               0\n",
      "          Conv2d-414            [-1, 384, 7, 7]           3,456\n",
      "     BatchNorm2d-415            [-1, 384, 7, 7]             768\n",
      "          Conv2d-416            [-1, 384, 7, 7]         147,840\n",
      "       Rearrange-417              [-1, 49, 384]               0\n",
      "          Linear-418             [-1, 196, 384]         147,840\n",
      "          Linear-419              [-1, 49, 384]         147,840\n",
      "          Linear-420              [-1, 49, 384]         147,840\n",
      "         Dropout-421          [-1, 12, 196, 49]               0\n",
      "          Linear-422             [-1, 196, 384]         147,840\n",
      "         Dropout-423             [-1, 196, 384]               0\n",
      "   AttentionConv-424             [-1, 196, 384]               0\n",
      "      LayerScale-425             [-1, 196, 384]               0\n",
      "        DropPath-426             [-1, 196, 384]               0\n",
      "       LayerNorm-427             [-1, 196, 384]             768\n",
      "          Linear-428            [-1, 196, 1536]         591,360\n",
      "       QuickGELU-429            [-1, 196, 1536]               0\n",
      "          Linear-430             [-1, 196, 384]         590,208\n",
      "         Dropout-431             [-1, 196, 384]               0\n",
      "      LayerScale-432             [-1, 196, 384]               0\n",
      "        DropPath-433             [-1, 196, 384]               0\n",
      "           Block-434             [-1, 196, 384]               0\n",
      "       LayerNorm-435             [-1, 196, 384]             768\n",
      "          Conv2d-436          [-1, 384, 14, 14]           3,456\n",
      "     BatchNorm2d-437          [-1, 384, 14, 14]             768\n",
      "          Conv2d-438          [-1, 384, 14, 14]         147,840\n",
      "       Rearrange-439             [-1, 196, 384]               0\n",
      "          Conv2d-440            [-1, 384, 7, 7]           3,456\n",
      "     BatchNorm2d-441            [-1, 384, 7, 7]             768\n",
      "          Conv2d-442            [-1, 384, 7, 7]         147,840\n",
      "       Rearrange-443              [-1, 49, 384]               0\n",
      "          Conv2d-444            [-1, 384, 7, 7]           3,456\n",
      "     BatchNorm2d-445            [-1, 384, 7, 7]             768\n",
      "          Conv2d-446            [-1, 384, 7, 7]         147,840\n",
      "       Rearrange-447              [-1, 49, 384]               0\n",
      "          Linear-448             [-1, 196, 384]         147,840\n",
      "          Linear-449              [-1, 49, 384]         147,840\n",
      "          Linear-450              [-1, 49, 384]         147,840\n",
      "         Dropout-451          [-1, 12, 196, 49]               0\n",
      "          Linear-452             [-1, 196, 384]         147,840\n",
      "         Dropout-453             [-1, 196, 384]               0\n",
      "   AttentionConv-454             [-1, 196, 384]               0\n",
      "      LayerScale-455             [-1, 196, 384]               0\n",
      "        DropPath-456             [-1, 196, 384]               0\n",
      "       LayerNorm-457             [-1, 196, 384]             768\n",
      "          Linear-458            [-1, 196, 1536]         591,360\n",
      "       QuickGELU-459            [-1, 196, 1536]               0\n",
      "          Linear-460             [-1, 196, 384]         590,208\n",
      "         Dropout-461             [-1, 196, 384]               0\n",
      "      LayerScale-462             [-1, 196, 384]               0\n",
      "        DropPath-463             [-1, 196, 384]               0\n",
      "           Block-464             [-1, 196, 384]               0\n",
      "       LayerNorm-465             [-1, 196, 384]             768\n",
      "          Conv2d-466          [-1, 384, 14, 14]           3,456\n",
      "     BatchNorm2d-467          [-1, 384, 14, 14]             768\n",
      "          Conv2d-468          [-1, 384, 14, 14]         147,840\n",
      "       Rearrange-469             [-1, 196, 384]               0\n",
      "          Conv2d-470            [-1, 384, 7, 7]           3,456\n",
      "     BatchNorm2d-471            [-1, 384, 7, 7]             768\n",
      "          Conv2d-472            [-1, 384, 7, 7]         147,840\n",
      "       Rearrange-473              [-1, 49, 384]               0\n",
      "          Conv2d-474            [-1, 384, 7, 7]           3,456\n",
      "     BatchNorm2d-475            [-1, 384, 7, 7]             768\n",
      "          Conv2d-476            [-1, 384, 7, 7]         147,840\n",
      "       Rearrange-477              [-1, 49, 384]               0\n",
      "          Linear-478             [-1, 196, 384]         147,840\n",
      "          Linear-479              [-1, 49, 384]         147,840\n",
      "          Linear-480              [-1, 49, 384]         147,840\n",
      "         Dropout-481          [-1, 12, 196, 49]               0\n",
      "          Linear-482             [-1, 196, 384]         147,840\n",
      "         Dropout-483             [-1, 196, 384]               0\n",
      "   AttentionConv-484             [-1, 196, 384]               0\n",
      "      LayerScale-485             [-1, 196, 384]               0\n",
      "        DropPath-486             [-1, 196, 384]               0\n",
      "       LayerNorm-487             [-1, 196, 384]             768\n",
      "          Linear-488            [-1, 196, 1536]         591,360\n",
      "       QuickGELU-489            [-1, 196, 1536]               0\n",
      "          Linear-490             [-1, 196, 384]         590,208\n",
      "         Dropout-491             [-1, 196, 384]               0\n",
      "      LayerScale-492             [-1, 196, 384]               0\n",
      "        DropPath-493             [-1, 196, 384]               0\n",
      "           Block-494             [-1, 196, 384]               0\n",
      "       LayerNorm-495             [-1, 196, 384]             768\n",
      "          Conv2d-496          [-1, 384, 14, 14]           3,456\n",
      "     BatchNorm2d-497          [-1, 384, 14, 14]             768\n",
      "          Conv2d-498          [-1, 384, 14, 14]         147,840\n",
      "       Rearrange-499             [-1, 196, 384]               0\n",
      "          Conv2d-500            [-1, 384, 7, 7]           3,456\n",
      "     BatchNorm2d-501            [-1, 384, 7, 7]             768\n",
      "          Conv2d-502            [-1, 384, 7, 7]         147,840\n",
      "       Rearrange-503              [-1, 49, 384]               0\n",
      "          Conv2d-504            [-1, 384, 7, 7]           3,456\n",
      "     BatchNorm2d-505            [-1, 384, 7, 7]             768\n",
      "          Conv2d-506            [-1, 384, 7, 7]         147,840\n",
      "       Rearrange-507              [-1, 49, 384]               0\n",
      "          Linear-508             [-1, 196, 384]         147,840\n",
      "          Linear-509              [-1, 49, 384]         147,840\n",
      "          Linear-510              [-1, 49, 384]         147,840\n",
      "         Dropout-511          [-1, 12, 196, 49]               0\n",
      "          Linear-512             [-1, 196, 384]         147,840\n",
      "         Dropout-513             [-1, 196, 384]               0\n",
      "   AttentionConv-514             [-1, 196, 384]               0\n",
      "      LayerScale-515             [-1, 196, 384]               0\n",
      "        DropPath-516             [-1, 196, 384]               0\n",
      "       LayerNorm-517             [-1, 196, 384]             768\n",
      "          Linear-518            [-1, 196, 1536]         591,360\n",
      "       QuickGELU-519            [-1, 196, 1536]               0\n",
      "          Linear-520             [-1, 196, 384]         590,208\n",
      "         Dropout-521             [-1, 196, 384]               0\n",
      "      LayerScale-522             [-1, 196, 384]               0\n",
      "        DropPath-523             [-1, 196, 384]               0\n",
      "           Block-524             [-1, 196, 384]               0\n",
      "       LayerNorm-525             [-1, 196, 384]             768\n",
      "          Conv2d-526          [-1, 384, 14, 14]           3,456\n",
      "     BatchNorm2d-527          [-1, 384, 14, 14]             768\n",
      "          Conv2d-528          [-1, 384, 14, 14]         147,840\n",
      "       Rearrange-529             [-1, 196, 384]               0\n",
      "          Conv2d-530            [-1, 384, 7, 7]           3,456\n",
      "     BatchNorm2d-531            [-1, 384, 7, 7]             768\n",
      "          Conv2d-532            [-1, 384, 7, 7]         147,840\n",
      "       Rearrange-533              [-1, 49, 384]               0\n",
      "          Conv2d-534            [-1, 384, 7, 7]           3,456\n",
      "     BatchNorm2d-535            [-1, 384, 7, 7]             768\n",
      "          Conv2d-536            [-1, 384, 7, 7]         147,840\n",
      "       Rearrange-537              [-1, 49, 384]               0\n",
      "          Linear-538             [-1, 196, 384]         147,840\n",
      "          Linear-539              [-1, 49, 384]         147,840\n",
      "          Linear-540              [-1, 49, 384]         147,840\n",
      "         Dropout-541          [-1, 12, 196, 49]               0\n",
      "          Linear-542             [-1, 196, 384]         147,840\n",
      "         Dropout-543             [-1, 196, 384]               0\n",
      "   AttentionConv-544             [-1, 196, 384]               0\n",
      "      LayerScale-545             [-1, 196, 384]               0\n",
      "        DropPath-546             [-1, 196, 384]               0\n",
      "       LayerNorm-547             [-1, 196, 384]             768\n",
      "          Linear-548            [-1, 196, 1536]         591,360\n",
      "       QuickGELU-549            [-1, 196, 1536]               0\n",
      "          Linear-550             [-1, 196, 384]         590,208\n",
      "         Dropout-551             [-1, 196, 384]               0\n",
      "      LayerScale-552             [-1, 196, 384]               0\n",
      "        DropPath-553             [-1, 196, 384]               0\n",
      "           Block-554             [-1, 196, 384]               0\n",
      "       LayerNorm-555             [-1, 196, 384]             768\n",
      "          Conv2d-556          [-1, 384, 14, 14]           3,456\n",
      "     BatchNorm2d-557          [-1, 384, 14, 14]             768\n",
      "          Conv2d-558          [-1, 384, 14, 14]         147,840\n",
      "       Rearrange-559             [-1, 196, 384]               0\n",
      "          Conv2d-560            [-1, 384, 7, 7]           3,456\n",
      "     BatchNorm2d-561            [-1, 384, 7, 7]             768\n",
      "          Conv2d-562            [-1, 384, 7, 7]         147,840\n",
      "       Rearrange-563              [-1, 49, 384]               0\n",
      "          Conv2d-564            [-1, 384, 7, 7]           3,456\n",
      "     BatchNorm2d-565            [-1, 384, 7, 7]             768\n",
      "          Conv2d-566            [-1, 384, 7, 7]         147,840\n",
      "       Rearrange-567              [-1, 49, 384]               0\n",
      "          Linear-568             [-1, 196, 384]         147,840\n",
      "          Linear-569              [-1, 49, 384]         147,840\n",
      "          Linear-570              [-1, 49, 384]         147,840\n",
      "         Dropout-571          [-1, 12, 196, 49]               0\n",
      "          Linear-572             [-1, 196, 384]         147,840\n",
      "         Dropout-573             [-1, 196, 384]               0\n",
      "   AttentionConv-574             [-1, 196, 384]               0\n",
      "      LayerScale-575             [-1, 196, 384]               0\n",
      "        DropPath-576             [-1, 196, 384]               0\n",
      "       LayerNorm-577             [-1, 196, 384]             768\n",
      "          Linear-578            [-1, 196, 1536]         591,360\n",
      "       QuickGELU-579            [-1, 196, 1536]               0\n",
      "          Linear-580             [-1, 196, 384]         590,208\n",
      "         Dropout-581             [-1, 196, 384]               0\n",
      "      LayerScale-582             [-1, 196, 384]               0\n",
      "        DropPath-583             [-1, 196, 384]               0\n",
      "           Block-584             [-1, 196, 384]               0\n",
      "       LayerNorm-585             [-1, 196, 384]             768\n",
      "          Conv2d-586          [-1, 384, 14, 14]           3,456\n",
      "     BatchNorm2d-587          [-1, 384, 14, 14]             768\n",
      "          Conv2d-588          [-1, 384, 14, 14]         147,840\n",
      "       Rearrange-589             [-1, 196, 384]               0\n",
      "          Conv2d-590            [-1, 384, 7, 7]           3,456\n",
      "     BatchNorm2d-591            [-1, 384, 7, 7]             768\n",
      "          Conv2d-592            [-1, 384, 7, 7]         147,840\n",
      "       Rearrange-593              [-1, 49, 384]               0\n",
      "          Conv2d-594            [-1, 384, 7, 7]           3,456\n",
      "     BatchNorm2d-595            [-1, 384, 7, 7]             768\n",
      "          Conv2d-596            [-1, 384, 7, 7]         147,840\n",
      "       Rearrange-597              [-1, 49, 384]               0\n",
      "          Linear-598             [-1, 196, 384]         147,840\n",
      "          Linear-599              [-1, 49, 384]         147,840\n",
      "          Linear-600              [-1, 49, 384]         147,840\n",
      "         Dropout-601          [-1, 12, 196, 49]               0\n",
      "          Linear-602             [-1, 196, 384]         147,840\n",
      "         Dropout-603             [-1, 196, 384]               0\n",
      "   AttentionConv-604             [-1, 196, 384]               0\n",
      "      LayerScale-605             [-1, 196, 384]               0\n",
      "        DropPath-606             [-1, 196, 384]               0\n",
      "       LayerNorm-607             [-1, 196, 384]             768\n",
      "          Linear-608            [-1, 196, 1536]         591,360\n",
      "       QuickGELU-609            [-1, 196, 1536]               0\n",
      "          Linear-610             [-1, 196, 384]         590,208\n",
      "         Dropout-611             [-1, 196, 384]               0\n",
      "      LayerScale-612             [-1, 196, 384]               0\n",
      "        DropPath-613             [-1, 196, 384]               0\n",
      "           Block-614             [-1, 196, 384]               0\n",
      "       LayerNorm-615             [-1, 196, 384]             768\n",
      "          Conv2d-616          [-1, 384, 14, 14]           3,456\n",
      "     BatchNorm2d-617          [-1, 384, 14, 14]             768\n",
      "          Conv2d-618          [-1, 384, 14, 14]         147,840\n",
      "       Rearrange-619             [-1, 196, 384]               0\n",
      "          Conv2d-620            [-1, 384, 7, 7]           3,456\n",
      "     BatchNorm2d-621            [-1, 384, 7, 7]             768\n",
      "          Conv2d-622            [-1, 384, 7, 7]         147,840\n",
      "       Rearrange-623              [-1, 49, 384]               0\n",
      "          Conv2d-624            [-1, 384, 7, 7]           3,456\n",
      "     BatchNorm2d-625            [-1, 384, 7, 7]             768\n",
      "          Conv2d-626            [-1, 384, 7, 7]         147,840\n",
      "       Rearrange-627              [-1, 49, 384]               0\n",
      "          Linear-628             [-1, 196, 384]         147,840\n",
      "          Linear-629              [-1, 49, 384]         147,840\n",
      "          Linear-630              [-1, 49, 384]         147,840\n",
      "         Dropout-631          [-1, 12, 196, 49]               0\n",
      "          Linear-632             [-1, 196, 384]         147,840\n",
      "         Dropout-633             [-1, 196, 384]               0\n",
      "   AttentionConv-634             [-1, 196, 384]               0\n",
      "      LayerScale-635             [-1, 196, 384]               0\n",
      "        DropPath-636             [-1, 196, 384]               0\n",
      "       LayerNorm-637             [-1, 196, 384]             768\n",
      "          Linear-638            [-1, 196, 1536]         591,360\n",
      "       QuickGELU-639            [-1, 196, 1536]               0\n",
      "          Linear-640             [-1, 196, 384]         590,208\n",
      "         Dropout-641             [-1, 196, 384]               0\n",
      "      LayerScale-642             [-1, 196, 384]               0\n",
      "        DropPath-643             [-1, 196, 384]               0\n",
      "           Block-644             [-1, 196, 384]               0\n",
      "VisionTransformer-645          [-1, 384, 14, 14]               0\n",
      "       LayerNorm-646             [-1, 196, 384]             768\n",
      "AdaptiveAvgPool1d-647               [-1, 384, 1]               0\n",
      "          Linear-648                  [-1, 100]          38,500\n",
      "================================================================\n",
      "Total params: 38,829,284\n",
      "Trainable params: 38,829,284\n",
      "Non-trainable params: 0\n",
      "----------------------------------------------------------------\n",
      "Input size (MB): 0.57\n",
      "Forward/backward pass size (MB): 564.56\n",
      "Params size (MB): 148.12\n",
      "Estimated Total Size (MB): 713.25\n",
      "----------------------------------------------------------------\n"
     ]
    }
   ],
   "source": [
    "from torchsummary import summary\n",
    "\n",
    "summary(model.cuda(), (3, 224, 224))"
   ]
  },
  {
   "cell_type": "code",
   "execution_count": 16,
   "metadata": {},
   "outputs": [],
   "source": [
    "# Transforms 정의하기\n",
    "train_transform = transforms.Compose([\n",
    "    transforms.RandomResizedCrop(224, scale=(0.8,1), interpolation=transforms.InterpolationMode.LANCZOS),\n",
    "    transforms.RandomHorizontalFlip(),\n",
    "    transforms.ToTensor(),\n",
    "    transforms.Normalize(mean=[0.485, 0.456, 0.406], std=[0.229, 0.224, 0.225]),\n",
    "    transforms.RandomErasing(p=0.9, scale=(0.02, 0.33)),\n",
    "])\n",
    "\n",
    "test_transform = transforms.Compose([\n",
    "    transforms.ToTensor(),\n",
    "    transforms.Normalize(mean=[0.485, 0.456, 0.406], std=[0.229, 0.224, 0.225]),\n",
    "])\n",
    "\n",
    "data_dir = '../data/sports'\n",
    "batch_size = 256\n",
    "\n",
    "train_path = data_dir+'/train'\n",
    "valid_path = data_dir+'/valid'\n",
    "test_path = data_dir+'/test'\n",
    "\n",
    "# dataset load\n",
    "train_data = ImageFolder(train_path, transform=train_transform)\n",
    "valid_data = ImageFolder(valid_path, transform=test_transform)\n",
    "test_data = ImageFolder(test_path, transform=test_transform)\n",
    "\n",
    "train_loader = DataLoader(train_data, batch_size=batch_size, shuffle=True)\n",
    "valid_loader = DataLoader(valid_data, batch_size=batch_size, shuffle=False)\n",
    "test_loader = DataLoader(test_data, batch_size=batch_size, shuffle=False)"
   ]
  },
  {
   "cell_type": "code",
   "execution_count": 17,
   "metadata": {},
   "outputs": [],
   "source": [
    "device = 'cuda:2'\n",
    "max_norm = 1.0 # paper : 100 with G variants\n",
    "\n",
    "model.to(device)\n",
    "model_path = '../models/cvt/model.pth'"
   ]
  },
  {
   "cell_type": "code",
   "execution_count": 18,
   "metadata": {},
   "outputs": [],
   "source": [
    "mixup_fn = Mixup(mixup_alpha=.7, \n",
    "                cutmix_alpha=1., \n",
    "                prob=.7, \n",
    "                switch_prob=0.5, \n",
    "                mode='batch',\n",
    "                label_smoothing=.1,\n",
    "                num_classes=100)\n",
    "\n",
    "epochs = 100\n",
    "\n",
    "criterion = nn.CrossEntropyLoss(label_smoothing=0.)"
   ]
  },
  {
   "cell_type": "code",
   "execution_count": 19,
   "metadata": {},
   "outputs": [
    {
     "name": "stderr",
     "output_type": "stream",
     "text": [
      "2024-01-23 11:22:46.054408: E external/local_xla/xla/stream_executor/cuda/cuda_dnn.cc:9261] Unable to register cuDNN factory: Attempting to register factory for plugin cuDNN when one has already been registered\n",
      "2024-01-23 11:22:46.054469: E external/local_xla/xla/stream_executor/cuda/cuda_fft.cc:607] Unable to register cuFFT factory: Attempting to register factory for plugin cuFFT when one has already been registered\n",
      "2024-01-23 11:22:46.055185: E external/local_xla/xla/stream_executor/cuda/cuda_blas.cc:1515] Unable to register cuBLAS factory: Attempting to register factory for plugin cuBLAS when one has already been registered\n",
      "2024-01-23 11:22:46.060436: I tensorflow/core/platform/cpu_feature_guard.cc:182] This TensorFlow binary is optimized to use available CPU instructions in performance-critical operations.\n",
      "To enable the following instructions: AVX2 FMA, in other operations, rebuild TensorFlow with the appropriate compiler flags.\n",
      "2024-01-23 11:22:46.856140: W tensorflow/compiler/tf2tensorrt/utils/py_utils.cc:38] TF-TRT Warning: Could not find TensorRT\n"
     ]
    }
   ],
   "source": [
    "optimizer = optim.AdamW(model.parameters())\n",
    "warmup_steps = int(len(train_loader)*(epochs)*0.1)\n",
    "train_steps = len(train_loader)*(epochs)\n",
    "scheduler = transformers.get_cosine_schedule_with_warmup(optimizer, \n",
    "                                                        num_warmup_steps=warmup_steps, \n",
    "                                                        num_training_steps=train_steps,\n",
    "                                                        num_cycles=0.5)"
   ]
  },
  {
   "cell_type": "code",
   "execution_count": 20,
   "metadata": {},
   "outputs": [
    {
     "name": "stderr",
     "output_type": "stream",
     "text": [
      "Epoch 1: 100%|██████████| 53/53 [01:12<00:00,  1.38s/it]\n"
     ]
    },
    {
     "name": "stdout",
     "output_type": "stream",
     "text": [
      "\tLoss: 4.517330304631647, Val Loss: 4.274317502975464, LR: 0.0001, Duration: 74.64 sec - model saved!\n"
     ]
    },
    {
     "name": "stderr",
     "output_type": "stream",
     "text": [
      "Epoch 2: 100%|██████████| 53/53 [01:14<00:00,  1.41s/it]\n"
     ]
    },
    {
     "name": "stdout",
     "output_type": "stream",
     "text": [
      "\tLoss: 4.349617679164095, Val Loss: 4.0502684116363525, LR: 0.0002, Duration: 76.74 sec - model saved!\n"
     ]
    },
    {
     "name": "stderr",
     "output_type": "stream",
     "text": [
      "Epoch 3: 100%|██████████| 53/53 [01:14<00:00,  1.40s/it]\n"
     ]
    },
    {
     "name": "stdout",
     "output_type": "stream",
     "text": [
      "\tLoss: 4.258780218520254, Val Loss: 3.973089814186096, LR: 0.0003, Duration: 76.15 sec - model saved!\n"
     ]
    },
    {
     "name": "stderr",
     "output_type": "stream",
     "text": [
      "Epoch 4: 100%|██████████| 53/53 [01:14<00:00,  1.40s/it]\n"
     ]
    },
    {
     "name": "stdout",
     "output_type": "stream",
     "text": [
      "\tLoss: 4.194927552960953, Val Loss: 3.824741005897522, LR: 0.0004, Duration: 76.60 sec - model saved!\n"
     ]
    },
    {
     "name": "stderr",
     "output_type": "stream",
     "text": [
      "Epoch 5: 100%|██████████| 53/53 [01:16<00:00,  1.44s/it]\n"
     ]
    },
    {
     "name": "stdout",
     "output_type": "stream",
     "text": [
      "\tLoss: 4.136386736383978, Val Loss: 3.683342695236206, LR: 0.0005, Duration: 77.92 sec - model saved!\n"
     ]
    },
    {
     "name": "stderr",
     "output_type": "stream",
     "text": [
      "Epoch 6: 100%|██████████| 53/53 [01:16<00:00,  1.44s/it]\n"
     ]
    },
    {
     "name": "stdout",
     "output_type": "stream",
     "text": [
      "\tLoss: 4.0736810756179525, Val Loss: 3.626685857772827, LR: 0.0006, Duration: 77.85 sec - model saved!\n"
     ]
    },
    {
     "name": "stderr",
     "output_type": "stream",
     "text": [
      "Epoch 7: 100%|██████████| 53/53 [01:15<00:00,  1.43s/it]\n"
     ]
    },
    {
     "name": "stdout",
     "output_type": "stream",
     "text": [
      "\tLoss: 3.9756797934478185, Val Loss: 3.4691823720932007, LR: 0.0007, Duration: 77.67 sec - model saved!\n"
     ]
    },
    {
     "name": "stderr",
     "output_type": "stream",
     "text": [
      "Epoch 8: 100%|██████████| 53/53 [01:13<00:00,  1.39s/it]\n"
     ]
    },
    {
     "name": "stdout",
     "output_type": "stream",
     "text": [
      "\tLoss: 3.950435854353995, Val Loss: 3.328680157661438, LR: 0.0008, Duration: 75.24 sec - model saved!\n"
     ]
    },
    {
     "name": "stderr",
     "output_type": "stream",
     "text": [
      "Epoch 9: 100%|██████████| 53/53 [01:16<00:00,  1.44s/it]\n"
     ]
    },
    {
     "name": "stdout",
     "output_type": "stream",
     "text": [
      "\tLoss: 3.8652208121317737, Val Loss: 3.2438995838165283, LR: 0.0009000000000000001, Duration: 78.23 sec - model saved!\n"
     ]
    },
    {
     "name": "stderr",
     "output_type": "stream",
     "text": [
      "Epoch 10: 100%|██████████| 53/53 [01:14<00:00,  1.41s/it]\n"
     ]
    },
    {
     "name": "stdout",
     "output_type": "stream",
     "text": [
      "\tLoss: 3.8363999285787904, Val Loss: 3.12528657913208, LR: 0.001, Duration: 77.01 sec - model saved!\n"
     ]
    },
    {
     "name": "stderr",
     "output_type": "stream",
     "text": [
      "Epoch 11: 100%|██████████| 53/53 [01:15<00:00,  1.43s/it]\n"
     ]
    },
    {
     "name": "stdout",
     "output_type": "stream",
     "text": [
      "\tLoss: 3.728209657489129, Val Loss: 2.9452340602874756, LR: 0.0009996954135095479, Duration: 77.46 sec - model saved!\n"
     ]
    },
    {
     "name": "stderr",
     "output_type": "stream",
     "text": [
      "Epoch 12: 100%|██████████| 53/53 [01:14<00:00,  1.41s/it]\n"
     ]
    },
    {
     "name": "stdout",
     "output_type": "stream",
     "text": [
      "\tLoss: 3.670090729335569, Val Loss: 2.8268682956695557, LR: 0.0009987820251299122, Duration: 76.42 sec - model saved!\n"
     ]
    },
    {
     "name": "stderr",
     "output_type": "stream",
     "text": [
      "Epoch 13: 100%|██████████| 53/53 [01:14<00:00,  1.40s/it]\n"
     ]
    },
    {
     "name": "stdout",
     "output_type": "stream",
     "text": [
      "\tLoss: 3.6610685879329465, Val Loss: 2.866549849510193, LR: 0.0009972609476841367, Duration: 76.16 sec\n"
     ]
    },
    {
     "name": "stderr",
     "output_type": "stream",
     "text": [
      "Epoch 14: 100%|██████████| 53/53 [01:18<00:00,  1.48s/it]\n"
     ]
    },
    {
     "name": "stdout",
     "output_type": "stream",
     "text": [
      "\tLoss: 3.4336267732224375, Val Loss: 2.5806491374969482, LR: 0.0009951340343707852, Duration: 80.17 sec - model saved!\n"
     ]
    },
    {
     "name": "stderr",
     "output_type": "stream",
     "text": [
      "Epoch 15: 100%|██████████| 53/53 [01:19<00:00,  1.51s/it]\n"
     ]
    },
    {
     "name": "stdout",
     "output_type": "stream",
     "text": [
      "\tLoss: 3.357110117966274, Val Loss: 2.5050703287124634, LR: 0.000992403876506104, Duration: 83.80 sec - model saved!\n"
     ]
    },
    {
     "name": "stderr",
     "output_type": "stream",
     "text": [
      "Epoch 16: 100%|██████████| 53/53 [01:16<00:00,  1.44s/it]\n"
     ]
    },
    {
     "name": "stdout",
     "output_type": "stream",
     "text": [
      "\tLoss: 3.5233329646992235, Val Loss: 2.464124321937561, LR: 0.0009890738003669028, Duration: 78.58 sec - model saved!\n"
     ]
    },
    {
     "name": "stderr",
     "output_type": "stream",
     "text": [
      "Epoch 17: 100%|██████████| 53/53 [01:19<00:00,  1.51s/it]\n"
     ]
    },
    {
     "name": "stdout",
     "output_type": "stream",
     "text": [
      "\tLoss: 3.375183658779792, Val Loss: 2.3002508878707886, LR: 0.0009851478631379982, Duration: 81.77 sec - model saved!\n"
     ]
    },
    {
     "name": "stderr",
     "output_type": "stream",
     "text": [
      "Epoch 18: 100%|██████████| 53/53 [01:21<00:00,  1.53s/it]\n"
     ]
    },
    {
     "name": "stdout",
     "output_type": "stream",
     "text": [
      "\tLoss: 3.197081853758614, Val Loss: 2.225504755973816, LR: 0.0009806308479691594, Duration: 83.08 sec - model saved!\n"
     ]
    },
    {
     "name": "stderr",
     "output_type": "stream",
     "text": [
      "Epoch 19: 100%|██████████| 53/53 [01:16<00:00,  1.44s/it]\n"
     ]
    },
    {
     "name": "stdout",
     "output_type": "stream",
     "text": [
      "\tLoss: 3.334007011269623, Val Loss: 2.094251871109009, LR: 0.0009755282581475768, Duration: 78.45 sec - model saved!\n"
     ]
    },
    {
     "name": "stderr",
     "output_type": "stream",
     "text": [
      "Epoch 20: 100%|██████████| 53/53 [01:17<00:00,  1.46s/it]\n"
     ]
    },
    {
     "name": "stdout",
     "output_type": "stream",
     "text": [
      "\tLoss: 3.1799146994104923, Val Loss: 2.1205122470855713, LR: 0.0009698463103929542, Duration: 79.02 sec\n"
     ]
    },
    {
     "name": "stderr",
     "output_type": "stream",
     "text": [
      "Epoch 21: 100%|██████████| 53/53 [01:14<00:00,  1.41s/it]\n"
     ]
    },
    {
     "name": "stdout",
     "output_type": "stream",
     "text": [
      "\tLoss: 3.0607820411898055, Val Loss: 2.038299024105072, LR: 0.0009635919272833937, Duration: 76.66 sec - model saved!\n"
     ]
    },
    {
     "name": "stderr",
     "output_type": "stream",
     "text": [
      "Epoch 22: 100%|██████████| 53/53 [01:14<00:00,  1.41s/it]\n"
     ]
    },
    {
     "name": "stdout",
     "output_type": "stream",
     "text": [
      "\tLoss: 3.1114456788548885, Val Loss: 1.9755110144615173, LR: 0.0009567727288213005, Duration: 76.15 sec - model saved!\n"
     ]
    },
    {
     "name": "stderr",
     "output_type": "stream",
     "text": [
      "Epoch 23: 100%|██████████| 53/53 [01:16<00:00,  1.45s/it]\n"
     ]
    },
    {
     "name": "stdout",
     "output_type": "stream",
     "text": [
      "\tLoss: 3.129637695708365, Val Loss: 1.9399954676628113, LR: 0.0009493970231495835, Duration: 78.34 sec - model saved!\n"
     ]
    },
    {
     "name": "stderr",
     "output_type": "stream",
     "text": [
      "Epoch 24: 100%|██████████| 53/53 [01:19<00:00,  1.51s/it]\n"
     ]
    },
    {
     "name": "stdout",
     "output_type": "stream",
     "text": [
      "\tLoss: 3.0489579596609437, Val Loss: 1.9104833006858826, LR: 0.0009414737964294635, Duration: 82.32 sec - model saved!\n"
     ]
    },
    {
     "name": "stderr",
     "output_type": "stream",
     "text": [
      "Epoch 25: 100%|██████████| 53/53 [01:17<00:00,  1.46s/it]\n"
     ]
    },
    {
     "name": "stdout",
     "output_type": "stream",
     "text": [
      "\tLoss: 3.1037813987372056, Val Loss: 2.025197148323059, LR: 0.0009330127018922195, Duration: 78.66 sec\n"
     ]
    },
    {
     "name": "stderr",
     "output_type": "stream",
     "text": [
      "Epoch 26: 100%|██████████| 53/53 [01:11<00:00,  1.36s/it]\n"
     ]
    },
    {
     "name": "stdout",
     "output_type": "stream",
     "text": [
      "\tLoss: 2.993066094956308, Val Loss: 1.7434434294700623, LR: 0.0009240240480782129, Duration: 73.68 sec - model saved!\n"
     ]
    },
    {
     "name": "stderr",
     "output_type": "stream",
     "text": [
      "Epoch 27: 100%|██████████| 53/53 [01:19<00:00,  1.49s/it]\n"
     ]
    },
    {
     "name": "stdout",
     "output_type": "stream",
     "text": [
      "\tLoss: 2.983495680791027, Val Loss: 1.6884132623672485, LR: 0.0009145187862775209, Duration: 81.50 sec - model saved!\n"
     ]
    },
    {
     "name": "stderr",
     "output_type": "stream",
     "text": [
      "Epoch 28: 100%|██████████| 53/53 [01:22<00:00,  1.56s/it]\n"
     ]
    },
    {
     "name": "stdout",
     "output_type": "stream",
     "text": [
      "\tLoss: 2.922195272625617, Val Loss: 1.7438961267471313, LR: 0.0009045084971874737, Duration: 84.46 sec\n"
     ]
    },
    {
     "name": "stderr",
     "output_type": "stream",
     "text": [
      "Epoch 29: 100%|██████████| 53/53 [01:14<00:00,  1.40s/it]\n"
     ]
    },
    {
     "name": "stdout",
     "output_type": "stream",
     "text": [
      "\tLoss: 3.0413510304576947, Val Loss: 1.717728614807129, LR: 0.0008940053768033609, Duration: 76.08 sec\n"
     ]
    },
    {
     "name": "stderr",
     "output_type": "stream",
     "text": [
      "Epoch 30: 100%|██████████| 53/53 [01:18<00:00,  1.49s/it]\n"
     ]
    },
    {
     "name": "stdout",
     "output_type": "stream",
     "text": [
      "\tLoss: 2.9910397754525238, Val Loss: 1.5585418343544006, LR: 0.000883022221559489, Duration: 80.75 sec - model saved!\n"
     ]
    },
    {
     "name": "stderr",
     "output_type": "stream",
     "text": [
      "Epoch 31: 100%|██████████| 53/53 [01:18<00:00,  1.47s/it]\n"
     ]
    },
    {
     "name": "stdout",
     "output_type": "stream",
     "text": [
      "\tLoss: 2.7990333449165776, Val Loss: 1.477014422416687, LR: 0.0008715724127386971, Duration: 79.73 sec - model saved!\n"
     ]
    },
    {
     "name": "stderr",
     "output_type": "stream",
     "text": [
      "Epoch 32: 100%|██████████| 53/53 [01:21<00:00,  1.54s/it]\n"
     ]
    },
    {
     "name": "stdout",
     "output_type": "stream",
     "text": [
      "\tLoss: 2.686249836435858, Val Loss: 1.5254251956939697, LR: 0.0008596699001693256, Duration: 83.20 sec\n"
     ]
    },
    {
     "name": "stderr",
     "output_type": "stream",
     "text": [
      "Epoch 33: 100%|██████████| 53/53 [01:18<00:00,  1.47s/it]\n"
     ]
    },
    {
     "name": "stdout",
     "output_type": "stream",
     "text": [
      "\tLoss: 2.768720435646345, Val Loss: 1.5995100736618042, LR: 0.0008473291852294987, Duration: 79.96 sec\n"
     ]
    },
    {
     "name": "stderr",
     "output_type": "stream",
     "text": [
      "Epoch 34: 100%|██████████| 53/53 [01:16<00:00,  1.44s/it]\n"
     ]
    },
    {
     "name": "stdout",
     "output_type": "stream",
     "text": [
      "\tLoss: 2.819658686529915, Val Loss: 1.5106186270713806, LR: 0.0008345653031794292, Duration: 77.74 sec\n"
     ]
    },
    {
     "name": "stderr",
     "output_type": "stream",
     "text": [
      "Epoch 35: 100%|██████████| 53/53 [01:15<00:00,  1.43s/it]\n"
     ]
    },
    {
     "name": "stdout",
     "output_type": "stream",
     "text": [
      "\tLoss: 2.756145900150515, Val Loss: 1.4161186218261719, LR: 0.0008213938048432696, Duration: 77.75 sec - model saved!\n"
     ]
    },
    {
     "name": "stderr",
     "output_type": "stream",
     "text": [
      "Epoch 36: 100%|██████████| 53/53 [01:19<00:00,  1.50s/it]\n"
     ]
    },
    {
     "name": "stdout",
     "output_type": "stream",
     "text": [
      "\tLoss: 2.6518965307271705, Val Loss: 1.6463597416877747, LR: 0.0008078307376628291, Duration: 81.31 sec\n"
     ]
    },
    {
     "name": "stderr",
     "output_type": "stream",
     "text": [
      "Epoch 37: 100%|██████████| 53/53 [01:15<00:00,  1.43s/it]\n"
     ]
    },
    {
     "name": "stdout",
     "output_type": "stream",
     "text": [
      "\tLoss: 2.821919580675521, Val Loss: 1.3697890639305115, LR: 0.0007938926261462366, Duration: 77.33 sec - model saved!\n"
     ]
    },
    {
     "name": "stderr",
     "output_type": "stream",
     "text": [
      "Epoch 38: 100%|██████████| 53/53 [01:16<00:00,  1.44s/it]\n"
     ]
    },
    {
     "name": "stdout",
     "output_type": "stream",
     "text": [
      "\tLoss: 2.4880064905814403, Val Loss: 1.296304166316986, LR: 0.0007795964517353734, Duration: 78.50 sec - model saved!\n"
     ]
    },
    {
     "name": "stderr",
     "output_type": "stream",
     "text": [
      "Epoch 39: 100%|██████████| 53/53 [01:15<00:00,  1.43s/it]\n"
     ]
    },
    {
     "name": "stdout",
     "output_type": "stream",
     "text": [
      "\tLoss: 2.608784353957986, Val Loss: 1.342452347278595, LR: 0.0007649596321166025, Duration: 77.45 sec\n"
     ]
    },
    {
     "name": "stderr",
     "output_type": "stream",
     "text": [
      "Epoch 40: 100%|██████████| 53/53 [01:13<00:00,  1.39s/it]\n"
     ]
    },
    {
     "name": "stdout",
     "output_type": "stream",
     "text": [
      "\tLoss: 2.6102360284553385, Val Loss: 1.297560691833496, LR: 0.00075, Duration: 75.16 sec\n"
     ]
    },
    {
     "name": "stderr",
     "output_type": "stream",
     "text": [
      "Epoch 41: 100%|██████████| 53/53 [01:17<00:00,  1.47s/it]\n"
     ]
    },
    {
     "name": "stdout",
     "output_type": "stream",
     "text": [
      "\tLoss: 2.5430235615316428, Val Loss: 1.2428448796272278, LR: 0.0007347357813929454, Duration: 79.46 sec - model saved!\n"
     ]
    },
    {
     "name": "stderr",
     "output_type": "stream",
     "text": [
      "Epoch 42: 100%|██████████| 53/53 [01:15<00:00,  1.42s/it]\n"
     ]
    },
    {
     "name": "stdout",
     "output_type": "stream",
     "text": [
      "\tLoss: 2.72698117202183, Val Loss: 1.4003362655639648, LR: 0.0007191855733945387, Duration: 76.89 sec\n"
     ]
    },
    {
     "name": "stderr",
     "output_type": "stream",
     "text": [
      "Epoch 43: 100%|██████████| 53/53 [01:17<00:00,  1.47s/it]\n"
     ]
    },
    {
     "name": "stdout",
     "output_type": "stream",
     "text": [
      "\tLoss: 2.349344053358402, Val Loss: 1.2064343690872192, LR: 0.0007033683215379002, Duration: 80.30 sec - model saved!\n"
     ]
    },
    {
     "name": "stderr",
     "output_type": "stream",
     "text": [
      "Epoch 44: 100%|██████████| 53/53 [01:24<00:00,  1.59s/it]\n"
     ]
    },
    {
     "name": "stdout",
     "output_type": "stream",
     "text": [
      "\tLoss: 2.4605045003711052, Val Loss: 1.1764190793037415, LR: 0.0006873032967079561, Duration: 86.56 sec - model saved!\n"
     ]
    },
    {
     "name": "stderr",
     "output_type": "stream",
     "text": [
      "Epoch 45: 100%|██████████| 53/53 [01:18<00:00,  1.47s/it]\n"
     ]
    },
    {
     "name": "stdout",
     "output_type": "stream",
     "text": [
      "\tLoss: 2.3705252363996685, Val Loss: 1.1747475266456604, LR: 0.0006710100716628344, Duration: 79.74 sec - model saved!\n"
     ]
    },
    {
     "name": "stderr",
     "output_type": "stream",
     "text": [
      "Epoch 46: 100%|██████████| 53/53 [01:23<00:00,  1.58s/it]\n"
     ]
    },
    {
     "name": "stdout",
     "output_type": "stream",
     "text": [
      "\tLoss: 2.3804790883694054, Val Loss: 1.2300089001655579, LR: 0.0006545084971874737, Duration: 85.52 sec\n"
     ]
    },
    {
     "name": "stderr",
     "output_type": "stream",
     "text": [
      "Epoch 47: 100%|██████████| 53/53 [01:17<00:00,  1.47s/it]\n"
     ]
    },
    {
     "name": "stdout",
     "output_type": "stream",
     "text": [
      "\tLoss: 2.48616176056412, Val Loss: 1.1760236024856567, LR: 0.0006378186779084996, Duration: 79.40 sec\n"
     ]
    },
    {
     "name": "stderr",
     "output_type": "stream",
     "text": [
      "Epoch 48: 100%|██████████| 53/53 [01:16<00:00,  1.44s/it]\n"
     ]
    },
    {
     "name": "stdout",
     "output_type": "stream",
     "text": [
      "\tLoss: 2.4829081836736426, Val Loss: 1.1827393770217896, LR: 0.0006209609477998338, Duration: 77.96 sec\n"
     ]
    },
    {
     "name": "stderr",
     "output_type": "stream",
     "text": [
      "Epoch 49: 100%|██████████| 53/53 [01:16<00:00,  1.44s/it]\n"
     ]
    },
    {
     "name": "stdout",
     "output_type": "stream",
     "text": [
      "\tLoss: 2.432924493303839, Val Loss: 1.1604117155075073, LR: 0.0006039558454088796, Duration: 78.21 sec - model saved!\n"
     ]
    },
    {
     "name": "stderr",
     "output_type": "stream",
     "text": [
      "Epoch 50: 100%|██████████| 53/53 [01:17<00:00,  1.46s/it]\n"
     ]
    },
    {
     "name": "stdout",
     "output_type": "stream",
     "text": [
      "\tLoss: 2.3567644897496924, Val Loss: 1.0830718874931335, LR: 0.0005868240888334653, Duration: 79.16 sec - model saved!\n"
     ]
    },
    {
     "name": "stderr",
     "output_type": "stream",
     "text": [
      "Epoch 51: 100%|██████████| 53/53 [01:17<00:00,  1.46s/it]\n"
     ]
    },
    {
     "name": "stdout",
     "output_type": "stream",
     "text": [
      "\tLoss: 2.4168153034066253, Val Loss: 1.214397370815277, LR: 0.0005695865504800327, Duration: 78.75 sec\n"
     ]
    },
    {
     "name": "stderr",
     "output_type": "stream",
     "text": [
      "Epoch 52: 100%|██████████| 53/53 [01:17<00:00,  1.47s/it]\n"
     ]
    },
    {
     "name": "stdout",
     "output_type": "stream",
     "text": [
      "\tLoss: 2.4851057844341926, Val Loss: 1.1118021607398987, LR: 0.0005522642316338268, Duration: 79.40 sec\n"
     ]
    },
    {
     "name": "stderr",
     "output_type": "stream",
     "text": [
      "Epoch 53: 100%|██████████| 53/53 [01:14<00:00,  1.40s/it]\n"
     ]
    },
    {
     "name": "stdout",
     "output_type": "stream",
     "text": [
      "\tLoss: 2.3792691298250883, Val Loss: 1.0721652507781982, LR: 0.0005348782368720626, Duration: 76.86 sec - model saved!\n"
     ]
    },
    {
     "name": "stderr",
     "output_type": "stream",
     "text": [
      "Epoch 54: 100%|██████████| 53/53 [01:12<00:00,  1.36s/it]\n"
     ]
    },
    {
     "name": "stdout",
     "output_type": "stream",
     "text": [
      "\tLoss: 2.5268682511347644, Val Loss: 0.9998653531074524, LR: 0.0005174497483512506, Duration: 73.99 sec - model saved!\n"
     ]
    },
    {
     "name": "stderr",
     "output_type": "stream",
     "text": [
      "Epoch 55: 100%|██████████| 53/53 [01:13<00:00,  1.38s/it]\n"
     ]
    },
    {
     "name": "stdout",
     "output_type": "stream",
     "text": [
      "\tLoss: 2.1980561557805762, Val Loss: 0.966778963804245, LR: 0.0005, Duration: 74.89 sec - model saved!\n"
     ]
    },
    {
     "name": "stderr",
     "output_type": "stream",
     "text": [
      "Epoch 56: 100%|██████████| 53/53 [01:12<00:00,  1.37s/it]\n"
     ]
    },
    {
     "name": "stdout",
     "output_type": "stream",
     "text": [
      "\tLoss: 2.360651430094017, Val Loss: 1.043660819530487, LR: 0.0004825502516487497, Duration: 74.75 sec\n"
     ]
    },
    {
     "name": "stderr",
     "output_type": "stream",
     "text": [
      "Epoch 57: 100%|██████████| 53/53 [01:11<00:00,  1.35s/it]\n"
     ]
    },
    {
     "name": "stdout",
     "output_type": "stream",
     "text": [
      "\tLoss: 2.3810722490526595, Val Loss: 1.0211061835289001, LR: 0.00046512176312793734, Duration: 72.87 sec\n"
     ]
    },
    {
     "name": "stderr",
     "output_type": "stream",
     "text": [
      "Epoch 58: 100%|██████████| 53/53 [01:12<00:00,  1.38s/it]\n"
     ]
    },
    {
     "name": "stdout",
     "output_type": "stream",
     "text": [
      "\tLoss: 2.2425728563992484, Val Loss: 1.005746454000473, LR: 0.00044773576836617336, Duration: 74.35 sec\n"
     ]
    },
    {
     "name": "stderr",
     "output_type": "stream",
     "text": [
      "Epoch 59: 100%|██████████| 53/53 [01:13<00:00,  1.39s/it]\n"
     ]
    },
    {
     "name": "stdout",
     "output_type": "stream",
     "text": [
      "\tLoss: 2.2867829687190504, Val Loss: 1.0079799890518188, LR: 0.0004304134495199674, Duration: 75.12 sec\n"
     ]
    },
    {
     "name": "stderr",
     "output_type": "stream",
     "text": [
      "Epoch 60: 100%|██████████| 53/53 [01:15<00:00,  1.42s/it]\n"
     ]
    },
    {
     "name": "stdout",
     "output_type": "stream",
     "text": [
      "\tLoss: 2.237507478246149, Val Loss: 1.000669151544571, LR: 0.00041317591116653486, Duration: 76.91 sec\n"
     ]
    },
    {
     "name": "stderr",
     "output_type": "stream",
     "text": [
      "Epoch 61: 100%|██████████| 53/53 [01:11<00:00,  1.35s/it]\n"
     ]
    },
    {
     "name": "stdout",
     "output_type": "stream",
     "text": [
      "\tLoss: 2.146781064429373, Val Loss: 0.9153531193733215, LR: 0.0003960441545911204, Duration: 75.36 sec - model saved!\n"
     ]
    },
    {
     "name": "stderr",
     "output_type": "stream",
     "text": [
      "Epoch 62: 100%|██████████| 53/53 [01:13<00:00,  1.39s/it]\n"
     ]
    },
    {
     "name": "stdout",
     "output_type": "stream",
     "text": [
      "\tLoss: 2.2834598433296636, Val Loss: 0.9731030762195587, LR: 0.0003790390522001662, Duration: 74.87 sec\n"
     ]
    },
    {
     "name": "stderr",
     "output_type": "stream",
     "text": [
      "Epoch 63: 100%|██████████| 53/53 [01:14<00:00,  1.41s/it]\n"
     ]
    },
    {
     "name": "stdout",
     "output_type": "stream",
     "text": [
      "\tLoss: 2.2361419223389536, Val Loss: 0.9360014200210571, LR: 0.00036218132209150044, Duration: 76.20 sec\n"
     ]
    },
    {
     "name": "stderr",
     "output_type": "stream",
     "text": [
      "Epoch 64: 100%|██████████| 53/53 [01:15<00:00,  1.42s/it]\n"
     ]
    },
    {
     "name": "stdout",
     "output_type": "stream",
     "text": [
      "\tLoss: 2.2708592797225378, Val Loss: 0.9286888837814331, LR: 0.00034549150281252633, Duration: 76.88 sec\n"
     ]
    },
    {
     "name": "stderr",
     "output_type": "stream",
     "text": [
      "Epoch 65: 100%|██████████| 53/53 [01:18<00:00,  1.47s/it]\n"
     ]
    },
    {
     "name": "stdout",
     "output_type": "stream",
     "text": [
      "\tLoss: 2.018288443673332, Val Loss: 0.9103099703788757, LR: 0.0003289899283371657, Duration: 81.03 sec - model saved!\n"
     ]
    },
    {
     "name": "stderr",
     "output_type": "stream",
     "text": [
      "Epoch 66: 100%|██████████| 53/53 [01:20<00:00,  1.51s/it]\n"
     ]
    },
    {
     "name": "stdout",
     "output_type": "stream",
     "text": [
      "\tLoss: 1.8745281786288854, Val Loss: 0.8620105385780334, LR: 0.00031269670329204396, Duration: 82.14 sec - model saved!\n"
     ]
    },
    {
     "name": "stderr",
     "output_type": "stream",
     "text": [
      "Epoch 67: 100%|██████████| 53/53 [01:14<00:00,  1.41s/it]\n"
     ]
    },
    {
     "name": "stdout",
     "output_type": "stream",
     "text": [
      "\tLoss: 1.9959082018654302, Val Loss: 0.8972532451152802, LR: 0.0002966316784621, Duration: 76.31 sec\n"
     ]
    },
    {
     "name": "stderr",
     "output_type": "stream",
     "text": [
      "Epoch 68: 100%|██████████| 53/53 [01:12<00:00,  1.37s/it]\n"
     ]
    },
    {
     "name": "stdout",
     "output_type": "stream",
     "text": [
      "\tLoss: 2.089268391987063, Val Loss: 0.9049672484397888, LR: 0.00028081442660546124, Duration: 73.81 sec\n"
     ]
    },
    {
     "name": "stderr",
     "output_type": "stream",
     "text": [
      "Epoch 69: 100%|██████████| 53/53 [01:10<00:00,  1.33s/it]\n"
     ]
    },
    {
     "name": "stdout",
     "output_type": "stream",
     "text": [
      "\tLoss: 2.17791470266738, Val Loss: 0.8956781327724457, LR: 0.00026526421860705474, Duration: 71.66 sec\n"
     ]
    },
    {
     "name": "stderr",
     "output_type": "stream",
     "text": [
      "Epoch 70: 100%|██████████| 53/53 [01:13<00:00,  1.38s/it]\n"
     ]
    },
    {
     "name": "stdout",
     "output_type": "stream",
     "text": [
      "\tLoss: 1.9912852521212596, Val Loss: 0.8565104901790619, LR: 0.0002500000000000001, Duration: 75.47 sec - model saved!\n"
     ]
    },
    {
     "name": "stderr",
     "output_type": "stream",
     "text": [
      "Epoch 71: 100%|██████████| 53/53 [01:13<00:00,  1.39s/it]\n"
     ]
    },
    {
     "name": "stdout",
     "output_type": "stream",
     "text": [
      "\tLoss: 2.024166646993385, Val Loss: 0.8646787405014038, LR: 0.0002350403678833976, Duration: 75.20 sec\n"
     ]
    },
    {
     "name": "stderr",
     "output_type": "stream",
     "text": [
      "Epoch 72: 100%|██████████| 53/53 [01:12<00:00,  1.36s/it]\n"
     ]
    },
    {
     "name": "stdout",
     "output_type": "stream",
     "text": [
      "\tLoss: 2.0204204095984406, Val Loss: 0.843890368938446, LR: 0.00022040354826462666, Duration: 73.92 sec - model saved!\n"
     ]
    },
    {
     "name": "stderr",
     "output_type": "stream",
     "text": [
      "Epoch 73: 100%|██████████| 53/53 [01:16<00:00,  1.44s/it]\n"
     ]
    },
    {
     "name": "stdout",
     "output_type": "stream",
     "text": [
      "\tLoss: 2.069907732729642, Val Loss: 0.8118520975112915, LR: 0.00020610737385376348, Duration: 77.97 sec - model saved!\n"
     ]
    },
    {
     "name": "stderr",
     "output_type": "stream",
     "text": [
      "Epoch 74: 100%|██████████| 53/53 [01:14<00:00,  1.40s/it]\n"
     ]
    },
    {
     "name": "stdout",
     "output_type": "stream",
     "text": [
      "\tLoss: 1.9587070132201572, Val Loss: 0.8992706537246704, LR: 0.00019216926233717085, Duration: 75.82 sec\n"
     ]
    },
    {
     "name": "stderr",
     "output_type": "stream",
     "text": [
      "Epoch 75: 100%|██████████| 53/53 [01:16<00:00,  1.44s/it]\n"
     ]
    },
    {
     "name": "stdout",
     "output_type": "stream",
     "text": [
      "\tLoss: 2.078670378001231, Val Loss: 0.8991806209087372, LR: 0.0001786061951567303, Duration: 77.43 sec\n"
     ]
    },
    {
     "name": "stderr",
     "output_type": "stream",
     "text": [
      "Epoch 76: 100%|██████████| 53/53 [01:13<00:00,  1.39s/it]\n"
     ]
    },
    {
     "name": "stdout",
     "output_type": "stream",
     "text": [
      "\tLoss: 2.063021659851074, Val Loss: 0.8627645969390869, LR: 0.00016543469682057105, Duration: 74.95 sec\n"
     ]
    },
    {
     "name": "stderr",
     "output_type": "stream",
     "text": [
      "Epoch 77: 100%|██████████| 53/53 [01:16<00:00,  1.44s/it]\n"
     ]
    },
    {
     "name": "stdout",
     "output_type": "stream",
     "text": [
      "\tLoss: 1.8093187381636422, Val Loss: 0.8347016870975494, LR: 0.00015267081477050133, Duration: 78.40 sec\n"
     ]
    },
    {
     "name": "stderr",
     "output_type": "stream",
     "text": [
      "Epoch 78: 100%|██████████| 53/53 [01:14<00:00,  1.40s/it]\n"
     ]
    },
    {
     "name": "stdout",
     "output_type": "stream",
     "text": [
      "\tLoss: 1.7449170530966993, Val Loss: 0.8223083317279816, LR: 0.00014033009983067452, Duration: 75.65 sec\n"
     ]
    },
    {
     "name": "stderr",
     "output_type": "stream",
     "text": [
      "Epoch 79: 100%|██████████| 53/53 [01:10<00:00,  1.34s/it]\n"
     ]
    },
    {
     "name": "stdout",
     "output_type": "stream",
     "text": [
      "\tLoss: 2.013336460545378, Val Loss: 0.8988035321235657, LR: 0.00012842758726130281, Duration: 72.93 sec\n"
     ]
    },
    {
     "name": "stderr",
     "output_type": "stream",
     "text": [
      "Epoch 80: 100%|██████████| 53/53 [01:12<00:00,  1.37s/it]\n"
     ]
    },
    {
     "name": "stdout",
     "output_type": "stream",
     "text": [
      "\tLoss: 1.874778520386174, Val Loss: 0.8787790536880493, LR: 0.00011697777844051105, Duration: 74.21 sec\n"
     ]
    },
    {
     "name": "stderr",
     "output_type": "stream",
     "text": [
      "Epoch 81: 100%|██████████| 53/53 [01:11<00:00,  1.34s/it]\n"
     ]
    },
    {
     "name": "stdout",
     "output_type": "stream",
     "text": [
      "\tLoss: 1.9447716901887138, Val Loss: 0.8725872337818146, LR: 0.00010599462319663906, Duration: 72.40 sec\n"
     ]
    },
    {
     "name": "stderr",
     "output_type": "stream",
     "text": [
      "Epoch 82: 100%|██████████| 53/53 [01:12<00:00,  1.37s/it]\n"
     ]
    },
    {
     "name": "stdout",
     "output_type": "stream",
     "text": [
      "\tLoss: 2.0094927122008124, Val Loss: 0.8743273019790649, LR: 9.549150281252633e-05, Duration: 74.21 sec\n"
     ]
    },
    {
     "name": "stderr",
     "output_type": "stream",
     "text": [
      "Epoch 83: 100%|██████████| 53/53 [01:12<00:00,  1.36s/it]\n"
     ]
    },
    {
     "name": "stdout",
     "output_type": "stream",
     "text": [
      "\tLoss: 1.9976899455178458, Val Loss: 0.8666021823883057, LR: 8.548121372247918e-05, Duration: 73.76 sec\n"
     ]
    },
    {
     "name": "stderr",
     "output_type": "stream",
     "text": [
      "Epoch 84: 100%|██████████| 53/53 [01:11<00:00,  1.35s/it]\n"
     ]
    },
    {
     "name": "stdout",
     "output_type": "stream",
     "text": [
      "\tLoss: 1.9635894680922885, Val Loss: 0.8810073733329773, LR: 7.597595192178702e-05, Duration: 73.78 sec\n"
     ]
    },
    {
     "name": "stderr",
     "output_type": "stream",
     "text": [
      "Epoch 85: 100%|██████████| 53/53 [01:13<00:00,  1.39s/it]\n"
     ]
    },
    {
     "name": "stdout",
     "output_type": "stream",
     "text": [
      "\tLoss: 1.9119675721762315, Val Loss: 0.8378726243972778, LR: 6.698729810778065e-05, Duration: 75.21 sec\n"
     ]
    },
    {
     "name": "stderr",
     "output_type": "stream",
     "text": [
      "Epoch 86: 100%|██████████| 53/53 [01:12<00:00,  1.37s/it]\n"
     ]
    },
    {
     "name": "stdout",
     "output_type": "stream",
     "text": [
      "\tLoss: 2.1188004309276365, Val Loss: 0.8369015753269196, LR: 5.852620357053651e-05, Duration: 73.93 sec\n"
     ]
    },
    {
     "name": "stderr",
     "output_type": "stream",
     "text": [
      "Epoch 87: 100%|██████████| 53/53 [01:13<00:00,  1.38s/it]\n"
     ]
    },
    {
     "name": "stdout",
     "output_type": "stream",
     "text": [
      "\tLoss: 2.0978709313104735, Val Loss: 0.8299698829650879, LR: 5.060297685041659e-05, Duration: 75.23 sec\n"
     ]
    },
    {
     "name": "stderr",
     "output_type": "stream",
     "text": [
      "Epoch 88: 100%|██████████| 53/53 [01:12<00:00,  1.38s/it]\n"
     ]
    },
    {
     "name": "stdout",
     "output_type": "stream",
     "text": [
      "\tLoss: 2.1273830712966197, Val Loss: 0.8464439511299133, LR: 4.322727117869951e-05, Duration: 74.43 sec\n"
     ]
    },
    {
     "name": "stderr",
     "output_type": "stream",
     "text": [
      "Epoch 89: 100%|██████████| 53/53 [01:11<00:00,  1.35s/it]\n"
     ]
    },
    {
     "name": "stdout",
     "output_type": "stream",
     "text": [
      "\tLoss: 1.9270428812728737, Val Loss: 0.8409247100353241, LR: 3.6408072716606344e-05, Duration: 73.24 sec\n"
     ]
    },
    {
     "name": "stderr",
     "output_type": "stream",
     "text": [
      "Epoch 90: 100%|██████████| 53/53 [01:10<00:00,  1.33s/it]\n"
     ]
    },
    {
     "name": "stdout",
     "output_type": "stream",
     "text": [
      "\tLoss: 2.000486521226055, Val Loss: 0.8437514901161194, LR: 3.0153689607045842e-05, Duration: 72.35 sec\n"
     ]
    },
    {
     "name": "stderr",
     "output_type": "stream",
     "text": [
      "Epoch 91: 100%|██████████| 53/53 [01:12<00:00,  1.36s/it]\n"
     ]
    },
    {
     "name": "stdout",
     "output_type": "stream",
     "text": [
      "\tLoss: 1.902873860215241, Val Loss: 0.8520456254482269, LR: 2.4471741852423235e-05, Duration: 73.51 sec\n"
     ]
    },
    {
     "name": "stderr",
     "output_type": "stream",
     "text": [
      "Epoch 92: 100%|██████████| 53/53 [01:10<00:00,  1.32s/it]\n"
     ]
    },
    {
     "name": "stdout",
     "output_type": "stream",
     "text": [
      "\tLoss: 2.0608537838144123, Val Loss: 0.8790338337421417, LR: 1.9369152030840554e-05, Duration: 71.63 sec\n"
     ]
    },
    {
     "name": "stderr",
     "output_type": "stream",
     "text": [
      "Epoch 93: 100%|██████████| 53/53 [01:17<00:00,  1.47s/it]\n"
     ]
    },
    {
     "name": "stdout",
     "output_type": "stream",
     "text": [
      "\tLoss: 1.7439805426687565, Val Loss: 0.8629034459590912, LR: 1.4852136862001764e-05, Duration: 79.40 sec\n"
     ]
    },
    {
     "name": "stderr",
     "output_type": "stream",
     "text": [
      "Epoch 94: 100%|██████████| 53/53 [01:15<00:00,  1.42s/it]\n"
     ]
    },
    {
     "name": "stdout",
     "output_type": "stream",
     "text": [
      "\tLoss: 1.914508876935491, Val Loss: 0.8588190376758575, LR: 1.0926199633097156e-05, Duration: 77.51 sec\n"
     ]
    },
    {
     "name": "stderr",
     "output_type": "stream",
     "text": [
      "Epoch 95: 100%|██████████| 53/53 [01:13<00:00,  1.38s/it]\n"
     ]
    },
    {
     "name": "stdout",
     "output_type": "stream",
     "text": [
      "\tLoss: 1.9782500368244242, Val Loss: 0.8699328005313873, LR: 7.59612349389599e-06, Duration: 74.85 sec\n"
     ]
    },
    {
     "name": "stderr",
     "output_type": "stream",
     "text": [
      "Epoch 96: 100%|██████████| 53/53 [01:13<00:00,  1.39s/it]\n"
     ]
    },
    {
     "name": "stdout",
     "output_type": "stream",
     "text": [
      "\tLoss: 2.0078137494483084, Val Loss: 0.8576397895812988, LR: 4.865965629214819e-06, Duration: 75.10 sec\n"
     ]
    },
    {
     "name": "stderr",
     "output_type": "stream",
     "text": [
      "Epoch 97: 100%|██████████| 53/53 [01:12<00:00,  1.38s/it]\n"
     ]
    },
    {
     "name": "stdout",
     "output_type": "stream",
     "text": [
      "\tLoss: 1.8962106052434669, Val Loss: 0.8588118255138397, LR: 2.739052315863355e-06, Duration: 74.79 sec\n"
     ]
    },
    {
     "name": "stderr",
     "output_type": "stream",
     "text": [
      "Epoch 98: 100%|██████████| 53/53 [01:13<00:00,  1.38s/it]\n"
     ]
    },
    {
     "name": "stdout",
     "output_type": "stream",
     "text": [
      "\tLoss: 2.039293922343344, Val Loss: 0.9515936970710754, LR: 1.2179748700879012e-06, Duration: 74.77 sec\n"
     ]
    },
    {
     "name": "stderr",
     "output_type": "stream",
     "text": [
      "Epoch 99: 100%|██████████| 53/53 [01:12<00:00,  1.37s/it]\n"
     ]
    },
    {
     "name": "stdout",
     "output_type": "stream",
     "text": [
      "\tLoss: 1.8684807970838726, Val Loss: 0.8595839440822601, LR: 3.0458649045211895e-07, Duration: 74.08 sec\n"
     ]
    },
    {
     "name": "stderr",
     "output_type": "stream",
     "text": [
      "Epoch 100: 100%|██████████| 53/53 [01:11<00:00,  1.34s/it]\n"
     ]
    },
    {
     "name": "stdout",
     "output_type": "stream",
     "text": [
      "\tLoss: 1.8031088597369644, Val Loss: 0.8525019586086273, LR: 0.0, Duration: 72.55 sec\n",
      "Epoch 당 평균 소요시간 : 77.08초\n"
     ]
    }
   ],
   "source": [
    "training_time = 0\n",
    "losses = []\n",
    "val_losses = []\n",
    "lrs = []\n",
    "best_loss = float('inf')\n",
    "\n",
    "# GradScaler 초기화\n",
    "scaler = GradScaler()\n",
    "\n",
    "for epoch in range(epochs):\n",
    "    model.train()\n",
    "    start_time = time.time()\n",
    "    running_loss = 0.0\n",
    "    pbar = tqdm(enumerate(train_loader), total=len(train_loader), desc=f\"Epoch {epoch + 1}\")\n",
    "    \n",
    "    for _, data in pbar:\n",
    "        inputs, labels = data[0].to(device), data[1].to(device)\n",
    "        inputs, labels = mixup_fn(inputs, labels)\n",
    "        optimizer.zero_grad()\n",
    "\n",
    "        # AutoCast 적용\n",
    "        with autocast():\n",
    "            outputs = model(inputs)\n",
    "            loss = criterion(outputs, labels)\n",
    "            \n",
    "        # 스케일링된 그라디언트 계산\n",
    "        scaler.scale(loss).backward()\n",
    "\n",
    "        # 그라디언트 클리핑 전에 스케일링 제거\n",
    "        scaler.unscale_(optimizer)\n",
    "        clip_grad_norm_(model.parameters(), max_norm=max_norm)\n",
    "\n",
    "        # 옵티마이저 스텝 및 스케일러 업데이트\n",
    "        scaler.step(optimizer)\n",
    "        scaler.update()\n",
    "        scheduler.step()\n",
    "            \n",
    "        lr = optimizer.param_groups[0][\"lr\"]\n",
    "        lrs.append(lr)\n",
    "        running_loss += loss.item()\n",
    "\n",
    "    epoch_loss = running_loss / len(train_loader)\n",
    "    losses.append(epoch_loss)        \n",
    "\n",
    "    model.eval()\n",
    "    val_loss = 0.0\n",
    "    with torch.no_grad():\n",
    "        for data in valid_loader:\n",
    "            inputs, labels = data[0].to(device), data[1].to(device)\n",
    "            outputs = model(inputs)\n",
    "            loss = criterion(outputs, labels)\n",
    "            val_loss += loss.item()\n",
    "            \n",
    "    val_loss /= len(valid_loader)\n",
    "    val_losses.append(val_loss)\n",
    "    \n",
    "    # 모델 저장\n",
    "    if val_loss < best_loss:\n",
    "        best_loss = val_loss\n",
    "        vit_save = True\n",
    "        if vit_save:\n",
    "            torch.save(model.state_dict(), model_path)\n",
    "\n",
    "    epoch_duration = time.time() - start_time\n",
    "    training_time += epoch_duration\n",
    "    \n",
    "    text = f'\\tLoss: {epoch_loss}, Val Loss: {val_loss}, LR: {lr}, Duration: {epoch_duration:.2f} sec'\n",
    "    \n",
    "    if vit_save:\n",
    "        text += f' - model saved!'\n",
    "        vit_save = False\n",
    "\n",
    "    print(text)\n",
    "        \n",
    "text = f\"Epoch 당 평균 소요시간 : {training_time / epochs:.2f}초\"      \n",
    "print(text)"
   ]
  },
  {
   "cell_type": "code",
   "execution_count": 21,
   "metadata": {},
   "outputs": [
    {
     "data": {
      "text/html": [
       "<div>\n",
       "<style scoped>\n",
       "    .dataframe tbody tr th:only-of-type {\n",
       "        vertical-align: middle;\n",
       "    }\n",
       "\n",
       "    .dataframe tbody tr th {\n",
       "        vertical-align: top;\n",
       "    }\n",
       "\n",
       "    .dataframe thead th {\n",
       "        text-align: right;\n",
       "    }\n",
       "</style>\n",
       "<table border=\"1\" class=\"dataframe\">\n",
       "  <thead>\n",
       "    <tr style=\"text-align: right;\">\n",
       "      <th></th>\n",
       "      <th>Metric</th>\n",
       "      <th>Value</th>\n",
       "    </tr>\n",
       "  </thead>\n",
       "  <tbody>\n",
       "    <tr>\n",
       "      <th>0</th>\n",
       "      <td>Accuracy</td>\n",
       "      <td>0.830000</td>\n",
       "    </tr>\n",
       "    <tr>\n",
       "      <th>1</th>\n",
       "      <td>Precision</td>\n",
       "      <td>0.851464</td>\n",
       "    </tr>\n",
       "    <tr>\n",
       "      <th>2</th>\n",
       "      <td>Recall</td>\n",
       "      <td>0.830000</td>\n",
       "    </tr>\n",
       "    <tr>\n",
       "      <th>3</th>\n",
       "      <td>F1 Score</td>\n",
       "      <td>0.820164</td>\n",
       "    </tr>\n",
       "  </tbody>\n",
       "</table>\n",
       "</div>"
      ],
      "text/plain": [
       "      Metric     Value\n",
       "0   Accuracy  0.830000\n",
       "1  Precision  0.851464\n",
       "2     Recall  0.830000\n",
       "3   F1 Score  0.820164"
      ]
     },
     "execution_count": 21,
     "metadata": {},
     "output_type": "execute_result"
    }
   ],
   "source": [
    "# 예측 수행 및 레이블 저장\n",
    "all_preds = []\n",
    "all_labels = []\n",
    "with torch.no_grad():\n",
    "    for images, labels in test_loader:\n",
    "        images, labels = images.to(device), labels.to(device)\n",
    "        outputs = model(images)\n",
    "        _, predicted = torch.max(outputs, 1)\n",
    "        all_preds.extend(predicted.cpu().numpy())\n",
    "        all_labels.extend(labels.cpu().numpy())\n",
    "\n",
    "# 혼동 행렬 생성\n",
    "cm = confusion_matrix(all_labels, all_preds)\n",
    "\n",
    "# 예측과 실제 레이블\n",
    "y_true = all_labels  # 실제 레이블\n",
    "y_pred = all_preds  # 모델에 의해 예측된 레이블\n",
    "\n",
    "# 전체 데이터셋에 대한 정확도\n",
    "accuracy = accuracy_score(y_true, y_pred)\n",
    "\n",
    "# 평균 정밀도, 리콜, F1-Score ('weighted')\n",
    "precision, recall, f1_score, _ = precision_recall_fscore_support(y_true, y_pred, average='weighted')\n",
    "\n",
    "# 판다스 데이터프레임으로 결과 정리\n",
    "performance_metrics = pd.DataFrame({\n",
    "    'Metric': ['Accuracy', 'Precision', 'Recall', 'F1 Score'],\n",
    "    'Value': [accuracy, precision, recall, f1_score]\n",
    "})\n",
    "\n",
    "# 데이터프레임 출력\n",
    "performance_metrics"
   ]
  }
 ],
 "metadata": {
  "kernelspec": {
   "display_name": "Python 3",
   "language": "python",
   "name": "python3"
  },
  "language_info": {
   "codemirror_mode": {
    "name": "ipython",
    "version": 3
   },
   "file_extension": ".py",
   "mimetype": "text/x-python",
   "name": "python",
   "nbconvert_exporter": "python",
   "pygments_lexer": "ipython3",
   "version": "3.10.12"
  }
 },
 "nbformat": 4,
 "nbformat_minor": 2
}
