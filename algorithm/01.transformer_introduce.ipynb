{
 "cells": [
  {
   "cell_type": "markdown",
   "metadata": {},
   "source": [
    "# code 1 : Scaled dot Attention"
   ]
  },
  {
   "cell_type": "code",
   "execution_count": 9,
   "metadata": {},
   "outputs": [
    {
     "data": {
      "text/plain": [
       "(array([[1, 0, 1],\n",
       "        [0, 2, 0],\n",
       "        [1, 1, 1]]),\n",
       " array([[1, 0, 1],\n",
       "        [0, 2, 0],\n",
       "        [1, 1, 1]]),\n",
       " array([[1, 0, 1],\n",
       "        [0, 2, 0],\n",
       "        [1, 1, 1]]))"
      ]
     },
     "execution_count": 9,
     "metadata": {},
     "output_type": "execute_result"
    }
   ],
   "source": [
    "import numpy as np\n",
    "\n",
    "# 임의의 입력 벡터(임베딩)를 가정\n",
    "input_vectors = np.array([[1, 0, 1], [0, 2, 0], [1, 1, 1]])\n",
    "\n",
    "# 가중치 행렬 (임의로 설정)\n",
    "W_q = np.array([[1, 0, 0], [0, 1, 0], [0, 0, 1]])  # Q에 대한 가중치\n",
    "W_k = np.array([[1, 0, 0], [0, 1, 0], [0, 0, 1]])  # K에 대한 가중치\n",
    "W_v = np.array([[1, 0, 0], [0, 1, 0], [0, 0, 1]])  # V에 대한 가중치\n",
    "\n",
    "# Q, K, V 계산\n",
    "Q = np.dot(input_vectors, W_q)  # 쿼리\n",
    "K = np.dot(input_vectors, W_k)  # 키\n",
    "V = np.dot(input_vectors, W_v)  # 밸류\n",
    "\n",
    "# 스케일드 닷-프로덕트 어텐션 계산\n",
    "dk = K.shape[1]  # 키 벡터의 차원\n",
    "attention_scores = np.matmul(Q, K.T) / np.sqrt(dk)\n",
    "attention_weights = np.exp(attention_scores) / np.sum(np.exp(attention_scores), axis=1, keepdims=True)\n",
    "output = np.matmul(attention_weights, V)\n",
    "\n",
    "# 결과 확인\n",
    "Q, K, V"
   ]
  },
  {
   "cell_type": "code",
   "execution_count": 6,
   "metadata": {},
   "outputs": [
    {
     "data": {
      "text/plain": [
       "array([[0.4319371 , 0.1361258 , 0.4319371 ],\n",
       "       [0.07021749, 0.70697728, 0.22280523],\n",
       "       [0.26445846, 0.26445846, 0.47108308]])"
      ]
     },
     "execution_count": 6,
     "metadata": {},
     "output_type": "execute_result"
    }
   ],
   "source": [
    "attention_weights"
   ]
  },
  {
   "cell_type": "code",
   "execution_count": 7,
   "metadata": {},
   "outputs": [
    {
     "data": {
      "text/plain": [
       "array([[0.8638742 , 0.7041887 , 0.8638742 ],\n",
       "       [0.29302272, 1.63675979, 0.29302272],\n",
       "       [0.73554154, 1.        , 0.73554154]])"
      ]
     },
     "execution_count": 7,
     "metadata": {},
     "output_type": "execute_result"
    }
   ],
   "source": [
    "output"
   ]
  },
  {
   "cell_type": "markdown",
   "metadata": {},
   "source": [
    "# 2. Multi-Head Attention"
   ]
  },
  {
   "cell_type": "code",
   "execution_count": 33,
   "metadata": {},
   "outputs": [],
   "source": [
    "import torch\n",
    "import torch.nn as nn\n",
    "\n",
    "class MultiHeadAttentionWithMask(nn.Module):\n",
    "    def __init__(self, d_model, num_heads):\n",
    "        super(MultiHeadAttentionWithMask, self).__init__()\n",
    "        self.d_model = d_model\n",
    "        self.num_heads = num_heads\n",
    "        self.depth = d_model // num_heads\n",
    "\n",
    "        self.wq = nn.Linear(d_model, d_model)\n",
    "        self.wk = nn.Linear(d_model, d_model)\n",
    "        self.wv = nn.Linear(d_model, d_model)\n",
    "    \n",
    "    # 마스크 영역 생성을 위한 함수\n",
    "    def create_look_ahead_mask(self, size):\n",
    "        mask = torch.triu(torch.ones(size, size), diagonal=1)\n",
    "        return mask  \n",
    "    \n",
    "    # Multi-Head Attention을 위한 함수\n",
    "    def split_heads(self, x, batch_size):\n",
    "        x = x.view(batch_size, -1, self.num_heads, self.depth)\n",
    "        return x.permute(0, 2, 1, 3)\n",
    "    \n",
    "    def forward(self, q, k, v):\n",
    "        batch_size = q.size(0)\n",
    "\n",
    "        q = self.split_heads(self.wq(q), batch_size)\n",
    "        k = self.split_heads(self.wk(k), batch_size)\n",
    "        v = self.split_heads(self.wv(v), batch_size)\n",
    "\n",
    "        matmul_qk = torch.matmul(q, k.transpose(-2, -1))\n",
    "\n",
    "        # 마스크 적용 전 스코어\n",
    "        dk = torch.tensor(self.depth, dtype=torch.float32)\n",
    "        attention_before_mask = matmul_qk / torch.sqrt(dk)\n",
    "\n",
    "        # 마스크 영역\n",
    "        mask_area = self.create_look_ahead_mask(q.size(2))\n",
    "        matmul_qk += (mask_area * -1e9)\n",
    "\n",
    "        # 마스크 적용 후 스코어\n",
    "        attention_after_mask = matmul_qk / torch.sqrt(dk)\n",
    "\n",
    "        attention_weights = nn.functional.softmax(attention_after_mask, dim=-1)\n",
    "\n",
    "        output = torch.matmul(attention_weights, v)\n",
    "\n",
    "        output = output.permute(0, 2, 1, 3).contiguous()\n",
    "        output = output.view(batch_size, -1, self.d_model)\n",
    "\n",
    "        return attention_before_mask, attention_after_mask, mask_area, output\n",
    "\n",
    "# 모델 초기화\n",
    "d_model = 64\n",
    "num_heads = 4\n",
    "\n",
    "# 더미 입력 데이터 생성 (q, k, v)\n",
    "batch_size = 2\n",
    "seq_len = 10\n",
    "q = torch.rand(batch_size, seq_len, d_model)\n",
    "k = torch.rand(batch_size, seq_len, d_model)\n",
    "v = torch.rand(batch_size, seq_len, d_model)\n",
    "\n",
    "# 멀티헤드 어텐션 모델 초기화 (마스크 포함)\n",
    "multi_head_attn_with_mask = MultiHeadAttentionWithMask(d_model, num_heads)\n",
    "\n",
    "# 멀티헤드 어텐션에 마스크 적용하여 수행\n",
    "scores_before_mask, scores_after_mask, mask_area, output = multi_head_attn_with_mask(q, k, v)"
   ]
  },
  {
   "cell_type": "code",
   "execution_count": 32,
   "metadata": {},
   "outputs": [
    {
     "data": {
      "text/plain": [
       "tensor([[0., 1., 1., 1., 1., 1., 1., 1., 1., 1.],\n",
       "        [0., 0., 1., 1., 1., 1., 1., 1., 1., 1.],\n",
       "        [0., 0., 0., 1., 1., 1., 1., 1., 1., 1.],\n",
       "        [0., 0., 0., 0., 1., 1., 1., 1., 1., 1.],\n",
       "        [0., 0., 0., 0., 0., 1., 1., 1., 1., 1.],\n",
       "        [0., 0., 0., 0., 0., 0., 1., 1., 1., 1.],\n",
       "        [0., 0., 0., 0., 0., 0., 0., 1., 1., 1.],\n",
       "        [0., 0., 0., 0., 0., 0., 0., 0., 1., 1.],\n",
       "        [0., 0., 0., 0., 0., 0., 0., 0., 0., 1.],\n",
       "        [0., 0., 0., 0., 0., 0., 0., 0., 0., 0.]])"
      ]
     },
     "execution_count": 32,
     "metadata": {},
     "output_type": "execute_result"
    }
   ],
   "source": [
    "mask_area"
   ]
  },
  {
   "cell_type": "code",
   "execution_count": 39,
   "metadata": {},
   "outputs": [],
   "source": [
    "import torch\n",
    "\n",
    "# 출력 길이 설정\n",
    "torch.set_printoptions(linewidth=140)"
   ]
  },
  {
   "cell_type": "code",
   "execution_count": 40,
   "metadata": {},
   "outputs": [
    {
     "data": {
      "text/plain": [
       "tensor([[-1.5456e-02,  4.1445e-02,  3.5639e-04, -4.4191e-02, -3.3841e-03,  7.5077e-02,  6.1469e-02, -5.1129e-02,  2.8336e-02, -2.6438e-02],\n",
       "        [-7.7577e-02, -1.1581e-02, -6.0852e-02, -8.6383e-02, -6.6699e-02,  1.4562e-02, -2.7794e-03, -1.0405e-01, -2.9481e-02, -7.7760e-02],\n",
       "        [-1.8181e-02,  3.8231e-02, -5.2480e-04,  1.3417e-02, -1.0679e-05,  3.1950e-02,  4.4274e-02, -3.6149e-02,  4.6171e-02,  5.4952e-03],\n",
       "        [-1.9081e-01, -1.4831e-01, -1.5368e-01, -2.3596e-01, -1.9699e-01, -5.2835e-02, -7.0669e-02, -2.3505e-01, -1.1223e-01, -1.6724e-01],\n",
       "        [-8.6314e-03,  3.8139e-02, -2.5298e-02, -4.7316e-04, -8.1381e-02,  4.9788e-02,  4.4812e-02, -4.4572e-02,  9.3385e-03, -6.0012e-02],\n",
       "        [-1.4960e-01, -8.4267e-02, -1.3960e-01, -1.3799e-01, -1.1551e-01, -9.7467e-03, -3.0405e-02, -1.5251e-01, -6.4841e-02, -1.2215e-01],\n",
       "        [-1.7652e-01, -7.3223e-02, -1.5140e-01, -1.8178e-01, -1.2315e-01, -3.0111e-02, -1.1649e-01, -1.8518e-01, -1.1341e-01, -1.4087e-01],\n",
       "        [-2.1848e-02,  4.1641e-02, -4.1888e-02, -4.6538e-04, -4.6424e-02,  1.1684e-01,  3.5187e-02, -1.1062e-01,  6.3995e-02, -2.8281e-02],\n",
       "        [-5.9225e-02, -4.4329e-02, -5.9218e-02, -9.5778e-02, -1.0607e-01, -1.7878e-02, -3.0971e-02, -1.0823e-01, -4.1539e-02, -1.1044e-01],\n",
       "        [-9.3825e-02, -8.2601e-02, -8.0836e-02, -1.0074e-01, -1.6536e-01,  3.3626e-02,  2.8884e-02, -1.0452e-01, -2.8437e-02, -9.0287e-02]],\n",
       "       grad_fn=<SelectBackward0>)"
      ]
     },
     "execution_count": 40,
     "metadata": {},
     "output_type": "execute_result"
    }
   ],
   "source": [
    "scores_before_mask[0][0] # mask가 적용되지 않은 score"
   ]
  },
  {
   "cell_type": "code",
   "execution_count": 41,
   "metadata": {},
   "outputs": [
    {
     "data": {
      "text/plain": [
       "tensor([[-1.5456e-02, -2.5000e+08, -2.5000e+08, -2.5000e+08, -2.5000e+08, -2.5000e+08, -2.5000e+08, -2.5000e+08, -2.5000e+08, -2.5000e+08],\n",
       "        [-7.7577e-02, -1.1581e-02, -2.5000e+08, -2.5000e+08, -2.5000e+08, -2.5000e+08, -2.5000e+08, -2.5000e+08, -2.5000e+08, -2.5000e+08],\n",
       "        [-1.8181e-02,  3.8231e-02, -5.2480e-04, -2.5000e+08, -2.5000e+08, -2.5000e+08, -2.5000e+08, -2.5000e+08, -2.5000e+08, -2.5000e+08],\n",
       "        [-1.9081e-01, -1.4831e-01, -1.5368e-01, -2.3596e-01, -2.5000e+08, -2.5000e+08, -2.5000e+08, -2.5000e+08, -2.5000e+08, -2.5000e+08],\n",
       "        [-8.6314e-03,  3.8139e-02, -2.5298e-02, -4.7316e-04, -8.1381e-02, -2.5000e+08, -2.5000e+08, -2.5000e+08, -2.5000e+08, -2.5000e+08],\n",
       "        [-1.4960e-01, -8.4267e-02, -1.3960e-01, -1.3799e-01, -1.1551e-01, -9.7467e-03, -2.5000e+08, -2.5000e+08, -2.5000e+08, -2.5000e+08],\n",
       "        [-1.7652e-01, -7.3223e-02, -1.5140e-01, -1.8178e-01, -1.2315e-01, -3.0111e-02, -1.1649e-01, -2.5000e+08, -2.5000e+08, -2.5000e+08],\n",
       "        [-2.1848e-02,  4.1641e-02, -4.1888e-02, -4.6538e-04, -4.6424e-02,  1.1684e-01,  3.5187e-02, -1.1062e-01, -2.5000e+08, -2.5000e+08],\n",
       "        [-5.9225e-02, -4.4329e-02, -5.9218e-02, -9.5778e-02, -1.0607e-01, -1.7878e-02, -3.0971e-02, -1.0823e-01, -4.1539e-02, -2.5000e+08],\n",
       "        [-9.3825e-02, -8.2601e-02, -8.0836e-02, -1.0074e-01, -1.6536e-01,  3.3626e-02,  2.8884e-02, -1.0452e-01, -2.8437e-02, -9.0287e-02]],\n",
       "       grad_fn=<SelectBackward0>)"
      ]
     },
     "execution_count": 41,
     "metadata": {},
     "output_type": "execute_result"
    }
   ],
   "source": [
    "scores_after_mask[0][0]  # mask가 적용된 score"
   ]
  }
 ],
 "metadata": {
  "kernelspec": {
   "display_name": "Python 3",
   "language": "python",
   "name": "python3"
  },
  "language_info": {
   "codemirror_mode": {
    "name": "ipython",
    "version": 3
   },
   "file_extension": ".py",
   "mimetype": "text/x-python",
   "name": "python",
   "nbconvert_exporter": "python",
   "pygments_lexer": "ipython3",
   "version": "3.11.2"
  }
 },
 "nbformat": 4,
 "nbformat_minor": 2
}
