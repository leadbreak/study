{
  "cells": [
    {
      "cell_type": "markdown",
      "id": "195a8f9a",
      "metadata": {},
      "source": [
        "# Hymba Refactor — Clean Training & Ablation"
      ]
    },
    {
      "cell_type": "code",
      "execution_count": 1,
      "id": "a20958cc",
      "metadata": {},
      "outputs": [
        {
          "data": {
            "text/plain": [
              "'1'"
            ]
          },
          "execution_count": 1,
          "metadata": {},
          "output_type": "execute_result"
        }
      ],
      "source": [
        "import os, warnings, logging\n",
        "os.environ.setdefault(\"TOKENIZERS_PARALLELISM\", \"false\")   # fork 후 deadlock 경고 제거\n",
        "os.environ.setdefault(\"TF_CPP_MIN_LOG_LEVEL\", \"3\")         # TF 로그 억제\n",
        "os.environ.setdefault(\"HF_DATASETS_DISABLE_TF_WARNING\", \"1\")"
      ]
    },
    {
      "cell_type": "code",
      "execution_count": null,
      "id": "2a58f820",
      "metadata": {},
      "outputs": [],
      "source": [
        "import math, time\n",
        "import torch\n",
        "import pandas as pd\n",
        "\n",
        "from torch.utils.data import DataLoader, TensorDataset, random_split\n",
        "from datasets import load_dataset\n",
        "from tokenizers import Tokenizer\n",
        "from tokenizers.models import Unigram\n",
        "from tokenizers.trainers import UnigramTrainer\n",
        "from tokenizers.pre_tokenizers import Whitespace\n",
        "from tokenizers.normalizers import NFKC, Lowercase, Sequence as NormSeq\n",
        "from tokenizers.processors import TemplateProcessing\n",
        "from backbone.hymba_v1 import HymbaRef, ModelCfg"
      ]
    },
    {
      "cell_type": "code",
      "execution_count": 3,
      "id": "ae3779f3",
      "metadata": {},
      "outputs": [],
      "source": [
        "USE_AMP_DEVICE = \"cuda\"  # or \"cpu\" if no GPU"
      ]
    },
    {
      "cell_type": "code",
      "execution_count": 4,
      "id": "a1eaa0e7",
      "metadata": {},
      "outputs": [],
      "source": [
        "# 로깅/워닝 억제\n",
        "warnings.filterwarnings(\"ignore\", category=FutureWarning)\n",
        "warnings.filterwarnings(\"ignore\", message=\"pkg_resources is deprecated as an API\", category=UserWarning)\n",
        "logging.getLogger().setLevel(logging.ERROR)   # JIT 커널 불러오기 경고 포함 대부분 억제\n",
        "\n",
        "# DataLoader는 num_workers=0 권장(토크나이저 포크 경고 방지)\n",
        "DATALOADER_NUM_WORKERS = 0\n",
        "PIN_MEMORY = True"
      ]
    },
    {
      "cell_type": "code",
      "execution_count": 5,
      "id": "2368698c",
      "metadata": {},
      "outputs": [],
      "source": [
        "device = torch.device(\"cuda\" if torch.cuda.is_available() else \"cpu\")\n",
        "torch.manual_seed(42); \n",
        "if torch.cuda.is_available(): torch.cuda.manual_seed_all(42)"
      ]
    },
    {
      "cell_type": "code",
      "execution_count": 6,
      "id": "3b057b78",
      "metadata": {},
      "outputs": [],
      "source": [
        "# 1) Unigram tokenizer (compact)\n",
        "def get_corpus(spec:str):\n",
        "    try:\n",
        "        ds = load_dataset(spec)\n",
        "        for k in [\"text\",\"content\",\"document\",\"raw\",\"data\"]:\n",
        "            if k in ds[\"train\"].column_names:\n",
        "                return \"\\n\\n\".join(ds[\"train\"][k])\n",
        "        return \"\\n\\n\".join(map(str, ds[\"train\"][:1000]))\n",
        "    except Exception:\n",
        "        with open(spec, \"r\", encoding=\"utf-8\", errors=\"ignore\") as f:\n",
        "            return f.read()"
      ]
    },
    {
      "cell_type": "code",
      "execution_count": 7,
      "id": "0800cf65",
      "metadata": {},
      "outputs": [],
      "source": [
        "def train_unigram(text, vocab_size=16000,\n",
        "                  bos=\"<|bos|>\", eos=\"<|eos|>\", pad=\"<|pad|>\", unk=\"<|unk|>\"):\n",
        "    # 1) 모델/전처리\n",
        "    tok = Tokenizer(Unigram())\n",
        "    tok.normalizer = NormSeq([NFKC(), Lowercase()])\n",
        "    tok.pre_tokenizer = Whitespace()\n",
        "\n",
        "    # 2) 트레이너: UNK 반드시 지정 + 특수토큰 등록\n",
        "    trainer = UnigramTrainer(\n",
        "        vocab_size=vocab_size,\n",
        "        special_tokens=[pad, bos, eos, unk],\n",
        "        unk_token=unk\n",
        "    )\n",
        "\n",
        "    # 3) 한 번만 학습 (iterator로 스트리밍)\n",
        "    def it():\n",
        "        bs = 1_000_000\n",
        "        for i in range(0, len(text), bs):\n",
        "            yield text[i:i+bs]\n",
        "    tok.train_from_iterator(it(), trainer=trainer)\n",
        "\n",
        "    # 4) ID 조회 및 후처리\n",
        "    pad_id = tok.token_to_id(pad)\n",
        "    bos_id = tok.token_to_id(bos)\n",
        "    eos_id = tok.token_to_id(eos)\n",
        "    unk_id = tok.token_to_id(unk)\n",
        "\n",
        "    tok.post_processor = TemplateProcessing(\n",
        "        single=f\"{bos} $A {eos}\",\n",
        "        pair=f\"{bos} $A {eos} $B:1 {eos}:1\",\n",
        "        special_tokens=[(bos, bos_id), (eos, eos_id)],\n",
        "    )\n",
        "\n",
        "    class ModernTok:\n",
        "        def __init__(self, tk, bos_id, eos_id, pad_id, unk_id):\n",
        "            self.tk = tk\n",
        "            self.bos_token_id = bos_id\n",
        "            self.eos_token_id = eos_id\n",
        "            self.pad_token_id = pad_id\n",
        "            self.unk_token_id = unk_id\n",
        "        def encode(self, s): return self.tk.encode(s).ids\n",
        "        def decode(self, ids): return self.tk.decode(ids)\n",
        "        @property\n",
        "        def vocab_size(self): return self.tk.get_vocab_size()\n",
        "\n",
        "    return ModernTok(tok, bos_id, eos_id, pad_id, unk_id)"
      ]
    },
    {
      "cell_type": "code",
      "execution_count": 8,
      "id": "32a8aa32",
      "metadata": {},
      "outputs": [
        {
          "name": "stdout",
          "output_type": "stream",
          "text": [
            "\n",
            "\n",
            "vocab: 5590\n"
          ]
        }
      ],
      "source": [
        "corpus = get_corpus(\"karpathy/tiny_shakespeare\")\n",
        "tok = train_unigram(corpus, vocab_size=8000)\n",
        "VOCAB = tok.vocab_size; EOS = tok.eos_token_id\n",
        "print(\"vocab:\", VOCAB)"
      ]
    },
    {
      "cell_type": "code",
      "execution_count": 9,
      "id": "5c6ba63e",
      "metadata": {},
      "outputs": [],
      "source": [
        "# 2) chunk & loaders\n",
        "def chunk(text, L=512):\n",
        "    ids = tok.encode(text)\n",
        "    n = (len(ids)//L)*L; ids = ids[:n]\n",
        "    import numpy as np\n",
        "    arr = np.array(ids, dtype=np.int64).reshape(-1, L)\n",
        "    y = np.copy(arr); y[:, :-1] = arr[:, 1:]; y[:, -1] = EOS\n",
        "    X=torch.tensor(arr); Y=torch.tensor(y)\n",
        "    return TensorDataset(X,Y)"
      ]
    },
    {
      "cell_type": "code",
      "execution_count": 10,
      "id": "6486680e",
      "metadata": {},
      "outputs": [],
      "source": [
        "ds_full = chunk(corpus, 512)\n",
        "train_len = int(0.95*len(ds_full)); val_len = len(ds_full)-train_len\n",
        "train_ds, val_ds = random_split(ds_full, [train_len, val_len])\n",
        "\n",
        "train_dl = DataLoader(train_ds, batch_size=64, shuffle=True,\n",
        "                      num_workers=DATALOADER_NUM_WORKERS, pin_memory=PIN_MEMORY, drop_last=True)\n",
        "val_dl   = DataLoader(val_ds, batch_size=64, shuffle=False,\n",
        "                      num_workers=DATALOADER_NUM_WORKERS, pin_memory=PIN_MEMORY)"
      ]
    },
    {
      "cell_type": "code",
      "execution_count": 11,
      "id": "be1447c7",
      "metadata": {},
      "outputs": [],
      "source": [
        "# 3) training utilities\n",
        "def run(cfg:ModelCfg, title:str, steps:int=150, lr=3e-4, wd=0.1, warmup=40, amp=True):\n",
        "    model = HymbaRef(cfg).to(device)\n",
        "    opt = torch.optim.AdamW(model.parameters(), lr=lr, weight_decay=wd, betas=(0.9,0.95), eps=1e-8)\n",
        "    from transformers import get_cosine_schedule_with_warmup\n",
        "    sch = get_cosine_schedule_with_warmup(opt, warmup, steps)\n",
        "    scaler = torch.amp.GradScaler(device=USE_AMP_DEVICE, enabled=amp)\n",
        "\n",
        "    step=0; t0=time.time(); tok_count=0; lossm=0.0; cnt=0\n",
        "    model.train()\n",
        "    for xb,yb in train_dl:\n",
        "        xb, yb = xb.to(device), yb.to(device)\n",
        "        with torch.amp.autocast(device_type=USE_AMP_DEVICE, enabled=True):\n",
        "            out = model(xb, targets=yb); loss = out[\"loss\"]\n",
        "        lossm += loss.item(); cnt += 1\n",
        "        scaler.scale(loss).backward()\n",
        "        scaler.unscale_(opt)\n",
        "        torch.nn.utils.clip_grad_norm_(model.parameters(), 1.0)\n",
        "        scaler.step(opt); scaler.update(); opt.zero_grad(set_to_none=True); sch.step()\n",
        "        step += 1; tok_count += xb.numel()\n",
        "        if step>=steps: break\n",
        "    train_loss = lossm/max(1,cnt)\n",
        "    elapsed = time.time()-t0\n",
        "    tps = tok_count/max(1e-9, elapsed)\n",
        "\n",
        "    # eval with consistent averaging\n",
        "    model.eval(); nll=0.0; n_tok=0\n",
        "    with torch.no_grad(), torch.amp.autocast(device_type=USE_AMP_DEVICE, enabled=True):\n",
        "        for xb,yb in val_dl:\n",
        "            xb, yb = xb.to(device), yb.to(device)\n",
        "            out = model(xb, targets=yb); loss = out[\"loss\"]\n",
        "            nll += loss.item()*xb.numel(); n_tok += xb.numel()\n",
        "    val_loss = nll/max(1,n_tok); ppl = math.exp(val_loss)\n",
        "\n",
        "    # KV cache estimate (inference)\n",
        "    cache_mb = model.estimate_kv_cache_mb(seq_len=512)\n",
        "    return dict(title=title, train_loss=train_loss, val_loss=val_loss, ppl=ppl, time=elapsed, mem=cache_mb)"
      ]
    },
    {
      "cell_type": "code",
      "execution_count": 12,
      "id": "7b541305",
      "metadata": {},
      "outputs": [],
      "source": [
        "# 4) experiment grid (cleaned & minimal)\n",
        "base = dict(vocab_size=VOCAB, d_model=512, n_layers=12, n_heads=8, n_kv_heads=4,\n",
        "            attn_dim=256, mamba_dim=256, swa_layers=None, swa_window=256,\n",
        "            num_meta_tokens=4, meta_dropout=0.1, kv_share=True, fusion=\"mean\")\n",
        "\n",
        "exps = [\n",
        "    (\"BASE: partial-SWA + KVshare + Meta + Hybrid\",\n",
        "     dict(attn_dim=256, mamba_dim=256, swa_layers=None, kv_share=True, num_meta_tokens=4, fusion=\"mean\")),\n",
        "    (\"NO-KVSHARE\",\n",
        "     dict(attn_dim=256, mamba_dim=256, swa_layers=None, kv_share=False, num_meta_tokens=4, fusion=\"mean\")),\n",
        "    (\"NO-META\",\n",
        "     dict(attn_dim=256, mamba_dim=256, swa_layers=None, kv_share=True, num_meta_tokens=0, fusion=\"mean\")),\n",
        "    (\"WEAK-SWA(window=256)\",\n",
        "     dict(attn_dim=256, mamba_dim=256, swa_layers=None, kv_share=True, num_meta_tokens=4, fusion=\"mean\")),\n",
        "]"
      ]
    },
    {
      "cell_type": "code",
      "execution_count": null,
      "id": "775c7c99",
      "metadata": {},
      "outputs": [
        {
          "data": {
            "text/html": [
              "<div>\n",
              "<style scoped>\n",
              "    .dataframe tbody tr th:only-of-type {\n",
              "        vertical-align: middle;\n",
              "    }\n",
              "\n",
              "    .dataframe tbody tr th {\n",
              "        vertical-align: top;\n",
              "    }\n",
              "\n",
              "    .dataframe thead th {\n",
              "        text-align: right;\n",
              "    }\n",
              "</style>\n",
              "<table border=\"1\" class=\"dataframe\">\n",
              "  <thead>\n",
              "    <tr style=\"text-align: right;\">\n",
              "      <th></th>\n",
              "      <th>title</th>\n",
              "      <th>train_loss</th>\n",
              "      <th>val_loss</th>\n",
              "      <th>ppl</th>\n",
              "      <th>time</th>\n",
              "      <th>mem</th>\n",
              "    </tr>\n",
              "  </thead>\n",
              "  <tbody>\n",
              "    <tr>\n",
              "      <th>0</th>\n",
              "      <td>BASE: partial-SWA + KVshare + Meta + Hybrid</td>\n",
              "      <td>8.675230</td>\n",
              "      <td>8.379238</td>\n",
              "      <td>4355.689187</td>\n",
              "      <td>5.489295</td>\n",
              "      <td>1.5</td>\n",
              "    </tr>\n",
              "    <tr>\n",
              "      <th>1</th>\n",
              "      <td>NO-KVSHARE</td>\n",
              "      <td>8.679866</td>\n",
              "      <td>8.387218</td>\n",
              "      <td>4390.588165</td>\n",
              "      <td>3.706423</td>\n",
              "      <td>3.0</td>\n",
              "    </tr>\n",
              "    <tr>\n",
              "      <th>2</th>\n",
              "      <td>NO-META</td>\n",
              "      <td>8.688317</td>\n",
              "      <td>8.402307</td>\n",
              "      <td>4457.335998</td>\n",
              "      <td>3.978421</td>\n",
              "      <td>1.5</td>\n",
              "    </tr>\n",
              "    <tr>\n",
              "      <th>3</th>\n",
              "      <td>WEAK-SWA(window=256)</td>\n",
              "      <td>8.706653</td>\n",
              "      <td>8.410793</td>\n",
              "      <td>4495.325259</td>\n",
              "      <td>3.710657</td>\n",
              "      <td>1.5</td>\n",
              "    </tr>\n",
              "  </tbody>\n",
              "</table>\n",
              "</div>"
            ],
            "text/plain": [
              "                                         title  train_loss  val_loss  \\\n",
              "0  BASE: partial-SWA + KVshare + Meta + Hybrid    8.675230  8.379238   \n",
              "1                                   NO-KVSHARE    8.679866  8.387218   \n",
              "2                                      NO-META    8.688317  8.402307   \n",
              "3                         WEAK-SWA(window=256)    8.706653  8.410793   \n",
              "\n",
              "           ppl      time  mem  \n",
              "0  4355.689187  5.489295  1.5  \n",
              "1  4390.588165  3.706423  3.0  \n",
              "2  4457.335998  3.978421  1.5  \n",
              "3  4495.325259  3.710657  1.5  "
            ]
          },
          "execution_count": 13,
          "metadata": {},
          "output_type": "execute_result"
        }
      ],
      "source": [
        "rows = []\n",
        "for title, override in exps:\n",
        "    cfg = ModelCfg(**{**base, **override})\n",
        "    rows.append(run(cfg, title=title, steps=1000, lr=3e-4, warmup=40, amp=True))\n",
        "\n",
        "df = pd.DataFrame(rows)\n",
        "df\n"
      ]
    },
    {
      "cell_type": "code",
      "execution_count": 14,
      "id": "e0bcda4b",
      "metadata": {},
      "outputs": [
        {
          "data": {
            "text/html": [
              "<div>\n",
              "<style scoped>\n",
              "    .dataframe tbody tr th:only-of-type {\n",
              "        vertical-align: middle;\n",
              "    }\n",
              "\n",
              "    .dataframe tbody tr th {\n",
              "        vertical-align: top;\n",
              "    }\n",
              "\n",
              "    .dataframe thead th {\n",
              "        text-align: right;\n",
              "    }\n",
              "</style>\n",
              "<table border=\"1\" class=\"dataframe\">\n",
              "  <thead>\n",
              "    <tr style=\"text-align: right;\">\n",
              "      <th></th>\n",
              "      <th>title</th>\n",
              "      <th>train_loss</th>\n",
              "      <th>val_loss</th>\n",
              "      <th>ppl</th>\n",
              "      <th>time</th>\n",
              "      <th>mem</th>\n",
              "    </tr>\n",
              "  </thead>\n",
              "  <tbody>\n",
              "    <tr>\n",
              "      <th>0</th>\n",
              "      <td>BASE: partial-SWA + KVshare + Meta + Hybrid</td>\n",
              "      <td>8.685378</td>\n",
              "      <td>8.392913</td>\n",
              "      <td>4415.661203</td>\n",
              "      <td>3.713562</td>\n",
              "      <td>1.5</td>\n",
              "    </tr>\n",
              "    <tr>\n",
              "      <th>1</th>\n",
              "      <td>NO-KVSHARE</td>\n",
              "      <td>8.694437</td>\n",
              "      <td>8.392723</td>\n",
              "      <td>4414.823273</td>\n",
              "      <td>3.709999</td>\n",
              "      <td>3.0</td>\n",
              "    </tr>\n",
              "    <tr>\n",
              "      <th>2</th>\n",
              "      <td>NO-META</td>\n",
              "      <td>8.695388</td>\n",
              "      <td>8.388641</td>\n",
              "      <td>4396.839900</td>\n",
              "      <td>3.058880</td>\n",
              "      <td>1.5</td>\n",
              "    </tr>\n",
              "    <tr>\n",
              "      <th>3</th>\n",
              "      <td>WEAK-SWA(window=256)</td>\n",
              "      <td>8.719850</td>\n",
              "      <td>8.410230</td>\n",
              "      <td>4492.792311</td>\n",
              "      <td>3.711063</td>\n",
              "      <td>1.5</td>\n",
              "    </tr>\n",
              "  </tbody>\n",
              "</table>\n",
              "</div>"
            ],
            "text/plain": [
              "                                         title  train_loss  val_loss  \\\n",
              "0  BASE: partial-SWA + KVshare + Meta + Hybrid    8.685378  8.392913   \n",
              "1                                   NO-KVSHARE    8.694437  8.392723   \n",
              "2                                      NO-META    8.695388  8.388641   \n",
              "3                         WEAK-SWA(window=256)    8.719850  8.410230   \n",
              "\n",
              "           ppl      time  mem  \n",
              "0  4415.661203  3.713562  1.5  \n",
              "1  4414.823273  3.709999  3.0  \n",
              "2  4396.839900  3.058880  1.5  \n",
              "3  4492.792311  3.711063  1.5  "
            ]
          },
          "execution_count": 14,
          "metadata": {},
          "output_type": "execute_result"
        }
      ],
      "source": [
        "rows = []\n",
        "for title, override in exps:\n",
        "    cfg = ModelCfg(**{**base, **override})\n",
        "    rows.append(run(cfg, title=title, steps=10000, lr=3e-4, warmup=40, amp=True))\n",
        "\n",
        "df = pd.DataFrame(rows)\n",
        "df\n"
      ]
    }
  ],
  "metadata": {
    "kernelspec": {
      "display_name": "Python 3",
      "language": "python",
      "name": "python3"
    },
    "language_info": {
      "codemirror_mode": {
        "name": "ipython",
        "version": 3
      },
      "file_extension": ".py",
      "mimetype": "text/x-python",
      "name": "python",
      "nbconvert_exporter": "python",
      "pygments_lexer": "ipython3",
      "version": "3.10.12"
    }
  },
  "nbformat": 4,
  "nbformat_minor": 5
}
