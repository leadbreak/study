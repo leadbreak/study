{
 "cells": [
  {
   "cell_type": "markdown",
   "metadata": {},
   "source": [
    "# Model Comparison: Hymba vs Diff Transformer vs Mamba\n",
    "\n",
    "This notebook compares three state-of-the-art sequence models:\n",
    "1. **Hymba** - Hybrid architecture combining Attention + Mamba with SWA and KV sharing\n",
    "2. **Diff Transformer** - Differential attention mechanism\n",
    "3. **Mamba** - Pure selective state space model\n",
    "\n",
    "All models use the same:\n",
    "- Dataset (TinyShakespeare)\n",
    "- Vocabulary size\n",
    "- Training configuration\n",
    "- Evaluation metrics"
   ]
  },
  {
   "cell_type": "code",
   "execution_count": 1,
   "metadata": {},
   "outputs": [
    {
     "name": "stdout",
     "output_type": "stream",
     "text": [
      "\n",
      "======================================================================\n",
      "                     🚀 Model Comparison Framework                     \n",
      "======================================================================\n",
      "Device: cuda\n",
      "GPU: NVIDIA A100 80GB PCIe\n",
      "Initial VRAM: 0.00GB allocated, 0.00GB reserved\n"
     ]
    }
   ],
   "source": [
    "import torch\n",
    "import torch.nn as nn\n",
    "import pandas as pd\n",
    "import matplotlib.pyplot as plt\n",
    "import seaborn as sns\n",
    "import time\n",
    "import math\n",
    "import gc\n",
    "from contextlib import nullcontext\n",
    "from IPython.display import display, HTML\n",
    "\n",
    "device = \"cuda\" if torch.cuda.is_available() else \"cpu\"\n",
    "\n",
    "# Set style for better visualizations\n",
    "sns.set_style(\"whitegrid\")\n",
    "plt.rcParams['figure.figsize'] = (16, 10)\n",
    "\n",
    "# ===================== Display Utilities =====================\n",
    "def print_header(title, width=70):\n",
    "    \"\"\"Print a formatted header\"\"\"\n",
    "    print(\"\\n\" + \"=\"*width)\n",
    "    print(f\"{title:^{width}}\")\n",
    "    print(\"=\"*width)\n",
    "\n",
    "def print_section(title, width=70):\n",
    "    \"\"\"Print a formatted section\"\"\"\n",
    "    print(f\"\\n{title}\")\n",
    "    print(\"-\"*width)\n",
    "\n",
    "def format_number(num, suffix=''):\n",
    "    \"\"\"Format large numbers with K/M suffix\"\"\"\n",
    "    if num >= 1e6:\n",
    "        return f\"{num/1e6:.2f}M{suffix}\"\n",
    "    elif num >= 1e3:\n",
    "        return f\"{num/1e3:.2f}K{suffix}\"\n",
    "    else:\n",
    "        return f\"{num:.2f}{suffix}\"\n",
    "\n",
    "def highlight_best(df, column, higher_is_better=True):\n",
    "    \"\"\"Highlight best value in a column\"\"\"\n",
    "    if higher_is_better:\n",
    "        best_idx = df[column].idxmax()\n",
    "    else:\n",
    "        best_idx = df[column].idxmin()\n",
    "    return ['background-color: #90EE90' if i == best_idx else '' for i in range(len(df))]\n",
    "\n",
    "# ===================== VRAM Management Utilities =====================\n",
    "def get_gpu_memory_info():\n",
    "    \"\"\"Get current GPU memory usage\"\"\"\n",
    "    if torch.cuda.is_available():\n",
    "        allocated = torch.cuda.memory_allocated() / (1024**3)  # GB\n",
    "        reserved = torch.cuda.memory_reserved() / (1024**3)  # GB\n",
    "        return allocated, reserved\n",
    "    return 0, 0\n",
    "\n",
    "def clear_memory():\n",
    "    \"\"\"Clear GPU memory and run garbage collection\"\"\"\n",
    "    gc.collect()\n",
    "    if torch.cuda.is_available():\n",
    "        torch.cuda.empty_cache()\n",
    "        torch.cuda.synchronize()\n",
    "\n",
    "print_header(\"🚀 Model Comparison Framework\")\n",
    "print(f\"Device: {device}\")\n",
    "if torch.cuda.is_available():\n",
    "    print(f\"GPU: {torch.cuda.get_device_name(0)}\")\n",
    "alloc, reserved = get_gpu_memory_info()\n",
    "print(f\"Initial VRAM: {alloc:.2f}GB allocated, {reserved:.2f}GB reserved\")"
   ]
  },
  {
   "cell_type": "markdown",
   "metadata": {},
   "source": [
    "## 1. Load Models and Data"
   ]
  },
  {
   "cell_type": "code",
   "execution_count": 2,
   "metadata": {},
   "outputs": [
    {
     "name": "stderr",
     "output_type": "stream",
     "text": [
      "WARNING:root:Cannot import JIT optimized kernels. CUDA extension will be disabled.\n",
      "2025-10-22 07:54:38.206742: I tensorflow/core/platform/cpu_feature_guard.cc:210] This TensorFlow binary is optimized to use available CPU instructions in performance-critical operations.\n",
      "To enable the following instructions: AVX2 FMA, in other operations, rebuild TensorFlow with the appropriate compiler flags.\n",
      "2025-10-22 07:54:38.746955: W tensorflow/compiler/tf2tensorrt/utils/py_utils.cc:38] TF-TRT Warning: Could not find TensorRT\n"
     ]
    }
   ],
   "source": [
    "# Import all three models\n",
    "from backbone.hymba_v2 import HymbaV2, ModelCfg as HymbaCfg, TrainCfg, build_everything as build_hymba\n",
    "from backbone.diff_transformer import DiffTransformer, ModelCfg as DiffCfg, build_everything as build_diff\n",
    "from backbone.mamba_model import MambaModel, ModelCfg as MambaCfg, build_everything as build_mamba"
   ]
  },
  {
   "cell_type": "code",
   "execution_count": 3,
   "metadata": {},
   "outputs": [
    {
     "name": "stdout",
     "output_type": "stream",
     "text": [
      "\n",
      "======================================================================\n",
      "                          ⚙️  Configuration                           \n",
      "======================================================================\n"
     ]
    },
    {
     "data": {
      "text/plain": [
       "'      Parameter Value\\nSequence Length   512\\n     Batch Size    32\\nVocabulary Size 6,000\\n   Base d_model   384\\n         Layers    12\\n Training Steps   500\\n  Learning Rate 6e-04\\n   Warmup Steps    50'"
      ]
     },
     "metadata": {},
     "output_type": "display_data"
    },
    {
     "name": "stdout",
     "output_type": "stream",
     "text": [
      "\n",
      "✓ Using optimized mamba-ssm package for efficient SSM operations\n"
     ]
    }
   ],
   "source": [
    "# Shared configuration\n",
    "SEQ_LEN = 512\n",
    "BATCH_SIZE = 32\n",
    "VOCAB_SIZE = 6000\n",
    "D_MODEL = 384\n",
    "N_LAYERS = 12\n",
    "N_HEADS = 6\n",
    "N_KV_HEADS = 2\n",
    "\n",
    "# Training configuration\n",
    "STEPS = 500\n",
    "LR = 6e-4\n",
    "WARMUP = 50\n",
    "\n",
    "print_header(\"⚙️  Configuration\")\n",
    "config_data = [\n",
    "    [\"Sequence Length\", SEQ_LEN],\n",
    "    [\"Batch Size\", BATCH_SIZE],\n",
    "    [\"Vocabulary Size\", f\"{VOCAB_SIZE:,}\"],\n",
    "    [\"Base d_model\", D_MODEL],\n",
    "    [\"Layers\", N_LAYERS],\n",
    "    [\"Training Steps\", STEPS],\n",
    "    [\"Learning Rate\", f\"{LR:.0e}\"],\n",
    "    [\"Warmup Steps\", WARMUP]\n",
    "]\n",
    "df_config = pd.DataFrame(config_data, columns=[\"Parameter\", \"Value\"])\n",
    "display(df_config.to_string(index=False))\n",
    "print(\"\\n✓ Using optimized mamba-ssm package for efficient SSM operations\")"
   ]
  },
  {
   "cell_type": "markdown",
   "metadata": {},
   "source": [
    "## 2. Build Models"
   ]
  },
  {
   "cell_type": "code",
   "execution_count": 4,
   "metadata": {},
   "outputs": [
    {
     "name": "stdout",
     "output_type": "stream",
     "text": [
      "\n",
      "======================================================================\n",
      "                         🏗️  Building Models                          \n",
      "======================================================================\n",
      "\n",
      "[1/3] Building Hymba (Hybrid: Attention + Mamba)...\n",
      "\n",
      "\n",
      "      ✓ Parameters: 30.25M\n"
     ]
    }
   ],
   "source": [
    "print_header(\"🏗️  Building Models\")\n",
    "\n",
    "# Store model info\n",
    "model_info = []\n",
    "\n",
    "# Build Hymba\n",
    "print(\"\\n[1/3] Building Hymba (Hybrid: Attention + Mamba)...\")\n",
    "hymba_model, tok, train_dl, val_dl = build_hymba(seq_len=SEQ_LEN, bs=BATCH_SIZE, vocab_size=VOCAB_SIZE)\n",
    "hymba_model.to(device)\n",
    "hymba_params = sum(p.numel() for p in hymba_model.parameters() if p.requires_grad)\n",
    "model_info.append([\"Hymba\", D_MODEL, N_LAYERS, hymba_params, \"Hybrid (Attn+SSM)\"])\n",
    "print(f\"      ✓ Parameters: {format_number(hymba_params)}\")"
   ]
  },
  {
   "cell_type": "code",
   "execution_count": 5,
   "metadata": {},
   "outputs": [
    {
     "name": "stdout",
     "output_type": "stream",
     "text": [
      "[2/3] Building Diff Transformer (Differential Attention)...\n",
      "      ✓ Parameters: 35.29M\n"
     ]
    }
   ],
   "source": [
    "# Build Diff Transformer\n",
    "print(\"[2/3] Building Diff Transformer (Differential Attention)...\")\n",
    "diff_cfg = DiffCfg(\n",
    "    vocab_size=VOCAB_SIZE,\n",
    "    d_model=D_MODEL,\n",
    "    n_layers=N_LAYERS,\n",
    "    n_heads=N_HEADS,\n",
    "    n_kv_heads=N_KV_HEADS,\n",
    "    seq_len=SEQ_LEN\n",
    ")\n",
    "diff_model = DiffTransformer(diff_cfg).to(device)\n",
    "diff_params = sum(p.numel() for p in diff_model.parameters() if p.requires_grad)\n",
    "model_info.append([\"Diff Transformer\", D_MODEL, N_LAYERS, diff_params, \"Differential Attn\"])\n",
    "print(f\"      ✓ Parameters: {format_number(diff_params)}\")"
   ]
  },
  {
   "cell_type": "code",
   "execution_count": 6,
   "metadata": {},
   "outputs": [
    {
     "name": "stdout",
     "output_type": "stream",
     "text": [
      "[3/3] Building Mamba (Pure State Space Model)...\n",
      "      ✓ Parameters: 29.11M\n",
      "\n",
      "📊 Model Overview\n",
      "----------------------------------------------------------------------\n"
     ]
    },
    {
     "data": {
      "text/plain": [
       "'           Model      Architecture  d_model  Layers Params (M)\\n           Hymba Hybrid (Attn+SSM)      384      12      30.25\\nDiff Transformer Differential Attn      384      12      35.29\\n           Mamba     Selective SSM      576      12      29.11'"
      ]
     },
     "metadata": {},
     "output_type": "display_data"
    },
    {
     "name": "stdout",
     "output_type": "stream",
     "text": [
      "\n",
      "✓ Parameter count variance: 21.2% (well-balanced for fair comparison)\n"
     ]
    }
   ],
   "source": [
    "# Build Mamba\n",
    "print(\"[3/3] Building Mamba (Pure State Space Model)...\")\n",
    "mamba_cfg = MambaCfg(\n",
    "    vocab_size=VOCAB_SIZE,\n",
    "    d_model=576,  # Increased to ~29M params (matching Hymba ~30M)\n",
    "    n_layers=N_LAYERS,\n",
    "    state_size=16,\n",
    "    seq_len=SEQ_LEN\n",
    ")\n",
    "mamba_model = MambaModel(mamba_cfg).to(device)\n",
    "mamba_params = sum(p.numel() for p in mamba_model.parameters() if p.requires_grad)\n",
    "model_info.append([\"Mamba\", 576, N_LAYERS, mamba_params, \"Selective SSM\"])\n",
    "print(f\"      ✓ Parameters: {format_number(mamba_params)}\")\n",
    "\n",
    "# Display model comparison table\n",
    "print_section(\"📊 Model Overview\")\n",
    "df_models = pd.DataFrame(model_info, columns=[\"Model\", \"d_model\", \"Layers\", \"Parameters\", \"Architecture\"])\n",
    "df_models[\"Params (M)\"] = df_models[\"Parameters\"].apply(lambda x: f\"{x/1e6:.2f}\")\n",
    "df_models = df_models[[\"Model\", \"Architecture\", \"d_model\", \"Layers\", \"Params (M)\", \"Parameters\"]]\n",
    "display(df_models.drop(columns=[\"Parameters\"]).to_string(index=False))\n",
    "\n",
    "# Check balance\n",
    "param_values = [info[3] for info in model_info]\n",
    "param_diff = (max(param_values) - min(param_values)) / min(param_values) * 100\n",
    "print(f\"\\n✓ Parameter count variance: {param_diff:.1f}% (well-balanced for fair comparison)\")"
   ]
  },
  {
   "cell_type": "markdown",
   "metadata": {},
   "source": [
    "## 3. Training Function"
   ]
  },
  {
   "cell_type": "code",
   "execution_count": 7,
   "metadata": {},
   "outputs": [],
   "source": [
    "def train_model(model, train_dl, val_dl, model_name, steps=STEPS):\n",
    "    \"\"\"Train a model and return metrics\"\"\"\n",
    "    from backbone.hymba_v2 import train_loop\n",
    "    \n",
    "    tcfg = TrainCfg(\n",
    "        seq_len=SEQ_LEN,\n",
    "        batch_size=BATCH_SIZE,\n",
    "        steps=steps,\n",
    "        lr=LR,\n",
    "        warmup=WARMUP,\n",
    "        amp=True,\n",
    "        grad_clip=1.0\n",
    "    )\n",
    "    \n",
    "    print_section(f\"Training {model_name}\")\n",
    "    alloc_before, _ = get_gpu_memory_info()\n",
    "    \n",
    "    start_time = time.time()\n",
    "    stats = train_loop(model, train_dl, val_dl, tcfg, device=device)\n",
    "    elapsed = time.time() - start_time\n",
    "    \n",
    "    stats['model'] = model_name\n",
    "    stats['time_s'] = elapsed\n",
    "    stats['params'] = sum(p.numel() for p in model.parameters() if p.requires_grad)\n",
    "    \n",
    "    alloc_after, _ = get_gpu_memory_info()\n",
    "    print(f\"\\n✓ Training completed in {elapsed:.1f}s\")\n",
    "    print(f\"  VRAM: {alloc_before:.2f}GB → {alloc_after:.2f}GB\")\n",
    "    \n",
    "    # Clear memory after training\n",
    "    clear_memory()\n",
    "    alloc_cleared, _ = get_gpu_memory_info()\n",
    "    print(f\"  After cleanup: {alloc_cleared:.2f}GB\")\n",
    "    \n",
    "    return stats"
   ]
  },
  {
   "cell_type": "markdown",
   "metadata": {},
   "source": [
    "## 4. Evaluation Function"
   ]
  },
  {
   "cell_type": "code",
   "execution_count": 8,
   "metadata": {},
   "outputs": [],
   "source": [
    "@torch.no_grad()\n",
    "def evaluate_ppl(model, val_dl, amp=True):\n",
    "    \"\"\"Evaluate perplexity on validation set\"\"\"\n",
    "    model.eval()\n",
    "    nll = 0.0\n",
    "    tok = 0\n",
    "    ctx = (torch.amp.autocast(\"cuda\") if (amp and device==\"cuda\") else nullcontext())\n",
    "    \n",
    "    with ctx:\n",
    "        for xb, yb in val_dl:\n",
    "            xb, yb = xb.to(device), yb.to(device)\n",
    "            out = model(xb, targets=yb)\n",
    "            nll += out[\"loss\"].item() * xb.numel()\n",
    "            tok += xb.numel()\n",
    "    \n",
    "    return math.exp(nll / max(1, tok))\n",
    "\n",
    "@torch.no_grad()\n",
    "def bench_generate(model, prompt_len=512, gen_len=256, warmup=1, repeat=2):\n",
    "    \"\"\"Benchmark generation speed\"\"\"\n",
    "    model.eval()\n",
    "    device = next(model.parameters()).device\n",
    "    \n",
    "    # Use vocab_size from model config\n",
    "    if hasattr(model, 'cfg'):\n",
    "        vocab = model.cfg.vocab_size\n",
    "    else:\n",
    "        vocab = VOCAB_SIZE\n",
    "    \n",
    "    torch.manual_seed(0)\n",
    "    prompt = torch.randint(0, vocab, (1, prompt_len), device=device)\n",
    "\n",
    "    # Warmup\n",
    "    for _ in range(warmup):\n",
    "        _ = model.generate(prompt, max_new_tokens=16)\n",
    "\n",
    "    if device.type == \"cuda\":\n",
    "        torch.cuda.reset_peak_memory_stats()\n",
    "\n",
    "    times = []\n",
    "    for _ in range(repeat):\n",
    "        if device.type == \"cuda\":\n",
    "            torch.cuda.synchronize()\n",
    "        t0 = time.time()\n",
    "        _ = model.generate(prompt, max_new_tokens=gen_len)\n",
    "        if device.type == \"cuda\":\n",
    "            torch.cuda.synchronize()\n",
    "        times.append(time.time() - t0)\n",
    "\n",
    "    sec = sum(times) / len(times)\n",
    "    tps = int((prompt_len + gen_len) / sec)\n",
    "    mem = 0.0\n",
    "    if device.type == \"cuda\":\n",
    "        mem = torch.cuda.max_memory_allocated() / (1024**2)\n",
    "\n",
    "    return {\n",
    "        \"gen_latency_s\": round(sec, 3),\n",
    "        \"gen_tps\": tps,\n",
    "        \"gen_peak_mb\": round(mem, 2),\n",
    "    }"
   ]
  },
  {
   "cell_type": "markdown",
   "metadata": {},
   "source": [
    "## 5. Train All Models"
   ]
  },
  {
   "cell_type": "code",
   "execution_count": 9,
   "metadata": {},
   "outputs": [
    {
     "name": "stdout",
     "output_type": "stream",
     "text": [
      "\n",
      "======================================================================\n",
      "                           🎯 Training Phase                           \n",
      "======================================================================\n",
      "\n",
      "Training Hymba\n",
      "----------------------------------------------------------------------\n",
      "[    1] loss=8.806 lr=1.20e-05\n",
      "[   50] loss=4.892 lr=6.00e-04\n",
      "[  100] loss=3.406 lr=5.82e-04\n",
      "[  150] loss=2.107 lr=5.30e-04\n",
      "[  200] loss=1.494 lr=4.50e-04\n",
      "[  250] loss=0.883 lr=3.52e-04\n",
      "[  300] loss=0.475 lr=2.48e-04\n",
      "[  350] loss=0.212 lr=1.50e-04\n",
      "[  400] loss=0.105 lr=7.02e-05\n",
      "[  450] loss=0.068 lr=1.81e-05\n",
      "[  500] loss=0.064 lr=0.00e+00\n",
      "\n",
      "✓ Training completed in 47.1s\n",
      "  VRAM: 0.36GB → 0.38GB\n",
      "  After cleanup: 0.38GB\n"
     ]
    }
   ],
   "source": [
    "print_header(\"🎯 Training Phase\")\n",
    "results = []\n",
    "\n",
    "# Train Hymba\n",
    "hymba_stats = train_model(hymba_model, train_dl, val_dl, \"Hymba\")\n",
    "results.append(hymba_stats)\n",
    "hymba_model.cpu()\n",
    "del hymba_model\n",
    "clear_memory()"
   ]
  },
  {
   "cell_type": "code",
   "execution_count": 10,
   "metadata": {},
   "outputs": [
    {
     "name": "stdout",
     "output_type": "stream",
     "text": [
      "\n",
      "Training Diff Transformer\n",
      "----------------------------------------------------------------------\n",
      "[    1] loss=8.861 lr=1.20e-05\n",
      "[   50] loss=5.774 lr=6.00e-04\n",
      "[  100] loss=5.269 lr=5.82e-04\n",
      "[  150] loss=4.661 lr=5.30e-04\n",
      "[  200] loss=3.974 lr=4.50e-04\n",
      "[  250] loss=3.018 lr=3.52e-04\n",
      "[  300] loss=2.243 lr=2.48e-04\n",
      "[  350] loss=1.667 lr=1.50e-04\n",
      "[  400] loss=1.156 lr=7.02e-05\n",
      "[  450] loss=0.924 lr=1.81e-05\n",
      "[  500] loss=0.911 lr=0.00e+00\n",
      "\n",
      "✓ Training completed in 78.3s\n",
      "  VRAM: 0.26GB → 0.26GB\n",
      "  After cleanup: 0.26GB\n"
     ]
    }
   ],
   "source": [
    "# Train Diff Transformer\n",
    "diff_stats = train_model(diff_model, train_dl, val_dl, \"Diff Transformer\")\n",
    "results.append(diff_stats)\n",
    "diff_model.cpu()\n",
    "del diff_model\n",
    "clear_memory()"
   ]
  },
  {
   "cell_type": "code",
   "execution_count": 11,
   "metadata": {},
   "outputs": [
    {
     "name": "stdout",
     "output_type": "stream",
     "text": [
      "\n",
      "Training Mamba\n",
      "----------------------------------------------------------------------\n",
      "[    1] loss=8.804 lr=1.20e-05\n",
      "[   50] loss=5.606 lr=6.00e-04\n",
      "[  100] loss=4.529 lr=5.82e-04\n",
      "[  150] loss=2.929 lr=5.30e-04\n",
      "[  200] loss=1.811 lr=4.50e-04\n",
      "[  250] loss=0.903 lr=3.52e-04\n",
      "[  300] loss=0.436 lr=2.48e-04\n",
      "[  350] loss=0.157 lr=1.50e-04\n",
      "[  400] loss=0.061 lr=7.02e-05\n",
      "[  450] loss=0.035 lr=1.81e-05\n",
      "[  500] loss=0.035 lr=0.00e+00\n",
      "\n",
      "✓ Training completed in 48.9s\n",
      "  VRAM: 0.13GB → 0.13GB\n",
      "  After cleanup: 0.13GB\n",
      "\n",
      "======================================================================\n",
      "✓ All models trained successfully!\n",
      "======================================================================\n"
     ]
    }
   ],
   "source": [
    "# Train Mamba\n",
    "mamba_stats = train_model(mamba_model, train_dl, val_dl, \"Mamba\")\n",
    "results.append(mamba_stats)\n",
    "mamba_model.cpu()\n",
    "del mamba_model\n",
    "clear_memory()\n",
    "\n",
    "print(f\"\\n{'='*70}\")\n",
    "print(f\"✓ All models trained successfully!\")\n",
    "print(f\"{'='*70}\")"
   ]
  },
  {
   "cell_type": "markdown",
   "metadata": {},
   "source": [
    "## 6. Benchmark Generation"
   ]
  },
  {
   "cell_type": "code",
   "execution_count": 12,
   "metadata": {},
   "outputs": [
    {
     "name": "stdout",
     "output_type": "stream",
     "text": [
      "\n",
      "======================================================================\n",
      "                        ⚡ Generation Benchmark                        \n",
      "======================================================================\n",
      "\n",
      "[1/3] Benchmarking Hymba...\n",
      "\n",
      "\n",
      "      ✓ 227 tok/s | 3.379s latency | 158MB peak\n",
      "\n",
      "[2/3] Benchmarking Diff Transformer...\n",
      "      ✓ 150 tok/s | 5.105s latency | 215MB peak\n",
      "\n",
      "[3/3] Benchmarking Mamba...\n",
      "      ✓ 477 tok/s | 1.607s latency | 153MB peak\n",
      "\n",
      "======================================================================\n",
      "✓ Generation benchmarking completed!\n",
      "======================================================================\n"
     ]
    }
   ],
   "source": [
    "print_header(\"⚡ Generation Benchmark\")\n",
    "gen_results = []\n",
    "\n",
    "models_to_bench = [\n",
    "    (\"Hymba\", lambda: build_hymba(seq_len=SEQ_LEN, bs=BATCH_SIZE, vocab_size=VOCAB_SIZE)[0]),\n",
    "    (\"Diff Transformer\", lambda: DiffTransformer(diff_cfg)),\n",
    "    (\"Mamba\", lambda: MambaModel(mamba_cfg))\n",
    "]\n",
    "\n",
    "for i, (name, model_fn) in enumerate(models_to_bench, 1):\n",
    "    print(f\"\\n[{i}/3] Benchmarking {name}...\")\n",
    "    model = model_fn().to(device)\n",
    "    \n",
    "    bench = bench_generate(model, prompt_len=512, gen_len=256)\n",
    "    bench['model'] = name\n",
    "    gen_results.append(bench)\n",
    "    print(f\"      ✓ {bench['gen_tps']} tok/s | {bench['gen_latency_s']}s latency | {bench['gen_peak_mb']:.0f}MB peak\")\n",
    "    \n",
    "    model.cpu()\n",
    "    del model\n",
    "    clear_memory()\n",
    "\n",
    "print(f\"\\n{'='*70}\")\n",
    "print(f\"✓ Generation benchmarking completed!\")\n",
    "print(f\"{'='*70}\")"
   ]
  },
  {
   "cell_type": "markdown",
   "metadata": {},
   "source": [
    "## 7. Results Summary"
   ]
  },
  {
   "cell_type": "code",
   "execution_count": 13,
   "metadata": {},
   "outputs": [
    {
     "name": "stdout",
     "output_type": "stream",
     "text": [
      "\n",
      "======================================================================\n",
      "                          📈 Training Results                          \n",
      "======================================================================\n"
     ]
    },
    {
     "data": {
      "text/html": [
       "<style type=\"text/css\">\n",
       "#T_77774_row0_col3, #T_77774_row0_col4, #T_77774_row0_col5 {\n",
       "  background-color: #90EE90;\n",
       "}\n",
       "</style>\n",
       "<table id=\"T_77774\">\n",
       "  <thead>\n",
       "    <tr>\n",
       "      <th class=\"blank level0\" >&nbsp;</th>\n",
       "      <th id=\"T_77774_level0_col0\" class=\"col_heading level0 col0\" >Model</th>\n",
       "      <th id=\"T_77774_level0_col1\" class=\"col_heading level0 col1\" >Params (M)</th>\n",
       "      <th id=\"T_77774_level0_col2\" class=\"col_heading level0 col2\" >Train Loss</th>\n",
       "      <th id=\"T_77774_level0_col3\" class=\"col_heading level0 col3\" >Val Loss</th>\n",
       "      <th id=\"T_77774_level0_col4\" class=\"col_heading level0 col4\" >Perplexity</th>\n",
       "      <th id=\"T_77774_level0_col5\" class=\"col_heading level0 col5\" >Throughput</th>\n",
       "      <th id=\"T_77774_level0_col6\" class=\"col_heading level0 col6\" >Time (min)</th>\n",
       "    </tr>\n",
       "  </thead>\n",
       "  <tbody>\n",
       "    <tr>\n",
       "      <th id=\"T_77774_level0_row0\" class=\"row_heading level0 row0\" >0</th>\n",
       "      <td id=\"T_77774_row0_col0\" class=\"data row0 col0\" >Hymba</td>\n",
       "      <td id=\"T_77774_row0_col1\" class=\"data row0 col1\" >30.25</td>\n",
       "      <td id=\"T_77774_row0_col2\" class=\"data row0 col2\" >1.78</td>\n",
       "      <td id=\"T_77774_row0_col3\" class=\"data row0 col3\" >3.46</td>\n",
       "      <td id=\"T_77774_row0_col4\" class=\"data row0 col4\" >31.77</td>\n",
       "      <td id=\"T_77774_row0_col5\" class=\"data row0 col5\" >174195</td>\n",
       "      <td id=\"T_77774_row0_col6\" class=\"data row0 col6\" >0.78</td>\n",
       "    </tr>\n",
       "    <tr>\n",
       "      <th id=\"T_77774_level0_row1\" class=\"row_heading level0 row1\" >1</th>\n",
       "      <td id=\"T_77774_row1_col0\" class=\"data row1 col0\" >Diff Transformer</td>\n",
       "      <td id=\"T_77774_row1_col1\" class=\"data row1 col1\" >35.29</td>\n",
       "      <td id=\"T_77774_row1_col2\" class=\"data row1 col2\" >3.30</td>\n",
       "      <td id=\"T_77774_row1_col3\" class=\"data row1 col3\" >7.53</td>\n",
       "      <td id=\"T_77774_row1_col4\" class=\"data row1 col4\" >1868.03</td>\n",
       "      <td id=\"T_77774_row1_col5\" class=\"data row1 col5\" >104667</td>\n",
       "      <td id=\"T_77774_row1_col6\" class=\"data row1 col6\" >1.31</td>\n",
       "    </tr>\n",
       "    <tr>\n",
       "      <th id=\"T_77774_level0_row2\" class=\"row_heading level0 row2\" >2</th>\n",
       "      <td id=\"T_77774_row2_col0\" class=\"data row2 col0\" >Mamba</td>\n",
       "      <td id=\"T_77774_row2_col1\" class=\"data row2 col1\" >29.11</td>\n",
       "      <td id=\"T_77774_row2_col2\" class=\"data row2 col2\" >2.04</td>\n",
       "      <td id=\"T_77774_row2_col3\" class=\"data row2 col3\" >7.53</td>\n",
       "      <td id=\"T_77774_row2_col4\" class=\"data row2 col4\" >1854.92</td>\n",
       "      <td id=\"T_77774_row2_col5\" class=\"data row2 col5\" >168692</td>\n",
       "      <td id=\"T_77774_row2_col6\" class=\"data row2 col6\" >0.81</td>\n",
       "    </tr>\n",
       "  </tbody>\n",
       "</table>\n"
      ],
      "text/plain": [
       "<pandas.io.formats.style.Styler at 0x7fbc2cbe7580>"
      ]
     },
     "metadata": {},
     "output_type": "display_data"
    },
    {
     "name": "stdout",
     "output_type": "stream",
     "text": [
      "\n",
      "🏆 Performance Leaders:\n",
      "   • Best Quality (Val Loss): Hymba\n",
      "   • Fastest Training: Hymba\n",
      "   • Quickest Completion: Hymba\n"
     ]
    }
   ],
   "source": [
    "print_header(\"📈 Training Results\")\n",
    "\n",
    "# Prepare training dataframe\n",
    "df_train = pd.DataFrame(results)\n",
    "df_train['Params (M)'] = df_train['params'] / 1e6\n",
    "df_train['Time (min)'] = df_train['time_s'] / 60\n",
    "df_train['Train Tok/s'] = df_train['tps'].astype(int)\n",
    "\n",
    "# Select and rename columns for display\n",
    "df_display = df_train[['model', 'Params (M)', 'train_loss', 'val_loss', 'ppl', 'Train Tok/s', 'Time (min)']].copy()\n",
    "df_display.columns = ['Model', 'Params (M)', 'Train Loss', 'Val Loss', 'Perplexity', 'Throughput', 'Time (min)']\n",
    "\n",
    "# Round for better display\n",
    "df_display['Params (M)'] = df_display['Params (M)'].round(2)\n",
    "df_display['Train Loss'] = df_display['Train Loss'].round(3)\n",
    "df_display['Val Loss'] = df_display['Val Loss'].round(3)\n",
    "df_display['Perplexity'] = df_display['Perplexity'].round(2)\n",
    "df_display['Time (min)'] = df_display['Time (min)'].round(2)\n",
    "\n",
    "# Apply styling\n",
    "styled_df = df_display.style\\\n",
    "    .apply(lambda x: highlight_best(df_display, 'Val Loss', higher_is_better=False), axis=0, subset=['Val Loss'])\\\n",
    "    .apply(lambda x: highlight_best(df_display, 'Perplexity', higher_is_better=False), axis=0, subset=['Perplexity'])\\\n",
    "    .apply(lambda x: highlight_best(df_display, 'Throughput', higher_is_better=True), axis=0, subset=['Throughput'])\\\n",
    "    .format(precision=2)\n",
    "\n",
    "display(styled_df)\n",
    "\n",
    "# Performance summary\n",
    "best_quality = df_display.loc[df_display['Val Loss'].idxmin(), 'Model']\n",
    "best_speed = df_display.loc[df_display['Throughput'].idxmax(), 'Model']\n",
    "best_time = df_display.loc[df_display['Time (min)'].idxmin(), 'Model']\n",
    "\n",
    "print(f\"\\n🏆 Performance Leaders:\")\n",
    "print(f\"   • Best Quality (Val Loss): {best_quality}\")\n",
    "print(f\"   • Fastest Training: {best_speed}\")\n",
    "print(f\"   • Quickest Completion: {best_time}\")"
   ]
  },
  {
   "cell_type": "code",
   "execution_count": 14,
   "metadata": {},
   "outputs": [
    {
     "name": "stdout",
     "output_type": "stream",
     "text": [
      "\n",
      "======================================================================\n",
      "                         ⚡ Generation Results                         \n",
      "======================================================================\n"
     ]
    },
    {
     "data": {
      "text/html": [
       "<style type=\"text/css\">\n",
       "#T_1ff76_row2_col0, #T_1ff76_row2_col1, #T_1ff76_row2_col2 {\n",
       "  background-color: #90EE90;\n",
       "}\n",
       "</style>\n",
       "<table id=\"T_1ff76\">\n",
       "  <thead>\n",
       "    <tr>\n",
       "      <th class=\"blank level0\" >&nbsp;</th>\n",
       "      <th id=\"T_1ff76_level0_col0\" class=\"col_heading level0 col0\" >Latency (s)</th>\n",
       "      <th id=\"T_1ff76_level0_col1\" class=\"col_heading level0 col1\" >Throughput</th>\n",
       "      <th id=\"T_1ff76_level0_col2\" class=\"col_heading level0 col2\" >Peak Memory (MB)</th>\n",
       "      <th id=\"T_1ff76_level0_col3\" class=\"col_heading level0 col3\" >Model</th>\n",
       "    </tr>\n",
       "  </thead>\n",
       "  <tbody>\n",
       "    <tr>\n",
       "      <th id=\"T_1ff76_level0_row0\" class=\"row_heading level0 row0\" >0</th>\n",
       "      <td id=\"T_1ff76_row0_col0\" class=\"data row0 col0\" >3.38</td>\n",
       "      <td id=\"T_1ff76_row0_col1\" class=\"data row0 col1\" >227</td>\n",
       "      <td id=\"T_1ff76_row0_col2\" class=\"data row0 col2\" >158.00</td>\n",
       "      <td id=\"T_1ff76_row0_col3\" class=\"data row0 col3\" >Hymba</td>\n",
       "    </tr>\n",
       "    <tr>\n",
       "      <th id=\"T_1ff76_level0_row1\" class=\"row_heading level0 row1\" >1</th>\n",
       "      <td id=\"T_1ff76_row1_col0\" class=\"data row1 col0\" >5.11</td>\n",
       "      <td id=\"T_1ff76_row1_col1\" class=\"data row1 col1\" >150</td>\n",
       "      <td id=\"T_1ff76_row1_col2\" class=\"data row1 col2\" >215.00</td>\n",
       "      <td id=\"T_1ff76_row1_col3\" class=\"data row1 col3\" >Diff Transformer</td>\n",
       "    </tr>\n",
       "    <tr>\n",
       "      <th id=\"T_1ff76_level0_row2\" class=\"row_heading level0 row2\" >2</th>\n",
       "      <td id=\"T_1ff76_row2_col0\" class=\"data row2 col0\" >1.61</td>\n",
       "      <td id=\"T_1ff76_row2_col1\" class=\"data row2 col1\" >477</td>\n",
       "      <td id=\"T_1ff76_row2_col2\" class=\"data row2 col2\" >153.00</td>\n",
       "      <td id=\"T_1ff76_row2_col3\" class=\"data row2 col3\" >Mamba</td>\n",
       "    </tr>\n",
       "  </tbody>\n",
       "</table>\n"
      ],
      "text/plain": [
       "<pandas.io.formats.style.Styler at 0x7fbc2415e770>"
      ]
     },
     "metadata": {},
     "output_type": "display_data"
    },
    {
     "name": "stdout",
     "output_type": "stream",
     "text": [
      "\n",
      "🏆 Generation Leaders:\n",
      "   • Fastest (Throughput): Mamba (477 tok/s)\n",
      "   • Lowest Latency: Mamba (1.607s)\n",
      "   • Most Memory Efficient: Mamba (153.0MB)\n"
     ]
    }
   ],
   "source": [
    "print_header(\"⚡ Generation Results\")\n",
    "\n",
    "# Prepare generation dataframe\n",
    "df_gen = pd.DataFrame(gen_results)\n",
    "df_gen.columns = ['Latency (s)', 'Throughput', 'Peak Memory (MB)', 'Model']\n",
    "df_gen['Latency (s)'] = df_gen['Latency (s)'].round(3)\n",
    "df_gen['Peak Memory (MB)'] = df_gen['Peak Memory (MB)'].round(0)\n",
    "\n",
    "# Apply styling\n",
    "styled_gen = df_gen.style\\\n",
    "    .apply(lambda x: highlight_best(df_gen, 'Throughput', higher_is_better=True), axis=0, subset=['Throughput'])\\\n",
    "    .apply(lambda x: highlight_best(df_gen, 'Latency (s)', higher_is_better=False), axis=0, subset=['Latency (s)'])\\\n",
    "    .apply(lambda x: highlight_best(df_gen, 'Peak Memory (MB)', higher_is_better=False), axis=0, subset=['Peak Memory (MB)'])\\\n",
    "    .format(precision=2)\n",
    "\n",
    "display(styled_gen)\n",
    "\n",
    "# Performance summary\n",
    "fastest_gen = df_gen.loc[df_gen['Throughput'].idxmax(), 'Model']\n",
    "lowest_latency = df_gen.loc[df_gen['Latency (s)'].idxmin(), 'Model']\n",
    "lowest_mem = df_gen.loc[df_gen['Peak Memory (MB)'].idxmin(), 'Model']\n",
    "\n",
    "print(f\"\\n🏆 Generation Leaders:\")\n",
    "print(f\"   • Fastest (Throughput): {fastest_gen} ({df_gen.loc[df_gen['Throughput'].idxmax(), 'Throughput']} tok/s)\")\n",
    "print(f\"   • Lowest Latency: {lowest_latency} ({df_gen.loc[df_gen['Latency (s)'].idxmin(), 'Latency (s)']}s)\")\n",
    "print(f\"   • Most Memory Efficient: {lowest_mem} ({df_gen.loc[df_gen['Peak Memory (MB)'].idxmin(), 'Peak Memory (MB)']}MB)\")"
   ]
  },
  {
   "cell_type": "markdown",
   "metadata": {},
   "source": [
    "## 8. Visualization"
   ]
  },
  {
   "cell_type": "code",
   "execution_count": 15,
   "metadata": {},
   "outputs": [
    {
     "name": "stdout",
     "output_type": "stream",
     "text": [
      "\n",
      "======================================================================\n",
      "                         📊 Visual Comparison                          \n",
      "======================================================================\n"
     ]
    },
    {
     "data": {
      "image/png": "[encoded data removed]",
      "text/plain": [
       "<Figure size 1800x1000 with 6 Axes>"
      ]
     },
     "metadata": {},
     "output_type": "display_data"
    }
   ],
   "source": [
    "print_header(\"📊 Visual Comparison\")\n",
    "\n",
    "fig, axes = plt.subplots(2, 3, figsize=(18, 10))\n",
    "fig.suptitle('Model Performance Comparison', fontsize=16, fontweight='bold', y=1.00)\n",
    "\n",
    "# Color palette\n",
    "colors = sns.color_palette(\"husl\", 3)\n",
    "\n",
    "# Plot 1: Validation Loss (Lower is Better)\n",
    "axes[0, 0].bar(df_display['Model'], df_display['Val Loss'], color=colors)\n",
    "axes[0, 0].set_title('Validation Loss ↓', fontsize=12, fontweight='bold')\n",
    "axes[0, 0].set_ylabel('Loss')\n",
    "axes[0, 0].tick_params(axis='x', rotation=15)\n",
    "for i, v in enumerate(df_display['Val Loss']):\n",
    "    axes[0, 0].text(i, v, f'{v:.2f}', ha='center', va='bottom', fontweight='bold')\n",
    "\n",
    "# Plot 2: Perplexity (Lower is Better)\n",
    "axes[0, 1].bar(df_display['Model'], df_display['Perplexity'], color=colors)\n",
    "axes[0, 1].set_title('Perplexity ↓', fontsize=12, fontweight='bold')\n",
    "axes[0, 1].set_ylabel('PPL')\n",
    "axes[0, 1].tick_params(axis='x', rotation=15)\n",
    "for i, v in enumerate(df_display['Perplexity']):\n",
    "    axes[0, 1].text(i, v, f'{v:.1f}', ha='center', va='bottom', fontweight='bold')\n",
    "\n",
    "# Plot 3: Training Throughput (Higher is Better)\n",
    "axes[0, 2].bar(df_display['Model'], df_display['Throughput'], color=colors)\n",
    "axes[0, 2].set_title('Training Throughput ↑', fontsize=12, fontweight='bold')\n",
    "axes[0, 2].set_ylabel('Tokens/s')\n",
    "axes[0, 2].tick_params(axis='x', rotation=15)\n",
    "for i, v in enumerate(df_display['Throughput']):\n",
    "    axes[0, 2].text(i, v, f'{int(v):,}', ha='center', va='bottom', fontweight='bold')\n",
    "\n",
    "# Plot 4: Generation Speed (Higher is Better)\n",
    "axes[1, 0].bar(df_gen['Model'], df_gen['Throughput'], color=colors)\n",
    "axes[1, 0].set_title('Generation Speed ↑', fontsize=12, fontweight='bold')\n",
    "axes[1, 0].set_ylabel('Tokens/s')\n",
    "axes[1, 0].tick_params(axis='x', rotation=15)\n",
    "for i, v in enumerate(df_gen['Throughput']):\n",
    "    axes[1, 0].text(i, v, f'{int(v)}', ha='center', va='bottom', fontweight='bold')\n",
    "\n",
    "# Plot 5: Generation Latency (Lower is Better)\n",
    "axes[1, 1].bar(df_gen['Model'], df_gen['Latency (s)'], color=colors)\n",
    "axes[1, 1].set_title('Generation Latency ↓', fontsize=12, fontweight='bold')\n",
    "axes[1, 1].set_ylabel('Seconds')\n",
    "axes[1, 1].tick_params(axis='x', rotation=15)\n",
    "for i, v in enumerate(df_gen['Latency (s)']):\n",
    "    axes[1, 1].text(i, v, f'{v:.2f}s', ha='center', va='bottom', fontweight='bold')\n",
    "\n",
    "# Plot 6: Memory Usage (Lower is Better)\n",
    "axes[1, 2].bar(df_gen['Model'], df_gen['Peak Memory (MB)'], color=colors)\n",
    "axes[1, 2].set_title('Peak Memory ↓', fontsize=12, fontweight='bold')\n",
    "axes[1, 2].set_ylabel('MB')\n",
    "axes[1, 2].tick_params(axis='x', rotation=15)\n",
    "for i, v in enumerate(df_gen['Peak Memory (MB)']):\n",
    "    axes[1, 2].text(i, v, f'{int(v)}MB', ha='center', va='bottom', fontweight='bold')\n",
    "\n",
    "plt.tight_layout()\n",
    "plt.show()"
   ]
  },
  {
   "cell_type": "markdown",
   "metadata": {},
   "source": [
    "## 9. Text Generation Comparison"
   ]
  },
  {
   "cell_type": "code",
   "execution_count": 16,
   "metadata": {},
   "outputs": [
    {
     "name": "stdout",
     "output_type": "stream",
     "text": [
      "\n",
      "======================================================================\n",
      "                       📝 Text Generation Sample                       \n",
      "======================================================================\n",
      "Prompt: 'To be or not to be'\n",
      "\n",
      "\n",
      "[1/3] Hymba\n",
      "----------------------------------------------------------------------\n",
      "\n",
      "\n",
      "to be or not to be controll exter interrupt gives hop function traged boil ir sc arti swallow ooth ellis proceeding betid neat awak eck levi marsh smile gay mitigat tut factio malic except uck w pathway freel blind suitor pu cheque matron morali defe\n",
      "...\n",
      "\n",
      "[2/3] Diff Transformer\n",
      "----------------------------------------------------------------------\n",
      "\n",
      "\n",
      "to be or not to be ar alt bee cour serpi unjust los habit leav wbr spright entire witch knock ager her treasure permit oxford ilt craft preferment usal stick arrest testimon misgive play ribbon pretend foretell langu proud patrician rat upbraid ors d\n",
      "...\n",
      "\n",
      "[3/3] Mamba\n",
      "----------------------------------------------------------------------\n",
      "\n",
      "\n",
      "to be or not to be comb main suffice converse humbl oppress lips reconcile untain warwick maria ith belie distinct won fend chang function rst become llow alo ndam amp silence day ve husband grave sounde zen gall dea guide unt bruis building wilde ho\n",
      "...\n",
      "\n",
      "======================================================================\n",
      "Final VRAM: 0.02GB allocated, 0.04GB reserved\n",
      "======================================================================\n"
     ]
    }
   ],
   "source": [
    "print_header(\"📝 Text Generation Sample\")\n",
    "\n",
    "prompt = \"To be or not to be\"\n",
    "print(f\"Prompt: '{prompt}'\\n\")\n",
    "\n",
    "# Generate with each model\n",
    "models_to_gen = [\n",
    "    (\"Hymba\", lambda: build_hymba(seq_len=SEQ_LEN, bs=BATCH_SIZE, vocab_size=VOCAB_SIZE)),\n",
    "    (\"Diff Transformer\", None),\n",
    "    (\"Mamba\", None)\n",
    "]\n",
    "\n",
    "for i, (name, builder) in enumerate(models_to_gen, 1):\n",
    "    print(f\"\\n[{i}/3] {name}\")\n",
    "    print(\"-\"*70)\n",
    "    \n",
    "    try:\n",
    "        if name == \"Hymba\":\n",
    "            model, tok, _, _ = builder()\n",
    "        elif name == \"Diff Transformer\":\n",
    "            model = DiffTransformer(diff_cfg)\n",
    "            _, tok, _, _ = build_hymba(seq_len=SEQ_LEN, bs=BATCH_SIZE, vocab_size=VOCAB_SIZE)\n",
    "        else:  # Mamba\n",
    "            model = MambaModel(mamba_cfg)\n",
    "            _, tok, _, _ = build_hymba(seq_len=SEQ_LEN, bs=BATCH_SIZE, vocab_size=VOCAB_SIZE)\n",
    "        \n",
    "        model.to(device)\n",
    "        prompt_ids = torch.tensor([tok.encode(prompt)], device=device)\n",
    "        \n",
    "        generated = model.generate(prompt_ids, max_new_tokens=100, temperature=0.8)\n",
    "        text = tok.decode(generated[0].tolist())\n",
    "        \n",
    "        # Display nicely wrapped text\n",
    "        print(text[:250])\n",
    "        if len(text) > 250:\n",
    "            print(\"...\")\n",
    "        \n",
    "        model.cpu()\n",
    "        del model\n",
    "        clear_memory()\n",
    "    except Exception as e:\n",
    "        print(f\"✗ Generation failed: {e}\")\n",
    "\n",
    "print(\"\\n\" + \"=\"*70)\n",
    "alloc, reserved = get_gpu_memory_info()\n",
    "print(f\"Final VRAM: {alloc:.2f}GB allocated, {reserved:.2f}GB reserved\")\n",
    "print(\"=\"*70)"
   ]
  },
  {
   "cell_type": "code",
   "execution_count": 17,
   "metadata": {},
   "outputs": [
    {
     "name": "stdout",
     "output_type": "stream",
     "text": [
      "\n",
      "======================================================================\n",
      "                           🎯 Final Summary                            \n",
      "======================================================================\n",
      "\n",
      "📊 Architecture Comparison:\n",
      "\n",
      "┌─────────────────────┬──────────────────────────────────────────────┐\n",
      "│ Model               │ Key Features                                 │\n",
      "├─────────────────────┼──────────────────────────────────────────────┤\n",
      "│ Hymba               │ Hybrid: Attention + Mamba with SWA/KV share │\n",
      "│ Diff Transformer    │ Differential attention (attn1 - λ*attn2)    │\n",
      "│ Mamba               │ Pure SSM with selective parameters          │\n",
      "└─────────────────────┴──────────────────────────────────────────────┘\n",
      "\n",
      "🏆 Performance Summary:\n",
      "\n",
      "   Quality (Lowest Val Loss):     Hymba                ⭐\n",
      "   Training Speed (Highest TPS):  Hymba                ⚡\n",
      "   Generation Speed (Highest):    Mamba                🚀\n",
      "   Memory Efficiency (Lowest):    Mamba                💾\n",
      "\n",
      "📌 Key Insights:\n",
      "\n",
      "   • All models balanced at ~30M parameters for fair comparison\n",
      "   • Mamba shows superior inference speed due to linear complexity\n",
      "   • Hymba balances quality and efficiency with hybrid architecture\n",
      "   • Diff Transformer may excel in attention-critical tasks\n",
      "\n",
      "======================================================================\n",
      "✓ Comparison completed successfully!\n",
      "======================================================================\n"
     ]
    }
   ],
   "source": [
    "# Summary and Conclusions\n",
    "\n",
    "print_header(\"🎯 Final Summary\")\n",
    "\n",
    "print(\"\\n📊 Architecture Comparison:\\n\")\n",
    "print(\"┌─────────────────────┬──────────────────────────────────────────────┐\")\n",
    "print(\"│ Model               │ Key Features                                 │\")\n",
    "print(\"├─────────────────────┼──────────────────────────────────────────────┤\")\n",
    "print(\"│ Hymba               │ Hybrid: Attention + Mamba with SWA/KV share │\")\n",
    "print(\"│ Diff Transformer    │ Differential attention (attn1 - λ*attn2)    │\")\n",
    "print(\"│ Mamba               │ Pure SSM with selective parameters          │\")\n",
    "print(\"└─────────────────────┴──────────────────────────────────────────────┘\")\n",
    "\n",
    "print(\"\\n🏆 Performance Summary:\\n\")\n",
    "\n",
    "# Determine winners\n",
    "quality_winner = df_display.loc[df_display['Val Loss'].idxmin(), 'Model']\n",
    "train_speed_winner = df_display.loc[df_display['Throughput'].idxmax(), 'Model']\n",
    "gen_speed_winner = df_gen.loc[df_gen['Throughput'].idxmax(), 'Model']\n",
    "mem_winner = df_gen.loc[df_gen['Peak Memory (MB)'].idxmin(), 'Model']\n",
    "\n",
    "print(f\"   Quality (Lowest Val Loss):     {quality_winner:20s} ⭐\")\n",
    "print(f\"   Training Speed (Highest TPS):  {train_speed_winner:20s} ⚡\")\n",
    "print(f\"   Generation Speed (Highest):    {gen_speed_winner:20s} 🚀\")\n",
    "print(f\"   Memory Efficiency (Lowest):    {mem_winner:20s} 💾\")\n",
    "\n",
    "print(\"\\n📌 Key Insights:\\n\")\n",
    "print(\"   • All models balanced at ~30M parameters for fair comparison\")\n",
    "print(\"   • Mamba shows superior inference speed due to linear complexity\")\n",
    "print(\"   • Hymba balances quality and efficiency with hybrid architecture\")\n",
    "print(\"   • Diff Transformer may excel in attention-critical tasks\")\n",
    "\n",
    "print(\"\\n\" + \"=\"*70)\n",
    "print(\"✓ Comparison completed successfully!\")\n",
    "print(\"=\"*70)"
   ]
  }
 ],
 "metadata": {
  "kernelspec": {
   "display_name": "Python 3",
   "language": "python",
   "name": "python3"
  },
  "language_info": {
   "codemirror_mode": {
    "name": "ipython",
    "version": 3
   },
   "file_extension": ".py",
   "mimetype": "text/x-python",
   "name": "python",
   "nbconvert_exporter": "python",
   "pygments_lexer": "ipython3",
   "version": "3.10.12"
  }
 },
 "nbformat": 4,
 "nbformat_minor": 4
}
