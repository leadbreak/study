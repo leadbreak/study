{
 "cells": [
  {
   "cell_type": "code",
   "execution_count": 1,
   "metadata": {},
   "outputs": [
    {
     "name": "stderr",
     "output_type": "stream",
     "text": [
      "/usr/local/lib/python3.10/dist-packages/tqdm/auto.py:21: TqdmWarning: IProgress not found. Please update jupyter and ipywidgets. See https://ipywidgets.readthedocs.io/en/stable/user_install.html\n",
      "  from .autonotebook import tqdm as notebook_tqdm\n"
     ]
    }
   ],
   "source": [
    "import torch\n",
    "import torch.nn as nn\n",
    "import torch.nn.functional as F\n",
    "import torch.optim as optim\n",
    "from torch.optim.lr_scheduler import CosineAnnealingLR\n",
    "import torchvision\n",
    "import torchvision.transforms as transforms\n",
    "from torch.optim.lr_scheduler import _LRScheduler\n",
    "\n",
    "import math\n",
    "import matplotlib.pyplot as plt\n",
    "import time"
   ]
  },
  {
   "cell_type": "code",
   "execution_count": 2,
   "metadata": {},
   "outputs": [],
   "source": [
    "class PatchEmbedding(nn.Module):\n",
    "    \"\"\"\n",
    "    이미지를 패치로 분할하고, 각 패치를 임베딩하는 클래스입니다.\n",
    "\n",
    "    Attributes:\n",
    "    patch_size (int): 패치의 크기 (예: 16x16).\n",
    "    n_patches (int): 이미지당 생성되는 패치의 총 수.\n",
    "    projection (nn.Conv2d): 패치를 임베딩 벡터로 변환하는 컨볼루션 레이어.\n",
    "\n",
    "    Args:\n",
    "    img_size (int): 입력 이미지의 크기 (예: 32x32).\n",
    "    patch_size (int): 패치의 크기 (예: 16x16).\n",
    "    in_channels (int): 입력 이미지의 채널 수 (RGB의 경우 3).\n",
    "    embed_dim (int): 임베딩 차원의 크기.\n",
    "    \"\"\"\n",
    "    def __init__(self, img_size:int=32, patch_size:int=2, in_channels:int=3, embed_dim:int=768):\n",
    "        super().__init__()\n",
    "        \n",
    "        # Patch 정보 인식\n",
    "        self.patch_size = patch_size\n",
    "        assert img_size % patch_size == 0, f'img size({img_size})는 patch size({patch_size})로 나뉘어야 합니다.'\n",
    "        self.n_patches = (img_size // patch_size) ** 2\n",
    "\n",
    "        # 컨볼루션을 사용하여 패치를 임베딩 벡터로 변환\n",
    "        self.projection = nn.Conv2d(in_channels, embed_dim, kernel_size=patch_size, stride=patch_size)\n",
    "        \n",
    "        # class token 추가\n",
    "        self.cls_token = nn.Parameter(torch.zeros(1,1,embed_dim))        \n",
    "\n",
    "    def forward(self, x):\n",
    "        # x: [배치 크기, 채널 수, 높이, 너비]\n",
    "        x = self.projection(x)  # 컨볼루션을 통한 임베딩: [배치 크기, 임베딩 차원, 패치 수, _]\n",
    "        x = x.flatten(2)        # 평탄화: [배치 크기, 임베딩 차원, 패치 수]\n",
    "        x = x.transpose(1, 2)   # 변환: [배치 크기, 패치 수, 임베딩 차원]\n",
    "        \n",
    "        cls_tokens = self.cls_token.expand(x.size(0), -1, -1) # [배치크기, 1, 임베딩 차원]\n",
    "        x = torch.cat((cls_tokens, x), dim=1) # cls_token 추가: [배치크기, 패치 수+1, 임베딩 차원]\n",
    "        return x"
   ]
  },
  {
   "cell_type": "code",
   "execution_count": 3,
   "metadata": {},
   "outputs": [],
   "source": [
    "class PositionalEmbedding(nn.Module):\n",
    "    \"\"\"\n",
    "    위치 임베딩을 추가하는 클래스입니다. 각 패치에 대한 위치 정보를 제공합니다.\n",
    "\n",
    "    Attributes:\n",
    "    scale (torch.Tensor): 스케일링 펙터.\n",
    "    position_embedding (torch.nn.Parameter): 학습 가능한 위치 인코딩.\n",
    "\n",
    "    Args:\n",
    "    num_patches (int): 이미지당 생성되는 패치의 수.\n",
    "    embed_dim (int): 임베딩 차원의 크기.\n",
    "    \"\"\"\n",
    "    def __init__(self, num_patches:int, embed_dim:int):\n",
    "        super().__init__()\n",
    "        self.scale = torch.sqrt(torch.tensor(embed_dim, dtype=torch.float32))\n",
    "        self.position_embedding = nn.Parameter(torch.zeros(1, num_patches+1, embed_dim)) # [1, 패치 수+1, 임베딩 차원]\n",
    "\n",
    "    def forward(self, x):\n",
    "        # x = self.scale*x + self.position_embedding # scaled x에 위치 정보를 임베딩에 더함 \n",
    "        x += self.position_embedding  \n",
    "        return x # [배치 크기, 패치 수+1, 임베딩 차원]"
   ]
  },
  {
   "cell_type": "code",
   "execution_count": 4,
   "metadata": {},
   "outputs": [],
   "source": [
    "class TransformerEncoderLayer(nn.Module):\n",
    "    \"\"\"\n",
    "    Transformer Encoder 레이어를 정의하는 클래스입니다.\n",
    "\n",
    "    Attributes:\n",
    "    norm1, norm2 (nn.LayerNorm): 정규화 레이어.\n",
    "    attn (nn.MultiheadAttention): 멀티헤드 어텐션 레이어.\n",
    "    mlp (nn.Sequential): 피드포워드 네트워크.\n",
    "\n",
    "    Args:\n",
    "    embed_dim (int): 임베딩 차원의 크기.\n",
    "    num_heads (int): 멀티헤드 어텐션에서의 헤드 수.\n",
    "    mlp_ratio (float): 첫 번째 선형 레이어의 출력 차원을 결정하는 비율.\n",
    "    dropout (float): 드롭아웃 비율.\n",
    "    \"\"\"\n",
    "    def __init__(self, embed_dim:int, num_heads:int, mlp_ratio:float=4.0, dropout:float=0.1):\n",
    "        super().__init__()\n",
    "        self.norm = nn.LayerNorm(embed_dim)\n",
    "        self.attn = nn.MultiheadAttention(embed_dim, num_heads, dropout=dropout) # [attention_output, attention weights]\n",
    "\n",
    "        mlp_hidden_dim = int(mlp_ratio * embed_dim)\n",
    "        self.mlp = nn.Sequential(\n",
    "            nn.Linear(embed_dim, mlp_hidden_dim),\n",
    "            nn.GELU(),\n",
    "            nn.Dropout(dropout),\n",
    "            nn.Linear(mlp_hidden_dim, embed_dim),\n",
    "            nn.Dropout(dropout),\n",
    "        )\n",
    "\n",
    "    def forward(self, x):\n",
    "        # 멀티헤드 어텐션과 피드포워드 네트워크를 적용\n",
    "        x2 = self.norm(x)\n",
    "        x = x + self.attn(x2, x2, x2)[0] # attention output만 사용\n",
    "        x2 = self.norm(x)\n",
    "        x = x + self.mlp(x2)\n",
    "        return x"
   ]
  },
  {
   "cell_type": "code",
   "execution_count": 5,
   "metadata": {},
   "outputs": [],
   "source": [
    "class VisionTransformer(nn.Module):\n",
    "    \"\"\"\n",
    "    전체 Vision Transformer 모델을 정의하는 클래스입니다.\n",
    "\n",
    "    Attributes:\n",
    "    patch_embed (PatchEmbedding): 이미지를 패치로 분할하고 임베딩하는 레이어.\n",
    "    pos_embed (PositionalEncoding): 위치 인코딩 레이어.\n",
    "    transformer_encoders (nn.ModuleList): Transformer Encoder 레이어들의 리스트.\n",
    "    norm (nn.LayerNorm): 정규화 레이어.\n",
    "    head (nn.Linear): 최종 분류를 위한 선형 레이어.\n",
    "\n",
    "    Args:\n",
    "    img_size (int): 입력 이미지의 크기 (예: 32x32).\n",
    "    patch_size (int): 패치의 크기 (예: 16x16).\n",
    "    in_channels (int): 입력 이미지의 채널 수 (RGB의 경우 3).\n",
    "    num_classes (int): 분류할 클래스의 수 (CIFAR-10의 경우 10).\n",
    "    embed_dim (int): 임베딩 차원의 크기.\n",
    "    num_heads (int): 멀티헤드 어텐션에서의 헤드 수.\n",
    "    num_layers (int): Transformer Encoder 레이어의 수.\n",
    "    mlp_ratio (float): 피드포워드 네트워크의 차원 확장 비율.\n",
    "    dropout (float): 드롭아웃 비율.\n",
    "    \"\"\"\n",
    "    def __init__(self, img_size:int=32, patch_size:int=4, in_channels:int=3, num_classes:int=100, embed_dim:int=768, num_heads:int=12, num_layers:int=12, mlp_ratio:float=4., dropout:float=0.1):\n",
    "        super().__init__()\n",
    "\n",
    "        self.patch_embed = PatchEmbedding(img_size, patch_size, in_channels, embed_dim)\n",
    "        num_patches = self.patch_embed.n_patches\n",
    "        self.pos_embed = PositionalEmbedding(num_patches, embed_dim)\n",
    "\n",
    "        self.transformer_encoders = nn.ModuleList([\n",
    "            TransformerEncoderLayer(embed_dim, num_heads, mlp_ratio, dropout) \n",
    "            for _ in range(num_layers)\n",
    "        ])\n",
    "\n",
    "        self.norm = nn.LayerNorm(embed_dim)\n",
    "        self.head = nn.Linear(embed_dim, num_classes)\n",
    "        self.dropout = nn.Dropout(p=dropout)\n",
    "\n",
    "    def forward(self, x):\n",
    "        x = self.patch_embed(x)  # 이미지를 패치로 분할하고 임베딩\n",
    "        x = self.pos_embed(x)    # 위치 인코딩 적용\n",
    "\n",
    "        for layer in self.transformer_encoders:\n",
    "            x = layer(x)  # 각 Transformer Encoder 레이어 적용\n",
    "\n",
    "        x = self.norm(x)        # 정규화\n",
    "        \n",
    "        # cls_token의 출력을 사용하여 분류\n",
    "        cls_token_output = x[:, 0]  # 첫 번째 토큰 (cls_token) 추출\n",
    "        x = self.head(cls_token_output)  # 최종 분류를 위한 선형 레이어\n",
    "        return x"
   ]
  },
  {
   "cell_type": "code",
   "execution_count": 6,
   "metadata": {},
   "outputs": [
    {
     "data": {
      "text/plain": [
       "torch.Size([2, 10])"
      ]
     },
     "execution_count": 6,
     "metadata": {},
     "output_type": "execute_result"
    }
   ],
   "source": [
    "# 모델 테스트\n",
    "test_img = torch.randn(2, 3, 224, 224)  # 임의의 이미지 데이터 생성 (Batch x Channel x Width x Height)\n",
    "\n",
    "vit = VisionTransformer(img_size=224, patch_size=16, num_classes=10)  # 모델 초기화\n",
    "output = vit(test_img)     # 테스트 이미지를 모델에 통과\n",
    "\n",
    "output.shape  # 결과의 형태 확인 ([배치 크기, 클래스 수])"
   ]
  },
  {
   "cell_type": "code",
   "execution_count": 7,
   "metadata": {},
   "outputs": [],
   "source": [
    "batch_size = 256\n",
    "num_workers = 8\n",
    "num_classes = 10\n",
    "\n",
    "# label_smoothing = 0.1\n",
    "learning_rate = 0.001\n",
    "epochs = 80\n",
    "\n",
    "device = 'cuda:2'\n",
    "model_path = 'best_model.pth'  # 모델 저장 경로"
   ]
  },
  {
   "cell_type": "code",
   "execution_count": 8,
   "metadata": {},
   "outputs": [],
   "source": [
    "# # 데이터 증강을 위한 전처리\n",
    "# transform_train = transforms.Compose([\n",
    "#     transforms.RandomHorizontalFlip(),  # 50% 확률로 수평 뒤집기\n",
    "#     transforms.ColorJitter(brightness=0.2, contrast=0.2, saturation=0.2, hue=0.1),  # 색상 변경\n",
    "#     transforms.ToTensor(),\n",
    "#     transforms.Normalize((0.5, 0.5, 0.5), (0.5, 0.5, 0.5))\n",
    "# ])\n",
    "\n",
    "# transform_test = transforms.Compose([\n",
    "#     transforms.ToTensor(),\n",
    "#     transforms.Normalize((0.5, 0.5, 0.5), (0.5, 0.5, 0.5))\n",
    "# ])\n",
    "\n",
    "# trainset = torchvision.datasets.CIFAR100(root='./data', train=True, download=True, transform=transform_train)\n",
    "# trainloader = torch.utils.data.DataLoader(trainset, batch_size=batch_size, shuffle=True, num_workers=num_workers)\n",
    "\n",
    "# testset = torchvision.datasets.CIFAR100(root='./data', train=False, download=True, transform=transform_test)\n",
    "# testloader = torch.utils.data.DataLoader(testset, batch_size=batch_size, shuffle=False, num_workers=num_workers)\n"
   ]
  },
  {
   "cell_type": "code",
   "execution_count": 9,
   "metadata": {},
   "outputs": [
    {
     "name": "stdout",
     "output_type": "stream",
     "text": [
      "Files already downloaded and verified\n",
      "Files already downloaded and verified\n"
     ]
    }
   ],
   "source": [
    "# 데이터 증강을 위한 전처리\n",
    "transform_train = transforms.Compose([\n",
    "    transforms.RandomResizedCrop(224),\n",
    "    transforms.RandomHorizontalFlip(),  # 50% 확률로 수평 뒤집기\n",
    "    transforms.ColorJitter(brightness=0.2, contrast=0.2, saturation=0.2, hue=0.1),  # 색상 변경\n",
    "    transforms.ToTensor(),\n",
    "    transforms.Normalize((0.5, 0.5, 0.5), (0.5, 0.5, 0.5))\n",
    "])\n",
    "\n",
    "transform_test = transforms.Compose([\n",
    "    transforms.Resize((224, 224)),\n",
    "    transforms.ToTensor(),\n",
    "    transforms.Normalize((0.5, 0.5, 0.5), (0.5, 0.5, 0.5))\n",
    "])\n",
    "\n",
    "trainset = torchvision.datasets.CIFAR10(root='./data', train=True, download=True, transform=transform_train)\n",
    "trainloader = torch.utils.data.DataLoader(trainset, batch_size=batch_size, shuffle=True, num_workers=num_workers)\n",
    "\n",
    "testset = torchvision.datasets.CIFAR10(root='./data', train=False, download=True, transform=transform_test)\n",
    "testloader = torch.utils.data.DataLoader(testset, batch_size=batch_size, shuffle=False, num_workers=num_workers)\n"
   ]
  },
  {
   "cell_type": "code",
   "execution_count": 10,
   "metadata": {},
   "outputs": [],
   "source": [
    "class WarmupCosineAnnealingLR(_LRScheduler):\n",
    "    def __init__(self, optimizer, warmup_steps, total_steps, last_epoch=-1):\n",
    "        self.warmup_steps = warmup_steps\n",
    "        self.total_steps = total_steps\n",
    "        super(WarmupCosineAnnealingLR, self).__init__(optimizer, last_epoch)\n",
    "\n",
    "    def get_lr(self):\n",
    "        if self.last_epoch < self.warmup_steps:\n",
    "            return [base_lr * self.last_epoch / self.warmup_steps for base_lr in self.base_lrs]\n",
    "        else:\n",
    "            cosine_decay = 0.5 * (1 + math.cos(math.pi * (self.last_epoch - self.warmup_steps) / (self.total_steps - self.warmup_steps)))\n",
    "            return [base_lr * cosine_decay for base_lr in self.base_lrs]"
   ]
  },
  {
   "cell_type": "code",
   "execution_count": 11,
   "metadata": {},
   "outputs": [],
   "source": [
    "total_steps = len(trainloader) * epochs\n",
    "warmup_steps = total_steps * 0.2\n",
    "\n",
    "criterion = nn.CrossEntropyLoss()\n",
    "optimizer = optim.Adam(vit.parameters(), lr=learning_rate, betas=[0.9,0.999], weight_decay=0.03)\n",
    "# scheduler = CosineAnnealingLR(optimizer, T_max=total_steps, eta_min=0)\n",
    "# scheduler = WarmupCosineAnnealingLR(optimizer, warmup_steps, total_steps)"
   ]
  },
  {
   "cell_type": "code",
   "execution_count": 12,
   "metadata": {},
   "outputs": [],
   "source": [
    "class EarlyStopping:\n",
    "    def __init__(self, patience=5, min_delta=0):\n",
    "        self.patience = patience\n",
    "        self.min_delta = min_delta\n",
    "        self.counter = 0\n",
    "        self.best_loss = None\n",
    "        self.early_stop = False\n",
    "\n",
    "    def __call__(self, val_loss):\n",
    "        if self.best_loss == None:\n",
    "            self.best_loss = val_loss\n",
    "        elif val_loss > self.best_loss - self.min_delta:\n",
    "            self.counter += 1\n",
    "            if self.counter >= self.patience:\n",
    "                self.early_stop = True\n",
    "        else:\n",
    "            self.best_loss = val_loss\n",
    "            self.counter = 0"
   ]
  },
  {
   "cell_type": "code",
   "execution_count": 13,
   "metadata": {},
   "outputs": [
    {
     "name": "stderr",
     "output_type": "stream",
     "text": [
      "Epoch 1: 100%|██████████| 196/196 [05:54<00:00,  1.81s/it]\n"
     ]
    },
    {
     "name": "stdout",
     "output_type": "stream",
     "text": [
      "\tLoss: 2.423949499519504, Val Loss: 2.3988999485969544, LR: 0.001, Duration: 380.08 sec - model saved!\n"
     ]
    },
    {
     "name": "stderr",
     "output_type": "stream",
     "text": [
      "Epoch 2: 100%|██████████| 196/196 [05:56<00:00,  1.82s/it]\n"
     ]
    },
    {
     "name": "stdout",
     "output_type": "stream",
     "text": [
      "\tLoss: 2.3269309997558594, Val Loss: 2.319448268413544, LR: 0.001, Duration: 382.02 sec - model saved!\n"
     ]
    },
    {
     "name": "stderr",
     "output_type": "stream",
     "text": [
      "Epoch 3: 100%|██████████| 196/196 [05:58<00:00,  1.83s/it]\n"
     ]
    },
    {
     "name": "stdout",
     "output_type": "stream",
     "text": [
      "\tLoss: 2.3136721508843556, Val Loss: 2.3089305460453033, LR: 0.001, Duration: 384.36 sec - model saved!\n"
     ]
    },
    {
     "name": "stderr",
     "output_type": "stream",
     "text": [
      "Epoch 4: 100%|██████████| 196/196 [05:56<00:00,  1.82s/it]\n"
     ]
    },
    {
     "name": "stdout",
     "output_type": "stream",
     "text": [
      "\tLoss: 2.3083967870595505, Val Loss: 2.3047179102897646, LR: 0.001, Duration: 381.96 sec - model saved!\n"
     ]
    },
    {
     "name": "stderr",
     "output_type": "stream",
     "text": [
      "Epoch 5: 100%|██████████| 196/196 [05:54<00:00,  1.81s/it]\n"
     ]
    },
    {
     "name": "stdout",
     "output_type": "stream",
     "text": [
      "\tLoss: 2.3057995292605185, Val Loss: 2.303648179769516, LR: 0.001, Duration: 380.33 sec - model saved!\n"
     ]
    },
    {
     "name": "stderr",
     "output_type": "stream",
     "text": [
      "Epoch 6: 100%|██████████| 196/196 [05:55<00:00,  1.81s/it]\n"
     ]
    },
    {
     "name": "stdout",
     "output_type": "stream",
     "text": [
      "\tLoss: 2.3042480714467106, Val Loss: 2.3035337805747984, LR: 0.001, Duration: 380.10 sec - model saved!\n"
     ]
    },
    {
     "name": "stderr",
     "output_type": "stream",
     "text": [
      "Epoch 7: 100%|██████████| 196/196 [05:55<00:00,  1.81s/it]\n"
     ]
    },
    {
     "name": "stdout",
     "output_type": "stream",
     "text": [
      "\tLoss: 2.303646463520673, Val Loss: 2.303349697589874, LR: 0.001, Duration: 381.06 sec - model saved!\n"
     ]
    },
    {
     "name": "stderr",
     "output_type": "stream",
     "text": [
      "Epoch 8: 100%|██████████| 196/196 [05:55<00:00,  1.81s/it]\n"
     ]
    },
    {
     "name": "stdout",
     "output_type": "stream",
     "text": [
      "\tLoss: 2.303212209623687, Val Loss: 2.3031550288200378, LR: 0.001, Duration: 380.72 sec - model saved!\n"
     ]
    },
    {
     "name": "stderr",
     "output_type": "stream",
     "text": [
      "Epoch 9: 100%|██████████| 196/196 [05:55<00:00,  1.81s/it]\n"
     ]
    },
    {
     "name": "stdout",
     "output_type": "stream",
     "text": [
      "\tLoss: 2.3029524100070096, Val Loss: 2.302659583091736, LR: 0.001, Duration: 380.32 sec - model saved!\n"
     ]
    },
    {
     "name": "stderr",
     "output_type": "stream",
     "text": [
      "Epoch 10: 100%|██████████| 196/196 [05:53<00:00,  1.81s/it]\n"
     ]
    },
    {
     "name": "stdout",
     "output_type": "stream",
     "text": [
      "\tLoss: 2.302768880007218, Val Loss: 2.3025689244270326, LR: 0.001, Duration: 379.29 sec - model saved!\n"
     ]
    },
    {
     "name": "stderr",
     "output_type": "stream",
     "text": [
      "Epoch 11: 100%|██████████| 196/196 [05:52<00:00,  1.80s/it]\n"
     ]
    },
    {
     "name": "stdout",
     "output_type": "stream",
     "text": [
      "\tLoss: 2.302707077289114, Val Loss: 2.302605205774307, LR: 0.001, Duration: 377.25 sec\n"
     ]
    },
    {
     "name": "stderr",
     "output_type": "stream",
     "text": [
      "Epoch 12: 100%|██████████| 196/196 [05:52<00:00,  1.80s/it]\n"
     ]
    },
    {
     "name": "stdout",
     "output_type": "stream",
     "text": [
      "\tLoss: 2.302646227028905, Val Loss: 2.3025723814964296, LR: 0.001, Duration: 377.09 sec\n"
     ]
    },
    {
     "name": "stderr",
     "output_type": "stream",
     "text": [
      "Epoch 13: 100%|██████████| 196/196 [05:51<00:00,  1.79s/it]\n"
     ]
    },
    {
     "name": "stdout",
     "output_type": "stream",
     "text": [
      "\tLoss: 2.302659107714283, Val Loss: 2.302581453323364, LR: 0.001, Duration: 375.92 sec\n"
     ]
    },
    {
     "name": "stderr",
     "output_type": "stream",
     "text": [
      "Epoch 14: 100%|██████████| 196/196 [05:51<00:00,  1.79s/it]\n"
     ]
    },
    {
     "name": "stdout",
     "output_type": "stream",
     "text": [
      "\tLoss: 2.302656272236182, Val Loss: 2.3025784611701967, LR: 0.001, Duration: 375.45 sec\n"
     ]
    },
    {
     "name": "stderr",
     "output_type": "stream",
     "text": [
      "Epoch 15: 100%|██████████| 196/196 [05:50<00:00,  1.79s/it]\n"
     ]
    },
    {
     "name": "stdout",
     "output_type": "stream",
     "text": [
      "\tLoss: 2.30265374937836, Val Loss: 2.3025921046733857, LR: 0.001, Duration: 374.83 sec\n"
     ]
    },
    {
     "name": "stderr",
     "output_type": "stream",
     "text": [
      "Epoch 16: 100%|██████████| 196/196 [05:50<00:00,  1.79s/it]\n"
     ]
    },
    {
     "name": "stdout",
     "output_type": "stream",
     "text": [
      "\tLoss: 2.3026453329592336, Val Loss: 2.302564913034439, LR: 0.001, Duration: 375.87 sec - model saved!\n"
     ]
    },
    {
     "name": "stderr",
     "output_type": "stream",
     "text": [
      "Epoch 17: 100%|██████████| 196/196 [05:50<00:00,  1.79s/it]\n"
     ]
    },
    {
     "name": "stdout",
     "output_type": "stream",
     "text": [
      "\tLoss: 2.302657037365193, Val Loss: 2.3025956094264983, LR: 0.001, Duration: 374.93 sec\n"
     ]
    },
    {
     "name": "stderr",
     "output_type": "stream",
     "text": [
      "Epoch 18:  50%|█████     | 98/196 [02:58<02:58,  1.82s/it]\n"
     ]
    },
    {
     "ename": "KeyboardInterrupt",
     "evalue": "",
     "output_type": "error",
     "traceback": [
      "\u001b[0;31m---------------------------------------------------------------------------\u001b[0m",
      "\u001b[0;31mKeyboardInterrupt\u001b[0m                         Traceback (most recent call last)",
      "\u001b[1;32m/root/study/algorithm/03.ViT/vit_modeling.ipynb 셀 13\u001b[0m line \u001b[0;36m2\n\u001b[1;32m     <a href='vscode-notebook-cell://ssh-remote%2Bqscar:192.168.10.110/root/study/algorithm/03.ViT/vit_modeling.ipynb#X14sdnNjb2RlLXJlbW90ZQ%3D%3D?line=23'>24</a>\u001b[0m optimizer\u001b[39m.\u001b[39mstep()\n\u001b[1;32m     <a href='vscode-notebook-cell://ssh-remote%2Bqscar:192.168.10.110/root/study/algorithm/03.ViT/vit_modeling.ipynb#X14sdnNjb2RlLXJlbW90ZQ%3D%3D?line=24'>25</a>\u001b[0m \u001b[39m# scheduler.step()\u001b[39;00m\n\u001b[0;32m---> <a href='vscode-notebook-cell://ssh-remote%2Bqscar:192.168.10.110/root/study/algorithm/03.ViT/vit_modeling.ipynb#X14sdnNjb2RlLXJlbW90ZQ%3D%3D?line=25'>26</a>\u001b[0m running_loss \u001b[39m+\u001b[39m\u001b[39m=\u001b[39m loss\u001b[39m.\u001b[39;49mitem()\n\u001b[1;32m     <a href='vscode-notebook-cell://ssh-remote%2Bqscar:192.168.10.110/root/study/algorithm/03.ViT/vit_modeling.ipynb#X14sdnNjb2RlLXJlbW90ZQ%3D%3D?line=26'>27</a>\u001b[0m lr \u001b[39m=\u001b[39m optimizer\u001b[39m.\u001b[39mparam_groups[\u001b[39m0\u001b[39m][\u001b[39m\"\u001b[39m\u001b[39mlr\u001b[39m\u001b[39m\"\u001b[39m]\n\u001b[1;32m     <a href='vscode-notebook-cell://ssh-remote%2Bqscar:192.168.10.110/root/study/algorithm/03.ViT/vit_modeling.ipynb#X14sdnNjb2RlLXJlbW90ZQ%3D%3D?line=27'>28</a>\u001b[0m lrs\u001b[39m.\u001b[39mappend(lr)\n",
      "\u001b[0;31mKeyboardInterrupt\u001b[0m: "
     ]
    }
   ],
   "source": [
    "from tqdm import tqdm\n",
    "\n",
    "training_time = 0\n",
    "early_stopping = EarlyStopping(patience=10)\n",
    "losses = []\n",
    "val_losses = []\n",
    "lrs = []\n",
    "best_val_loss = float('inf')\n",
    "\n",
    "vit_save = False\n",
    "vit.to(device)\n",
    "\n",
    "for epoch in range(epochs):\n",
    "    vit.train()\n",
    "    start_time = time.time()\n",
    "    running_loss = 0.0\n",
    "    pbar = tqdm(enumerate(trainloader), total=len(trainloader), desc=f\"Epoch {epoch + 1}\")\n",
    "    for i, data in pbar:\n",
    "        inputs, labels = data[0].to(device), data[1].to(device)\n",
    "        optimizer.zero_grad()\n",
    "        outputs = vit(inputs)\n",
    "        loss = criterion(outputs, labels)\n",
    "        loss.backward()\n",
    "        optimizer.step()\n",
    "        # scheduler.step()\n",
    "        running_loss += loss.item()\n",
    "        lr = optimizer.param_groups[0][\"lr\"]\n",
    "        lrs.append(lr)\n",
    "    epoch_loss = running_loss / len(trainloader)\n",
    "    losses.append(epoch_loss)\n",
    "\n",
    "    # 검증 손실 계산\n",
    "    vit.eval()\n",
    "    val_loss = 0.0\n",
    "    with torch.no_grad():\n",
    "        for data in testloader:\n",
    "            inputs, labels = data[0].to(device), data[1].to(device)\n",
    "            outputs = vit(inputs)\n",
    "            loss = criterion(outputs, labels)\n",
    "            val_loss += loss.item()\n",
    "    val_loss /= len(testloader)\n",
    "    val_losses.append(val_loss)\n",
    "\n",
    "    # 모델 저장\n",
    "    if val_loss < best_val_loss:\n",
    "        best_val_loss = val_loss\n",
    "        vit_save = True\n",
    "        torch.save(vit.state_dict(), model_path)\n",
    "\n",
    "    epoch_duration = time.time() - start_time\n",
    "    training_time += epoch_duration\n",
    "    if vit_save:\n",
    "        print(f'\\tLoss: {epoch_loss}, Val Loss: {val_loss}, LR: {lr}, Duration: {epoch_duration:.2f} sec - model saved!')\n",
    "        vit_save = False\n",
    "    else :\n",
    "        print(f'\\tLoss: {epoch_loss}, Val Loss: {val_loss}, LR: {lr}, Duration: {epoch_duration:.2f} sec')\n",
    "\n",
    "    # Early Stopping 체크\n",
    "    early_stopping(val_loss)\n",
    "    if early_stopping.early_stop:\n",
    "        print(\"Early stopping\")\n",
    "        break\n",
    "\n",
    "# 학습 및 검증 손실 시각화\n",
    "plt.figure(figsize=(12, 5))\n",
    "plt.subplot(1, 2, 1)\n",
    "plt.plot(losses, label='Training Loss')\n",
    "plt.plot(val_losses, label='Validation Loss')\n",
    "plt.title('Training & Validation Loss')\n",
    "plt.xlabel('Epochs')\n",
    "plt.ylabel('Loss')\n",
    "plt.legend()\n",
    "\n",
    "plt.subplot(1, 2, 2)\n",
    "plt.plot(lrs, label='Learning Rate')\n",
    "plt.title('Learning Rate')\n",
    "plt.xlabel('Batch number')\n",
    "plt.ylabel('Learning Rate')\n",
    "plt.legend()\n",
    "plt.show()\n"
   ]
  },
  {
   "cell_type": "code",
   "execution_count": null,
   "metadata": {},
   "outputs": [],
   "source": [
    "import numpy as np\n",
    "import matplotlib.pyplot as plt\n",
    "from torchvision.utils import make_grid\n",
    "\n",
    "# Hook 함수 정의 및 등록\n",
    "attention_maps = []\n",
    "def get_attention_map(module, input, output):\n",
    "    global attention_maps\n",
    "    attention_maps.append(output[1].detach())\n",
    "hook = vit.transformer_encoders[0].attn.register_forward_hook(get_attention_map)\n",
    "\n",
    "# 모델을 통한 예측 및 Attention Map 추출\n",
    "original_images, labels = next(iter(testloader))\n",
    "outputs = vit(original_images.to(device))\n",
    "_, predicted = torch.max(outputs, 1)\n",
    "hook.remove()\n",
    "\n",
    "# CIFAR-10 클래스 레이블\n",
    "classes = ('plane', 'car', 'bird', 'cat', 'deer', 'dog', 'frog', 'horse', 'ship', 'truck')\n",
    "\n",
    "# Attention Map 가공 및 시각화 개선 함수\n",
    "def show_attention_on_image(img, attention_map, label, pred, threshold=0.0):\n",
    "    # 이미지 크기에 맞게 Attention Map 조정\n",
    "    attention_map = attention_map.cpu().numpy()\n",
    "    attention_map = attention_map - np.min(attention_map)\n",
    "    attention_map = attention_map / np.max(attention_map)\n",
    "\n",
    "    # 임계값 이하의 Attention 값 제거\n",
    "    # attention_map[attention_map < threshold] = 0\n",
    "\n",
    "    # 원본 이미지 크기로 Attention Map 업샘플링\n",
    "    attention_map_resized = np.resize(attention_map, (img.shape[1], img.shape[2]))\n",
    "\n",
    "    # 원본 이미지와 Attention Map 겹쳐서 표시\n",
    "    fig, axs = plt.subplots(1, 2, figsize=(10, 5))\n",
    "    axs[0].imshow(img.permute(1, 2, 0))\n",
    "    axs[0].axis('off')\n",
    "    axs[0].set_title(f'Original Image\\nTrue Label: {label}')\n",
    "\n",
    "    axs[1].imshow(img.permute(1, 2, 0))\n",
    "    axs[1].imshow(attention_map_resized, cmap='jet', alpha=0.6)  # 투명도 조절\n",
    "    axs[1].axis('off')\n",
    "    axs[1].set_title(f'Image with Attention Map\\nPredicted: {pred}')\n",
    "\n",
    "    plt.show()\n",
    "\n",
    "# 각 이미지에 대해 시각화 수행\n",
    "for i in range(4):\n",
    "    show_attention_on_image(original_images[i], attention_maps[0][i], classes[labels[i]], classes[predicted[i]])\n"
   ]
  }
 ],
 "metadata": {
  "kernelspec": {
   "display_name": "Python 3",
   "language": "python",
   "name": "python3"
  },
  "language_info": {
   "codemirror_mode": {
    "name": "ipython",
    "version": 3
   },
   "file_extension": ".py",
   "mimetype": "text/x-python",
   "name": "python",
   "nbconvert_exporter": "python",
   "pygments_lexer": "ipython3",
   "version": "3.10.12"
  }
 },
 "nbformat": 4,
 "nbformat_minor": 2
}
