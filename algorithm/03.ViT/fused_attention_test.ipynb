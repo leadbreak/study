{
 "cells": [
  {
   "attachments": {
    "image.png": {
     "image/png": "[encoded data removed]"
    }
   },
   "cell_type": "markdown",
   "metadata": {},
   "source": [
    "![image.png](attachment:image.png)"
   ]
  },
  {
   "cell_type": "markdown",
   "metadata": {},
   "source": [
    "### Case1: 일반적인 경우(without fused attention & amp)"
   ]
  },
  {
   "cell_type": "code",
   "execution_count": 1,
   "metadata": {},
   "outputs": [
    {
     "name": "stdout",
     "output_type": "stream",
     "text": [
      "Epoch 1:   0%|                                           | 0/34 [00:01<?, ?it/s]\n",
      "Traceback (most recent call last):\n",
      "  File \"/root/study/algorithm/03.ViT/model/train.py\", line 168, in <module>\n",
      "    main()\n",
      "  File \"/usr/local/lib/python3.10/dist-packages/click/core.py\", line 1157, in __call__\n",
      "    return self.main(*args, **kwargs)\n",
      "  File \"/usr/local/lib/python3.10/dist-packages/click/core.py\", line 1078, in main\n",
      "    rv = self.invoke(ctx)\n",
      "  File \"/usr/local/lib/python3.10/dist-packages/click/core.py\", line 1434, in invoke\n",
      "    return ctx.invoke(self.callback, **ctx.params)\n",
      "  File \"/usr/local/lib/python3.10/dist-packages/click/core.py\", line 783, in invoke\n",
      "    return __callback(*args, **kwargs)\n",
      "  File \"/root/study/algorithm/03.ViT/model/train.py\", line 123, in main\n",
      "    outputs = model(inputs)\n",
      "  File \"/usr/local/lib/python3.10/dist-packages/torch/nn/modules/module.py\", line 1518, in _wrapped_call_impl\n",
      "    return self._call_impl(*args, **kwargs)\n",
      "  File \"/usr/local/lib/python3.10/dist-packages/torch/nn/modules/module.py\", line 1527, in _call_impl\n",
      "    return forward_call(*args, **kwargs)\n",
      "  File \"/root/study/algorithm/03.ViT/model/vit_better.py\", line 264, in forward\n",
      "    x = layer(x)  # 각 Transformer Encoder 레이어 적용\n",
      "  File \"/usr/local/lib/python3.10/dist-packages/torch/nn/modules/module.py\", line 1518, in _wrapped_call_impl\n",
      "    return self._call_impl(*args, **kwargs)\n",
      "  File \"/usr/local/lib/python3.10/dist-packages/torch/nn/modules/module.py\", line 1527, in _call_impl\n",
      "    return forward_call(*args, **kwargs)\n",
      "  File \"/root/study/algorithm/03.ViT/model/vit_better.py\", line 192, in forward\n",
      "    x = x + self.drop_path(self.ls1(self.attn(x)))\n",
      "  File \"/usr/local/lib/python3.10/dist-packages/torch/nn/modules/module.py\", line 1518, in _wrapped_call_impl\n",
      "    return self._call_impl(*args, **kwargs)\n",
      "  File \"/usr/local/lib/python3.10/dist-packages/torch/nn/modules/module.py\", line 1527, in _call_impl\n",
      "    return forward_call(*args, **kwargs)\n",
      "  File \"/root/study/algorithm/03.ViT/model/vit_better.py\", line 101, in forward\n",
      "    q, k = self.q_norm(q), self.k_norm(k) # Norm\n",
      "  File \"/usr/local/lib/python3.10/dist-packages/torch/nn/modules/module.py\", line 1518, in _wrapped_call_impl\n",
      "    return self._call_impl(*args, **kwargs)\n",
      "  File \"/usr/local/lib/python3.10/dist-packages/torch/nn/modules/module.py\", line 1527, in _call_impl\n",
      "    return forward_call(*args, **kwargs)\n",
      "  File \"/usr/local/lib/python3.10/dist-packages/torch/nn/modules/normalization.py\", line 196, in forward\n",
      "    return F.layer_norm(\n",
      "  File \"/usr/local/lib/python3.10/dist-packages/torch/nn/functional.py\", line 2543, in layer_norm\n",
      "    return torch.layer_norm(input, normalized_shape, weight, bias, eps, torch.backends.cudnn.enabled)\n",
      "torch.cuda.OutOfMemoryError: CUDA out of memory. Tried to allocate 232.00 MiB. GPU 2 has a total capacty of 79.15 GiB of which 26.19 MiB is free. Process 2772892 has 79.11 GiB memory in use. Of the allocated memory 77.96 GiB is allocated by PyTorch, and 668.67 MiB is reserved by PyTorch but unallocated. If reserved but unallocated memory is large try setting max_split_size_mb to avoid fragmentation.  See documentation for Memory Management and PYTORCH_CUDA_ALLOC_CONF\n"
     ]
    }
   ],
   "source": [
    "!cd model && python3 train.py --epochs 3 --device cuda:2 --fused_attention False --batch_size 400"
   ]
  },
  {
   "cell_type": "code",
   "execution_count": 2,
   "metadata": {},
   "outputs": [
    {
     "name": "stdout",
     "output_type": "stream",
     "text": [
      "Epoch 1: 100%|██████████████████████████████████| 53/53 [02:08<00:00,  2.42s/it]\n",
      "\tLoss: 4.59330234887465, Val Loss: 4.356177806854248, LR: 0.001, Duration: 130.00 sec - model saved!\n",
      "Epoch 2: 100%|██████████████████████████████████| 53/53 [02:07<00:00,  2.41s/it]\n",
      "\tLoss: 4.251424861404131, Val Loss: 4.248814105987549, LR: 0.001, Duration: 130.27 sec - model saved!\n",
      "Epoch 3: 100%|██████████████████████████████████| 53/53 [02:07<00:00,  2.41s/it]\n",
      "\tLoss: 4.294714612780877, Val Loss: 4.412394762039185, LR: 0.001, Duration: 129.44 sec\n",
      "\u001b[36m\u001b[1mEpoch 당 평균 소요시간 : 129.90초\u001b[0m\n"
     ]
    }
   ],
   "source": [
    "!cd model && python3 train.py --epochs 3 --device cuda:2 --fused_attention False --batch_size 256"
   ]
  },
  {
   "cell_type": "markdown",
   "metadata": {},
   "source": [
    "### case2: fused attention without amp"
   ]
  },
  {
   "cell_type": "code",
   "execution_count": 3,
   "metadata": {},
   "outputs": [
    {
     "name": "stdout",
     "output_type": "stream",
     "text": [
      "Epoch 1:   0%|                                           | 0/27 [00:01<?, ?it/s]\n",
      "Traceback (most recent call last):\n",
      "  File \"/root/study/algorithm/03.ViT/model/train.py\", line 163, in <module>\n",
      "    main()\n",
      "  File \"/usr/local/lib/python3.10/dist-packages/click/core.py\", line 1157, in __call__\n",
      "    return self.main(*args, **kwargs)\n",
      "  File \"/usr/local/lib/python3.10/dist-packages/click/core.py\", line 1078, in main\n",
      "    rv = self.invoke(ctx)\n",
      "  File \"/usr/local/lib/python3.10/dist-packages/click/core.py\", line 1434, in invoke\n",
      "    return ctx.invoke(self.callback, **ctx.params)\n",
      "  File \"/usr/local/lib/python3.10/dist-packages/click/core.py\", line 783, in invoke\n",
      "    return __callback(*args, **kwargs)\n",
      "  File \"/root/study/algorithm/03.ViT/model/train.py\", line 118, in main\n",
      "    outputs = model(inputs)\n",
      "  File \"/usr/local/lib/python3.10/dist-packages/torch/nn/modules/module.py\", line 1518, in _wrapped_call_impl\n",
      "    return self._call_impl(*args, **kwargs)\n",
      "  File \"/usr/local/lib/python3.10/dist-packages/torch/nn/modules/module.py\", line 1527, in _call_impl\n",
      "    return forward_call(*args, **kwargs)\n",
      "  File \"/root/study/algorithm/03.ViT/model/vit_better.py\", line 264, in forward\n",
      "    x = layer(x)  # 각 Transformer Encoder 레이어 적용\n",
      "  File \"/usr/local/lib/python3.10/dist-packages/torch/nn/modules/module.py\", line 1518, in _wrapped_call_impl\n",
      "    return self._call_impl(*args, **kwargs)\n",
      "  File \"/usr/local/lib/python3.10/dist-packages/torch/nn/modules/module.py\", line 1527, in _call_impl\n",
      "    return forward_call(*args, **kwargs)\n",
      "  File \"/root/study/algorithm/03.ViT/model/vit_better.py\", line 197, in forward\n",
      "    x = x + self.drop_path(self.ls2(self.mlp(x2)))\n",
      "  File \"/usr/local/lib/python3.10/dist-packages/torch/nn/modules/module.py\", line 1518, in _wrapped_call_impl\n",
      "    return self._call_impl(*args, **kwargs)\n",
      "  File \"/usr/local/lib/python3.10/dist-packages/torch/nn/modules/module.py\", line 1527, in _call_impl\n",
      "    return forward_call(*args, **kwargs)\n",
      "  File \"/usr/local/lib/python3.10/dist-packages/torch/nn/modules/container.py\", line 215, in forward\n",
      "    input = module(input)\n",
      "  File \"/usr/local/lib/python3.10/dist-packages/torch/nn/modules/module.py\", line 1518, in _wrapped_call_impl\n",
      "    return self._call_impl(*args, **kwargs)\n",
      "  File \"/usr/local/lib/python3.10/dist-packages/torch/nn/modules/module.py\", line 1527, in _call_impl\n",
      "    return forward_call(*args, **kwargs)\n",
      "  File \"/usr/local/lib/python3.10/dist-packages/torch/nn/modules/linear.py\", line 114, in forward\n",
      "    return F.linear(input, self.weight, self.bias)\n",
      "torch.cuda.OutOfMemoryError: CUDA out of memory. Tried to allocate 1.15 GiB. GPU 2 has a total capacty of 79.15 GiB of which 430.19 MiB is free. Process 2773352 has 78.72 GiB memory in use. Of the allocated memory 78.15 GiB is allocated by PyTorch, and 69.56 MiB is reserved by PyTorch but unallocated. If reserved but unallocated memory is large try setting max_split_size_mb to avoid fragmentation.  See documentation for Memory Management and PYTORCH_CUDA_ALLOC_CONF\n"
     ]
    }
   ],
   "source": [
    "!cd model && python3 train.py --epochs 3 --device cuda:2 --fused_attention True --batch_size 512"
   ]
  },
  {
   "cell_type": "code",
   "execution_count": 4,
   "metadata": {},
   "outputs": [
    {
     "name": "stdout",
     "output_type": "stream",
     "text": [
      "Epoch 1: 100%|██████████████████████████████████| 34/34 [02:04<00:00,  3.68s/it]\n",
      "\tLoss: 4.568467364591711, Val Loss: 4.156822681427002, LR: 0.001, Duration: 126.89 sec - model saved!\n",
      "Epoch 2: 100%|██████████████████████████████████| 34/34 [02:04<00:00,  3.67s/it]\n",
      "\tLoss: 4.062245361945209, Val Loss: 3.8136157989501953, LR: 0.001, Duration: 127.02 sec - model saved!\n",
      "Epoch 3: 100%|██████████████████████████████████| 34/34 [02:04<00:00,  3.66s/it]\n",
      "\tLoss: 3.834285820231718, Val Loss: 3.714512348175049, LR: 0.001, Duration: 126.93 sec - model saved!\n",
      "\u001b[36m\u001b[1mEpoch 당 평균 소요시간 : 126.94초\u001b[0m\n"
     ]
    }
   ],
   "source": [
    "!cd model && python3 train.py --epochs 3 --device cuda:2 --fused_attention True --batch_size 400"
   ]
  },
  {
   "cell_type": "markdown",
   "metadata": {},
   "source": [
    "### case3: amp without fused attention"
   ]
  },
  {
   "cell_type": "code",
   "execution_count": 5,
   "metadata": {},
   "outputs": [
    {
     "name": "stdout",
     "output_type": "stream",
     "text": [
      "Epoch 1:   0%|                                           | 0/27 [00:01<?, ?it/s]\n",
      "Traceback (most recent call last):\n",
      "  File \"/root/study/algorithm/03.ViT/model/train_better.py\", line 237, in <module>\n",
      "    main()\n",
      "  File \"/usr/local/lib/python3.10/dist-packages/click/core.py\", line 1157, in __call__\n",
      "    return self.main(*args, **kwargs)\n",
      "  File \"/usr/local/lib/python3.10/dist-packages/click/core.py\", line 1078, in main\n",
      "    rv = self.invoke(ctx)\n",
      "  File \"/usr/local/lib/python3.10/dist-packages/click/core.py\", line 1434, in invoke\n",
      "    return ctx.invoke(self.callback, **ctx.params)\n",
      "  File \"/usr/local/lib/python3.10/dist-packages/click/core.py\", line 783, in invoke\n",
      "    return __callback(*args, **kwargs)\n",
      "  File \"/root/study/algorithm/03.ViT/model/train_better.py\", line 137, in main\n",
      "    outputs = model(inputs)\n",
      "  File \"/usr/local/lib/python3.10/dist-packages/torch/nn/modules/module.py\", line 1518, in _wrapped_call_impl\n",
      "    return self._call_impl(*args, **kwargs)\n",
      "  File \"/usr/local/lib/python3.10/dist-packages/torch/nn/modules/module.py\", line 1527, in _call_impl\n",
      "    return forward_call(*args, **kwargs)\n",
      "  File \"/root/study/algorithm/03.ViT/model/vit_better.py\", line 264, in forward\n",
      "    x = layer(x)  # 각 Transformer Encoder 레이어 적용\n",
      "  File \"/usr/local/lib/python3.10/dist-packages/torch/nn/modules/module.py\", line 1518, in _wrapped_call_impl\n",
      "    return self._call_impl(*args, **kwargs)\n",
      "  File \"/usr/local/lib/python3.10/dist-packages/torch/nn/modules/module.py\", line 1527, in _call_impl\n",
      "    return forward_call(*args, **kwargs)\n",
      "  File \"/root/study/algorithm/03.ViT/model/vit_better.py\", line 192, in forward\n",
      "    x = x + self.drop_path(self.ls1(self.attn(x)))\n",
      "  File \"/usr/local/lib/python3.10/dist-packages/torch/nn/modules/module.py\", line 1518, in _wrapped_call_impl\n",
      "    return self._call_impl(*args, **kwargs)\n",
      "  File \"/usr/local/lib/python3.10/dist-packages/torch/nn/modules/module.py\", line 1527, in _call_impl\n",
      "    return forward_call(*args, **kwargs)\n",
      "  File \"/root/study/algorithm/03.ViT/model/vit_better.py\", line 113, in forward\n",
      "    attn = self.attn_drop(attn)\n",
      "  File \"/usr/local/lib/python3.10/dist-packages/torch/nn/modules/module.py\", line 1518, in _wrapped_call_impl\n",
      "    return self._call_impl(*args, **kwargs)\n",
      "  File \"/usr/local/lib/python3.10/dist-packages/torch/nn/modules/module.py\", line 1527, in _call_impl\n",
      "    return forward_call(*args, **kwargs)\n",
      "  File \"/usr/local/lib/python3.10/dist-packages/torch/nn/modules/dropout.py\", line 58, in forward\n",
      "    return F.dropout(input, self.p, self.training, self.inplace)\n",
      "  File \"/usr/local/lib/python3.10/dist-packages/torch/nn/functional.py\", line 1266, in dropout\n",
      "    return _VF.dropout_(input, p, training) if inplace else _VF.dropout(input, p, training)\n",
      "torch.cuda.OutOfMemoryError: CUDA out of memory. Tried to allocate 910.00 MiB. GPU 2 has a total capacty of 79.15 GiB of which 342.19 MiB is free. Process 2773674 has 78.80 GiB memory in use. Of the allocated memory 77.91 GiB is allocated by PyTorch, and 394.27 MiB is reserved by PyTorch but unallocated. If reserved but unallocated memory is large try setting max_split_size_mb to avoid fragmentation.  See documentation for Memory Management and PYTORCH_CUDA_ALLOC_CONF\n"
     ]
    }
   ],
   "source": [
    "!cd model && python3 train_better.py --epochs 3 --device cuda:2 --fused_attention False --batch_size 512"
   ]
  },
  {
   "cell_type": "code",
   "execution_count": 6,
   "metadata": {},
   "outputs": [
    {
     "name": "stdout",
     "output_type": "stream",
     "text": [
      "Epoch 1:   0%|                                           | 0/34 [00:00<?, ?it/s]/usr/local/lib/python3.10/dist-packages/torch/optim/lr_scheduler.py:136: UserWarning: Detected call of `lr_scheduler.step()` before `optimizer.step()`. In PyTorch 1.1.0 and later, you should call them in the opposite order: `optimizer.step()` before `lr_scheduler.step()`.  Failure to do this will result in PyTorch skipping the first value of the learning rate schedule. See more details at https://pytorch.org/docs/stable/optim.html#how-to-adjust-learning-rate\n",
      "  warnings.warn(\"Detected call of `lr_scheduler.step()` before `optimizer.step()`. \"\n",
      "Epoch 1: 100%|██████████████████████████████████| 34/34 [01:06<00:00,  1.96s/it]\n",
      "\tLoss: 4.774901277878705, Val Loss: 4.57634711265564, LR: 0.001, Duration: 68.85 sec - model saved!\n",
      "Epoch 2: 100%|██████████████████████████████████| 34/34 [01:05<00:00,  1.93s/it]\n",
      "\tLoss: 4.403019428253174, Val Loss: 4.29258918762207, LR: 0.001, Duration: 68.07 sec - model saved!\n",
      "Epoch 3: 100%|██████████████████████████████████| 34/34 [01:04<00:00,  1.90s/it]\n",
      "\tLoss: 4.24144038032083, Val Loss: 4.099507927894592, LR: 0.001, Duration: 66.86 sec - model saved!\n",
      "\u001b[36m\u001b[1mEpoch 당 평균 소요시간 : 67.93초\u001b[0m\n",
      "/usr/local/lib/python3.10/dist-packages/sklearn/metrics/_classification.py:1344: UndefinedMetricWarning: Precision and F-score are ill-defined and being set to 0.0 in labels with no predicted samples. Use `zero_division` parameter to control this behavior.\n",
      "  _warn_prf(average, modifier, msg_start, len(result))\n",
      "      Metric     Value\n",
      "0   Accuracy  0.072000\n",
      "1  Precision  0.026792\n",
      "2     Recall  0.072000\n",
      "3   F1 Score  0.034345\n"
     ]
    }
   ],
   "source": [
    "!cd model && python3 train_better.py --epochs 3 --device cuda:2 --fused_attention False --batch_size 400"
   ]
  },
  {
   "cell_type": "markdown",
   "metadata": {},
   "source": [
    "### case4: both(fused attention & amp)"
   ]
  },
  {
   "cell_type": "code",
   "execution_count": 9,
   "metadata": {},
   "outputs": [
    {
     "name": "stdout",
     "output_type": "stream",
     "text": [
      "Epoch 1:   0%|                                           | 0/24 [00:00<?, ?it/s]/usr/local/lib/python3.10/dist-packages/torch/optim/lr_scheduler.py:136: UserWarning: Detected call of `lr_scheduler.step()` before `optimizer.step()`. In PyTorch 1.1.0 and later, you should call them in the opposite order: `optimizer.step()` before `lr_scheduler.step()`.  Failure to do this will result in PyTorch skipping the first value of the learning rate schedule. See more details at https://pytorch.org/docs/stable/optim.html#how-to-adjust-learning-rate\n",
      "  warnings.warn(\"Detected call of `lr_scheduler.step()` before `optimizer.step()`. \"\n",
      "Epoch 1: 100%|██████████████████████████████████| 24/24 [01:03<00:00,  2.64s/it]\n",
      "\tLoss: 4.848766624927521, Val Loss: 4.73553466796875, LR: 0.001, Duration: 65.30 sec - model saved!\n",
      "Epoch 2: 100%|██████████████████████████████████| 24/24 [01:02<00:00,  2.60s/it]\n",
      "\tLoss: 4.494546155134837, Val Loss: 4.252480506896973, LR: 0.001, Duration: 64.60 sec - model saved!\n",
      "Epoch 3: 100%|██████████████████████████████████| 24/24 [01:02<00:00,  2.59s/it]\n",
      "\tLoss: 4.140579372644424, Val Loss: 4.035194396972656, LR: 0.001, Duration: 64.44 sec - model saved!\n",
      "\u001b[36m\u001b[1mEpoch 당 평균 소요시간 : 64.78초\u001b[0m\n",
      "/usr/local/lib/python3.10/dist-packages/sklearn/metrics/_classification.py:1344: UndefinedMetricWarning: Precision and F-score are ill-defined and being set to 0.0 in labels with no predicted samples. Use `zero_division` parameter to control this behavior.\n",
      "  _warn_prf(average, modifier, msg_start, len(result))\n",
      "      Metric     Value\n",
      "0   Accuracy  0.082000\n",
      "1  Precision  0.033207\n",
      "2     Recall  0.082000\n",
      "3   F1 Score  0.042102\n"
     ]
    }
   ],
   "source": [
    "!cd model && python3 train_better.py --epochs 3 --device cuda:2 --fused_attention True --batch_size 580"
   ]
  },
  {
   "cell_type": "code",
   "execution_count": 7,
   "metadata": {},
   "outputs": [
    {
     "name": "stdout",
     "output_type": "stream",
     "text": [
      "Epoch 1:   0%|                                           | 0/27 [00:00<?, ?it/s]/usr/local/lib/python3.10/dist-packages/torch/optim/lr_scheduler.py:136: UserWarning: Detected call of `lr_scheduler.step()` before `optimizer.step()`. In PyTorch 1.1.0 and later, you should call them in the opposite order: `optimizer.step()` before `lr_scheduler.step()`.  Failure to do this will result in PyTorch skipping the first value of the learning rate schedule. See more details at https://pytorch.org/docs/stable/optim.html#how-to-adjust-learning-rate\n",
      "  warnings.warn(\"Detected call of `lr_scheduler.step()` before `optimizer.step()`. \"\n",
      "Epoch 1: 100%|██████████████████████████████████| 27/27 [01:01<00:00,  2.27s/it]\n",
      "\tLoss: 4.790060926366736, Val Loss: 4.67809534072876, LR: 0.001, Duration: 63.29 sec - model saved!\n",
      "Epoch 2: 100%|██████████████████████████████████| 27/27 [01:00<00:00,  2.25s/it]\n",
      "\tLoss: 4.454590214623345, Val Loss: 4.212847709655762, LR: 0.001, Duration: 62.95 sec - model saved!\n",
      "Epoch 3: 100%|██████████████████████████████████| 27/27 [01:00<00:00,  2.24s/it]\n",
      "\tLoss: 4.096831012655188, Val Loss: 4.013503551483154, LR: 0.001, Duration: 62.77 sec - model saved!\n",
      "\u001b[36m\u001b[1mEpoch 당 평균 소요시간 : 63.00초\u001b[0m\n",
      "/usr/local/lib/python3.10/dist-packages/sklearn/metrics/_classification.py:1344: UndefinedMetricWarning: Precision and F-score are ill-defined and being set to 0.0 in labels with no predicted samples. Use `zero_division` parameter to control this behavior.\n",
      "  _warn_prf(average, modifier, msg_start, len(result))\n",
      "      Metric     Value\n",
      "0   Accuracy  0.106000\n",
      "1  Precision  0.063278\n",
      "2     Recall  0.106000\n",
      "3   F1 Score  0.062256\n"
     ]
    }
   ],
   "source": [
    "!cd model && python3 train_better.py --epochs 3 --device cuda:2 --fused_attention True --batch_size 512"
   ]
  }
 ],
 "metadata": {
  "kernelspec": {
   "display_name": "Python 3",
   "language": "python",
   "name": "python3"
  },
  "language_info": {
   "codemirror_mode": {
    "name": "ipython",
    "version": 3
   },
   "file_extension": ".py",
   "mimetype": "text/x-python",
   "name": "python",
   "nbconvert_exporter": "python",
   "pygments_lexer": "ipython3",
   "version": "3.10.12"
  }
 },
 "nbformat": 4,
 "nbformat_minor": 2
}
