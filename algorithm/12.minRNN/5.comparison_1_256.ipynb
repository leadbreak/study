{
 "cells": [
  {
   "cell_type": "code",
   "execution_count": 1,
   "id": "20ec8bf0",
   "metadata": {
    "id": "20ec8bf0"
   },
   "outputs": [
    {
     "name": "stderr",
     "output_type": "stream",
     "text": [
      "/usr/local/lib/python3.10/dist-packages/torch/utils/_pytree.py:185: FutureWarning: optree is installed but the version is too old to support PyTorch Dynamo in C++ pytree. C++ pytree support is disabled. Please consider upgrading optree using `python3 -m pip install --upgrade 'optree>=0.13.0'`.\n",
      "  warnings.warn(\n"
     ]
    }
   ],
   "source": [
    "import torch\n",
    "import torch.nn as nn\n",
    "import torch.optim as optim\n",
    "from torch.utils.data import Dataset, DataLoader\n",
    "import numpy as np\n",
    "import time\n",
    "import matplotlib.pyplot as plt\n",
    "import pandas as pd"
   ]
  },
  {
   "cell_type": "markdown",
   "id": "5a3390f4",
   "metadata": {
    "id": "5a3390f4"
   },
   "source": [
    "## Hyperparameters and Configuration"
   ]
  },
  {
   "cell_type": "code",
   "execution_count": 2,
   "id": "d0c61f36",
   "metadata": {
    "colab": {
     "base_uri": "https://localhost:8080/"
    },
    "executionInfo": {
     "elapsed": 6,
     "status": "ok",
     "timestamp": 1732703737281,
     "user": {
      "displayName": "Hugman Sangkeun Jung",
      "userId": "08689291704194029524"
     },
     "user_tz": -540
    },
    "id": "d0c61f36",
    "outputId": "45d9894c-a14d-4164-9f2d-699025751e72"
   },
   "outputs": [
    {
     "name": "stdout",
     "output_type": "stream",
     "text": [
      "Using device: cuda:0\n"
     ]
    }
   ],
   "source": [
    "# Modified hyperparameters\n",
    "SEQUENCE_LENGTH = 256\n",
    "\n",
    "EMBEDDING_DIM = SEQUENCE_LENGTH\n",
    "HIDDEN_DIM = EMBEDDING_DIM\n",
    "\n",
    "BATCH_SIZE = 512\n",
    "EPOCHS = 15\n",
    "LEARNING_RATE = 1e-4\n",
    "VALIDATION_SPLIT = 0.1\n",
    "\n",
    "NUM_LAYERS = 2\n",
    "NUM_HEADS = 4\n",
    "FFN_DIM = SEQUENCE_LENGTH\n",
    "DROPOUT = 0.1\n",
    "\n",
    "device = torch.device('cuda:0' if torch.cuda.is_available() else 'cpu')\n",
    "print(f\"Using device: {device}\")"
   ]
  },
  {
   "cell_type": "markdown",
   "id": "89c9b962",
   "metadata": {
    "id": "89c9b962"
   },
   "source": [
    "## Data Preparation\n",
    "\n",
    "We are using the TinyShakespeare dataset, a small character-level text corpus consisting of a subset of Shakespeare's plays. It's often used for testing sequence models, as it includes a rich set of vocabulary and provides a challenging task for next-character prediction."
   ]
  },
  {
   "cell_type": "code",
   "execution_count": 3,
   "id": "089830e2",
   "metadata": {
    "id": "089830e2"
   },
   "outputs": [],
   "source": [
    "## Utility Functions\n",
    "\n",
    "def load_data(filename):\n",
    "    with open(filename, 'r', encoding='utf-8') as f:\n",
    "        return f.read()\n",
    "\n",
    "def create_char_mappings(text):\n",
    "    chars = sorted(list(set(text)))\n",
    "    char_to_idx = {ch: i for i, ch in enumerate(chars)}\n",
    "    idx_to_char = {i: ch for i, ch in enumerate(chars)}\n",
    "    return chars, char_to_idx, idx_to_char"
   ]
  },
  {
   "cell_type": "markdown",
   "id": "30fc6452",
   "metadata": {
    "id": "30fc6452"
   },
   "source": [
    "## Dataset"
   ]
  },
  {
   "cell_type": "code",
   "execution_count": 4,
   "id": "f07670d9",
   "metadata": {
    "id": "f07670d9"
   },
   "outputs": [],
   "source": [
    "class CharDataset(Dataset):\n",
    "    def __init__(self, text, seq_length, char_to_idx):\n",
    "        self.text = text\n",
    "        self.seq_length = seq_length\n",
    "        self.char_to_idx = char_to_idx\n",
    "\n",
    "    def __len__(self):\n",
    "        return len(self.text) - self.seq_length\n",
    "\n",
    "    def __getitem__(self, idx):\n",
    "        x = [self.char_to_idx[ch] for ch in self.text[idx:idx+self.seq_length]]\n",
    "        y = [self.char_to_idx[ch] for ch in self.text[idx+1:idx+self.seq_length+1]]\n",
    "        return torch.tensor(x), torch.tensor(y)"
   ]
  },
  {
   "cell_type": "code",
   "execution_count": 5,
   "id": "9172da13",
   "metadata": {
    "id": "9172da13"
   },
   "outputs": [],
   "source": [
    "def prepare_data(text, seq_length, batch_size, val_split):\n",
    "    chars, char_to_idx, idx_to_char = create_char_mappings(text)\n",
    "\n",
    "    # Split data into train and validation\n",
    "    val_size = int(len(text) * val_split)\n",
    "    train_text, val_text = text[:-val_size], text[-val_size:]\n",
    "\n",
    "    train_dataset = CharDataset(train_text, seq_length, char_to_idx)\n",
    "    val_dataset = CharDataset(val_text, seq_length, char_to_idx)\n",
    "\n",
    "    train_loader = DataLoader(train_dataset, batch_size=batch_size, shuffle=True, num_workers=12, pin_memory=True)\n",
    "    val_loader = DataLoader(val_dataset, batch_size=batch_size, shuffle=False, num_workers=12, pin_memory=True)\n",
    "\n",
    "    return train_loader, val_loader, chars, char_to_idx, idx_to_char"
   ]
  },
  {
   "cell_type": "code",
   "execution_count": 6,
   "id": "nEwKFB_8L6AG",
   "metadata": {
    "colab": {
     "base_uri": "https://localhost:8080/"
    },
    "executionInfo": {
     "elapsed": 3706,
     "status": "ok",
     "timestamp": 1732704246464,
     "user": {
      "displayName": "Hugman Sangkeun Jung",
      "userId": "08689291704194029524"
     },
     "user_tz": -540
    },
    "id": "nEwKFB_8L6AG",
    "outputId": "e75cdff9-3775-461e-d930-0ced534bf74d"
   },
   "outputs": [],
   "source": [
    "# !wget --no-check-certificate 'https://drive.google.com/uc?export=download&id=19zosLuU0z4MxIMKbGVYEGlg52QyfbTIy' -O input.txt"
   ]
  },
  {
   "cell_type": "code",
   "execution_count": 7,
   "id": "47d03398",
   "metadata": {
    "colab": {
     "base_uri": "https://localhost:8080/"
    },
    "executionInfo": {
     "elapsed": 668,
     "status": "ok",
     "timestamp": 1732704255324,
     "user": {
      "displayName": "Hugman Sangkeun Jung",
      "userId": "08689291704194029524"
     },
     "user_tz": -540
    },
    "id": "47d03398",
    "outputId": "f247f5b3-88ff-4ecb-e8a3-4b2e42a2820b"
   },
   "outputs": [
    {
     "name": "stdout",
     "output_type": "stream",
     "text": [
      "Total characters: 1115394\n",
      "Vocabulary size: 65\n",
      "Train dataset size: 1003599\n",
      "Validation dataset size: 111283\n"
     ]
    }
   ],
   "source": [
    "# Load the data\n",
    "text = load_data('../data/input.txt')\n",
    "train_loader, val_loader, chars, char_to_idx, idx_to_char = prepare_data(text, SEQUENCE_LENGTH, BATCH_SIZE, VALIDATION_SPLIT)\n",
    "vocab_size = len(chars)\n",
    "\n",
    "print(f\"Total characters: {len(text)}\")\n",
    "print(f\"Vocabulary size: {vocab_size}\")\n",
    "print(f\"Train dataset size: {len(train_loader.dataset)}\")\n",
    "print(f\"Validation dataset size: {len(val_loader.dataset)}\")"
   ]
  },
  {
   "cell_type": "markdown",
   "id": "9442b104",
   "metadata": {
    "id": "9442b104"
   },
   "source": [
    "## Data Visualization"
   ]
  },
  {
   "cell_type": "code",
   "execution_count": 8,
   "id": "f1f0a6a1",
   "metadata": {
    "colab": {
     "base_uri": "https://localhost:8080/"
    },
    "executionInfo": {
     "elapsed": 916,
     "status": "ok",
     "timestamp": 1732704257555,
     "user": {
      "displayName": "Hugman Sangkeun Jung",
      "userId": "08689291704194029524"
     },
     "user_tz": -540
    },
    "id": "f1f0a6a1",
    "outputId": "9ef6eb5a-0015-40ad-f143-236e3d38fb7e"
   },
   "outputs": [
    {
     "name": "stdout",
     "output_type": "stream",
     "text": [
      "Input shape: torch.Size([512, 256])\n",
      "Target shape: torch.Size([512, 256])\n",
      "Sample 1: ------------------------------\n",
      "Input sequence :  for consul.MENENIUS:Fie, fie, fie!This is the way to kindle, not to quench.First Senator:To unbuild the city and to lay all flat.SICINIUS:What is the city but the people?Citizens:True,The people are the city.BRUTUS:By the consent of all, \n",
      "Target sequence: for consul.MENENIUS:Fie, fie, fie!This is the way to kindle, not to quench.First Senator:To unbuild the city and to lay all flat.SICINIUS:What is the city but the people?Citizens:True,The people are the city.BRUTUS:By the consent of all, w\n",
      "\n",
      "Sample 2: ------------------------------\n",
      "Input sequence :  of his most precious queenand children are even now to be afresh lamented.Say to me, when sawest thou the Prince Florizel, myson? Kings are no less unhappy, their issue notbeing gracious, than they are in losing them whenthey have approved their virt\n",
      "Target sequence: of his most precious queenand children are even now to be afresh lamented.Say to me, when sawest thou the Prince Florizel, myson? Kings are no less unhappy, their issue notbeing gracious, than they are in losing them whenthey have approved their virtu\n",
      "\n",
      "Sample 3: ------------------------------\n",
      "Input sequence : do good.QUEEN ELIZABETH:Shall I forget myself to be myself?KING RICHARD III:Ay, if yourself's remembrance wrong yourself.QUEEN ELIZABETH:But thou didst kill my children.KING RICHARD III:But in your daughter's womb I bury them:Where in that nes\n",
      "Target sequence: o good.QUEEN ELIZABETH:Shall I forget myself to be myself?KING RICHARD III:Ay, if yourself's remembrance wrong yourself.QUEEN ELIZABETH:But thou didst kill my children.KING RICHARD III:But in your daughter's womb I bury them:Where in that nest\n",
      "\n"
     ]
    }
   ],
   "source": [
    "# Function to convert index sequence to character sequence\n",
    "def indices_to_text(indices, idx_to_char):\n",
    "    return ''.join([idx_to_char[idx.item()] for idx in indices])\n",
    "\n",
    "# Get a batch of data\n",
    "dataiter = iter(train_loader)\n",
    "batch_x, batch_y = next(dataiter)\n",
    "\n",
    "print(f\"Input shape: {batch_x.shape}\")\n",
    "print(f\"Target shape: {batch_y.shape}\")\n",
    "\n",
    "# Print a few samples from the batch\n",
    "num_samples = 3\n",
    "for i in range(num_samples):\n",
    "    print(f\"Sample {i+1}: ------------------------------\" )\n",
    "    print(\"Input sequence :\", indices_to_text(batch_x[i], idx_to_char).replace('\\n',''))\n",
    "    print(\"Target sequence:\", indices_to_text(batch_y[i], idx_to_char).replace('\\n',''))\n",
    "    print()\n"
   ]
  },
  {
   "cell_type": "markdown",
   "id": "5486f73f",
   "metadata": {
    "id": "5486f73f"
   },
   "source": [
    "## Training Function"
   ]
  },
  {
   "cell_type": "code",
   "execution_count": 9,
   "id": "61a52f82",
   "metadata": {},
   "outputs": [],
   "source": [
    "def print_vram_usage(device=\"cuda\"):\n",
    "    allocated = torch.cuda.memory_allocated(device) / (1024**2)  # in MB\n",
    "    reserved = torch.cuda.memory_reserved(device) / (1024**2)    # in MB\n",
    "    max_allocated = torch.cuda.max_memory_allocated(device) / (1024**2)  # in MB\n",
    "    print(f\"Allocated: {allocated:.2f} MB, Reserved: {reserved:.2f} MB, Max Allocated: {max_allocated:.2f} MB\")"
   ]
  },
  {
   "cell_type": "code",
   "execution_count": 10,
   "id": "59178a11",
   "metadata": {
    "id": "59178a11"
   },
   "outputs": [],
   "source": [
    "def validate(model, dataloader, criterion, device, epoch, step):\n",
    "    model.eval()\n",
    "    losses = []\n",
    "    with torch.no_grad():\n",
    "        for x, y in dataloader:\n",
    "            x, y = x.to(device), y.to(device)\n",
    "            output, _ = model(x)\n",
    "            loss = criterion(output.view(-1, output.size(-1)), y.view(-1))\n",
    "            losses.append((step, epoch, loss.item()))\n",
    "    return losses"
   ]
  },
  {
   "cell_type": "code",
   "execution_count": 11,
   "id": "ea5e61f5",
   "metadata": {
    "id": "ea5e61f5"
   },
   "outputs": [],
   "source": [
    "from tqdm import tqdm\n",
    "\n",
    "def train(model, dataloader, criterion, optimizer, device, epoch, step):\n",
    "    model.train()\n",
    "    losses = []\n",
    "    vram_usage = []\n",
    "    scaler = torch.amp.GradScaler('cuda')\n",
    "    pbar = tqdm(dataloader, desc=f\"Epoch {epoch}\", leave=False)\n",
    "    for batch, (x, y) in enumerate(pbar):\n",
    "        x, y = x.to(device), y.to(device)\n",
    "        optimizer.zero_grad()\n",
    "        \n",
    "        with torch.amp.autocast('cuda'):\n",
    "            output, _ = model(x)\n",
    "            loss = criterion(output.view(-1, output.size(-1)), y.view(-1))\n",
    "            \n",
    "        scaler.scale(loss).backward()\n",
    "        scaler.step(optimizer)\n",
    "        scaler.update()\n",
    "\n",
    "        step += 1\n",
    "        losses.append((step, epoch, loss.item()))\n",
    "        \n",
    "        # VRAM 사용량을 progress bar의 postfix로 업데이트\n",
    "        allocated = torch.cuda.memory_allocated(device) / (1024**2)\n",
    "        vram_usage.append(allocated)\n",
    "        pbar.set_postfix(loss=f'{loss.item():.4f}', step=step, vram=f'{allocated:.2f} MB')\n",
    "    return losses, step, vram_usage"
   ]
  },
  {
   "cell_type": "markdown",
   "id": "cbedfd61",
   "metadata": {
    "id": "cbedfd61"
   },
   "source": [
    "## Generation Function"
   ]
  },
  {
   "cell_type": "code",
   "execution_count": 12,
   "id": "e91075e8",
   "metadata": {
    "id": "e91075e8"
   },
   "outputs": [],
   "source": [
    "def train_model(model, train_loader, val_loader, criterion, optimizer, device, epochs):\n",
    "    all_train_losses = []\n",
    "    all_val_losses = []\n",
    "    all_vram_usages = []\n",
    "    step = 0\n",
    "\n",
    "    for epoch in range(1, epochs + 1):\n",
    "        epoch_start_time = time.time()\n",
    "        # Training phase with tqdm updates\n",
    "        epoch_train_losses, step, vram_usage = train(model, train_loader, criterion, optimizer, device, epoch, step)\n",
    "        all_train_losses.extend(epoch_train_losses)\n",
    "        all_vram_usages.append(vram_usage)\n",
    "        \n",
    "        # Validation phase\n",
    "        epoch_val_losses = validate(model, val_loader, criterion, device, epoch, step)\n",
    "        all_val_losses.extend(epoch_val_losses)\n",
    "        \n",
    "        epoch_time = time.time() - epoch_start_time\n",
    "        print(f'Epoch {epoch}/{epochs}, Train Loss: {epoch_train_losses[-1][2]:.4f}, '\n",
    "              f'Val Loss: {epoch_val_losses[-1][2]:.4f}, Epoch Time: {epoch_time:.2f}s',\n",
    "              f'Average Vram Usage: {np.mean(vram_usage):.2f}MB')\n",
    "\n",
    "    train_losses_df = pd.DataFrame(all_train_losses, columns=['step', 'epoch', 'loss_value'])\n",
    "    val_losses_df = pd.DataFrame(all_val_losses, columns=['step', 'epoch', 'loss_value'])\n",
    "    # average_vram_usage = np.mean(all_vram_usages)\n",
    "    return model, train_losses_df, val_losses_df\n"
   ]
  },
  {
   "cell_type": "code",
   "execution_count": 13,
   "id": "4535c886",
   "metadata": {
    "id": "4535c886"
   },
   "outputs": [],
   "source": [
    "def generate_text(model, char_to_idx, idx_to_char, start_text, device, max_length=500):\n",
    "    model.eval()\n",
    "    current_text = start_text\n",
    "    hidden = None\n",
    "\n",
    "    with torch.no_grad():\n",
    "        for _ in range(max_length):\n",
    "            x = torch.tensor([[char_to_idx[ch] for ch in current_text[-SEQUENCE_LENGTH:]]]).to(device)\n",
    "            output, hidden = model(x, hidden)\n",
    "            probs = torch.softmax(output[0, -1], dim=0)\n",
    "            next_char_idx = torch.multinomial(probs, 1).item()\n",
    "            next_char = idx_to_char[next_char_idx]\n",
    "            current_text += next_char\n",
    "\n",
    "    return current_text"
   ]
  },
  {
   "cell_type": "code",
   "execution_count": 14,
   "id": "6aef1cf9",
   "metadata": {},
   "outputs": [],
   "source": [
    "loss_comparison_dict = {}\n",
    "\n",
    "def add_loss_to_comparison(model_name, train_losses_df, val_losses_df):\n",
    "    \"\"\"\n",
    "    Adds training and validation losses from a model to the comparison dictionary.\n",
    "    \"\"\"\n",
    "    loss_comparison_dict[model_name] = {\n",
    "        'train': train_losses_df,\n",
    "        'val': val_losses_df\n",
    "    }\n",
    "\n",
    "def print_final_losses(loss_dict):\n",
    "    for model_name, losses in loss_dict.items():\n",
    "        train_df = losses['train']\n",
    "        val_df = losses['val']\n",
    "        final_train = train_df.groupby('epoch')['loss_value'].last().iloc[-1]\n",
    "        final_val = val_df.groupby('epoch')['loss_value'].last().iloc[-1]\n",
    "        print(f\"{model_name}: Final Train Loss: {final_train:.4f}, Final Val Loss: {final_val:.4f}\")"
   ]
  },
  {
   "cell_type": "code",
   "execution_count": 15,
   "id": "973b4a80",
   "metadata": {
    "id": "973b4a80"
   },
   "outputs": [],
   "source": [
    "# Function to plot loss curves\n",
    "def plot_loss(train_losses_df, val_losses_df):\n",
    "    plt.figure(figsize=(10, 5))\n",
    "\n",
    "    # Plot training losses\n",
    "    for epoch in train_losses_df['epoch'].unique():\n",
    "        epoch_train_losses = train_losses_df[train_losses_df['epoch'] == epoch]\n",
    "        plt.plot(epoch_train_losses['step'], epoch_train_losses['loss_value'],\n",
    "                 color='blue', alpha=0.3)\n",
    "\n",
    "    # scatter training loss at the end of each epoch\n",
    "    last_train_losses = train_losses_df.groupby('epoch').last().reset_index()\n",
    "    plt.scatter(last_train_losses['step'], last_train_losses['loss_value'],\n",
    "                color='blue')\n",
    "\n",
    "    # Plot and scatter validation loss at the end of each epoch\n",
    "    last_val_losses = val_losses_df.groupby('epoch').last().reset_index()\n",
    "    plt.plot(last_val_losses['step'], last_val_losses['loss_value'],\n",
    "             color='orange', label='Validation Loss')\n",
    "    plt.scatter(last_val_losses['step'], last_val_losses['loss_value'],\n",
    "                color='orange')\n",
    "\n",
    "    plt.xlabel('Steps')\n",
    "    plt.ylabel('Loss')\n",
    "    plt.title('Training and Validation Loss')\n",
    "    plt.legend()\n",
    "    plt.grid(True)\n",
    "    plt.show()\n",
    "\n",
    "# Function to print final loss values\n",
    "def print_final_losses(train_losses_df, val_losses_df):\n",
    "    print(\"Final Training Loss:\", train_losses_df.groupby('epoch')['loss_value'].last().iloc[-1])\n",
    "    print(\"Final Validation Loss:\", val_losses_df.groupby('epoch')['loss_value'].last().iloc[-1])"
   ]
  },
  {
   "cell_type": "code",
   "execution_count": 16,
   "id": "5001e203",
   "metadata": {
    "id": "5001e203"
   },
   "outputs": [],
   "source": [
    "# Function to plot loss curves for multiple models stored in loss_comparison_dict\n",
    "def plot_loss_comparisons():\n",
    "    \"\"\"\n",
    "    Plots the training loss curves and average validation loss per epoch for multiple models added to the loss comparison dictionary.\n",
    "    \"\"\"\n",
    "    plt.figure(figsize=(10, 5))\n",
    "    \n",
    "    # Get the last model in the dictionary (for special final-point highlighting)\n",
    "    last_model_name = list(loss_comparison_dict.keys())[-1]\n",
    "\n",
    "    # Loop through each model in the loss dictionary\n",
    "    for model_name, losses in loss_comparison_dict.items():\n",
    "        train_losses_df = losses['train']\n",
    "        val_losses_df = losses['val']\n",
    "\n",
    "        # Plot training losses for each model\n",
    "        plt.plot(train_losses_df['step'], train_losses_df['loss_value'],\n",
    "                 label=f'{model_name} train', linestyle='-', alpha=0.7)\n",
    "\n",
    "        # Scatter training loss at the end of each epoch\n",
    "        last_train_losses = train_losses_df.groupby('epoch').last().reset_index()\n",
    "        plt.scatter(last_train_losses['step'], last_train_losses['loss_value'], marker='o', s=50)\n",
    "\n",
    "        # Compute average validation loss per epoch (using the last step of each epoch for x-axis)\n",
    "        avg_val_losses = val_losses_df.groupby('epoch').agg({'loss_value': 'mean', 'step': 'last'}).reset_index()\n",
    "        # Scatter the average validation loss for each epoch\n",
    "        plt.scatter(avg_val_losses['step'], avg_val_losses['loss_value'], marker='s', s=50,\n",
    "                    label=f'{model_name} val avg')\n",
    "\n",
    "        # For the last model, highlight the final training loss with a star\n",
    "        if model_name == last_model_name:\n",
    "            final_step = train_losses_df['step'].iloc[-1]\n",
    "            final_loss = train_losses_df['loss_value'].iloc[-1]\n",
    "            plt.scatter(final_step, final_loss, marker='*', s=100, color='red', zorder=5)\n",
    "\n",
    "    plt.xlabel('Steps')\n",
    "    plt.ylabel('Loss')\n",
    "    plt.title('Training Loss Comparison')\n",
    "    plt.legend()  # Legend shows both training and validation average labels\n",
    "    plt.grid(True)\n",
    "    plt.show()\n"
   ]
  },
  {
   "cell_type": "code",
   "execution_count": 17,
   "id": "16777ffd",
   "metadata": {},
   "outputs": [],
   "source": [
    "def plot_separate_train_val(loss_dict):\n",
    "    \"\"\"\n",
    "    모델별 Training Loss와 Validation Loss를 각각 별도의 그래프로 그립니다.\n",
    "    단, Validation Loss는 에포크별 평균으로 계산합니다.\n",
    "    \"\"\"\n",
    "    # 1. Training Loss Plot (원본 그대로)\n",
    "    plt.figure(figsize=(20, 5))\n",
    "    plt.subplot(1, 2, 1)  # 1행 2열 중 첫 번째\n",
    "    for model_name, losses in loss_dict.items():\n",
    "        train_df = losses['train']\n",
    "        steps_train = train_df['step'].values\n",
    "        loss_train = train_df['loss_value'].values\n",
    "        plt.plot(steps_train, loss_train, label=f'{model_name} Train')\n",
    "    plt.title('Training Loss Comparison')\n",
    "    plt.xlabel('Steps')\n",
    "    plt.ylabel('Loss')\n",
    "    plt.legend()\n",
    "    plt.grid(True)\n",
    "\n",
    "    # 2. Validation Loss Plot (에포크별 평균 처리)\n",
    "    plt.subplot(1, 2, 2)  # 1행 2열 중 두 번째\n",
    "    for model_name, losses in loss_dict.items():\n",
    "        val_df = losses['val']\n",
    "        # 에포크별 평균 loss와 마지막 step을 계산\n",
    "        val_avg = val_df.groupby('epoch').agg({'loss_value': 'mean', 'step': 'last'}).reset_index()\n",
    "        plt.plot(val_avg['step'], val_avg['loss_value'], label=f'{model_name} Val')\n",
    "    plt.title('Validation Loss (Epoch Avg) Comparison')\n",
    "    plt.xlabel('Steps')\n",
    "    plt.ylabel('Loss')\n",
    "    plt.legend()\n",
    "    plt.grid(True)\n",
    "\n",
    "    plt.tight_layout()\n",
    "    plt.show()\n"
   ]
  },
  {
   "cell_type": "markdown",
   "id": "aa1eb8ad",
   "metadata": {
    "id": "aa1eb8ad"
   },
   "source": [
    "## Model 1: GRU Decoder"
   ]
  },
  {
   "cell_type": "code",
   "execution_count": 18,
   "id": "e017e89b",
   "metadata": {
    "id": "e017e89b"
   },
   "outputs": [],
   "source": [
    "import torch\n",
    "import torch.nn as nn\n",
    "import torch.nn.functional as F\n",
    "\n",
    "class GRUDecoder(nn.Module):\n",
    "    def __init__(self, vocab_size, embedding_dim, hidden_dim, num_layers=2, dropout=0.1):\n",
    "        super(GRUDecoder, self).__init__()\n",
    "        self.embedding = nn.Embedding(vocab_size, embedding_dim)\n",
    "        self.gru = nn.GRU(embedding_dim, hidden_dim, num_layers=num_layers,\n",
    "                          dropout=dropout if num_layers > 1 else 0.0, batch_first=True)\n",
    "        self.fc1 = nn.Linear(hidden_dim, hidden_dim)\n",
    "        self.fc2 = nn.Linear(hidden_dim, vocab_size)\n",
    "        self.dropout = nn.Dropout(dropout)\n",
    "        self.layer_norm = nn.LayerNorm(hidden_dim)\n",
    "\n",
    "    def forward(self, x, hidden=None):\n",
    "        embed = self.embedding(x)\n",
    "        output, hidden = self.gru(embed, hidden)\n",
    "        output = self.dropout(output)\n",
    "        output = self.layer_norm(output)\n",
    "        output = F.gelu(self.fc1(output))\n",
    "        output = self.fc2(output)\n",
    "        return output, hidden"
   ]
  },
  {
   "cell_type": "code",
   "execution_count": 19,
   "id": "9a3581e4",
   "metadata": {
    "id": "9a3581e4"
   },
   "outputs": [],
   "source": [
    "### Model Initialization\n",
    "gru = GRUDecoder(vocab_size, EMBEDDING_DIM, HIDDEN_DIM, NUM_LAYERS).to(device)\n",
    "criterion = nn.CrossEntropyLoss()\n",
    "optimizer = optim.AdamW(gru.parameters(), lr=LEARNING_RATE, fused=True)"
   ]
  },
  {
   "cell_type": "code",
   "execution_count": 20,
   "id": "2fe18507",
   "metadata": {},
   "outputs": [
    {
     "data": {
      "text/plain": [
       "==========================================================================================\n",
       "Layer (type:depth-idx)                   Output Shape              Param #\n",
       "==========================================================================================\n",
       "GRUDecoder                               [512, 256, 65]            --\n",
       "├─Embedding: 1-1                         [512, 256, 256]           16,640\n",
       "├─GRU: 1-2                               [512, 256, 256]           789,504\n",
       "├─Dropout: 1-3                           [512, 256, 256]           --\n",
       "├─LayerNorm: 1-4                         [512, 256, 256]           512\n",
       "├─Linear: 1-5                            [512, 256, 256]           65,792\n",
       "├─Linear: 1-6                            [512, 256, 65]            16,705\n",
       "==========================================================================================\n",
       "Total params: 889,153\n",
       "Trainable params: 889,153\n",
       "Non-trainable params: 0\n",
       "Total mult-adds (G): 103.53\n",
       "==========================================================================================\n",
       "Input size (MB): 1.05\n",
       "Forward/backward pass size (MB): 1141.90\n",
       "Params size (MB): 3.56\n",
       "Estimated Total Size (MB): 1146.50\n",
       "=========================================================================================="
      ]
     },
     "execution_count": 20,
     "metadata": {},
     "output_type": "execute_result"
    }
   ],
   "source": [
    "from torchinfo import summary\n",
    "\n",
    "summary(gru, input_size=(BATCH_SIZE, SEQUENCE_LENGTH), dtypes=[torch.long])"
   ]
  },
  {
   "cell_type": "code",
   "execution_count": 21,
   "id": "ec86dc8e",
   "metadata": {
    "colab": {
     "base_uri": "https://localhost:8080/"
    },
    "executionInfo": {
     "elapsed": 121082,
     "status": "ok",
     "timestamp": 1732704395031,
     "user": {
      "displayName": "Hugman Sangkeun Jung",
      "userId": "08689291704194029524"
     },
     "user_tz": -540
    },
    "id": "ec86dc8e",
    "outputId": "d3a32ebf-e2ad-4e8b-fb04-f2651e0ac049"
   },
   "outputs": [
    {
     "name": "stderr",
     "output_type": "stream",
     "text": [
      "                                                                                                   \r"
     ]
    },
    {
     "name": "stdout",
     "output_type": "stream",
     "text": [
      "Epoch 1/15, Train Loss: 1.4151, Val Loss: 1.5766, Epoch Time: 63.11s Average Vram Usage: 54.67MB\n"
     ]
    },
    {
     "name": "stderr",
     "output_type": "stream",
     "text": [
      "                                                                                                   \r"
     ]
    },
    {
     "name": "stdout",
     "output_type": "stream",
     "text": [
      "Epoch 2/15, Train Loss: 1.2903, Val Loss: 1.5355, Epoch Time: 63.43s Average Vram Usage: 54.67MB\n"
     ]
    },
    {
     "name": "stderr",
     "output_type": "stream",
     "text": [
      "                                                                                                   \r"
     ]
    },
    {
     "name": "stdout",
     "output_type": "stream",
     "text": [
      "Epoch 3/15, Train Loss: 1.1731, Val Loss: 1.5284, Epoch Time: 62.66s Average Vram Usage: 54.67MB\n"
     ]
    },
    {
     "name": "stderr",
     "output_type": "stream",
     "text": [
      "                                                                                                   \r"
     ]
    },
    {
     "name": "stdout",
     "output_type": "stream",
     "text": [
      "Epoch 4/15, Train Loss: 1.1404, Val Loss: 1.5473, Epoch Time: 63.00s Average Vram Usage: 54.67MB\n"
     ]
    },
    {
     "name": "stderr",
     "output_type": "stream",
     "text": [
      "                                                                                                   \r"
     ]
    },
    {
     "name": "stdout",
     "output_type": "stream",
     "text": [
      "Epoch 5/15, Train Loss: 1.1163, Val Loss: 1.6330, Epoch Time: 63.14s Average Vram Usage: 54.67MB\n"
     ]
    },
    {
     "name": "stderr",
     "output_type": "stream",
     "text": [
      "                                                                                                    \r"
     ]
    },
    {
     "name": "stdout",
     "output_type": "stream",
     "text": [
      "Epoch 6/15, Train Loss: 1.0544, Val Loss: 1.7183, Epoch Time: 63.18s Average Vram Usage: 54.67MB\n"
     ]
    },
    {
     "name": "stderr",
     "output_type": "stream",
     "text": [
      "                                                                                                    \r"
     ]
    },
    {
     "name": "stdout",
     "output_type": "stream",
     "text": [
      "Epoch 7/15, Train Loss: 1.0269, Val Loss: 1.7878, Epoch Time: 63.20s Average Vram Usage: 54.67MB\n"
     ]
    },
    {
     "name": "stderr",
     "output_type": "stream",
     "text": [
      "                                                                                                    \r"
     ]
    },
    {
     "name": "stdout",
     "output_type": "stream",
     "text": [
      "Epoch 8/15, Train Loss: 0.9800, Val Loss: 1.8471, Epoch Time: 63.76s Average Vram Usage: 54.67MB\n"
     ]
    },
    {
     "name": "stderr",
     "output_type": "stream",
     "text": [
      "                                                                                                    \r"
     ]
    },
    {
     "name": "stdout",
     "output_type": "stream",
     "text": [
      "Epoch 9/15, Train Loss: 0.9580, Val Loss: 1.8929, Epoch Time: 63.92s Average Vram Usage: 54.67MB\n"
     ]
    },
    {
     "name": "stderr",
     "output_type": "stream",
     "text": [
      "                                                                                                     \r"
     ]
    },
    {
     "name": "stdout",
     "output_type": "stream",
     "text": [
      "Epoch 10/15, Train Loss: 0.9534, Val Loss: 1.9524, Epoch Time: 64.09s Average Vram Usage: 54.67MB\n"
     ]
    },
    {
     "name": "stderr",
     "output_type": "stream",
     "text": [
      "                                                                                                     \r"
     ]
    },
    {
     "name": "stdout",
     "output_type": "stream",
     "text": [
      "Epoch 11/15, Train Loss: 0.9206, Val Loss: 1.9953, Epoch Time: 63.65s Average Vram Usage: 54.67MB\n"
     ]
    },
    {
     "name": "stderr",
     "output_type": "stream",
     "text": [
      "                                                                                                     \r"
     ]
    },
    {
     "name": "stdout",
     "output_type": "stream",
     "text": [
      "Epoch 12/15, Train Loss: 0.9022, Val Loss: 2.0517, Epoch Time: 62.96s Average Vram Usage: 54.67MB\n"
     ]
    },
    {
     "name": "stderr",
     "output_type": "stream",
     "text": [
      "                                                                                                     \r"
     ]
    },
    {
     "name": "stdout",
     "output_type": "stream",
     "text": [
      "Epoch 13/15, Train Loss: 0.9043, Val Loss: 2.0543, Epoch Time: 63.38s Average Vram Usage: 54.67MB\n"
     ]
    },
    {
     "name": "stderr",
     "output_type": "stream",
     "text": [
      "                                                                                                     \r"
     ]
    },
    {
     "name": "stdout",
     "output_type": "stream",
     "text": [
      "Epoch 14/15, Train Loss: 0.8938, Val Loss: 2.0691, Epoch Time: 63.11s Average Vram Usage: 54.67MB\n"
     ]
    },
    {
     "name": "stderr",
     "output_type": "stream",
     "text": [
      "                                                                                                     \r"
     ]
    },
    {
     "name": "stdout",
     "output_type": "stream",
     "text": [
      "Epoch 15/15, Train Loss: 0.8669, Val Loss: 2.0936, Epoch Time: 64.08s Average Vram Usage: 54.67MB\n"
     ]
    }
   ],
   "source": [
    "## Training Loop\n",
    "trained_model, train_losses_df, val_losses_df = train_model(gru, train_loader, val_loader, criterion, optimizer, device, EPOCHS)"
   ]
  },
  {
   "cell_type": "code",
   "execution_count": 22,
   "id": "396c469b",
   "metadata": {},
   "outputs": [],
   "source": [
    "# Text generation using validation data\n",
    "val_sample, _ = next(iter(val_loader))\n",
    "start_text = ''.join([idx_to_char[idx.item()] for idx in val_sample[0][:SEQUENCE_LENGTH]])"
   ]
  },
  {
   "cell_type": "code",
   "execution_count": 23,
   "id": "70664998",
   "metadata": {
    "colab": {
     "base_uri": "https://localhost:8080/"
    },
    "executionInfo": {
     "elapsed": 489,
     "status": "ok",
     "timestamp": 1732704395512,
     "user": {
      "displayName": "Hugman Sangkeun Jung",
      "userId": "08689291704194029524"
     },
     "user_tz": -540
    },
    "id": "70664998",
    "outputId": "a970b003-a23c-47b7-900e-5ed705866838"
   },
   "outputs": [
    {
     "name": "stdout",
     "output_type": "stream",
     "text": [
      "Generated text (starting with validation data [\n",
      "\n",
      "GREMIO:\n",
      "Good morrow, neighbour Baptista.\n",
      "\n",
      "BAPTISTA:\n",
      "Good morrow, neighbour Gremio.\n",
      "God save you, gentlemen!\n",
      "\n",
      "PETRUCHIO:\n",
      "And you, good sir! Pray, have you not a daughter\n",
      "Call'd Katharina, fair and virtuous?\n",
      "\n",
      "BAPTISTA:\n",
      "I have a daughter, sir, called Kathar]):\n",
      "--------------------------------------------------\n",
      "\n",
      "\n",
      "GREMIO:\n",
      "Good morrow, neighbour Baptista.\n",
      "\n",
      "BAPTISTA:\n",
      "Good morrow, neighbour Gremio.\n",
      "God save you, gentlemen!\n",
      "\n",
      "PETRUCHIO:\n",
      "And you, good sir! Pray, have you not a daughter\n",
      "Call'd Katharina, fair and virtuous?\n",
      "\n",
      "BAPTISTA:\n",
      "I have a daughter, sir, called Katharis.\n",
      "\n",
      "GARDITAN:\n",
      "Prince, my lord, in hope to snow.\n",
      "\n",
      "KATHARINA:\n",
      "A keep-day of the purpose.\n",
      "\n",
      "KAGET:\n",
      "How! give me wrong:\n",
      "My lord, I cannot keep you known too.\n",
      "\n",
      "CLARENCE:\n",
      "Let him some man boy with Romeo, right against\n",
      "From balm so friend or joirs I shall not be\n",
      "well and consul. He will report ours entreaties,\n",
      "Must mine own sails, and like the rock!\n",
      "But that thou shalt meet again with past king;\n",
      "Which thou commess'd Tybalt flow them meet\n",
      "By life; and therefore comes the day:\n",
      "She must be nor too.\n",
      "\n",
      "COMIN\n"
     ]
    }
   ],
   "source": [
    "generated_text = generate_text(trained_model, char_to_idx, idx_to_char, start_text, device)\n",
    "                      \n",
    "print(f\"Generated text (starting with validation data [{start_text}]):\")\n",
    "print(\"-\"*50)\n",
    "print(generated_text)"
   ]
  },
  {
   "cell_type": "code",
   "execution_count": 24,
   "id": "fcca4e52",
   "metadata": {
    "id": "fcca4e52"
   },
   "outputs": [],
   "source": [
    "# After training a model (e.g., LSTM without RMSNorm), add its losses\n",
    "add_loss_to_comparison('GRU', train_losses_df, val_losses_df)"
   ]
  },
  {
   "cell_type": "code",
   "execution_count": 25,
   "id": "98b72703",
   "metadata": {
    "colab": {
     "base_uri": "https://localhost:8080/"
    },
    "executionInfo": {
     "elapsed": 3,
     "status": "ok",
     "timestamp": 1732704396861,
     "user": {
      "displayName": "Hugman Sangkeun Jung",
      "userId": "08689291704194029524"
     },
     "user_tz": -540
    },
    "id": "98b72703",
    "outputId": "ece1620a-8690-4750-97c1-ada645d59a08"
   },
   "outputs": [
    {
     "name": "stdout",
     "output_type": "stream",
     "text": [
      "\n",
      "Sample Input:\n",
      "\n",
      "\n",
      "GREMIO:\n",
      "Good morrow, neighbour Baptista.\n",
      "\n",
      "BAPTISTA:\n",
      "Good morrow, neighbour Gremio.\n",
      "God save you, gentlemen!\n",
      "\n",
      "PETRUCHIO:\n",
      "And you, good sir! Pray, have you not a daughter\n",
      "Call'd Katharina, fair and virtuous?\n",
      "\n",
      "BAPTISTA:\n",
      "I have a daughter, sir, called Kathar\n",
      "\n",
      "Model Output (logits for next character prediction):\n",
      "torch.Size([1, 256, 65])\n",
      "tensor([  4.5563,  -5.7279, -14.0735, -20.2807, -13.5877,   0.4551, -12.7307,\n",
      "        -10.3114, -15.4629,  -4.7099], device='cuda:0')\n",
      "\n",
      "Predicted next character:\n",
      "i\n"
     ]
    }
   ],
   "source": [
    "# Decoder Input/Output Example\n",
    "sample_input, _ = next(iter(val_loader))\n",
    "sample_input = sample_input[0].unsqueeze(0).to(device)  # Add batch dimension\n",
    "\n",
    "trained_model.eval()\n",
    "with torch.no_grad():\n",
    "    output, _ = trained_model(sample_input)\n",
    "\n",
    "print(\"\\nSample Input:\")\n",
    "print(''.join([idx_to_char[idx.item()] for idx in sample_input[0]]))\n",
    "\n",
    "print(\"\\nModel Output (logits for next character prediction):\")\n",
    "print(output.shape)\n",
    "print(output[0, 0, :10])  # Print first 10 logits of the first timestep\n",
    "\n",
    "print(\"\\nPredicted next character:\")\n",
    "predicted_char_idx = torch.argmax(output[0, -1]).item()\n",
    "print(idx_to_char[predicted_char_idx])"
   ]
  },
  {
   "cell_type": "code",
   "execution_count": 26,
   "id": "f23a4aea",
   "metadata": {},
   "outputs": [
    {
     "data": {
      "image/png": "[encoded data removed]",
      "text/plain": [
       "<Figure size 1000x500 with 1 Axes>"
      ]
     },
     "metadata": {},
     "output_type": "display_data"
    }
   ],
   "source": [
    "plot_loss_comparisons()"
   ]
  },
  {
   "cell_type": "code",
   "execution_count": 27,
   "id": "868a5338",
   "metadata": {
    "colab": {
     "base_uri": "https://localhost:8080/",
     "height": 487
    },
    "executionInfo": {
     "elapsed": 899,
     "status": "ok",
     "timestamp": 1732704397758,
     "user": {
      "displayName": "Hugman Sangkeun Jung",
      "userId": "08689291704194029524"
     },
     "user_tz": -540
    },
    "id": "868a5338",
    "outputId": "06397d97-49fb-4f85-b2b3-2b27ca481fe0"
   },
   "outputs": [
    {
     "data": {
      "image/png": "[encoded data removed]",
      "text/plain": [
       "<Figure size 2000x500 with 2 Axes>"
      ]
     },
     "metadata": {},
     "output_type": "display_data"
    }
   ],
   "source": [
    "plot_separate_train_val(loss_comparison_dict)"
   ]
  },
  {
   "cell_type": "code",
   "execution_count": 28,
   "id": "a2d8a352",
   "metadata": {
    "id": "a2d8a352"
   },
   "outputs": [],
   "source": [
    "def generate_text_attention(model, char_to_idx, idx_to_char, start_text, device, max_length=500):\n",
    "    model.eval()\n",
    "    current_text = start_text\n",
    "\n",
    "    with torch.no_grad():\n",
    "        for _ in range(max_length):\n",
    "            # Convert the last sequence of characters to indices and feed it to the model\n",
    "            x = torch.tensor([[char_to_idx[ch] for ch in current_text[-SEQUENCE_LENGTH:]]]).to(device)\n",
    "            output = model(x)[0]  # No hidden state needed for attention-based models\n",
    "            probs = torch.softmax(output[0, -1], dim=0)\n",
    "            next_char_idx = torch.multinomial(probs, 1).item()\n",
    "            next_char = idx_to_char[next_char_idx]\n",
    "            current_text += next_char\n",
    "\n",
    "    return current_text"
   ]
  },
  {
   "cell_type": "code",
   "execution_count": 29,
   "id": "32c936b1",
   "metadata": {
    "id": "32c936b1"
   },
   "outputs": [],
   "source": [
    "def train_and_test(model_desc, model, start_text):\n",
    "    # Initialize the model\n",
    "    model = model.to(device)\n",
    "    # Use the same optimizer and criterion\n",
    "    criterion = nn.CrossEntropyLoss()\n",
    "    optimizer = torch.optim.AdamW(model.parameters(), lr=LEARNING_RATE, fused=True)\n",
    "    \n",
    "    # Train the model\n",
    "    trained_model, train_losses_df, val_losses_df = train_model(\n",
    "        model, train_loader, val_loader, criterion, optimizer, device, EPOCHS\n",
    "    )\n",
    "\n",
    "    # Generate text\n",
    "    generated_text = generate_text_attention(trained_model, char_to_idx, idx_to_char, start_text, device)\n",
    "    print(f\"Generated text [{start_text}]:\")\n",
    "    print(\"-\"*50)\n",
    "    print(generated_text)\n",
    "    \n",
    "    add_loss_to_comparison(model_desc, train_losses_df, val_losses_df)\n",
    "\n",
    "    # Plot loss comparisons including this model\n",
    "    plot_loss_comparisons()\n",
    "    \n",
    "    plot_separate_train_val(loss_comparison_dict)"
   ]
  },
  {
   "cell_type": "markdown",
   "id": "39911f55",
   "metadata": {
    "id": "39911f55"
   },
   "source": [
    "## Model 2: Modern Transformer(LLaMA - 2023)"
   ]
  },
  {
   "cell_type": "code",
   "execution_count": 30,
   "id": "6b43bc11",
   "metadata": {},
   "outputs": [],
   "source": [
    "import torch\n",
    "import torch.nn as nn\n",
    "import torch.nn.functional as F\n",
    "import math\n",
    "from dataclasses import dataclass\n",
    "\n",
    "@dataclass\n",
    "class ModelArgs:\n",
    "    DIM = EMBEDDING_DIM \n",
    "    FFN_DIM = int(FFN_DIM*.9)\n",
    "    NUM_HEADS = NUM_HEADS \n",
    "    NUM_LAYERS = NUM_LAYERS\n",
    "\n",
    "    NUM_KV_HEADS = NUM_HEADS \n",
    "    VOCAB_SIZE = vocab_size\n",
    "    NORM_EPS = 1e-5 # LLaMA: 1e-5\n",
    "    ROPE_THETA = 10000 # LLaMA: 10000\n",
    "\n",
    "    MAX_BATCH_SIZE = BATCH_SIZE\n",
    "    MAX_SEQ_LEN = SEQUENCE_LENGTH # depending on the DATASET\n",
    "    NUM_KV_HEAD_REP = NUM_HEADS // NUM_KV_HEADS\n",
    "\n",
    "    HEAD_DIM = DIM // NUM_HEADS\n",
    "    DROPOUT = DROPOUT\n",
    "    DEVICE = device\n",
    "\n",
    "class RMSNorm(nn.Module):\n",
    "    def __init__(self, dim: int, eps: float = 1e-6):\n",
    "        super().__init__()\n",
    "        self.eps = eps\n",
    "        self.weight = nn.Parameter(torch.ones(dim))\n",
    "    def _norm(self, x: torch.Tensor):\n",
    "        return x * torch.rsqrt(x.pow(2).mean(-1, keepdim=True) + self.eps)\n",
    "    def forward(self, x: torch.Tensor):\n",
    "        return self.weight.to(x.device) * self._norm(x.float()).type_as(x)\n",
    "    \n",
    "def precompute_freqs_cis(head_dim: int, seq_len: int, theta: float = 100.0, device: str = \"cuda:0\"):\n",
    "    if head_dim % 2 != 0:\n",
    "        raise ValueError(\"head_dim must be even for rotary embeddings.\")\n",
    "    freqs = 1.0 / (theta ** (torch.arange(0, head_dim, 2).float() / head_dim)).to(device)\n",
    "    t = torch.arange(seq_len, device=device, dtype=torch.float32)\n",
    "    freqs = torch.outer(t, freqs)  # [seq_len, head_dim//2]\n",
    "    freqs_cis = torch.polar(torch.ones_like(freqs), freqs)\n",
    "    return freqs_cis  # [seq_len, head_dim // 2]\n",
    "\n",
    "def reshape_for_broadcast(freqs_cis: torch.Tensor, x: torch.Tensor):\n",
    "    L = x.shape[1]\n",
    "    return freqs_cis.view(1, L, 1, x.shape[-1] // 2)  # [1, L, 1, head_dim]\n",
    "\n",
    "def apply_rotary_emb(x: torch.Tensor, device: str = \"cuda:0\"):\n",
    "    # x: [B, L, 2*heads, D] & D is even\n",
    "    _, L, _, D = x.shape\n",
    "    x_complex = torch.view_as_complex(x.float().reshape(*x.shape[:-1], -1, 2)) # [B, L, 2*heads, D//2, 2]\n",
    "    freqs_cis = precompute_freqs_cis(D, L)\n",
    "    freqs = reshape_for_broadcast(freqs_cis, x)\n",
    "    x_rotated = x_complex * freqs\n",
    "    x_out = torch.view_as_real(x_rotated).reshape(x.shape)\n",
    "    return x_out.type_as(x).to(device)\n",
    "\n",
    "def repeat_kv(x: torch.Tensor, n_rep: int) -> torch.Tensor:\n",
    "    B, L, nk, d = x.shape\n",
    "    if n_rep == 1:\n",
    "        return x\n",
    "    return x[:, :, :, None, :].expand(B, L, nk, n_rep, d).reshape(B, L, nk * n_rep, d)\n",
    "\n",
    "class FeedForward(nn.Module):\n",
    "    def __init__(self, dim, ffn_dim, dropout):\n",
    "        super().__init__()\n",
    "        hidden_dim = ffn_dim\n",
    "        self.w1 = nn.Linear(dim, hidden_dim, bias=False)\n",
    "        self.w2 = nn.Linear(hidden_dim, dim, bias=False)\n",
    "        self.w3 = nn.Linear(dim, hidden_dim, bias=False)\n",
    "        self.dropout = nn.Dropout(dropout)\n",
    "    def forward(self, x: torch.Tensor):\n",
    "        # x: [B, L, D]\n",
    "        return self.w2(F.silu(self.w1(x)) * self.dropout(self.w3(x)))\n",
    "\n",
    "class SelfAttention(nn.Module):\n",
    "    def __init__(self, n_heads, n_kv_heads, n_rep, dim, dropout, batch, seq_len, device):\n",
    "        super().__init__()\n",
    "        self.n_heads_q = n_heads\n",
    "        self.n_kv_heads = n_kv_heads\n",
    "        self.n_rep = n_rep\n",
    "        self.head_dim = dim // n_heads\n",
    "\n",
    "        self.wq = nn.Linear(dim, n_heads * self.head_dim, bias=False)\n",
    "        self.wk = nn.Linear(dim, n_kv_heads * self.head_dim, bias=False)\n",
    "        self.wv = nn.Linear(dim, n_kv_heads * self.head_dim, bias=False)\n",
    "        self.wo = nn.Linear(n_heads * self.head_dim, dim, bias=False)\n",
    "        self.attn_dropout = dropout\n",
    "        \n",
    "        self.norm = RMSNorm(self.head_dim)\n",
    "\n",
    "    def forward(self, x: torch.Tensor, start_pos, mask, return_attn=False):\n",
    "        B, L, _ = x.shape\n",
    "        src_len = trg_len = L\n",
    "        offset = start_pos\n",
    "        \n",
    "        xq = self.wq(x).view(B, L, self.n_heads_q, self.head_dim)\n",
    "        xk = self.wk(x).view(B, L, self.n_kv_heads, self.head_dim)\n",
    "        xv = self.wv(x).view(B, L, self.n_kv_heads, self.head_dim)\n",
    "        \n",
    "        # Apply rotary embeddings\n",
    "        xq = apply_rotary_emb(xq)\n",
    "        xk = apply_rotary_emb(xk)\n",
    "        \n",
    "        # GQA: Adjust dimensions for attention computation\n",
    "        xq = xq.transpose(1, 2)   # [B, n_heads, L, head_dim]\n",
    "        xk = repeat_kv(xk, self.n_rep).transpose(1, 2) # [B, n_heads, L, head_dim]\n",
    "        xv = repeat_kv(xv, self.n_rep).transpose(1, 2) # [B, n_heads, L, head_dim]\n",
    "\n",
    "        # Compute scaled dot-product attention manually to capture attention weights\n",
    "        scores = torch.matmul(xq, xk.transpose(-2, -1)) / math.sqrt(self.head_dim)  # [B, n_heads, L, L]\n",
    "        scores = torch.nan_to_num(scores)\n",
    "        if mask is None:\n",
    "            mask = torch.triu(\n",
    "                torch.zeros([L, L])\n",
    "                .float()\n",
    "                .fill_(float(\"-inf\"))\n",
    "                .type_as(attn_weights),\n",
    "                1 + offset,\n",
    "            )\n",
    "            \n",
    "        scores += mask\n",
    "        attn_weights = torch.softmax(scores, dim=-1)\n",
    "        attn_weights = F.dropout(attn_weights, self.attn_dropout, training=self.training)\n",
    "        attn_output = torch.matmul(attn_weights, xv)  # [B, n_heads, L, head_dim]\n",
    "        attn_output = self.norm(attn_output)\n",
    "        \n",
    "        # Reshape attention output and project\n",
    "        attn_output = attn_output.transpose(1, 2).contiguous().view(B, L, -1)\n",
    "        output = self.wo(attn_output)  # [B, L, D]\n",
    "        if return_attn:\n",
    "            return output, attn_weights\n",
    "        else:\n",
    "            return output\n",
    "\n",
    "class TransformerBlock(nn.Module):\n",
    "    def __init__(self, args: 'ModelArgs'):\n",
    "        super().__init__()\n",
    "        self.attention = SelfAttention(\n",
    "            args.NUM_HEADS, \n",
    "            args.NUM_KV_HEADS, \n",
    "            args.NUM_KV_HEAD_REP, \n",
    "            args.DIM, \n",
    "            args.DROPOUT, \n",
    "            args.MAX_BATCH_SIZE, \n",
    "            args.MAX_SEQ_LEN, \n",
    "            args.DEVICE\n",
    "        )\n",
    "        self.ffn = FeedForward(args.DIM, args.FFN_DIM, args.DROPOUT)\n",
    "        self.attention_norm = RMSNorm(args.DIM, args.NORM_EPS)\n",
    "        self.ffn_norm = RMSNorm(args.DIM, args.NORM_EPS)\n",
    "        self.res_dropout = nn.Dropout(args.DROPOUT)\n",
    "        \n",
    "    def forward(self, x: torch.Tensor, start_pos, mask, return_attn=False):\n",
    "        if return_attn:\n",
    "            attn_out, attn_map = self.attention(self.attention_norm(x), start_pos, mask, return_attn=True)\n",
    "            h = x + self.res_dropout(attn_out)\n",
    "            h = h + self.res_dropout(self.ffn(self.ffn_norm(h)))\n",
    "            return h, attn_map\n",
    "        else:\n",
    "            h = x + self.res_dropout(self.attention(self.attention_norm(x), start_pos, mask))\n",
    "            h = h + self.res_dropout(self.ffn(self.ffn_norm(h)))\n",
    "            return h\n",
    "\n",
    "class LlamaTransformer(nn.Module):\n",
    "    def __init__(self, args: 'ModelArgs'):\n",
    "        super().__init__()\n",
    "        self.args = args\n",
    "        self.tok_embeddings = nn.Embedding(args.VOCAB_SIZE, args.DIM)\n",
    "        self.layers = nn.ModuleList([TransformerBlock(args) for _ in range(args.NUM_LAYERS)])\n",
    "        self.norm = RMSNorm(args.DIM, args.NORM_EPS)\n",
    "        self.output = nn.Linear(args.DIM, args.VOCAB_SIZE, bias=False)\n",
    "        self.device = args.DEVICE\n",
    "        \n",
    "    def forward(self, x: torch.Tensor, start_pos=0, return_attn=False):\n",
    "        B, L = x.shape\n",
    "        h = self.tok_embeddings(x)  # [B, L, D]\n",
    "        \n",
    "        mask = None\n",
    "        if L > 1:\n",
    "            mask = torch.triu(\n",
    "                torch.zeros([L, L])\n",
    "                .float()\n",
    "                .fill_(float(\"-inf\"))\n",
    "                .type_as(x),\n",
    "                1 + start_pos,\n",
    "            )\n",
    "        attn_maps = []\n",
    "        for layer in self.layers:\n",
    "            if return_attn:\n",
    "                h, attn_map = layer(h, start_pos, mask, return_attn=True)\n",
    "                attn_maps.append(attn_map)\n",
    "            else:\n",
    "                h = layer(h, start_pos, mask)\n",
    "        logits = self.output(self.norm(h)).float()\n",
    "        if return_attn:\n",
    "            return logits, attn_maps\n",
    "        return logits, _"
   ]
  },
  {
   "cell_type": "code",
   "execution_count": 31,
   "id": "66b4f114",
   "metadata": {},
   "outputs": [
    {
     "data": {
      "text/plain": [
       "LlamaTransformer(\n",
       "  (tok_embeddings): Embedding(65, 256)\n",
       "  (layers): ModuleList(\n",
       "    (0-1): 2 x TransformerBlock(\n",
       "      (attention): SelfAttention(\n",
       "        (wq): Linear(in_features=256, out_features=256, bias=False)\n",
       "        (wk): Linear(in_features=256, out_features=256, bias=False)\n",
       "        (wv): Linear(in_features=256, out_features=256, bias=False)\n",
       "        (wo): Linear(in_features=256, out_features=256, bias=False)\n",
       "        (norm): RMSNorm()\n",
       "      )\n",
       "      (ffn): FeedForward(\n",
       "        (w1): Linear(in_features=256, out_features=230, bias=False)\n",
       "        (w2): Linear(in_features=230, out_features=256, bias=False)\n",
       "        (w3): Linear(in_features=256, out_features=230, bias=False)\n",
       "        (dropout): Dropout(p=0.1, inplace=False)\n",
       "      )\n",
       "      (attention_norm): RMSNorm()\n",
       "      (ffn_norm): RMSNorm()\n",
       "      (res_dropout): Dropout(p=0.1, inplace=False)\n",
       "    )\n",
       "  )\n",
       "  (norm): RMSNorm()\n",
       "  (output): Linear(in_features=256, out_features=65, bias=False)\n",
       ")"
      ]
     },
     "execution_count": 31,
     "metadata": {},
     "output_type": "execute_result"
    }
   ],
   "source": [
    "PARAMS = ModelArgs()\n",
    "llama = LlamaTransformer(PARAMS).to(device)\n",
    "llama"
   ]
  },
  {
   "cell_type": "code",
   "execution_count": 32,
   "id": "087c3927",
   "metadata": {},
   "outputs": [
    {
     "data": {
      "text/plain": [
       "==========================================================================================\n",
       "Layer (type:depth-idx)                   Output Shape              Param #\n",
       "==========================================================================================\n",
       "LlamaTransformer                         [512, 256, 65]            --\n",
       "├─Embedding: 1-1                         [512, 256, 256]           16,640\n",
       "├─ModuleList: 1-2                        --                        --\n",
       "│    └─TransformerBlock: 2-1             [512, 256, 256]           --\n",
       "│    │    └─RMSNorm: 3-1                 [512, 256, 256]           256\n",
       "│    │    └─SelfAttention: 3-2           [512, 256, 256]           262,208\n",
       "│    │    └─Dropout: 3-3                 [512, 256, 256]           --\n",
       "│    │    └─RMSNorm: 3-4                 [512, 256, 256]           256\n",
       "│    │    └─FeedForward: 3-5             [512, 256, 256]           176,640\n",
       "│    │    └─Dropout: 3-6                 [512, 256, 256]           --\n",
       "│    └─TransformerBlock: 2-2             [512, 256, 256]           --\n",
       "│    │    └─RMSNorm: 3-7                 [512, 256, 256]           256\n",
       "│    │    └─SelfAttention: 3-8           [512, 256, 256]           262,208\n",
       "│    │    └─Dropout: 3-9                 [512, 256, 256]           --\n",
       "│    │    └─RMSNorm: 3-10                [512, 256, 256]           256\n",
       "│    │    └─FeedForward: 3-11            [512, 256, 256]           176,640\n",
       "│    │    └─Dropout: 3-12                [512, 256, 256]           --\n",
       "├─RMSNorm: 1-3                           [512, 256, 256]           256\n",
       "├─Linear: 1-4                            [512, 256, 65]            16,640\n",
       "==========================================================================================\n",
       "Total params: 912,256\n",
       "Trainable params: 912,256\n",
       "Non-trainable params: 0\n",
       "Total mult-adds (M): 467.08\n",
       "==========================================================================================\n",
       "Input size (MB): 1.05\n",
       "Forward/backward pass size (MB): 5864.69\n",
       "Params size (MB): 3.65\n",
       "Estimated Total Size (MB): 5869.38\n",
       "=========================================================================================="
      ]
     },
     "execution_count": 32,
     "metadata": {},
     "output_type": "execute_result"
    }
   ],
   "source": [
    "summary(llama.to(device), input_size=(BATCH_SIZE, SEQUENCE_LENGTH), dtypes=[torch.long])"
   ]
  },
  {
   "cell_type": "code",
   "execution_count": 33,
   "id": "b361db8b",
   "metadata": {
    "id": "b361db8b",
    "outputId": "33c6269c-5979-4100-b6e7-a89b6b4ed962"
   },
   "outputs": [
    {
     "name": "stderr",
     "output_type": "stream",
     "text": [
      "                                                                                                   \r"
     ]
    },
    {
     "name": "stdout",
     "output_type": "stream",
     "text": [
      "Epoch 1/15, Train Loss: 1.6226, Val Loss: 1.6803, Epoch Time: 158.03s Average Vram Usage: 84.16MB\n"
     ]
    },
    {
     "name": "stderr",
     "output_type": "stream",
     "text": [
      "                                                                                                   \r"
     ]
    },
    {
     "name": "stdout",
     "output_type": "stream",
     "text": [
      "Epoch 2/15, Train Loss: 1.4616, Val Loss: 1.6643, Epoch Time: 158.57s Average Vram Usage: 84.16MB\n"
     ]
    },
    {
     "name": "stderr",
     "output_type": "stream",
     "text": [
      "                                                                                                   \r"
     ]
    },
    {
     "name": "stdout",
     "output_type": "stream",
     "text": [
      "Epoch 3/15, Train Loss: 1.4043, Val Loss: 1.6301, Epoch Time: 158.14s Average Vram Usage: 84.16MB\n"
     ]
    },
    {
     "name": "stderr",
     "output_type": "stream",
     "text": [
      "                                                                                                   \r"
     ]
    },
    {
     "name": "stdout",
     "output_type": "stream",
     "text": [
      "Epoch 4/15, Train Loss: 1.3888, Val Loss: 1.6012, Epoch Time: 158.12s Average Vram Usage: 84.16MB\n"
     ]
    },
    {
     "name": "stderr",
     "output_type": "stream",
     "text": [
      "                                                                                                   \r"
     ]
    },
    {
     "name": "stdout",
     "output_type": "stream",
     "text": [
      "Epoch 5/15, Train Loss: 1.3469, Val Loss: 1.5990, Epoch Time: 158.24s Average Vram Usage: 84.16MB\n"
     ]
    },
    {
     "name": "stderr",
     "output_type": "stream",
     "text": [
      "                                                                                                    \r"
     ]
    },
    {
     "name": "stdout",
     "output_type": "stream",
     "text": [
      "Epoch 6/15, Train Loss: 1.3164, Val Loss: 1.5902, Epoch Time: 157.94s Average Vram Usage: 84.16MB\n"
     ]
    },
    {
     "name": "stderr",
     "output_type": "stream",
     "text": [
      "                                                                                                    \r"
     ]
    },
    {
     "name": "stdout",
     "output_type": "stream",
     "text": [
      "Epoch 7/15, Train Loss: 1.3224, Val Loss: 1.5928, Epoch Time: 157.69s Average Vram Usage: 84.16MB\n"
     ]
    },
    {
     "name": "stderr",
     "output_type": "stream",
     "text": [
      "                                                                                                    \r"
     ]
    },
    {
     "name": "stdout",
     "output_type": "stream",
     "text": [
      "Epoch 8/15, Train Loss: 1.3050, Val Loss: 1.5910, Epoch Time: 158.51s Average Vram Usage: 84.16MB\n"
     ]
    },
    {
     "name": "stderr",
     "output_type": "stream",
     "text": [
      "                                                                                                    \r"
     ]
    },
    {
     "name": "stdout",
     "output_type": "stream",
     "text": [
      "Epoch 9/15, Train Loss: 1.3177, Val Loss: 1.5830, Epoch Time: 158.61s Average Vram Usage: 84.16MB\n"
     ]
    },
    {
     "name": "stderr",
     "output_type": "stream",
     "text": [
      "                                                                                                     \r"
     ]
    },
    {
     "name": "stdout",
     "output_type": "stream",
     "text": [
      "Epoch 10/15, Train Loss: 1.2803, Val Loss: 1.5843, Epoch Time: 158.54s Average Vram Usage: 84.16MB\n"
     ]
    },
    {
     "name": "stderr",
     "output_type": "stream",
     "text": [
      "                                                                                                     \r"
     ]
    },
    {
     "name": "stdout",
     "output_type": "stream",
     "text": [
      "Epoch 11/15, Train Loss: 1.2733, Val Loss: 1.5798, Epoch Time: 158.20s Average Vram Usage: 84.16MB\n"
     ]
    },
    {
     "name": "stderr",
     "output_type": "stream",
     "text": [
      "                                                                                                     \r"
     ]
    },
    {
     "name": "stdout",
     "output_type": "stream",
     "text": [
      "Epoch 12/15, Train Loss: 1.2666, Val Loss: 1.5682, Epoch Time: 158.34s Average Vram Usage: 84.16MB\n"
     ]
    },
    {
     "name": "stderr",
     "output_type": "stream",
     "text": [
      "                                                                                                     \r"
     ]
    },
    {
     "name": "stdout",
     "output_type": "stream",
     "text": [
      "Epoch 13/15, Train Loss: 1.2768, Val Loss: 1.5935, Epoch Time: 158.37s Average Vram Usage: 84.16MB\n"
     ]
    },
    {
     "name": "stderr",
     "output_type": "stream",
     "text": [
      "                                                                                                     \r"
     ]
    },
    {
     "name": "stdout",
     "output_type": "stream",
     "text": [
      "Epoch 14/15, Train Loss: 1.2526, Val Loss: 1.5889, Epoch Time: 158.20s Average Vram Usage: 84.16MB\n"
     ]
    },
    {
     "name": "stderr",
     "output_type": "stream",
     "text": [
      "                                                                                                     \r"
     ]
    },
    {
     "name": "stdout",
     "output_type": "stream",
     "text": [
      "Epoch 15/15, Train Loss: 1.2468, Val Loss: 1.5890, Epoch Time: 158.45s Average Vram Usage: 84.16MB\n",
      "Generated text [\n",
      "\n",
      "GREMIO:\n",
      "Good morrow, neighbour Baptista.\n",
      "\n",
      "BAPTISTA:\n",
      "Good morrow, neighbour Gremio.\n",
      "God save you, gentlemen!\n",
      "\n",
      "PETRUCHIO:\n",
      "And you, good sir! Pray, have you not a daughter\n",
      "Call'd Katharina, fair and virtuous?\n",
      "\n",
      "BAPTISTA:\n",
      "I have a daughter, sir, called Kathar]:\n",
      "--------------------------------------------------\n",
      "\n",
      "\n",
      "GREMIO:\n",
      "Good morrow, neighbour Baptista.\n",
      "\n",
      "BAPTISTA:\n",
      "Good morrow, neighbour Gremio.\n",
      "God save you, gentlemen!\n",
      "\n",
      "PETRUCHIO:\n",
      "And you, good sir! Pray, have you not a daughter\n",
      "Call'd Katharina, fair and virtuous?\n",
      "\n",
      "BAPTISTA:\n",
      "I have a daughter, sir, called Katharina;\n",
      "Gloucester,\n",
      "Within thy rue in this made on himself.\n",
      "\n",
      "BUCKINGHAM:\n",
      "I do have me what is death.\n",
      "\n",
      "DUKE VINCENTIO:\n",
      "Death not suiter me the tyranny of chance to a\n",
      "now leave him; conceived wands now it be a\n",
      "conference.\n",
      "\n",
      "LUCIO:\n",
      "A news, how is a girl.\n",
      "\n",
      "DUKE VINCENTIO:\n",
      "This bethink of all the purpose waxes for my speech,\n",
      "patticular, easy move service: your lord's lords?\n",
      "Greater, noble uncle Bolingbroke for our lord short.\n",
      "\n",
      "CAPULET:\n",
      "I have pardon to myself; it is it now, and a man'st\n",
      "children, and wil\n"
     ]
    },
    {
     "data": {
      "image/png": "[encoded data removed]",
      "text/plain": [
       "<Figure size 1000x500 with 1 Axes>"
      ]
     },
     "metadata": {},
     "output_type": "display_data"
    },
    {
     "data": {
      "image/png": "[encoded data removed]",
      "text/plain": [
       "<Figure size 2000x500 with 2 Axes>"
      ]
     },
     "metadata": {},
     "output_type": "display_data"
    }
   ],
   "source": [
    "train_and_test(\"LLaMA\", llama, start_text)"
   ]
  },
  {
   "cell_type": "markdown",
   "id": "8775d573",
   "metadata": {},
   "source": [
    "## Model 3: Mamba"
   ]
  },
  {
   "cell_type": "code",
   "execution_count": 34,
   "id": "dd160c0c",
   "metadata": {},
   "outputs": [
    {
     "name": "stdout",
     "output_type": "stream",
     "text": [
      "[2025-05-27 07:05:38,940] [INFO] [real_accelerator.py:219:get_accelerator] Setting ds_accelerator to cuda (auto detect)\n"
     ]
    },
    {
     "name": "stderr",
     "output_type": "stream",
     "text": [
      "2025-05-27 07:05:40.588935: I tensorflow/core/platform/cpu_feature_guard.cc:210] This TensorFlow binary is optimized to use available CPU instructions in performance-critical operations.\n",
      "To enable the following instructions: AVX2 FMA, in other operations, rebuild TensorFlow with the appropriate compiler flags.\n",
      "2025-05-27 07:05:41.371680: W tensorflow/compiler/tf2tensorrt/utils/py_utils.cc:38] TF-TRT Warning: Could not find TensorRT\n"
     ]
    }
   ],
   "source": [
    "import torch\n",
    "import torch.nn as nn\n",
    "import torch.nn.functional as F\n",
    "from einops import rearrange\n",
    "import math # For initialization if needed\n",
    "\n",
    "# --- Assume mamba_ssm is installed ---\n",
    "# pip install mamba-ssm causal-conv1d\n",
    "try:\n",
    "    from causal_conv1d import causal_conv1d_fn, causal_conv1d_update # Need both for training/inference\n",
    "    # causal_conv1d_fn is the main function for training/full sequence processing\n",
    "except ImportError:\n",
    "    print(\"Warning: 'causal_conv1d' package not found. Falling back to nn.Conv1d simulation.\")\n",
    "    print(\"Install with: pip install causal-conv1d\")\n",
    "    causal_conv1d_fn = None # Placeholder\n",
    "\n",
    "try:\n",
    "    from mamba_ssm.ops.selective_scan_interface import selective_scan_fn, mamba_inner_fn\n",
    "    # selective_scan_fn wraps the CUDA/Triton kernel\n",
    "except ImportError:\n",
    "    print(\"Warning: 'mamba_ssm' package not found or compiled kernels unavailable.\")\n",
    "    print(\"SSM scan will use the less efficient PyTorch implementation.\")\n",
    "    print(\"Install with: pip install mamba-ssm\")\n",
    "    selective_scan_fn = None # Placeholder"
   ]
  },
  {
   "cell_type": "code",
   "execution_count": 35,
   "id": "c6be4f1a",
   "metadata": {},
   "outputs": [],
   "source": [
    "import torch\n",
    "import torch.nn as nn\n",
    "import torch.nn.functional as F\n",
    "from einops import rearrange, repeat\n",
    "import math\n",
    "from causal_conv1d import causal_conv1d_fn\n",
    "from mamba_ssm.ops.selective_scan_interface import selective_scan_fn\n",
    "\n",
    "# --- RMSNorm (Root Mean Square Layer Normalization) ---\n",
    "class RMSNorm(nn.Module):\n",
    "    \"\"\"RMS 정규화 레이어.\n",
    "\n",
    "    Args:\n",
    "        dim (int): 정규화할 벡터의 차원.\n",
    "        eps (float, optional): 분모에 더할 작은 값 (0으로 나누는 것 방지). 기본값: 1e-6.\n",
    "    \"\"\"\n",
    "    def __init__(self, dim: int, eps: float = 1e-6):\n",
    "        super().__init__()\n",
    "        self.eps = eps\n",
    "        # 학습 가능한 스케일링 파라미터 (gamma)\n",
    "        self.weight = nn.Parameter(torch.ones(dim))\n",
    "\n",
    "    def _norm(self, x: torch.Tensor) -> torch.Tensor:\n",
    "        \"\"\"RMS 정규화 계산 수행.\"\"\"\n",
    "        # 계산 안정성을 위해 float32 사용 후 원본 타입 복원\n",
    "        original_dtype = x.dtype\n",
    "        # 입력의 제곱 평균의 제곱근 역수 계산\n",
    "        rms = torch.rsqrt(x.to(torch.float32).pow(2).mean(-1, keepdim=True) + self.eps)\n",
    "        return (x * rms).to(original_dtype)\n",
    "\n",
    "    def forward(self, x: torch.Tensor) -> torch.Tensor:\n",
    "        \"\"\"RMS 정규화 적용.\"\"\"\n",
    "        # 정규화 후 학습 가능한 가중치 적용\n",
    "        return self.weight * self._norm(x)\n",
    "\n",
    "# --- SSM (State Space Model) 모듈 ---\n",
    "class SSM(nn.Module):\n",
    "    \"\"\"선택적 스캔 메커니즘 (SSM). 최적화된 selective_scan_fn 커널 사용.\n",
    "       Mamba v1 논문의 파라미터화 및 계산 방식 (non-fused path) 기반.\n",
    "       selective_scan_fn이 기대하는 특정 텐서 레이아웃(B,D,L / B,N,L 등)을 따름.\n",
    "\n",
    "    Args:\n",
    "        d_inner (int): 내부 확장 차원 (D).\n",
    "        state_size (int): SSM 상태 벡터 크기 (N).\n",
    "        dt_rank (str or int, optional): Δ 계산 시 사용될 중간 랭크. \"auto\"시 d_inner / 16. 기본값: \"auto\".\n",
    "        dt_min (float, optional): Δ의 최소값 제한 (softplus 적용 후). 기본값: 0.001.\n",
    "        dt_max (float, optional): Δ의 최대값 제한 (softplus 적용 후). 기본값: 0.1.\n",
    "        dt_init (str, optional): dt_proj 가중치 초기화 방식 (\"random\" or \"constant\"). 기본값: \"random\".\n",
    "        dt_scale (float, optional): dt_proj 가중치 초기화 스케일. 기본값: 1.0.\n",
    "        dt_init_floor (float, optional): dt 초기값 하한선. 기본값: 1e-4.\n",
    "        bias (bool, optional): x_proj 레이어에 bias 사용 여부. 기본값: False.\n",
    "        device (str, optional): 연산 장치. 기본값: 'cuda'.\n",
    "        dtype (torch.dtype, optional): 연산 데이터 타입. 기본값: torch.float32.\n",
    "    \"\"\"\n",
    "    def __init__(self, d_inner: int, state_size: int, dt_rank: str | int =\"auto\", dt_min: float =0.001, dt_max: float =0.1,\n",
    "                 dt_init: str =\"random\", dt_scale: float =1.0, dt_init_floor: float =1e-4, bias: bool =False,\n",
    "                 device: str ='cuda', dtype: torch.dtype =torch.float32):\n",
    "        factory_kwargs = {\"device\": device, \"dtype\": dtype}\n",
    "        super().__init__()\n",
    "        self.d_inner = d_inner\n",
    "        self.state_size = state_size\n",
    "        # dt_rank 자동 계산 또는 지정값 사용\n",
    "        self.dt_rank = math.ceil(d_inner / 16) if dt_rank == \"auto\" else dt_rank\n",
    "        self.device = device\n",
    "        self.dtype = dtype\n",
    "\n",
    "        # 컨볼루션 출력(x)을 받아 dt_inter, B, C 계산용 프로젝션 (Mamba v1 non-fused 방식)\n",
    "        self.x_proj = nn.Linear(self.d_inner, self.dt_rank + self.state_size * 2, bias=bias, **factory_kwargs)\n",
    "\n",
    "        # dt_inter를 받아 dt 계산용 프로젝션\n",
    "        self.dt_proj = nn.Linear(self.dt_rank, self.d_inner, bias=True, **factory_kwargs)\n",
    "\n",
    "        # --- dt_proj bias 특별 초기화 (Mamba v1 공식 코드 참조) ---\n",
    "        # 초기화 시 softplus(bias) 결과가 [dt_min, dt_max] 범위에 있도록 조정\n",
    "        dt_init_std = self.dt_rank**-0.5 * dt_scale\n",
    "        if dt_init == \"constant\":\n",
    "            nn.init.constant_(self.dt_proj.weight, dt_init_std)\n",
    "        elif dt_init == \"random\":\n",
    "            nn.init.uniform_(self.dt_proj.weight, -dt_init_std, dt_init_std)\n",
    "        else:\n",
    "            raise NotImplementedError(f\"Invalid dt_init: {dt_init}\")\n",
    "\n",
    "        # dt bias 초기값 계산 (softplus의 역함수 활용)\n",
    "        dt = torch.exp(\n",
    "            torch.rand(self.d_inner, **factory_kwargs) * (math.log(dt_max) - math.log(dt_min))\n",
    "            + math.log(dt_min)\n",
    "        ).clamp(min=dt_init_floor)\n",
    "        inv_dt = dt + torch.log(-torch.expm1(-dt)) # softplus(inv_dt) ≈ dt\n",
    "        with torch.no_grad():\n",
    "            self.dt_proj.bias.copy_(inv_dt)\n",
    "        # 다른 초기화 루틴에서 이 bias를 덮어쓰지 않도록 플래그 설정 (선택적)\n",
    "        self.dt_proj.bias._no_reinit = True\n",
    "        # --- dt_proj bias 초기화 종료 ---\n",
    "\n",
    "        # --- SSM 파라미터 A (A_log) ---\n",
    "        # S4D-Real 방식 초기화: A 행렬의 대각 요소가 [1, 2, ..., N]이 되도록 A_log 설정\n",
    "        A = repeat(\n",
    "            torch.arange(1, self.state_size + 1, dtype=torch.float32, device=device),\n",
    "            \"n -> d n\", # 1차원 벡터를 d_inner 번 반복하여 (D, N) 행렬 생성\n",
    "            d=self.d_inner,\n",
    "        ).contiguous()\n",
    "        A_log = torch.log(A) # 로그 스케일에서 파라미터 학습 (float32 유지)\n",
    "        self.A_log = nn.Parameter(A_log)\n",
    "        self.A_log._no_weight_decay = True # 가중치 감쇠 제외\n",
    "\n",
    "        # --- SSM 파라미터 D (피드스루) ---\n",
    "        # 형태: (D)\n",
    "        self.D = nn.Parameter(torch.ones(self.d_inner, device=device)) # float32 유지 권장\n",
    "        self.D._no_weight_decay = True # 가중치 감쇠 제외\n",
    "\n",
    "    def forward(self, x: torch.Tensor) -> torch.Tensor:\n",
    "        \"\"\"SSM 순방향 계산. 입력 x는 (B, D, L) 레이아웃을 가정.\"\"\"\n",
    "        B, D, L = x.shape # 입력 레이아웃 확인\n",
    "        if D != self.d_inner:\n",
    "            raise ValueError(f\"입력 차원 D({D})가 SSM 내부 차원({self.d_inner})과 불일치\")\n",
    "\n",
    "        # 1. 입력 x(컨볼루션 출력)로부터 dt, B, C 계산\n",
    "        #    선형 프로젝션을 위해 (B*L, D) 형태로 변환\n",
    "        x_reshaped = rearrange(x, \"b d l -> (b l) d\")\n",
    "        x_proj_out = self.x_proj(x_reshaped) # 결과: (B*L, dt_rank + 2*N)\n",
    "        dt_inter, B, C = torch.split(x_proj_out, [self.dt_rank, self.state_size, self.state_size], dim=-1)\n",
    "\n",
    "        # 2. dt 계산 (softplus 적용 전) -> 형태 (B, D, L)\n",
    "        #    dt_inter: (B*L, dt_rank)\n",
    "        #    Mamba v1 non-fused path 방식 적용\n",
    "        dt = self.dt_proj.weight @ dt_inter.t() # 결과: (D, B*L)\n",
    "        dt = rearrange(dt, \"d (b l) -> b d l\", l=L) # 최종 형태: (B, D, L)\n",
    "        # dt_bias는 selective_scan_fn 내부에서 delta_bias 인자로 전달되어 더해짐\n",
    "\n",
    "        # 3. A 행렬 계산, 형태 (D, N)\n",
    "        A = -torch.exp(self.A_log.float()) # float32에서 exp 계산\n",
    "\n",
    "        # 4. B, C 형태 변경 -> (B, N, L)\n",
    "        #    selective_scan_fn 커널이 요구하는 레이아웃\n",
    "        B = rearrange(B, \"(b l) n -> b n l\", l=L).contiguous()\n",
    "        C = rearrange(C, \"(b l) n -> b n l\", l=L).contiguous()\n",
    "\n",
    "        # 5. D 파라미터 준비, 형태 (D)\n",
    "        D_param = self.D.float().contiguous()\n",
    "\n",
    "        # 6. selective_scan_fn 입력 준비 (메모리 연속성 보장)\n",
    "        input_u = x.contiguous()             # u (SSM 입력): (B, D, L)\n",
    "        input_delta = dt.contiguous()        # delta (dt): (B, D, L)\n",
    "        input_A = A.contiguous()             # A: (D, N)\n",
    "        input_B = B                          # B: (B, N, L)\n",
    "        input_C = C                          # C: (B, N, L)\n",
    "        input_D = D_param                    # D: (D)\n",
    "        input_delta_bias = self.dt_proj.bias.float().contiguous() if self.dt_proj.bias is not None else None\n",
    "\n",
    "        # 7. 최적화된 selective_scan_fn 호출\n",
    "        #    입력 레이아웃 및 파라미터 형태는 Mamba v1 non-fused path 기준\n",
    "        y = selective_scan_fn(\n",
    "            u=input_u,\n",
    "            delta=input_delta,\n",
    "            A=input_A,\n",
    "            B=input_B,\n",
    "            C=input_C,\n",
    "            D=input_D,\n",
    "            z=None, # 게이트 z는 MambaBlock 레벨에서 처리\n",
    "            delta_bias=input_delta_bias, # dt_bias 전달\n",
    "            delta_softplus=True, # 내부에서 delta = softplus(dt + delta_bias) 계산\n",
    "        )\n",
    "\n",
    "        # 8. 결과 반환, 형태 (B, D, L)\n",
    "        #    후속 처리를 위해 이 레이아웃 유지\n",
    "        return y\n",
    "\n",
    "\n",
    "# --- Mamba 블록 (causal_conv1d_fn 사용 및 데이터 흐름 수정) ---\n",
    "class MambaBlock(nn.Module):\n",
    "    \"\"\"Mamba 핵심 블록. RMSNorm, 입력 프로젝션, 인과적 컨볼루션, SSM, 게이팅, 출력 프로젝션 구성.\n",
    "       내부적으로 (B, D, L) 텐서 레이아웃 사용.\n",
    "    \"\"\"\n",
    "    def __init__(self, d_model: int, state_size: int, d_conv: int = 4, expand: int = 1,\n",
    "                 dropout_prob: float = 0.1, device: str = 'cuda', dtype: torch.dtype = torch.float32):\n",
    "        factory_kwargs = {\"device\": device, \"dtype\": dtype}\n",
    "        super().__init__()\n",
    "        self.d_model = d_model\n",
    "        self.d_inner = int(expand * d_model) # 내부 확장 차원 (D)\n",
    "        self.state_size = state_size\n",
    "        self.d_conv = d_conv\n",
    "        self.device = device\n",
    "        self.dtype = dtype\n",
    "\n",
    "        # 입력 정규화 (RMSNorm)\n",
    "        self.norm = RMSNorm(d_model, eps=1e-5)\n",
    "\n",
    "        # 입력 프로젝션 (d_model -> 2 * d_inner)\n",
    "        self.in_proj = nn.Linear(d_model, 2 * self.d_inner, bias=False, **factory_kwargs)\n",
    "\n",
    "        # 인과적 컨볼루션 파라미터 (가중치 형태: D, K)\n",
    "        self.conv1d_weight = nn.Parameter(torch.empty(self.d_inner, d_conv, **factory_kwargs))\n",
    "        self.conv1d_bias = nn.Parameter(torch.empty(self.d_inner, **factory_kwargs))\n",
    "\n",
    "        # SSM 모듈 인스턴스화 (Mamba v1 파라미터 전달 옵션 추가 가능)\n",
    "        self.ssm = SSM(self.d_inner, state_size, device=device, dtype=dtype)\n",
    "                      # dt_rank, dt_min 등 SSM 파라미터 전달 가능\n",
    "\n",
    "        # 출력 프로젝션 (d_inner -> d_model)\n",
    "        self.out_proj = nn.Linear(self.d_inner, d_model, bias=False, **factory_kwargs)\n",
    "\n",
    "        # 잔차 연결 드롭아웃\n",
    "        self.dropout_res = nn.Dropout(dropout_prob)\n",
    "\n",
    "    def forward(self, x: torch.Tensor) -> torch.Tensor:\n",
    "        \"\"\"Mamba 블록 순방향 계산.\"\"\"\n",
    "        B, L, D_model = x.shape # 입력 형태: (B, L, d_model)\n",
    "        residual = x # 잔차 연결용 원본 저장\n",
    "\n",
    "        # 1. 입력 정규화\n",
    "        x_norm = self.norm(x)\n",
    "\n",
    "        # 2. 입력 프로젝션 및 분할 (x_in, z)\n",
    "        xz = self.in_proj(x_norm) # 결과: (B, L, 2*D)\n",
    "        x_in, z = xz.chunk(2, dim=-1) # 각각: (B, L, D)\n",
    "\n",
    "        # 3. 인과적 컨볼루션 브랜치\n",
    "        #    입력 레이아웃 변경: (B, L, D) -> (B, D, L)\n",
    "        x_conv_in = rearrange(x_in, 'b l d -> b d l').contiguous()\n",
    "        #    최적화된 causal_conv1d_fn 호출 (SiLU 활성화 포함)\n",
    "        #    출력 x_conv_out 형태: (B, D, L)\n",
    "        x_conv_out = causal_conv1d_fn(\n",
    "            x=x_conv_in, weight=self.conv1d_weight, bias=self.conv1d_bias, activation='silu'\n",
    "        )\n",
    "\n",
    "        # 4. SSM 브랜치\n",
    "        #    컨볼루션 출력(B, D, L)을 SSM에 직접 전달\n",
    "        #    SSM 출력 y_ssm 형태: (B, D, L)\n",
    "        y_ssm = self.ssm(x_conv_out)\n",
    "\n",
    "        # 5. 게이팅 메커니즘\n",
    "        #    y_ssm을 z와 곱하기 위해 (B, L, D) 형태로 변경\n",
    "        y_ssm_rearranged = rearrange(y_ssm, 'b d l -> b l d')\n",
    "        #    z에 SiLU 활성화 적용 후 요소별 곱셈\n",
    "        y_gated = y_ssm_rearranged * F.silu(z) # 결과: (B, L, D)\n",
    "\n",
    "        # 6. 출력 프로젝션\n",
    "        output = self.out_proj(y_gated) # 결과: (B, L, d_model)\n",
    "\n",
    "        # 7. 잔차 연결 및 드롭아웃\n",
    "        output = residual + self.dropout_res(output) # 최종 결과: (B, L, d_model)\n",
    "\n",
    "        return output\n",
    "\n",
    "# --- Mamba 모델 전체 ---\n",
    "class Mamba(nn.Module):\n",
    "    \"\"\"Mamba 언어 모델 전체 구조.\"\"\"\n",
    "    def __init__(self, d_model: int, n_layers: int, vocab_size: int, state_size: int = 16,\n",
    "                 d_conv: int = 4, expand: int = 2, dropout_prob: float = 0.1,\n",
    "                 device: str = 'cuda', dtype: torch.dtype = torch.float32):\n",
    "        factory_kwargs = {\"device\": device, \"dtype\": dtype}\n",
    "        super().__init__()\n",
    "        self.d_model = d_model\n",
    "        self.n_layers = n_layers\n",
    "        self.vocab_size = vocab_size\n",
    "        # 저장된 파라미터는 validation 등에 사용될 수 있음\n",
    "        self.state_size = state_size\n",
    "        self.d_conv = d_conv\n",
    "        self.expand = expand\n",
    "        self.dropout_prob = dropout_prob\n",
    "        self.device = device\n",
    "        self.dtype = dtype\n",
    "\n",
    "        # 토큰 임베딩 레이어\n",
    "        self.embedding = nn.Embedding(vocab_size, d_model, **factory_kwargs)\n",
    "        self.dropout_emb = nn.Dropout(dropout_prob)\n",
    "\n",
    "        # Mamba 블록 스택\n",
    "        self.layers = nn.ModuleList([\n",
    "            MambaBlock(\n",
    "                d_model=d_model, state_size=state_size, d_conv=d_conv,\n",
    "                expand=expand, dropout_prob=dropout_prob, device=device, dtype=dtype\n",
    "            ) for _ in range(n_layers)\n",
    "        ])\n",
    "\n",
    "        # 최종 정규화 레이어\n",
    "        self.norm_f = RMSNorm(d_model, eps=1e-5)\n",
    "        # 언어 모델링 헤드 (출력 레이어)\n",
    "        self.lm_head = nn.Linear(d_model, vocab_size, bias=False, **factory_kwargs)\n",
    "\n",
    "        # 가중치 공유 (임베딩과 LM 헤드)\n",
    "        self.lm_head.weight = self.embedding.weight\n",
    "\n",
    "        # 모델 가중치 초기화 적용\n",
    "        self.apply(self._init_weights)\n",
    "        print(f\"Mamba 모델 초기화 완료. Device: {device}, Dtype: {dtype}\")\n",
    "\n",
    "    def _init_weights(self, module):\n",
    "        \"\"\"모델의 각 모듈 가중치 초기화.\"\"\"\n",
    "        if isinstance(module, nn.Linear):\n",
    "            # dt_proj의 bias는 특별 초기화되므로 건너뜀\n",
    "            if hasattr(module.bias, '_no_reinit') and module.bias._no_reinit:\n",
    "                return\n",
    "            # Linear 레이어 가중치 초기화 (예: GPT-2 스타일)\n",
    "            std = 0.02\n",
    "            # 모델 깊이에 따른 스케일링 (옵션)\n",
    "            if self.n_layers > 0:\n",
    "                 # 입력/출력 프로젝션 등 특정 레이어에만 적용 고려 가능\n",
    "                 if module.weight.shape[0] == self.d_model or module.weight.shape[1] == self.d_model:\n",
    "                     std /= math.sqrt(2.0 * self.n_layers)\n",
    "            nn.init.normal_(module.weight, mean=0.0, std=std)\n",
    "            if module.bias is not None:\n",
    "                nn.init.zeros_(module.bias)\n",
    "        elif isinstance(module, nn.Embedding):\n",
    "            # 임베딩 가중치 초기화\n",
    "            nn.init.normal_(module.weight, mean=0.0, std=0.02)\n",
    "        elif isinstance(module, MambaBlock):\n",
    "            # MambaBlock 내의 Conv1d 가중치 초기화\n",
    "            if hasattr(module, 'conv1d_weight'):\n",
    "                # Kaiming 초기화 (SiLU 활성화 함수에 적합)\n",
    "                nn.init.kaiming_normal_(module.conv1d_weight, nonlinearity='leaky_relu')\n",
    "            if hasattr(module, 'conv1d_bias'):\n",
    "                nn.init.zeros_(module.conv1d_bias)\n",
    "        # RMSNorm 가중치는 해당 클래스 생성자에서 1로 초기화됨\n",
    "        # SSM 파라미터 (A_log, D)는 해당 클래스 생성자에서 초기화됨\n",
    "\n",
    "    def forward(self, input_ids: torch.Tensor) -> tuple[torch.Tensor, None]:\n",
    "        \"\"\"Mamba 모델 순방향 계산.\"\"\"\n",
    "        B, L = input_ids.shape\n",
    "\n",
    "        # 1. 임베딩 및 드롭아웃\n",
    "        # 임베딩 레이어는 LongTensor 입력 필요\n",
    "        x = self.embedding(input_ids.long())\n",
    "        x = self.dropout_emb(x)\n",
    "\n",
    "        # 2. Mamba 블록 순차 적용\n",
    "        for layer in self.layers:\n",
    "            x = layer(x)\n",
    "\n",
    "        # 3. 최종 정규화\n",
    "        x = self.norm_f(x)\n",
    "\n",
    "        # 4. LM 헤드를 통해 로짓 계산\n",
    "        logits = self.lm_head(x) # 결과: [B, L, vocab_size]\n",
    "\n",
    "        # Loss 계산은 외부 학습 루프에서 처리 (labels 사용)\n",
    "        # 여기서는 로짓과 None 반환 (일반적인 Hugging Face 모델 스타일)\n",
    "        return logits, None"
   ]
  },
  {
   "cell_type": "code",
   "execution_count": 36,
   "id": "014a9b40",
   "metadata": {},
   "outputs": [
    {
     "data": {
      "text/plain": [
       "'\\n- pip install causal-conv1d\\n- mamba github clone > setup.py build > setup.py install\\n- sudo apt-get update && sudo apt-get install -y libaio-dev\\n'"
      ]
     },
     "execution_count": 36,
     "metadata": {},
     "output_type": "execute_result"
    }
   ],
   "source": [
    "'''\n",
    "- pip install causal-conv1d\n",
    "- mamba github clone > setup.py build > setup.py install\n",
    "- sudo apt-get update && sudo apt-get install -y libaio-dev\n",
    "'''"
   ]
  },
  {
   "cell_type": "code",
   "execution_count": 37,
   "id": "7cf6a7c4",
   "metadata": {},
   "outputs": [
    {
     "name": "stdout",
     "output_type": "stream",
     "text": [
      "Mamba 모델 초기화 완료. Device: cuda, Dtype: torch.float32\n",
      "test_output.shape = torch.Size([512, 256, 65])\n"
     ]
    }
   ],
   "source": [
    "STATE_SIZE = 8\n",
    "\n",
    "x = torch.randint(0, vocab_size, (BATCH_SIZE, SEQUENCE_LENGTH)).to(device)\n",
    "\n",
    "mamba = Mamba(HIDDEN_DIM, NUM_LAYERS, vocab_size, STATE_SIZE, d_conv=4, expand=2).to(device)\n",
    "\n",
    "test_output, _ = mamba(x)\n",
    "print(f\"test_output.shape = {test_output.shape}\") "
   ]
  },
  {
   "cell_type": "code",
   "execution_count": 38,
   "id": "e31528f8",
   "metadata": {},
   "outputs": [
    {
     "data": {
      "text/plain": [
       "==========================================================================================\n",
       "Layer (type:depth-idx)                   Output Shape              Param #\n",
       "==========================================================================================\n",
       "Mamba                                    [512, 256, 65]            --\n",
       "├─Embedding: 1-1                         [512, 256, 256]           16,640\n",
       "├─Dropout: 1-2                           [512, 256, 256]           --\n",
       "├─ModuleList: 1-3                        --                        --\n",
       "│    └─MambaBlock: 2-1                   [512, 256, 256]           2,560\n",
       "│    │    └─RMSNorm: 3-1                 [512, 256, 256]           256\n",
       "│    │    └─Linear: 3-2                  [512, 256, 1024]          262,144\n",
       "│    │    └─SSM: 3-3                     [512, 512, 256]           46,080\n",
       "│    │    └─Linear: 3-4                  [512, 256, 256]           131,072\n",
       "│    │    └─Dropout: 3-5                 [512, 256, 256]           --\n",
       "│    └─MambaBlock: 2-2                   [512, 256, 256]           2,560\n",
       "│    │    └─RMSNorm: 3-6                 [512, 256, 256]           256\n",
       "│    │    └─Linear: 3-7                  [512, 256, 1024]          262,144\n",
       "│    │    └─SSM: 3-8                     [512, 512, 256]           46,080\n",
       "│    │    └─Linear: 3-9                  [512, 256, 256]           131,072\n",
       "│    │    └─Dropout: 3-10                [512, 256, 256]           --\n",
       "├─RMSNorm: 1-4                           [512, 256, 256]           256\n",
       "├─Linear: 1-5                            [512, 256, 65]            16,640\n",
       "==========================================================================================\n",
       "Total params: 917,760\n",
       "Trainable params: 917,760\n",
       "Non-trainable params: 0\n",
       "Total mult-adds (G): 6.86\n",
       "==========================================================================================\n",
       "Input size (MB): 1.05\n",
       "Forward/backward pass size (MB): 3926.92\n",
       "Params size (MB): 3.48\n",
       "Estimated Total Size (MB): 3931.44\n",
       "=========================================================================================="
      ]
     },
     "execution_count": 38,
     "metadata": {},
     "output_type": "execute_result"
    }
   ],
   "source": [
    "from torchinfo import summary\n",
    "\n",
    "summary(mamba.to(device), input_size=(BATCH_SIZE, SEQUENCE_LENGTH), dtypes=[torch.long])"
   ]
  },
  {
   "cell_type": "code",
   "execution_count": null,
   "id": "a427c989",
   "metadata": {},
   "outputs": [
    {
     "name": "stderr",
     "output_type": "stream",
     "text": [
      "                                                                                                     \r"
     ]
    },
    {
     "name": "stdout",
     "output_type": "stream",
     "text": [
      "Epoch 1/15, Train Loss: 1.2111, Val Loss: 1.5859, Epoch Time: 121.26s Average Vram Usage: 6061.77MB\n"
     ]
    },
    {
     "name": "stderr",
     "output_type": "stream",
     "text": [
      "                                                                                                     \r"
     ]
    },
    {
     "name": "stdout",
     "output_type": "stream",
     "text": [
      "Epoch 2/15, Train Loss: 1.1225, Val Loss: 1.6633, Epoch Time: 122.22s Average Vram Usage: 6061.77MB\n"
     ]
    },
    {
     "name": "stderr",
     "output_type": "stream",
     "text": [
      "                                                                                                     \r"
     ]
    },
    {
     "name": "stdout",
     "output_type": "stream",
     "text": [
      "Epoch 3/15, Train Loss: 1.0716, Val Loss: 1.7210, Epoch Time: 122.39s Average Vram Usage: 6061.77MB\n"
     ]
    },
    {
     "name": "stderr",
     "output_type": "stream",
     "text": [
      "                                                                                                     \r"
     ]
    },
    {
     "name": "stdout",
     "output_type": "stream",
     "text": [
      "Epoch 4/15, Train Loss: 1.0460, Val Loss: 1.7670, Epoch Time: 123.00s Average Vram Usage: 6061.77MB\n"
     ]
    },
    {
     "name": "stderr",
     "output_type": "stream",
     "text": [
      "                                                                                                     \r"
     ]
    },
    {
     "name": "stdout",
     "output_type": "stream",
     "text": [
      "Epoch 5/15, Train Loss: 0.9964, Val Loss: 1.8295, Epoch Time: 122.67s Average Vram Usage: 6061.77MB\n"
     ]
    },
    {
     "name": "stderr",
     "output_type": "stream",
     "text": [
      "                                                                                                      \r"
     ]
    },
    {
     "name": "stdout",
     "output_type": "stream",
     "text": [
      "Epoch 6/15, Train Loss: 1.0002, Val Loss: 1.8428, Epoch Time: 122.11s Average Vram Usage: 6061.77MB\n"
     ]
    },
    {
     "name": "stderr",
     "output_type": "stream",
     "text": [
      "                                                                                                      \r"
     ]
    },
    {
     "name": "stdout",
     "output_type": "stream",
     "text": [
      "Epoch 7/15, Train Loss: 0.9898, Val Loss: 1.8744, Epoch Time: 121.30s Average Vram Usage: 6061.77MB\n"
     ]
    },
    {
     "name": "stderr",
     "output_type": "stream",
     "text": [
      "                                                                                                      \r"
     ]
    },
    {
     "name": "stdout",
     "output_type": "stream",
     "text": [
      "Epoch 8/15, Train Loss: 0.9710, Val Loss: 1.8996, Epoch Time: 121.56s Average Vram Usage: 6061.77MB\n"
     ]
    },
    {
     "name": "stderr",
     "output_type": "stream",
     "text": [
      "                                                                                                      \r"
     ]
    },
    {
     "name": "stdout",
     "output_type": "stream",
     "text": [
      "Epoch 9/15, Train Loss: 0.9660, Val Loss: 1.9023, Epoch Time: 121.09s Average Vram Usage: 6061.77MB\n"
     ]
    },
    {
     "name": "stderr",
     "output_type": "stream",
     "text": [
      "                                                                                                       \r"
     ]
    },
    {
     "name": "stdout",
     "output_type": "stream",
     "text": [
      "Epoch 10/15, Train Loss: 0.9607, Val Loss: 1.9133, Epoch Time: 124.64s Average Vram Usage: 6061.77MB\n"
     ]
    },
    {
     "name": "stderr",
     "output_type": "stream",
     "text": [
      "                                                                                                       \r"
     ]
    },
    {
     "name": "stdout",
     "output_type": "stream",
     "text": [
      "Epoch 11/15, Train Loss: 0.9694, Val Loss: 1.9153, Epoch Time: 121.02s Average Vram Usage: 6061.77MB\n"
     ]
    },
    {
     "name": "stderr",
     "output_type": "stream",
     "text": [
      "                                                                                                       \r"
     ]
    },
    {
     "name": "stdout",
     "output_type": "stream",
     "text": [
      "Epoch 12/15, Train Loss: 0.9609, Val Loss: 1.9545, Epoch Time: 122.25s Average Vram Usage: 6061.77MB\n"
     ]
    },
    {
     "name": "stderr",
     "output_type": "stream",
     "text": [
      "                                                                                                       \r"
     ]
    },
    {
     "name": "stdout",
     "output_type": "stream",
     "text": [
      "Epoch 13/15, Train Loss: 0.9457, Val Loss: 1.9840, Epoch Time: 121.16s Average Vram Usage: 6061.77MB\n"
     ]
    },
    {
     "name": "stderr",
     "output_type": "stream",
     "text": [
      "                                                                                                       \r"
     ]
    },
    {
     "name": "stdout",
     "output_type": "stream",
     "text": [
      "Epoch 14/15, Train Loss: 0.9238, Val Loss: 1.9953, Epoch Time: 124.76s Average Vram Usage: 6061.77MB\n"
     ]
    },
    {
     "name": "stderr",
     "output_type": "stream",
     "text": [
      "Epoch 15:  73%|███████▎  | 1439/1961 [01:22<00:29, 17.56it/s, loss=0.9147, step=28893, vram=6061.78 MB]"
     ]
    }
   ],
   "source": [
    "train_and_test(\"Mamba\", mamba, start_text)"
   ]
  },
  {
   "cell_type": "markdown",
   "id": "2dbb22cc",
   "metadata": {},
   "source": [
    "## mingru"
   ]
  },
  {
   "cell_type": "code",
   "execution_count": null,
   "id": "d73586ae",
   "metadata": {},
   "outputs": [],
   "source": [
    "import torch\n",
    "import torch.nn as nn\n",
    "import torch.nn.functional as F\n",
    "import math # math.log 및 상수 사용을 위함\n",
    "from tqdm import tqdm # tqdm 임포트 추가\n",
    "\n",
    "# Lion 옵티마이저 임포트 (설치 필요: pip install lion-pytorch)\n",
    "# from lion_pytorch import Lion # 주석 처리 - 실제 사용 시 주석 해제\n",
    "\n",
    "def log_g(x: torch.Tensor) -> torch.Tensor:\n",
    "    \"\"\"\n",
    "    은닉 상태 후보를 로그 공간으로 변환하는 함수.\n",
    "    x >= 0 이면 log(x + 0.5)\n",
    "    x < 0 이면 log(sigmoid(x))\n",
    "    \"\"\"\n",
    "    return torch.where(x >= 0, (F.relu(x) + 0.5).log(), -F.softplus(-x))\n",
    "\n",
    "def parallel_scan_log(log_coeffs: torch.Tensor, log_values: torch.Tensor) -> torch.Tensor:\n",
    "    \"\"\"\n",
    "    로그 공간에서 병렬 스캔 연산을 수행합니다. (클램핑 제거됨)\n",
    "    Args:\n",
    "        log_coeffs (torch.Tensor): [B, L, H_internal] 형태의 텐서로, log(alpha_t)를 나타냅니다.\n",
    "        log_values (torch.Tensor): [B, L+1, H_internal] 형태의 텐서로, [log_h_initial, log(beta_1), ..., log(beta_L)]를 나타냅니다.\n",
    "    Returns:\n",
    "        torch.Tensor: [B, L, H_internal] 형태의 텐서로, 지수 함수가 적용된 은닉 상태 (h_1 부터 h_L까지)를 나타냅니다.\n",
    "    \"\"\"\n",
    "    log_proda_coeffs_prefix = F.pad(torch.cumsum(log_coeffs, dim=1), (0, 0, 1, 0), value=0.0)\n",
    "    terms_for_logcumsumexp = log_values - log_proda_coeffs_prefix\n",
    "    log_sum_exp_terms = torch.logcumsumexp(terms_for_logcumsumexp, dim=1) \n",
    "    log_hidden_states = log_proda_coeffs_prefix + log_sum_exp_terms\n",
    "    output_hidden_states = torch.exp(log_hidden_states[:, 1:, :]) \n",
    "    return output_hidden_states\n",
    "\n",
    "class ParallelLogMinGRU(nn.Module):\n",
    "    def __init__(self, input_size: int, hidden_size: int, expansion_factor: float = 1.0, epsilon: float = 1e-7):\n",
    "        super().__init__()\n",
    "        self.input_size = input_size\n",
    "        self.hidden_size = hidden_size \n",
    "        self.expansion_factor = expansion_factor # GRU 셀 내부의 확장 계수\n",
    "        # GRU 셀 내부에서 사용될 확장된 차원 (hidden_size는 이 셀의 기본 출력 차원을 의미)\n",
    "        self.internal_expanded_dim = int(hidden_size * self.expansion_factor)\n",
    "        self.epsilon = epsilon\n",
    "\n",
    "        # 입력 input_size를 internal_expanded_dim * 2 (은닉 상태 후보용, 게이트용)로 프로젝션\n",
    "        self.to_hidden_and_gate = nn.Linear(input_size, self.internal_expanded_dim * 2)\n",
    "        \n",
    "        # GRU 셀 내부 확장이 있었다면, 다시 hidden_size로 프로젝션\n",
    "        if self.expansion_factor != 1.0:\n",
    "            self.to_out = nn.Linear(self.internal_expanded_dim, hidden_size)\n",
    "        else:\n",
    "            self.to_out = nn.Identity()\n",
    "        self._init_weights()\n",
    "\n",
    "    def _init_weights(self):\n",
    "        for name, param in self.named_parameters():\n",
    "            if 'linear' in name or 'to_hidden_and_gate' in name or 'to_out' in name :\n",
    "                if 'weight' in name:\n",
    "                    nn.init.xavier_uniform_(param)\n",
    "                elif 'bias' in name and param is not None: # bias가 있을 경우에만 초기화\n",
    "                    nn.init.zeros_(param)\n",
    "\n",
    "    def forward(self, x: torch.Tensor) -> torch.Tensor:\n",
    "        # x: [B, L, input_size]\n",
    "        B, L, _ = x.size()\n",
    "        hidden_and_gate = self.to_hidden_and_gate(x) # [B, L, internal_expanded_dim * 2]\n",
    "        h_candidate_input_expanded, logits_z_expanded = hidden_and_gate.chunk(2, dim=-1) # 각각 [B, L, internal_expanded_dim]\n",
    "        \n",
    "        log_A = F.logsigmoid(-logits_z_expanded)\n",
    "        log_Z_expanded = F.logsigmoid(logits_z_expanded)\n",
    "        log_h_candidate_contrib_expanded = log_g(h_candidate_input_expanded)\n",
    "        log_B = log_Z_expanded + log_h_candidate_contrib_expanded\n",
    "\n",
    "        log_h0_val = torch.full((B, 1, self.internal_expanded_dim),\n",
    "                                math.log(self.epsilon),\n",
    "                                device=x.device, dtype=x.dtype)\n",
    "        log_vals = torch.cat([log_h0_val, log_B], dim=1) # [B, L+1, internal_expanded_dim]\n",
    "        h_expanded_scan_out = parallel_scan_log(log_A, log_vals) # [B, L, internal_expanded_dim]\n",
    "        \n",
    "        output = self.to_out(h_expanded_scan_out) # [B, L, hidden_size]\n",
    "        return output\n",
    "\n",
    "class RMSNorm(nn.Module):\n",
    "    def __init__(self, dim: int, eps: float = 1e-8):\n",
    "        super().__init__()\n",
    "        self.eps = eps\n",
    "        self.gamma = nn.Parameter(torch.ones(dim))\n",
    "\n",
    "    def forward(self, x: torch.Tensor) -> torch.Tensor:\n",
    "        variance = x.pow(2).mean(dim=-1, keepdim=True)\n",
    "        return x * torch.rsqrt(variance + self.eps) * self.gamma\n",
    "\n",
    "class CausalDepthWiseConv1d(nn.Module):\n",
    "    def __init__(self, dim: int, kernel_size: int):\n",
    "        super().__init__()\n",
    "        self.kernel_size = kernel_size\n",
    "        self.net = nn.Sequential(\n",
    "            nn.Conv1d(dim, dim, kernel_size=kernel_size, groups=dim), \n",
    "            nn.Conv1d(dim, dim, kernel_size=1)                       \n",
    "        )\n",
    "\n",
    "    def forward(self, x: torch.Tensor) -> torch.Tensor:\n",
    "        x_orig_shape = x.shape\n",
    "        # x.ndim 대신 len(x.shape) 또는 x.dim() 사용\n",
    "        if x.dim() == 2: \n",
    "            x = x.unsqueeze(0) \n",
    "        x_transposed = x.transpose(1, 2) \n",
    "        x_padded = F.pad(x_transposed, (self.kernel_size - 1, 0), value=0.)\n",
    "        x_conv_out = self.net(x_padded)\n",
    "        x_restored = x_conv_out.transpose(1, 2) \n",
    "        # len(x_orig_shape) 사용\n",
    "        if len(x_orig_shape) == 2 and x_restored.shape[0] == 1:\n",
    "            x_restored = x_restored.squeeze(0) \n",
    "        return x_restored\n",
    "\n",
    "class SwiGLUFFN(nn.Module):\n",
    "    def __init__(self, dim: int, expansion_factor: float = 4.0, dropout: float = 0.1):\n",
    "        super().__init__()\n",
    "        ffn_hidden_dim = int(dim * expansion_factor)\n",
    "        \n",
    "        self.w1_w3 = nn.Linear(dim, ffn_hidden_dim * 2, bias=False) \n",
    "        self.w2 = nn.Linear(ffn_hidden_dim, dim, bias=False)       \n",
    "        self.dropout = nn.Dropout(dropout)\n",
    "\n",
    "    def forward(self, x: torch.Tensor) -> torch.Tensor:\n",
    "        x_proj = self.w1_w3(x)\n",
    "        x1, x3_gate = x_proj.chunk(2, dim=-1) \n",
    "        hidden_states = F.silu(x1) * x3_gate\n",
    "        hidden_states = self.dropout(hidden_states) \n",
    "        return self.w2(hidden_states)\n",
    "\n",
    "class MinGRUDecoder(nn.Module):\n",
    "    def __init__(\n",
    "        self,\n",
    "        vocab_size: int,\n",
    "        embedding_dim: int,\n",
    "        hidden_dim: int,\n",
    "        num_layers: int = 2,\n",
    "        dropout: float = 0.1, \n",
    "        expansion_factor_gru: float = 1.0, \n",
    "        epsilon_gru: float = 1e-7,\n",
    "        rms_norm_eps: float = 1e-8,\n",
    "        enable_conv: bool = True, \n",
    "        conv_kernel_size: int = 3, \n",
    "        ffn_expansion_factor: float = 1.0 \n",
    "    ):\n",
    "        super().__init__()\n",
    "        self.embedding = nn.Embedding(vocab_size, embedding_dim)\n",
    "        self.input_projection = nn.Linear(embedding_dim, hidden_dim) if embedding_dim != hidden_dim else nn.Identity()\n",
    "        \n",
    "        self.layers = nn.ModuleList()\n",
    "        for _ in range(num_layers):\n",
    "            ffn_layer = SwiGLUFFN(\n",
    "                dim=hidden_dim, \n",
    "                expansion_factor=ffn_expansion_factor, \n",
    "                dropout=dropout \n",
    "            )\n",
    "\n",
    "            self.layers.append(nn.ModuleList([\n",
    "                CausalDepthWiseConv1d(hidden_dim, conv_kernel_size) if enable_conv else nn.Identity(), \n",
    "                RMSNorm(hidden_dim, eps=rms_norm_eps),                                                 \n",
    "                ParallelLogMinGRU(\n",
    "                    input_size=hidden_dim, \n",
    "                    hidden_size=hidden_dim, \n",
    "                    expansion_factor=expansion_factor_gru, \n",
    "                    epsilon=epsilon_gru\n",
    "                ),                                                                                     \n",
    "                RMSNorm(hidden_dim, eps=rms_norm_eps),                                                 \n",
    "                ffn_layer,                                                                             \n",
    "                nn.Dropout(dropout) if dropout > 0. else nn.Identity()                                 \n",
    "            ]))\n",
    "\n",
    "        self.final_norm = RMSNorm(hidden_dim, eps=rms_norm_eps) \n",
    "        self.output_fc1 = nn.Linear(hidden_dim, hidden_dim * 4) \n",
    "        self.output_fc2 = nn.Linear(hidden_dim * 4, vocab_size)\n",
    "        self.final_dropout = nn.Dropout(dropout)\n",
    "\n",
    "    def forward(self, x: torch.Tensor) -> tuple[torch.Tensor, None]:\n",
    "        h = self.embedding(x)\n",
    "        h = self.input_projection(h)\n",
    "\n",
    "        for block_idx, block_modules in enumerate(self.layers):\n",
    "            conv_layer, norm_gru_input, gru_cell, norm_ff_input, ffn_module, dropout_block_output = block_modules\n",
    "\n",
    "            h_conv_input = h\n",
    "            if not isinstance(conv_layer, nn.Identity): \n",
    "                h_conv_out = conv_layer(h)\n",
    "                h = h_conv_input + h_conv_out \n",
    "            \n",
    "            h_gru_residual_source = h\n",
    "            h_normed_for_gru = norm_gru_input(h)\n",
    "            h_gru_out = gru_cell(h_normed_for_gru)\n",
    "            h = h_gru_residual_source + h_gru_out \n",
    "\n",
    "            h_ff_residual_source = h\n",
    "            h_normed_for_ff = norm_ff_input(h)\n",
    "            h_ff_out = ffn_module(h_normed_for_ff) \n",
    "            h = h_ff_residual_source + h_ff_out \n",
    "            \n",
    "            h = dropout_block_output(h)\n",
    "        \n",
    "        h_norm_final = self.final_norm(h)\n",
    "        h_dropped_final = self.final_dropout(h_norm_final) \n",
    "        \n",
    "        output_expanded = F.gelu(self.output_fc1(h_dropped_final)) \n",
    "        logits = self.output_fc2(output_expanded)\n",
    "        \n",
    "        return logits, None"
   ]
  },
  {
   "cell_type": "code",
   "execution_count": null,
   "id": "4c86a2d5",
   "metadata": {},
   "outputs": [],
   "source": [
    "### Model Initialization\n",
    "mingru = MinGRUDecoder(vocab_size, EMBEDDING_DIM, int(HIDDEN_DIM*0.86), NUM_LAYERS).to(device)"
   ]
  },
  {
   "cell_type": "code",
   "execution_count": null,
   "id": "8199acd7",
   "metadata": {},
   "outputs": [
    {
     "data": {
      "text/plain": [
       "===============================================================================================\n",
       "Layer (type:depth-idx)                        Output Shape              Param #\n",
       "===============================================================================================\n",
       "MinGRUDecoder                                 [512, 256, 65]            --\n",
       "├─Embedding: 1-1                              [512, 256, 256]           16,640\n",
       "├─Linear: 1-2                                 [512, 256, 220]           56,540\n",
       "├─ModuleList: 1-3                             --                        --\n",
       "│    └─ModuleList: 2-1                        --                        --\n",
       "│    │    └─CausalDepthWiseConv1d: 3-1        [512, 256, 220]           49,500\n",
       "│    │    └─RMSNorm: 3-2                      [512, 256, 220]           220\n",
       "│    │    └─ParallelLogMinGRU: 3-3            [512, 256, 220]           97,240\n",
       "│    │    └─RMSNorm: 3-4                      [512, 256, 220]           220\n",
       "│    │    └─SwiGLUFFN: 3-5                    [512, 256, 220]           145,200\n",
       "│    │    └─Dropout: 3-6                      [512, 256, 220]           --\n",
       "│    └─ModuleList: 2-2                        --                        --\n",
       "│    │    └─CausalDepthWiseConv1d: 3-7        [512, 256, 220]           49,500\n",
       "│    │    └─RMSNorm: 3-8                      [512, 256, 220]           220\n",
       "│    │    └─ParallelLogMinGRU: 3-9            [512, 256, 220]           97,240\n",
       "│    │    └─RMSNorm: 3-10                     [512, 256, 220]           220\n",
       "│    │    └─SwiGLUFFN: 3-11                   [512, 256, 220]           145,200\n",
       "│    │    └─Dropout: 3-12                     [512, 256, 220]           --\n",
       "├─RMSNorm: 1-4                                [512, 256, 220]           220\n",
       "├─Dropout: 1-5                                [512, 256, 220]           --\n",
       "├─Linear: 1-6                                 [512, 256, 880]           194,480\n",
       "├─Linear: 1-7                                 [512, 256, 65]            57,265\n",
       "===============================================================================================\n",
       "Total params: 909,905\n",
       "Trainable params: 909,905\n",
       "Non-trainable params: 0\n",
       "Total mult-adds (G): 13.39\n",
       "===============================================================================================\n",
       "Input size (MB): 1.05\n",
       "Forward/backward pass size (MB): 5873.07\n",
       "Params size (MB): 3.64\n",
       "Estimated Total Size (MB): 5877.76\n",
       "==============================================================================================="
      ]
     },
     "execution_count": 68,
     "metadata": {},
     "output_type": "execute_result"
    }
   ],
   "source": [
    "from torchinfo import summary\n",
    "\n",
    "summary(mingru, input_size=(BATCH_SIZE, SEQUENCE_LENGTH), dtypes=[torch.long])"
   ]
  },
  {
   "cell_type": "code",
   "execution_count": null,
   "id": "9f66c397",
   "metadata": {},
   "outputs": [
    {
     "name": "stderr",
     "output_type": "stream",
     "text": [
      "                                                                                                 \r"
     ]
    },
    {
     "ename": "KeyboardInterrupt",
     "evalue": "",
     "output_type": "error",
     "traceback": [
      "\u001b[0;31m---------------------------------------------------------------------------\u001b[0m",
      "\u001b[0;31mKeyboardInterrupt\u001b[0m                         Traceback (most recent call last)",
      "Cell \u001b[0;32mIn[58], line 1\u001b[0m\n\u001b[0;32m----> 1\u001b[0m \u001b[43mtrain_and_test\u001b[49m\u001b[43m(\u001b[49m\u001b[38;5;124;43m\"\u001b[39;49m\u001b[38;5;124;43mminGRU\u001b[39;49m\u001b[38;5;124;43m\"\u001b[39;49m\u001b[43m,\u001b[49m\u001b[43m \u001b[49m\u001b[43mmingru\u001b[49m\u001b[43m,\u001b[49m\u001b[43m \u001b[49m\u001b[43mstart_text\u001b[49m\u001b[43m)\u001b[49m\n",
      "Cell \u001b[0;32mIn[29], line 9\u001b[0m, in \u001b[0;36mtrain_and_test\u001b[0;34m(model_desc, model, start_text)\u001b[0m\n\u001b[1;32m      6\u001b[0m optimizer \u001b[38;5;241m=\u001b[39m torch\u001b[38;5;241m.\u001b[39moptim\u001b[38;5;241m.\u001b[39mAdamW(model\u001b[38;5;241m.\u001b[39mparameters(), lr\u001b[38;5;241m=\u001b[39mLEARNING_RATE, fused\u001b[38;5;241m=\u001b[39m\u001b[38;5;28;01mTrue\u001b[39;00m)\n\u001b[1;32m      8\u001b[0m \u001b[38;5;66;03m# Train the model\u001b[39;00m\n\u001b[0;32m----> 9\u001b[0m trained_model, train_losses_df, val_losses_df \u001b[38;5;241m=\u001b[39m \u001b[43mtrain_model\u001b[49m\u001b[43m(\u001b[49m\n\u001b[1;32m     10\u001b[0m \u001b[43m    \u001b[49m\u001b[43mmodel\u001b[49m\u001b[43m,\u001b[49m\u001b[43m \u001b[49m\u001b[43mtrain_loader\u001b[49m\u001b[43m,\u001b[49m\u001b[43m \u001b[49m\u001b[43mval_loader\u001b[49m\u001b[43m,\u001b[49m\u001b[43m \u001b[49m\u001b[43mcriterion\u001b[49m\u001b[43m,\u001b[49m\u001b[43m \u001b[49m\u001b[43moptimizer\u001b[49m\u001b[43m,\u001b[49m\u001b[43m \u001b[49m\u001b[43mdevice\u001b[49m\u001b[43m,\u001b[49m\u001b[43m \u001b[49m\u001b[43mEPOCHS\u001b[49m\n\u001b[1;32m     11\u001b[0m \u001b[43m\u001b[49m\u001b[43m)\u001b[49m\n\u001b[1;32m     13\u001b[0m \u001b[38;5;66;03m# Generate text\u001b[39;00m\n\u001b[1;32m     14\u001b[0m generated_text \u001b[38;5;241m=\u001b[39m generate_text_attention(trained_model, char_to_idx, idx_to_char, start_text, device)\n",
      "Cell \u001b[0;32mIn[12], line 10\u001b[0m, in \u001b[0;36mtrain_model\u001b[0;34m(model, train_loader, val_loader, criterion, optimizer, device, epochs)\u001b[0m\n\u001b[1;32m      8\u001b[0m epoch_start_time \u001b[38;5;241m=\u001b[39m time\u001b[38;5;241m.\u001b[39mtime()\n\u001b[1;32m      9\u001b[0m \u001b[38;5;66;03m# Training phase with tqdm updates\u001b[39;00m\n\u001b[0;32m---> 10\u001b[0m epoch_train_losses, step, vram_usage \u001b[38;5;241m=\u001b[39m \u001b[43mtrain\u001b[49m\u001b[43m(\u001b[49m\u001b[43mmodel\u001b[49m\u001b[43m,\u001b[49m\u001b[43m \u001b[49m\u001b[43mtrain_loader\u001b[49m\u001b[43m,\u001b[49m\u001b[43m \u001b[49m\u001b[43mcriterion\u001b[49m\u001b[43m,\u001b[49m\u001b[43m \u001b[49m\u001b[43moptimizer\u001b[49m\u001b[43m,\u001b[49m\u001b[43m \u001b[49m\u001b[43mdevice\u001b[49m\u001b[43m,\u001b[49m\u001b[43m \u001b[49m\u001b[43mepoch\u001b[49m\u001b[43m,\u001b[49m\u001b[43m \u001b[49m\u001b[43mstep\u001b[49m\u001b[43m)\u001b[49m\n\u001b[1;32m     11\u001b[0m all_train_losses\u001b[38;5;241m.\u001b[39mextend(epoch_train_losses)\n\u001b[1;32m     12\u001b[0m all_vram_usages\u001b[38;5;241m.\u001b[39mappend(vram_usage)\n",
      "Cell \u001b[0;32mIn[11], line 22\u001b[0m, in \u001b[0;36mtrain\u001b[0;34m(model, dataloader, criterion, optimizer, device, epoch, step)\u001b[0m\n\u001b[1;32m     19\u001b[0m scaler\u001b[38;5;241m.\u001b[39mupdate()\n\u001b[1;32m     21\u001b[0m step \u001b[38;5;241m+\u001b[39m\u001b[38;5;241m=\u001b[39m \u001b[38;5;241m1\u001b[39m\n\u001b[0;32m---> 22\u001b[0m losses\u001b[38;5;241m.\u001b[39mappend((step, epoch, \u001b[43mloss\u001b[49m\u001b[38;5;241;43m.\u001b[39;49m\u001b[43mitem\u001b[49m\u001b[43m(\u001b[49m\u001b[43m)\u001b[49m))\n\u001b[1;32m     24\u001b[0m \u001b[38;5;66;03m# VRAM 사용량을 progress bar의 postfix로 업데이트\u001b[39;00m\n\u001b[1;32m     25\u001b[0m allocated \u001b[38;5;241m=\u001b[39m torch\u001b[38;5;241m.\u001b[39mcuda\u001b[38;5;241m.\u001b[39mmemory_allocated(device) \u001b[38;5;241m/\u001b[39m (\u001b[38;5;241m1024\u001b[39m\u001b[38;5;241m*\u001b[39m\u001b[38;5;241m*\u001b[39m\u001b[38;5;241m2\u001b[39m)\n",
      "\u001b[0;31mKeyboardInterrupt\u001b[0m: "
     ]
    }
   ],
   "source": [
    "train_and_test(\"minGRU\", mingru, start_text)"
   ]
  },
  {
   "cell_type": "code",
   "execution_count": null,
   "id": "791950b7",
   "metadata": {},
   "outputs": [],
   "source": [
    "import torch\n",
    "import torch.nn as nn\n",
    "import torch.nn.functional as F\n",
    "import abc\n",
    "from typing import Final, List, Tuple, Optional\n",
    "\n",
    "# --- Functional components for MinGRU (from cheind/mingru) ---\n",
    "\n",
    "def _g_func(x: torch.Tensor) -> torch.Tensor:\n",
    "    \"\"\"Activation function for hidden state.\"\"\"\n",
    "    out = torch.empty_like(x)\n",
    "    mask = x >= 0\n",
    "    # Ensure 0.5 has the same dtype as x\n",
    "    out[mask] = x[mask] + torch.tensor(0.5, dtype=x.dtype, device=x.device)\n",
    "    out[~mask] = torch.sigmoid(x[~mask])\n",
    "    return out\n",
    "\n",
    "def _log_g_func(x: torch.Tensor) -> torch.Tensor:\n",
    "    \"\"\"Log-activation function for hidden state.\"\"\"\n",
    "    out = torch.empty_like(x) # out will have the same dtype as x (e.g., float16 under autocast)\n",
    "    mask = x >= 0\n",
    "    # Perform calculation and ensure result is cast back to x's dtype before assignment\n",
    "    # (x[mask] + constant_of_x_dtype) results in x_dtype\n",
    "    # .log() might upcast to float32 for precision\n",
    "    # .to(x.dtype) casts it back to the original dtype for assignment\n",
    "    out[mask] = (x[mask] + torch.tensor(0.5, dtype=x.dtype, device=x.device)).log().to(x.dtype)\n",
    "    \n",
    "    # Ensure the output of F.softplus is also cast to the correct dtype\n",
    "    out[~mask] = (-F.softplus(-x[~mask])).to(x.dtype)\n",
    "    return out\n",
    "\n",
    "def _parallel_scan_log_func(log_a: torch.Tensor, log_b: torch.Tensor) -> torch.Tensor:\n",
    "    \"\"\"Parallel scan in log-space.\"\"\"\n",
    "    pad_dims = [0] * (log_a.ndim - 2) * 2 + [1, 0]\n",
    "    a_star = F.pad(torch.cumsum(log_a, dim=1), pad_dims)\n",
    "    \n",
    "    # Placeholder for torch.logcumsumexp if not available in older PyTorch versions\n",
    "    if not hasattr(torch, 'logcumsumexp'):\n",
    "        def _logcumsumexp(x_val, dim_val):\n",
    "            if x_val.ndim == 0: return x_val\n",
    "            if x_val.shape[dim_val] == 0: return x_val\n",
    "            elements = torch.unbind(x_val, dim=dim_val)\n",
    "            out_elements = [elements[0]]\n",
    "            current_log_sum_exp = elements[0]\n",
    "            for i in range(1, len(elements)):\n",
    "                m = torch.maximum(current_log_sum_exp, elements[i])\n",
    "                current_log_sum_exp = m + torch.log1p(torch.exp(-torch.abs(current_log_sum_exp - elements[i])))\n",
    "                out_elements.append(current_log_sum_exp)\n",
    "            return torch.stack(out_elements, dim=dim_val)\n",
    "        x0_plus_b_star = _logcumsumexp(log_b - a_star, dim=1)\n",
    "    else:\n",
    "        x0_plus_b_star = torch.logcumsumexp(log_b - a_star, dim=1)\n",
    "    \n",
    "    log_x = a_star + x0_plus_b_star\n",
    "    return torch.exp(log_x)\n",
    "\n",
    "def _mingru_parallel_func(h_prev_log: torch.Tensor, gate: torch.Tensor, hidden: torch.Tensor) -> torch.Tensor:\n",
    "    \"\"\"Parallel MinGRU forward computation.\"\"\"\n",
    "    log_z = -F.softplus(-gate)\n",
    "    log_one_minus_z = -F.softplus(gate)\n",
    "    log_tilde_h = _log_g_func(hidden) # `hidden` tensor's dtype will propagate into _log_g_func\n",
    "    log_b_for_scan = torch.cat((h_prev_log, log_z + log_tilde_h), dim=1)\n",
    "    h_sequence_plus_initial = _parallel_scan_log_func(log_one_minus_z, log_b_for_scan)\n",
    "    return h_sequence_plus_initial[:, 1:]\n",
    "\n",
    "def _mingru_gate_hidden_func(gate: torch.Tensor, hidden: torch.Tensor, h_prev: torch.Tensor) -> torch.Tensor:\n",
    "    \"\"\"Evaluate the MinGRU using the parallel approach.\"\"\"\n",
    "    # Ensure h_prev is positive before log. g_activation in init_hidden_state should handle this.\n",
    "    # Adding epsilon for numerical stability, cast to h_prev's dtype.\n",
    "    epsilon = torch.tensor(1e-12, dtype=h_prev.dtype, device=h_prev.device)\n",
    "    log_h_prev = (h_prev + epsilon).log() \n",
    "    return _mingru_parallel_func(log_h_prev, gate, hidden)\n",
    "\n",
    "class mF: # Simulated namespace to match the repository's structure\n",
    "    g = _g_func\n",
    "    mingru_gate_hidden = _mingru_gate_hidden_func\n",
    "\n",
    "# --- MinGRU Base and Multi-layer MinGRU Class (from cheind/mingru) ---\n",
    "\n",
    "class MinGRUBase(torch.nn.Module, metaclass=abc.ABCMeta):\n",
    "    \"\"\"Common base interface for all MinGRU implementations.\"\"\"\n",
    "    @abc.abstractmethod\n",
    "    @torch.jit.export\n",
    "    def init_hidden_state(self, x: torch.Tensor) -> List[torch.Tensor]:\n",
    "        pass\n",
    "\n",
    "    @abc.abstractmethod\n",
    "    def forward(self, x: torch.Tensor, h: Optional[List[torch.Tensor]] = None) -> Tuple[torch.Tensor, List[torch.Tensor]]:\n",
    "        pass\n",
    "\n",
    "class MinGRU(MinGRUBase):\n",
    "    \"\"\"A multi-layer minimal gated recurrent unit (MinGRU).\"\"\"\n",
    "    layer_sizes: Final[Tuple[int, ...]]\n",
    "    num_layers: Final[int]\n",
    "\n",
    "    def __init__(\n",
    "        self,\n",
    "        input_size: int,\n",
    "        hidden_sizes: List[int],\n",
    "        *,\n",
    "        bias: bool = True,\n",
    "        norm: bool = False,\n",
    "        dropout: float = 0.0,\n",
    "        residual: bool = False,\n",
    "        device: Optional[torch.device] = None,\n",
    "        dtype: Optional[torch.dtype] = None,\n",
    "    ):\n",
    "        super().__init__()\n",
    "        self.layer_sizes = tuple([input_size] + hidden_sizes)\n",
    "        self.num_layers = len(hidden_sizes)\n",
    "        self.dropout_p = dropout\n",
    "        self.residual = residual\n",
    "        self.use_internal_norm = norm\n",
    "        \n",
    "        layers = []\n",
    "        factory_kwargs = {\"device\": device, \"dtype\": dtype}\n",
    "        gen = zip(self.layer_sizes[:-1], self.layer_sizes[1:])\n",
    "        for lidx, (ind, outd) in enumerate(gen):\n",
    "            mdict = {}\n",
    "            if self.use_internal_norm:\n",
    "                mdict[\"norm\"] = torch.nn.LayerNorm(ind, **factory_kwargs)\n",
    "            else:\n",
    "                mdict[\"norm\"] = torch.nn.Identity()\n",
    "\n",
    "            mdict[\"gate_hidden\"] = torch.nn.Linear(ind, outd * 2, bias=bias, **factory_kwargs)\n",
    "            mdict[\"res_align\"] = torch.nn.Linear(ind, outd, bias=False, **factory_kwargs) if residual and ind != outd else torch.nn.Identity()\n",
    "            mdict[\"dropout\"] = torch.nn.Dropout(p=self.dropout_p) if self.dropout_p > 0.0 and lidx < (self.num_layers - 1) else torch.nn.Identity()\n",
    "            layers.append(torch.nn.ModuleDict(mdict))\n",
    "        self.layers = torch.nn.ModuleList(layers)\n",
    "\n",
    "    def forward(\n",
    "        self,\n",
    "        x: torch.Tensor,\n",
    "        h: Optional[List[torch.Tensor]] = None,\n",
    "    ) -> Tuple[torch.Tensor, List[torch.Tensor]]:\n",
    "        assert (x.ndim == 3 and x.shape[2] == self.layer_sizes[0]), \"x should be (B,S,input_size)\"\n",
    "        if h is None: h = self.init_hidden_state(x)\n",
    "\n",
    "        inp = x\n",
    "        next_hidden_states = []\n",
    "        for lidx, layer_module_dict in enumerate(self.layers):\n",
    "            norm_out = layer_module_dict.norm(inp)\n",
    "            gate, hidden = layer_module_dict.gate_hidden(norm_out).chunk(2, dim=2)\n",
    "            # h[lidx] is the specific hidden state for this layer\n",
    "            out_sequence = mF.mingru_gate_hidden(gate, hidden, h[lidx])\n",
    "            next_hidden_states.append(out_sequence[:, -1:]) # Get last time step for next hidden state\n",
    "            \n",
    "            if self.residual:\n",
    "                # The residual should be added to the output of the GRU operation for this layer\n",
    "                # inp is the input to this specific GRU layer\n",
    "                out_sequence = out_sequence + layer_module_dict.res_align(inp) \n",
    "            \n",
    "            inp = layer_module_dict.dropout(out_sequence) # Output of this layer becomes input to next\n",
    "        return inp, next_hidden_states # inp is the output of the last layer\n",
    "\n",
    "    @torch.jit.export\n",
    "    def init_hidden_state(self, x: torch.Tensor) -> List[torch.Tensor]:\n",
    "        # x is the initial input to the MinGRU module (B, S, input_size)\n",
    "        # We need to initialize hidden states for each layer.\n",
    "        initial_states = [mF.g(x.new_zeros(x.shape[0], 1, hs, dtype=x.dtype)) for hs in self.layer_sizes[1:]]\n",
    "        return initial_states\n",
    "\n",
    "# --- Standard Components for MinGRUDecoder2 ---\n",
    "class RMSNorm(nn.Module):\n",
    "    def __init__(self, dim, eps=1e-8):\n",
    "        super().__init__()\n",
    "        self.scale = dim ** -0.5\n",
    "        self.eps = eps\n",
    "        self.g = nn.Parameter(torch.ones(dim))\n",
    "    def forward(self, x):\n",
    "        # Cast to float32 for norm calculation for stability, then cast back if needed.\n",
    "        # This is a common practice with RMSNorm/LayerNorm when using float16.\n",
    "        original_dtype = x.dtype\n",
    "        x_float32 = x.to(torch.float32)\n",
    "        norm_val = torch.norm(x_float32, dim=-1, keepdim=True) * self.scale\n",
    "        normalized_x = x_float32 / norm_val.clamp(min=self.eps)\n",
    "        return normalized_x.to(original_dtype) * self.g\n",
    "\n",
    "class CausalDepthWiseConv1d(nn.Module):\n",
    "    def __init__(self, dim, kernel_size):\n",
    "        super().__init__()\n",
    "        self.kernel_size = kernel_size\n",
    "        self.net = nn.Sequential(\n",
    "            nn.Conv1d(dim, dim, kernel_size=kernel_size, groups=dim),\n",
    "            nn.Conv1d(dim, dim, kernel_size=1)\n",
    "        )\n",
    "    def forward(self, x):\n",
    "        x_transposed = x.transpose(1, 2)\n",
    "        # Padding value should ideally match the distribution, but 0 is common.\n",
    "        x_padded = F.pad(x_transposed, (self.kernel_size - 1, 0), value=0.0)\n",
    "        x_out = self.net(x_padded)\n",
    "        return x_out.transpose(1, 2)\n",
    "\n",
    "class SwiGLUFFN(nn.Module):\n",
    "    def __init__(self, dim: int, expansion_factor: float = 2.0, dropout: float = 0.0):\n",
    "        super().__init__()\n",
    "        hidden_dim = int(dim * expansion_factor * (2/3))\n",
    "        hidden_dim = (hidden_dim + 7) // 8 * 8\n",
    "        self.w1 = nn.Linear(dim, hidden_dim, bias=False)\n",
    "        self.w2 = nn.Linear(dim, hidden_dim, bias=False)\n",
    "        self.w3 = nn.Linear(hidden_dim, dim, bias=False)\n",
    "        self.dropout = nn.Dropout(dropout)\n",
    "        self.act_fn = nn.SiLU()\n",
    "    def forward(self, x):\n",
    "        return self.dropout(self.w3(self.act_fn(self.w1(x)) * self.w2(x)))\n",
    "\n",
    "class MinGRUDecoder2(nn.Module):\n",
    "    def __init__(\n",
    "        self,\n",
    "        vocab_size: int,\n",
    "        embedding_dim: int,\n",
    "        hidden_dim: int,\n",
    "        num_layers: int = 2, # This now controls the depth of the MinGRU module\n",
    "        dropout: float = 0.1,\n",
    "        rms_norm_eps: float = 1e-8,\n",
    "        enable_conv: bool = True,\n",
    "        conv_kernel_size: int = 3,\n",
    "        ffn_expansion_factor: float = 1.0\n",
    "    ):\n",
    "        super().__init__()\n",
    "        self.embedding = nn.Embedding(vocab_size, embedding_dim)\n",
    "        self.input_projection = nn.Linear(embedding_dim, hidden_dim) if embedding_dim != hidden_dim else nn.Identity()\n",
    "        \n",
    "        self.conv_block = CausalDepthWiseConv1d(hidden_dim, conv_kernel_size) if enable_conv else nn.Identity()\n",
    "        \n",
    "        self.norm_pre_gru = RMSNorm(hidden_dim, eps=rms_norm_eps)\n",
    "        \n",
    "        self.mingru_module = MinGRU(\n",
    "            input_size=hidden_dim,\n",
    "            hidden_sizes=[hidden_dim] * num_layers, # All internal layers have hidden_dim\n",
    "            norm=False,  # MinGRUDecoder2 uses RMSNorm externally before MinGRU\n",
    "            dropout=dropout, # Pass dropout to MinGRU for inter-layer dropout\n",
    "            residual=True  # Enable internal residuals in MinGRU\n",
    "        )\n",
    "        \n",
    "        self.norm_post_gru = RMSNorm(hidden_dim, eps=rms_norm_eps) # Norm after GRU block, before FFN\n",
    "        self.ffn_module = SwiGLUFFN(dim=hidden_dim, expansion_factor=ffn_expansion_factor, dropout=dropout)\n",
    "        \n",
    "        self.final_norm = RMSNorm(hidden_dim, eps=rms_norm_eps)\n",
    "        self.output_projection = nn.Linear(hidden_dim, vocab_size)\n",
    "\n",
    "    def forward(self, x: torch.Tensor) -> tuple[torch.Tensor, None]:\n",
    "        # 1. Input Embedding & Projection\n",
    "        h = self.input_projection(self.embedding(x)) # (B, S, H)\n",
    "        \n",
    "        # 2. Convolutional Block (h_res_conv is h before conv)\n",
    "        h_res_conv = h\n",
    "        h_conv_out = self.conv_block(h_res_conv)\n",
    "        h = h_res_conv + h_conv_out if isinstance(self.conv_block, CausalDepthWiseConv1d) else h_res_conv\n",
    "\n",
    "        # 3. GRU Block (h_res_gru is h before GRU block)\n",
    "        h_res_gru = h \n",
    "        h_gru_input = self.norm_pre_gru(h_res_gru)\n",
    "        # MinGRU's forward expects initial hidden states or will create them.\n",
    "        # It's better to explicitly create them based on the input to MinGRU.\n",
    "        # The init_hidden_state method of MinGRU is designed for this.\n",
    "        initial_mingru_h = self.mingru_module.init_hidden_state(h_gru_input)\n",
    "        h_gru_out, _ = self.mingru_module(h_gru_input, h=initial_mingru_h) # h_gru_out is (B,S,H)\n",
    "        h = h_res_gru + h_gru_out # Residual connection around GRU block (Norm -> MinGRU)\n",
    "\n",
    "        # 4. FFN Block (h_res_ffn is h before FFN block)\n",
    "        h_res_ffn = h\n",
    "        h_ffn_input = self.norm_post_gru(h_res_ffn) # Norm output of GRU block\n",
    "        h_ffn_out = self.ffn_module(h_ffn_input)\n",
    "        h = h_res_ffn + h_ffn_out # Residual connection around FFN block (Norm -> FFN)\n",
    "        \n",
    "        # 5. Final Projection\n",
    "        h_final = self.final_norm(h) # Norm before final linear layer\n",
    "        logits = self.output_projection(h_final) # (B, S, V)\n",
    "        \n",
    "        return logits, None\n"
   ]
  },
  {
   "cell_type": "code",
   "execution_count": null,
   "id": "ed8c3326",
   "metadata": {},
   "outputs": [],
   "source": [
    "### Model Initialization\n",
    "mingru2 = MinGRUDecoder2(vocab_size, EMBEDDING_DIM, int(HIDDEN_DIM*1.3), NUM_LAYERS).to(device)"
   ]
  },
  {
   "cell_type": "code",
   "execution_count": null,
   "id": "649c32e2",
   "metadata": {},
   "outputs": [
    {
     "data": {
      "text/plain": [
       "==========================================================================================\n",
       "Layer (type:depth-idx)                   Output Shape              Param #\n",
       "==========================================================================================\n",
       "MinGRUDecoder2                           [512, 256, 65]            --\n",
       "├─Embedding: 1-1                         [512, 256, 256]           16,640\n",
       "├─Linear: 1-2                            [512, 256, 332]           85,324\n",
       "├─CausalDepthWiseConv1d: 1-3             [512, 256, 332]           --\n",
       "│    └─Sequential: 2-1                   [512, 332, 256]           --\n",
       "│    │    └─Conv1d: 3-1                  [512, 332, 256]           1,328\n",
       "│    │    └─Conv1d: 3-2                  [512, 332, 256]           110,556\n",
       "├─RMSNorm: 1-4                           [512, 256, 332]           332\n",
       "├─MinGRU: 1-5                            [512, 256, 332]           --\n",
       "│    └─ModuleList: 2-2                   --                        --\n",
       "│    │    └─ModuleDict: 3-3              --                        221,112\n",
       "│    │    └─ModuleDict: 3-4              --                        221,112\n",
       "├─RMSNorm: 1-6                           [512, 256, 332]           332\n",
       "├─SwiGLUFFN: 1-7                         [512, 256, 332]           --\n",
       "│    └─Linear: 2-3                       [512, 256, 224]           74,368\n",
       "│    └─SiLU: 2-4                         [512, 256, 224]           --\n",
       "│    └─Linear: 2-5                       [512, 256, 224]           74,368\n",
       "│    └─Linear: 2-6                       [512, 256, 332]           74,368\n",
       "│    └─Dropout: 2-7                      [512, 256, 332]           --\n",
       "├─RMSNorm: 1-8                           [512, 256, 332]           332\n",
       "├─Linear: 1-9                            [512, 256, 65]            21,645\n",
       "==========================================================================================\n",
       "Total params: 901,817\n",
       "Trainable params: 901,817\n",
       "Non-trainable params: 0\n",
       "Total mult-adds (G): 15.07\n",
       "==========================================================================================\n",
       "Input size (MB): 1.05\n",
       "Forward/backward pass size (MB): 4635.75\n",
       "Params size (MB): 3.61\n",
       "Estimated Total Size (MB): 4640.41\n",
       "=========================================================================================="
      ]
     },
     "execution_count": 77,
     "metadata": {},
     "output_type": "execute_result"
    }
   ],
   "source": [
    "from torchinfo import summary\n",
    "\n",
    "summary(mingru2, input_size=(BATCH_SIZE, SEQUENCE_LENGTH), dtypes=[torch.long])"
   ]
  },
  {
   "cell_type": "code",
   "execution_count": null,
   "id": "0616663a",
   "metadata": {},
   "outputs": [],
   "source": [
    "import torch\n",
    "import torch.nn as nn\n",
    "import torch.nn.functional as F\n",
    "import abc\n",
    "from typing import Final, List, Tuple, Optional, Union\n",
    "\n",
    "\n",
    "from torch.nn import RMSNorm\n",
    "\n",
    "class CausalDepthWiseConv1d(nn.Module):\n",
    "    # 인과적(Causal) 1D Depth-wise 컨볼루션\n",
    "    def __init__(self, dim, kernel_size):\n",
    "        super().__init__()\n",
    "        self.kernel_size = kernel_size\n",
    "        self.net = nn.Sequential(\n",
    "            nn.Conv1d(dim, dim, kernel_size=kernel_size, groups=dim), # Depthwise\n",
    "            nn.Conv1d(dim, dim, kernel_size=1)                       # Pointwise\n",
    "        )\n",
    "    def forward(self, x): # 입력: (B, L, C)\n",
    "        x_transposed = x.transpose(1, 2) # (B, C, L)\n",
    "        x_padded = F.pad(x_transposed, (self.kernel_size - 1, 0))\n",
    "        x_out = self.net(x_padded)\n",
    "        return x_out.transpose(1, 2) # 출력: (B, L, C)\n",
    "\n",
    "\n",
    "# --- MinGRU 핵심 기능 (mF 네임스페이스) ---\n",
    "class mF:\n",
    "    @staticmethod\n",
    "    def g(x: torch.Tensor) -> torch.Tensor:\n",
    "        out = torch.empty_like(x)\n",
    "        mask = x >= 0\n",
    "        out[mask] = x[mask] + torch.tensor(0.5, dtype=x.dtype, device=x.device)\n",
    "        out[~mask] = torch.sigmoid(x[~mask])\n",
    "        return out\n",
    "\n",
    "    @staticmethod\n",
    "    def log_g(x: torch.Tensor) -> torch.Tensor:\n",
    "        out = torch.empty_like(x)\n",
    "        mask = x >= 0\n",
    "        out[mask] = (x[mask] + torch.tensor(0.5, dtype=x.dtype, device=x.device)).log().to(x.dtype)\n",
    "        out[~mask] = (-F.softplus(-x[~mask])).to(x.dtype)\n",
    "        return out\n",
    "\n",
    "    @staticmethod\n",
    "    def _parallel_scan_log(log_a: torch.Tensor, log_b: torch.Tensor) -> torch.Tensor:\n",
    "        pad_dims = [0] * (log_a.ndim - 2) * 2 + [1, 0]\n",
    "        a_star = F.pad(torch.cumsum(log_a, dim=1), pad_dims)\n",
    "        x0_plus_b_star = torch.logcumsumexp(log_b - a_star, dim=1)\n",
    "        \n",
    "        log_x = a_star + x0_plus_b_star\n",
    "        return torch.exp(log_x)\n",
    "\n",
    "    @staticmethod\n",
    "    def _mingru_parallel(h_prev_log: torch.Tensor, gate: torch.Tensor, hidden: torch.Tensor) -> torch.Tensor:\n",
    "        log_z = -F.softplus(-gate)\n",
    "        log_one_minus_z = -F.softplus(gate)\n",
    "        log_tilde_h = mF.log_g(hidden)\n",
    "        log_b_for_scan = torch.cat((h_prev_log, log_z + log_tilde_h), dim=1)\n",
    "        h_sequence_plus_initial = mF._parallel_scan_log(log_one_minus_z, log_b_for_scan)\n",
    "        return h_sequence_plus_initial[:, 1:]\n",
    "\n",
    "    @staticmethod\n",
    "    def mingru_gate_hidden(gate: torch.Tensor, hidden: torch.Tensor, h_prev: torch.Tensor) -> torch.Tensor:\n",
    "        epsilon = torch.tensor(1e-12, dtype=h_prev.dtype, device=h_prev.device)\n",
    "        log_h_prev = (h_prev + epsilon).log()\n",
    "        return mF._mingru_parallel(log_h_prev, gate, hidden)\n",
    "\n",
    "# --- MinGRU 모듈 (cheind/mingru 기반) ---\n",
    "class MinGRU(nn.Module): # MinGRUBase 대신 nn.Module 직접 상속 (JIT 호환성 위함)\n",
    "    layer_sizes: Tuple[int, ...] # Final 제거 (JIT 호환성)\n",
    "    num_layers: int # Final 제거\n",
    "\n",
    "    def __init__(\n",
    "        self,\n",
    "        input_size: int,\n",
    "        hidden_sizes: List[int],\n",
    "        bias: bool = True, # 명시적 파라미터 (기존 * 제거)\n",
    "        norm: bool = False,\n",
    "        dropout: float = 0.0,\n",
    "        residual: bool = False,\n",
    "    ):\n",
    "        super().__init__()\n",
    "        self.layer_sizes = tuple([input_size] + hidden_sizes)\n",
    "        self.num_layers = len(hidden_sizes)\n",
    "        self.dropout_p = dropout\n",
    "        self.residual = residual\n",
    "        self.use_internal_norm = norm\n",
    "        \n",
    "        layers_list = [] # ModuleList 사용\n",
    "        gen = zip(self.layer_sizes[:-1], self.layer_sizes[1:])\n",
    "        for lidx, (ind, outd) in enumerate(gen):\n",
    "            layer_modules = {} # 일반 dict 사용\n",
    "            if self.use_internal_norm:\n",
    "                layer_modules[\"norm\"] = torch.nn.LayerNorm(ind)\n",
    "            else:\n",
    "                layer_modules[\"norm\"] = torch.nn.Identity()\n",
    "\n",
    "            layer_modules[\"gate_hidden\"] = torch.nn.Linear(ind, outd * 2, bias=bias)\n",
    "            layer_modules[\"res_align\"] = torch.nn.Linear(ind, outd, bias=False) if residual and ind != outd else torch.nn.Identity()\n",
    "            layer_modules[\"dropout\"] = torch.nn.Dropout(p=self.dropout_p) if self.dropout_p > 0.0 and lidx < (self.num_layers - 1) else torch.nn.Identity()\n",
    "            layers_list.append(torch.nn.ModuleDict(layer_modules)) # ModuleDict를 리스트에 추가\n",
    "        self.layers = torch.nn.ModuleList(layers_list) # ModuleList로 변환\n",
    "\n",
    "    # @torch.jit.export # JIT 사용 시 init_hidden_state도 JIT 호환되어야 함\n",
    "    def init_hidden_state(self, x: torch.Tensor) -> List[torch.Tensor]:\n",
    "        return [mF.g(x.new_zeros(x.shape[0], 1, hs, dtype=x.dtype)) for hs in self.layer_sizes[1:]]\n",
    "\n",
    "    def forward(\n",
    "        self,\n",
    "        x: torch.Tensor,\n",
    "        h: Optional[List[torch.Tensor]] = None,\n",
    "    ) -> Tuple[torch.Tensor, List[torch.Tensor]]:\n",
    "        if h is None: h = self.init_hidden_state(x)\n",
    "        \n",
    "        inp = x\n",
    "        next_hidden_states: List[torch.Tensor] = [] # 타입 명시\n",
    "        for lidx in range(self.num_layers): # ModuleList는 직접 인덱싱 또는 이터레이션\n",
    "            layer_module_dict = self.layers[lidx]\n",
    "            norm_out = layer_module_dict[\"norm\"](inp)\n",
    "            gate, hidden = layer_module_dict[\"gate_hidden\"](norm_out).chunk(2, dim=2)\n",
    "            \n",
    "            current_h: torch.Tensor = h[lidx] # 타입 명시\n",
    "            out_sequence = mF.mingru_gate_hidden(gate, hidden, current_h)\n",
    "            next_hidden_states.append(out_sequence[:, -1:])\n",
    "            \n",
    "            if self.residual:\n",
    "                out_sequence = out_sequence + layer_module_dict[\"res_align\"](inp)\n",
    "            inp = layer_module_dict[\"dropout\"](out_sequence)\n",
    "        return inp, next_hidden_states\n",
    "\n",
    "\n",
    "# --- SwiGLUFFN (변경 없음) ---\n",
    "class SwiGLUFFN(nn.Module):\n",
    "    def __init__(self, dim: int, expansion_factor: float = 2.0, dropout: float = 0.0):\n",
    "        super().__init__()\n",
    "        hidden_dim = int(dim * expansion_factor * (2/3))\n",
    "        hidden_dim = (hidden_dim + 7) // 8 * 8\n",
    "        self.w1 = nn.Linear(dim, hidden_dim, bias=False)\n",
    "        self.w2 = nn.Linear(dim, hidden_dim, bias=False)\n",
    "        self.w3 = nn.Linear(hidden_dim, dim, bias=False)\n",
    "        self.dropout = nn.Dropout(dropout)\n",
    "        self.act_fn = nn.SiLU()\n",
    "    def forward(self, x):\n",
    "        return self.dropout(self.w3(self.act_fn(self.w1(x)) * self.w2(x)))\n",
    "\n",
    "# @torch.jit.script # JIT 컴파일 시도 가능\n",
    "class MinGRUDecoder3(nn.Module):\n",
    "    def __init__(\n",
    "        self,\n",
    "        vocab_size: int,\n",
    "        embedding_dim: int,\n",
    "        hidden_dim: Union[int, List[int]],\n",
    "        num_layers: Optional[int] = None,\n",
    "        dropout: float = 0.1,\n",
    "        rms_norm_eps: float = 1e-8,\n",
    "        enable_conv: bool = True,\n",
    "        conv_kernel_size: int = 3,\n",
    "        ffn_expansion_factor: float = 1.0\n",
    "    ):\n",
    "        super().__init__()\n",
    "        \n",
    "        if isinstance(hidden_dim, int):\n",
    "            if num_layers is None or num_layers < 1: raise ValueError(\"`num_layers`는 양의 정수여야 합니다.\")\n",
    "            mingru_internal_sizes = [hidden_dim] * num_layers\n",
    "        elif isinstance(hidden_dim, list):\n",
    "            if not hidden_dim: raise ValueError(\"`hidden_dim` 리스트는 비어있을 수 없습니다.\")\n",
    "            mingru_internal_sizes = hidden_dim\n",
    "        else:\n",
    "            raise TypeError(\"`hidden_dim`은 정수 또는 정수 리스트여야 합니다.\")\n",
    "        \n",
    "        mingru_input_dim = mingru_internal_sizes[0]\n",
    "        mingru_output_dim = mingru_internal_sizes[-1]\n",
    "        \n",
    "        self.embedding = nn.Embedding(vocab_size, embedding_dim)\n",
    "        self.input_projection = nn.Linear(embedding_dim, mingru_input_dim) if embedding_dim != mingru_input_dim else nn.Identity()\n",
    "        self.conv_block = CausalDepthWiseConv1d(mingru_input_dim, conv_kernel_size) if enable_conv else nn.Identity()\n",
    "        \n",
    "        self.norm_pre_gru = RMSNorm(mingru_input_dim, eps=rms_norm_eps)\n",
    "        \n",
    "        self.mingru_module = MinGRU(\n",
    "            input_size=mingru_input_dim,\n",
    "            hidden_sizes=mingru_internal_sizes,\n",
    "            # norm=False, # MinGRU 내부 LayerNorm 비활성화 (외부 RMSNorm 사용)\n",
    "            dropout=dropout, \n",
    "            residual=True\n",
    "        )\n",
    "        self.gru_residual_projection = nn.Linear(mingru_input_dim, mingru_output_dim) if mingru_input_dim != mingru_output_dim else nn.Identity()\n",
    "\n",
    "        self.norm_post_gru = RMSNorm(mingru_output_dim, eps=rms_norm_eps)\n",
    "        self.ffn_module = SwiGLUFFN(dim=mingru_output_dim, expansion_factor=ffn_expansion_factor, dropout=dropout)\n",
    "        self.final_norm = RMSNorm(mingru_output_dim, eps=rms_norm_eps)\n",
    "        self.output_projection = nn.Linear(mingru_output_dim, vocab_size)\n",
    "\n",
    "    def forward(self, x: torch.Tensor) -> tuple[torch.Tensor, None]:\n",
    "        h = self.input_projection(self.embedding(x))\n",
    "        \n",
    "        h_res_conv = h\n",
    "        if not isinstance(self.conv_block, nn.Identity): # nn.Identity가 아닐 때만 연산\n",
    "            h = h_res_conv + self.conv_block(h_res_conv)\n",
    "\n",
    "        h_res_gru = h\n",
    "        h_gru_input = self.norm_pre_gru(h_res_gru)\n",
    "        h_gru_out, _ = self.mingru_module(h_gru_input)\n",
    "        h = self.gru_residual_projection(h_res_gru) + h_gru_out\n",
    "\n",
    "        h_res_ffn = h\n",
    "        h_ffn_input = self.norm_post_gru(h_res_ffn)\n",
    "        h = h_res_ffn + self.ffn_module(h_ffn_input)\n",
    "        \n",
    "        h_final = self.final_norm(h)\n",
    "        logits = self.output_projection(h_final)\n",
    "        \n",
    "        return logits, None"
   ]
  },
  {
   "cell_type": "code",
   "execution_count": null,
   "id": "94e6b3ff",
   "metadata": {},
   "outputs": [],
   "source": [
    "### Model Initialization\n",
    "mingru3 = MinGRUDecoder3(vocab_size, EMBEDDING_DIM, 332, NUM_LAYERS).to(device)"
   ]
  },
  {
   "cell_type": "code",
   "execution_count": null,
   "id": "3842e002",
   "metadata": {},
   "outputs": [
    {
     "data": {
      "text/plain": [
       "==========================================================================================\n",
       "Layer (type:depth-idx)                   Output Shape              Param #\n",
       "==========================================================================================\n",
       "MinGRUDecoder4                           [512, 256, 65]            --\n",
       "├─Embedding: 1-1                         [512, 256, 256]           16,640\n",
       "├─Linear: 1-2                            [512, 256, 332]           85,324\n",
       "├─CausalDepthWiseConv1d: 1-3             [512, 256, 332]           --\n",
       "│    └─Sequential: 2-1                   [512, 332, 256]           --\n",
       "│    │    └─Conv1d: 3-1                  [512, 332, 256]           1,328\n",
       "│    │    └─Conv1d: 3-2                  [512, 332, 256]           110,556\n",
       "├─RMSNorm: 1-4                           [512, 256, 332]           332\n",
       "├─MinGRU: 1-5                            [512, 256, 332]           --\n",
       "│    └─ModuleList: 2-2                   --                        --\n",
       "│    │    └─ModuleDict: 3-3              --                        221,112\n",
       "│    │    └─ModuleDict: 3-4              --                        221,112\n",
       "├─Identity: 1-6                          [512, 256, 332]           --\n",
       "├─RMSNorm: 1-7                           [512, 256, 332]           332\n",
       "├─SwiGLUFFN: 1-8                         [512, 256, 332]           --\n",
       "│    └─Linear: 2-3                       [512, 256, 224]           74,368\n",
       "│    └─SiLU: 2-4                         [512, 256, 224]           --\n",
       "│    └─Linear: 2-5                       [512, 256, 224]           74,368\n",
       "│    └─Linear: 2-6                       [512, 256, 332]           74,368\n",
       "│    └─Dropout: 2-7                      [512, 256, 332]           --\n",
       "├─RMSNorm: 1-9                           [512, 256, 332]           332\n",
       "├─Linear: 1-10                           [512, 256, 65]            21,645\n",
       "==========================================================================================\n",
       "Total params: 901,817\n",
       "Trainable params: 901,817\n",
       "Non-trainable params: 0\n",
       "Total mult-adds (G): 15.07\n",
       "==========================================================================================\n",
       "Input size (MB): 1.05\n",
       "Forward/backward pass size (MB): 4635.75\n",
       "Params size (MB): 3.61\n",
       "Estimated Total Size (MB): 4640.41\n",
       "=========================================================================================="
      ]
     },
     "execution_count": 101,
     "metadata": {},
     "output_type": "execute_result"
    }
   ],
   "source": [
    "from torchinfo import summary\n",
    "\n",
    "summary(mingru3, input_size=(BATCH_SIZE, SEQUENCE_LENGTH), dtypes=[torch.long])"
   ]
  },
  {
   "cell_type": "code",
   "execution_count": null,
   "id": "993f0fa4",
   "metadata": {},
   "outputs": [],
   "source": []
  }
 ],
 "metadata": {
  "accelerator": "GPU",
  "colab": {
   "gpuType": "T4",
   "provenance": []
  },
  "kernelspec": {
   "display_name": "Python 3",
   "name": "python3"
  },
  "language_info": {
   "codemirror_mode": {
    "name": "ipython",
    "version": 3
   },
   "file_extension": ".py",
   "mimetype": "text/x-python",
   "name": "python",
   "nbconvert_exporter": "python",
   "pygments_lexer": "ipython3",
   "version": "3.10.12"
  }
 },
 "nbformat": 4,
 "nbformat_minor": 5
}
