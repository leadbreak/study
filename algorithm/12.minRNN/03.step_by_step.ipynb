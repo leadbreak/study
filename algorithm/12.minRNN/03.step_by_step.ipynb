{
 "cells": [
  {
   "cell_type": "markdown",
   "id": "bc6cc5e7",
   "metadata": {},
   "source": [
    "# 1. Prior Knowledge"
   ]
  },
  {
   "cell_type": "markdown",
   "id": "515eb994",
   "metadata": {},
   "source": [
    "## 1.1 Vanilla RNN\n",
    "Recurrent Neural Network(RNN)의 기본 수식은 다음과 같은 형태"
   ]
  },
  {
   "cell_type": "markdown",
   "id": "fc7f2066",
   "metadata": {},
   "source": [
    "$\n",
    "h_t = \\tanh(W_h x_t + U_h h_{t-1} + b_h)\n",
    "$"
   ]
  },
  {
   "cell_type": "markdown",
   "id": "d3773208",
   "metadata": {},
   "source": [
    "- $x_t$: 입력 데이터 (시간 스텝 $t$에서)\n",
    "- $h_t$: 히든 상태 (현재 시점의 기억을 저장하는 벡터)\n",
    "- $W_h$, $U_h$, $b_h$: 학습 가능한 파라미터"
   ]
  },
  {
   "cell_type": "markdown",
   "id": "314e9b7e",
   "metadata": {},
   "source": [
    "이러한 수식으로 구현된 RNN은 긴 시퀀스를 학습할 때, 기울기가 지나치게 작아지거나 커지는 문제가 발생해,  \n",
    "이를 해결하기 위해 LSTM과 GRU가 제안됨"
   ]
  },
  {
   "cell_type": "markdown",
   "id": "ac7f73d0",
   "metadata": {},
   "source": [
    "## 1.2 LSTM(Long Short-Term Memory)\n",
    "LSTM은 RNN의 장기 기억 능력을 개선하기 위해 개발되었으며,  \n",
    "다음의 `4가지 gate를 통해 정볼르 선택적으로 유지하거나 제거`"
   ]
  },
  {
   "cell_type": "markdown",
   "id": "d2903515",
   "metadata": {},
   "source": [
    "- Forget gate ($f_t$): 잊어야 할 정보를 결정\n",
    "- Input gate ($i_t$): 새로 추가할 정보를 결정\n",
    "- Candidate memory cell ($\\tilde{c}_t$): 새로 들어오는 정보를 저장하는 후보\n",
    "- Output gate ($o_t$): 현재 히든 상태로 출력할 정보를 결정"
   ]
  },
  {
   "cell_type": "markdown",
   "id": "df9954e9",
   "metadata": {},
   "source": [
    "이를 기반으로 하는 수식은 다음과 같음"
   ]
  },
  {
   "cell_type": "markdown",
   "id": "93c331a1",
   "metadata": {},
   "source": [
    "$\n",
    "\\begin{aligned}\n",
    "f_t &= \\sigma(W_f [x_t, h_{t-1}] + b_f) \\\\[5pt]\n",
    "i_t &= \\sigma(W_i [x_t, h_{t-1}] + b_i) \\\\[5pt]\n",
    "\\tilde{c}_t &= \\tanh(W_c [x_t, h_{t-1}] + b_c) \\\\[5pt]\n",
    "o_t &= \\sigma(W_o [x_t, h_{t-1}] + b_o) \\\\[5pt]\n",
    "c_t &= f_t \\odot c_{t-1} + i_t \\odot \\tilde{c}_t \\\\[5pt]\n",
    "h_t &= o_t \\odot \\tanh(c_t)\n",
    "\\end{aligned}\n",
    "$\n"
   ]
  },
  {
   "cell_type": "markdown",
   "id": "18f7f86a",
   "metadata": {},
   "source": [
    "- $\\sigma$ : sigmoid 함수\n",
    "- $\\odot$ : 요소별 곱셈(element-wise multiplication)"
   ]
  },
  {
   "cell_type": "markdown",
   "id": "fa6a39a9",
   "metadata": {},
   "source": [
    "이를 기반으로 구현한 코드는 다음과 같음"
   ]
  },
  {
   "cell_type": "code",
   "execution_count": 10,
   "id": "5c1044e2",
   "metadata": {},
   "outputs": [],
   "source": [
    "import torch\n",
    "import torch.nn as nn\n",
    "\n",
    "class LSTMCell(nn.Module):\n",
    "    def __init__(self, input_size, hidden_size):\n",
    "        super().__init__()\n",
    "        self.linear_ih = nn.Linear(input_size, 4 * hidden_size)\n",
    "        self.linear_hh = nn.Linear(hidden_size, 4 * hidden_size)\n",
    "\n",
    "    def forward(self, x_t, h_prev, c_prev):\n",
    "        gates = self.linear_ih(x_t) + self.linear_hh(h_prev)\n",
    "\n",
    "        i_t, f_t, g_t, o_t = torch.chunk(gates, 4, dim=1)\n",
    "\n",
    "        i_t = torch.sigmoid(i_t)\n",
    "        f_t = torch.sigmoid(f_t)\n",
    "        g_t = torch.tanh(g_t)\n",
    "        o_t = torch.sigmoid(o_t)\n",
    "\n",
    "        c_t = f_t * c_prev + i_t * g_t\n",
    "        h_t = o_t * torch.tanh(c_t)\n",
    "\n",
    "        return h_t, c_t\n"
   ]
  },
  {
   "cell_type": "code",
   "execution_count": null,
   "id": "c1e0acd9",
   "metadata": {},
   "outputs": [],
   "source": [
    "class LSTM(nn.Module):\n",
    "    def __init__(self, input_size, hidden_size):\n",
    "        super(LSTM, self).__init__()\n",
    "        self.cell = LSTMCell(input_size, hidden_size)\n",
    "\n",
    "    def forward(self, x, h0, c0):\n",
    "        batch_size, seq_len, _ = x.size()\n",
    "        h, c = h0, c0\n",
    "        outputs = []\n",
    "\n",
    "        for t in range(seq_len):\n",
    "            h, c = self.cell(x[:, t, :], h, c)\n",
    "            outputs.append(h.unsqueeze(1))\n",
    "\n",
    "        return torch.cat(outputs, dim=1), (h, c)"
   ]
  },
  {
   "cell_type": "code",
   "execution_count": 12,
   "id": "92029ff7",
   "metadata": {},
   "outputs": [
    {
     "name": "stdout",
     "output_type": "stream",
     "text": [
      "CPU LSTM Output 차이: 5.960464477539063e-08\n",
      "CPU LSTM hidden 차이: 2.9802322387695312e-08\n",
      "CPU LSTM cell 차이: 1.1920928955078125e-07\n"
     ]
    }
   ],
   "source": [
    "torch.manual_seed(42)\n",
    "device = torch.device('cpu') # 'cuda'로 적용할 경우, torch 내부의 fused kernel을 사용하여 결과값의 차이가 커질 수 있음음\n",
    "\n",
    "input_size = 3\n",
    "hidden_size = 4\n",
    "batch_size = 2\n",
    "seq_len = 5\n",
    "\n",
    "x = torch.randn(batch_size, seq_len, input_size).to(device)\n",
    "h0 = torch.randn(batch_size, hidden_size).to(device)\n",
    "c0 = torch.randn(batch_size, hidden_size).to(device)\n",
    "\n",
    "my_lstm = LSTM(input_size, hidden_size).to(device)\n",
    "torch_lstm = nn.LSTM(input_size, hidden_size, batch_first=True).to(device)\n",
    "\n",
    "with torch.no_grad():\n",
    "    torch_lstm.weight_ih_l0.copy_(my_lstm.cell.linear_ih.weight)\n",
    "    torch_lstm.bias_ih_l0.copy_(my_lstm.cell.linear_ih.bias)\n",
    "    torch_lstm.weight_hh_l0.copy_(my_lstm.cell.linear_hh.weight)\n",
    "    torch_lstm.bias_hh_l0.copy_(my_lstm.cell.linear_hh.bias)\n",
    "\n",
    "out_my, (h_n_my, c_n_my) = my_lstm(x, h0, c0)\n",
    "out_torch, (h_n_torch, c_n_torch) = torch_lstm(x, (h0.unsqueeze(0), c0.unsqueeze(0)))\n",
    "\n",
    "print(\"CPU LSTM Output 차이:\", torch.abs(out_my - out_torch).max().item())\n",
    "print(\"CPU LSTM hidden 차이:\", torch.abs(h_n_my - h_n_torch.squeeze(0)).max().item())\n",
    "print(\"CPU LSTM cell 차이:\", torch.abs(c_n_my - c_n_torch.squeeze(0)).max().item())"
   ]
  },
  {
   "cell_type": "code",
   "execution_count": 13,
   "id": "dc6b7b9e",
   "metadata": {},
   "outputs": [
    {
     "name": "stdout",
     "output_type": "stream",
     "text": [
      "CPU LSTM Output 차이: 7.858872413635254e-05\n",
      "CPU LSTM hidden 차이: 7.539987564086914e-05\n",
      "CPU LSTM cell 차이: 0.00010293722152709961\n"
     ]
    }
   ],
   "source": [
    "torch.manual_seed(42)\n",
    "device = torch.device('cuda')\n",
    "\n",
    "input_size = 3\n",
    "hidden_size = 4\n",
    "batch_size = 2\n",
    "seq_len = 5\n",
    "\n",
    "x = torch.randn(batch_size, seq_len, input_size).to(device)\n",
    "h0 = torch.randn(batch_size, hidden_size).to(device)\n",
    "c0 = torch.randn(batch_size, hidden_size).to(device)\n",
    "\n",
    "my_lstm = LSTM(input_size, hidden_size).to(device)\n",
    "torch_lstm = nn.LSTM(input_size, hidden_size, batch_first=True).to(device)\n",
    "\n",
    "with torch.no_grad():\n",
    "    torch_lstm.weight_ih_l0.copy_(my_lstm.cell.linear_ih.weight)\n",
    "    torch_lstm.bias_ih_l0.copy_(my_lstm.cell.linear_ih.bias)\n",
    "    torch_lstm.weight_hh_l0.copy_(my_lstm.cell.linear_hh.weight)\n",
    "    torch_lstm.bias_hh_l0.copy_(my_lstm.cell.linear_hh.bias)\n",
    "\n",
    "out_my, (h_n_my, c_n_my) = my_lstm(x, h0, c0)\n",
    "out_torch, (h_n_torch, c_n_torch) = torch_lstm(x, (h0.unsqueeze(0), c0.unsqueeze(0)))\n",
    "\n",
    "print(\"CPU LSTM Output 차이:\", torch.abs(out_my - out_torch).max().item())\n",
    "print(\"CPU LSTM hidden 차이:\", torch.abs(h_n_my - h_n_torch.squeeze(0)).max().item())\n",
    "print(\"CPU LSTM cell 차이:\", torch.abs(c_n_my - c_n_torch.squeeze(0)).max().item())"
   ]
  },
  {
   "cell_type": "markdown",
   "id": "4012413d",
   "metadata": {},
   "source": [
    "## 1.3 GRU(Gated Recurrent Unit)\n",
    "GRU는 LSTM보다 구조가 간단하면서도 유사한 성능을 내며, 다음과 같은 두 개의 gate로 구성"
   ]
  },
  {
   "cell_type": "markdown",
   "id": "a844190b",
   "metadata": {},
   "source": [
    "- Update gate ($z_t$): 이전 상태를 얼마나 유지할지 결정\n",
    "- Reset gate ($r_t$): 이전 상태를 얼마나 잊을지 결정"
   ]
  },
  {
   "cell_type": "markdown",
   "id": "e2e262a3",
   "metadata": {},
   "source": [
    "이를 이용한 수식은 다음과 같음"
   ]
  },
  {
   "cell_type": "markdown",
   "id": "e8071322",
   "metadata": {},
   "source": [
    "$\n",
    "\\begin{aligned}\n",
    "z_t &= \\sigma(W_z [x_t, h_{t-1}] + b_z) \\\\[5pt]\n",
    "r_t &= \\sigma(W_r [x_t, h_{t-1}] + b_r) \\\\[5pt]\n",
    "\\tilde{h}_t &= \\tanh(W_h [x_t, r_t \\odot h_{t-1}] + b_h) \\\\[5pt]\n",
    "h_t &= (1 - z_t) \\odot h_{t-1} + z_t \\odot \\tilde{h}_t\n",
    "\\end{aligned}\n",
    "$\n"
   ]
  },
  {
   "cell_type": "markdown",
   "id": "58f6aeca",
   "metadata": {},
   "source": [
    "위 수식에서,\n",
    "- $x_t$: 시간 단계 $t$의 입력 벡터\n",
    "- $h_t$: 시간 단계 $t$의 hidden state 벡터\n",
    "- $z_t$: update gate (과거 정보를 유지할지 결정)\n",
    "- $r_t$: reset gate (과거 정보를 잊을지 결정)\n",
    "- $\\sigma$: sigmoid 활성화 함수\n",
    "- $\\odot$: element-wise 곱셈 연산\n",
    "- $W$, $U$: 학습 가능한 가중치\n",
    "- $b$: 편향(bias)"
   ]
  },
  {
   "cell_type": "markdown",
   "id": "0fb891e0",
   "metadata": {},
   "source": [
    "이를 이용해 코드로 구현하면 다음과 같음"
   ]
  },
  {
   "cell_type": "code",
   "execution_count": null,
   "id": "d214465a",
   "metadata": {},
   "outputs": [
    {
     "name": "stderr",
     "output_type": "stream",
     "text": [
      "/usr/local/lib/python3.10/dist-packages/torch/utils/_pytree.py:185: FutureWarning: optree is installed but the version is too old to support PyTorch Dynamo in C++ pytree. C++ pytree support is disabled. Please consider upgrading optree using `python3 -m pip install --upgrade 'optree>=0.13.0'`.\n",
      "  warnings.warn(\n"
     ]
    }
   ],
   "source": [
    "import torch\n",
    "import torch.nn as nn\n",
    "\n",
    "class GRUCell(nn.Module):\n",
    "    def __init__(self, input_size, hidden_size):\n",
    "        super().__init__()\n",
    "        self.input_size = input_size\n",
    "        self.hidden_size = hidden_size\n",
    "\n",
    "        # 입력 → 게이트 연산\n",
    "        self.weight_ih = nn.Parameter(torch.randn(3 * hidden_size, input_size))\n",
    "        self.bias_ih = nn.Parameter(torch.randn(3 * hidden_size))\n",
    "\n",
    "        # 히든 → 게이트 연산\n",
    "        self.weight_hh = nn.Parameter(torch.randn(3 * hidden_size, hidden_size))\n",
    "        self.bias_hh = nn.Parameter(torch.randn(3 * hidden_size))\n",
    "\n",
    "    def forward(self, x_t, h_prev):\n",
    "        gi = torch.nn.functional.linear(x_t, self.weight_ih, self.bias_ih)\n",
    "        gh = torch.nn.functional.linear(h_prev, self.weight_hh, self.bias_hh)\n",
    "\n",
    "        i_r, i_z, i_n = gi.chunk(3, dim=1)\n",
    "        h_r, h_z, h_n = gh.chunk(3, dim=1)\n",
    "\n",
    "        r_t = torch.sigmoid(i_r + h_r)\n",
    "        z_t = torch.sigmoid(i_z + h_z)\n",
    "\n",
    "        # reset gate는 bias를 곱하지 않도록 연산 순서를 명확히 \n",
    "        n_t = torch.tanh(i_n + r_t * (torch.nn.functional.linear(h_prev, \n",
    "                                   self.weight_hh[2*self.hidden_size:], \n",
    "                                   self.bias_hh[2*self.hidden_size:])))\n",
    "\n",
    "        h_t = (1 - z_t) * n_t + z_t * h_prev\n",
    "\n",
    "        return h_t"
   ]
  },
  {
   "cell_type": "code",
   "execution_count": null,
   "id": "bdb1ec6a",
   "metadata": {},
   "outputs": [],
   "source": [
    "class GRU(nn.Module):\n",
    "    def __init__(self, input_size, hidden_size):\n",
    "        super(GRU, self).__init__()\n",
    "        self.hidden_size = hidden_size\n",
    "        self.cell = GRUCell(input_size, hidden_size)\n",
    "\n",
    "    def forward(self, x, h0):\n",
    "        batch_size, seq_len, _ = x.size()\n",
    "        h = h0\n",
    "        outputs = []\n",
    "\n",
    "        for t in range(seq_len):\n",
    "            h = self.cell(x[:, t, :], h)\n",
    "            outputs.append(h.unsqueeze(1))\n",
    "\n",
    "        outputs = torch.cat(outputs, dim=1)\n",
    "        return outputs, h"
   ]
  },
  {
   "cell_type": "code",
   "execution_count": 3,
   "id": "7e4a9de8",
   "metadata": {},
   "outputs": [
    {
     "name": "stdout",
     "output_type": "stream",
     "text": [
      "GRU 전체 Output 차이: 1.4901161193847656e-07\n",
      "GRU 마지막 hidden 차이: 1.4901161193847656e-07\n"
     ]
    }
   ],
   "source": [
    "torch.manual_seed(42)\n",
    "device = torch.device('cpu')\n",
    "\n",
    "input_size = 3\n",
    "hidden_size = 4\n",
    "batch_size = 2\n",
    "seq_len = 5\n",
    "\n",
    "x = torch.randn(batch_size, seq_len, input_size).to(device)\n",
    "h0 = torch.randn(batch_size, hidden_size).to(device)\n",
    "\n",
    "my_gru = GRU(input_size, hidden_size).to(device)\n",
    "torch_gru = nn.GRU(input_size, hidden_size, batch_first=True).to(device)\n",
    "\n",
    "# 가중치 복사\n",
    "with torch.no_grad():\n",
    "    torch_gru.weight_ih_l0.copy_(my_gru.cell.weight_ih)\n",
    "    torch_gru.bias_ih_l0.copy_(my_gru.cell.bias_ih)\n",
    "    torch_gru.weight_hh_l0.copy_(my_gru.cell.weight_hh)\n",
    "    torch_gru.bias_hh_l0.copy_(my_gru.cell.bias_hh)\n",
    "\n",
    "out_my, h_n_my = my_gru(x, h0)\n",
    "out_torch, h_n_torch = torch_gru(x, h0.unsqueeze(0))\n",
    "\n",
    "print(\"GRU 전체 Output 차이:\", torch.abs(out_my - out_torch).max().item())\n",
    "print(\"GRU 마지막 hidden 차이:\", torch.abs(h_n_my - h_n_torch.squeeze(0)).max().item())"
   ]
  },
  {
   "cell_type": "code",
   "execution_count": 4,
   "id": "76fd123b",
   "metadata": {},
   "outputs": [
    {
     "name": "stdout",
     "output_type": "stream",
     "text": [
      "GRU 전체 Output 차이: 0.0007819235324859619\n",
      "GRU 마지막 hidden 차이: 0.0006472766399383545\n"
     ]
    }
   ],
   "source": [
    "torch.manual_seed(42)\n",
    "device = torch.device('cuda')\n",
    "\n",
    "input_size = 3\n",
    "hidden_size = 4\n",
    "batch_size = 2\n",
    "seq_len = 5\n",
    "\n",
    "x = torch.randn(batch_size, seq_len, input_size).to(device)\n",
    "h0 = torch.randn(batch_size, hidden_size).to(device)\n",
    "\n",
    "my_gru = GRU(input_size, hidden_size).to(device)\n",
    "torch_gru = nn.GRU(input_size, hidden_size, batch_first=True).to(device)\n",
    "\n",
    "# 가중치 복사\n",
    "with torch.no_grad():\n",
    "    torch_gru.weight_ih_l0.copy_(my_gru.cell.weight_ih)\n",
    "    torch_gru.bias_ih_l0.copy_(my_gru.cell.bias_ih)\n",
    "    torch_gru.weight_hh_l0.copy_(my_gru.cell.weight_hh)\n",
    "    torch_gru.bias_hh_l0.copy_(my_gru.cell.bias_hh)\n",
    "\n",
    "out_my, h_n_my = my_gru(x, h0)\n",
    "out_torch, h_n_torch = torch_gru(x, h0.unsqueeze(0))\n",
    "\n",
    "print(\"GRU 전체 Output 차이:\", torch.abs(out_my - out_torch).max().item())\n",
    "print(\"GRU 마지막 hidden 차이:\", torch.abs(h_n_my - h_n_torch.squeeze(0)).max().item())"
   ]
  },
  {
   "cell_type": "markdown",
   "id": "32b1b43d",
   "metadata": {},
   "source": [
    "# 2. Minimalization RNNs"
   ]
  },
  {
   "cell_type": "markdown",
   "id": "098870a9",
   "metadata": {},
   "source": [
    "## 2.1 이전 상태 $h_{t-1}$ 의존 제거"
   ]
  },
  {
   "cell_type": "markdown",
   "id": "1e5685a2",
   "metadata": {},
   "source": [
    "Minimalization을 위한 첫 번째 단계는 Mamba에서 적용된 방식과 같이 병렬 처리를 가능하도록 함으로써 하드웨어 자원을 최대한 활용해 연산 효율성을 높이는 것으로, 이전 상태($h_{t-1}$)을 제거"
   ]
  },
  {
   "cell_type": "markdown",
   "id": "ec91cf37",
   "metadata": {},
   "source": [
    "### 기존 구조\n",
    "- $z_t$, $r_t$, $\\tilde{h}_t$ 모두 $h_{t-1}$에 의존 → 병렬화 불가능"
   ]
  },
  {
   "cell_type": "markdown",
   "id": "b19f88b8",
   "metadata": {},
   "source": [
    "### 변경 구조\n",
    "- $z_t = \\sigma(W_z x_t)$\n",
    "- $r_t = \\text{(삭제)}$\n",
    "- $\\tilde{h}_t = W_h x_t$"
   ]
  },
  {
   "cell_type": "markdown",
   "id": "9c151fb3",
   "metadata": {},
   "source": [
    "## 2.2 비선형 함수 $\\tanh$ 제거"
   ]
  },
  {
   "cell_type": "markdown",
   "id": "d04390db",
   "metadata": {},
   "source": [
    "$\\tanh$는 출력값을 $(-1, 1)$로 제한하는 활성화 함수로,  \n",
    "이를 제거하면 표현력은 약간 줄지만, 선형 처리 및 병렬화가 더 쉬워짐"
   ]
  },
  {
   "cell_type": "markdown",
   "id": "6bf634e7",
   "metadata": {},
   "source": [
    "(왜????)"
   ]
  },
  {
   "cell_type": "markdown",
   "id": "7d7b36fd",
   "metadata": {},
   "source": [
    "$\n",
    "\\tilde{h}_t = W_h x_t \\quad (\\text{선형 처리})\n",
    "$"
   ]
  },
  {
   "cell_type": "markdown",
   "id": "c71a429c",
   "metadata": {},
   "source": [
    "## 2.3 최종 minGRU 구조 도출"
   ]
  },
  {
   "cell_type": "markdown",
   "id": "bea11cdc",
   "metadata": {},
   "source": [
    "현재까지의 최종적인 수식은 다음과 같음"
   ]
  },
  {
   "cell_type": "markdown",
   "id": "8fbfe95a",
   "metadata": {},
   "source": [
    "$\n",
    "\\begin{aligned}\n",
    "z_t &= \\sigma(W_z x_t) \\\\\n",
    "\\tilde{h}_t &= W_h x_t \\\\\n",
    "h_t &= (1 - z_t) \\odot h_{t-1} + z_t \\odot \\tilde{h}_t\n",
    "\\end{aligned}\n",
    "$"
   ]
  },
  {
   "cell_type": "markdown",
   "id": "3106d058",
   "metadata": {},
   "source": [
    "위 구조는 다음과 같은 장점을 지니고 있음\n",
    "- 파라미터 수가 **3개 → 2개**로 줄어들고, 연산량도 줄어듦\n",
    "- 단일 입력만으로 상태 갱신 가능 → 병렬화 가능성 확보"
   ]
  },
  {
   "cell_type": "markdown",
   "id": "4b414a58",
   "metadata": {},
   "source": [
    "## 2.4 minGRU를 병렬 구조로 해석하기 (Prefix-Scan 구조)"
   ]
  },
  {
   "cell_type": "markdown",
   "id": "a1f1a5cf",
   "metadata": {},
   "source": [
    "위까지의 수식을 아래와 같이 단순화"
   ]
  },
  {
   "cell_type": "markdown",
   "id": "c908118b",
   "metadata": {},
   "source": [
    "$\n",
    "h_t = a_t \\odot h_{t-1} + b_t \\quad \\\\ \n",
    "\\text{where} \\quad a_t = 1 - z_t,\\quad b_t = z_t \\odot \\tilde{h}_t\n",
    "$"
   ]
  },
  {
   "cell_type": "markdown",
   "id": "a9bc59b4",
   "metadata": {},
   "source": [
    "위 수식은 정확히 **선형 recurrence 형태**이며, 아래와 같은 누적 합 형태의 scan 구조로 근사 가능"
   ]
  },
  {
   "cell_type": "markdown",
   "id": "bbf686d3",
   "metadata": {},
   "source": [
    "$\n",
    "h_t = \\sum_{k=0}^{t} \\left( b_k \\prod_{j=k+1}^{t} a_j \\right)\n",
    "$\n"
   ]
  },
  {
   "cell_type": "markdown",
   "id": "a97b10e9",
   "metadata": {},
   "source": [
    "위 구조는 병렬 Blelloch scan과 같은 scan 알고리즘을 통해 $\\mathcal{O}(\\log T)$ 병렬 처리가 가능"
   ]
  },
  {
   "cell_type": "markdown",
   "id": "ac3e188a",
   "metadata": {},
   "source": [
    "### minGRU의 전체 수식"
   ]
  },
  {
   "cell_type": "markdown",
   "id": "9af2c736",
   "metadata": {},
   "source": [
    "$\n",
    "\\begin{aligned}\n",
    "z_t &= \\sigma(W_z x_t) \\\\[4pt]\n",
    "\\tilde{h}_t &= W_h x_t \\\\[4pt]\n",
    "a_t &= 1 - z_t \\\\[4pt]\n",
    "b_t &= z_t \\odot \\tilde{h}_t \\\\[4pt]\n",
    "h_t &= a_t \\odot h_{t-1} + b_t\n",
    "\\end{aligned}\n",
    "$"
   ]
  },
  {
   "cell_type": "markdown",
   "id": "a02597bf",
   "metadata": {},
   "source": [
    "## 2.5 코드"
   ]
  },
  {
   "cell_type": "markdown",
   "id": "f389381d",
   "metadata": {},
   "source": [
    "### 2.5.1 Overal Structure(Simple)"
   ]
  },
  {
   "cell_type": "code",
   "execution_count": 6,
   "id": "6533c12b",
   "metadata": {},
   "outputs": [],
   "source": [
    "import torch\n",
    "import torch.nn as nn\n",
    "\n",
    "class MinGRUCell(nn.Module):\n",
    "    def __init__(self, input_size, hidden_size):\n",
    "        super().__init__()\n",
    "        self.z_proj = nn.Linear(input_size, hidden_size, bias=True)\n",
    "        self.h_proj = nn.Linear(input_size, hidden_size, bias=True)\n",
    "\n",
    "    def forward(self, x_t, h_prev):\n",
    "        z_t = torch.sigmoid(self.z_proj(x_t))              # update gate\n",
    "        h_tilde = self.h_proj(x_t)                         # candidate hidden\n",
    "        a_t = 1.0 - z_t\n",
    "        b_t = z_t * h_tilde\n",
    "        h_t = a_t * h_prev + b_t\n",
    "        return h_t\n"
   ]
  },
  {
   "cell_type": "code",
   "execution_count": 7,
   "id": "68c43e88",
   "metadata": {},
   "outputs": [],
   "source": [
    "class MinGRU(nn.Module):\n",
    "    def __init__(self, input_size, hidden_size):\n",
    "        super().__init__()\n",
    "        self.cell = MinGRUCell(input_size, hidden_size)\n",
    "\n",
    "    def forward(self, x, h0):\n",
    "        # x: [B, T, input_size]\n",
    "        batch_size, seq_len, _ = x.size()\n",
    "        h = h0\n",
    "        outputs = []\n",
    "\n",
    "        for t in range(seq_len):\n",
    "            h = self.cell(x[:, t, :], h)\n",
    "            outputs.append(h.unsqueeze(1))\n",
    "\n",
    "        return torch.cat(outputs, dim=1), h\n"
   ]
  },
  {
   "cell_type": "code",
   "execution_count": 8,
   "id": "507d0d9f",
   "metadata": {},
   "outputs": [
    {
     "name": "stdout",
     "output_type": "stream",
     "text": [
      "입력 시퀀스 크기: torch.Size([2, 4, 3])\n",
      "출력 시퀀스 크기: torch.Size([2, 4, 5])\n",
      "최종 hidden 상태: torch.Size([2, 5])\n",
      "출력 예시: tensor([[ 0.0162, -0.3345, -0.1807, -0.0015, -0.4170],\n",
      "        [ 0.1418, -0.0706, -0.1691, -0.4127, -0.0728],\n",
      "        [-0.0705, -0.4927, -0.2593, -0.0867, -0.5415],\n",
      "        [ 0.1813, -0.1056, -0.2391, -0.4562, -0.0858]],\n",
      "       grad_fn=<SelectBackward0>)\n"
     ]
    }
   ],
   "source": [
    "# 실험 설정\n",
    "input_size = 3\n",
    "hidden_size = 5\n",
    "batch_size = 2\n",
    "seq_len = 4\n",
    "\n",
    "torch.manual_seed(0)\n",
    "\n",
    "# 입력 데이터 생성\n",
    "x = torch.randn(batch_size, seq_len, input_size)\n",
    "h0 = torch.zeros(batch_size, hidden_size)\n",
    "\n",
    "# minGRU 모델 실행\n",
    "min_gru = MinGRU(input_size, hidden_size)\n",
    "out_seq, h_last = min_gru(x, h0)\n",
    "\n",
    "print(\"입력 시퀀스 크기:\", x.shape)\n",
    "print(\"출력 시퀀스 크기:\", out_seq.shape)\n",
    "print(\"최종 hidden 상태:\", h_last.shape)\n",
    "print(\"출력 예시:\", out_seq[0])\n"
   ]
  },
  {
   "cell_type": "markdown",
   "id": "7bba9557",
   "metadata": {},
   "source": [
    "### 2.5.2 prefix-scan (not parallel yet, just logic)"
   ]
  },
  {
   "cell_type": "markdown",
   "id": "635b1044",
   "metadata": {},
   "source": [
    "Mamba에서와 동일하게 torch로는 병렬 스캔이 어려워,  \n",
    "일단 순차적인 방식으로 구현해 수치적인 차이가 없는지 확인"
   ]
  },
  {
   "cell_type": "code",
   "execution_count": 9,
   "id": "0d69ec19",
   "metadata": {},
   "outputs": [],
   "source": [
    "def prefix_scan_min_gru(a_seq, b_seq, h0):\n",
    "    \"\"\"\n",
    "    시뮬레이션용 prefix-scan 방식의 minGRU\n",
    "    - a_seq: [B, T, H], 곱해지는 계수 (1 - z)\n",
    "    - b_seq: [B, T, H], 가중합 (z * h_tilde)\n",
    "    - h0:    [B, H], 초기 hidden\n",
    "    \"\"\"\n",
    "    B, T, H = a_seq.shape\n",
    "    h = h0\n",
    "    outputs = []\n",
    "\n",
    "    for t in range(T):\n",
    "        h = a_seq[:, t] * h + b_seq[:, t]\n",
    "        outputs.append(h.unsqueeze(1))\n",
    "\n",
    "    return torch.cat(outputs, dim=1)"
   ]
  },
  {
   "cell_type": "markdown",
   "id": "9bb9dec0",
   "metadata": {},
   "source": [
    "### 2.5.3 ADD prefix-scan TO minGRU"
   ]
  },
  {
   "cell_type": "code",
   "execution_count": 13,
   "id": "11ae517f",
   "metadata": {},
   "outputs": [],
   "source": [
    "class MinGRU_w_SCAN(nn.Module):\n",
    "    def __init__(self, input_size, hidden_size):\n",
    "        super().__init__()\n",
    "        self.z_proj = nn.Linear(input_size, hidden_size)\n",
    "        self.h_proj = nn.Linear(input_size, hidden_size)\n",
    "\n",
    "    def forward(self, x, h0):\n",
    "        # x: [B, T, input_size]\n",
    "        z = torch.sigmoid(self.z_proj(x))            # [B,T,H]\n",
    "        h_tilde = self.h_proj(x)                     # [B,T,H]\n",
    "        a = 1 - z\n",
    "        b = z * h_tilde\n",
    "        return prefix_scan_min_gru(a, b, h0)\n"
   ]
  },
  {
   "cell_type": "markdown",
   "id": "007a7476",
   "metadata": {},
   "source": [
    "### 2.5.4 Test"
   ]
  },
  {
   "cell_type": "code",
   "execution_count": 14,
   "id": "efc1eaac",
   "metadata": {},
   "outputs": [
    {
     "name": "stdout",
     "output_type": "stream",
     "text": [
      "순차 vs 병렬 minGRU 출력 차이: 0.000000\n"
     ]
    }
   ],
   "source": [
    "input_size = 3\n",
    "hidden_size = 5\n",
    "batch_size = 2\n",
    "seq_len = 6\n",
    "\n",
    "x = torch.randn(batch_size, seq_len, input_size)\n",
    "h0 = torch.zeros(batch_size, hidden_size)\n",
    "\n",
    "# 순차 구현\n",
    "min_gru_seq = MinGRU(input_size, hidden_size)\n",
    "out_seq, _ = min_gru_seq(x, h0)\n",
    "\n",
    "# 병렬 구현\n",
    "min_gru_par = MinGRU_w_SCAN(input_size, hidden_size)\n",
    "\n",
    "# 동일 weight 복사\n",
    "min_gru_par.z_proj.load_state_dict(min_gru_seq.cell.z_proj.state_dict())\n",
    "min_gru_par.h_proj.load_state_dict(min_gru_seq.cell.h_proj.state_dict())\n",
    "out_par = min_gru_par(x, h0)\n",
    "\n",
    "# 비교\n",
    "max_diff = torch.abs(out_seq - out_par).max().item()\n",
    "print(f\"순차 vs 병렬 minGRU 출력 차이: {max_diff:.6f}\")"
   ]
  },
  {
   "cell_type": "markdown",
   "id": "01934d9c",
   "metadata": {},
   "source": [
    "## 3. Performance Test (Single Layer & Simple Structure)"
   ]
  },
  {
   "cell_type": "markdown",
   "id": "9da8c339",
   "metadata": {},
   "source": [
    "## 3.1 Construct Small Dataset"
   ]
  },
  {
   "cell_type": "code",
   "execution_count": 28,
   "id": "5491b77f",
   "metadata": {},
   "outputs": [],
   "source": [
    "import torch\n",
    "import torch.nn as nn\n",
    "import torch.optim as optim\n",
    "from sklearn.datasets import load_wine\n",
    "from sklearn.model_selection import train_test_split\n",
    "from sklearn.preprocessing import StandardScaler\n",
    "from torch.utils.data import DataLoader, TensorDataset\n",
    "import matplotlib.pyplot as plt\n",
    "\n",
    "# 데이터 로드 및 정규화\n",
    "data = load_wine()\n",
    "X, y = data.data, data.target\n",
    "X = StandardScaler().fit_transform(X)  # 표준화\n",
    "X = torch.tensor(X, dtype=torch.float32).unsqueeze(-1)  # (N, 13, 1)\n",
    "y = torch.tensor(y, dtype=torch.long)\n",
    "\n",
    "# 학습/테스트 분리\n",
    "X_train, X_test, y_train, y_test = train_test_split(\n",
    "    X, y, test_size=0.2, stratify=y, random_state=42\n",
    ")\n",
    "train_loader = DataLoader(TensorDataset(X_train, y_train), batch_size=16, shuffle=True)\n",
    "test_loader = DataLoader(TensorDataset(X_test, y_test), batch_size=16)\n"
   ]
  },
  {
   "cell_type": "markdown",
   "id": "e01a3532",
   "metadata": {},
   "source": [
    "## 3.2 GRU Classifier (Manual)"
   ]
  },
  {
   "cell_type": "code",
   "execution_count": 29,
   "id": "c8fe6509",
   "metadata": {},
   "outputs": [],
   "source": [
    "class ManualGRUCell(nn.Module):\n",
    "    def __init__(self, input_size, hidden_size):\n",
    "        super().__init__()\n",
    "        self.linear_ih = nn.Linear(input_size, 3 * hidden_size)\n",
    "        self.linear_hh = nn.Linear(hidden_size, 3 * hidden_size)\n",
    "\n",
    "    def forward(self, x_t, h_prev):\n",
    "        i_r, i_z, i_n = self.linear_ih(x_t).chunk(3, dim=1)\n",
    "        h_r, h_z, h_n = self.linear_hh(h_prev).chunk(3, dim=1)\n",
    "\n",
    "        r_t = torch.sigmoid(i_r + h_r)\n",
    "        z_t = torch.sigmoid(i_z + h_z)\n",
    "        n_t = torch.tanh(i_n + r_t * h_n)\n",
    "        h_t = (1 - z_t) * n_t + z_t * h_prev\n",
    "        return h_t\n",
    "\n",
    "class ManualGRU(nn.Module):\n",
    "    def __init__(self, input_size, hidden_size):\n",
    "        super().__init__()\n",
    "        self.cell = ManualGRUCell(input_size, hidden_size)\n",
    "\n",
    "    def forward(self, x, h0):\n",
    "        h = h0\n",
    "        outs = []\n",
    "        for t in range(x.size(1)):\n",
    "            h = self.cell(x[:, t], h)\n",
    "            outs.append(h.unsqueeze(1))\n",
    "        return torch.cat(outs, dim=1), h\n",
    "\n",
    "class ManualGRUClassifier(nn.Module):\n",
    "    def __init__(self, input_size, hidden_size, num_classes):\n",
    "        super().__init__()\n",
    "        self.gru = ManualGRU(input_size, hidden_size)\n",
    "        self.fc = nn.Linear(hidden_size, num_classes)\n",
    "\n",
    "    def forward(self, x):\n",
    "        h0 = torch.zeros(x.size(0), self.fc.in_features, device=x.device)\n",
    "        h_seq, _ = self.gru(x, h0)\n",
    "        return self.fc(h_seq[:, -1])\n"
   ]
  },
  {
   "cell_type": "markdown",
   "id": "b4d3acf4",
   "metadata": {},
   "source": [
    "## 3.3 GRU Classifier(Torch Official)"
   ]
  },
  {
   "cell_type": "code",
   "execution_count": 30,
   "id": "ffcc913b",
   "metadata": {},
   "outputs": [],
   "source": [
    "class GRUClassifier(nn.Module):\n",
    "    def __init__(self, input_size, hidden_size, num_classes):\n",
    "        super().__init__()\n",
    "        self.gru = nn.GRU(input_size, hidden_size, batch_first=True)\n",
    "        self.fc = nn.Linear(hidden_size, num_classes)\n",
    "\n",
    "    def forward(self, x):\n",
    "        _, h_n = self.gru(x)\n",
    "        return self.fc(h_n[-1])"
   ]
  },
  {
   "cell_type": "markdown",
   "id": "ffba24f9",
   "metadata": {},
   "source": [
    "## 3.4 minGRU Classifier (not parallel yet)"
   ]
  },
  {
   "cell_type": "code",
   "execution_count": 31,
   "id": "58808680",
   "metadata": {},
   "outputs": [],
   "source": [
    "class MinGRUClassifier(nn.Module):\n",
    "    def __init__(self, input_size, hidden_size, num_classes):\n",
    "        super().__init__()\n",
    "        self.gru = MinGRU_w_SCAN(input_size, hidden_size)\n",
    "        self.fc = nn.Linear(hidden_size, num_classes)\n",
    "\n",
    "    def forward(self, x):\n",
    "        h0 = torch.zeros(x.size(0), self.gru.h_proj.out_features, device=x.device)\n",
    "        h_seq = self.gru(x, h0)\n",
    "        return self.fc(h_seq[:, -1])\n"
   ]
  },
  {
   "cell_type": "markdown",
   "id": "d92a50f2",
   "metadata": {},
   "source": [
    "## 3.5 Train & Validation"
   ]
  },
  {
   "cell_type": "code",
   "execution_count": 78,
   "id": "26e7f5fd",
   "metadata": {},
   "outputs": [],
   "source": [
    "import time\n",
    "\n",
    "def train_and_eval(model, train_loader, test_loader, epochs=50, lr=1e-2):\n",
    "    device = torch.device(\"cuda\" if torch.cuda.is_available() else \"cpu\")\n",
    "    model = model.to(device)\n",
    "    opt = optim.AdamW(model.parameters(), lr=lr)\n",
    "    crit = nn.CrossEntropyLoss()\n",
    "    hist = {\"train_acc\": [], \"test_acc\": [], \"train_loss\": [], \"test_loss\": []}\n",
    "\n",
    "    for ep in range(epochs):\n",
    "        t0 = time.time()\n",
    "        model.train()\n",
    "        correct = total = 0\n",
    "        total_loss = 0\n",
    "        for xb, yb in train_loader:\n",
    "            xb, yb = xb.to(device), yb.to(device)\n",
    "            opt.zero_grad()\n",
    "            pred = model(xb)\n",
    "            loss = crit(pred, yb)\n",
    "            loss.backward()\n",
    "            opt.step()\n",
    "            total_loss += loss.item() * xb.size(0)\n",
    "            correct += (pred.argmax(1) == yb).sum().item()\n",
    "            total += yb.size(0)\n",
    "        hist[\"train_acc\"].append(correct / total)\n",
    "        hist[\"train_loss\"].append(total_loss / total)\n",
    "\n",
    "        model.eval()\n",
    "        correct = total = 0\n",
    "        total_loss = 0\n",
    "        with torch.no_grad():\n",
    "            for xb, yb in test_loader:\n",
    "                xb, yb = xb.to(device), yb.to(device)\n",
    "                pred = model(xb)\n",
    "                loss = crit(pred, yb)\n",
    "                total_loss += loss.item() * xb.size(0)\n",
    "                correct += (pred.argmax(1) == yb).sum().item()\n",
    "                total += yb.size(0)\n",
    "        hist[\"test_acc\"].append(correct / total)\n",
    "        hist[\"test_loss\"].append(total_loss / total)\n",
    "\n",
    "        print(f\"[Epoch {ep+1:02d}] Train Acc: {hist['train_acc'][-1]*100:.2f}% | \"\n",
    "              f\"Test Acc: {hist['test_acc'][-1]*100:.2f}% | Time: {time.time()-t0:.2f}s\")\n",
    "\n",
    "    return hist"
   ]
  },
  {
   "cell_type": "code",
   "execution_count": 79,
   "id": "7071331d",
   "metadata": {},
   "outputs": [],
   "source": [
    "def plot_history(histories):\n",
    "    plt.figure(figsize=(10,6))\n",
    "    for name, h in histories.items():\n",
    "        plt.plot(h[\"train_acc\"], linestyle=\"--\", label=f\"{name} Train Acc\")\n",
    "        plt.plot(h[\"test_acc\"], linestyle=\"-\", label=f\"{name} Test Acc\")\n",
    "    plt.xlabel(\"Epoch\"); plt.ylabel(\"Accuracy\")\n",
    "    plt.title(\"Train / Test Accuracy per Epoch\")\n",
    "    plt.legend(); plt.grid(True)\n",
    "    plt.show()\n",
    "\n",
    "    plt.figure(figsize=(10,6))\n",
    "    for name, h in histories.items():\n",
    "        plt.plot(h[\"train_loss\"], linestyle=\"-\", label=f\"{name} Train Loss\")\n",
    "        plt.plot(h[\"test_loss\"], linestyle=\"--\", label=f\"{name} Test Loss\")\n",
    "    plt.xlabel(\"Epoch\"); plt.ylabel(\"Loss\")\n",
    "    plt.title(\"Train / Test Loss per Epoch\")\n",
    "    plt.legend(); plt.grid(True)\n",
    "    plt.show()"
   ]
  },
  {
   "cell_type": "code",
   "execution_count": 80,
   "id": "d754ca30",
   "metadata": {},
   "outputs": [],
   "source": [
    "def print_model_structure(model, name):\n",
    "    print(f\"\\n>>> {name} 모델 구조:\")\n",
    "    print(f\"모델 파라미터 수: {sum(p.numel() for p in model.parameters())}\")\n",
    "    print(f\"모델 구조: {model}\")\n",
    "    print(f\"모델 장치: {next(model.parameters()).device}\")"
   ]
  },
  {
   "cell_type": "code",
   "execution_count": 81,
   "id": "df471601",
   "metadata": {},
   "outputs": [
    {
     "name": "stdout",
     "output_type": "stream",
     "text": [
      "\n",
      ">>> MyGRU 모델 구조:\n",
      "모델 파라미터 수: 291\n",
      "모델 구조: ManualGRUClassifier(\n",
      "  (gru): ManualGRU(\n",
      "    (cell): ManualGRUCell(\n",
      "      (linear_ih): Linear(in_features=1, out_features=24, bias=True)\n",
      "      (linear_hh): Linear(in_features=8, out_features=24, bias=True)\n",
      "    )\n",
      "  )\n",
      "  (fc): Linear(in_features=8, out_features=3, bias=True)\n",
      ")\n",
      "모델 장치: cpu\n",
      "\n",
      ">>> MyGRU 학습 시작\n",
      "[Epoch 01] Train Acc: 38.03% | Test Acc: 38.89% | Time: 0.13s\n",
      "[Epoch 02] Train Acc: 44.37% | Test Acc: 66.67% | Time: 0.13s\n",
      "[Epoch 03] Train Acc: 66.90% | Test Acc: 91.67% | Time: 0.13s\n",
      "[Epoch 04] Train Acc: 86.62% | Test Acc: 91.67% | Time: 0.13s\n",
      "[Epoch 05] Train Acc: 89.44% | Test Acc: 97.22% | Time: 0.13s\n",
      "[Epoch 06] Train Acc: 90.85% | Test Acc: 97.22% | Time: 0.13s\n",
      "[Epoch 07] Train Acc: 88.73% | Test Acc: 97.22% | Time: 0.12s\n",
      "[Epoch 08] Train Acc: 89.44% | Test Acc: 97.22% | Time: 0.13s\n",
      "[Epoch 09] Train Acc: 91.55% | Test Acc: 97.22% | Time: 0.13s\n",
      "[Epoch 10] Train Acc: 92.25% | Test Acc: 97.22% | Time: 0.13s\n",
      "[Epoch 11] Train Acc: 94.37% | Test Acc: 97.22% | Time: 0.13s\n",
      "[Epoch 12] Train Acc: 93.66% | Test Acc: 97.22% | Time: 0.13s\n",
      "[Epoch 13] Train Acc: 94.37% | Test Acc: 97.22% | Time: 0.13s\n",
      "[Epoch 14] Train Acc: 95.77% | Test Acc: 97.22% | Time: 0.13s\n",
      "[Epoch 15] Train Acc: 95.77% | Test Acc: 94.44% | Time: 0.13s\n",
      "[Epoch 16] Train Acc: 95.77% | Test Acc: 97.22% | Time: 0.13s\n",
      "[Epoch 17] Train Acc: 95.77% | Test Acc: 97.22% | Time: 0.13s\n",
      "[Epoch 18] Train Acc: 96.48% | Test Acc: 97.22% | Time: 0.13s\n",
      "[Epoch 19] Train Acc: 96.48% | Test Acc: 97.22% | Time: 0.13s\n",
      "[Epoch 20] Train Acc: 97.18% | Test Acc: 94.44% | Time: 0.13s\n",
      "[Epoch 21] Train Acc: 97.89% | Test Acc: 94.44% | Time: 0.13s\n",
      "[Epoch 22] Train Acc: 97.89% | Test Acc: 94.44% | Time: 0.13s\n",
      "[Epoch 23] Train Acc: 98.59% | Test Acc: 94.44% | Time: 0.13s\n",
      "[Epoch 24] Train Acc: 99.30% | Test Acc: 94.44% | Time: 0.13s\n",
      "[Epoch 25] Train Acc: 99.30% | Test Acc: 94.44% | Time: 0.13s\n",
      "[Epoch 26] Train Acc: 99.30% | Test Acc: 94.44% | Time: 0.13s\n",
      "[Epoch 27] Train Acc: 99.30% | Test Acc: 94.44% | Time: 0.13s\n",
      "[Epoch 28] Train Acc: 99.30% | Test Acc: 94.44% | Time: 0.13s\n",
      "[Epoch 29] Train Acc: 99.30% | Test Acc: 94.44% | Time: 0.13s\n",
      "[Epoch 30] Train Acc: 99.30% | Test Acc: 94.44% | Time: 0.13s\n",
      "[Epoch 31] Train Acc: 99.30% | Test Acc: 94.44% | Time: 0.13s\n",
      "[Epoch 32] Train Acc: 99.30% | Test Acc: 94.44% | Time: 0.13s\n",
      "[Epoch 33] Train Acc: 99.30% | Test Acc: 94.44% | Time: 0.13s\n",
      "[Epoch 34] Train Acc: 99.30% | Test Acc: 94.44% | Time: 0.13s\n",
      "[Epoch 35] Train Acc: 99.30% | Test Acc: 94.44% | Time: 0.13s\n",
      "[Epoch 36] Train Acc: 99.30% | Test Acc: 94.44% | Time: 0.13s\n",
      "[Epoch 37] Train Acc: 99.30% | Test Acc: 94.44% | Time: 0.13s\n",
      "[Epoch 38] Train Acc: 99.30% | Test Acc: 94.44% | Time: 0.13s\n",
      "[Epoch 39] Train Acc: 99.30% | Test Acc: 94.44% | Time: 0.13s\n",
      "[Epoch 40] Train Acc: 99.30% | Test Acc: 94.44% | Time: 0.13s\n",
      "[Epoch 41] Train Acc: 99.30% | Test Acc: 94.44% | Time: 0.13s\n",
      "[Epoch 42] Train Acc: 99.30% | Test Acc: 94.44% | Time: 0.13s\n",
      "[Epoch 43] Train Acc: 99.30% | Test Acc: 91.67% | Time: 0.13s\n",
      "[Epoch 44] Train Acc: 99.30% | Test Acc: 94.44% | Time: 0.13s\n",
      "[Epoch 45] Train Acc: 99.30% | Test Acc: 91.67% | Time: 0.13s\n",
      "[Epoch 46] Train Acc: 99.30% | Test Acc: 91.67% | Time: 0.13s\n",
      "[Epoch 47] Train Acc: 99.30% | Test Acc: 91.67% | Time: 0.13s\n",
      "[Epoch 48] Train Acc: 99.30% | Test Acc: 91.67% | Time: 0.13s\n",
      "[Epoch 49] Train Acc: 99.30% | Test Acc: 91.67% | Time: 0.13s\n",
      "[Epoch 50] Train Acc: 99.30% | Test Acc: 91.67% | Time: 0.13s\n",
      "\n",
      ">>> GRU 모델 구조:\n",
      "모델 파라미터 수: 291\n",
      "모델 구조: GRUClassifier(\n",
      "  (gru): GRU(1, 8, batch_first=True)\n",
      "  (fc): Linear(in_features=8, out_features=3, bias=True)\n",
      ")\n",
      "모델 장치: cpu\n",
      "\n",
      ">>> GRU 학습 시작\n",
      "[Epoch 01] Train Acc: 40.14% | Test Acc: 44.44% | Time: 0.02s\n",
      "[Epoch 02] Train Acc: 54.93% | Test Acc: 72.22% | Time: 0.02s\n",
      "[Epoch 03] Train Acc: 69.01% | Test Acc: 69.44% | Time: 0.02s\n",
      "[Epoch 04] Train Acc: 76.06% | Test Acc: 91.67% | Time: 0.02s\n",
      "[Epoch 05] Train Acc: 84.51% | Test Acc: 83.33% | Time: 0.02s\n",
      "[Epoch 06] Train Acc: 87.32% | Test Acc: 94.44% | Time: 0.02s\n",
      "[Epoch 07] Train Acc: 91.55% | Test Acc: 97.22% | Time: 0.02s\n",
      "[Epoch 08] Train Acc: 91.55% | Test Acc: 97.22% | Time: 0.02s\n",
      "[Epoch 09] Train Acc: 92.96% | Test Acc: 97.22% | Time: 0.02s\n",
      "[Epoch 10] Train Acc: 92.25% | Test Acc: 97.22% | Time: 0.02s\n",
      "[Epoch 11] Train Acc: 90.14% | Test Acc: 97.22% | Time: 0.02s\n",
      "[Epoch 12] Train Acc: 91.55% | Test Acc: 97.22% | Time: 0.02s\n",
      "[Epoch 13] Train Acc: 94.37% | Test Acc: 94.44% | Time: 0.02s\n",
      "[Epoch 14] Train Acc: 92.25% | Test Acc: 97.22% | Time: 0.02s\n",
      "[Epoch 15] Train Acc: 92.96% | Test Acc: 97.22% | Time: 0.02s\n",
      "[Epoch 16] Train Acc: 95.77% | Test Acc: 97.22% | Time: 0.02s\n",
      "[Epoch 17] Train Acc: 95.07% | Test Acc: 97.22% | Time: 0.02s\n",
      "[Epoch 18] Train Acc: 94.37% | Test Acc: 97.22% | Time: 0.02s\n",
      "[Epoch 19] Train Acc: 97.89% | Test Acc: 97.22% | Time: 0.02s\n",
      "[Epoch 20] Train Acc: 96.48% | Test Acc: 97.22% | Time: 0.02s\n",
      "[Epoch 21] Train Acc: 97.18% | Test Acc: 97.22% | Time: 0.02s\n",
      "[Epoch 22] Train Acc: 98.59% | Test Acc: 97.22% | Time: 0.02s\n",
      "[Epoch 23] Train Acc: 97.89% | Test Acc: 97.22% | Time: 0.02s\n",
      "[Epoch 24] Train Acc: 97.89% | Test Acc: 97.22% | Time: 0.02s\n",
      "[Epoch 25] Train Acc: 99.30% | Test Acc: 97.22% | Time: 0.02s\n",
      "[Epoch 26] Train Acc: 100.00% | Test Acc: 97.22% | Time: 0.02s\n",
      "[Epoch 27] Train Acc: 100.00% | Test Acc: 97.22% | Time: 0.02s\n",
      "[Epoch 28] Train Acc: 100.00% | Test Acc: 100.00% | Time: 0.02s\n",
      "[Epoch 29] Train Acc: 100.00% | Test Acc: 100.00% | Time: 0.02s\n",
      "[Epoch 30] Train Acc: 100.00% | Test Acc: 100.00% | Time: 0.02s\n",
      "[Epoch 31] Train Acc: 100.00% | Test Acc: 100.00% | Time: 0.02s\n",
      "[Epoch 32] Train Acc: 100.00% | Test Acc: 100.00% | Time: 0.02s\n",
      "[Epoch 33] Train Acc: 100.00% | Test Acc: 100.00% | Time: 0.02s\n",
      "[Epoch 34] Train Acc: 100.00% | Test Acc: 100.00% | Time: 0.02s\n",
      "[Epoch 35] Train Acc: 100.00% | Test Acc: 100.00% | Time: 0.02s\n",
      "[Epoch 36] Train Acc: 100.00% | Test Acc: 100.00% | Time: 0.02s\n",
      "[Epoch 37] Train Acc: 100.00% | Test Acc: 100.00% | Time: 0.02s\n",
      "[Epoch 38] Train Acc: 100.00% | Test Acc: 100.00% | Time: 0.02s\n",
      "[Epoch 39] Train Acc: 100.00% | Test Acc: 100.00% | Time: 0.02s\n",
      "[Epoch 40] Train Acc: 100.00% | Test Acc: 100.00% | Time: 0.02s\n",
      "[Epoch 41] Train Acc: 100.00% | Test Acc: 100.00% | Time: 0.02s\n",
      "[Epoch 42] Train Acc: 100.00% | Test Acc: 100.00% | Time: 0.02s\n",
      "[Epoch 43] Train Acc: 100.00% | Test Acc: 97.22% | Time: 0.02s\n",
      "[Epoch 44] Train Acc: 100.00% | Test Acc: 97.22% | Time: 0.02s\n",
      "[Epoch 45] Train Acc: 100.00% | Test Acc: 100.00% | Time: 0.02s\n",
      "[Epoch 46] Train Acc: 100.00% | Test Acc: 100.00% | Time: 0.02s\n",
      "[Epoch 47] Train Acc: 100.00% | Test Acc: 100.00% | Time: 0.02s\n",
      "[Epoch 48] Train Acc: 100.00% | Test Acc: 97.22% | Time: 0.02s\n",
      "[Epoch 49] Train Acc: 100.00% | Test Acc: 100.00% | Time: 0.02s\n",
      "[Epoch 50] Train Acc: 100.00% | Test Acc: 97.22% | Time: 0.02s\n",
      "\n",
      ">>> minGRU 모델 구조:\n",
      "모델 파라미터 수: 227\n",
      "모델 구조: MinGRUClassifier(\n",
      "  (gru): MinGRU_w_SCAN(\n",
      "    (z_proj): Linear(in_features=1, out_features=32, bias=True)\n",
      "    (h_proj): Linear(in_features=1, out_features=32, bias=True)\n",
      "  )\n",
      "  (fc): Linear(in_features=32, out_features=3, bias=True)\n",
      ")\n",
      "모델 장치: cpu\n",
      "\n",
      ">>> minGRU 학습 시작\n",
      "[Epoch 01] Train Acc: 45.77% | Test Acc: 58.33% | Time: 0.06s\n",
      "[Epoch 02] Train Acc: 64.08% | Test Acc: 72.22% | Time: 0.06s\n",
      "[Epoch 03] Train Acc: 70.42% | Test Acc: 77.78% | Time: 0.06s\n",
      "[Epoch 04] Train Acc: 76.76% | Test Acc: 86.11% | Time: 0.06s\n",
      "[Epoch 05] Train Acc: 78.17% | Test Acc: 86.11% | Time: 0.06s\n",
      "[Epoch 06] Train Acc: 76.76% | Test Acc: 86.11% | Time: 0.06s\n",
      "[Epoch 07] Train Acc: 80.28% | Test Acc: 94.44% | Time: 0.06s\n",
      "[Epoch 08] Train Acc: 80.99% | Test Acc: 88.89% | Time: 0.06s\n",
      "[Epoch 09] Train Acc: 83.10% | Test Acc: 91.67% | Time: 0.06s\n",
      "[Epoch 10] Train Acc: 84.51% | Test Acc: 91.67% | Time: 0.06s\n",
      "[Epoch 11] Train Acc: 88.73% | Test Acc: 94.44% | Time: 0.06s\n",
      "[Epoch 12] Train Acc: 86.62% | Test Acc: 94.44% | Time: 0.06s\n",
      "[Epoch 13] Train Acc: 90.85% | Test Acc: 94.44% | Time: 0.06s\n",
      "[Epoch 14] Train Acc: 89.44% | Test Acc: 94.44% | Time: 0.06s\n",
      "[Epoch 15] Train Acc: 90.14% | Test Acc: 94.44% | Time: 0.06s\n",
      "[Epoch 16] Train Acc: 88.73% | Test Acc: 94.44% | Time: 0.06s\n",
      "[Epoch 17] Train Acc: 89.44% | Test Acc: 94.44% | Time: 0.06s\n",
      "[Epoch 18] Train Acc: 89.44% | Test Acc: 94.44% | Time: 0.06s\n",
      "[Epoch 19] Train Acc: 88.73% | Test Acc: 94.44% | Time: 0.06s\n",
      "[Epoch 20] Train Acc: 89.44% | Test Acc: 94.44% | Time: 0.06s\n",
      "[Epoch 21] Train Acc: 89.44% | Test Acc: 94.44% | Time: 0.06s\n",
      "[Epoch 22] Train Acc: 89.44% | Test Acc: 94.44% | Time: 0.05s\n",
      "[Epoch 23] Train Acc: 88.73% | Test Acc: 94.44% | Time: 0.06s\n",
      "[Epoch 24] Train Acc: 89.44% | Test Acc: 94.44% | Time: 0.06s\n",
      "[Epoch 25] Train Acc: 89.44% | Test Acc: 94.44% | Time: 0.06s\n",
      "[Epoch 26] Train Acc: 90.14% | Test Acc: 94.44% | Time: 0.06s\n",
      "[Epoch 27] Train Acc: 90.85% | Test Acc: 94.44% | Time: 0.06s\n",
      "[Epoch 28] Train Acc: 90.14% | Test Acc: 94.44% | Time: 0.06s\n",
      "[Epoch 29] Train Acc: 91.55% | Test Acc: 94.44% | Time: 0.06s\n",
      "[Epoch 30] Train Acc: 89.44% | Test Acc: 94.44% | Time: 0.06s\n",
      "[Epoch 31] Train Acc: 91.55% | Test Acc: 94.44% | Time: 0.06s\n",
      "[Epoch 32] Train Acc: 89.44% | Test Acc: 94.44% | Time: 0.06s\n",
      "[Epoch 33] Train Acc: 90.85% | Test Acc: 94.44% | Time: 0.06s\n",
      "[Epoch 34] Train Acc: 91.55% | Test Acc: 94.44% | Time: 0.06s\n",
      "[Epoch 35] Train Acc: 91.55% | Test Acc: 94.44% | Time: 0.06s\n",
      "[Epoch 36] Train Acc: 90.85% | Test Acc: 94.44% | Time: 0.06s\n",
      "[Epoch 37] Train Acc: 91.55% | Test Acc: 94.44% | Time: 0.06s\n",
      "[Epoch 38] Train Acc: 91.55% | Test Acc: 94.44% | Time: 0.06s\n",
      "[Epoch 39] Train Acc: 91.55% | Test Acc: 94.44% | Time: 0.06s\n",
      "[Epoch 40] Train Acc: 91.55% | Test Acc: 94.44% | Time: 0.06s\n",
      "[Epoch 41] Train Acc: 91.55% | Test Acc: 94.44% | Time: 0.06s\n",
      "[Epoch 42] Train Acc: 91.55% | Test Acc: 94.44% | Time: 0.06s\n",
      "[Epoch 43] Train Acc: 92.25% | Test Acc: 94.44% | Time: 0.06s\n",
      "[Epoch 44] Train Acc: 91.55% | Test Acc: 94.44% | Time: 0.06s\n",
      "[Epoch 45] Train Acc: 92.96% | Test Acc: 94.44% | Time: 0.06s\n",
      "[Epoch 46] Train Acc: 92.25% | Test Acc: 94.44% | Time: 0.06s\n",
      "[Epoch 47] Train Acc: 91.55% | Test Acc: 94.44% | Time: 0.06s\n",
      "[Epoch 48] Train Acc: 91.55% | Test Acc: 94.44% | Time: 0.06s\n",
      "[Epoch 49] Train Acc: 91.55% | Test Acc: 94.44% | Time: 0.06s\n",
      "[Epoch 50] Train Acc: 91.55% | Test Acc: 94.44% | Time: 0.06s\n"
     ]
    },
    {
     "data": {
      "image/png": "[encoded data removed]",
      "text/plain": [
       "<Figure size 1000x600 with 1 Axes>"
      ]
     },
     "metadata": {},
     "output_type": "display_data"
    },
    {
     "data": {
      "image/png": "[encoded data removed]",
      "text/plain": [
       "<Figure size 1000x600 with 1 Axes>"
      ]
     },
     "metadata": {},
     "output_type": "display_data"
    }
   ],
   "source": [
    "# 정의\n",
    "input_size = 1\n",
    "hidden_size1 = 8\n",
    "hidden_size2 = 32\n",
    "num_classes = 3\n",
    "\n",
    "models = {\n",
    "    \"MyGRU\": ManualGRUClassifier(input_size, hidden_size1, num_classes),\n",
    "    \"GRU\": GRUClassifier(input_size, hidden_size1, num_classes),\n",
    "    \"minGRU\": MinGRUClassifier(input_size, hidden_size2, num_classes),\n",
    "}\n",
    "\n",
    "histories = {}\n",
    "\n",
    "# 실행\n",
    "for name, model in models.items():\n",
    "    print_model_structure(model, name)\n",
    "    print(f\"\\n>>> {name} 학습 시작\")\n",
    "    hist = train_and_eval(model, train_loader, test_loader)\n",
    "    histories[name] = hist\n",
    "\n",
    "# 시각화\n",
    "plot_history(histories)\n"
   ]
  }
 ],
 "metadata": {
  "kernelspec": {
   "display_name": "Python 3",
   "language": "python",
   "name": "python3"
  },
  "language_info": {
   "codemirror_mode": {
    "name": "ipython",
    "version": 3
   },
   "file_extension": ".py",
   "mimetype": "text/x-python",
   "name": "python",
   "nbconvert_exporter": "python",
   "pygments_lexer": "ipython3",
   "version": "3.10.12"
  }
 },
 "nbformat": 4,
 "nbformat_minor": 5
}
