{
 "cells": [
  {
   "cell_type": "markdown",
   "id": "51243cb9",
   "metadata": {},
   "source": [
    "```\n",
    "[pre-works]\n",
    "```\n",
    "comparison with various version of minGRU\n",
    "to check my code\n",
    "\n",
    "- 10 에포크로 비교가 애매했던 gru v1과 v3 좀 더 긴 에포크로 비교"
   ]
  },
  {
   "cell_type": "code",
   "execution_count": 1,
   "id": "20ec8bf0",
   "metadata": {
    "id": "20ec8bf0"
   },
   "outputs": [],
   "source": [
    "import torch\n",
    "import torch.nn as nn\n",
    "from torch.utils.data import Dataset, DataLoader\n",
    "import numpy as np\n",
    "import time\n",
    "import matplotlib.pyplot as plt\n",
    "import pandas as pd"
   ]
  },
  {
   "cell_type": "markdown",
   "id": "5a3390f4",
   "metadata": {
    "id": "5a3390f4"
   },
   "source": [
    "## Hyperparameters and Configuration"
   ]
  },
  {
   "cell_type": "code",
   "execution_count": 2,
   "id": "d0c61f36",
   "metadata": {
    "colab": {
     "base_uri": "https://localhost:8080/"
    },
    "executionInfo": {
     "elapsed": 6,
     "status": "ok",
     "timestamp": 1732703737281,
     "user": {
      "displayName": "Hugman Sangkeun Jung",
      "userId": "08689291704194029524"
     },
     "user_tz": -540
    },
    "id": "d0c61f36",
    "outputId": "45d9894c-a14d-4164-9f2d-699025751e72"
   },
   "outputs": [
    {
     "name": "stdout",
     "output_type": "stream",
     "text": [
      "Using device: cuda:1\n"
     ]
    }
   ],
   "source": [
    "# Modified hyperparameters\n",
    "SEQUENCE_LENGTH = 128\n",
    "\n",
    "EMBEDDING_DIM = SEQUENCE_LENGTH\n",
    "HIDDEN_DIM = EMBEDDING_DIM\n",
    "\n",
    "BATCH_SIZE = 1024\n",
    "EPOCHS = 20\n",
    "LEARNING_RATE = 1e-4\n",
    "VALIDATION_SPLIT = 0.1\n",
    "\n",
    "NUM_LAYERS = 2\n",
    "FFN_DIM = SEQUENCE_LENGTH\n",
    "DROPOUT = 0.1\n",
    "\n",
    "device = torch.device('cuda:1' if torch.cuda.is_available() else 'cpu')\n",
    "print(f\"Using device: {device}\")"
   ]
  },
  {
   "cell_type": "markdown",
   "id": "89c9b962",
   "metadata": {
    "id": "89c9b962"
   },
   "source": [
    "## Data Preparation\n",
    "\n",
    "We are using the TinyShakespeare dataset, a small character-level text corpus consisting of a subset of Shakespeare's plays. It's often used for testing sequence models, as it includes a rich set of vocabulary and provides a challenging task for next-character prediction."
   ]
  },
  {
   "cell_type": "code",
   "execution_count": 3,
   "id": "089830e2",
   "metadata": {
    "id": "089830e2"
   },
   "outputs": [],
   "source": [
    "## Utility Functions\n",
    "\n",
    "def load_data(filename):\n",
    "    with open(filename, 'r', encoding='utf-8') as f:\n",
    "        return f.read()\n",
    "\n",
    "def create_char_mappings(text):\n",
    "    chars = sorted(list(set(text)))\n",
    "    char_to_idx = {ch: i for i, ch in enumerate(chars)}\n",
    "    idx_to_char = {i: ch for i, ch in enumerate(chars)}\n",
    "    return chars, char_to_idx, idx_to_char"
   ]
  },
  {
   "cell_type": "markdown",
   "id": "30fc6452",
   "metadata": {
    "id": "30fc6452"
   },
   "source": [
    "## Dataset"
   ]
  },
  {
   "cell_type": "code",
   "execution_count": 4,
   "id": "f07670d9",
   "metadata": {
    "id": "f07670d9"
   },
   "outputs": [],
   "source": [
    "class CharDataset(Dataset):\n",
    "    def __init__(self, text, seq_length, char_to_idx):\n",
    "        self.text = text\n",
    "        self.seq_length = seq_length\n",
    "        self.char_to_idx = char_to_idx\n",
    "\n",
    "    def __len__(self):\n",
    "        return len(self.text) - self.seq_length\n",
    "\n",
    "    def __getitem__(self, idx):\n",
    "        x = [self.char_to_idx[ch] for ch in self.text[idx:idx+self.seq_length]]\n",
    "        y = [self.char_to_idx[ch] for ch in self.text[idx+1:idx+self.seq_length+1]]\n",
    "        return torch.tensor(x), torch.tensor(y)"
   ]
  },
  {
   "cell_type": "code",
   "execution_count": 5,
   "id": "9172da13",
   "metadata": {
    "id": "9172da13"
   },
   "outputs": [],
   "source": [
    "def prepare_data(text, seq_length, batch_size, val_split):\n",
    "    chars, char_to_idx, idx_to_char = create_char_mappings(text)\n",
    "\n",
    "    # Split data into train and validation\n",
    "    val_size = int(len(text) * val_split)\n",
    "    train_text, val_text = text[:-val_size], text[-val_size:]\n",
    "\n",
    "    train_dataset = CharDataset(train_text, seq_length, char_to_idx)\n",
    "    val_dataset = CharDataset(val_text, seq_length, char_to_idx)\n",
    "\n",
    "    train_loader = DataLoader(train_dataset, batch_size=batch_size, shuffle=True, num_workers=12, pin_memory=True)\n",
    "    val_loader = DataLoader(val_dataset, batch_size=batch_size, shuffle=False, num_workers=12, pin_memory=True)\n",
    "\n",
    "    return train_loader, val_loader, chars, char_to_idx, idx_to_char"
   ]
  },
  {
   "cell_type": "code",
   "execution_count": 6,
   "id": "nEwKFB_8L6AG",
   "metadata": {
    "colab": {
     "base_uri": "https://localhost:8080/"
    },
    "executionInfo": {
     "elapsed": 3706,
     "status": "ok",
     "timestamp": 1732704246464,
     "user": {
      "displayName": "Hugman Sangkeun Jung",
      "userId": "08689291704194029524"
     },
     "user_tz": -540
    },
    "id": "nEwKFB_8L6AG",
    "outputId": "e75cdff9-3775-461e-d930-0ced534bf74d"
   },
   "outputs": [],
   "source": [
    "# !wget --no-check-certificate 'https://drive.google.com/uc?export=download&id=19zosLuU0z4MxIMKbGVYEGlg52QyfbTIy' -O input.txt"
   ]
  },
  {
   "cell_type": "code",
   "execution_count": 7,
   "id": "47d03398",
   "metadata": {
    "colab": {
     "base_uri": "https://localhost:8080/"
    },
    "executionInfo": {
     "elapsed": 668,
     "status": "ok",
     "timestamp": 1732704255324,
     "user": {
      "displayName": "Hugman Sangkeun Jung",
      "userId": "08689291704194029524"
     },
     "user_tz": -540
    },
    "id": "47d03398",
    "outputId": "f247f5b3-88ff-4ecb-e8a3-4b2e42a2820b"
   },
   "outputs": [
    {
     "name": "stdout",
     "output_type": "stream",
     "text": [
      "Total characters: 1115394\n",
      "Vocabulary size: 65\n",
      "Train dataset size: 1003727\n",
      "Validation dataset size: 111411\n"
     ]
    }
   ],
   "source": [
    "# Load the data\n",
    "text = load_data('../data/input.txt')\n",
    "train_loader, val_loader, chars, char_to_idx, idx_to_char = prepare_data(text, SEQUENCE_LENGTH, BATCH_SIZE, VALIDATION_SPLIT)\n",
    "vocab_size = len(chars)\n",
    "\n",
    "print(f\"Total characters: {len(text)}\")\n",
    "print(f\"Vocabulary size: {vocab_size}\")\n",
    "print(f\"Train dataset size: {len(train_loader.dataset)}\")\n",
    "print(f\"Validation dataset size: {len(val_loader.dataset)}\")"
   ]
  },
  {
   "cell_type": "markdown",
   "id": "9442b104",
   "metadata": {
    "id": "9442b104"
   },
   "source": [
    "## Data Visualization"
   ]
  },
  {
   "cell_type": "code",
   "execution_count": 8,
   "id": "f1f0a6a1",
   "metadata": {
    "colab": {
     "base_uri": "https://localhost:8080/"
    },
    "executionInfo": {
     "elapsed": 916,
     "status": "ok",
     "timestamp": 1732704257555,
     "user": {
      "displayName": "Hugman Sangkeun Jung",
      "userId": "08689291704194029524"
     },
     "user_tz": -540
    },
    "id": "f1f0a6a1",
    "outputId": "9ef6eb5a-0015-40ad-f143-236e3d38fb7e"
   },
   "outputs": [
    {
     "name": "stdout",
     "output_type": "stream",
     "text": [
      "Input shape: torch.Size([1024, 128])\n",
      "Target shape: torch.Size([1024, 128])\n",
      "Sample 1: ------------------------------\n",
      "Input sequence : st arch of piteous massacreThat ever yet this land was guilty of.Dighton and Forrest, whom I did subornTo do this ruthless pi\n",
      "Target sequence: t arch of piteous massacreThat ever yet this land was guilty of.Dighton and Forrest, whom I did subornTo do this ruthless pie\n",
      "\n",
      "Sample 2: ------------------------------\n",
      "Input sequence :  amorous,And that the lean abhorred monster keepsThee here in dark to be his paramour?For fear of that, I still will stay wit\n",
      "Target sequence: amorous,And that the lean abhorred monster keepsThee here in dark to be his paramour?For fear of that, I still will stay with\n",
      "\n",
      "Sample 3: ------------------------------\n",
      "Input sequence : ll me but love, and I'll be new baptized;Henceforth I never will be Romeo.JULIET:What man art thou that thus bescreen'd in n\n",
      "Target sequence: l me but love, and I'll be new baptized;Henceforth I never will be Romeo.JULIET:What man art thou that thus bescreen'd in ni\n",
      "\n"
     ]
    }
   ],
   "source": [
    "# Function to convert index sequence to character sequence\n",
    "def indices_to_text(indices, idx_to_char):\n",
    "    return ''.join([idx_to_char[idx.item()] for idx in indices])\n",
    "\n",
    "# Get a batch of data\n",
    "dataiter = iter(train_loader)\n",
    "batch_x, batch_y = next(dataiter)\n",
    "\n",
    "print(f\"Input shape: {batch_x.shape}\")\n",
    "print(f\"Target shape: {batch_y.shape}\")\n",
    "\n",
    "# Print a few samples from the batch\n",
    "num_samples = 3\n",
    "for i in range(num_samples):\n",
    "    print(f\"Sample {i+1}: ------------------------------\" )\n",
    "    print(\"Input sequence :\", indices_to_text(batch_x[i], idx_to_char).replace('\\n',''))\n",
    "    print(\"Target sequence:\", indices_to_text(batch_y[i], idx_to_char).replace('\\n',''))\n",
    "    print()\n"
   ]
  },
  {
   "cell_type": "markdown",
   "id": "5486f73f",
   "metadata": {
    "id": "5486f73f"
   },
   "source": [
    "## Training Function"
   ]
  },
  {
   "cell_type": "code",
   "execution_count": 9,
   "id": "61a52f82",
   "metadata": {},
   "outputs": [],
   "source": [
    "def print_vram_usage(device=\"cuda\"):\n",
    "    allocated = torch.cuda.memory_allocated(device) / (1024**2)  # in MB\n",
    "    reserved = torch.cuda.memory_reserved(device) / (1024**2)    # in MB\n",
    "    max_allocated = torch.cuda.max_memory_allocated(device) / (1024**2)  # in MB\n",
    "    print(f\"Allocated: {allocated:.2f} MB, Reserved: {reserved:.2f} MB, Max Allocated: {max_allocated:.2f} MB\")"
   ]
  },
  {
   "cell_type": "code",
   "execution_count": 10,
   "id": "59178a11",
   "metadata": {
    "id": "59178a11"
   },
   "outputs": [],
   "source": [
    "def validate(model, dataloader, criterion, device, epoch, step):\n",
    "    model.eval()\n",
    "    losses = []\n",
    "    with torch.no_grad():\n",
    "        for x, y in dataloader:\n",
    "            x, y = x.to(device), y.to(device)\n",
    "            output = model(x)\n",
    "            loss = criterion(output.view(-1, output.size(-1)), y.view(-1))\n",
    "            losses.append((step, epoch, loss.item()))\n",
    "    return losses"
   ]
  },
  {
   "cell_type": "code",
   "execution_count": 11,
   "id": "ea5e61f5",
   "metadata": {
    "id": "ea5e61f5"
   },
   "outputs": [],
   "source": [
    "from tqdm import tqdm\n",
    "\n",
    "def train(model, dataloader, criterion, optimizer, device, epoch, step):\n",
    "    model.train()\n",
    "    losses = []\n",
    "    vram_usage = []\n",
    "    scaler = torch.amp.GradScaler('cuda')\n",
    "    pbar = tqdm(dataloader, desc=f\"Epoch {epoch}\", leave=False)\n",
    "    for batch, (x, y) in enumerate(pbar):\n",
    "        x, y = x.to(device), y.to(device)\n",
    "        optimizer.zero_grad()\n",
    "        \n",
    "        with torch.amp.autocast('cuda', dtype=torch.bfloat16):\n",
    "            output = model(x)\n",
    "            loss = criterion(output.view(-1, output.size(-1)), y.view(-1))\n",
    "            \n",
    "        scaler.scale(loss).backward()\n",
    "        scaler.step(optimizer)\n",
    "        scaler.update()\n",
    "\n",
    "        step += 1\n",
    "        losses.append((step, epoch, loss.item()))\n",
    "        \n",
    "        # VRAM 사용량을 progress bar의 postfix로 업데이트\n",
    "        allocated = torch.cuda.memory_allocated(device) / (1024**2)\n",
    "        vram_usage.append(allocated)\n",
    "        pbar.set_postfix(loss=f'{loss.item():.4f}', step=step, vram=f'{allocated:.2f} MB')\n",
    "    return losses, step, vram_usage"
   ]
  },
  {
   "cell_type": "markdown",
   "id": "cbedfd61",
   "metadata": {
    "id": "cbedfd61"
   },
   "source": [
    "## Generation Function"
   ]
  },
  {
   "cell_type": "code",
   "execution_count": 12,
   "id": "e91075e8",
   "metadata": {
    "id": "e91075e8"
   },
   "outputs": [],
   "source": [
    "def train_model(model, train_loader, val_loader, criterion, optimizer, device, epochs):\n",
    "    all_train_losses = []\n",
    "    all_val_losses = []\n",
    "    all_vram_usages = []\n",
    "    step = 0\n",
    "\n",
    "    for epoch in range(1, epochs + 1):\n",
    "        epoch_start_time = time.time()\n",
    "        # Training phase with tqdm updates\n",
    "        epoch_train_losses, step, vram_usage = train(model, train_loader, criterion, optimizer, device, epoch, step)\n",
    "        all_train_losses.extend(epoch_train_losses)\n",
    "        all_vram_usages.append(vram_usage)\n",
    "        \n",
    "        # Validation phase\n",
    "        epoch_val_losses = validate(model, val_loader, criterion, device, epoch, step)\n",
    "        all_val_losses.extend(epoch_val_losses)\n",
    "        \n",
    "        epoch_time = time.time() - epoch_start_time\n",
    "        print(f'Epoch {epoch}/{epochs}, Train Loss: {epoch_train_losses[-1][2]:.4f}, '\n",
    "              f'Val Loss: {epoch_val_losses[-1][2]:.4f}, Epoch Time: {epoch_time:.2f}s',\n",
    "              f'Average Vram Usage: {np.mean(vram_usage):.2f}MB')\n",
    "\n",
    "    train_losses_df = pd.DataFrame(all_train_losses, columns=['step', 'epoch', 'loss_value'])\n",
    "    val_losses_df = pd.DataFrame(all_val_losses, columns=['step', 'epoch', 'loss_value'])\n",
    "    # average_vram_usage = np.mean(all_vram_usages)\n",
    "    return model, train_losses_df, val_losses_df\n"
   ]
  },
  {
   "cell_type": "code",
   "execution_count": 13,
   "id": "4535c886",
   "metadata": {
    "id": "4535c886"
   },
   "outputs": [],
   "source": [
    "def generate_text(model, char_to_idx, idx_to_char, start_text, device, max_length=500):\n",
    "    model.eval()\n",
    "    current_text = start_text\n",
    "    hidden = None\n",
    "\n",
    "    with torch.no_grad():\n",
    "        for _ in range(max_length):\n",
    "            x = torch.tensor([[char_to_idx[ch] for ch in current_text[-SEQUENCE_LENGTH:]]]).to(device)\n",
    "            output = model(x, hidden)\n",
    "            probs = torch.softmax(output[0, -1], dim=0)\n",
    "            next_char_idx = torch.multinomial(probs, 1).item()\n",
    "            next_char = idx_to_char[next_char_idx]\n",
    "            current_text += next_char\n",
    "\n",
    "    return current_text"
   ]
  },
  {
   "cell_type": "code",
   "execution_count": 14,
   "id": "6aef1cf9",
   "metadata": {},
   "outputs": [],
   "source": [
    "loss_comparison_dict = {}\n",
    "\n",
    "def add_loss_to_comparison(model_name, train_losses_df, val_losses_df):\n",
    "    \"\"\"\n",
    "    Adds training and validation losses from a model to the comparison dictionary.\n",
    "    \"\"\"\n",
    "    loss_comparison_dict[model_name] = {\n",
    "        'train': train_losses_df,\n",
    "        'val': val_losses_df\n",
    "    }\n",
    "\n",
    "def print_final_losses(loss_dict):\n",
    "    for model_name, losses in loss_dict.items():\n",
    "        train_df = losses['train']\n",
    "        val_df = losses['val']\n",
    "        final_train = train_df.groupby('epoch')['loss_value'].last().iloc[-1]\n",
    "        final_val = val_df.groupby('epoch')['loss_value'].last().iloc[-1]\n",
    "        print(f\"{model_name}: Final Train Loss: {final_train:.4f}, Final Val Loss: {final_val:.4f}\")"
   ]
  },
  {
   "cell_type": "code",
   "execution_count": 15,
   "id": "973b4a80",
   "metadata": {
    "id": "973b4a80"
   },
   "outputs": [],
   "source": [
    "# Function to plot loss curves\n",
    "def plot_loss(train_losses_df, val_losses_df):\n",
    "    plt.figure(figsize=(10, 5))\n",
    "\n",
    "    # Plot training losses\n",
    "    for epoch in train_losses_df['epoch'].unique():\n",
    "        epoch_train_losses = train_losses_df[train_losses_df['epoch'] == epoch]\n",
    "        plt.plot(epoch_train_losses['step'], epoch_train_losses['loss_value'],\n",
    "                 color='blue', alpha=0.3)\n",
    "\n",
    "    # scatter training loss at the end of each epoch\n",
    "    last_train_losses = train_losses_df.groupby('epoch').last().reset_index()\n",
    "    plt.scatter(last_train_losses['step'], last_train_losses['loss_value'],\n",
    "                color='blue')\n",
    "\n",
    "    # Plot and scatter validation loss at the end of each epoch\n",
    "    last_val_losses = val_losses_df.groupby('epoch').last().reset_index()\n",
    "    plt.plot(last_val_losses['step'], last_val_losses['loss_value'],\n",
    "             color='orange', label='Validation Loss')\n",
    "    plt.scatter(last_val_losses['step'], last_val_losses['loss_value'],\n",
    "                color='orange')\n",
    "\n",
    "    plt.xlabel('Steps')\n",
    "    plt.ylabel('Loss')\n",
    "    plt.title('Training and Validation Loss')\n",
    "    plt.legend()\n",
    "    plt.grid(True)\n",
    "    plt.show()\n",
    "\n",
    "# Function to print final loss values\n",
    "def print_final_losses(train_losses_df, val_losses_df):\n",
    "    print(\"Final Training Loss:\", train_losses_df.groupby('epoch')['loss_value'].last().iloc[-1])\n",
    "    print(\"Final Validation Loss:\", val_losses_df.groupby('epoch')['loss_value'].last().iloc[-1])"
   ]
  },
  {
   "cell_type": "code",
   "execution_count": 16,
   "id": "5001e203",
   "metadata": {
    "id": "5001e203"
   },
   "outputs": [],
   "source": [
    "# Function to plot loss curves for multiple models stored in loss_comparison_dict\n",
    "def plot_loss_comparisons():\n",
    "    \"\"\"\n",
    "    Plots the training loss curves and average validation loss per epoch for multiple models added to the loss comparison dictionary.\n",
    "    \"\"\"\n",
    "    plt.figure(figsize=(10, 5))\n",
    "    \n",
    "    # Get the last model in the dictionary (for special final-point highlighting)\n",
    "    last_model_name = list(loss_comparison_dict.keys())[-1]\n",
    "\n",
    "    # Loop through each model in the loss dictionary\n",
    "    for model_name, losses in loss_comparison_dict.items():\n",
    "        train_losses_df = losses['train']\n",
    "        val_losses_df = losses['val']\n",
    "\n",
    "        # Plot training losses for each model\n",
    "        plt.plot(train_losses_df['step'], train_losses_df['loss_value'],\n",
    "                 label=f'{model_name} train', linestyle='-', alpha=0.7)\n",
    "\n",
    "        # Scatter training loss at the end of each epoch\n",
    "        last_train_losses = train_losses_df.groupby('epoch').last().reset_index()\n",
    "        plt.scatter(last_train_losses['step'], last_train_losses['loss_value'], marker='o', s=50)\n",
    "\n",
    "        # Compute average validation loss per epoch (using the last step of each epoch for x-axis)\n",
    "        avg_val_losses = val_losses_df.groupby('epoch').agg({'loss_value': 'mean', 'step': 'last'}).reset_index()\n",
    "        # Scatter the average validation loss for each epoch\n",
    "        plt.scatter(avg_val_losses['step'], avg_val_losses['loss_value'], marker='s', s=50,\n",
    "                    label=f'{model_name} val avg')\n",
    "\n",
    "        # For the last model, highlight the final training loss with a star\n",
    "        if model_name == last_model_name:\n",
    "            final_step = train_losses_df['step'].iloc[-1]\n",
    "            final_loss = train_losses_df['loss_value'].iloc[-1]\n",
    "            plt.scatter(final_step, final_loss, marker='*', s=100, color='red', zorder=5)\n",
    "\n",
    "    plt.xlabel('Steps')\n",
    "    plt.ylabel('Loss')\n",
    "    plt.title('Training Loss Comparison')\n",
    "    plt.legend()  # Legend shows both training and validation average labels\n",
    "    plt.grid(True)\n",
    "    plt.show()\n"
   ]
  },
  {
   "cell_type": "code",
   "execution_count": 17,
   "id": "16777ffd",
   "metadata": {},
   "outputs": [],
   "source": [
    "def plot_separate_train_val(loss_dict):\n",
    "    \"\"\"\n",
    "    모델별 Training Loss와 Validation Loss를 각각 별도의 그래프로 그립니다.\n",
    "    단, Validation Loss는 에포크별 평균으로 계산합니다.\n",
    "    \"\"\"\n",
    "    # 1. Training Loss Plot (원본 그대로)\n",
    "    plt.figure(figsize=(20, 5))\n",
    "    plt.subplot(1, 2, 1)  # 1행 2열 중 첫 번째\n",
    "    for model_name, losses in loss_dict.items():\n",
    "        train_df = losses['train']\n",
    "        steps_train = train_df['step'].values\n",
    "        loss_train = train_df['loss_value'].values\n",
    "        plt.plot(steps_train, loss_train, label=f'{model_name} Train')\n",
    "    plt.title('Training Loss Comparison')\n",
    "    plt.xlabel('Steps')\n",
    "    plt.ylabel('Loss')\n",
    "    plt.legend()\n",
    "    plt.grid(True)\n",
    "\n",
    "    # 2. Validation Loss Plot (에포크별 평균 처리)\n",
    "    plt.subplot(1, 2, 2)  # 1행 2열 중 두 번째\n",
    "    for model_name, losses in loss_dict.items():\n",
    "        val_df = losses['val']\n",
    "        # 에포크별 평균 loss와 마지막 step을 계산\n",
    "        val_avg = val_df.groupby('epoch').agg({'loss_value': 'mean', 'step': 'last'}).reset_index()\n",
    "        plt.plot(val_avg['step'], val_avg['loss_value'], label=f'{model_name} Val')\n",
    "    plt.title('Validation Loss (Epoch Avg) Comparison')\n",
    "    plt.xlabel('Steps')\n",
    "    plt.ylabel('Loss')\n",
    "    plt.legend()\n",
    "    plt.grid(True)\n",
    "\n",
    "    plt.tight_layout()\n",
    "    plt.show()\n"
   ]
  },
  {
   "cell_type": "code",
   "execution_count": 18,
   "id": "396c469b",
   "metadata": {},
   "outputs": [],
   "source": [
    "# Text generation using validation data\n",
    "val_sample, _ = next(iter(val_loader))\n",
    "start_text = ''.join([idx_to_char[idx.item()] for idx in val_sample[0][:SEQUENCE_LENGTH]])"
   ]
  },
  {
   "cell_type": "code",
   "execution_count": 19,
   "id": "98b72703",
   "metadata": {
    "colab": {
     "base_uri": "https://localhost:8080/"
    },
    "executionInfo": {
     "elapsed": 3,
     "status": "ok",
     "timestamp": 1732704396861,
     "user": {
      "displayName": "Hugman Sangkeun Jung",
      "userId": "08689291704194029524"
     },
     "user_tz": -540
    },
    "id": "98b72703",
    "outputId": "ece1620a-8690-4750-97c1-ada645d59a08"
   },
   "outputs": [],
   "source": [
    "# Decoder Input/Output Example\n",
    "sample_input, _ = next(iter(val_loader))\n",
    "sample_input = sample_input[0].unsqueeze(0).to(device)  # Add batch dimension"
   ]
  },
  {
   "cell_type": "code",
   "execution_count": 20,
   "id": "a2d8a352",
   "metadata": {
    "id": "a2d8a352"
   },
   "outputs": [],
   "source": [
    "def generate_text_attention(model, char_to_idx, idx_to_char, start_text, device, max_length=500):\n",
    "    model.eval()\n",
    "    current_text = start_text\n",
    "\n",
    "    with torch.no_grad():\n",
    "        for _ in range(max_length):\n",
    "            # Convert the last sequence of characters to indices and feed it to the model\n",
    "            x = torch.tensor([[char_to_idx[ch] for ch in current_text[-SEQUENCE_LENGTH:]]]).to(device)\n",
    "            output = model(x)\n",
    "            probs = torch.softmax(output[0, -1], dim=0)\n",
    "            next_char_idx = torch.multinomial(probs, 1).item()\n",
    "            next_char = idx_to_char[next_char_idx]\n",
    "            current_text += next_char\n",
    "\n",
    "    return current_text"
   ]
  },
  {
   "cell_type": "code",
   "execution_count": 21,
   "id": "32c936b1",
   "metadata": {
    "id": "32c936b1"
   },
   "outputs": [],
   "source": [
    "def train_and_test(model_desc, model, start_text):\n",
    "    # Initialize the model\n",
    "    model = model.to(device)\n",
    "    # Use the same optimizer and criterion\n",
    "    criterion = nn.CrossEntropyLoss()\n",
    "    optimizer = torch.optim.AdamW(model.parameters(), lr=LEARNING_RATE, fused=True)\n",
    "    \n",
    "    # Train the model\n",
    "    trained_model, train_losses_df, val_losses_df = train_model(\n",
    "        model, train_loader, val_loader, criterion, optimizer, device, EPOCHS\n",
    "    )\n",
    "\n",
    "    # Generate text\n",
    "    generated_text = generate_text_attention(trained_model, char_to_idx, idx_to_char, start_text, device)\n",
    "    print(f\"Generated text [{start_text}]:\")\n",
    "    print(\"-\"*50)\n",
    "    print(generated_text)\n",
    "    \n",
    "    add_loss_to_comparison(model_desc, train_losses_df, val_losses_df)\n",
    "\n",
    "    # Plot loss comparisons including this model\n",
    "    plot_loss_comparisons()\n",
    "    \n",
    "    plot_separate_train_val(loss_comparison_dict)"
   ]
  },
  {
   "cell_type": "markdown",
   "id": "2dbb22cc",
   "metadata": {},
   "source": [
    "## minGRU V1: Structure Like Llama(Trasnformer)"
   ]
  },
  {
   "cell_type": "code",
   "execution_count": 22,
   "id": "d73586ae",
   "metadata": {},
   "outputs": [],
   "source": [
    "import torch\n",
    "import torch.nn as nn\n",
    "import torch.nn.functional as F\n",
    "import math # math.log 및 상수 사용을 위함\n",
    "from tqdm import tqdm # tqdm 임포트 추가\n",
    "\n",
    "# Lion 옵티마이저 임포트 (설치 필요: pip install lion-pytorch)\n",
    "# from lion_pytorch import Lion # 주석 처리 - 실제 사용 시 주석 해제\n",
    "\n",
    "def log_g(x: torch.Tensor) -> torch.Tensor:\n",
    "    \"\"\"\n",
    "    은닉 상태 후보를 로그 공간으로 변환하는 함수.\n",
    "    x >= 0 이면 log(x + 0.5)\n",
    "    x < 0 이면 log(sigmoid(x))\n",
    "    \"\"\"\n",
    "    return torch.where(x >= 0, (F.relu(x) + 0.5).log(), -F.softplus(-x))\n",
    "\n",
    "def parallel_scan_log(log_coeffs: torch.Tensor, log_values: torch.Tensor) -> torch.Tensor:\n",
    "    \"\"\"\n",
    "    로그 공간에서 병렬 스캔 연산을 수행합니다. (클램핑 제거됨)\n",
    "    Args:\n",
    "        log_coeffs (torch.Tensor): [B, L, H_internal] 형태의 텐서로, log(alpha_t)를 나타냅니다.\n",
    "        log_values (torch.Tensor): [B, L+1, H_internal] 형태의 텐서로, [log_h_initial, log(beta_1), ..., log(beta_L)]를 나타냅니다.\n",
    "    Returns:\n",
    "        torch.Tensor: [B, L, H_internal] 형태의 텐서로, 지수 함수가 적용된 은닉 상태 (h_1 부터 h_L까지)를 나타냅니다.\n",
    "    \"\"\"\n",
    "    log_proda_coeffs_prefix = F.pad(torch.cumsum(log_coeffs, dim=1), (0, 0, 1, 0), value=0.0)\n",
    "    terms_for_logcumsumexp = log_values - log_proda_coeffs_prefix\n",
    "    log_sum_exp_terms = torch.logcumsumexp(terms_for_logcumsumexp, dim=1) \n",
    "    log_hidden_states = log_proda_coeffs_prefix + log_sum_exp_terms\n",
    "    output_hidden_states = torch.exp(log_hidden_states[:, 1:, :]) \n",
    "    return output_hidden_states\n",
    "\n",
    "class ParallelLogMinGRU(nn.Module):\n",
    "    def __init__(self, input_size: int, hidden_size: int, expansion_factor: float = 1.0, epsilon: float = 1e-7):\n",
    "        super().__init__()\n",
    "        self.input_size = input_size\n",
    "        self.hidden_size = hidden_size \n",
    "        self.expansion_factor = expansion_factor # GRU 셀 내부의 확장 계수\n",
    "        # GRU 셀 내부에서 사용될 확장된 차원 (hidden_size는 이 셀의 기본 출력 차원을 의미)\n",
    "        self.internal_expanded_dim = int(hidden_size * self.expansion_factor)\n",
    "        self.epsilon = epsilon\n",
    "\n",
    "        # 입력 input_size를 internal_expanded_dim * 2 (은닉 상태 후보용, 게이트용)로 프로젝션\n",
    "        self.to_hidden_and_gate = nn.Linear(input_size, self.internal_expanded_dim * 2)\n",
    "        \n",
    "        # GRU 셀 내부 확장이 있었다면, 다시 hidden_size로 프로젝션\n",
    "        if self.expansion_factor != 1.0:\n",
    "            self.to_out = nn.Linear(self.internal_expanded_dim, hidden_size)\n",
    "        else:\n",
    "            self.to_out = nn.Identity()\n",
    "        self._init_weights()\n",
    "\n",
    "    def _init_weights(self):\n",
    "        for name, param in self.named_parameters():\n",
    "            if 'linear' in name or 'to_hidden_and_gate' in name or 'to_out' in name :\n",
    "                if 'weight' in name:\n",
    "                    nn.init.xavier_uniform_(param)\n",
    "                elif 'bias' in name and param is not None: # bias가 있을 경우에만 초기화\n",
    "                    nn.init.zeros_(param)\n",
    "\n",
    "    def forward(self, x: torch.Tensor) -> torch.Tensor:\n",
    "        # x: [B, L, input_size]\n",
    "        B, L, _ = x.size()\n",
    "        hidden_and_gate = self.to_hidden_and_gate(x) # [B, L, internal_expanded_dim * 2]\n",
    "        h_candidate_input_expanded, logits_z_expanded = hidden_and_gate.chunk(2, dim=-1) # 각각 [B, L, internal_expanded_dim]\n",
    "        \n",
    "        log_A = F.logsigmoid(-logits_z_expanded)\n",
    "        log_Z_expanded = F.logsigmoid(logits_z_expanded)\n",
    "        log_h_candidate_contrib_expanded = log_g(h_candidate_input_expanded)\n",
    "        log_B = log_Z_expanded + log_h_candidate_contrib_expanded\n",
    "\n",
    "        log_h0_val = torch.full((B, 1, self.internal_expanded_dim),\n",
    "                                math.log(self.epsilon),\n",
    "                                device=x.device, dtype=x.dtype)\n",
    "        log_vals = torch.cat([log_h0_val, log_B], dim=1) # [B, L+1, internal_expanded_dim]\n",
    "        h_expanded_scan_out = parallel_scan_log(log_A, log_vals) # [B, L, internal_expanded_dim]\n",
    "        \n",
    "        output = self.to_out(h_expanded_scan_out) # [B, L, hidden_size]\n",
    "        return output\n",
    "\n",
    "class RMSNorm(nn.Module):\n",
    "    def __init__(self, dim: int, eps: float = 1e-8):\n",
    "        super().__init__()\n",
    "        self.eps = eps\n",
    "        self.gamma = nn.Parameter(torch.ones(dim))\n",
    "\n",
    "    def forward(self, x: torch.Tensor) -> torch.Tensor:\n",
    "        variance = x.pow(2).mean(dim=-1, keepdim=True)\n",
    "        return x * torch.rsqrt(variance + self.eps) * self.gamma\n",
    "\n",
    "class CausalDepthWiseConv1d(nn.Module):\n",
    "    def __init__(self, dim: int, kernel_size: int):\n",
    "        super().__init__()\n",
    "        self.kernel_size = kernel_size\n",
    "        self.net = nn.Sequential(\n",
    "            nn.Conv1d(dim, dim, kernel_size=kernel_size, groups=dim), \n",
    "            nn.Conv1d(dim, dim, kernel_size=1)                       \n",
    "        )\n",
    "\n",
    "    def forward(self, x: torch.Tensor) -> torch.Tensor:\n",
    "        x_orig_shape = x.shape\n",
    "        # x.ndim 대신 len(x.shape) 또는 x.dim() 사용\n",
    "        if x.dim() == 2: \n",
    "            x = x.unsqueeze(0) \n",
    "        x_transposed = x.transpose(1, 2) \n",
    "        x_padded = F.pad(x_transposed, (self.kernel_size - 1, 0), value=0.)\n",
    "        x_conv_out = self.net(x_padded)\n",
    "        x_restored = x_conv_out.transpose(1, 2) \n",
    "        # len(x_orig_shape) 사용\n",
    "        if len(x_orig_shape) == 2 and x_restored.shape[0] == 1:\n",
    "            x_restored = x_restored.squeeze(0) \n",
    "        return x_restored\n",
    "\n",
    "class SwiGLUFFN(nn.Module):\n",
    "    def __init__(self, dim: int, expansion_factor: float = 4.0, dropout: float = 0.1):\n",
    "        super().__init__()\n",
    "        ffn_hidden_dim = int(dim * expansion_factor)\n",
    "        \n",
    "        self.w1_w3 = nn.Linear(dim, ffn_hidden_dim * 2, bias=False) \n",
    "        self.w2 = nn.Linear(ffn_hidden_dim, dim, bias=False)       \n",
    "        self.dropout = nn.Dropout(dropout)\n",
    "\n",
    "    def forward(self, x: torch.Tensor) -> torch.Tensor:\n",
    "        x_proj = self.w1_w3(x)\n",
    "        x1, x3_gate = x_proj.chunk(2, dim=-1) \n",
    "        hidden_states = F.silu(x1) * x3_gate\n",
    "        hidden_states = self.dropout(hidden_states) \n",
    "        return self.w2(hidden_states)\n",
    "\n",
    "class minGRUv1(nn.Module):\n",
    "    def __init__(\n",
    "        self,\n",
    "        vocab_size: int,\n",
    "        embedding_dim: int,\n",
    "        hidden_dim: int,\n",
    "        num_layers: int = 2,\n",
    "        dropout: float = 0.1, \n",
    "        expansion_factor_gru: float = 1.0, \n",
    "        epsilon_gru: float = 1e-7,\n",
    "        rms_norm_eps: float = 1e-8,\n",
    "        ffn_expansion_factor: float = 1.0 \n",
    "    ):\n",
    "        super().__init__()\n",
    "        self.embedding = nn.Embedding(vocab_size, embedding_dim)\n",
    "        self.input_projection = nn.Linear(embedding_dim, hidden_dim)\n",
    "        \n",
    "        self.layers = nn.ModuleList()\n",
    "        for _ in range(num_layers):\n",
    "            ffn_layer = SwiGLUFFN(\n",
    "                dim=hidden_dim, \n",
    "                expansion_factor=ffn_expansion_factor, \n",
    "                dropout=dropout \n",
    "            )\n",
    "\n",
    "            self.layers.append(nn.ModuleList([\n",
    "                RMSNorm(hidden_dim, eps=rms_norm_eps),                                                 \n",
    "                ParallelLogMinGRU(\n",
    "                    input_size=hidden_dim, \n",
    "                    hidden_size=hidden_dim, \n",
    "                    expansion_factor=expansion_factor_gru, \n",
    "                    epsilon=epsilon_gru\n",
    "                ),                                                                                     \n",
    "                RMSNorm(hidden_dim, eps=rms_norm_eps),                                                 \n",
    "                ffn_layer,                                                                             \n",
    "                nn.Dropout(dropout) if dropout > 0. else nn.Identity()                                 \n",
    "            ]))\n",
    "\n",
    "        self.final_norm = RMSNorm(hidden_dim, eps=rms_norm_eps) \n",
    "        self.output_fc1 = nn.Linear(hidden_dim, hidden_dim * 4) \n",
    "        self.output_fc2 = nn.Linear(hidden_dim * 4, vocab_size)\n",
    "        self.final_dropout = nn.Dropout(dropout)\n",
    "\n",
    "    def forward(self, x: torch.Tensor) -> tuple[torch.Tensor, None]:\n",
    "        h = self.embedding(x)\n",
    "        h = self.input_projection(h)\n",
    "\n",
    "        for block_idx, block_modules in enumerate(self.layers):\n",
    "            norm_gru_input, gru_cell, norm_ff_input, ffn_module, dropout_block_output = block_modules\n",
    "            \n",
    "            h_gru_residual_source = h\n",
    "            h_normed_for_gru = norm_gru_input(h)\n",
    "            h_gru_out = gru_cell(h_normed_for_gru)\n",
    "            h = h_gru_residual_source + h_gru_out \n",
    "\n",
    "            h_ff_residual_source = h\n",
    "            h_normed_for_ff = norm_ff_input(h)\n",
    "            h_ff_out = ffn_module(h_normed_for_ff) \n",
    "            h = h_ff_residual_source + h_ff_out \n",
    "            \n",
    "            h = dropout_block_output(h)\n",
    "        \n",
    "        h_norm_final = self.final_norm(h)\n",
    "        h_dropped_final = self.final_dropout(h_norm_final) \n",
    "        \n",
    "        output_expanded = F.gelu(self.output_fc1(h_dropped_final)) \n",
    "        logits = self.output_fc2(output_expanded)\n",
    "        \n",
    "        return logits"
   ]
  },
  {
   "cell_type": "code",
   "execution_count": 23,
   "id": "4c86a2d5",
   "metadata": {},
   "outputs": [],
   "source": [
    "### Model Initialization\n",
    "mingru = minGRUv1(vocab_size, EMBEDDING_DIM, int(HIDDEN_DIM*1.38), NUM_LAYERS).to(device)"
   ]
  },
  {
   "cell_type": "code",
   "execution_count": 24,
   "id": "8199acd7",
   "metadata": {},
   "outputs": [
    {
     "data": {
      "text/plain": [
       "==========================================================================================\n",
       "Layer (type:depth-idx)                   Output Shape              Param #\n",
       "==========================================================================================\n",
       "minGRUv1                                 [1024, 128, 65]           --\n",
       "├─Embedding: 1-1                         [1024, 128, 128]          8,320\n",
       "├─Linear: 1-2                            [1024, 128, 176]          22,704\n",
       "├─ModuleList: 1-3                        --                        --\n",
       "│    └─ModuleList: 2-1                   --                        --\n",
       "│    │    └─RMSNorm: 3-1                 [1024, 128, 176]          176\n",
       "│    │    └─ParallelLogMinGRU: 3-2       [1024, 128, 176]          62,304\n",
       "│    │    └─RMSNorm: 3-3                 [1024, 128, 176]          176\n",
       "│    │    └─SwiGLUFFN: 3-4               [1024, 128, 176]          92,928\n",
       "│    │    └─Dropout: 3-5                 [1024, 128, 176]          --\n",
       "│    └─ModuleList: 2-2                   --                        --\n",
       "│    │    └─RMSNorm: 3-6                 [1024, 128, 176]          176\n",
       "│    │    └─ParallelLogMinGRU: 3-7       [1024, 128, 176]          62,304\n",
       "│    │    └─RMSNorm: 3-8                 [1024, 128, 176]          176\n",
       "│    │    └─SwiGLUFFN: 3-9               [1024, 128, 176]          92,928\n",
       "│    │    └─Dropout: 3-10                [1024, 128, 176]          --\n",
       "├─RMSNorm: 1-4                           [1024, 128, 176]          176\n",
       "├─Dropout: 1-5                           [1024, 128, 176]          --\n",
       "├─Linear: 1-6                            [1024, 128, 704]          124,608\n",
       "├─Linear: 1-7                            [1024, 128, 65]           45,825\n",
       "==========================================================================================\n",
       "Total params: 512,801\n",
       "Trainable params: 512,801\n",
       "Non-trainable params: 0\n",
       "Total mult-adds (M): 524.21\n",
       "==========================================================================================\n",
       "Input size (MB): 1.05\n",
       "Forward/backward pass size (MB): 3893.36\n",
       "Params size (MB): 2.05\n",
       "Estimated Total Size (MB): 3896.46\n",
       "=========================================================================================="
      ]
     },
     "execution_count": 24,
     "metadata": {},
     "output_type": "execute_result"
    }
   ],
   "source": [
    "from torchinfo import summary\n",
    "\n",
    "summary(mingru, input_size=(BATCH_SIZE, SEQUENCE_LENGTH), dtypes=[torch.long])"
   ]
  },
  {
   "cell_type": "code",
   "execution_count": 25,
   "id": "9f66c397",
   "metadata": {},
   "outputs": [
    {
     "name": "stderr",
     "output_type": "stream",
     "text": [
      "                                                                                                \r"
     ]
    },
    {
     "name": "stdout",
     "output_type": "stream",
     "text": [
      "Epoch 1/20, Train Loss: 1.7561, Val Loss: 1.8547, Epoch Time: 51.90s Average Vram Usage: 42.33MB\n"
     ]
    },
    {
     "name": "stderr",
     "output_type": "stream",
     "text": [
      "                                                                                                 \r"
     ]
    },
    {
     "name": "stdout",
     "output_type": "stream",
     "text": [
      "Epoch 2/20, Train Loss: 1.5417, Val Loss: 1.7590, Epoch Time: 51.88s Average Vram Usage: 42.33MB\n"
     ]
    },
    {
     "name": "stderr",
     "output_type": "stream",
     "text": [
      "                                                                                                 \r"
     ]
    },
    {
     "name": "stdout",
     "output_type": "stream",
     "text": [
      "Epoch 3/20, Train Loss: 1.4927, Val Loss: 1.7196, Epoch Time: 51.53s Average Vram Usage: 42.33MB\n"
     ]
    },
    {
     "name": "stderr",
     "output_type": "stream",
     "text": [
      "                                                                                                 \r"
     ]
    },
    {
     "name": "stdout",
     "output_type": "stream",
     "text": [
      "Epoch 4/20, Train Loss: 1.4434, Val Loss: 1.7184, Epoch Time: 51.66s Average Vram Usage: 42.33MB\n"
     ]
    },
    {
     "name": "stderr",
     "output_type": "stream",
     "text": [
      "                                                                                                 \r"
     ]
    },
    {
     "name": "stdout",
     "output_type": "stream",
     "text": [
      "Epoch 5/20, Train Loss: 1.4048, Val Loss: 1.7400, Epoch Time: 51.85s Average Vram Usage: 42.33MB\n"
     ]
    },
    {
     "name": "stderr",
     "output_type": "stream",
     "text": [
      "                                                                                                 \r"
     ]
    },
    {
     "name": "stdout",
     "output_type": "stream",
     "text": [
      "Epoch 6/20, Train Loss: 1.3643, Val Loss: 1.7546, Epoch Time: 51.59s Average Vram Usage: 42.33MB\n"
     ]
    },
    {
     "name": "stderr",
     "output_type": "stream",
     "text": [
      "                                                                                                 \r"
     ]
    },
    {
     "name": "stdout",
     "output_type": "stream",
     "text": [
      "Epoch 7/20, Train Loss: 1.3637, Val Loss: 1.7506, Epoch Time: 51.61s Average Vram Usage: 42.33MB\n"
     ]
    },
    {
     "name": "stderr",
     "output_type": "stream",
     "text": [
      "                                                                                                 \r"
     ]
    },
    {
     "name": "stdout",
     "output_type": "stream",
     "text": [
      "Epoch 8/20, Train Loss: 1.3525, Val Loss: 1.7526, Epoch Time: 51.61s Average Vram Usage: 42.33MB\n"
     ]
    },
    {
     "name": "stderr",
     "output_type": "stream",
     "text": [
      "                                                                                                 \r"
     ]
    },
    {
     "name": "stdout",
     "output_type": "stream",
     "text": [
      "Epoch 9/20, Train Loss: 1.3390, Val Loss: 1.7448, Epoch Time: 51.89s Average Vram Usage: 42.33MB\n"
     ]
    },
    {
     "name": "stderr",
     "output_type": "stream",
     "text": [
      "                                                                                                  \r"
     ]
    },
    {
     "name": "stdout",
     "output_type": "stream",
     "text": [
      "Epoch 10/20, Train Loss: 1.3160, Val Loss: 1.7388, Epoch Time: 51.64s Average Vram Usage: 42.33MB\n"
     ]
    },
    {
     "name": "stderr",
     "output_type": "stream",
     "text": [
      "                                                                                                   \r"
     ]
    },
    {
     "name": "stdout",
     "output_type": "stream",
     "text": [
      "Epoch 11/20, Train Loss: 1.3224, Val Loss: 1.7484, Epoch Time: 51.95s Average Vram Usage: 42.33MB\n"
     ]
    },
    {
     "name": "stderr",
     "output_type": "stream",
     "text": [
      "                                                                                                   \r"
     ]
    },
    {
     "name": "stdout",
     "output_type": "stream",
     "text": [
      "Epoch 12/20, Train Loss: 1.3003, Val Loss: 1.7466, Epoch Time: 52.01s Average Vram Usage: 42.33MB\n"
     ]
    },
    {
     "name": "stderr",
     "output_type": "stream",
     "text": [
      "                                                                                                   \r"
     ]
    },
    {
     "name": "stdout",
     "output_type": "stream",
     "text": [
      "Epoch 13/20, Train Loss: 1.2737, Val Loss: 1.7561, Epoch Time: 52.13s Average Vram Usage: 42.33MB\n"
     ]
    },
    {
     "name": "stderr",
     "output_type": "stream",
     "text": [
      "                                                                                                   \r"
     ]
    },
    {
     "name": "stdout",
     "output_type": "stream",
     "text": [
      "Epoch 14/20, Train Loss: 1.2978, Val Loss: 1.7499, Epoch Time: 51.94s Average Vram Usage: 42.33MB\n"
     ]
    },
    {
     "name": "stderr",
     "output_type": "stream",
     "text": [
      "                                                                                                   \r"
     ]
    },
    {
     "name": "stdout",
     "output_type": "stream",
     "text": [
      "Epoch 15/20, Train Loss: 1.2873, Val Loss: 1.7469, Epoch Time: 51.94s Average Vram Usage: 42.33MB\n"
     ]
    },
    {
     "name": "stderr",
     "output_type": "stream",
     "text": [
      "                                                                                                   \r"
     ]
    },
    {
     "name": "stdout",
     "output_type": "stream",
     "text": [
      "Epoch 16/20, Train Loss: 1.2931, Val Loss: 1.7541, Epoch Time: 52.01s Average Vram Usage: 42.33MB\n"
     ]
    },
    {
     "name": "stderr",
     "output_type": "stream",
     "text": [
      "                                                                                                   \r"
     ]
    },
    {
     "name": "stdout",
     "output_type": "stream",
     "text": [
      "Epoch 17/20, Train Loss: 1.2609, Val Loss: 1.7373, Epoch Time: 51.94s Average Vram Usage: 42.33MB\n"
     ]
    },
    {
     "name": "stderr",
     "output_type": "stream",
     "text": [
      "                                                                                                   \r"
     ]
    },
    {
     "name": "stdout",
     "output_type": "stream",
     "text": [
      "Epoch 18/20, Train Loss: 1.2646, Val Loss: 1.7427, Epoch Time: 51.98s Average Vram Usage: 42.33MB\n"
     ]
    },
    {
     "name": "stderr",
     "output_type": "stream",
     "text": [
      "                                                                                                   \r"
     ]
    },
    {
     "name": "stdout",
     "output_type": "stream",
     "text": [
      "Epoch 19/20, Train Loss: 1.2722, Val Loss: 1.7292, Epoch Time: 51.73s Average Vram Usage: 42.33MB\n"
     ]
    },
    {
     "name": "stderr",
     "output_type": "stream",
     "text": [
      "                                                                                                   \r"
     ]
    },
    {
     "name": "stdout",
     "output_type": "stream",
     "text": [
      "Epoch 20/20, Train Loss: 1.2506, Val Loss: 1.7277, Epoch Time: 51.66s Average Vram Usage: 42.33MB\n",
      "Generated text [\n",
      "\n",
      "GREMIO:\n",
      "Good morrow, neighbour Baptista.\n",
      "\n",
      "BAPTISTA:\n",
      "Good morrow, neighbour Gremio.\n",
      "God save you, gentlemen!\n",
      "\n",
      "PETRUCHIO:\n",
      "And yo]:\n",
      "--------------------------------------------------\n",
      "\n",
      "\n",
      "GREMIO:\n",
      "Good morrow, neighbour Baptista.\n",
      "\n",
      "BAPTISTA:\n",
      "Good morrow, neighbour Gremio.\n",
      "God save you, gentlemen!\n",
      "\n",
      "PETRUCHIO:\n",
      "And your life, and you leave me.\n",
      "\n",
      "FROTH:\n",
      "And say you no hour, to see what stars it, he was my eyes?\n",
      "But, Claudio's malice, wilt thou full and forth this sin,\n",
      "And mistress not me by this friends make\n",
      "The father stuned as so here fine your grace:\n",
      "The first purpose.\n",
      "\n",
      "MARIANA:\n",
      "I will be hanged me, my lady's love's soul.\n",
      "In this which is to hear?--Peace, let me follow,\n",
      "Look not make haste but man have leaved us.\n",
      "\n",
      "LEONTES:\n",
      "Yea, unless and I; yet, like a gion buy.\n",
      "\n",
      "VOLUMNIA:\n",
      "O, be peace, good madam, we were \n"
     ]
    },
    {
     "data": {
      "image/png": "[encoded data removed]",
      "text/plain": [
       "<Figure size 1000x500 with 1 Axes>"
      ]
     },
     "metadata": {},
     "output_type": "display_data"
    },
    {
     "data": {
      "image/png": "[encoded data removed]",
      "text/plain": [
       "<Figure size 2000x500 with 2 Axes>"
      ]
     },
     "metadata": {},
     "output_type": "display_data"
    }
   ],
   "source": [
    "train_and_test(\"minGRU\", mingru, start_text)"
   ]
  },
  {
   "cell_type": "markdown",
   "id": "286b893d",
   "metadata": {},
   "source": [
    "## minGRU V3: Hybrid Structure"
   ]
  },
  {
   "cell_type": "code",
   "execution_count": 26,
   "id": "4c581695",
   "metadata": {},
   "outputs": [],
   "source": [
    "import torch\n",
    "import torch.nn as nn\n",
    "import torch.nn.functional as F\n",
    "from typing import List, Tuple, Optional, Union\n",
    "from torch.nn import RMSNorm # 사용자의 환경에 RMSNorm이 torch.nn에 있다고 가정합니다.\n",
    "\n",
    "class CausalDepthWiseConv1d(nn.Module):\n",
    "    \"\"\"\n",
    "    인과적(Causal) 1D 깊이별 분리형 컨볼루션(Depth-wise Separable Convolution) 모듈.\n",
    "    깊이별 컨볼루션과 점별 컨볼루션을 순차적으로 적용합니다.\n",
    "    인과성을 유지하기 위해 시퀀스의 왼쪽에 패딩을 추가하여,\n",
    "    시간 t의 출력은 시간 t까지의 입력에만 의존하도록 합니다.\n",
    "    \"\"\"\n",
    "    def __init__(self, dimension: int, kernel_size: int):\n",
    "        \"\"\"\n",
    "        Args:\n",
    "            dimension (int): 입력 및 출력 채널의 수.\n",
    "            kernel_size (int): 컨볼루션 커널의 크기.\n",
    "        \"\"\"\n",
    "        super().__init__()\n",
    "        self.kernel_size = kernel_size\n",
    "        # 인과적 패딩 계산: (커널 크기 - 1) 만큼 왼쪽에, 0만큼 오른쪽에 패딩.\n",
    "        self.causal_padding = (self.kernel_size - 1, 0)\n",
    "\n",
    "        self.depthwise_pointwise_conv = nn.Sequential(\n",
    "            # 깊이별 컨볼루션: 각 입력 채널에 대해 독립적인 필터를 적용.\n",
    "            nn.Conv1d(dimension, dimension, kernel_size=kernel_size, groups=dimension),\n",
    "            # 점별 컨볼루션: 채널 정보를 혼합하기 위한 1x1 컨볼루션.\n",
    "            nn.Conv1d(dimension, dimension, kernel_size=1)\n",
    "        )\n",
    "\n",
    "    def forward(self, x: torch.Tensor) -> torch.Tensor:\n",
    "        \"\"\"\n",
    "        Args:\n",
    "            x (torch.Tensor): 입력 텐서. 형태: (배치 크기, 시퀀스 길이, 채널 수).\n",
    "        Returns:\n",
    "            torch.Tensor: 출력 텐서. 형태: (배치 크기, 시퀀스 길이, 채널 수).\n",
    "        \"\"\"\n",
    "        # Conv1D를 위해 (배치 크기, 채널 수, 시퀀스 길이) 형태로 변경.\n",
    "        x_transposed = x.transpose(1, 2)\n",
    "        # 시퀀스 왼쪽에 인과적 패딩 적용.\n",
    "        x_padded = F.pad(x_transposed, self.causal_padding)\n",
    "        # 깊이별-점별 컨볼루션 적용.\n",
    "        x_conv_out = self.depthwise_pointwise_conv(x_padded)\n",
    "        # 다시 (배치 크기, 시퀀스 길이, 채널 수) 형태로 변경.\n",
    "        return x_conv_out.transpose(1, 2)\n",
    "\n",
    "\n",
    "class MinGRUCoreOps:\n",
    "    \"\"\"\n",
    "    MinGRU의 핵심 수학적 연산을 위한 정적 메소드들을 포함하는 클래스.\n",
    "    MinGRU의 수학적 공식에 기반한 함수들이며, 사용자 정의 활성화 함수 및\n",
    "    순환적 업데이트를 위한 병렬 스캔 연산 등을 포함합니다.\n",
    "    \n",
    "    \"\"\"\n",
    "\n",
    "    @staticmethod\n",
    "    def g_activation(x: torch.Tensor) -> torch.Tensor:\n",
    "        \"\"\"\n",
    "        MinGRU를 위한 사용자 정의 활성화 함수 'g'.\n",
    "        g(x) = x + 0.5  (x >= 0 인 경우)\n",
    "        g(x) = sigmoid(x) (x < 0 인 경우)\n",
    "        \"\"\"\n",
    "        output = torch.empty_like(x)\n",
    "        positive_mask = x >= 0\n",
    "        # 양수 또는 0인 경우\n",
    "        output[positive_mask] = x[positive_mask] + torch.tensor(0.5, dtype=x.dtype, device=x.device)\n",
    "        # 음수인 경우\n",
    "        output[~positive_mask] = torch.sigmoid(x[~positive_mask])\n",
    "        return output\n",
    "\n",
    "    @staticmethod\n",
    "    def log_g_activation(x: torch.Tensor) -> torch.Tensor:\n",
    "        \"\"\"\n",
    "        사용자 정의 활성화 함수 'g'의 로그(logarithm) 값.\n",
    "        log_g(x) = log(x + 0.5) (x >= 0 인 경우)\n",
    "        log_g(x) = log(sigmoid(x)) = -softplus(-x) (x < 0 인 경우)\n",
    "        수치적 안정성을 위해 사용됩니다.\n",
    "        \"\"\"\n",
    "        output = torch.empty_like(x)\n",
    "        positive_mask = x >= 0\n",
    "        # 양수 또는 0인 경우\n",
    "        output[positive_mask] = (x[positive_mask] + torch.tensor(0.5, dtype=x.dtype, device=x.device)).log().to(x.dtype)\n",
    "        # 음수인 경우 (log(sigmoid(x)) = -softplus(-x))\n",
    "        output[~positive_mask] = (-F.softplus(-x[~positive_mask])).to(x.dtype)\n",
    "        return output\n",
    "\n",
    "    @staticmethod\n",
    "    def _log_space_parallel_scan(log_a_terms: torch.Tensor, log_b_terms: torch.Tensor) -> torch.Tensor:\n",
    "        \"\"\"\n",
    "        로그 공간에서의 병렬 스캔(누적) 연산.\n",
    "        MinGRU의 순환 관계를 병렬적으로 계산하기 위해 사용됩니다.\n",
    "        x_t = a_t * x_{t-1} + b_t  형태의 연산을 로그 공간에서 수행합니다.\n",
    "        (원문: _parallel_scan_log)\n",
    "\n",
    "        Args:\n",
    "            log_a_terms (torch.Tensor): 로그 스케일의 'a' 항들. (log(a_t))\n",
    "            log_b_terms (torch.Tensor): 로그 스케일의 'b' 항들. (log(b_t))\n",
    "                                      첫 번째 요소는 log(x_0) * a_0 (초기 상태 관련 항)을 포함할 수 있음.\n",
    "        Returns:\n",
    "            torch.Tensor: 병렬 스캔 결과의 지수 값 (원래 스케일). (exp(log_x_t))\n",
    "        \"\"\"\n",
    "        # log_a_terms의 누적 합을 계산 (alpha_star). 시퀀스 차원(dim=1)을 따라 누적.\n",
    "        # 패딩은 초기 조건(x_0)을 처리하기 위함.\n",
    "        padding_dims = [0] * (log_a_terms.ndim - 2) * 2 + [1, 0] # (..., 1, 0) sequence dimension padding\n",
    "        alpha_star = F.pad(torch.cumsum(log_a_terms, dim=1), padding_dims)\n",
    "\n",
    "        # log_b_terms - alpha_star 항에 대해 로그-합-지수(logsumexp) 누적을 수행.\n",
    "        # 이는 x_0 항과 b_t / (a_1*...*a_t) 항들의 누적 합을 로그 공간에서 계산하는 것과 유사.\n",
    "        x0_plus_b_star_contribution = torch.logcumsumexp(log_b_terms - alpha_star, dim=1)\n",
    "\n",
    "        # 최종 로그 스케일 결과: alpha_star + x0_plus_b_star_contribution\n",
    "        log_x_sequence = alpha_star + x0_plus_b_star_contribution\n",
    "        return torch.exp(log_x_sequence)\n",
    "\n",
    "    @staticmethod\n",
    "    def _mingru_recurrent_update_log_space(log_previous_hidden_state: torch.Tensor,\n",
    "                                           gate_z: torch.Tensor,\n",
    "                                           candidate_hidden: torch.Tensor) -> torch.Tensor:\n",
    "        \"\"\"\n",
    "        MinGRU의 순환 업데이트를 로그 공간에서 병렬적으로 수행.\n",
    "        h_t = (1-z_t)*h_{t-1} + z_t*h_tilde_t\n",
    "        (원문: _mingru_parallel)\n",
    "\n",
    "        Args:\n",
    "            log_previous_hidden_state (torch.Tensor): 이전 은닉 상태의 로그 값 (log(h_{t-1})).\n",
    "                                                     형태: (배치, 1, 은닉 차원) - 시퀀스의 첫 번째 요소에 해당.\n",
    "            gate_z (torch.Tensor): 게이트 z_t 값. 형태: (배치, 시퀀스 길이, 은닉 차원).\n",
    "            candidate_hidden (torch.Tensor): 후보 은닉 상태 h_tilde_t 값. 형태: (배치, 시퀀스 길이, 은닉 차원).\n",
    "\n",
    "        Returns:\n",
    "            torch.Tensor: 계산된 은닉 상태 시퀀스 h_t. 형태: (배치, 시퀀스 길이, 은닉 차원).\n",
    "        \"\"\"\n",
    "        # log(z_t) = -softplus(-gate_z)  (log(sigmoid(gate_z)))\n",
    "        log_z = -F.softplus(-gate_z)\n",
    "        # log(1-z_t) = -softplus(gate_z) (log(sigmoid(-gate_z)))\n",
    "        log_one_minus_z = -F.softplus(gate_z)\n",
    "\n",
    "        # log(h_tilde_t) 계산\n",
    "        log_candidate_hidden = MinGRUCoreOps.log_g_activation(candidate_hidden)\n",
    "\n",
    "        # 병렬 스캔을 위한 log_b 항 구성:\n",
    "        # 첫 번째 항은 log(h_prev) (실제로는 log(h_0) * (1-z_0)에 대응하는 항으로 변환됨)\n",
    "        # 나머지 항은 log(z_t) + log(h_tilde_t)\n",
    "        # log_previous_hidden_state는 (B, 1, H) 이므로, dim=1로 concat\n",
    "        log_b_for_scan = torch.cat((log_previous_hidden_state, log_z + log_candidate_hidden), dim=1)\n",
    "\n",
    "        # log_a 항은 log(1-z_t)\n",
    "        # 병렬 스캔 실행\n",
    "        # h_sequence_plus_initial 결과는 h_0, h_1, ..., h_T-1 을 포함\n",
    "        h_sequence_plus_initial = MinGRUCoreOps._log_space_parallel_scan(log_one_minus_z, log_b_for_scan)\n",
    "\n",
    "        # 초기 상태 h_0를 제외한 h_1, ..., h_T-1 시퀀스 반환\n",
    "        return h_sequence_plus_initial[:, 1:]\n",
    "\n",
    "    @staticmethod\n",
    "    def calculate_output_sequence(gate_z: torch.Tensor,\n",
    "                                  candidate_hidden: torch.Tensor,\n",
    "                                  initial_hidden_state: torch.Tensor) -> torch.Tensor:\n",
    "        \"\"\"\n",
    "        주어진 게이트, 후보 은닉 상태, 초기 은닉 상태를 사용하여 MinGRU의 출력 시퀀스를 계산.\n",
    "        (원문: mingru_gate_hidden)\n",
    "\n",
    "        Args:\n",
    "            gate_z (torch.Tensor): 게이트 z_t 값.\n",
    "            candidate_hidden (torch.Tensor): 후보 은닉 상태 h_tilde_t 값.\n",
    "            initial_hidden_state (torch.Tensor): 초기 은닉 상태 h_0 값.\n",
    "\n",
    "        Returns:\n",
    "            torch.Tensor: 계산된 은닉 상태 시퀀스.\n",
    "        \"\"\"\n",
    "        # 수치적 안정성을 위해 작은 epsilon 값을 더한 후 로그 변환.\n",
    "        epsilon = torch.tensor(1e-12, dtype=initial_hidden_state.dtype, device=initial_hidden_state.device)\n",
    "        log_initial_hidden_state = (initial_hidden_state + epsilon).log()\n",
    "\n",
    "        return MinGRUCoreOps._mingru_recurrent_update_log_space(log_initial_hidden_state, gate_z, candidate_hidden)\n",
    "\n",
    "\n",
    "class MinGRU(nn.Module):\n",
    "    \"\"\"\n",
    "    MinGRU (Minimal Gated Recurrent Unit) 모델.\n",
    "    여러 MinGRU 레이어를 쌓아 구성할 수 있습니다.\n",
    "    \"\"\"\n",
    "    # 타입 힌트 (JIT 호환성을 위해 Final 제거)\n",
    "    layer_dims: Tuple[int, ...]\n",
    "    num_internal_layers: int\n",
    "\n",
    "    def __init__(\n",
    "        self,\n",
    "        input_dim: int,\n",
    "        hidden_dims_list: List[int],\n",
    "        use_bias: bool = True,\n",
    "        apply_layer_norm: bool = True,\n",
    "        dropout_probability: float = 0.1,\n",
    "        use_residual: bool = True,\n",
    "    ):\n",
    "        \"\"\"\n",
    "        Args:\n",
    "            input_dim (int): 입력 특징의 차원.\n",
    "            hidden_dims_list (List[int]): 각 MinGRU 레이어의 은닉 차원 리스트.\n",
    "            use_bias (bool): 선형 계층에서 편향을 사용할지 여부.\n",
    "            apply_layer_norm (bool): 각 레이어 내부에 LayerNorm을 적용할지 여부.\n",
    "            dropout_probability (float): 드롭아웃 확률. 0이면 드롭아웃을 적용하지 않음.\n",
    "            use_residual (bool): 잔차 연결(residual connection)을 사용할지 여부.\n",
    "        \"\"\"\n",
    "        super().__init__()\n",
    "        self.layer_dims = tuple([input_dim] + hidden_dims_list) # 입력 차원 + 각 레이어 은닉 차원\n",
    "        self.num_internal_layers = len(hidden_dims_list) # MinGRU 레이어의 수\n",
    "        self.dropout_probability = dropout_probability\n",
    "        self.use_residual = use_residual\n",
    "        self.apply_internal_norm = apply_layer_norm\n",
    "\n",
    "        torch_layers_list = [] # nn.ModuleList로 관리될 레이어 모듈들\n",
    "        # 각 레이어의 입력 차원과 출력 차원을 순회\n",
    "        layer_dim_pairs = zip(self.layer_dims[:-1], self.layer_dims[1:])\n",
    "\n",
    "        for layer_idx, (current_input_dim, current_output_dim) in enumerate(layer_dim_pairs):\n",
    "            layer_modules_dict = {} # nn.ModuleDict로 관리될 특정 레이어의 모듈들\n",
    "\n",
    "            if self.apply_internal_norm:\n",
    "                layer_modules_dict[\"norm\"] = torch.nn.LayerNorm(current_input_dim)\n",
    "            else:\n",
    "                layer_modules_dict[\"norm\"] = torch.nn.Identity()\n",
    "\n",
    "            # 게이트(z_t)와 후보 은닉 상태(h_tilde_t)를 계산하기 위한 선형 계층\n",
    "            layer_modules_dict[\"gate_and_candidate_proj\"] = torch.nn.Linear(current_input_dim, current_output_dim * 2, bias=use_bias)\n",
    "\n",
    "            # 잔차 연결을 위한 차원 정렬용 선형 계층 (입력과 출력 차원이 다를 경우)\n",
    "            if use_residual and current_input_dim != current_output_dim:\n",
    "                layer_modules_dict[\"residual_align_proj\"] = torch.nn.Linear(current_input_dim, current_output_dim, bias=False)\n",
    "            else:\n",
    "                layer_modules_dict[\"residual_align_proj\"] = torch.nn.Identity()\n",
    "\n",
    "            # 드롭아웃 (마지막 레이어 제외)\n",
    "            if self.dropout_probability > 0.0 and layer_idx < (self.num_internal_layers - 1):\n",
    "                layer_modules_dict[\"dropout\"] = torch.nn.Dropout(p=self.dropout_probability)\n",
    "            else:\n",
    "                layer_modules_dict[\"dropout\"] = torch.nn.Identity()\n",
    "\n",
    "            torch_layers_list.append(torch.nn.ModuleDict(layer_modules_dict))\n",
    "\n",
    "        self.layers = torch.nn.ModuleList(torch_layers_list)\n",
    "        self.apply(self._init_weights)  # 가중치 초기화\n",
    "        \n",
    "    def _init_weights(self, module: nn.Module):\n",
    "        # 선형 레이어 가중치 초기화 (게이트 편향 특수 처리 포함)\n",
    "        for i in range(self.num_internal_layers):\n",
    "            layer_components = self.layers[i]\n",
    "            output_dim = self.layer_dims[i+1]\n",
    "            # 1. 잔차 연결 프로젝션 레이어 초기화 (일반)\n",
    "            if isinstance(layer_components[\"residual_align_proj\"], nn.Linear):\n",
    "                nn.init.normal_(layer_components[\"residual_align_proj\"].weight, mean=0.0, std=0.02)\n",
    "            \n",
    "            # 2. 게이트 및 후보 은닉 상태 프로젝션 레이어 특별 초기화\n",
    "            gate_hidden_proj_layer = layer_components[\"gate_and_candidate_proj\"]\n",
    "            \n",
    "            # 가중치는 표준 정규분포로 초기화\n",
    "            nn.init.normal_(gate_hidden_proj_layer.weight, mean=0.0, std=0.02)\n",
    "\n",
    "            # 편향(bias)은 특별하게 초기화\n",
    "            if gate_hidden_proj_layer.bias is not None:\n",
    "                # 편향 텐서는 (output_dim * 2) 크기\n",
    "                # 앞 절반은 게이트 로짓(gate_logits)용, 뒤 절반은 후보 은닉 상태(candidate_hidden_inputs)용\n",
    "                \n",
    "                # 게이트 로짓의 편향을 음수 값으로 초기화 (예: -1.0)\n",
    "                # sigmoid(음수)는 0에 가까워져, z_t가 작아짐\n",
    "                # h_t = (1-z_t)*h_{t-1} + z_t*h_tilde_t 에서 (1-z_t)가 커지므로\n",
    "                # 학습 초기에 이전 은닉 상태 h_{t-1}를 더 많이 유지하도록 유도하여 안정적인 학습에 도움을 줍니다.\n",
    "                nn.init.constant_(gate_hidden_proj_layer.bias[:output_dim], -1.0)\n",
    "                \n",
    "                # 후보 은닉 상태의 편향은 0으로 초기화\n",
    "                nn.init.zeros_(gate_hidden_proj_layer.bias[output_dim:])\n",
    "            \n",
    "\n",
    "    def init_hidden_states(self, input_tensor: torch.Tensor) -> List[torch.Tensor]:\n",
    "        \"\"\"\n",
    "        각 MinGRU 레이어의 초기 은닉 상태를 생성합니다.\n",
    "        MinGRU의 g 활성화 함수를 사용하여 0으로 초기화된 텐서를 변환합니다.\n",
    "\n",
    "        Args:\n",
    "            input_tensor (torch.Tensor): 입력 텐서. 배치 크기, 자료형, 장치 정보를 얻기 위해 사용.\n",
    "                                         형태: (배치 크기, 시퀀스 길이, 입력 차원).\n",
    "        Returns:\n",
    "            List[torch.Tensor]: 각 레이어의 초기 은닉 상태 리스트.\n",
    "                                각 텐서의 형태: (배치 크기, 1, 해당 레이어의 은닉 차원).\n",
    "        \"\"\"\n",
    "        batch_size = input_tensor.shape[0]\n",
    "        initial_states = []\n",
    "        for hidden_dim in self.layer_dims[1:]: # 각 레이어의 출력(은닉) 차원에 대해\n",
    "            # (배치 크기, 1, 은닉 차원) 형태의 0 텐서 생성 후 g_activation 적용\n",
    "            zeros = input_tensor.new_zeros(batch_size, 1, hidden_dim, dtype=input_tensor.dtype)\n",
    "            initial_states.append(MinGRUCoreOps.g_activation(zeros))\n",
    "        return initial_states\n",
    "\n",
    "    def forward(\n",
    "        self,\n",
    "        input_sequence: torch.Tensor,\n",
    "        initial_hidden_states_list: Optional[List[torch.Tensor]] = None,\n",
    "    ) -> Tuple[torch.Tensor, List[torch.Tensor]]:\n",
    "        \"\"\"\n",
    "        MinGRU 모델의 순방향 전파를 수행합니다.\n",
    "\n",
    "        Args:\n",
    "            input_sequence (torch.Tensor): 입력 시퀀스. 형태: (배치 크기, 시퀀스 길이, 입력 차원).\n",
    "            initial_hidden_states_list (Optional[List[torch.Tensor]]):\n",
    "                제공될 경우 사용할 초기 은닉 상태 리스트.\n",
    "                None이면 내부적으로 init_hidden_states를 호출하여 생성.\n",
    "\n",
    "        Returns:\n",
    "            Tuple[torch.Tensor, List[torch.Tensor]]:\n",
    "                - 최종 레이어의 출력 시퀀스. 형태: (배치 크기, 시퀀스 길이, 마지막 레이어의 은닉 차원).\n",
    "                - 각 레이어의 다음 시퀀스를 위한 마지막 은닉 상태 리스트.\n",
    "                  각 텐서의 형태: (배치 크기, 1, 해당 레이어의 은닉 차원).\n",
    "        \"\"\"\n",
    "        if initial_hidden_states_list is None:\n",
    "            hidden_states_for_layers = self.init_hidden_states(input_sequence)\n",
    "        else:\n",
    "            hidden_states_for_layers = initial_hidden_states_list\n",
    "\n",
    "        current_layer_input_sequence = input_sequence\n",
    "        next_step_hidden_states_list: List[torch.Tensor] = []\n",
    "\n",
    "        for layer_idx in range(self.num_internal_layers):\n",
    "            layer_module_components = self.layers[layer_idx]\n",
    "\n",
    "            normalized_sequence = layer_module_components[\"norm\"](current_layer_input_sequence)\n",
    "            # 게이트와 후보 은닉 상태를 한 번에 계산 후 분리\n",
    "            gate_values, candidate_hidden_states = layer_module_components[\"gate_and_candidate_proj\"](normalized_sequence).chunk(2, dim=2)\n",
    "\n",
    "            # 현재 레이어의 초기(또는 이전 스텝의) 은닉 상태\n",
    "            previous_hidden_state_for_this_layer: torch.Tensor = hidden_states_for_layers[layer_idx]\n",
    "\n",
    "            # MinGRU 순환 연산\n",
    "            output_sequence_current_layer = MinGRUCoreOps.calculate_output_sequence(\n",
    "                gate_values, candidate_hidden_states, previous_hidden_state_for_this_layer\n",
    "            )\n",
    "            # 다음 스텝(또는 다음 시퀀스)을 위한 마지막 은닉 상태 저장\n",
    "            next_step_hidden_states_list.append(output_sequence_current_layer[:, -1:])\n",
    "\n",
    "            if self.use_residual:\n",
    "                residual_input = layer_module_components[\"residual_align_proj\"](current_layer_input_sequence)\n",
    "                output_sequence_current_layer = output_sequence_current_layer + residual_input\n",
    "\n",
    "            current_layer_input_sequence = layer_module_components[\"dropout\"](output_sequence_current_layer)\n",
    "\n",
    "        return current_layer_input_sequence, next_step_hidden_states_list\n",
    "\n",
    "\n",
    "class SwiGLUFFN(nn.Module):\n",
    "    \"\"\"\n",
    "    SwiGLU 활성화 함수를 사용하는 FFN (FeedForward Network) 모듈.\n",
    "    일반적으로 트랜스포머 모델에서 사용됩니다.\n",
    "    \"\"\"\n",
    "    def __init__(self, dimension: int, expansion_factor: float = 2.0, dropout: float = 0.1):\n",
    "        \"\"\"\n",
    "        Args:\n",
    "            dimension (int): 입력 및 출력 차원.\n",
    "            expansion_factor (float): 내부 은닉 차원을 결정하기 위한 확장 비율.\n",
    "                                      실제 은닉 차원은 dimension * expansion_factor * (2/3) 근사.\n",
    "            dropout (float): 드롭아웃 확률.\n",
    "        \"\"\"\n",
    "        super().__init__()\n",
    "        # 내부 은닉 차원 계산 (일반적으로 2/3는 GLU 계열에서 사용됨)\n",
    "        # 또한, 보통 하드웨어 가속을 위해 8의 배수로 맞춤.\n",
    "        hidden_dimension = int(dimension * expansion_factor * (2/3))\n",
    "        hidden_dimension = (hidden_dimension + 7) // 8 * 8 # 8의 배수로 올림\n",
    "\n",
    "        self.gate_proj = nn.Linear(dimension, hidden_dimension, bias=False) # W_gate\n",
    "        self.up_proj = nn.Linear(dimension, hidden_dimension, bias=False)   # W_up\n",
    "        self.down_proj = nn.Linear(hidden_dimension, dimension, bias=False) # W_down\n",
    "        self.dropout_layer = nn.Dropout(dropout)\n",
    "        self.activation_fn = nn.SiLU() # Swish 또는 Sigmoid Linear Unit\n",
    "\n",
    "    def forward(self, x: torch.Tensor) -> torch.Tensor:\n",
    "        \"\"\"\n",
    "        SwiGLU FFN의 순방향 전파.\n",
    "        Output = Dropout(W_down(SiLU(W_gate(x)) * W_up(x)))\n",
    "        \"\"\"\n",
    "        gated_x = self.activation_fn(self.gate_proj(x))\n",
    "        activated_x = gated_x * self.up_proj(x)\n",
    "        return self.dropout_layer(self.down_proj(activated_x))\n",
    "\n",
    "class minGRUv3(nn.Module):\n",
    "    \"\"\"\n",
    "    MinGRU를 핵심 순환 블록으로 사용하는 전체 언어 모델 아키텍처 (버전 3).\n",
    "    임베딩, 선택적 컨볼루션, MinGRU 스택, FFN, 최종 정규화 및 출력 프로젝션을 포함합니다.\n",
    "    \"\"\"\n",
    "    def __init__(\n",
    "        self,\n",
    "        vocab_size: int,\n",
    "        embedding_dim: int,\n",
    "        mingru_hidden_dims_config: Union[int, List[int]], # MinGRU 레이어들의 은닉 차원 설정\n",
    "        num_mingru_layers: Optional[int] = None, # hidden_dims_config가 int일 경우 레이어 수\n",
    "        dropout_rate: float = 0.1,\n",
    "        rms_norm_epsilon: float = 1e-8,\n",
    "        use_convolution_block: bool = True,\n",
    "        conv_kernel_size: int = 3,\n",
    "        ffn_expansion_factor: float = 1.0 # SwiGLUFFN의 확장 비율\n",
    "    ):\n",
    "        super().__init__()\n",
    "\n",
    "        # MinGRU 내부 레이어들의 은닉 차원 리스트 결정\n",
    "        if isinstance(mingru_hidden_dims_config, int):\n",
    "            if num_mingru_layers is None or num_mingru_layers < 1:\n",
    "                raise ValueError(\"`num_mingru_layers`는 `mingru_hidden_dims_config`가 정수일 때 양의 정수여야 합니다.\")\n",
    "            actual_mingru_hidden_dims = [mingru_hidden_dims_config] * num_mingru_layers\n",
    "        elif isinstance(mingru_hidden_dims_config, list):\n",
    "            if not mingru_hidden_dims_config:\n",
    "                raise ValueError(\"`mingru_hidden_dims_config` 리스트는 비어있을 수 없습니다.\")\n",
    "            actual_mingru_hidden_dims = mingru_hidden_dims_config\n",
    "        else:\n",
    "            raise TypeError(\"`mingru_hidden_dims_config`는 정수 또는 정수 리스트여야 합니다.\")\n",
    "\n",
    "        # MinGRU 모듈의 입력 및 출력 차원\n",
    "        first_mingru_layer_dim = actual_mingru_hidden_dims[0]\n",
    "        last_mingru_layer_dim = actual_mingru_hidden_dims[-1]\n",
    "\n",
    "        self.token_embedding = nn.Embedding(vocab_size, embedding_dim)\n",
    "\n",
    "        # 임베딩 차원을 첫 번째 MinGRU 레이어의 입력 차원으로 프로젝션\n",
    "        if embedding_dim != first_mingru_layer_dim:\n",
    "            self.embedding_to_mingru_projection = nn.Linear(embedding_dim, first_mingru_layer_dim)\n",
    "        else:\n",
    "            self.embedding_to_mingru_projection = nn.Identity()\n",
    "\n",
    "        # 선택적 인과적 깊이별 컨볼루션 블록\n",
    "        if use_convolution_block:\n",
    "            self.causal_conv_block = CausalDepthWiseConv1d(first_mingru_layer_dim, conv_kernel_size)\n",
    "        else:\n",
    "            self.causal_conv_block = nn.Identity()\n",
    "\n",
    "        # MinGRU 전 정규화\n",
    "        self.norm_before_mingru = RMSNorm(first_mingru_layer_dim, eps=rms_norm_epsilon)\n",
    "\n",
    "        self.mingru_stack = MinGRU(\n",
    "            input_dim=first_mingru_layer_dim,\n",
    "            hidden_dims_list=actual_mingru_hidden_dims,\n",
    "            apply_layer_norm=True, # MinGRU 내부 LayerNorm 사용\n",
    "            dropout_probability=dropout_rate,\n",
    "            use_residual=True      # MinGRU 내부 잔차 연결 사용\n",
    "        )\n",
    "\n",
    "        # MinGRU 블록의 입력과 출력 차원이 다를 경우 잔차 연결을 위한 프로젝션\n",
    "        if first_mingru_layer_dim != last_mingru_layer_dim:\n",
    "            self.mingru_residual_projection = nn.Linear(first_mingru_layer_dim, last_mingru_layer_dim)\n",
    "        else:\n",
    "            self.mingru_residual_projection = nn.Identity()\n",
    "\n",
    "        # MinGRU 후, FFN 전 정규화\n",
    "        self.norm_after_mingru_before_ffn = RMSNorm(last_mingru_layer_dim, eps=rms_norm_epsilon)\n",
    "        self.ffn_block = SwiGLUFFN(\n",
    "            dimension=last_mingru_layer_dim,\n",
    "            expansion_factor=ffn_expansion_factor,\n",
    "            dropout=dropout_rate\n",
    "        )\n",
    "\n",
    "        # 최종 정규화 및 로짓 프로젝션\n",
    "        self.final_output_norm = RMSNorm(last_mingru_layer_dim, eps=rms_norm_epsilon)\n",
    "        self.to_logits_projection = nn.Linear(last_mingru_layer_dim, vocab_size)\n",
    "        \n",
    "        self.apply(self._init_weights)\n",
    "\n",
    "    def _init_weights(self, module: nn.Module): # module 인자를 명시적으로 타입 힌트\n",
    "        \"\"\"\n",
    "        모델 내 각 모듈의 가중치를 초기화합니다.\n",
    "        self.apply() 메소드에 의해 호출됩니다.\n",
    "        \"\"\"\n",
    "        if isinstance(module, nn.Linear):\n",
    "            nn.init.normal_(module.weight, mean=0.0, std=0.02)\n",
    "            if module.bias is not None:\n",
    "                nn.init.zeros_(module.bias)\n",
    "        elif isinstance(module, nn.Embedding):\n",
    "            nn.init.normal_(module.weight, mean=0.0, std=0.02) \n",
    "        elif isinstance(module, nn.Conv1d):\n",
    "            nn.init.kaiming_normal_(module.weight, mode='fan_in', nonlinearity='leaky_relu') # mode='fan_in'이 일반적\n",
    "            if module.bias is not None:\n",
    "                nn.init.zeros_(module.bias)\n",
    "        elif isinstance(module, RMSNorm):\n",
    "            if hasattr(module, 'weight') and module.weight is not None: # RMSNorm에 weight가 있을 경우\n",
    "                nn.init.ones_(module.weight)\n",
    "        elif isinstance(module, nn.LayerNorm): # MinGRU 내부의 LayerNorm 처리\n",
    "            if hasattr(module, 'weight') and module.weight is not None:\n",
    "                nn.init.ones_(module.weight)\n",
    "            if hasattr(module, 'bias') and module.bias is not None:\n",
    "                nn.init.zeros_(module.bias)\n",
    "\n",
    "    def forward(self, input_ids: torch.Tensor) -> torch.Tensor: # 반환 타입에서 None 제거, 일반적으로 로짓만 반환\n",
    "        \"\"\"\n",
    "        minGRUv3 모델의 순방향 전파.\n",
    "\n",
    "        Args:\n",
    "            input_ids (torch.Tensor): 입력 토큰 ID 시퀀스. 형태: (배치 크기, 시퀀스 길이).\n",
    "\n",
    "        Returns:\n",
    "            torch.Tensor: 최종 로짓. 형태: (배치 크기, 시퀀스 길이, 어휘 크기).\n",
    "        \"\"\"\n",
    "        # 1. 임베딩 및 초기 프로젝션\n",
    "        current_hidden_repr = self.token_embedding(input_ids)\n",
    "        current_hidden_repr = self.embedding_to_mingru_projection(current_hidden_repr)\n",
    "\n",
    "        # 2. (선택적) 컨볼루션 블록 + 잔차 연결\n",
    "        residual_conv_input = current_hidden_repr\n",
    "        if not isinstance(self.causal_conv_block, nn.Identity):\n",
    "            # 컨볼루션 블록이 Identity가 아닐 때만 연산 (즉, use_convolution_block=True 일 때)\n",
    "            current_hidden_repr = residual_conv_input + self.causal_conv_block(residual_conv_input)\n",
    "        # else: current_hidden_repr은 residual_conv_input과 동일하게 유지됨\n",
    "\n",
    "        # 3. MinGRU 블록 + 잔차 연결\n",
    "        residual_mingru_input = current_hidden_repr\n",
    "        mingru_input_normalized = self.norm_before_mingru(residual_mingru_input)\n",
    "        mingru_output_sequence, _ = self.mingru_stack(mingru_input_normalized) # 다음 은닉 상태는 사용 안함\n",
    "        current_hidden_repr = self.mingru_residual_projection(residual_mingru_input) + mingru_output_sequence\n",
    "\n",
    "        # 4. FFN 블록 + 잔차 연결\n",
    "        residual_ffn_input = current_hidden_repr\n",
    "        ffn_input_normalized = self.norm_after_mingru_before_ffn(residual_ffn_input)\n",
    "        current_hidden_repr = residual_ffn_input + self.ffn_block(ffn_input_normalized)\n",
    "\n",
    "        # 5. 최종 정규화 및 로짓 계산\n",
    "        final_representation_normalized = self.final_output_norm(current_hidden_repr)\n",
    "        logits = self.to_logits_projection(final_representation_normalized)\n",
    "\n",
    "        return logits"
   ]
  },
  {
   "cell_type": "code",
   "execution_count": 27,
   "id": "7c7b9643",
   "metadata": {},
   "outputs": [],
   "source": [
    "### Model Initialization\n",
    "mingru3 = minGRUv3(vocab_size, EMBEDDING_DIM, HIDDEN_DIM*2, NUM_LAYERS).to(device)"
   ]
  },
  {
   "cell_type": "code",
   "execution_count": 28,
   "id": "e7042082",
   "metadata": {},
   "outputs": [
    {
     "data": {
      "text/plain": [
       "==========================================================================================\n",
       "Layer (type:depth-idx)                   Output Shape              Param #\n",
       "==========================================================================================\n",
       "minGRUv3                                 [1024, 128, 65]           --\n",
       "├─Embedding: 1-1                         [1024, 128, 128]          8,320\n",
       "├─Linear: 1-2                            [1024, 128, 256]          33,024\n",
       "├─CausalDepthWiseConv1d: 1-3             [1024, 128, 256]          --\n",
       "│    └─Sequential: 2-1                   [1024, 256, 128]          --\n",
       "│    │    └─Conv1d: 3-1                  [1024, 256, 128]          1,024\n",
       "│    │    └─Conv1d: 3-2                  [1024, 256, 128]          65,792\n",
       "├─RMSNorm: 1-4                           [1024, 128, 256]          256\n",
       "├─MinGRU: 1-5                            [1024, 128, 256]          --\n",
       "│    └─ModuleList: 2-2                   --                        --\n",
       "│    │    └─ModuleDict: 3-3              --                        132,096\n",
       "│    │    └─ModuleDict: 3-4              --                        132,096\n",
       "├─Identity: 1-6                          [1024, 128, 256]          --\n",
       "├─RMSNorm: 1-7                           [1024, 128, 256]          256\n",
       "├─SwiGLUFFN: 1-8                         [1024, 128, 256]          --\n",
       "│    └─Linear: 2-3                       [1024, 128, 176]          45,056\n",
       "│    └─SiLU: 2-4                         [1024, 128, 176]          --\n",
       "│    └─Linear: 2-5                       [1024, 128, 176]          45,056\n",
       "│    └─Linear: 2-6                       [1024, 128, 256]          45,056\n",
       "│    └─Dropout: 2-7                      [1024, 128, 256]          --\n",
       "├─RMSNorm: 1-9                           [1024, 128, 256]          256\n",
       "├─Linear: 1-10                           [1024, 128, 65]           16,705\n",
       "==========================================================================================\n",
       "Total params: 524,993\n",
       "Trainable params: 524,993\n",
       "Non-trainable params: 0\n",
       "Total mult-adds (G): 9.23\n",
       "==========================================================================================\n",
       "Input size (MB): 1.05\n",
       "Forward/backward pass size (MB): 4061.13\n",
       "Params size (MB): 2.10\n",
       "Estimated Total Size (MB): 4064.28\n",
       "=========================================================================================="
      ]
     },
     "execution_count": 28,
     "metadata": {},
     "output_type": "execute_result"
    }
   ],
   "source": [
    "from torchinfo import summary\n",
    "\n",
    "summary(mingru3, input_size=(BATCH_SIZE, SEQUENCE_LENGTH), dtypes=[torch.long])"
   ]
  },
  {
   "cell_type": "code",
   "execution_count": 29,
   "id": "bc48d308",
   "metadata": {},
   "outputs": [
    {
     "name": "stderr",
     "output_type": "stream",
     "text": [
      "                                                                                                \r"
     ]
    },
    {
     "name": "stdout",
     "output_type": "stream",
     "text": [
      "Epoch 1/20, Train Loss: 1.6118, Val Loss: 1.7878, Epoch Time: 137.05s Average Vram Usage: 46.48MB\n"
     ]
    },
    {
     "name": "stderr",
     "output_type": "stream",
     "text": [
      "                                                                                                 \r"
     ]
    },
    {
     "name": "stdout",
     "output_type": "stream",
     "text": [
      "Epoch 2/20, Train Loss: 1.4522, Val Loss: 1.7281, Epoch Time: 136.88s Average Vram Usage: 46.43MB\n"
     ]
    },
    {
     "name": "stderr",
     "output_type": "stream",
     "text": [
      "                                                                                                 \r"
     ]
    },
    {
     "name": "stdout",
     "output_type": "stream",
     "text": [
      "Epoch 3/20, Train Loss: 1.3852, Val Loss: 1.7090, Epoch Time: 136.80s Average Vram Usage: 46.43MB\n"
     ]
    },
    {
     "name": "stderr",
     "output_type": "stream",
     "text": [
      "                                                                                                 \r"
     ]
    },
    {
     "name": "stdout",
     "output_type": "stream",
     "text": [
      "Epoch 4/20, Train Loss: 1.3582, Val Loss: 1.7037, Epoch Time: 137.08s Average Vram Usage: 46.43MB\n"
     ]
    },
    {
     "name": "stderr",
     "output_type": "stream",
     "text": [
      "                                                                                                 \r"
     ]
    },
    {
     "name": "stdout",
     "output_type": "stream",
     "text": [
      "Epoch 5/20, Train Loss: 1.3169, Val Loss: 1.7211, Epoch Time: 136.95s Average Vram Usage: 46.54MB\n"
     ]
    },
    {
     "name": "stderr",
     "output_type": "stream",
     "text": [
      "                                                                                                 \r"
     ]
    },
    {
     "name": "stdout",
     "output_type": "stream",
     "text": [
      "Epoch 6/20, Train Loss: 1.3042, Val Loss: 1.7253, Epoch Time: 136.88s Average Vram Usage: 46.67MB\n"
     ]
    },
    {
     "name": "stderr",
     "output_type": "stream",
     "text": [
      "                                                                                                 \r"
     ]
    },
    {
     "name": "stdout",
     "output_type": "stream",
     "text": [
      "Epoch 7/20, Train Loss: 1.2954, Val Loss: 1.7366, Epoch Time: 136.76s Average Vram Usage: 46.64MB\n"
     ]
    },
    {
     "name": "stderr",
     "output_type": "stream",
     "text": [
      "                                                                                                 \r"
     ]
    },
    {
     "name": "stdout",
     "output_type": "stream",
     "text": [
      "Epoch 8/20, Train Loss: 1.2901, Val Loss: 1.7256, Epoch Time: 136.61s Average Vram Usage: 46.66MB\n"
     ]
    },
    {
     "name": "stderr",
     "output_type": "stream",
     "text": [
      "                                                                                                 \r"
     ]
    },
    {
     "name": "stdout",
     "output_type": "stream",
     "text": [
      "Epoch 9/20, Train Loss: 1.2693, Val Loss: 1.7365, Epoch Time: 137.09s Average Vram Usage: 46.63MB\n"
     ]
    },
    {
     "name": "stderr",
     "output_type": "stream",
     "text": [
      "                                                                                                  \r"
     ]
    },
    {
     "name": "stdout",
     "output_type": "stream",
     "text": [
      "Epoch 10/20, Train Loss: 1.2668, Val Loss: 1.7396, Epoch Time: 137.02s Average Vram Usage: 46.58MB\n"
     ]
    },
    {
     "name": "stderr",
     "output_type": "stream",
     "text": [
      "                                                                                                   \r"
     ]
    },
    {
     "name": "stdout",
     "output_type": "stream",
     "text": [
      "Epoch 11/20, Train Loss: 1.2837, Val Loss: 1.7162, Epoch Time: 137.36s Average Vram Usage: 46.55MB\n"
     ]
    },
    {
     "name": "stderr",
     "output_type": "stream",
     "text": [
      "                                                                                                   \r"
     ]
    },
    {
     "name": "stdout",
     "output_type": "stream",
     "text": [
      "Epoch 12/20, Train Loss: 1.2654, Val Loss: 1.7181, Epoch Time: 137.60s Average Vram Usage: 46.51MB\n"
     ]
    },
    {
     "name": "stderr",
     "output_type": "stream",
     "text": [
      "                                                                                                   \r"
     ]
    },
    {
     "name": "stdout",
     "output_type": "stream",
     "text": [
      "Epoch 13/20, Train Loss: 1.2439, Val Loss: 1.7094, Epoch Time: 137.00s Average Vram Usage: 46.49MB\n"
     ]
    },
    {
     "name": "stderr",
     "output_type": "stream",
     "text": [
      "                                                                                                   \r"
     ]
    },
    {
     "name": "stdout",
     "output_type": "stream",
     "text": [
      "Epoch 14/20, Train Loss: 1.2315, Val Loss: 1.7206, Epoch Time: 137.16s Average Vram Usage: 46.46MB\n"
     ]
    },
    {
     "name": "stderr",
     "output_type": "stream",
     "text": [
      "                                                                                                   \r"
     ]
    },
    {
     "name": "stdout",
     "output_type": "stream",
     "text": [
      "Epoch 15/20, Train Loss: 1.2363, Val Loss: 1.7118, Epoch Time: 137.31s Average Vram Usage: 46.45MB\n"
     ]
    },
    {
     "name": "stderr",
     "output_type": "stream",
     "text": [
      "                                                                                                   \r"
     ]
    },
    {
     "name": "stdout",
     "output_type": "stream",
     "text": [
      "Epoch 16/20, Train Loss: 1.2246, Val Loss: 1.7041, Epoch Time: 137.08s Average Vram Usage: 46.44MB\n"
     ]
    },
    {
     "name": "stderr",
     "output_type": "stream",
     "text": [
      "                                                                                                   \r"
     ]
    },
    {
     "name": "stdout",
     "output_type": "stream",
     "text": [
      "Epoch 17/20, Train Loss: 1.2358, Val Loss: 1.7049, Epoch Time: 136.94s Average Vram Usage: 46.43MB\n"
     ]
    },
    {
     "name": "stderr",
     "output_type": "stream",
     "text": [
      "                                                                                                   \r"
     ]
    },
    {
     "name": "stdout",
     "output_type": "stream",
     "text": [
      "Epoch 18/20, Train Loss: 1.2282, Val Loss: 1.7042, Epoch Time: 136.41s Average Vram Usage: 46.43MB\n"
     ]
    },
    {
     "name": "stderr",
     "output_type": "stream",
     "text": [
      "                                                                                                   \r"
     ]
    },
    {
     "name": "stdout",
     "output_type": "stream",
     "text": [
      "Epoch 19/20, Train Loss: 1.2055, Val Loss: 1.7138, Epoch Time: 137.21s Average Vram Usage: 46.43MB\n"
     ]
    },
    {
     "name": "stderr",
     "output_type": "stream",
     "text": [
      "                                                                                                   \r"
     ]
    },
    {
     "name": "stdout",
     "output_type": "stream",
     "text": [
      "Epoch 20/20, Train Loss: 1.2081, Val Loss: 1.7095, Epoch Time: 137.87s Average Vram Usage: 46.43MB\n",
      "Generated text [\n",
      "\n",
      "GREMIO:\n",
      "Good morrow, neighbour Baptista.\n",
      "\n",
      "BAPTISTA:\n",
      "Good morrow, neighbour Gremio.\n",
      "God save you, gentlemen!\n",
      "\n",
      "PETRUCHIO:\n",
      "And yo]:\n",
      "--------------------------------------------------\n",
      "\n",
      "\n",
      "GREMIO:\n",
      "Good morrow, neighbour Baptista.\n",
      "\n",
      "BAPTISTA:\n",
      "Good morrow, neighbour Gremio.\n",
      "God save you, gentlemen!\n",
      "\n",
      "PETRUCHIO:\n",
      "And you shall be of those far onclusion\n",
      "Doth well flowers to the throwill profane\n",
      "Wherein princely moved held that all this;\n",
      "It shall shall pay it doth burn your with'm.\n",
      "\n",
      "AUTOLYCUS:\n",
      "The heads of his alliance cannot steel.\n",
      "Proporter in a hudge, as the King is me?\n",
      "One tongue lord, I do, thank your cause\n",
      "And shall bid us our general hand,\n",
      "I would be proud that's naclive arms.\n",
      "\n",
      "CAPULET:\n",
      "What fent of your young true walk!\n",
      "\n",
      "ROMEO:\n",
      "God said you prithee, so to the list.\n",
      "\n",
      "CLAUDIO:\n",
      "It is to inclining to being a\n"
     ]
    },
    {
     "data": {
      "image/png": "[encoded data removed]",
      "text/plain": [
       "<Figure size 1000x500 with 1 Axes>"
      ]
     },
     "metadata": {},
     "output_type": "display_data"
    },
    {
     "data": {
      "image/png": "[encoded data removed]",
      "text/plain": [
       "<Figure size 2000x500 with 2 Axes>"
      ]
     },
     "metadata": {},
     "output_type": "display_data"
    }
   ],
   "source": [
    "train_and_test(\"minGRU3\", mingru3, start_text)"
   ]
  },
  {
   "cell_type": "markdown",
   "id": "d53b03f7",
   "metadata": {},
   "source": [
    "## minGRU V4: Hybrid 2"
   ]
  },
  {
   "cell_type": "code",
   "execution_count": null,
   "id": "837d8a73",
   "metadata": {},
   "outputs": [],
   "source": [
    "import torch\n",
    "import torch.nn as nn\n",
    "import torch.nn.functional as F\n",
    "from typing import List, Tuple, Optional, Union\n",
    "from torch.nn import RMSNorm # 사용자의 환경에 RMSNorm이 torch.nn에 있다고 가정합니다.\n",
    "\n",
    "class CausalDepthWiseConv1d(nn.Module):\n",
    "    \"\"\"\n",
    "    인과적(Causal) 1D 깊이별 분리형 컨볼루션(Depth-wise Separable Convolution) 모듈.\n",
    "    깊이별 컨볼루션과 점별 컨볼루션을 순차적으로 적용합니다.\n",
    "    인과성을 유지하기 위해 시퀀스의 왼쪽에 패딩을 추가하여,\n",
    "    시간 t의 출력은 시간 t까지의 입력에만 의존하도록 합니다.\n",
    "    \"\"\"\n",
    "    def __init__(self, dimension: int, kernel_size: int):\n",
    "        \"\"\"\n",
    "        Args:\n",
    "            dimension (int): 입력 및 출력 채널의 수.\n",
    "            kernel_size (int): 컨볼루션 커널의 크기.\n",
    "        \"\"\"\n",
    "        super().__init__()\n",
    "        self.kernel_size = kernel_size\n",
    "        # 인과적 패딩 계산: (커널 크기 - 1) 만큼 왼쪽에, 0만큼 오른쪽에 패딩.\n",
    "        self.causal_padding = (self.kernel_size - 1, 0)\n",
    "\n",
    "        self.depthwise_pointwise_conv = nn.Sequential(\n",
    "            # 깊이별 컨볼루션: 각 입력 채널에 대해 독립적인 필터를 적용.\n",
    "            nn.Conv1d(dimension, dimension, kernel_size=kernel_size, groups=dimension),\n",
    "            # 점별 컨볼루션: 채널 정보를 혼합하기 위한 1x1 컨볼루션.\n",
    "            nn.Conv1d(dimension, dimension, kernel_size=1)\n",
    "        )\n",
    "\n",
    "    def forward(self, x: torch.Tensor) -> torch.Tensor:\n",
    "        \"\"\"\n",
    "        Args:\n",
    "            x (torch.Tensor): 입력 텐서. 형태: (배치 크기, 시퀀스 길이, 채널 수).\n",
    "        Returns:\n",
    "            torch.Tensor: 출력 텐서. 형태: (배치 크기, 시퀀스 길이, 채널 수).\n",
    "        \"\"\"\n",
    "        # Conv1D를 위해 (배치 크기, 채널 수, 시퀀스 길이) 형태로 변경.\n",
    "        x_transposed = x.transpose(1, 2)\n",
    "        # 시퀀스 왼쪽에 인과적 패딩 적용.\n",
    "        x_padded = F.pad(x_transposed, self.causal_padding)\n",
    "        # 깊이별-점별 컨볼루션 적용.\n",
    "        x_conv_out = self.depthwise_pointwise_conv(x_padded)\n",
    "        # 다시 (배치 크기, 시퀀스 길이, 채널 수) 형태로 변경.\n",
    "        return x_conv_out.transpose(1, 2)\n",
    "\n",
    "\n",
    "class MinGRUCoreOps:\n",
    "    \"\"\"\n",
    "    MinGRU의 핵심 수학적 연산을 위한 정적 메소드들을 포함하는 클래스.\n",
    "    MinGRU의 수학적 공식에 기반한 함수들이며, 사용자 정의 활성화 함수 및\n",
    "    순환적 업데이트를 위한 병렬 스캔 연산 등을 포함합니다.\n",
    "    \n",
    "    \"\"\"\n",
    "\n",
    "    @staticmethod\n",
    "    def g_activation(x: torch.Tensor) -> torch.Tensor:\n",
    "        \"\"\"\n",
    "        MinGRU를 위한 사용자 정의 활성화 함수 'g'.\n",
    "        g(x) = x + 0.5  (x >= 0 인 경우)\n",
    "        g(x) = sigmoid(x) (x < 0 인 경우)\n",
    "        \"\"\"\n",
    "        output = torch.empty_like(x)\n",
    "        positive_mask = x >= 0\n",
    "        # 양수 또는 0인 경우\n",
    "        output[positive_mask] = x[positive_mask] + torch.tensor(0.5, dtype=x.dtype, device=x.device)\n",
    "        # 음수인 경우\n",
    "        output[~positive_mask] = torch.sigmoid(x[~positive_mask])\n",
    "        return output\n",
    "\n",
    "    @staticmethod\n",
    "    def log_g_activation(x: torch.Tensor) -> torch.Tensor:\n",
    "        \"\"\"\n",
    "        사용자 정의 활성화 함수 'g'의 로그(logarithm) 값.\n",
    "        log_g(x) = log(x + 0.5) (x >= 0 인 경우)\n",
    "        log_g(x) = log(sigmoid(x)) = -softplus(-x) (x < 0 인 경우)\n",
    "        수치적 안정성을 위해 사용됩니다.\n",
    "        \"\"\"\n",
    "        output = torch.empty_like(x)\n",
    "        positive_mask = x >= 0\n",
    "        # 양수 또는 0인 경우\n",
    "        output[positive_mask] = (x[positive_mask] + torch.tensor(0.5, dtype=x.dtype, device=x.device)).log().to(x.dtype)\n",
    "        # 음수인 경우 (log(sigmoid(x)) = -softplus(-x))\n",
    "        output[~positive_mask] = (-F.softplus(-x[~positive_mask])).to(x.dtype)\n",
    "        return output\n",
    "\n",
    "    @staticmethod\n",
    "    def _log_space_parallel_scan(log_a_terms: torch.Tensor, log_b_terms: torch.Tensor) -> torch.Tensor:\n",
    "        \"\"\"\n",
    "        로그 공간에서의 병렬 스캔(누적) 연산.\n",
    "        MinGRU의 순환 관계를 병렬적으로 계산하기 위해 사용됩니다.\n",
    "        x_t = a_t * x_{t-1} + b_t  형태의 연산을 로그 공간에서 수행합니다.\n",
    "        (원문: _parallel_scan_log)\n",
    "\n",
    "        Args:\n",
    "            log_a_terms (torch.Tensor): 로그 스케일의 'a' 항들. (log(a_t))\n",
    "            log_b_terms (torch.Tensor): 로그 스케일의 'b' 항들. (log(b_t))\n",
    "                                      첫 번째 요소는 log(x_0) * a_0 (초기 상태 관련 항)을 포함할 수 있음.\n",
    "        Returns:\n",
    "            torch.Tensor: 병렬 스캔 결과의 지수 값 (원래 스케일). (exp(log_x_t))\n",
    "        \"\"\"\n",
    "        # log_a_terms의 누적 합을 계산 (alpha_star). 시퀀스 차원(dim=1)을 따라 누적.\n",
    "        # 패딩은 초기 조건(x_0)을 처리하기 위함.\n",
    "        padding_dims = [0] * (log_a_terms.ndim - 2) * 2 + [1, 0] # (..., 1, 0) sequence dimension padding\n",
    "        alpha_star = F.pad(torch.cumsum(log_a_terms, dim=1), padding_dims)\n",
    "\n",
    "        # log_b_terms - alpha_star 항에 대해 로그-합-지수(logsumexp) 누적을 수행.\n",
    "        # 이는 x_0 항과 b_t / (a_1*...*a_t) 항들의 누적 합을 로그 공간에서 계산하는 것과 유사.\n",
    "        x0_plus_b_star_contribution = torch.logcumsumexp(log_b_terms - alpha_star, dim=1)\n",
    "\n",
    "        # 최종 로그 스케일 결과: alpha_star + x0_plus_b_star_contribution\n",
    "        log_x_sequence = alpha_star + x0_plus_b_star_contribution\n",
    "        return torch.exp(log_x_sequence)\n",
    "\n",
    "    @staticmethod\n",
    "    def _mingru_recurrent_update_log_space(log_previous_hidden_state: torch.Tensor,\n",
    "                                           gate_z: torch.Tensor,\n",
    "                                           candidate_hidden: torch.Tensor) -> torch.Tensor:\n",
    "        \"\"\"\n",
    "        MinGRU의 순환 업데이트를 로그 공간에서 병렬적으로 수행.\n",
    "        h_t = (1-z_t)*h_{t-1} + z_t*h_tilde_t\n",
    "        (원문: _mingru_parallel)\n",
    "\n",
    "        Args:\n",
    "            log_previous_hidden_state (torch.Tensor): 이전 은닉 상태의 로그 값 (log(h_{t-1})).\n",
    "                                                     형태: (배치, 1, 은닉 차원) - 시퀀스의 첫 번째 요소에 해당.\n",
    "            gate_z (torch.Tensor): 게이트 z_t 값. 형태: (배치, 시퀀스 길이, 은닉 차원).\n",
    "            candidate_hidden (torch.Tensor): 후보 은닉 상태 h_tilde_t 값. 형태: (배치, 시퀀스 길이, 은닉 차원).\n",
    "\n",
    "        Returns:\n",
    "            torch.Tensor: 계산된 은닉 상태 시퀀스 h_t. 형태: (배치, 시퀀스 길이, 은닉 차원).\n",
    "        \"\"\"\n",
    "        # log(z_t) = -softplus(-gate_z)  (log(sigmoid(gate_z)))\n",
    "        log_z = -F.softplus(-gate_z)\n",
    "        # log(1-z_t) = -softplus(gate_z) (log(sigmoid(-gate_z)))\n",
    "        log_one_minus_z = -F.softplus(gate_z)\n",
    "\n",
    "        # log(h_tilde_t) 계산\n",
    "        log_candidate_hidden = MinGRUCoreOps.log_g_activation(candidate_hidden)\n",
    "\n",
    "        # 병렬 스캔을 위한 log_b 항 구성:\n",
    "        # 첫 번째 항은 log(h_prev) (실제로는 log(h_0) * (1-z_0)에 대응하는 항으로 변환됨)\n",
    "        # 나머지 항은 log(z_t) + log(h_tilde_t)\n",
    "        # log_previous_hidden_state는 (B, 1, H) 이므로, dim=1로 concat\n",
    "        log_b_for_scan = torch.cat((log_previous_hidden_state, log_z + log_candidate_hidden), dim=1)\n",
    "\n",
    "        # log_a 항은 log(1-z_t)\n",
    "        # 병렬 스캔 실행\n",
    "        # h_sequence_plus_initial 결과는 h_0, h_1, ..., h_T-1 을 포함\n",
    "        h_sequence_plus_initial = MinGRUCoreOps._log_space_parallel_scan(log_one_minus_z, log_b_for_scan)\n",
    "\n",
    "        # 초기 상태 h_0를 제외한 h_1, ..., h_T-1 시퀀스 반환\n",
    "        return h_sequence_plus_initial[:, 1:]\n",
    "\n",
    "    @staticmethod\n",
    "    def calculate_output_sequence(gate_z: torch.Tensor,\n",
    "                                  candidate_hidden: torch.Tensor,\n",
    "                                  initial_hidden_state: torch.Tensor) -> torch.Tensor:\n",
    "        \"\"\"\n",
    "        주어진 게이트, 후보 은닉 상태, 초기 은닉 상태를 사용하여 MinGRU의 출력 시퀀스를 계산.\n",
    "        (원문: mingru_gate_hidden)\n",
    "\n",
    "        Args:\n",
    "            gate_z (torch.Tensor): 게이트 z_t 값.\n",
    "            candidate_hidden (torch.Tensor): 후보 은닉 상태 h_tilde_t 값.\n",
    "            initial_hidden_state (torch.Tensor): 초기 은닉 상태 h_0 값.\n",
    "\n",
    "        Returns:\n",
    "            torch.Tensor: 계산된 은닉 상태 시퀀스.\n",
    "        \"\"\"\n",
    "        # 수치적 안정성을 위해 작은 epsilon 값을 더한 후 로그 변환.\n",
    "        epsilon = torch.tensor(1e-12, dtype=initial_hidden_state.dtype, device=initial_hidden_state.device)\n",
    "        log_initial_hidden_state = (initial_hidden_state + epsilon).log()\n",
    "\n",
    "        return MinGRUCoreOps._mingru_recurrent_update_log_space(log_initial_hidden_state, gate_z, candidate_hidden)\n",
    "\n",
    "\n",
    "class MinGRU(nn.Module):\n",
    "    \"\"\"\n",
    "    MinGRU (Minimal Gated Recurrent Unit) 모델.\n",
    "    여러 MinGRU 레이어를 쌓아 구성할 수 있습니다.\n",
    "    \"\"\"\n",
    "    # 타입 힌트 (JIT 호환성을 위해 Final 제거)\n",
    "    layer_dims: Tuple[int, ...]\n",
    "    num_internal_layers: int\n",
    "\n",
    "    def __init__(\n",
    "        self,\n",
    "        input_dim: int,\n",
    "        hidden_dims_list: List[int],\n",
    "        use_bias: bool = True,\n",
    "        apply_layer_norm: bool = True,\n",
    "        dropout_probability: float = 0.1,\n",
    "        use_residual: bool = True,\n",
    "    ):\n",
    "        \"\"\"\n",
    "        Args:\n",
    "            input_dim (int): 입력 특징의 차원.\n",
    "            hidden_dims_list (List[int]): 각 MinGRU 레이어의 은닉 차원 리스트.\n",
    "            use_bias (bool): 선형 계층에서 편향을 사용할지 여부.\n",
    "            apply_layer_norm (bool): 각 레이어 내부에 LayerNorm을 적용할지 여부.\n",
    "            dropout_probability (float): 드롭아웃 확률. 0이면 드롭아웃을 적용하지 않음.\n",
    "            use_residual (bool): 잔차 연결(residual connection)을 사용할지 여부.\n",
    "        \"\"\"\n",
    "        super().__init__()\n",
    "        self.layer_dims = tuple([input_dim] + hidden_dims_list) # 입력 차원 + 각 레이어 은닉 차원\n",
    "        self.num_internal_layers = len(hidden_dims_list) # MinGRU 레이어의 수\n",
    "        self.dropout_probability = dropout_probability\n",
    "        self.use_residual = use_residual\n",
    "        self.apply_internal_norm = apply_layer_norm\n",
    "\n",
    "        torch_layers_list = [] # nn.ModuleList로 관리될 레이어 모듈들\n",
    "        # 각 레이어의 입력 차원과 출력 차원을 순회\n",
    "        layer_dim_pairs = zip(self.layer_dims[:-1], self.layer_dims[1:])\n",
    "\n",
    "        for layer_idx, (current_input_dim, current_output_dim) in enumerate(layer_dim_pairs):\n",
    "            layer_modules_dict = {} # nn.ModuleDict로 관리될 특정 레이어의 모듈들\n",
    "\n",
    "            if self.apply_internal_norm:\n",
    "                layer_modules_dict[\"norm\"] = torch.nn.LayerNorm(current_input_dim)\n",
    "            else:\n",
    "                layer_modules_dict[\"norm\"] = torch.nn.Identity()\n",
    "\n",
    "            # 게이트(z_t)와 후보 은닉 상태(h_tilde_t)를 계산하기 위한 선형 계층\n",
    "            layer_modules_dict[\"gate_and_candidate_proj\"] = torch.nn.Linear(current_input_dim, current_output_dim * 2, bias=use_bias)\n",
    "\n",
    "            # 잔차 연결을 위한 차원 정렬용 선형 계층 (입력과 출력 차원이 다를 경우)\n",
    "            if use_residual and current_input_dim != current_output_dim:\n",
    "                layer_modules_dict[\"residual_align_proj\"] = torch.nn.Linear(current_input_dim, current_output_dim, bias=False)\n",
    "            else:\n",
    "                layer_modules_dict[\"residual_align_proj\"] = torch.nn.Identity()\n",
    "\n",
    "            # 드롭아웃 (마지막 레이어 제외)\n",
    "            if self.dropout_probability > 0.0 and layer_idx < (self.num_internal_layers - 1):\n",
    "                layer_modules_dict[\"dropout\"] = torch.nn.Dropout(p=self.dropout_probability)\n",
    "            else:\n",
    "                layer_modules_dict[\"dropout\"] = torch.nn.Identity()\n",
    "\n",
    "            torch_layers_list.append(torch.nn.ModuleDict(layer_modules_dict))\n",
    "\n",
    "        self.layers = torch.nn.ModuleList(torch_layers_list)\n",
    "        self.apply(self._init_weights)  # 가중치 초기화\n",
    "        \n",
    "    def _init_weights(self, module: nn.Module):\n",
    "        # 선형 레이어 가중치 초기화 (게이트 편향 특수 처리 포함)\n",
    "        for i in range(self.num_internal_layers):\n",
    "            layer_components = self.layers[i]\n",
    "            output_dim = self.layer_dims[i+1]\n",
    "            # 1. 잔차 연결 프로젝션 레이어 초기화 (일반)\n",
    "            if isinstance(layer_components[\"residual_align_proj\"], nn.Linear):\n",
    "                nn.init.normal_(layer_components[\"residual_align_proj\"].weight, mean=0.0, std=0.02)\n",
    "            \n",
    "            # 2. 게이트 및 후보 은닉 상태 프로젝션 레이어 특별 초기화\n",
    "            gate_hidden_proj_layer = layer_components[\"gate_and_candidate_proj\"]\n",
    "            \n",
    "            # 가중치는 표준 정규분포로 초기화\n",
    "            nn.init.normal_(gate_hidden_proj_layer.weight, mean=0.0, std=0.02)\n",
    "\n",
    "            # 편향(bias)은 특별하게 초기화\n",
    "            if gate_hidden_proj_layer.bias is not None:\n",
    "                # 편향 텐서는 (output_dim * 2) 크기\n",
    "                # 앞 절반은 게이트 로짓(gate_logits)용, 뒤 절반은 후보 은닉 상태(candidate_hidden_inputs)용\n",
    "                \n",
    "                # 게이트 로짓의 편향을 음수 값으로 초기화 (예: -1.0)\n",
    "                # sigmoid(음수)는 0에 가까워져, z_t가 작아짐\n",
    "                # h_t = (1-z_t)*h_{t-1} + z_t*h_tilde_t 에서 (1-z_t)가 커지므로\n",
    "                # 학습 초기에 이전 은닉 상태 h_{t-1}를 더 많이 유지하도록 유도하여 안정적인 학습에 도움을 줍니다.\n",
    "                nn.init.constant_(gate_hidden_proj_layer.bias[:output_dim], -1.0)\n",
    "                \n",
    "                # 후보 은닉 상태의 편향은 0으로 초기화\n",
    "                nn.init.zeros_(gate_hidden_proj_layer.bias[output_dim:])\n",
    "            \n",
    "\n",
    "    def init_hidden_states(self, input_tensor: torch.Tensor) -> List[torch.Tensor]:\n",
    "        \"\"\"\n",
    "        각 MinGRU 레이어의 초기 은닉 상태를 생성합니다.\n",
    "        MinGRU의 g 활성화 함수를 사용하여 0으로 초기화된 텐서를 변환합니다.\n",
    "\n",
    "        Args:\n",
    "            input_tensor (torch.Tensor): 입력 텐서. 배치 크기, 자료형, 장치 정보를 얻기 위해 사용.\n",
    "                                         형태: (배치 크기, 시퀀스 길이, 입력 차원).\n",
    "        Returns:\n",
    "            List[torch.Tensor]: 각 레이어의 초기 은닉 상태 리스트.\n",
    "                                각 텐서의 형태: (배치 크기, 1, 해당 레이어의 은닉 차원).\n",
    "        \"\"\"\n",
    "        batch_size = input_tensor.shape[0]\n",
    "        initial_states = []\n",
    "        for hidden_dim in self.layer_dims[1:]: # 각 레이어의 출력(은닉) 차원에 대해\n",
    "            # (배치 크기, 1, 은닉 차원) 형태의 0 텐서 생성 후 g_activation 적용\n",
    "            zeros = input_tensor.new_zeros(batch_size, 1, hidden_dim, dtype=input_tensor.dtype)\n",
    "            initial_states.append(MinGRUCoreOps.g_activation(zeros))\n",
    "        return initial_states\n",
    "\n",
    "    def forward(\n",
    "        self,\n",
    "        input_sequence: torch.Tensor,\n",
    "        initial_hidden_states_list: Optional[List[torch.Tensor]] = None,\n",
    "    ) -> Tuple[torch.Tensor, List[torch.Tensor]]:\n",
    "        \"\"\"\n",
    "        MinGRU 모델의 순방향 전파를 수행합니다.\n",
    "\n",
    "        Args:\n",
    "            input_sequence (torch.Tensor): 입력 시퀀스. 형태: (배치 크기, 시퀀스 길이, 입력 차원).\n",
    "            initial_hidden_states_list (Optional[List[torch.Tensor]]):\n",
    "                제공될 경우 사용할 초기 은닉 상태 리스트.\n",
    "                None이면 내부적으로 init_hidden_states를 호출하여 생성.\n",
    "\n",
    "        Returns:\n",
    "            Tuple[torch.Tensor, List[torch.Tensor]]:\n",
    "                - 최종 레이어의 출력 시퀀스. 형태: (배치 크기, 시퀀스 길이, 마지막 레이어의 은닉 차원).\n",
    "                - 각 레이어의 다음 시퀀스를 위한 마지막 은닉 상태 리스트.\n",
    "                  각 텐서의 형태: (배치 크기, 1, 해당 레이어의 은닉 차원).\n",
    "        \"\"\"\n",
    "        if initial_hidden_states_list is None:\n",
    "            hidden_states_for_layers = self.init_hidden_states(input_sequence)\n",
    "        else:\n",
    "            hidden_states_for_layers = initial_hidden_states_list\n",
    "\n",
    "        current_layer_input_sequence = input_sequence\n",
    "        next_step_hidden_states_list: List[torch.Tensor] = []\n",
    "\n",
    "        for layer_idx in range(self.num_internal_layers):\n",
    "            layer_module_components = self.layers[layer_idx]\n",
    "\n",
    "            normalized_sequence = layer_module_components[\"norm\"](current_layer_input_sequence)\n",
    "            # 게이트와 후보 은닉 상태를 한 번에 계산 후 분리\n",
    "            gate_values, candidate_hidden_states = layer_module_components[\"gate_and_candidate_proj\"](normalized_sequence).chunk(2, dim=2)\n",
    "\n",
    "            # 현재 레이어의 초기(또는 이전 스텝의) 은닉 상태\n",
    "            previous_hidden_state_for_this_layer: torch.Tensor = hidden_states_for_layers[layer_idx]\n",
    "\n",
    "            # MinGRU 순환 연산\n",
    "            output_sequence_current_layer = MinGRUCoreOps.calculate_output_sequence(\n",
    "                gate_values, candidate_hidden_states, previous_hidden_state_for_this_layer\n",
    "            )\n",
    "            # 다음 스텝(또는 다음 시퀀스)을 위한 마지막 은닉 상태 저장\n",
    "            next_step_hidden_states_list.append(output_sequence_current_layer[:, -1:])\n",
    "\n",
    "            if self.use_residual:\n",
    "                residual_input = layer_module_components[\"residual_align_proj\"](current_layer_input_sequence)\n",
    "                output_sequence_current_layer = output_sequence_current_layer + residual_input\n",
    "\n",
    "            current_layer_input_sequence = layer_module_components[\"dropout\"](output_sequence_current_layer)\n",
    "\n",
    "        return current_layer_input_sequence, next_step_hidden_states_list\n",
    "\n",
    "\n",
    "class SwiGLUFFN(nn.Module):\n",
    "    \"\"\"\n",
    "    SwiGLU 활성화 함수를 사용하는 FFN (FeedForward Network) 모듈.\n",
    "    일반적으로 트랜스포머 모델에서 사용됩니다.\n",
    "    \"\"\"\n",
    "    def __init__(self, dimension: int, expansion_factor: float = 2.0, dropout: float = 0.1):\n",
    "        \"\"\"\n",
    "        Args:\n",
    "            dimension (int): 입력 및 출력 차원.\n",
    "            expansion_factor (float): 내부 은닉 차원을 결정하기 위한 확장 비율.\n",
    "                                      실제 은닉 차원은 dimension * expansion_factor * (2/3) 근사.\n",
    "            dropout (float): 드롭아웃 확률.\n",
    "        \"\"\"\n",
    "        super().__init__()\n",
    "        # 내부 은닉 차원 계산 (일반적으로 2/3는 GLU 계열에서 사용됨)\n",
    "        # 또한, 보통 하드웨어 가속을 위해 8의 배수로 맞춤.\n",
    "        hidden_dimension = int(dimension * expansion_factor * (2/3))\n",
    "        hidden_dimension = (hidden_dimension + 7) // 8 * 8 # 8의 배수로 올림\n",
    "\n",
    "        self.gate_proj = nn.Linear(dimension, hidden_dimension, bias=False) # W_gate\n",
    "        self.up_proj = nn.Linear(dimension, hidden_dimension, bias=False)   # W_up\n",
    "        self.down_proj = nn.Linear(hidden_dimension, dimension, bias=False) # W_down\n",
    "        self.dropout_layer = nn.Dropout(dropout)\n",
    "        self.activation_fn = nn.SiLU() # Swish 또는 Sigmoid Linear Unit\n",
    "\n",
    "    def forward(self, x: torch.Tensor) -> torch.Tensor:\n",
    "        \"\"\"\n",
    "        SwiGLU FFN의 순방향 전파.\n",
    "        Output = Dropout(W_down(SiLU(W_gate(x)) * W_up(x)))\n",
    "        \"\"\"\n",
    "        gated_x = self.activation_fn(self.gate_proj(x))\n",
    "        activated_x = gated_x * self.up_proj(x)\n",
    "        return self.dropout_layer(self.down_proj(activated_x))\n",
    "\n",
    "class minGRUv4(nn.Module):\n",
    "    \"\"\"\n",
    "    MinGRU를 핵심 순환 블록으로 사용하는 전체 언어 모델 아키텍처 (버전 3).\n",
    "    임베딩, 선택적 컨볼루션, MinGRU 스택, FFN, 최종 정규화 및 출력 프로젝션을 포함합니다.\n",
    "    \"\"\"\n",
    "    def __init__(\n",
    "        self,\n",
    "        vocab_size: int,\n",
    "        embedding_dim: int,\n",
    "        mingru_hidden_dims_config: Union[int, List[int]], # MinGRU 레이어들의 은닉 차원 설정\n",
    "        num_mingru_layers: Optional[int] = None, # hidden_dims_config가 int일 경우 레이어 수\n",
    "        dropout_rate: float = 0.1,\n",
    "        rms_norm_epsilon: float = 1e-8,\n",
    "        use_convolution_block: bool = False,\n",
    "        conv_kernel_size: int = 3,\n",
    "        ffn_expansion_factor: float = 1.0 # SwiGLUFFN의 확장 비율\n",
    "    ):\n",
    "        super().__init__()\n",
    "\n",
    "        # MinGRU 내부 레이어들의 은닉 차원 리스트 결정\n",
    "        if isinstance(mingru_hidden_dims_config, int):\n",
    "            if num_mingru_layers is None or num_mingru_layers < 1:\n",
    "                raise ValueError(\"`num_mingru_layers`는 `mingru_hidden_dims_config`가 정수일 때 양의 정수여야 합니다.\")\n",
    "            actual_mingru_hidden_dims = [mingru_hidden_dims_config] * num_mingru_layers\n",
    "        elif isinstance(mingru_hidden_dims_config, list):\n",
    "            if not mingru_hidden_dims_config:\n",
    "                raise ValueError(\"`mingru_hidden_dims_config` 리스트는 비어있을 수 없습니다.\")\n",
    "            actual_mingru_hidden_dims = mingru_hidden_dims_config\n",
    "        else:\n",
    "            raise TypeError(\"`mingru_hidden_dims_config`는 정수 또는 정수 리스트여야 합니다.\")\n",
    "\n",
    "        # MinGRU 모듈의 입력 및 출력 차원\n",
    "        first_mingru_layer_dim = actual_mingru_hidden_dims[0]\n",
    "        last_mingru_layer_dim = actual_mingru_hidden_dims[-1]\n",
    "\n",
    "        self.token_embedding = nn.Embedding(vocab_size, embedding_dim)\n",
    "\n",
    "        # 임베딩 차원을 첫 번째 MinGRU 레이어의 입력 차원으로 프로젝션\n",
    "        if embedding_dim != first_mingru_layer_dim:\n",
    "            self.embedding_to_mingru_projection = nn.Linear(embedding_dim, first_mingru_layer_dim)\n",
    "        else:\n",
    "            self.embedding_to_mingru_projection = nn.Identity()\n",
    "\n",
    "        # 선택적 인과적 깊이별 컨볼루션 블록\n",
    "        if use_convolution_block:\n",
    "            self.causal_conv_block = CausalDepthWiseConv1d(first_mingru_layer_dim, conv_kernel_size)\n",
    "        else:\n",
    "            self.causal_conv_block = nn.Identity()\n",
    "\n",
    "        # MinGRU 전 정규화\n",
    "        self.norm_before_mingru = RMSNorm(first_mingru_layer_dim, eps=rms_norm_epsilon)\n",
    "\n",
    "        self.mingru_stack = MinGRU(\n",
    "            input_dim=first_mingru_layer_dim,\n",
    "            hidden_dims_list=actual_mingru_hidden_dims,\n",
    "            apply_layer_norm=True, # MinGRU 내부 LayerNorm 사용\n",
    "            dropout_probability=dropout_rate,\n",
    "            use_residual=True      # MinGRU 내부 잔차 연결 사용\n",
    "        )\n",
    "\n",
    "        # MinGRU 블록의 입력과 출력 차원이 다를 경우 잔차 연결을 위한 프로젝션\n",
    "        if first_mingru_layer_dim != last_mingru_layer_dim:\n",
    "            self.mingru_residual_projection = nn.Linear(first_mingru_layer_dim, last_mingru_layer_dim)\n",
    "        else:\n",
    "            self.mingru_residual_projection = nn.Identity()\n",
    "\n",
    "        # MinGRU 후, FFN 전 정규화\n",
    "        self.norm_after_mingru_before_ffn = RMSNorm(last_mingru_layer_dim, eps=rms_norm_epsilon)\n",
    "        self.ffn_block = SwiGLUFFN(\n",
    "            dimension=last_mingru_layer_dim,\n",
    "            expansion_factor=ffn_expansion_factor,\n",
    "            dropout=dropout_rate\n",
    "        )\n",
    "\n",
    "        # 최종 정규화 및 로짓 프로젝션\n",
    "        self.final_output_norm = RMSNorm(last_mingru_layer_dim, eps=rms_norm_epsilon)\n",
    "        self.to_logits_projection = nn.Linear(last_mingru_layer_dim, vocab_size)\n",
    "        \n",
    "        self.apply(self._init_weights)\n",
    "\n",
    "    def _init_weights(self, module: nn.Module): # module 인자를 명시적으로 타입 힌트\n",
    "        \"\"\"\n",
    "        모델 내 각 모듈의 가중치를 초기화합니다.\n",
    "        self.apply() 메소드에 의해 호출됩니다.\n",
    "        \"\"\"\n",
    "        if isinstance(module, nn.Linear):\n",
    "            nn.init.normal_(module.weight, mean=0.0, std=0.02)\n",
    "            if module.bias is not None:\n",
    "                nn.init.zeros_(module.bias)\n",
    "        elif isinstance(module, nn.Embedding):\n",
    "            nn.init.normal_(module.weight, mean=0.0, std=0.02) \n",
    "        elif isinstance(module, nn.Conv1d):\n",
    "            nn.init.kaiming_normal_(module.weight, mode='fan_in', nonlinearity='leaky_relu') # mode='fan_in'이 일반적\n",
    "            if module.bias is not None:\n",
    "                nn.init.zeros_(module.bias)\n",
    "        elif isinstance(module, RMSNorm):\n",
    "            if hasattr(module, 'weight') and module.weight is not None: # RMSNorm에 weight가 있을 경우\n",
    "                nn.init.ones_(module.weight)\n",
    "        elif isinstance(module, nn.LayerNorm): # MinGRU 내부의 LayerNorm 처리\n",
    "            if hasattr(module, 'weight') and module.weight is not None:\n",
    "                nn.init.ones_(module.weight)\n",
    "            if hasattr(module, 'bias') and module.bias is not None:\n",
    "                nn.init.zeros_(module.bias)\n",
    "\n",
    "    def forward(self, input_ids: torch.Tensor) -> torch.Tensor: # 반환 타입에서 None 제거, 일반적으로 로짓만 반환\n",
    "        \"\"\"\n",
    "        minGRUv4 모델의 순방향 전파.\n",
    "\n",
    "        Args:\n",
    "            input_ids (torch.Tensor): 입력 토큰 ID 시퀀스. 형태: (배치 크기, 시퀀스 길이).\n",
    "\n",
    "        Returns:\n",
    "            torch.Tensor: 최종 로짓. 형태: (배치 크기, 시퀀스 길이, 어휘 크기).\n",
    "        \"\"\"\n",
    "        # 1. 임베딩 및 초기 프로젝션\n",
    "        current_hidden_repr = self.token_embedding(input_ids)\n",
    "        current_hidden_repr = self.embedding_to_mingru_projection(current_hidden_repr)\n",
    "\n",
    "        # 2. (선택적) 컨볼루션 블록 + 잔차 연결\n",
    "        residual_conv_input = current_hidden_repr\n",
    "        if not isinstance(self.causal_conv_block, nn.Identity):\n",
    "            # 컨볼루션 블록이 Identity가 아닐 때만 연산 (즉, use_convolution_block=True 일 때)\n",
    "            current_hidden_repr = residual_conv_input + self.causal_conv_block(residual_conv_input)\n",
    "        # else: current_hidden_repr은 residual_conv_input과 동일하게 유지됨\n",
    "\n",
    "        # 3. MinGRU 블록 + 잔차 연결\n",
    "        residual_mingru_input = current_hidden_repr\n",
    "        mingru_input_normalized = self.norm_before_mingru(residual_mingru_input)\n",
    "        mingru_output_sequence, _ = self.mingru_stack(mingru_input_normalized) # 다음 은닉 상태는 사용 안함\n",
    "        current_hidden_repr = self.mingru_residual_projection(residual_mingru_input) + mingru_output_sequence\n",
    "\n",
    "        # 4. FFN 블록 + 잔차 연결\n",
    "        residual_ffn_input = current_hidden_repr\n",
    "        ffn_input_normalized = self.norm_after_mingru_before_ffn(residual_ffn_input)\n",
    "        current_hidden_repr = residual_ffn_input + self.ffn_block(ffn_input_normalized)\n",
    "\n",
    "        # 5. 최종 정규화 및 로짓 계산\n",
    "        final_representation_normalized = self.final_output_norm(current_hidden_repr)\n",
    "        logits = self.to_logits_projection(final_representation_normalized)\n",
    "\n",
    "        return logits"
   ]
  }
 ],
 "metadata": {
  "accelerator": "GPU",
  "colab": {
   "gpuType": "T4",
   "provenance": []
  },
  "kernelspec": {
   "display_name": "Python 3",
   "name": "python3"
  },
  "language_info": {
   "codemirror_mode": {
    "name": "ipython",
    "version": 3
   },
   "file_extension": ".py",
   "mimetype": "text/x-python",
   "name": "python",
   "nbconvert_exporter": "python",
   "pygments_lexer": "ipython3",
   "version": "3.10.12"
  }
 },
 "nbformat": 4,
 "nbformat_minor": 5
}
