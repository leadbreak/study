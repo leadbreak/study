{
 "cells": [
  {
   "cell_type": "markdown",
   "id": "0a001a3f",
   "metadata": {},
   "source": [
    "## 1. Minimalize LSTM"
   ]
  },
  {
   "cell_type": "markdown",
   "id": "0e9c5031",
   "metadata": {},
   "source": [
    "### 1.1 LSTM cell"
   ]
  },
  {
   "cell_type": "code",
   "execution_count": null,
   "id": "d4976631",
   "metadata": {},
   "outputs": [
    {
     "name": "stderr",
     "output_type": "stream",
     "text": [
      "/usr/local/lib/python3.10/dist-packages/torch/utils/_pytree.py:185: FutureWarning: optree is installed but the version is too old to support PyTorch Dynamo in C++ pytree. C++ pytree support is disabled. Please consider upgrading optree using `python3 -m pip install --upgrade 'optree>=0.13.0'`.\n",
      "  warnings.warn(\n"
     ]
    }
   ],
   "source": [
    "import torch\n",
    "import torch.nn as nn\n",
    "\n",
    "class LSTMCell(nn.Module):\n",
    "    def __init__(self, input_size, hidden_size):\n",
    "        super().__init__()\n",
    "        self.linear_ih = nn.Linear(input_size, 4 * hidden_size)\n",
    "        self.linear_hh = nn.Linear(hidden_size, 4 * hidden_size)\n",
    "\n",
    "    def forward(self, x_t, h_prev, c_prev):\n",
    "        # 게이트 계산: 입력-은닉 가중치 합\n",
    "        gates = self.linear_ih(x_t) + self.linear_hh(h_prev)\n",
    "\n",
    "        # i, f, g, o 게이트 분할\n",
    "        i_t, f_t, g_t, o_t = torch.chunk(gates, 4, dim=1)\n",
    "\n",
    "        # 활성화\n",
    "        i_t = torch.sigmoid(i_t)\n",
    "        f_t = torch.sigmoid(f_t)\n",
    "        g_t = torch.tanh(g_t)\n",
    "        o_t = torch.sigmoid(o_t)\n",
    "\n",
    "        # 셀 상태와 은닉 상태 업데이트\n",
    "        c_t = f_t * c_prev + i_t * g_t\n",
    "        h_t = o_t * torch.tanh(c_t)\n",
    "\n",
    "        return h_t, c_t"
   ]
  },
  {
   "cell_type": "markdown",
   "id": "7b8edc56",
   "metadata": {},
   "source": [
    "### 1.2 Minimalizing Step 1\n",
    "- 출력 게이트 제거"
   ]
  },
  {
   "cell_type": "code",
   "execution_count": null,
   "id": "d90cb259",
   "metadata": {},
   "outputs": [],
   "source": [
    "class MinLSTMCell_Step1(nn.Module):\n",
    "    def __init__(self, input_size, hidden_size):\n",
    "        super().__init__()\n",
    "        # 이제 3 * hidden_size만 필요\n",
    "        self.linear_ih = nn.Linear(input_size, 3 * hidden_size)\n",
    "        self.linear_hh = nn.Linear(hidden_size, 3 * hidden_size)\n",
    "\n",
    "    def forward(self, x_t, h_prev, c_prev):\n",
    "        gates = self.linear_ih(x_t) + self.linear_hh(h_prev)\n",
    "        i_t, f_t, g_t = torch.chunk(gates, 3, dim=1)\n",
    "\n",
    "        i_t = torch.sigmoid(i_t)\n",
    "        f_t = torch.sigmoid(f_t)\n",
    "        g_t = torch.tanh(g_t)\n",
    "\n",
    "        c_t = f_t * c_prev + i_t * g_t\n",
    "        h_t = torch.tanh(c_t)  # 출력 게이트 제거\n",
    "\n",
    "        return h_t, c_t"
   ]
  },
  {
   "cell_type": "markdown",
   "id": "3be348d7",
   "metadata": {},
   "source": [
    "### 1.3 Minimalizing Step 2\n",
    "- 이전 은닉 상태 의존성 $h_{t-1}$ 제거"
   ]
  },
  {
   "cell_type": "code",
   "execution_count": 4,
   "id": "3ed238ca",
   "metadata": {},
   "outputs": [],
   "source": [
    "class MinLSTMCell_Step2(nn.Module):\n",
    "    def __init__(self, input_size, hidden_size):\n",
    "        super().__init__()\n",
    "        # linear_hh 제거, linear_ih는 3 * hidden_size 유지\n",
    "        self.linear_ih = nn.Linear(input_size, 3 * hidden_size)\n",
    "\n",
    "    def forward(self, x_t, c_prev):\n",
    "        gates = self.linear_ih(x_t)  # h_prev 의존성 제거\n",
    "        i_t, f_t, g_t = torch.chunk(gates, 3, dim=1)\n",
    "\n",
    "        i_t = torch.sigmoid(i_t)\n",
    "        f_t = torch.sigmoid(f_t)\n",
    "        g_t = torch.tanh(g_t)\n",
    "\n",
    "        c_t = f_t * c_prev + i_t * g_t\n",
    "        h_t = torch.tanh(c_t)\n",
    "\n",
    "        return h_t, c_t"
   ]
  },
  {
   "cell_type": "markdown",
   "id": "34bec81b",
   "metadata": {},
   "source": [
    "### Minimalizing Step 3\n",
    "- Input Gate와 Forget Gate 통합"
   ]
  },
  {
   "cell_type": "code",
   "execution_count": null,
   "id": "ad34ade5",
   "metadata": {},
   "outputs": [],
   "source": [
    "class MinLSTMCell(nn.Module):\n",
    "    def __init__(self, input_size, hidden_size):\n",
    "        super().__init__()\n",
    "        self.linear_ih = nn.Linear(input_size, 3 * hidden_size)\n",
    "\n",
    "    def forward(self, x_t, h_prev, c_prev):\n",
    "        gates = self.linear_ih(x_t)\n",
    "        i_raw, f_raw, g_t = torch.chunk(gates, 3, dim=1)\n",
    "\n",
    "        i_t = torch.sigmoid(i_raw)\n",
    "        f_t = torch.sigmoid(f_raw)\n",
    "        sum_gates = f_t + i_t + 1e-10\n",
    "        f_prime = f_t / sum_gates\n",
    "        i_prime = i_t / sum_gates\n",
    "\n",
    "        c_t = f_prime * c_prev + i_prime * g_t\n",
    "        h_t = torch.tanh(c_t)\n",
    "\n",
    "        return h_t, c_t"
   ]
  },
  {
   "cell_type": "markdown",
   "id": "89055d10",
   "metadata": {},
   "source": [
    "## 2. Minimalize GRU"
   ]
  },
  {
   "cell_type": "markdown",
   "id": "d232a9c5",
   "metadata": {},
   "source": []
  }
 ],
 "metadata": {
  "kernelspec": {
   "display_name": "Python 3",
   "language": "python",
   "name": "python3"
  },
  "language_info": {
   "codemirror_mode": {
    "name": "ipython",
    "version": 3
   },
   "file_extension": ".py",
   "mimetype": "text/x-python",
   "name": "python",
   "nbconvert_exporter": "python",
   "pygments_lexer": "ipython3",
   "version": "3.10.12"
  }
 },
 "nbformat": 4,
 "nbformat_minor": 5
}
