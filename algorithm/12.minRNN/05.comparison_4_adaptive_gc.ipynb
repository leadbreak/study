{
 "cells": [
  {
   "cell_type": "markdown",
   "id": "bd8158eb",
   "metadata": {},
   "source": [
    "```\n",
    "Adaptive Gradient Clip for Stable Calculation\n",
    "```\n"
   ]
  },
  {
   "cell_type": "code",
   "execution_count": 1,
   "id": "20ec8bf0",
   "metadata": {
    "id": "20ec8bf0"
   },
   "outputs": [
    {
     "name": "stderr",
     "output_type": "stream",
     "text": [
      "/usr/local/lib/python3.10/dist-packages/torch/utils/_pytree.py:185: FutureWarning: optree is installed but the version is too old to support PyTorch Dynamo in C++ pytree. C++ pytree support is disabled. Please consider upgrading optree using `python3 -m pip install --upgrade 'optree>=0.13.0'`.\n",
      "  warnings.warn(\n"
     ]
    }
   ],
   "source": [
    "import torch\n",
    "import torch.nn as nn\n",
    "import torch.optim as optim\n",
    "from torch.utils.data import Dataset, DataLoader\n",
    "import numpy as np\n",
    "import time\n",
    "import matplotlib.pyplot as plt\n",
    "import pandas as pd"
   ]
  },
  {
   "cell_type": "markdown",
   "id": "5a3390f4",
   "metadata": {
    "id": "5a3390f4"
   },
   "source": [
    "## Hyperparameters and Configuration"
   ]
  },
  {
   "cell_type": "code",
   "execution_count": 2,
   "id": "d0c61f36",
   "metadata": {
    "colab": {
     "base_uri": "https://localhost:8080/"
    },
    "executionInfo": {
     "elapsed": 6,
     "status": "ok",
     "timestamp": 1732703737281,
     "user": {
      "displayName": "Hugman Sangkeun Jung",
      "userId": "08689291704194029524"
     },
     "user_tz": -540
    },
    "id": "d0c61f36",
    "outputId": "45d9894c-a14d-4164-9f2d-699025751e72"
   },
   "outputs": [
    {
     "name": "stdout",
     "output_type": "stream",
     "text": [
      "Using device: cuda\n"
     ]
    }
   ],
   "source": [
    "# Modified hyperparameters\n",
    "SEQUENCE_LENGTH = 64\n",
    "\n",
    "EMBEDDING_DIM = 32\n",
    "HIDDEN_DIM = EMBEDDING_DIM*2\n",
    "\n",
    "BATCH_SIZE = 512\n",
    "EPOCHS = 2\n",
    "LEARNING_RATE = 1e-4\n",
    "VALIDATION_SPLIT = 0.1\n",
    "\n",
    "NUM_LAYERS = 2\n",
    "NUM_HEADS = 4\n",
    "FFN_DIM = 256\n",
    "DROPOUT = 0.1\n",
    "\n",
    "device = torch.device('cuda' if torch.cuda.is_available() else 'cpu')\n",
    "print(f\"Using device: {device}\")"
   ]
  },
  {
   "cell_type": "markdown",
   "id": "89c9b962",
   "metadata": {
    "id": "89c9b962"
   },
   "source": [
    "## Data Preparation\n",
    "\n",
    "We are using the TinyShakespeare dataset, a small character-level text corpus consisting of a subset of Shakespeare's plays. It's often used for testing sequence models, as it includes a rich set of vocabulary and provides a challenging task for next-character prediction."
   ]
  },
  {
   "cell_type": "code",
   "execution_count": 3,
   "id": "089830e2",
   "metadata": {
    "id": "089830e2"
   },
   "outputs": [],
   "source": [
    "## Utility Functions\n",
    "\n",
    "def load_data(filename):\n",
    "    with open(filename, 'r', encoding='utf-8') as f:\n",
    "        return f.read()\n",
    "\n",
    "def create_char_mappings(text):\n",
    "    chars = sorted(list(set(text)))\n",
    "    char_to_idx = {ch: i for i, ch in enumerate(chars)}\n",
    "    idx_to_char = {i: ch for i, ch in enumerate(chars)}\n",
    "    return chars, char_to_idx, idx_to_char"
   ]
  },
  {
   "cell_type": "markdown",
   "id": "30fc6452",
   "metadata": {
    "id": "30fc6452"
   },
   "source": [
    "## Dataset"
   ]
  },
  {
   "cell_type": "code",
   "execution_count": 4,
   "id": "f07670d9",
   "metadata": {
    "id": "f07670d9"
   },
   "outputs": [],
   "source": [
    "class CharDataset(Dataset):\n",
    "    def __init__(self, text, seq_length, char_to_idx):\n",
    "        self.text = text\n",
    "        self.seq_length = seq_length\n",
    "        self.char_to_idx = char_to_idx\n",
    "\n",
    "    def __len__(self):\n",
    "        return len(self.text) - self.seq_length\n",
    "\n",
    "    def __getitem__(self, idx):\n",
    "        x = [self.char_to_idx[ch] for ch in self.text[idx:idx+self.seq_length]]\n",
    "        y = [self.char_to_idx[ch] for ch in self.text[idx+1:idx+self.seq_length+1]]\n",
    "        return torch.tensor(x), torch.tensor(y)"
   ]
  },
  {
   "cell_type": "code",
   "execution_count": 5,
   "id": "9172da13",
   "metadata": {
    "id": "9172da13"
   },
   "outputs": [],
   "source": [
    "def prepare_data(text, seq_length, batch_size, val_split):\n",
    "    chars, char_to_idx, idx_to_char = create_char_mappings(text)\n",
    "\n",
    "    # Split data into train and validation\n",
    "    val_size = int(len(text) * val_split)\n",
    "    train_text, val_text = text[:-val_size], text[-val_size:]\n",
    "\n",
    "    train_dataset = CharDataset(train_text, seq_length, char_to_idx)\n",
    "    val_dataset = CharDataset(val_text, seq_length, char_to_idx)\n",
    "\n",
    "    train_loader = DataLoader(train_dataset, batch_size=batch_size, shuffle=True, num_workers=12, pin_memory=True)\n",
    "    val_loader = DataLoader(val_dataset, batch_size=batch_size, shuffle=False, num_workers=12, pin_memory=True)\n",
    "\n",
    "    return train_loader, val_loader, chars, char_to_idx, idx_to_char"
   ]
  },
  {
   "cell_type": "code",
   "execution_count": 6,
   "id": "nEwKFB_8L6AG",
   "metadata": {
    "colab": {
     "base_uri": "https://localhost:8080/"
    },
    "executionInfo": {
     "elapsed": 3706,
     "status": "ok",
     "timestamp": 1732704246464,
     "user": {
      "displayName": "Hugman Sangkeun Jung",
      "userId": "08689291704194029524"
     },
     "user_tz": -540
    },
    "id": "nEwKFB_8L6AG",
    "outputId": "e75cdff9-3775-461e-d930-0ced534bf74d"
   },
   "outputs": [],
   "source": [
    "# !wget --no-check-certificate 'https://drive.google.com/uc?export=download&id=19zosLuU0z4MxIMKbGVYEGlg52QyfbTIy' -O input.txt"
   ]
  },
  {
   "cell_type": "code",
   "execution_count": 7,
   "id": "47d03398",
   "metadata": {
    "colab": {
     "base_uri": "https://localhost:8080/"
    },
    "executionInfo": {
     "elapsed": 668,
     "status": "ok",
     "timestamp": 1732704255324,
     "user": {
      "displayName": "Hugman Sangkeun Jung",
      "userId": "08689291704194029524"
     },
     "user_tz": -540
    },
    "id": "47d03398",
    "outputId": "f247f5b3-88ff-4ecb-e8a3-4b2e42a2820b"
   },
   "outputs": [
    {
     "name": "stdout",
     "output_type": "stream",
     "text": [
      "Total characters: 1115394\n",
      "Vocabulary size: 65\n",
      "Train dataset size: 1003791\n",
      "Validation dataset size: 111475\n"
     ]
    }
   ],
   "source": [
    "# Load the data\n",
    "text = load_data('../data/input.txt')\n",
    "train_loader, val_loader, chars, char_to_idx, idx_to_char = prepare_data(text, SEQUENCE_LENGTH, BATCH_SIZE, VALIDATION_SPLIT)\n",
    "vocab_size = len(chars)\n",
    "\n",
    "print(f\"Total characters: {len(text)}\")\n",
    "print(f\"Vocabulary size: {vocab_size}\")\n",
    "print(f\"Train dataset size: {len(train_loader.dataset)}\")\n",
    "print(f\"Validation dataset size: {len(val_loader.dataset)}\")"
   ]
  },
  {
   "cell_type": "markdown",
   "id": "9442b104",
   "metadata": {
    "id": "9442b104"
   },
   "source": [
    "## Data Visualization"
   ]
  },
  {
   "cell_type": "code",
   "execution_count": 8,
   "id": "f1f0a6a1",
   "metadata": {
    "colab": {
     "base_uri": "https://localhost:8080/"
    },
    "executionInfo": {
     "elapsed": 916,
     "status": "ok",
     "timestamp": 1732704257555,
     "user": {
      "displayName": "Hugman Sangkeun Jung",
      "userId": "08689291704194029524"
     },
     "user_tz": -540
    },
    "id": "f1f0a6a1",
    "outputId": "9ef6eb5a-0015-40ad-f143-236e3d38fb7e"
   },
   "outputs": [
    {
     "name": "stdout",
     "output_type": "stream",
     "text": [
      "Input shape: torch.Size([512, 64])\n",
      "Target shape: torch.Size([512, 64])\n",
      "Sample 1: ------------------------------\n",
      "Input sequence : urses!If not by war, by surfeit die your king,As ours by murde\n",
      "Target sequence: rses!If not by war, by surfeit die your king,As ours by murder\n",
      "\n",
      "Sample 2: ------------------------------\n",
      "Input sequence : the stars; then let the mutinous windsStrike the proud cedars '\n",
      "Target sequence: he stars; then let the mutinous windsStrike the proud cedars 'g\n",
      "\n",
      "Sample 3: ------------------------------\n",
      "Input sequence : fill your grave up: stir, nay, come away,Bequeath to death your\n",
      "Target sequence: ill your grave up: stir, nay, come away,Bequeath to death your \n",
      "\n"
     ]
    }
   ],
   "source": [
    "# Function to convert index sequence to character sequence\n",
    "def indices_to_text(indices, idx_to_char):\n",
    "    return ''.join([idx_to_char[idx.item()] for idx in indices])\n",
    "\n",
    "# Get a batch of data\n",
    "dataiter = iter(train_loader)\n",
    "batch_x, batch_y = next(dataiter)\n",
    "\n",
    "print(f\"Input shape: {batch_x.shape}\")\n",
    "print(f\"Target shape: {batch_y.shape}\")\n",
    "\n",
    "# Print a few samples from the batch\n",
    "num_samples = 3\n",
    "for i in range(num_samples):\n",
    "    print(f\"Sample {i+1}: ------------------------------\" )\n",
    "    print(\"Input sequence :\", indices_to_text(batch_x[i], idx_to_char).replace('\\n',''))\n",
    "    print(\"Target sequence:\", indices_to_text(batch_y[i], idx_to_char).replace('\\n',''))\n",
    "    print()\n"
   ]
  },
  {
   "cell_type": "markdown",
   "id": "5486f73f",
   "metadata": {
    "id": "5486f73f"
   },
   "source": [
    "## Training Function"
   ]
  },
  {
   "cell_type": "code",
   "execution_count": 9,
   "id": "61a52f82",
   "metadata": {},
   "outputs": [],
   "source": [
    "def print_vram_usage(device=\"cuda\"):\n",
    "    allocated = torch.cuda.memory_allocated(device) / (1024**2)  # in MB\n",
    "    reserved = torch.cuda.memory_reserved(device) / (1024**2)    # in MB\n",
    "    max_allocated = torch.cuda.max_memory_allocated(device) / (1024**2)  # in MB\n",
    "    print(f\"Allocated: {allocated:.2f} MB, Reserved: {reserved:.2f} MB, Max Allocated: {max_allocated:.2f} MB\")"
   ]
  },
  {
   "cell_type": "code",
   "execution_count": 10,
   "id": "59178a11",
   "metadata": {
    "id": "59178a11"
   },
   "outputs": [],
   "source": [
    "def validate(model, dataloader, criterion, device, epoch, step):\n",
    "    model.eval()\n",
    "    losses = []\n",
    "    with torch.no_grad():\n",
    "        for x, y in dataloader:\n",
    "            x, y = x.to(device), y.to(device)\n",
    "            output, _ = model(x)\n",
    "            loss = criterion(output.view(-1, output.size(-1)), y.view(-1))\n",
    "            losses.append((step, epoch, loss.item()))\n",
    "    return losses"
   ]
  },
  {
   "cell_type": "code",
   "execution_count": 11,
   "id": "ea5e61f5",
   "metadata": {
    "id": "ea5e61f5"
   },
   "outputs": [],
   "source": [
    "from tqdm import tqdm\n",
    "import torch\n",
    "import torch.nn.utils as nn_utils\n",
    "\n",
    "def train(\n",
    "    model,\n",
    "    dataloader,\n",
    "    criterion,\n",
    "    optimizer,\n",
    "    device,\n",
    "    epoch,\n",
    "    step,\n",
    "    ema_decay: float = 0.9,\n",
    "    clip_factor: float = 0.8,\n",
    "):\n",
    "    \"\"\"\n",
    "    Adaptive gradient clipping based on EMA of past gradient norms.\n",
    "    ema_decay: decay rate for EMA (close to 1.0 → slow update)\n",
    "    clip_factor: multiply EMA norm by this to get clipping threshold\n",
    "    \"\"\"\n",
    "    model.train()\n",
    "    scaler = torch.amp.GradScaler()\n",
    "    losses = []\n",
    "    ema_grad_norm = None\n",
    "\n",
    "    pbar = tqdm(dataloader, desc=f\"Epoch {epoch}\", leave=False)\n",
    "    for batch, (x, y) in enumerate(pbar):\n",
    "        x, y = x.to(device), y.to(device)\n",
    "        optimizer.zero_grad()\n",
    "\n",
    "        with torch.amp.autocast(device_type='cuda'):\n",
    "            output, _ = model(x)\n",
    "            loss = criterion(output.view(-1, output.size(-1)), y.view(-1))\n",
    "\n",
    "        # backward\n",
    "        scaler.scale(loss).backward()\n",
    "\n",
    "        # unscale grads before clipping\n",
    "        scaler.unscale_(optimizer)\n",
    "\n",
    "        # compute current total grad norm\n",
    "        total_norm = 0.0\n",
    "        for p in model.parameters():\n",
    "            if p.grad is not None:\n",
    "                param_norm = p.grad.data.norm(2)\n",
    "                total_norm += param_norm.item() ** 2\n",
    "        total_norm = total_norm ** 0.5\n",
    "\n",
    "        # initialize or update EMA of grad norms\n",
    "        if ema_grad_norm is None:\n",
    "            ema_grad_norm = total_norm\n",
    "        else:\n",
    "            ema_grad_norm = ema_decay * ema_grad_norm + (1.0 - ema_decay) * total_norm\n",
    "\n",
    "        # set clipping threshold\n",
    "        max_grad_norm = ema_grad_norm * clip_factor\n",
    "\n",
    "        # clip gradients\n",
    "        nn_utils.clip_grad_norm_(model.parameters(), max_grad_norm)\n",
    "\n",
    "        # optimizer step\n",
    "        scaler.step(optimizer)\n",
    "        scaler.update()\n",
    "\n",
    "        step += 1\n",
    "\n",
    "        # update progress bar\n",
    "        allocated = torch.cuda.memory_allocated(device) / (1024**2)\n",
    "        pbar.set_postfix({\n",
    "            'loss': f'{loss.item():.4f}',\n",
    "            'grad_norm': f'{total_norm:.2f}',\n",
    "            'ema_norm': f'{ema_grad_norm:.2f}',\n",
    "            'clip_thr': f'{max_grad_norm:.2f}',\n",
    "            'step': step,\n",
    "            'vram': f'{allocated:.1f}MB'\n",
    "        })\n",
    "        losses.append((step, epoch, loss.item()))\n",
    "\n",
    "    return losses, step, allocated\n"
   ]
  },
  {
   "cell_type": "markdown",
   "id": "cbedfd61",
   "metadata": {
    "id": "cbedfd61"
   },
   "source": [
    "## Generation Function"
   ]
  },
  {
   "cell_type": "code",
   "execution_count": 12,
   "id": "e91075e8",
   "metadata": {
    "id": "e91075e8"
   },
   "outputs": [],
   "source": [
    "def train_model(model, train_loader, val_loader, criterion, optimizer, device, epochs):\n",
    "    all_train_losses = []\n",
    "    all_val_losses = []\n",
    "    all_vram_usages = []\n",
    "    step = 0\n",
    "\n",
    "    for epoch in range(1, epochs + 1):\n",
    "        epoch_start_time = time.time()\n",
    "        # Training phase with tqdm updates\n",
    "        epoch_train_losses, step, vram_usage = train(model, train_loader, criterion, optimizer, device, epoch, step)\n",
    "        all_train_losses.extend(epoch_train_losses)\n",
    "        all_vram_usages.append(vram_usage)\n",
    "        \n",
    "        # Validation phase\n",
    "        epoch_val_losses = validate(model, val_loader, criterion, device, epoch, step)\n",
    "        all_val_losses.extend(epoch_val_losses)\n",
    "        \n",
    "        epoch_time = time.time() - epoch_start_time\n",
    "        \n",
    "        print(f'Epoch {epoch}/{epochs}, Train Loss: {epoch_train_losses[-1][2]:.4f}, '\n",
    "              f'Val Loss: {epoch_val_losses[-1][2]:.4f}, Epoch Time: {epoch_time:.2f}s',\n",
    "              f'Average Vram Usage: {np.mean(vram_usage):.2f}MB')\n",
    "\n",
    "    train_losses_df = pd.DataFrame(all_train_losses, columns=['step', 'epoch', 'loss_value'])\n",
    "    val_losses_df = pd.DataFrame(all_val_losses, columns=['step', 'epoch', 'loss_value'])\n",
    "    # average_vram_usage = np.mean(all_vram_usages)\n",
    "    return model, train_losses_df, val_losses_df\n"
   ]
  },
  {
   "cell_type": "code",
   "execution_count": 13,
   "id": "4535c886",
   "metadata": {
    "id": "4535c886"
   },
   "outputs": [],
   "source": [
    "def generate_text(model, char_to_idx, idx_to_char, start_text, device, max_length=500):\n",
    "    model.eval()\n",
    "    current_text = start_text\n",
    "    hidden = None\n",
    "\n",
    "    with torch.no_grad():\n",
    "        for _ in range(max_length):\n",
    "            x = torch.tensor([[char_to_idx[ch] for ch in current_text[-SEQUENCE_LENGTH:]]]).to(device)\n",
    "            output, hidden = model(x, hidden)\n",
    "            probs = torch.softmax(output[0, -1], dim=0)\n",
    "            next_char_idx = torch.multinomial(probs, 1).item()\n",
    "            next_char = idx_to_char[next_char_idx]\n",
    "            current_text += next_char\n",
    "\n",
    "    return current_text"
   ]
  },
  {
   "cell_type": "code",
   "execution_count": 14,
   "id": "6aef1cf9",
   "metadata": {},
   "outputs": [],
   "source": [
    "loss_comparison_dict = {}\n",
    "\n",
    "def add_loss_to_comparison(model_name, train_losses_df, val_losses_df):\n",
    "    \"\"\"\n",
    "    Adds training and validation losses from a model to the comparison dictionary.\n",
    "    \"\"\"\n",
    "    loss_comparison_dict[model_name] = {\n",
    "        'train': train_losses_df,\n",
    "        'val': val_losses_df\n",
    "    }\n",
    "\n",
    "def print_final_losses(loss_dict):\n",
    "    for model_name, losses in loss_dict.items():\n",
    "        train_df = losses['train']\n",
    "        val_df = losses['val']\n",
    "        final_train = train_df.groupby('epoch')['loss_value'].last().iloc[-1]\n",
    "        final_val = val_df.groupby('epoch')['loss_value'].last().iloc[-1]\n",
    "        print(f\"{model_name}: Final Train Loss: {final_train:.4f}, Final Val Loss: {final_val:.4f}\")"
   ]
  },
  {
   "cell_type": "code",
   "execution_count": 15,
   "id": "973b4a80",
   "metadata": {
    "id": "973b4a80"
   },
   "outputs": [],
   "source": [
    "# Function to plot loss curves\n",
    "def plot_loss(train_losses_df, val_losses_df):\n",
    "    plt.figure(figsize=(10, 5))\n",
    "\n",
    "    # Plot training losses\n",
    "    for epoch in train_losses_df['epoch'].unique():\n",
    "        epoch_train_losses = train_losses_df[train_losses_df['epoch'] == epoch]\n",
    "        plt.plot(epoch_train_losses['step'], epoch_train_losses['loss_value'],\n",
    "                 color='blue', alpha=0.3)\n",
    "\n",
    "    # scatter training loss at the end of each epoch\n",
    "    last_train_losses = train_losses_df.groupby('epoch').last().reset_index()\n",
    "    plt.scatter(last_train_losses['step'], last_train_losses['loss_value'],\n",
    "                color='blue')\n",
    "\n",
    "    # Plot and scatter validation loss at the end of each epoch\n",
    "    last_val_losses = val_losses_df.groupby('epoch').last().reset_index()\n",
    "    plt.plot(last_val_losses['step'], last_val_losses['loss_value'],\n",
    "             color='orange', label='Validation Loss')\n",
    "    plt.scatter(last_val_losses['step'], last_val_losses['loss_value'],\n",
    "                color='orange')\n",
    "\n",
    "    plt.xlabel('Steps')\n",
    "    plt.ylabel('Loss')\n",
    "    plt.title('Training and Validation Loss')\n",
    "    plt.legend()\n",
    "    plt.grid(True)\n",
    "    plt.show()\n",
    "\n",
    "# Function to print final loss values\n",
    "def print_final_losses(train_losses_df, val_losses_df):\n",
    "    print(\"Final Training Loss:\", train_losses_df.groupby('epoch')['loss_value'].last().iloc[-1])\n",
    "    print(\"Final Validation Loss:\", val_losses_df.groupby('epoch')['loss_value'].last().iloc[-1])"
   ]
  },
  {
   "cell_type": "code",
   "execution_count": 16,
   "id": "5001e203",
   "metadata": {
    "id": "5001e203"
   },
   "outputs": [],
   "source": [
    "# Function to plot loss curves for multiple models stored in loss_comparison_dict\n",
    "def plot_loss_comparisons():\n",
    "    \"\"\"\n",
    "    Plots the training loss curves and average validation loss per epoch for multiple models added to the loss comparison dictionary.\n",
    "    \"\"\"\n",
    "    plt.figure(figsize=(10, 5))\n",
    "    \n",
    "    # Get the last model in the dictionary (for special final-point highlighting)\n",
    "    last_model_name = list(loss_comparison_dict.keys())[-1]\n",
    "\n",
    "    # Loop through each model in the loss dictionary\n",
    "    for model_name, losses in loss_comparison_dict.items():\n",
    "        train_losses_df = losses['train']\n",
    "        val_losses_df = losses['val']\n",
    "\n",
    "        # Plot training losses for each model\n",
    "        plt.plot(train_losses_df['step'], train_losses_df['loss_value'],\n",
    "                 label=f'{model_name} train', linestyle='-', alpha=0.7)\n",
    "\n",
    "        # Scatter training loss at the end of each epoch\n",
    "        last_train_losses = train_losses_df.groupby('epoch').last().reset_index()\n",
    "        plt.scatter(last_train_losses['step'], last_train_losses['loss_value'], marker='o', s=50)\n",
    "\n",
    "        # Compute average validation loss per epoch (using the last step of each epoch for x-axis)\n",
    "        avg_val_losses = val_losses_df.groupby('epoch').agg({'loss_value': 'mean', 'step': 'last'}).reset_index()\n",
    "        # Scatter the average validation loss for each epoch\n",
    "        plt.scatter(avg_val_losses['step'], avg_val_losses['loss_value'], marker='s', s=50,\n",
    "                    label=f'{model_name} val avg')\n",
    "\n",
    "        # For the last model, highlight the final training loss with a star\n",
    "        if model_name == last_model_name:\n",
    "            final_step = train_losses_df['step'].iloc[-1]\n",
    "            final_loss = train_losses_df['loss_value'].iloc[-1]\n",
    "            plt.scatter(final_step, final_loss, marker='*', s=100, color='red', zorder=5)\n",
    "\n",
    "    plt.xlabel('Steps')\n",
    "    plt.ylabel('Loss')\n",
    "    plt.title('Training Loss Comparison')\n",
    "    plt.legend()  # Legend shows both training and validation average labels\n",
    "    plt.grid(True)\n",
    "    plt.show()\n"
   ]
  },
  {
   "cell_type": "code",
   "execution_count": 17,
   "id": "16777ffd",
   "metadata": {},
   "outputs": [],
   "source": [
    "def plot_separate_train_val(loss_dict):\n",
    "    \"\"\"\n",
    "    모델별 Training Loss와 Validation Loss를 각각 별도의 그래프로 그립니다.\n",
    "    단, Validation Loss는 에포크별 평균으로 계산합니다.\n",
    "    \"\"\"\n",
    "    # 1. Training Loss Plot (원본 그대로)\n",
    "    plt.figure(figsize=(20, 5))\n",
    "    plt.subplot(1, 2, 1)  # 1행 2열 중 첫 번째\n",
    "    for model_name, losses in loss_dict.items():\n",
    "        train_df = losses['train']\n",
    "        steps_train = train_df['step'].values\n",
    "        loss_train = train_df['loss_value'].values\n",
    "        plt.plot(steps_train, loss_train, label=f'{model_name} Train')\n",
    "    plt.title('Training Loss Comparison')\n",
    "    plt.xlabel('Steps')\n",
    "    plt.ylabel('Loss')\n",
    "    plt.legend()\n",
    "    plt.grid(True)\n",
    "\n",
    "    # 2. Validation Loss Plot (에포크별 평균 처리)\n",
    "    plt.subplot(1, 2, 2)  # 1행 2열 중 두 번째\n",
    "    for model_name, losses in loss_dict.items():\n",
    "        val_df = losses['val']\n",
    "        # 에포크별 평균 loss와 마지막 step을 계산\n",
    "        val_avg = val_df.groupby('epoch').agg({'loss_value': 'mean', 'step': 'last'}).reset_index()\n",
    "        plt.plot(val_avg['step'], val_avg['loss_value'], label=f'{model_name} Val')\n",
    "    plt.title('Validation Loss (Epoch Avg) Comparison')\n",
    "    plt.xlabel('Steps')\n",
    "    plt.ylabel('Loss')\n",
    "    plt.legend()\n",
    "    plt.grid(True)\n",
    "\n",
    "    plt.tight_layout()\n",
    "    plt.show()\n"
   ]
  },
  {
   "cell_type": "markdown",
   "id": "aa1eb8ad",
   "metadata": {
    "id": "aa1eb8ad"
   },
   "source": [
    "## Model 1: GRU Decoder"
   ]
  },
  {
   "cell_type": "code",
   "execution_count": 18,
   "id": "e017e89b",
   "metadata": {
    "id": "e017e89b"
   },
   "outputs": [],
   "source": [
    "import torch\n",
    "import torch.nn as nn\n",
    "import torch.nn.functional as F\n",
    "\n",
    "class GRUCell(nn.Module):\n",
    "    def __init__(self, input_size, hidden_size):\n",
    "        super().__init__()\n",
    "        self.input_size = input_size\n",
    "        self.hidden_size = hidden_size\n",
    "        self.linear_ih = nn.Linear(input_size, 3 * hidden_size)\n",
    "        self.linear_hh = nn.Linear(hidden_size, 3 * hidden_size)\n",
    "\n",
    "    def forward(self, x_t, h_prev):\n",
    "        gates_ih = self.linear_ih(x_t)     # (batch, 3*hidden)\n",
    "        gates_hh = self.linear_hh(h_prev)  # (batch, 3*hidden)\n",
    "        i_r, i_z, i_n = gates_ih.chunk(3, dim=1)\n",
    "        h_r, h_z, h_n = gates_hh.chunk(3, dim=1)\n",
    "        r_t = torch.sigmoid(i_r + h_r)\n",
    "        z_t = torch.sigmoid(i_z + h_z)\n",
    "        n_t = torch.tanh(i_n + r_t * h_n)\n",
    "        h_t = (1 - z_t) * n_t + z_t * h_prev\n",
    "        return h_t\n",
    "\n",
    "class GRUDecoder(nn.Module):\n",
    "    def __init__(\n",
    "        self,\n",
    "        vocab_size: int,\n",
    "        embedding_dim: int,\n",
    "        hidden_dim: int,\n",
    "        ffn_dim: int,\n",
    "        num_layers: int,\n",
    "        dropout: float = 0.1\n",
    "    ):\n",
    "        super().__init__()\n",
    "        self.embedding = nn.Embedding(vocab_size, embedding_dim)\n",
    "        self.cells = nn.ModuleList()\n",
    "        for layer in range(num_layers):\n",
    "            in_dim = embedding_dim if layer == 0 else hidden_dim\n",
    "            self.cells.append(GRUCell(in_dim, hidden_dim))\n",
    "        self.num_layers = num_layers\n",
    "\n",
    "        self.fc1 = nn.Linear(hidden_dim, ffn_dim)\n",
    "        self.fc2 = nn.Linear(ffn_dim, vocab_size)\n",
    "        self.dropout = nn.Dropout(dropout)\n",
    "        self.layer_norm = nn.LayerNorm(hidden_dim)\n",
    "\n",
    "    def forward(self, x, hidden=None):\n",
    "        \"\"\"\n",
    "        x: LongTensor of shape (batch, seq_len)\n",
    "        hidden: FloatTensor of shape (num_layers, batch, hidden_dim), or None\n",
    "        \"\"\"\n",
    "        embed = self.embedding(x)        # (batch, seq_len, embedding_dim)\n",
    "        batch_size, seq_len, _ = embed.size()\n",
    "\n",
    "        # initialize hidden states if not provided\n",
    "        if hidden is None:\n",
    "            hiddens = [\n",
    "                torch.zeros(batch_size, self.cells[0].hidden_size, device=embed.device)\n",
    "                for _ in range(self.num_layers)\n",
    "            ]\n",
    "        else:\n",
    "            # split provided hidden tensor into list per layer\n",
    "            hiddens = [hidden[layer] for layer in range(self.num_layers)]\n",
    "\n",
    "        layer_input = embed\n",
    "        # pass through each layer of GRUCell\n",
    "        for layer_idx, cell in enumerate(self.cells):\n",
    "            h_prev = hiddens[layer_idx]\n",
    "            outputs = []\n",
    "            for t in range(seq_len):\n",
    "                h_prev = cell(layer_input[:, t, :], h_prev)\n",
    "                outputs.append(h_prev.unsqueeze(1))\n",
    "            layer_output = torch.cat(outputs, dim=1)  # (batch, seq_len, hidden_dim)\n",
    "            layer_input = layer_output\n",
    "            hiddens[layer_idx] = h_prev\n",
    "\n",
    "        # apply dropout, layer norm, and feed-forward\n",
    "        out = self.dropout(layer_output)\n",
    "        out = self.layer_norm(out)\n",
    "        out = F.gelu(self.fc1(out))\n",
    "        out = self.fc2(out)  # (batch, seq_len, vocab_size)\n",
    "\n",
    "        # stack hiddens back into tensor of shape (num_layers, batch, hidden_dim)\n",
    "        hidden_out = torch.stack(hiddens, dim=0)\n",
    "        return out, hidden_out\n"
   ]
  },
  {
   "cell_type": "code",
   "execution_count": 19,
   "id": "9a3581e4",
   "metadata": {
    "id": "9a3581e4"
   },
   "outputs": [],
   "source": [
    "### Model Initialization\n",
    "gru = GRUDecoder(vocab_size, EMBEDDING_DIM, HIDDEN_DIM, FFN_DIM, NUM_LAYERS).to(device)\n",
    "criterion = nn.CrossEntropyLoss()\n",
    "optimizer = optim.AdamW(gru.parameters(), lr=LEARNING_RATE, fused=True)"
   ]
  },
  {
   "cell_type": "code",
   "execution_count": 20,
   "id": "2fe18507",
   "metadata": {},
   "outputs": [
    {
     "data": {
      "text/plain": [
       "==========================================================================================\n",
       "Layer (type:depth-idx)                   Output Shape              Param #\n",
       "==========================================================================================\n",
       "GRUDecoder                               [512, 64, 65]             --\n",
       "├─Embedding: 1-1                         [512, 64, 32]             2,080\n",
       "├─ModuleList: 1-2                        --                        --\n",
       "│    └─GRUCell: 2-1                      [512, 64]                 --\n",
       "│    │    └─Linear: 3-1                  [512, 192]                6,336\n",
       "│    │    └─Linear: 3-2                  [512, 192]                12,480\n",
       "│    └─GRUCell: 2-2                      [512, 64]                 (recursive)\n",
       "│    │    └─Linear: 3-3                  [512, 192]                (recursive)\n",
       "│    │    └─Linear: 3-4                  [512, 192]                (recursive)\n",
       "│    └─GRUCell: 2-3                      [512, 64]                 (recursive)\n",
       "│    │    └─Linear: 3-5                  [512, 192]                (recursive)\n",
       "│    │    └─Linear: 3-6                  [512, 192]                (recursive)\n",
       "│    └─GRUCell: 2-4                      [512, 64]                 (recursive)\n",
       "│    │    └─Linear: 3-7                  [512, 192]                (recursive)\n",
       "│    │    └─Linear: 3-8                  [512, 192]                (recursive)\n",
       "│    └─GRUCell: 2-5                      [512, 64]                 (recursive)\n",
       "│    │    └─Linear: 3-9                  [512, 192]                (recursive)\n",
       "│    │    └─Linear: 3-10                 [512, 192]                (recursive)\n",
       "│    └─GRUCell: 2-6                      [512, 64]                 (recursive)\n",
       "│    │    └─Linear: 3-11                 [512, 192]                (recursive)\n",
       "│    │    └─Linear: 3-12                 [512, 192]                (recursive)\n",
       "│    └─GRUCell: 2-7                      [512, 64]                 (recursive)\n",
       "│    │    └─Linear: 3-13                 [512, 192]                (recursive)\n",
       "│    │    └─Linear: 3-14                 [512, 192]                (recursive)\n",
       "│    └─GRUCell: 2-8                      [512, 64]                 (recursive)\n",
       "│    │    └─Linear: 3-15                 [512, 192]                (recursive)\n",
       "│    │    └─Linear: 3-16                 [512, 192]                (recursive)\n",
       "│    └─GRUCell: 2-9                      [512, 64]                 (recursive)\n",
       "│    │    └─Linear: 3-17                 [512, 192]                (recursive)\n",
       "│    │    └─Linear: 3-18                 [512, 192]                (recursive)\n",
       "│    └─GRUCell: 2-10                     [512, 64]                 (recursive)\n",
       "│    │    └─Linear: 3-19                 [512, 192]                (recursive)\n",
       "│    │    └─Linear: 3-20                 [512, 192]                (recursive)\n",
       "│    └─GRUCell: 2-11                     [512, 64]                 (recursive)\n",
       "│    │    └─Linear: 3-21                 [512, 192]                (recursive)\n",
       "│    │    └─Linear: 3-22                 [512, 192]                (recursive)\n",
       "│    └─GRUCell: 2-12                     [512, 64]                 (recursive)\n",
       "│    │    └─Linear: 3-23                 [512, 192]                (recursive)\n",
       "│    │    └─Linear: 3-24                 [512, 192]                (recursive)\n",
       "│    └─GRUCell: 2-13                     [512, 64]                 (recursive)\n",
       "│    │    └─Linear: 3-25                 [512, 192]                (recursive)\n",
       "│    │    └─Linear: 3-26                 [512, 192]                (recursive)\n",
       "│    └─GRUCell: 2-14                     [512, 64]                 (recursive)\n",
       "│    │    └─Linear: 3-27                 [512, 192]                (recursive)\n",
       "│    │    └─Linear: 3-28                 [512, 192]                (recursive)\n",
       "│    └─GRUCell: 2-15                     [512, 64]                 (recursive)\n",
       "│    │    └─Linear: 3-29                 [512, 192]                (recursive)\n",
       "│    │    └─Linear: 3-30                 [512, 192]                (recursive)\n",
       "│    └─GRUCell: 2-16                     [512, 64]                 (recursive)\n",
       "│    │    └─Linear: 3-31                 [512, 192]                (recursive)\n",
       "│    │    └─Linear: 3-32                 [512, 192]                (recursive)\n",
       "│    └─GRUCell: 2-17                     [512, 64]                 (recursive)\n",
       "│    │    └─Linear: 3-33                 [512, 192]                (recursive)\n",
       "│    │    └─Linear: 3-34                 [512, 192]                (recursive)\n",
       "│    └─GRUCell: 2-18                     [512, 64]                 (recursive)\n",
       "│    │    └─Linear: 3-35                 [512, 192]                (recursive)\n",
       "│    │    └─Linear: 3-36                 [512, 192]                (recursive)\n",
       "│    └─GRUCell: 2-19                     [512, 64]                 (recursive)\n",
       "│    │    └─Linear: 3-37                 [512, 192]                (recursive)\n",
       "│    │    └─Linear: 3-38                 [512, 192]                (recursive)\n",
       "│    └─GRUCell: 2-20                     [512, 64]                 (recursive)\n",
       "│    │    └─Linear: 3-39                 [512, 192]                (recursive)\n",
       "│    │    └─Linear: 3-40                 [512, 192]                (recursive)\n",
       "│    └─GRUCell: 2-21                     [512, 64]                 (recursive)\n",
       "│    │    └─Linear: 3-41                 [512, 192]                (recursive)\n",
       "│    │    └─Linear: 3-42                 [512, 192]                (recursive)\n",
       "│    └─GRUCell: 2-22                     [512, 64]                 (recursive)\n",
       "│    │    └─Linear: 3-43                 [512, 192]                (recursive)\n",
       "│    │    └─Linear: 3-44                 [512, 192]                (recursive)\n",
       "│    └─GRUCell: 2-23                     [512, 64]                 (recursive)\n",
       "│    │    └─Linear: 3-45                 [512, 192]                (recursive)\n",
       "│    │    └─Linear: 3-46                 [512, 192]                (recursive)\n",
       "│    └─GRUCell: 2-24                     [512, 64]                 (recursive)\n",
       "│    │    └─Linear: 3-47                 [512, 192]                (recursive)\n",
       "│    │    └─Linear: 3-48                 [512, 192]                (recursive)\n",
       "│    └─GRUCell: 2-25                     [512, 64]                 (recursive)\n",
       "│    │    └─Linear: 3-49                 [512, 192]                (recursive)\n",
       "│    │    └─Linear: 3-50                 [512, 192]                (recursive)\n",
       "│    └─GRUCell: 2-26                     [512, 64]                 (recursive)\n",
       "│    │    └─Linear: 3-51                 [512, 192]                (recursive)\n",
       "│    │    └─Linear: 3-52                 [512, 192]                (recursive)\n",
       "│    └─GRUCell: 2-27                     [512, 64]                 (recursive)\n",
       "│    │    └─Linear: 3-53                 [512, 192]                (recursive)\n",
       "│    │    └─Linear: 3-54                 [512, 192]                (recursive)\n",
       "│    └─GRUCell: 2-28                     [512, 64]                 (recursive)\n",
       "│    │    └─Linear: 3-55                 [512, 192]                (recursive)\n",
       "│    │    └─Linear: 3-56                 [512, 192]                (recursive)\n",
       "│    └─GRUCell: 2-29                     [512, 64]                 (recursive)\n",
       "│    │    └─Linear: 3-57                 [512, 192]                (recursive)\n",
       "│    │    └─Linear: 3-58                 [512, 192]                (recursive)\n",
       "│    └─GRUCell: 2-30                     [512, 64]                 (recursive)\n",
       "│    │    └─Linear: 3-59                 [512, 192]                (recursive)\n",
       "│    │    └─Linear: 3-60                 [512, 192]                (recursive)\n",
       "│    └─GRUCell: 2-31                     [512, 64]                 (recursive)\n",
       "│    │    └─Linear: 3-61                 [512, 192]                (recursive)\n",
       "│    │    └─Linear: 3-62                 [512, 192]                (recursive)\n",
       "│    └─GRUCell: 2-32                     [512, 64]                 (recursive)\n",
       "│    │    └─Linear: 3-63                 [512, 192]                (recursive)\n",
       "│    │    └─Linear: 3-64                 [512, 192]                (recursive)\n",
       "│    └─GRUCell: 2-33                     [512, 64]                 (recursive)\n",
       "│    │    └─Linear: 3-65                 [512, 192]                (recursive)\n",
       "│    │    └─Linear: 3-66                 [512, 192]                (recursive)\n",
       "│    └─GRUCell: 2-34                     [512, 64]                 (recursive)\n",
       "│    │    └─Linear: 3-67                 [512, 192]                (recursive)\n",
       "│    │    └─Linear: 3-68                 [512, 192]                (recursive)\n",
       "│    └─GRUCell: 2-35                     [512, 64]                 (recursive)\n",
       "│    │    └─Linear: 3-69                 [512, 192]                (recursive)\n",
       "│    │    └─Linear: 3-70                 [512, 192]                (recursive)\n",
       "│    └─GRUCell: 2-36                     [512, 64]                 (recursive)\n",
       "│    │    └─Linear: 3-71                 [512, 192]                (recursive)\n",
       "│    │    └─Linear: 3-72                 [512, 192]                (recursive)\n",
       "│    └─GRUCell: 2-37                     [512, 64]                 (recursive)\n",
       "│    │    └─Linear: 3-73                 [512, 192]                (recursive)\n",
       "│    │    └─Linear: 3-74                 [512, 192]                (recursive)\n",
       "│    └─GRUCell: 2-38                     [512, 64]                 (recursive)\n",
       "│    │    └─Linear: 3-75                 [512, 192]                (recursive)\n",
       "│    │    └─Linear: 3-76                 [512, 192]                (recursive)\n",
       "│    └─GRUCell: 2-39                     [512, 64]                 (recursive)\n",
       "│    │    └─Linear: 3-77                 [512, 192]                (recursive)\n",
       "│    │    └─Linear: 3-78                 [512, 192]                (recursive)\n",
       "│    └─GRUCell: 2-40                     [512, 64]                 (recursive)\n",
       "│    │    └─Linear: 3-79                 [512, 192]                (recursive)\n",
       "│    │    └─Linear: 3-80                 [512, 192]                (recursive)\n",
       "│    └─GRUCell: 2-41                     [512, 64]                 (recursive)\n",
       "│    │    └─Linear: 3-81                 [512, 192]                (recursive)\n",
       "│    │    └─Linear: 3-82                 [512, 192]                (recursive)\n",
       "│    └─GRUCell: 2-42                     [512, 64]                 (recursive)\n",
       "│    │    └─Linear: 3-83                 [512, 192]                (recursive)\n",
       "│    │    └─Linear: 3-84                 [512, 192]                (recursive)\n",
       "│    └─GRUCell: 2-43                     [512, 64]                 (recursive)\n",
       "│    │    └─Linear: 3-85                 [512, 192]                (recursive)\n",
       "│    │    └─Linear: 3-86                 [512, 192]                (recursive)\n",
       "│    └─GRUCell: 2-44                     [512, 64]                 (recursive)\n",
       "│    │    └─Linear: 3-87                 [512, 192]                (recursive)\n",
       "│    │    └─Linear: 3-88                 [512, 192]                (recursive)\n",
       "│    └─GRUCell: 2-45                     [512, 64]                 (recursive)\n",
       "│    │    └─Linear: 3-89                 [512, 192]                (recursive)\n",
       "│    │    └─Linear: 3-90                 [512, 192]                (recursive)\n",
       "│    └─GRUCell: 2-46                     [512, 64]                 (recursive)\n",
       "│    │    └─Linear: 3-91                 [512, 192]                (recursive)\n",
       "│    │    └─Linear: 3-92                 [512, 192]                (recursive)\n",
       "│    └─GRUCell: 2-47                     [512, 64]                 (recursive)\n",
       "│    │    └─Linear: 3-93                 [512, 192]                (recursive)\n",
       "│    │    └─Linear: 3-94                 [512, 192]                (recursive)\n",
       "│    └─GRUCell: 2-48                     [512, 64]                 (recursive)\n",
       "│    │    └─Linear: 3-95                 [512, 192]                (recursive)\n",
       "│    │    └─Linear: 3-96                 [512, 192]                (recursive)\n",
       "│    └─GRUCell: 2-49                     [512, 64]                 (recursive)\n",
       "│    │    └─Linear: 3-97                 [512, 192]                (recursive)\n",
       "│    │    └─Linear: 3-98                 [512, 192]                (recursive)\n",
       "│    └─GRUCell: 2-50                     [512, 64]                 (recursive)\n",
       "│    │    └─Linear: 3-99                 [512, 192]                (recursive)\n",
       "│    │    └─Linear: 3-100                [512, 192]                (recursive)\n",
       "│    └─GRUCell: 2-51                     [512, 64]                 (recursive)\n",
       "│    │    └─Linear: 3-101                [512, 192]                (recursive)\n",
       "│    │    └─Linear: 3-102                [512, 192]                (recursive)\n",
       "│    └─GRUCell: 2-52                     [512, 64]                 (recursive)\n",
       "│    │    └─Linear: 3-103                [512, 192]                (recursive)\n",
       "│    │    └─Linear: 3-104                [512, 192]                (recursive)\n",
       "│    └─GRUCell: 2-53                     [512, 64]                 (recursive)\n",
       "│    │    └─Linear: 3-105                [512, 192]                (recursive)\n",
       "│    │    └─Linear: 3-106                [512, 192]                (recursive)\n",
       "│    └─GRUCell: 2-54                     [512, 64]                 (recursive)\n",
       "│    │    └─Linear: 3-107                [512, 192]                (recursive)\n",
       "│    │    └─Linear: 3-108                [512, 192]                (recursive)\n",
       "│    └─GRUCell: 2-55                     [512, 64]                 (recursive)\n",
       "│    │    └─Linear: 3-109                [512, 192]                (recursive)\n",
       "│    │    └─Linear: 3-110                [512, 192]                (recursive)\n",
       "│    └─GRUCell: 2-56                     [512, 64]                 (recursive)\n",
       "│    │    └─Linear: 3-111                [512, 192]                (recursive)\n",
       "│    │    └─Linear: 3-112                [512, 192]                (recursive)\n",
       "│    └─GRUCell: 2-57                     [512, 64]                 (recursive)\n",
       "│    │    └─Linear: 3-113                [512, 192]                (recursive)\n",
       "│    │    └─Linear: 3-114                [512, 192]                (recursive)\n",
       "│    └─GRUCell: 2-58                     [512, 64]                 (recursive)\n",
       "│    │    └─Linear: 3-115                [512, 192]                (recursive)\n",
       "│    │    └─Linear: 3-116                [512, 192]                (recursive)\n",
       "│    └─GRUCell: 2-59                     [512, 64]                 (recursive)\n",
       "│    │    └─Linear: 3-117                [512, 192]                (recursive)\n",
       "│    │    └─Linear: 3-118                [512, 192]                (recursive)\n",
       "│    └─GRUCell: 2-60                     [512, 64]                 (recursive)\n",
       "│    │    └─Linear: 3-119                [512, 192]                (recursive)\n",
       "│    │    └─Linear: 3-120                [512, 192]                (recursive)\n",
       "│    └─GRUCell: 2-61                     [512, 64]                 (recursive)\n",
       "│    │    └─Linear: 3-121                [512, 192]                (recursive)\n",
       "│    │    └─Linear: 3-122                [512, 192]                (recursive)\n",
       "│    └─GRUCell: 2-62                     [512, 64]                 (recursive)\n",
       "│    │    └─Linear: 3-123                [512, 192]                (recursive)\n",
       "│    │    └─Linear: 3-124                [512, 192]                (recursive)\n",
       "│    └─GRUCell: 2-63                     [512, 64]                 (recursive)\n",
       "│    │    └─Linear: 3-125                [512, 192]                (recursive)\n",
       "│    │    └─Linear: 3-126                [512, 192]                (recursive)\n",
       "│    └─GRUCell: 2-64                     [512, 64]                 (recursive)\n",
       "│    │    └─Linear: 3-127                [512, 192]                (recursive)\n",
       "│    │    └─Linear: 3-128                [512, 192]                (recursive)\n",
       "│    └─GRUCell: 2-65                     [512, 64]                 --\n",
       "│    │    └─Linear: 3-129                [512, 192]                12,480\n",
       "│    │    └─Linear: 3-130                [512, 192]                12,480\n",
       "│    └─GRUCell: 2-66                     [512, 64]                 (recursive)\n",
       "│    │    └─Linear: 3-131                [512, 192]                (recursive)\n",
       "│    │    └─Linear: 3-132                [512, 192]                (recursive)\n",
       "│    └─GRUCell: 2-67                     [512, 64]                 (recursive)\n",
       "│    │    └─Linear: 3-133                [512, 192]                (recursive)\n",
       "│    │    └─Linear: 3-134                [512, 192]                (recursive)\n",
       "│    └─GRUCell: 2-68                     [512, 64]                 (recursive)\n",
       "│    │    └─Linear: 3-135                [512, 192]                (recursive)\n",
       "│    │    └─Linear: 3-136                [512, 192]                (recursive)\n",
       "│    └─GRUCell: 2-69                     [512, 64]                 (recursive)\n",
       "│    │    └─Linear: 3-137                [512, 192]                (recursive)\n",
       "│    │    └─Linear: 3-138                [512, 192]                (recursive)\n",
       "│    └─GRUCell: 2-70                     [512, 64]                 (recursive)\n",
       "│    │    └─Linear: 3-139                [512, 192]                (recursive)\n",
       "│    │    └─Linear: 3-140                [512, 192]                (recursive)\n",
       "│    └─GRUCell: 2-71                     [512, 64]                 (recursive)\n",
       "│    │    └─Linear: 3-141                [512, 192]                (recursive)\n",
       "│    │    └─Linear: 3-142                [512, 192]                (recursive)\n",
       "│    └─GRUCell: 2-72                     [512, 64]                 (recursive)\n",
       "│    │    └─Linear: 3-143                [512, 192]                (recursive)\n",
       "│    │    └─Linear: 3-144                [512, 192]                (recursive)\n",
       "│    └─GRUCell: 2-73                     [512, 64]                 (recursive)\n",
       "│    │    └─Linear: 3-145                [512, 192]                (recursive)\n",
       "│    │    └─Linear: 3-146                [512, 192]                (recursive)\n",
       "│    └─GRUCell: 2-74                     [512, 64]                 (recursive)\n",
       "│    │    └─Linear: 3-147                [512, 192]                (recursive)\n",
       "│    │    └─Linear: 3-148                [512, 192]                (recursive)\n",
       "│    └─GRUCell: 2-75                     [512, 64]                 (recursive)\n",
       "│    │    └─Linear: 3-149                [512, 192]                (recursive)\n",
       "│    │    └─Linear: 3-150                [512, 192]                (recursive)\n",
       "│    └─GRUCell: 2-76                     [512, 64]                 (recursive)\n",
       "│    │    └─Linear: 3-151                [512, 192]                (recursive)\n",
       "│    │    └─Linear: 3-152                [512, 192]                (recursive)\n",
       "│    └─GRUCell: 2-77                     [512, 64]                 (recursive)\n",
       "│    │    └─Linear: 3-153                [512, 192]                (recursive)\n",
       "│    │    └─Linear: 3-154                [512, 192]                (recursive)\n",
       "│    └─GRUCell: 2-78                     [512, 64]                 (recursive)\n",
       "│    │    └─Linear: 3-155                [512, 192]                (recursive)\n",
       "│    │    └─Linear: 3-156                [512, 192]                (recursive)\n",
       "│    └─GRUCell: 2-79                     [512, 64]                 (recursive)\n",
       "│    │    └─Linear: 3-157                [512, 192]                (recursive)\n",
       "│    │    └─Linear: 3-158                [512, 192]                (recursive)\n",
       "│    └─GRUCell: 2-80                     [512, 64]                 (recursive)\n",
       "│    │    └─Linear: 3-159                [512, 192]                (recursive)\n",
       "│    │    └─Linear: 3-160                [512, 192]                (recursive)\n",
       "│    └─GRUCell: 2-81                     [512, 64]                 (recursive)\n",
       "│    │    └─Linear: 3-161                [512, 192]                (recursive)\n",
       "│    │    └─Linear: 3-162                [512, 192]                (recursive)\n",
       "│    └─GRUCell: 2-82                     [512, 64]                 (recursive)\n",
       "│    │    └─Linear: 3-163                [512, 192]                (recursive)\n",
       "│    │    └─Linear: 3-164                [512, 192]                (recursive)\n",
       "│    └─GRUCell: 2-83                     [512, 64]                 (recursive)\n",
       "│    │    └─Linear: 3-165                [512, 192]                (recursive)\n",
       "│    │    └─Linear: 3-166                [512, 192]                (recursive)\n",
       "│    └─GRUCell: 2-84                     [512, 64]                 (recursive)\n",
       "│    │    └─Linear: 3-167                [512, 192]                (recursive)\n",
       "│    │    └─Linear: 3-168                [512, 192]                (recursive)\n",
       "│    └─GRUCell: 2-85                     [512, 64]                 (recursive)\n",
       "│    │    └─Linear: 3-169                [512, 192]                (recursive)\n",
       "│    │    └─Linear: 3-170                [512, 192]                (recursive)\n",
       "│    └─GRUCell: 2-86                     [512, 64]                 (recursive)\n",
       "│    │    └─Linear: 3-171                [512, 192]                (recursive)\n",
       "│    │    └─Linear: 3-172                [512, 192]                (recursive)\n",
       "│    └─GRUCell: 2-87                     [512, 64]                 (recursive)\n",
       "│    │    └─Linear: 3-173                [512, 192]                (recursive)\n",
       "│    │    └─Linear: 3-174                [512, 192]                (recursive)\n",
       "│    └─GRUCell: 2-88                     [512, 64]                 (recursive)\n",
       "│    │    └─Linear: 3-175                [512, 192]                (recursive)\n",
       "│    │    └─Linear: 3-176                [512, 192]                (recursive)\n",
       "│    └─GRUCell: 2-89                     [512, 64]                 (recursive)\n",
       "│    │    └─Linear: 3-177                [512, 192]                (recursive)\n",
       "│    │    └─Linear: 3-178                [512, 192]                (recursive)\n",
       "│    └─GRUCell: 2-90                     [512, 64]                 (recursive)\n",
       "│    │    └─Linear: 3-179                [512, 192]                (recursive)\n",
       "│    │    └─Linear: 3-180                [512, 192]                (recursive)\n",
       "│    └─GRUCell: 2-91                     [512, 64]                 (recursive)\n",
       "│    │    └─Linear: 3-181                [512, 192]                (recursive)\n",
       "│    │    └─Linear: 3-182                [512, 192]                (recursive)\n",
       "│    └─GRUCell: 2-92                     [512, 64]                 (recursive)\n",
       "│    │    └─Linear: 3-183                [512, 192]                (recursive)\n",
       "│    │    └─Linear: 3-184                [512, 192]                (recursive)\n",
       "│    └─GRUCell: 2-93                     [512, 64]                 (recursive)\n",
       "│    │    └─Linear: 3-185                [512, 192]                (recursive)\n",
       "│    │    └─Linear: 3-186                [512, 192]                (recursive)\n",
       "│    └─GRUCell: 2-94                     [512, 64]                 (recursive)\n",
       "│    │    └─Linear: 3-187                [512, 192]                (recursive)\n",
       "│    │    └─Linear: 3-188                [512, 192]                (recursive)\n",
       "│    └─GRUCell: 2-95                     [512, 64]                 (recursive)\n",
       "│    │    └─Linear: 3-189                [512, 192]                (recursive)\n",
       "│    │    └─Linear: 3-190                [512, 192]                (recursive)\n",
       "│    └─GRUCell: 2-96                     [512, 64]                 (recursive)\n",
       "│    │    └─Linear: 3-191                [512, 192]                (recursive)\n",
       "│    │    └─Linear: 3-192                [512, 192]                (recursive)\n",
       "│    └─GRUCell: 2-97                     [512, 64]                 (recursive)\n",
       "│    │    └─Linear: 3-193                [512, 192]                (recursive)\n",
       "│    │    └─Linear: 3-194                [512, 192]                (recursive)\n",
       "│    └─GRUCell: 2-98                     [512, 64]                 (recursive)\n",
       "│    │    └─Linear: 3-195                [512, 192]                (recursive)\n",
       "│    │    └─Linear: 3-196                [512, 192]                (recursive)\n",
       "│    └─GRUCell: 2-99                     [512, 64]                 (recursive)\n",
       "│    │    └─Linear: 3-197                [512, 192]                (recursive)\n",
       "│    │    └─Linear: 3-198                [512, 192]                (recursive)\n",
       "│    └─GRUCell: 2-100                    [512, 64]                 (recursive)\n",
       "│    │    └─Linear: 3-199                [512, 192]                (recursive)\n",
       "│    │    └─Linear: 3-200                [512, 192]                (recursive)\n",
       "│    └─GRUCell: 2-101                    [512, 64]                 (recursive)\n",
       "│    │    └─Linear: 3-201                [512, 192]                (recursive)\n",
       "│    │    └─Linear: 3-202                [512, 192]                (recursive)\n",
       "│    └─GRUCell: 2-102                    [512, 64]                 (recursive)\n",
       "│    │    └─Linear: 3-203                [512, 192]                (recursive)\n",
       "│    │    └─Linear: 3-204                [512, 192]                (recursive)\n",
       "│    └─GRUCell: 2-103                    [512, 64]                 (recursive)\n",
       "│    │    └─Linear: 3-205                [512, 192]                (recursive)\n",
       "│    │    └─Linear: 3-206                [512, 192]                (recursive)\n",
       "│    └─GRUCell: 2-104                    [512, 64]                 (recursive)\n",
       "│    │    └─Linear: 3-207                [512, 192]                (recursive)\n",
       "│    │    └─Linear: 3-208                [512, 192]                (recursive)\n",
       "│    └─GRUCell: 2-105                    [512, 64]                 (recursive)\n",
       "│    │    └─Linear: 3-209                [512, 192]                (recursive)\n",
       "│    │    └─Linear: 3-210                [512, 192]                (recursive)\n",
       "│    └─GRUCell: 2-106                    [512, 64]                 (recursive)\n",
       "│    │    └─Linear: 3-211                [512, 192]                (recursive)\n",
       "│    │    └─Linear: 3-212                [512, 192]                (recursive)\n",
       "│    └─GRUCell: 2-107                    [512, 64]                 (recursive)\n",
       "│    │    └─Linear: 3-213                [512, 192]                (recursive)\n",
       "│    │    └─Linear: 3-214                [512, 192]                (recursive)\n",
       "│    └─GRUCell: 2-108                    [512, 64]                 (recursive)\n",
       "│    │    └─Linear: 3-215                [512, 192]                (recursive)\n",
       "│    │    └─Linear: 3-216                [512, 192]                (recursive)\n",
       "│    └─GRUCell: 2-109                    [512, 64]                 (recursive)\n",
       "│    │    └─Linear: 3-217                [512, 192]                (recursive)\n",
       "│    │    └─Linear: 3-218                [512, 192]                (recursive)\n",
       "│    └─GRUCell: 2-110                    [512, 64]                 (recursive)\n",
       "│    │    └─Linear: 3-219                [512, 192]                (recursive)\n",
       "│    │    └─Linear: 3-220                [512, 192]                (recursive)\n",
       "│    └─GRUCell: 2-111                    [512, 64]                 (recursive)\n",
       "│    │    └─Linear: 3-221                [512, 192]                (recursive)\n",
       "│    │    └─Linear: 3-222                [512, 192]                (recursive)\n",
       "│    └─GRUCell: 2-112                    [512, 64]                 (recursive)\n",
       "│    │    └─Linear: 3-223                [512, 192]                (recursive)\n",
       "│    │    └─Linear: 3-224                [512, 192]                (recursive)\n",
       "│    └─GRUCell: 2-113                    [512, 64]                 (recursive)\n",
       "│    │    └─Linear: 3-225                [512, 192]                (recursive)\n",
       "│    │    └─Linear: 3-226                [512, 192]                (recursive)\n",
       "│    └─GRUCell: 2-114                    [512, 64]                 (recursive)\n",
       "│    │    └─Linear: 3-227                [512, 192]                (recursive)\n",
       "│    │    └─Linear: 3-228                [512, 192]                (recursive)\n",
       "│    └─GRUCell: 2-115                    [512, 64]                 (recursive)\n",
       "│    │    └─Linear: 3-229                [512, 192]                (recursive)\n",
       "│    │    └─Linear: 3-230                [512, 192]                (recursive)\n",
       "│    └─GRUCell: 2-116                    [512, 64]                 (recursive)\n",
       "│    │    └─Linear: 3-231                [512, 192]                (recursive)\n",
       "│    │    └─Linear: 3-232                [512, 192]                (recursive)\n",
       "│    └─GRUCell: 2-117                    [512, 64]                 (recursive)\n",
       "│    │    └─Linear: 3-233                [512, 192]                (recursive)\n",
       "│    │    └─Linear: 3-234                [512, 192]                (recursive)\n",
       "│    └─GRUCell: 2-118                    [512, 64]                 (recursive)\n",
       "│    │    └─Linear: 3-235                [512, 192]                (recursive)\n",
       "│    │    └─Linear: 3-236                [512, 192]                (recursive)\n",
       "│    └─GRUCell: 2-119                    [512, 64]                 (recursive)\n",
       "│    │    └─Linear: 3-237                [512, 192]                (recursive)\n",
       "│    │    └─Linear: 3-238                [512, 192]                (recursive)\n",
       "│    └─GRUCell: 2-120                    [512, 64]                 (recursive)\n",
       "│    │    └─Linear: 3-239                [512, 192]                (recursive)\n",
       "│    │    └─Linear: 3-240                [512, 192]                (recursive)\n",
       "│    └─GRUCell: 2-121                    [512, 64]                 (recursive)\n",
       "│    │    └─Linear: 3-241                [512, 192]                (recursive)\n",
       "│    │    └─Linear: 3-242                [512, 192]                (recursive)\n",
       "│    └─GRUCell: 2-122                    [512, 64]                 (recursive)\n",
       "│    │    └─Linear: 3-243                [512, 192]                (recursive)\n",
       "│    │    └─Linear: 3-244                [512, 192]                (recursive)\n",
       "│    └─GRUCell: 2-123                    [512, 64]                 (recursive)\n",
       "│    │    └─Linear: 3-245                [512, 192]                (recursive)\n",
       "│    │    └─Linear: 3-246                [512, 192]                (recursive)\n",
       "│    └─GRUCell: 2-124                    [512, 64]                 (recursive)\n",
       "│    │    └─Linear: 3-247                [512, 192]                (recursive)\n",
       "│    │    └─Linear: 3-248                [512, 192]                (recursive)\n",
       "│    └─GRUCell: 2-125                    [512, 64]                 (recursive)\n",
       "│    │    └─Linear: 3-249                [512, 192]                (recursive)\n",
       "│    │    └─Linear: 3-250                [512, 192]                (recursive)\n",
       "│    └─GRUCell: 2-126                    [512, 64]                 (recursive)\n",
       "│    │    └─Linear: 3-251                [512, 192]                (recursive)\n",
       "│    │    └─Linear: 3-252                [512, 192]                (recursive)\n",
       "│    └─GRUCell: 2-127                    [512, 64]                 (recursive)\n",
       "│    │    └─Linear: 3-253                [512, 192]                (recursive)\n",
       "│    │    └─Linear: 3-254                [512, 192]                (recursive)\n",
       "│    └─GRUCell: 2-128                    [512, 64]                 (recursive)\n",
       "│    │    └─Linear: 3-255                [512, 192]                (recursive)\n",
       "│    │    └─Linear: 3-256                [512, 192]                (recursive)\n",
       "├─Dropout: 1-3                           [512, 64, 64]             --\n",
       "├─LayerNorm: 1-4                         [512, 64, 64]             128\n",
       "├─Linear: 1-5                            [512, 64, 256]            16,640\n",
       "├─Linear: 1-6                            [512, 64, 65]             16,705\n",
       "==========================================================================================\n",
       "Total params: 79,329\n",
       "Trainable params: 79,329\n",
       "Non-trainable params: 0\n",
       "Total mult-adds (G): 1.45\n",
       "==========================================================================================\n",
       "Input size (MB): 0.26\n",
       "Forward/backward pass size (MB): 310.64\n",
       "Params size (MB): 0.32\n",
       "Estimated Total Size (MB): 311.22\n",
       "=========================================================================================="
      ]
     },
     "execution_count": 20,
     "metadata": {},
     "output_type": "execute_result"
    }
   ],
   "source": [
    "from torchinfo import summary\n",
    "\n",
    "summary(gru, input_size=(BATCH_SIZE, SEQUENCE_LENGTH), dtypes=[torch.long])"
   ]
  },
  {
   "cell_type": "code",
   "execution_count": 21,
   "id": "ec86dc8e",
   "metadata": {
    "colab": {
     "base_uri": "https://localhost:8080/"
    },
    "executionInfo": {
     "elapsed": 121082,
     "status": "ok",
     "timestamp": 1732704395031,
     "user": {
      "displayName": "Hugman Sangkeun Jung",
      "userId": "08689291704194029524"
     },
     "user_tz": -540
    },
    "id": "ec86dc8e",
    "outputId": "d3a32ebf-e2ad-4e8b-fb04-f2651e0ac049"
   },
   "outputs": [
    {
     "name": "stderr",
     "output_type": "stream",
     "text": [
      "                                                                                                                                               \r"
     ]
    },
    {
     "name": "stdout",
     "output_type": "stream",
     "text": [
      "Epoch 1/2, Train Loss: 1.8861, Val Loss: 1.9602, Epoch Time: 266.61s Average Vram Usage: 20.03MB\n"
     ]
    },
    {
     "name": "stderr",
     "output_type": "stream",
     "text": [
      "                                                                                                                                               \r"
     ]
    },
    {
     "name": "stdout",
     "output_type": "stream",
     "text": [
      "Epoch 2/2, Train Loss: 1.7271, Val Loss: 1.8599, Epoch Time: 244.91s Average Vram Usage: 20.03MB\n"
     ]
    }
   ],
   "source": [
    "## Training Loop\n",
    "trained_model, train_losses_df, val_losses_df = train_model(gru, train_loader, val_loader, criterion, optimizer, device, EPOCHS)"
   ]
  },
  {
   "cell_type": "code",
   "execution_count": 22,
   "id": "396c469b",
   "metadata": {},
   "outputs": [],
   "source": [
    "# Text generation using validation data\n",
    "val_sample, _ = next(iter(val_loader))\n",
    "start_text = ''.join([idx_to_char[idx.item()] for idx in val_sample[0][:SEQUENCE_LENGTH]])"
   ]
  },
  {
   "cell_type": "code",
   "execution_count": 23,
   "id": "70664998",
   "metadata": {
    "colab": {
     "base_uri": "https://localhost:8080/"
    },
    "executionInfo": {
     "elapsed": 489,
     "status": "ok",
     "timestamp": 1732704395512,
     "user": {
      "displayName": "Hugman Sangkeun Jung",
      "userId": "08689291704194029524"
     },
     "user_tz": -540
    },
    "id": "70664998",
    "outputId": "a970b003-a23c-47b7-900e-5ed705866838"
   },
   "outputs": [
    {
     "name": "stdout",
     "output_type": "stream",
     "text": [
      "Generated text (starting with validation data [\n",
      "\n",
      "GREMIO:\n",
      "Good morrow, neighbour Baptista.\n",
      "\n",
      "BAPTISTA:\n",
      "Good morro]):\n",
      "--------------------------------------------------\n",
      "\n",
      "\n",
      "GREMIO:\n",
      "Good morrow, neighbour Baptista.\n",
      "\n",
      "BAPTISTA:\n",
      "Good morrow\n",
      "But all desper weach, and Wordy ding if those re's again, if like.\n",
      "\n",
      "BUCKINGHARD II:\n",
      "Which no exerself\n",
      "I pray, I do me him grees goe; of this be dave\n",
      "I way sound liegent that his clancofait, and help not dids,\n",
      "Now?\n",
      "\n",
      "HENS ELONE:\n",
      "O, sir,\n",
      "'it Rame master your depat,\n",
      "Bectent cannot son\n",
      "Enourse no see to must brother's what oncelfed we sy;\n",
      "Come the beath?\n",
      "\n",
      "VEDWIUS:\n",
      "Acherd o'eprothed, were?\n",
      "Thus is like any may of Herrows in thems of Mechard\n",
      "Thy lack it on ut, here I thant;\n",
      "And to make bloody earth.\n",
      "\n"
     ]
    }
   ],
   "source": [
    "generated_text = generate_text(trained_model, char_to_idx, idx_to_char, start_text, device)\n",
    "                      \n",
    "print(f\"Generated text (starting with validation data [{start_text}]):\")\n",
    "print(\"-\"*50)\n",
    "print(generated_text)"
   ]
  },
  {
   "cell_type": "code",
   "execution_count": 24,
   "id": "fcca4e52",
   "metadata": {
    "id": "fcca4e52"
   },
   "outputs": [],
   "source": [
    "# After training a model (e.g., LSTM without RMSNorm), add its losses\n",
    "add_loss_to_comparison('GRU', train_losses_df, val_losses_df)"
   ]
  },
  {
   "cell_type": "code",
   "execution_count": 25,
   "id": "98b72703",
   "metadata": {
    "colab": {
     "base_uri": "https://localhost:8080/"
    },
    "executionInfo": {
     "elapsed": 3,
     "status": "ok",
     "timestamp": 1732704396861,
     "user": {
      "displayName": "Hugman Sangkeun Jung",
      "userId": "08689291704194029524"
     },
     "user_tz": -540
    },
    "id": "98b72703",
    "outputId": "ece1620a-8690-4750-97c1-ada645d59a08"
   },
   "outputs": [
    {
     "name": "stdout",
     "output_type": "stream",
     "text": [
      "\n",
      "Sample Input:\n",
      "\n",
      "\n",
      "GREMIO:\n",
      "Good morrow, neighbour Baptista.\n",
      "\n",
      "BAPTISTA:\n",
      "Good morro\n",
      "\n",
      "Model Output (logits for next character prediction):\n",
      "torch.Size([1, 64, 65])\n",
      "tensor([ 1.7180, -2.2560, -4.8033, -4.7796, -4.8691,  0.2543, -5.2286, -4.7724,\n",
      "        -5.2995, -3.0716], device='cuda:0')\n",
      "\n",
      "Predicted next character:\n",
      "w\n"
     ]
    }
   ],
   "source": [
    "# Decoder Input/Output Example\n",
    "sample_input, _ = next(iter(val_loader))\n",
    "sample_input = sample_input[0].unsqueeze(0).to(device)  # Add batch dimension\n",
    "\n",
    "trained_model.eval()\n",
    "with torch.no_grad():\n",
    "    output, _ = trained_model(sample_input)\n",
    "\n",
    "print(\"\\nSample Input:\")\n",
    "print(''.join([idx_to_char[idx.item()] for idx in sample_input[0]]))\n",
    "\n",
    "print(\"\\nModel Output (logits for next character prediction):\")\n",
    "print(output.shape)\n",
    "print(output[0, 0, :10])  # Print first 10 logits of the first timestep\n",
    "\n",
    "print(\"\\nPredicted next character:\")\n",
    "predicted_char_idx = torch.argmax(output[0, -1]).item()\n",
    "print(idx_to_char[predicted_char_idx])"
   ]
  },
  {
   "cell_type": "code",
   "execution_count": 26,
   "id": "f23a4aea",
   "metadata": {},
   "outputs": [],
   "source": [
    "# plot_loss_comparisons()"
   ]
  },
  {
   "cell_type": "code",
   "execution_count": 27,
   "id": "868a5338",
   "metadata": {
    "colab": {
     "base_uri": "https://localhost:8080/",
     "height": 487
    },
    "executionInfo": {
     "elapsed": 899,
     "status": "ok",
     "timestamp": 1732704397758,
     "user": {
      "displayName": "Hugman Sangkeun Jung",
      "userId": "08689291704194029524"
     },
     "user_tz": -540
    },
    "id": "868a5338",
    "outputId": "06397d97-49fb-4f85-b2b3-2b27ca481fe0"
   },
   "outputs": [],
   "source": [
    "# plot_separate_train_val(loss_comparison_dict)"
   ]
  },
  {
   "cell_type": "code",
   "execution_count": 28,
   "id": "a2d8a352",
   "metadata": {
    "id": "a2d8a352"
   },
   "outputs": [],
   "source": [
    "def generate_text_attention(model, char_to_idx, idx_to_char, start_text, device, max_length=500):\n",
    "    model.eval()\n",
    "    current_text = start_text\n",
    "\n",
    "    with torch.no_grad():\n",
    "        for _ in range(max_length):\n",
    "            # Convert the last sequence of characters to indices and feed it to the model\n",
    "            x = torch.tensor([[char_to_idx[ch] for ch in current_text[-SEQUENCE_LENGTH:]]]).to(device)\n",
    "            output = model(x)[0]  # No hidden state needed for attention-based models\n",
    "            probs = torch.softmax(output[0, -1], dim=0)\n",
    "            next_char_idx = torch.multinomial(probs, 1).item()\n",
    "            next_char = idx_to_char[next_char_idx]\n",
    "            current_text += next_char\n",
    "\n",
    "    return current_text"
   ]
  },
  {
   "cell_type": "code",
   "execution_count": 29,
   "id": "32c936b1",
   "metadata": {
    "id": "32c936b1"
   },
   "outputs": [],
   "source": [
    "def train_and_test(model_desc, model, start_text):\n",
    "    # Initialize the model\n",
    "    model = model.to(device)\n",
    "    # Use the same optimizer and criterion\n",
    "    criterion = nn.CrossEntropyLoss()\n",
    "    optimizer = torch.optim.AdamW(model.parameters(), lr=LEARNING_RATE)\n",
    "    \n",
    "    # Train the model\n",
    "    trained_model, train_losses_df, val_losses_df = train_model(\n",
    "        model, train_loader, val_loader, criterion, optimizer, device, EPOCHS\n",
    "    )\n",
    "\n",
    "    # # Generate text\n",
    "    # generated_text = generate_text_attention(trained_model, char_to_idx, idx_to_char, start_text, device)\n",
    "    # print(f\"Generated text [{start_text}]:\")\n",
    "    # print(\"-\"*50)\n",
    "    # print(generated_text)\n",
    "    \n",
    "    # add_loss_to_comparison(model_desc, train_losses_df, val_losses_df)\n",
    "\n",
    "    # # Plot loss comparisons including this model\n",
    "    # plot_loss_comparisons()\n",
    "    \n",
    "    # plot_separate_train_val(loss_comparison_dict)"
   ]
  },
  {
   "cell_type": "markdown",
   "id": "39911f55",
   "metadata": {
    "id": "39911f55"
   },
   "source": [
    "## Model 2: Modern Transformer(LLaMA - 2023)"
   ]
  },
  {
   "cell_type": "code",
   "execution_count": 30,
   "id": "6b43bc11",
   "metadata": {},
   "outputs": [],
   "source": [
    "import torch\n",
    "import torch.nn as nn\n",
    "import torch.nn.functional as F\n",
    "import math\n",
    "from dataclasses import dataclass\n",
    "\n",
    "@dataclass\n",
    "class ModelArgs:\n",
    "    DIM = EMBEDDING_DIM \n",
    "    FFN_DIM = FFN_DIM\n",
    "    NUM_HEADS = NUM_HEADS \n",
    "    NUM_LAYERS = NUM_LAYERS\n",
    "\n",
    "    NUM_KV_HEADS = NUM_HEADS \n",
    "    VOCAB_SIZE = vocab_size\n",
    "    NORM_EPS = 1e-5 # LLaMA: 1e-5\n",
    "    ROPE_THETA = 10000 # LLaMA: 10000\n",
    "\n",
    "    MAX_BATCH_SIZE = BATCH_SIZE\n",
    "    MAX_SEQ_LEN = SEQUENCE_LENGTH # depending on the DATASET\n",
    "    NUM_KV_HEAD_REP = NUM_HEADS // NUM_KV_HEADS\n",
    "\n",
    "    HEAD_DIM = DIM // NUM_HEADS\n",
    "    DROPOUT = DROPOUT\n",
    "    DEVICE = device\n",
    "\n",
    "class RMSNorm(nn.Module):\n",
    "    def __init__(self, dim: int, eps: float = 1e-6):\n",
    "        super().__init__()\n",
    "        self.eps = eps\n",
    "        self.weight = nn.Parameter(torch.ones(dim))\n",
    "    def _norm(self, x: torch.Tensor):\n",
    "        return x * torch.rsqrt(x.pow(2).mean(-1, keepdim=True) + self.eps)\n",
    "    def forward(self, x: torch.Tensor):\n",
    "        return self.weight.to(x.device) * self._norm(x.float()).type_as(x)\n",
    "    \n",
    "def precompute_freqs_cis(head_dim: int, seq_len: int, theta: float = 100.0, device: str = \"cuda\"):\n",
    "    if head_dim % 2 != 0:\n",
    "        raise ValueError(\"head_dim must be even for rotary embeddings.\")\n",
    "    freqs = 1.0 / (theta ** (torch.arange(0, head_dim, 2).float() / head_dim)).to(device)\n",
    "    t = torch.arange(seq_len, device=device, dtype=torch.float32)\n",
    "    freqs = torch.outer(t, freqs)  # [seq_len, head_dim//2]\n",
    "    freqs_cis = torch.polar(torch.ones_like(freqs), freqs)\n",
    "    return freqs_cis  # [seq_len, head_dim // 2]\n",
    "\n",
    "def reshape_for_broadcast(freqs_cis: torch.Tensor, x: torch.Tensor):\n",
    "    L = x.shape[1]\n",
    "    return freqs_cis.view(1, L, 1, x.shape[-1] // 2)  # [1, L, 1, head_dim]\n",
    "\n",
    "def apply_rotary_emb(x: torch.Tensor, device: str = \"cuda\"):\n",
    "    # x: [B, L, 2*heads, D] & D is even\n",
    "    _, L, _, D = x.shape\n",
    "    x_complex = torch.view_as_complex(x.float().reshape(*x.shape[:-1], -1, 2)) # [B, L, 2*heads, D//2, 2]\n",
    "    freqs_cis = precompute_freqs_cis(D, L)\n",
    "    freqs = reshape_for_broadcast(freqs_cis, x)\n",
    "    x_rotated = x_complex * freqs\n",
    "    x_out = torch.view_as_real(x_rotated).reshape(x.shape)\n",
    "    return x_out.type_as(x).to(device)\n",
    "\n",
    "def repeat_kv(x: torch.Tensor, n_rep: int) -> torch.Tensor:\n",
    "    B, L, nk, d = x.shape\n",
    "    if n_rep == 1:\n",
    "        return x\n",
    "    return x[:, :, :, None, :].expand(B, L, nk, n_rep, d).reshape(B, L, nk * n_rep, d)\n",
    "\n",
    "class FeedForward(nn.Module):\n",
    "    def __init__(self, dim, ffn_dim, dropout):\n",
    "        super().__init__()\n",
    "        hidden_dim = ffn_dim\n",
    "        self.w1 = nn.Linear(dim, hidden_dim, bias=False)\n",
    "        self.w2 = nn.Linear(hidden_dim, dim, bias=False)\n",
    "        self.w3 = nn.Linear(dim, hidden_dim, bias=False)\n",
    "        self.dropout = nn.Dropout(dropout)\n",
    "    def forward(self, x: torch.Tensor):\n",
    "        # x: [B, L, D]\n",
    "        return self.w2(F.silu(self.w1(x)) * self.dropout(self.w3(x)))\n",
    "\n",
    "class SelfAttention(nn.Module):\n",
    "    def __init__(self, n_heads, n_kv_heads, n_rep, dim, dropout, batch, seq_len, device):\n",
    "        super().__init__()\n",
    "        self.n_heads_q = n_heads\n",
    "        self.n_kv_heads = n_kv_heads\n",
    "        self.n_rep = n_rep\n",
    "        self.head_dim = dim // n_heads\n",
    "\n",
    "        self.wq = nn.Linear(dim, n_heads * self.head_dim, bias=False)\n",
    "        self.wk = nn.Linear(dim, n_kv_heads * self.head_dim, bias=False)\n",
    "        self.wv = nn.Linear(dim, n_kv_heads * self.head_dim, bias=False)\n",
    "        self.wo = nn.Linear(n_heads * self.head_dim, dim, bias=False)\n",
    "        self.attn_dropout = dropout\n",
    "        \n",
    "        self.norm = RMSNorm(self.head_dim)\n",
    "\n",
    "    def forward(self, x: torch.Tensor, start_pos, mask, return_attn=False):\n",
    "        B, L, _ = x.shape\n",
    "        src_len = trg_len = L\n",
    "        offset = start_pos\n",
    "        \n",
    "        xq = self.wq(x).view(B, L, self.n_heads_q, self.head_dim)\n",
    "        xk = self.wk(x).view(B, L, self.n_kv_heads, self.head_dim)\n",
    "        xv = self.wv(x).view(B, L, self.n_kv_heads, self.head_dim)\n",
    "        \n",
    "        # Apply rotary embeddings\n",
    "        xq = apply_rotary_emb(xq)\n",
    "        xk = apply_rotary_emb(xk)\n",
    "        \n",
    "        # GQA: Adjust dimensions for attention computation\n",
    "        xq = xq.transpose(1, 2)   # [B, n_heads, L, head_dim]\n",
    "        xk = repeat_kv(xk, self.n_rep).transpose(1, 2) # [B, n_heads, L, head_dim]\n",
    "        xv = repeat_kv(xv, self.n_rep).transpose(1, 2) # [B, n_heads, L, head_dim]\n",
    "\n",
    "        # Compute scaled dot-product attention manually to capture attention weights\n",
    "        scores = torch.matmul(xq, xk.transpose(-2, -1)) / math.sqrt(self.head_dim)  # [B, n_heads, L, L]\n",
    "        scores = torch.nan_to_num(scores)\n",
    "        if mask is None:\n",
    "            mask = torch.triu(\n",
    "                torch.zeros([L, L])\n",
    "                .float()\n",
    "                .fill_(float(\"-inf\"))\n",
    "                .type_as(attn_weights),\n",
    "                1 + offset,\n",
    "            )\n",
    "            \n",
    "        scores += mask\n",
    "        attn_weights = torch.softmax(scores, dim=-1)\n",
    "        attn_weights = F.dropout(attn_weights, self.attn_dropout, training=self.training)\n",
    "        attn_output = torch.matmul(attn_weights, xv)  # [B, n_heads, L, head_dim]\n",
    "        attn_output = self.norm(attn_output)\n",
    "        \n",
    "        # Reshape attention output and project\n",
    "        attn_output = attn_output.transpose(1, 2).contiguous().view(B, L, -1)\n",
    "        output = self.wo(attn_output)  # [B, L, D]\n",
    "        if return_attn:\n",
    "            return output, attn_weights\n",
    "        else:\n",
    "            return output\n",
    "\n",
    "class TransformerBlock(nn.Module):\n",
    "    def __init__(self, args: 'ModelArgs'):\n",
    "        super().__init__()\n",
    "        self.attention = SelfAttention(\n",
    "            args.NUM_HEADS, \n",
    "            args.NUM_KV_HEADS, \n",
    "            args.NUM_KV_HEAD_REP, \n",
    "            args.DIM, \n",
    "            args.DROPOUT, \n",
    "            args.MAX_BATCH_SIZE, \n",
    "            args.MAX_SEQ_LEN, \n",
    "            args.DEVICE\n",
    "        )\n",
    "        self.ffn = FeedForward(args.DIM, args.FFN_DIM, args.DROPOUT)\n",
    "        self.attention_norm = RMSNorm(args.DIM, args.NORM_EPS)\n",
    "        self.ffn_norm = RMSNorm(args.DIM, args.NORM_EPS)\n",
    "        self.res_dropout = nn.Dropout(args.DROPOUT)\n",
    "        \n",
    "    def forward(self, x: torch.Tensor, start_pos, mask, return_attn=False):\n",
    "        if return_attn:\n",
    "            attn_out, attn_map = self.attention(self.attention_norm(x), start_pos, mask, return_attn=True)\n",
    "            h = x + self.res_dropout(attn_out)\n",
    "            h = h + self.res_dropout(self.ffn(self.ffn_norm(h)))\n",
    "            return h, attn_map\n",
    "        else:\n",
    "            h = x + self.res_dropout(self.attention(self.attention_norm(x), start_pos, mask))\n",
    "            h = h + self.res_dropout(self.ffn(self.ffn_norm(h)))\n",
    "            return h\n",
    "\n",
    "class LlamaTransformer(nn.Module):\n",
    "    def __init__(self, args: 'ModelArgs'):\n",
    "        super().__init__()\n",
    "        self.args = args\n",
    "        self.tok_embeddings = nn.Embedding(args.VOCAB_SIZE, args.DIM)\n",
    "        self.layers = nn.ModuleList([TransformerBlock(args) for _ in range(args.NUM_LAYERS)])\n",
    "        self.norm = RMSNorm(args.DIM, args.NORM_EPS)\n",
    "        self.output = nn.Linear(args.DIM, args.VOCAB_SIZE, bias=False)\n",
    "        self.device = args.DEVICE\n",
    "        \n",
    "    def forward(self, x: torch.Tensor, start_pos=0, return_attn=False):\n",
    "        B, L = x.shape\n",
    "        h = self.tok_embeddings(x)  # [B, L, D]\n",
    "        \n",
    "        mask = None\n",
    "        if L > 1:\n",
    "            mask = torch.triu(\n",
    "                torch.zeros([L, L])\n",
    "                .float()\n",
    "                .fill_(float(\"-inf\"))\n",
    "                .type_as(x),\n",
    "                1 + start_pos,\n",
    "            )\n",
    "        attn_maps = []\n",
    "        for layer in self.layers:\n",
    "            if return_attn:\n",
    "                h, attn_map = layer(h, start_pos, mask, return_attn=True)\n",
    "                attn_maps.append(attn_map)\n",
    "            else:\n",
    "                h = layer(h, start_pos, mask)\n",
    "        logits = self.output(self.norm(h)).float()\n",
    "        if return_attn:\n",
    "            return logits, attn_maps\n",
    "        return logits, _"
   ]
  },
  {
   "cell_type": "code",
   "execution_count": 31,
   "id": "66b4f114",
   "metadata": {},
   "outputs": [
    {
     "data": {
      "text/plain": [
       "LlamaTransformer(\n",
       "  (tok_embeddings): Embedding(65, 32)\n",
       "  (layers): ModuleList(\n",
       "    (0-1): 2 x TransformerBlock(\n",
       "      (attention): SelfAttention(\n",
       "        (wq): Linear(in_features=32, out_features=32, bias=False)\n",
       "        (wk): Linear(in_features=32, out_features=32, bias=False)\n",
       "        (wv): Linear(in_features=32, out_features=32, bias=False)\n",
       "        (wo): Linear(in_features=32, out_features=32, bias=False)\n",
       "        (norm): RMSNorm()\n",
       "      )\n",
       "      (ffn): FeedForward(\n",
       "        (w1): Linear(in_features=32, out_features=256, bias=False)\n",
       "        (w2): Linear(in_features=256, out_features=32, bias=False)\n",
       "        (w3): Linear(in_features=32, out_features=256, bias=False)\n",
       "        (dropout): Dropout(p=0.1, inplace=False)\n",
       "      )\n",
       "      (attention_norm): RMSNorm()\n",
       "      (ffn_norm): RMSNorm()\n",
       "      (res_dropout): Dropout(p=0.1, inplace=False)\n",
       "    )\n",
       "  )\n",
       "  (norm): RMSNorm()\n",
       "  (output): Linear(in_features=32, out_features=65, bias=False)\n",
       ")"
      ]
     },
     "execution_count": 31,
     "metadata": {},
     "output_type": "execute_result"
    }
   ],
   "source": [
    "PARAMS = ModelArgs()\n",
    "llama = LlamaTransformer(PARAMS).to(device)\n",
    "llama"
   ]
  },
  {
   "cell_type": "code",
   "execution_count": 32,
   "id": "087c3927",
   "metadata": {},
   "outputs": [
    {
     "data": {
      "text/plain": [
       "==========================================================================================\n",
       "Layer (type:depth-idx)                   Output Shape              Param #\n",
       "==========================================================================================\n",
       "LlamaTransformer                         [512, 64, 65]             --\n",
       "├─Embedding: 1-1                         [512, 64, 32]             2,080\n",
       "├─ModuleList: 1-2                        --                        --\n",
       "│    └─TransformerBlock: 2-1             [512, 64, 32]             --\n",
       "│    │    └─RMSNorm: 3-1                 [512, 64, 32]             32\n",
       "│    │    └─SelfAttention: 3-2           [512, 64, 32]             4,104\n",
       "│    │    └─Dropout: 3-3                 [512, 64, 32]             --\n",
       "│    │    └─RMSNorm: 3-4                 [512, 64, 32]             32\n",
       "│    │    └─FeedForward: 3-5             [512, 64, 32]             24,576\n",
       "│    │    └─Dropout: 3-6                 [512, 64, 32]             --\n",
       "│    └─TransformerBlock: 2-2             [512, 64, 32]             --\n",
       "│    │    └─RMSNorm: 3-7                 [512, 64, 32]             32\n",
       "│    │    └─SelfAttention: 3-8           [512, 64, 32]             4,104\n",
       "│    │    └─Dropout: 3-9                 [512, 64, 32]             --\n",
       "│    │    └─RMSNorm: 3-10                [512, 64, 32]             32\n",
       "│    │    └─FeedForward: 3-11            [512, 64, 32]             24,576\n",
       "│    │    └─Dropout: 3-12                [512, 64, 32]             --\n",
       "├─RMSNorm: 1-3                           [512, 64, 32]             32\n",
       "├─Linear: 1-4                            [512, 64, 65]             2,080\n",
       "==========================================================================================\n",
       "Total params: 61,680\n",
       "Trainable params: 61,680\n",
       "Non-trainable params: 0\n",
       "Total mult-adds (M): 31.58\n",
       "==========================================================================================\n",
       "Input size (MB): 0.26\n",
       "Forward/backward pass size (MB): 436.47\n",
       "Params size (MB): 0.25\n",
       "Estimated Total Size (MB): 436.98\n",
       "=========================================================================================="
      ]
     },
     "execution_count": 32,
     "metadata": {},
     "output_type": "execute_result"
    }
   ],
   "source": [
    "summary(llama.to(device), input_size=(BATCH_SIZE, SEQUENCE_LENGTH), dtypes=[torch.long])"
   ]
  },
  {
   "cell_type": "code",
   "execution_count": 33,
   "id": "b361db8b",
   "metadata": {
    "id": "b361db8b",
    "outputId": "33c6269c-5979-4100-b6e7-a89b6b4ed962"
   },
   "outputs": [
    {
     "name": "stderr",
     "output_type": "stream",
     "text": [
      "                                                                                                                                               \r"
     ]
    },
    {
     "name": "stdout",
     "output_type": "stream",
     "text": [
      "Epoch 1/2, Train Loss: 2.3016, Val Loss: 2.2635, Epoch Time: 38.13s Average Vram Usage: 23.02MB\n"
     ]
    },
    {
     "name": "stderr",
     "output_type": "stream",
     "text": [
      "                                                                                                                                               \r"
     ]
    },
    {
     "name": "stdout",
     "output_type": "stream",
     "text": [
      "Epoch 2/2, Train Loss: 2.0619, Val Loss: 2.0352, Epoch Time: 38.19s Average Vram Usage: 23.02MB\n"
     ]
    }
   ],
   "source": [
    "train_and_test(\"LLaMA\", llama, start_text)"
   ]
  },
  {
   "cell_type": "markdown",
   "id": "8775d573",
   "metadata": {},
   "source": [
    "## Model 3: Mamba"
   ]
  },
  {
   "cell_type": "code",
   "execution_count": 34,
   "id": "dd160c0c",
   "metadata": {},
   "outputs": [
    {
     "name": "stdout",
     "output_type": "stream",
     "text": [
      "[2025-05-21 05:01:20,027] [INFO] [real_accelerator.py:219:get_accelerator] Setting ds_accelerator to cuda (auto detect)\n"
     ]
    },
    {
     "name": "stderr",
     "output_type": "stream",
     "text": [
      "2025-05-21 05:01:21.718748: I tensorflow/core/platform/cpu_feature_guard.cc:210] This TensorFlow binary is optimized to use available CPU instructions in performance-critical operations.\n",
      "To enable the following instructions: AVX2 FMA, in other operations, rebuild TensorFlow with the appropriate compiler flags.\n",
      "2025-05-21 05:01:22.600647: W tensorflow/compiler/tf2tensorrt/utils/py_utils.cc:38] TF-TRT Warning: Could not find TensorRT\n"
     ]
    }
   ],
   "source": [
    "import torch\n",
    "import torch.nn as nn\n",
    "import torch.nn.functional as F\n",
    "from einops import rearrange\n",
    "import math # For initialization if needed\n",
    "\n",
    "# --- Assume mamba_ssm is installed ---\n",
    "# pip install mamba-ssm causal-conv1d\n",
    "try:\n",
    "    from causal_conv1d import causal_conv1d_fn, causal_conv1d_update # Need both for training/inference\n",
    "    # causal_conv1d_fn is the main function for training/full sequence processing\n",
    "except ImportError:\n",
    "    print(\"Warning: 'causal_conv1d' package not found. Falling back to nn.Conv1d simulation.\")\n",
    "    print(\"Install with: pip install causal-conv1d\")\n",
    "    causal_conv1d_fn = None # Placeholder\n",
    "\n",
    "try:\n",
    "    from mamba_ssm.ops.selective_scan_interface import selective_scan_fn, mamba_inner_fn\n",
    "    # selective_scan_fn wraps the CUDA/Triton kernel\n",
    "except ImportError:\n",
    "    print(\"Warning: 'mamba_ssm' package not found or compiled kernels unavailable.\")\n",
    "    print(\"SSM scan will use the less efficient PyTorch implementation.\")\n",
    "    print(\"Install with: pip install mamba-ssm\")\n",
    "    selective_scan_fn = None # Placeholder"
   ]
  },
  {
   "cell_type": "code",
   "execution_count": 35,
   "id": "c6be4f1a",
   "metadata": {},
   "outputs": [],
   "source": [
    "import torch\n",
    "import torch.nn as nn\n",
    "import torch.nn.functional as F\n",
    "from einops import rearrange, repeat\n",
    "import math\n",
    "from causal_conv1d import causal_conv1d_fn\n",
    "from mamba_ssm.ops.selective_scan_interface import selective_scan_fn\n",
    "\n",
    "# --- RMSNorm (Root Mean Square Layer Normalization) ---\n",
    "class RMSNorm(nn.Module):\n",
    "    \"\"\"RMS 정규화 레이어.\n",
    "\n",
    "    Args:\n",
    "        dim (int): 정규화할 벡터의 차원.\n",
    "        eps (float, optional): 분모에 더할 작은 값 (0으로 나누는 것 방지). 기본값: 1e-6.\n",
    "    \"\"\"\n",
    "    def __init__(self, dim: int, eps: float = 1e-6):\n",
    "        super().__init__()\n",
    "        self.eps = eps\n",
    "        # 학습 가능한 스케일링 파라미터 (gamma)\n",
    "        self.weight = nn.Parameter(torch.ones(dim))\n",
    "\n",
    "    def _norm(self, x: torch.Tensor) -> torch.Tensor:\n",
    "        \"\"\"RMS 정규화 계산 수행.\"\"\"\n",
    "        # 계산 안정성을 위해 float32 사용 후 원본 타입 복원\n",
    "        original_dtype = x.dtype\n",
    "        # 입력의 제곱 평균의 제곱근 역수 계산\n",
    "        rms = torch.rsqrt(x.to(torch.float32).pow(2).mean(-1, keepdim=True) + self.eps)\n",
    "        return (x * rms).to(original_dtype)\n",
    "\n",
    "    def forward(self, x: torch.Tensor) -> torch.Tensor:\n",
    "        \"\"\"RMS 정규화 적용.\"\"\"\n",
    "        # 정규화 후 학습 가능한 가중치 적용\n",
    "        return self.weight * self._norm(x)\n",
    "\n",
    "# --- SSM (State Space Model) 모듈 ---\n",
    "class SSM(nn.Module):\n",
    "    \"\"\"선택적 스캔 메커니즘 (SSM). 최적화된 selective_scan_fn 커널 사용.\n",
    "       Mamba v1 논문의 파라미터화 및 계산 방식 (non-fused path) 기반.\n",
    "       selective_scan_fn이 기대하는 특정 텐서 레이아웃(B,D,L / B,N,L 등)을 따름.\n",
    "\n",
    "    Args:\n",
    "        d_inner (int): 내부 확장 차원 (D).\n",
    "        state_size (int): SSM 상태 벡터 크기 (N).\n",
    "        dt_rank (str or int, optional): Δ 계산 시 사용될 중간 랭크. \"auto\"시 d_inner / 16. 기본값: \"auto\".\n",
    "        dt_min (float, optional): Δ의 최소값 제한 (softplus 적용 후). 기본값: 0.001.\n",
    "        dt_max (float, optional): Δ의 최대값 제한 (softplus 적용 후). 기본값: 0.1.\n",
    "        dt_init (str, optional): dt_proj 가중치 초기화 방식 (\"random\" or \"constant\"). 기본값: \"random\".\n",
    "        dt_scale (float, optional): dt_proj 가중치 초기화 스케일. 기본값: 1.0.\n",
    "        dt_init_floor (float, optional): dt 초기값 하한선. 기본값: 1e-4.\n",
    "        bias (bool, optional): x_proj 레이어에 bias 사용 여부. 기본값: False.\n",
    "        device (str, optional): 연산 장치. 기본값: 'cuda'.\n",
    "        dtype (torch.dtype, optional): 연산 데이터 타입. 기본값: torch.float32.\n",
    "    \"\"\"\n",
    "    def __init__(self, d_inner: int, state_size: int, dt_rank: str | int =\"auto\", dt_min: float =0.001, dt_max: float =0.1,\n",
    "                 dt_init: str =\"random\", dt_scale: float =1.0, dt_init_floor: float =1e-4, bias: bool =False,\n",
    "                 device: str ='cuda', dtype: torch.dtype =torch.float32):\n",
    "        factory_kwargs = {\"device\": device, \"dtype\": dtype}\n",
    "        super().__init__()\n",
    "        self.d_inner = d_inner\n",
    "        self.state_size = state_size\n",
    "        # dt_rank 자동 계산 또는 지정값 사용\n",
    "        self.dt_rank = math.ceil(d_inner / 16) if dt_rank == \"auto\" else dt_rank\n",
    "        self.device = device\n",
    "        self.dtype = dtype\n",
    "\n",
    "        # 컨볼루션 출력(x)을 받아 dt_inter, B, C 계산용 프로젝션 (Mamba v1 non-fused 방식)\n",
    "        self.x_proj = nn.Linear(self.d_inner, self.dt_rank + self.state_size * 2, bias=bias, **factory_kwargs)\n",
    "\n",
    "        # dt_inter를 받아 dt 계산용 프로젝션\n",
    "        self.dt_proj = nn.Linear(self.dt_rank, self.d_inner, bias=True, **factory_kwargs)\n",
    "\n",
    "        # --- dt_proj bias 특별 초기화 (Mamba v1 공식 코드 참조) ---\n",
    "        # 초기화 시 softplus(bias) 결과가 [dt_min, dt_max] 범위에 있도록 조정\n",
    "        dt_init_std = self.dt_rank**-0.5 * dt_scale\n",
    "        if dt_init == \"constant\":\n",
    "            nn.init.constant_(self.dt_proj.weight, dt_init_std)\n",
    "        elif dt_init == \"random\":\n",
    "            nn.init.uniform_(self.dt_proj.weight, -dt_init_std, dt_init_std)\n",
    "        else:\n",
    "            raise NotImplementedError(f\"Invalid dt_init: {dt_init}\")\n",
    "\n",
    "        # dt bias 초기값 계산 (softplus의 역함수 활용)\n",
    "        dt = torch.exp(\n",
    "            torch.rand(self.d_inner, **factory_kwargs) * (math.log(dt_max) - math.log(dt_min))\n",
    "            + math.log(dt_min)\n",
    "        ).clamp(min=dt_init_floor)\n",
    "        inv_dt = dt + torch.log(-torch.expm1(-dt)) # softplus(inv_dt) ≈ dt\n",
    "        with torch.no_grad():\n",
    "            self.dt_proj.bias.copy_(inv_dt)\n",
    "        # 다른 초기화 루틴에서 이 bias를 덮어쓰지 않도록 플래그 설정 (선택적)\n",
    "        self.dt_proj.bias._no_reinit = True\n",
    "        # --- dt_proj bias 초기화 종료 ---\n",
    "\n",
    "        # --- SSM 파라미터 A (A_log) ---\n",
    "        # S4D-Real 방식 초기화: A 행렬의 대각 요소가 [1, 2, ..., N]이 되도록 A_log 설정\n",
    "        A = repeat(\n",
    "            torch.arange(1, self.state_size + 1, dtype=torch.float32, device=device),\n",
    "            \"n -> d n\", # 1차원 벡터를 d_inner 번 반복하여 (D, N) 행렬 생성\n",
    "            d=self.d_inner,\n",
    "        ).contiguous()\n",
    "        A_log = torch.log(A) # 로그 스케일에서 파라미터 학습 (float32 유지)\n",
    "        self.A_log = nn.Parameter(A_log)\n",
    "        self.A_log._no_weight_decay = True # 가중치 감쇠 제외\n",
    "\n",
    "        # --- SSM 파라미터 D (피드스루) ---\n",
    "        # 형태: (D)\n",
    "        self.D = nn.Parameter(torch.ones(self.d_inner, device=device)) # float32 유지 권장\n",
    "        self.D._no_weight_decay = True # 가중치 감쇠 제외\n",
    "\n",
    "    def forward(self, x: torch.Tensor) -> torch.Tensor:\n",
    "        \"\"\"SSM 순방향 계산. 입력 x는 (B, D, L) 레이아웃을 가정.\"\"\"\n",
    "        B, D, L = x.shape # 입력 레이아웃 확인\n",
    "        if D != self.d_inner:\n",
    "            raise ValueError(f\"입력 차원 D({D})가 SSM 내부 차원({self.d_inner})과 불일치\")\n",
    "\n",
    "        # 1. 입력 x(컨볼루션 출력)로부터 dt, B, C 계산\n",
    "        #    선형 프로젝션을 위해 (B*L, D) 형태로 변환\n",
    "        x_reshaped = rearrange(x, \"b d l -> (b l) d\")\n",
    "        x_proj_out = self.x_proj(x_reshaped) # 결과: (B*L, dt_rank + 2*N)\n",
    "        dt_inter, B, C = torch.split(x_proj_out, [self.dt_rank, self.state_size, self.state_size], dim=-1)\n",
    "\n",
    "        # 2. dt 계산 (softplus 적용 전) -> 형태 (B, D, L)\n",
    "        #    dt_inter: (B*L, dt_rank)\n",
    "        #    Mamba v1 non-fused path 방식 적용\n",
    "        dt = self.dt_proj.weight @ dt_inter.t() # 결과: (D, B*L)\n",
    "        dt = rearrange(dt, \"d (b l) -> b d l\", l=L) # 최종 형태: (B, D, L)\n",
    "        # dt_bias는 selective_scan_fn 내부에서 delta_bias 인자로 전달되어 더해짐\n",
    "\n",
    "        # 3. A 행렬 계산, 형태 (D, N)\n",
    "        A = -torch.exp(self.A_log.float()) # float32에서 exp 계산\n",
    "\n",
    "        # 4. B, C 형태 변경 -> (B, N, L)\n",
    "        #    selective_scan_fn 커널이 요구하는 레이아웃\n",
    "        B = rearrange(B, \"(b l) n -> b n l\", l=L).contiguous()\n",
    "        C = rearrange(C, \"(b l) n -> b n l\", l=L).contiguous()\n",
    "\n",
    "        # 5. D 파라미터 준비, 형태 (D)\n",
    "        D_param = self.D.float().contiguous()\n",
    "\n",
    "        # 6. selective_scan_fn 입력 준비 (메모리 연속성 보장)\n",
    "        input_u = x.contiguous()             # u (SSM 입력): (B, D, L)\n",
    "        input_delta = dt.contiguous()        # delta (dt): (B, D, L)\n",
    "        input_A = A.contiguous()             # A: (D, N)\n",
    "        input_B = B                          # B: (B, N, L)\n",
    "        input_C = C                          # C: (B, N, L)\n",
    "        input_D = D_param                    # D: (D)\n",
    "        input_delta_bias = self.dt_proj.bias.float().contiguous() if self.dt_proj.bias is not None else None\n",
    "\n",
    "        # 7. 최적화된 selective_scan_fn 호출\n",
    "        #    입력 레이아웃 및 파라미터 형태는 Mamba v1 non-fused path 기준\n",
    "        y = selective_scan_fn(\n",
    "            u=input_u,\n",
    "            delta=input_delta,\n",
    "            A=input_A,\n",
    "            B=input_B,\n",
    "            C=input_C,\n",
    "            D=input_D,\n",
    "            z=None, # 게이트 z는 MambaBlock 레벨에서 처리\n",
    "            delta_bias=input_delta_bias, # dt_bias 전달\n",
    "            delta_softplus=True, # 내부에서 delta = softplus(dt + delta_bias) 계산\n",
    "        )\n",
    "\n",
    "        # 8. 결과 반환, 형태 (B, D, L)\n",
    "        #    후속 처리를 위해 이 레이아웃 유지\n",
    "        return y\n",
    "\n",
    "\n",
    "# --- Mamba 블록 (causal_conv1d_fn 사용 및 데이터 흐름 수정) ---\n",
    "class MambaBlock(nn.Module):\n",
    "    \"\"\"Mamba 핵심 블록. RMSNorm, 입력 프로젝션, 인과적 컨볼루션, SSM, 게이팅, 출력 프로젝션 구성.\n",
    "       내부적으로 (B, D, L) 텐서 레이아웃 사용.\n",
    "    \"\"\"\n",
    "    def __init__(self, d_model: int, state_size: int, d_conv: int = 4, expand: int = 2,\n",
    "                 dropout_prob: float = 0.1, device: str = 'cuda', dtype: torch.dtype = torch.float32):\n",
    "        factory_kwargs = {\"device\": device, \"dtype\": dtype}\n",
    "        super().__init__()\n",
    "        self.d_model = d_model\n",
    "        self.d_inner = int(expand * d_model) # 내부 확장 차원 (D)\n",
    "        self.state_size = state_size\n",
    "        self.d_conv = d_conv\n",
    "        self.device = device\n",
    "        self.dtype = dtype\n",
    "\n",
    "        # 입력 정규화 (RMSNorm)\n",
    "        self.norm = RMSNorm(d_model, eps=1e-5)\n",
    "\n",
    "        # 입력 프로젝션 (d_model -> 2 * d_inner)\n",
    "        self.in_proj = nn.Linear(d_model, 2 * self.d_inner, bias=False, **factory_kwargs)\n",
    "\n",
    "        # 인과적 컨볼루션 파라미터 (가중치 형태: D, K)\n",
    "        self.conv1d_weight = nn.Parameter(torch.empty(self.d_inner, d_conv, **factory_kwargs))\n",
    "        self.conv1d_bias = nn.Parameter(torch.empty(self.d_inner, **factory_kwargs))\n",
    "\n",
    "        # SSM 모듈 인스턴스화 (Mamba v1 파라미터 전달 옵션 추가 가능)\n",
    "        self.ssm = SSM(self.d_inner, state_size, device=device, dtype=dtype)\n",
    "                      # dt_rank, dt_min 등 SSM 파라미터 전달 가능\n",
    "\n",
    "        # 출력 프로젝션 (d_inner -> d_model)\n",
    "        self.out_proj = nn.Linear(self.d_inner, d_model, bias=False, **factory_kwargs)\n",
    "\n",
    "        # 잔차 연결 드롭아웃\n",
    "        self.dropout_res = nn.Dropout(dropout_prob)\n",
    "\n",
    "    def forward(self, x: torch.Tensor) -> torch.Tensor:\n",
    "        \"\"\"Mamba 블록 순방향 계산.\"\"\"\n",
    "        B, L, D_model = x.shape # 입력 형태: (B, L, d_model)\n",
    "        residual = x # 잔차 연결용 원본 저장\n",
    "\n",
    "        # 1. 입력 정규화\n",
    "        x_norm = self.norm(x)\n",
    "\n",
    "        # 2. 입력 프로젝션 및 분할 (x_in, z)\n",
    "        xz = self.in_proj(x_norm) # 결과: (B, L, 2*D)\n",
    "        x_in, z = xz.chunk(2, dim=-1) # 각각: (B, L, D)\n",
    "\n",
    "        # 3. 인과적 컨볼루션 브랜치\n",
    "        #    입력 레이아웃 변경: (B, L, D) -> (B, D, L)\n",
    "        x_conv_in = rearrange(x_in, 'b l d -> b d l').contiguous()\n",
    "        #    최적화된 causal_conv1d_fn 호출 (SiLU 활성화 포함)\n",
    "        #    출력 x_conv_out 형태: (B, D, L)\n",
    "        x_conv_out = causal_conv1d_fn(\n",
    "            x=x_conv_in, weight=self.conv1d_weight, bias=self.conv1d_bias, activation='silu'\n",
    "        )\n",
    "\n",
    "        # 4. SSM 브랜치\n",
    "        #    컨볼루션 출력(B, D, L)을 SSM에 직접 전달\n",
    "        #    SSM 출력 y_ssm 형태: (B, D, L)\n",
    "        y_ssm = self.ssm(x_conv_out)\n",
    "\n",
    "        # 5. 게이팅 메커니즘\n",
    "        #    y_ssm을 z와 곱하기 위해 (B, L, D) 형태로 변경\n",
    "        y_ssm_rearranged = rearrange(y_ssm, 'b d l -> b l d')\n",
    "        #    z에 SiLU 활성화 적용 후 요소별 곱셈\n",
    "        y_gated = y_ssm_rearranged * F.silu(z) # 결과: (B, L, D)\n",
    "\n",
    "        # 6. 출력 프로젝션\n",
    "        output = self.out_proj(y_gated) # 결과: (B, L, d_model)\n",
    "\n",
    "        # 7. 잔차 연결 및 드롭아웃\n",
    "        output = residual + self.dropout_res(output) # 최종 결과: (B, L, d_model)\n",
    "\n",
    "        return output\n",
    "\n",
    "# --- Mamba 모델 전체 ---\n",
    "class Mamba(nn.Module):\n",
    "    \"\"\"Mamba 언어 모델 전체 구조.\"\"\"\n",
    "    def __init__(self, d_model: int, n_layers: int, vocab_size: int, state_size: int = 16,\n",
    "                 d_conv: int = 4, expand: int = 2, dropout_prob: float = 0.1,\n",
    "                 device: str = 'cuda', dtype: torch.dtype = torch.float32):\n",
    "        factory_kwargs = {\"device\": device, \"dtype\": dtype}\n",
    "        super().__init__()\n",
    "        self.d_model = d_model\n",
    "        self.n_layers = n_layers\n",
    "        self.vocab_size = vocab_size\n",
    "        # 저장된 파라미터는 validation 등에 사용될 수 있음\n",
    "        self.state_size = state_size\n",
    "        self.d_conv = d_conv\n",
    "        self.expand = expand\n",
    "        self.dropout_prob = dropout_prob\n",
    "        self.device = device\n",
    "        self.dtype = dtype\n",
    "\n",
    "        # 토큰 임베딩 레이어\n",
    "        self.embedding = nn.Embedding(vocab_size, d_model, **factory_kwargs)\n",
    "        self.dropout_emb = nn.Dropout(dropout_prob)\n",
    "\n",
    "        # Mamba 블록 스택\n",
    "        self.layers = nn.ModuleList([\n",
    "            MambaBlock(\n",
    "                d_model=d_model, state_size=state_size, d_conv=d_conv,\n",
    "                expand=expand, dropout_prob=dropout_prob, device=device, dtype=dtype\n",
    "            ) for _ in range(n_layers)\n",
    "        ])\n",
    "\n",
    "        # 최종 정규화 레이어\n",
    "        self.norm_f = RMSNorm(d_model, eps=1e-5)\n",
    "        # 언어 모델링 헤드 (출력 레이어)\n",
    "        self.lm_head = nn.Linear(d_model, vocab_size, bias=False, **factory_kwargs)\n",
    "\n",
    "        # 가중치 공유 (임베딩과 LM 헤드)\n",
    "        self.lm_head.weight = self.embedding.weight\n",
    "\n",
    "        # 모델 가중치 초기화 적용\n",
    "        self.apply(self._init_weights)\n",
    "        print(f\"Mamba 모델 초기화 완료. Device: {device}, Dtype: {dtype}\")\n",
    "\n",
    "    def _init_weights(self, module):\n",
    "        \"\"\"모델의 각 모듈 가중치 초기화.\"\"\"\n",
    "        if isinstance(module, nn.Linear):\n",
    "            # dt_proj의 bias는 특별 초기화되므로 건너뜀\n",
    "            if hasattr(module.bias, '_no_reinit') and module.bias._no_reinit:\n",
    "                return\n",
    "            # Linear 레이어 가중치 초기화 (예: GPT-2 스타일)\n",
    "            std = 0.02\n",
    "            # 모델 깊이에 따른 스케일링 (옵션)\n",
    "            if self.n_layers > 0:\n",
    "                 # 입력/출력 프로젝션 등 특정 레이어에만 적용 고려 가능\n",
    "                 if module.weight.shape[0] == self.d_model or module.weight.shape[1] == self.d_model:\n",
    "                     std /= math.sqrt(2.0 * self.n_layers)\n",
    "            nn.init.normal_(module.weight, mean=0.0, std=std)\n",
    "            if module.bias is not None:\n",
    "                nn.init.zeros_(module.bias)\n",
    "        elif isinstance(module, nn.Embedding):\n",
    "            # 임베딩 가중치 초기화\n",
    "            nn.init.normal_(module.weight, mean=0.0, std=0.02)\n",
    "        elif isinstance(module, MambaBlock):\n",
    "            # MambaBlock 내의 Conv1d 가중치 초기화\n",
    "            if hasattr(module, 'conv1d_weight'):\n",
    "                # Kaiming 초기화 (SiLU 활성화 함수에 적합)\n",
    "                nn.init.kaiming_normal_(module.conv1d_weight, nonlinearity='leaky_relu')\n",
    "            if hasattr(module, 'conv1d_bias'):\n",
    "                nn.init.zeros_(module.conv1d_bias)\n",
    "        # RMSNorm 가중치는 해당 클래스 생성자에서 1로 초기화됨\n",
    "        # SSM 파라미터 (A_log, D)는 해당 클래스 생성자에서 초기화됨\n",
    "\n",
    "    def forward(self, input_ids: torch.Tensor) -> tuple[torch.Tensor, None]:\n",
    "        \"\"\"Mamba 모델 순방향 계산.\"\"\"\n",
    "        B, L = input_ids.shape\n",
    "\n",
    "        # 1. 임베딩 및 드롭아웃\n",
    "        # 임베딩 레이어는 LongTensor 입력 필요\n",
    "        x = self.embedding(input_ids.long())\n",
    "        x = self.dropout_emb(x)\n",
    "\n",
    "        # 2. Mamba 블록 순차 적용\n",
    "        for layer in self.layers:\n",
    "            x = layer(x)\n",
    "\n",
    "        # 3. 최종 정규화\n",
    "        x = self.norm_f(x)\n",
    "\n",
    "        # 4. LM 헤드를 통해 로짓 계산\n",
    "        logits = self.lm_head(x) # 결과: [B, L, vocab_size]\n",
    "\n",
    "        # Loss 계산은 외부 학습 루프에서 처리 (labels 사용)\n",
    "        # 여기서는 로짓과 None 반환 (일반적인 Hugging Face 모델 스타일)\n",
    "        return logits, None"
   ]
  },
  {
   "cell_type": "code",
   "execution_count": 36,
   "id": "014a9b40",
   "metadata": {},
   "outputs": [
    {
     "data": {
      "text/plain": [
       "'\\n- pip install causal-conv1d\\n- mamba github clone > setup.py build > setup.py install\\n- sudo apt-get update && sudo apt-get install -y libaio-dev\\n'"
      ]
     },
     "execution_count": 36,
     "metadata": {},
     "output_type": "execute_result"
    }
   ],
   "source": [
    "'''\n",
    "- pip install causal-conv1d\n",
    "- mamba github clone > setup.py build > setup.py install\n",
    "- sudo apt-get update && sudo apt-get install -y libaio-dev\n",
    "'''"
   ]
  },
  {
   "cell_type": "code",
   "execution_count": 37,
   "id": "7cf6a7c4",
   "metadata": {},
   "outputs": [
    {
     "name": "stdout",
     "output_type": "stream",
     "text": [
      "Mamba 모델 초기화 완료. Device: cuda, Dtype: torch.float32\n",
      "test_output.shape = torch.Size([512, 64, 65])\n"
     ]
    }
   ],
   "source": [
    "STATE_SIZE = 8\n",
    "\n",
    "x = torch.randint(0, vocab_size, (BATCH_SIZE, SEQUENCE_LENGTH)).to(device)\n",
    "\n",
    "mamba = Mamba(HIDDEN_DIM, NUM_LAYERS, vocab_size, STATE_SIZE, d_conv=4, expand=3).to(device)\n",
    "\n",
    "test_output, _ = mamba(x)\n",
    "print(f\"test_output.shape = {test_output.shape}\") "
   ]
  },
  {
   "cell_type": "code",
   "execution_count": 38,
   "id": "e31528f8",
   "metadata": {},
   "outputs": [
    {
     "data": {
      "text/plain": [
       "==========================================================================================\n",
       "Layer (type:depth-idx)                   Output Shape              Param #\n",
       "==========================================================================================\n",
       "Mamba                                    [512, 64, 65]             --\n",
       "├─Embedding: 1-1                         [512, 64, 64]             4,160\n",
       "├─Dropout: 1-2                           [512, 64, 64]             --\n",
       "├─ModuleList: 1-3                        --                        --\n",
       "│    └─MambaBlock: 2-1                   [512, 64, 64]             960\n",
       "│    │    └─RMSNorm: 3-1                 [512, 64, 64]             64\n",
       "│    │    └─Linear: 3-2                  [512, 64, 384]            24,576\n",
       "│    │    └─SSM: 3-3                     [512, 192, 64]            9,600\n",
       "│    │    └─Linear: 3-4                  [512, 64, 64]             12,288\n",
       "│    │    └─Dropout: 3-5                 [512, 64, 64]             --\n",
       "│    └─MambaBlock: 2-2                   [512, 64, 64]             960\n",
       "│    │    └─RMSNorm: 3-6                 [512, 64, 64]             64\n",
       "│    │    └─Linear: 3-7                  [512, 64, 384]            24,576\n",
       "│    │    └─SSM: 3-8                     [512, 192, 64]            9,600\n",
       "│    │    └─Linear: 3-9                  [512, 64, 64]             12,288\n",
       "│    │    └─Dropout: 3-10                [512, 64, 64]             --\n",
       "├─RMSNorm: 1-4                           [512, 64, 64]             64\n",
       "├─Linear: 1-5                            [512, 64, 65]             4,160\n",
       "==========================================================================================\n",
       "Total params: 103,360\n",
       "Trainable params: 103,360\n",
       "Non-trainable params: 0\n",
       "Total mult-adds (M): 394.43\n",
       "==========================================================================================\n",
       "Input size (MB): 0.26\n",
       "Forward/backward pass size (MB): 333.71\n",
       "Params size (MB): 0.37\n",
       "Estimated Total Size (MB): 334.34\n",
       "=========================================================================================="
      ]
     },
     "execution_count": 38,
     "metadata": {},
     "output_type": "execute_result"
    }
   ],
   "source": [
    "from torchinfo import summary\n",
    "\n",
    "summary(mamba.to(device), input_size=(BATCH_SIZE, SEQUENCE_LENGTH), dtypes=[torch.long])"
   ]
  },
  {
   "cell_type": "code",
   "execution_count": 39,
   "id": "a427c989",
   "metadata": {},
   "outputs": [
    {
     "name": "stderr",
     "output_type": "stream",
     "text": [
      "                                                                                                                                                \r"
     ]
    },
    {
     "name": "stdout",
     "output_type": "stream",
     "text": [
      "Epoch 1/2, Train Loss: 1.8402, Val Loss: 1.8921, Epoch Time: 30.89s Average Vram Usage: 565.10MB\n"
     ]
    },
    {
     "name": "stderr",
     "output_type": "stream",
     "text": [
      "                                                                                                                                                \r"
     ]
    },
    {
     "name": "stdout",
     "output_type": "stream",
     "text": [
      "Epoch 2/2, Train Loss: 1.6439, Val Loss: 1.7853, Epoch Time: 31.67s Average Vram Usage: 565.10MB\n"
     ]
    }
   ],
   "source": [
    "train_and_test(\"Mamba\", mamba, start_text)"
   ]
  },
  {
   "cell_type": "markdown",
   "id": "2dbb22cc",
   "metadata": {},
   "source": [
    "## mingru"
   ]
  },
  {
   "cell_type": "code",
   "execution_count": 40,
   "id": "7aa2d519",
   "metadata": {},
   "outputs": [],
   "source": [
    "LOG_CLAMP_MAX = 25.0\n",
    "LOG_CLAMP_MIN = -50.0"
   ]
  },
  {
   "cell_type": "code",
   "execution_count": 41,
   "id": "14396094",
   "metadata": {},
   "outputs": [],
   "source": [
    "import torch\n",
    "import torch.nn as nn\n",
    "import torch.nn.functional as F\n",
    "import math # math.log 및 상수 사용을 위함\n",
    "\n",
    "# 로그 공간 연산 후 지수 함수 적용 전 클램핑 값 정의\n",
    "# 매우 큰 값(exp(large_num) -> inf) 또는 매우 작은 값(exp(very_small_num) -> 0)으로 인한\n",
    "# 오버플로우 또는 언더플로우 방지에 도움을 줍니다.\n",
    "# 이전 값: LOG_CLAMP_MAX = 20.0, LOG_CLAMP_MIN = -25.0\n",
    "LOG_CLAMP_MAX = 20.0  # exp(20) 은 약 4.8e8\n",
    "LOG_CLAMP_MIN = -25.0 # exp(-25) 은 약 1.3e-11\n",
    "\n",
    "def log_g(x: torch.Tensor) -> torch.Tensor:\n",
    "    \"\"\"\n",
    "    은닉 상태 후보를 로그 공간으로 변환하는 함수.\n",
    "    x >= 0 이면 log(x + 0.5)\n",
    "    x < 0 이면 log(sigmoid(x))\n",
    "    \"\"\"\n",
    "    # F.relu(x)는 x < 0 일 때 0을 반환합니다.\n",
    "    # -F.softplus(-x)는 F.logsigmoid(x)와 동일하며, log(sigmoid(x))를 계산합니다.\n",
    "    return torch.where(x >= 0, (F.relu(x) + 0.5).log(), -F.softplus(-x))\n",
    "\n",
    "def parallel_scan_log(log_coeffs: torch.Tensor, log_values: torch.Tensor) -> torch.Tensor:\n",
    "    \"\"\"\n",
    "    로그 공간에서 병렬 스캔 연산을 수행합니다.\n",
    "    이 함수는 다음 점화식을 위한 Blelloch 스캔 알고리즘을 기반으로 합니다:\n",
    "    h_t = exp(log_coeffs_t) * h_{t-1} + exp(log_values_{t+1})\n",
    "    이는 h_t = alpha_t * h_{t-1} + beta_t 로 변환되며,\n",
    "    함수는 log(h_t)를 계산합니다.\n",
    "\n",
    "    Args:\n",
    "        log_coeffs (torch.Tensor): [B, L, H] 형태의 텐서로, log(alpha_t)를 나타냅니다.\n",
    "                                   은닉 상태 점화식의 계수의 로그 값입니다.\n",
    "        log_values (torch.Tensor): [B, L+1, H] 형태의 텐서로,\n",
    "                                   [log_h_initial, log(beta_1), log(beta_2), ..., log(beta_L)]를 나타냅니다.\n",
    "                                   log_h_initial은 초기 은닉 상태의 로그 값입니다.\n",
    "                                   log(beta_t)는 각 단계에서 더해지는 항의 로그 값입니다.\n",
    "    Returns:\n",
    "        torch.Tensor: [B, L, H] 형태의 텐서로, 지수 함수가 적용된 은닉 상태 (h_1 부터 h_L까지)를 나타냅니다.\n",
    "    \"\"\"\n",
    "    # log_proda_coeffs_prefix_t = log( Product_{i=0}^{t-1} alpha_i )\n",
    "    # log_coeffs의 누적 합은 로그의 합이므로, 곱의 로그가 됩니다.\n",
    "    # F.pad는 t=0 경우 (h_initial의 계수)를 위해 0 (log(1))을 앞에 추가합니다.\n",
    "    # 입력 log_coeffs는 [B, L, H]입니다. cumsum 결과는 [B, L, H]입니다.\n",
    "    # L 차원(dim=1)에 (1,0)으로 패딩하여 [B, L+1, H]로 만듭니다.\n",
    "    log_proda_coeffs_prefix = F.pad(torch.cumsum(log_coeffs, dim=1), (0, 0, 1, 0), value=0.0)\n",
    "    # (H 차원은 0,0, L 차원은 1,0) -> L 차원의 왼쪽에 1만큼 패딩합니다.\n",
    "\n",
    "    # terms_for_logcumsumexp_t = log(beta_t) - log(Product_{i=0}^{t-1} alpha_i)\n",
    "    # = log ( beta_t / (Product_{i=0}^{t-1} alpha_i) )\n",
    "    terms_for_logcumsumexp = log_values - log_proda_coeffs_prefix\n",
    "    # logcumsumexp 전에 극단적인 값을 방지하기 위해 이 항들을 클램핑합니다.\n",
    "    # (logcumsumexp 자체는 일반적으로 안정적입니다.)\n",
    "    terms_for_logcumsumexp_clamped = torch.clamp(terms_for_logcumsumexp, min=LOG_CLAMP_MIN, max=LOG_CLAMP_MAX)\n",
    "\n",
    "    # log_sum_exp_terms_t = log( Sum_{j=0 to t} exp(terms_for_logcumsumexp_clamped_j) )\n",
    "    # 이는 log( Sum_{j=0 to t} beta_j / (Product_{i=0}^{j-1} alpha_i) )를 계산합니다.\n",
    "    log_sum_exp_terms = torch.logcumsumexp(terms_for_logcumsumexp_clamped, dim=1)\n",
    "\n",
    "    # log_hidden_states_t = log(Product_{i=0}^{t-1} alpha_i) + log( Sum_{j=0 to t} beta_j / (Product_{i=0}^{j-1} alpha_i) )\n",
    "    # 이는 log( Sum_{j=0 to t} beta_j * (Product_{i=j}^{t-1} alpha_i) )로 단순화되며, 이것이 log(h_t)입니다.\n",
    "    log_hidden_states = log_proda_coeffs_prefix + log_sum_exp_terms\n",
    "\n",
    "    # 지수 함수 적용 전에 최종 로그 은닉 상태를 클램핑합니다.\n",
    "    log_hidden_states_clamped = torch.clamp(log_hidden_states, min=LOG_CLAMP_MIN, max=LOG_CLAMP_MAX)\n",
    "\n",
    "    # h_1, ..., h_L을 반환하고자 합니다.\n",
    "    # log_hidden_states_clamped는 [B, L+1, H]이며, 인덱스 0은 log(h_initial)입니다.\n",
    "    # 따라서 인덱스 1부터 슬라이싱합니다.\n",
    "    output_hidden_states = torch.exp(log_hidden_states_clamped[:, 1:, :])\n",
    "\n",
    "    return output_hidden_states\n",
    "\n",
    "class ParallelLogMinGRU(nn.Module):\n",
    "    def __init__(self, input_size: int, hidden_size: int, epsilon: float = 1e-7):\n",
    "        super().__init__()\n",
    "        self.linear_z = nn.Linear(input_size, hidden_size)\n",
    "        self.linear_h_candidate = nn.Linear(input_size, hidden_size) # 명확성을 위해 이름 변경 (이전: linear_h)\n",
    "        self.epsilon = epsilon # log(0) 방지를 위한 작은 값\n",
    "        self._init_weights()\n",
    "\n",
    "    def _init_weights(self):\n",
    "        # 선형 레이어에 Xavier 초기화 적용\n",
    "        for name, param in self.named_parameters():\n",
    "            if 'linear' in name:\n",
    "                if 'weight' in name:\n",
    "                    nn.init.xavier_uniform_(param)\n",
    "                elif 'bias' in name:\n",
    "                    nn.init.zeros_(param)\n",
    "\n",
    "    def forward(self, x: torch.Tensor) -> torch.Tensor:\n",
    "        # x: [B, L, D_in] (배치 크기, 시퀀스 길이, 입력 차원)\n",
    "        B, L, _ = x.size()\n",
    "\n",
    "        logits_z = self.linear_z(x)  # [B, L, H] - 업데이트 게이트 Z를 위한 로짓\n",
    "\n",
    "        # log_A = log(1-Z)는 점화식에서 log(alpha_t)에 해당합니다.\n",
    "        # log(1 - sigmoid(val))을 수치적으로 안정하게 계산하는 방법: log(sigmoid(-val)) = F.logsigmoid(-val)\n",
    "        log_A = F.logsigmoid(-logits_z)  # 형태: [B, L, H]\n",
    "\n",
    "        # 은닉 상태 후보 (예: W_h * x_t + b_h)\n",
    "        h_candidate_input = self.linear_h_candidate(x) # 형태: [B, L, H]\n",
    "        # log_g 함수를 사용하여 은닉 상태 후보를 로그 공간으로 변환\n",
    "        log_h_candidate_contrib = log_g(h_candidate_input) # 형태: [B, L, H]\n",
    "\n",
    "\n",
    "        # log_B = log(Z * h_candidate_processed)\n",
    "        # log_B = log(Z) + log_h_candidate_contrib\n",
    "        # log(Z) = F.logsigmoid(logits_z)\n",
    "        log_Z = F.logsigmoid(logits_z)\n",
    "        log_B = log_Z + log_h_candidate_contrib # 형태: [B, L, H]\n",
    "\n",
    "        # 초기 은닉 상태 h_0은 종종 0입니다. log(h_0) = log(0 + epsilon).\n",
    "        # 정확한 형태와 장치로 log_h0를 위한 텐서를 생성합니다.\n",
    "        log_h0_val = torch.full((B, 1, self.linear_h_candidate.out_features),\n",
    "                                math.log(self.epsilon), # 스칼라 epsilon에는 math.log 사용\n",
    "                                device=x.device, dtype=x.dtype) # 형태: [B, 1, H]\n",
    "\n",
    "        # log_h0_val과 log_B를 결합하여 parallel_scan_log를 위한 log_values를 형성합니다.\n",
    "        # log_values는 [log_h_initial, log_beta_1, ..., log_beta_L] 형태여야 합니다.\n",
    "        log_vals = torch.cat([log_h0_val, log_B], dim=1)  # 형태: [B, L+1, H]\n",
    "\n",
    "        # log_A는 계수(log_coeffs), log_vals는 더해지는 항(log_values)입니다.\n",
    "        return parallel_scan_log(log_A, log_vals)  # 은닉 상태 h_1부터 h_L까지 반환, 형태 [B, L, H]\n",
    "\n",
    "\n",
    "class MinGRUDecoder(nn.Module):\n",
    "    def __init__(\n",
    "        self,\n",
    "        vocab_size: int,\n",
    "        embedding_dim: int,\n",
    "        hidden_dim: int,\n",
    "        num_layers: int = 2,\n",
    "        dropout: float = 0.1,\n",
    "        epsilon_gru: float = 1e-7 # GRU 셀을 위한 Epsilon 값\n",
    "    ):\n",
    "        super().__init__()\n",
    "        self.embedding = nn.Embedding(vocab_size, embedding_dim)\n",
    "        self.layers = nn.ModuleList()\n",
    "        self.layer_norms = nn.ModuleList() # 각 GRU 레이어 이후 LayerNorm\n",
    "\n",
    "        # 첫 번째 레이어: Embedding_dim -> Hidden_dim\n",
    "        self.layers.append(ParallelLogMinGRU(embedding_dim, hidden_dim, epsilon=epsilon_gru))\n",
    "        self.layer_norms.append(nn.LayerNorm(hidden_dim))\n",
    "\n",
    "        # 추가 레이어: Hidden_dim -> Hidden_dim\n",
    "        for _ in range(num_layers - 1):\n",
    "            self.layers.append(ParallelLogMinGRU(hidden_dim, hidden_dim, epsilon=epsilon_gru))\n",
    "            self.layer_norms.append(nn.LayerNorm(hidden_dim))\n",
    "\n",
    "        self.fc1 = nn.Linear(hidden_dim, hidden_dim)\n",
    "        self.fc2 = nn.Linear(hidden_dim, vocab_size)\n",
    "        self.dropout_final = nn.Dropout(dropout) # 최종 FC 레이어 전 드롭아웃\n",
    "        self.dropout_inter_layer = nn.Dropout(dropout) if num_layers > 1 else nn.Identity()\n",
    "\n",
    "\n",
    "    def forward(self, x: torch.Tensor) -> tuple[torch.Tensor, None]:\n",
    "        \"\"\"\n",
    "        x: (batch, seq_len) 형태의 LongTensor, 입력 토큰 ID를 나타냄\n",
    "        반환값: logits (batch, seq_len, vocab_size)\n",
    "        \"\"\"\n",
    "        h = self.embedding(x)  # [B, L, E] (배치, 시퀀스 길이, 임베딩 차원)\n",
    "\n",
    "        for i, layer in enumerate(self.layers):\n",
    "            # 잔차 연결을 위해 이전 h를 저장할 수 있으나, 여기서는 구현되지 않음\n",
    "            # h_prev = h\n",
    "            \n",
    "            h = layer(h)      # ParallelLogMinGRU 레이어 적용 -> [B, L, H]\n",
    "            h = self.layer_norms[i](h) # LayerNorm 적용 -> [B, L, H]\n",
    "\n",
    "            # GRU 레이어 간 드롭아웃 적용 (이 루프의 마지막 GRU 레이어 이후에는 적용 안 함)\n",
    "            if i < len(self.layers) - 1:\n",
    "                h = self.dropout_inter_layer(h)\n",
    "        \n",
    "        # h는 이제 마지막 GRU 레이어(와 해당 LayerNorm)의 출력입니다.\n",
    "\n",
    "        # 완전 연결 계층 전에 최종 드롭아웃을 적용합니다.\n",
    "        h = self.dropout_final(h)\n",
    "\n",
    "        h = F.gelu(self.fc1(h))    # 첫 번째 FC 레이어 + GELU 활성화 -> [B, L, H]\n",
    "        logits = self.fc2(h)       # 최종 FC 레이어, vocab_size 로짓 생성 -> [B, L, V]\n",
    "        \n",
    "        # 원본 코드는 (logits, _)를 반환하여 두 번째 반환 값(예: 마지막 은닉 상태)의 가능성을 암시했습니다.\n",
    "        # 현재로서는 train 함수가 이를 사용할 경우 예상되는 튜플 출력을 맞추기 위해 두 번째 값으로 None을 반환합니다.\n",
    "        return logits, None"
   ]
  },
  {
   "cell_type": "code",
   "execution_count": 42,
   "id": "4c86a2d5",
   "metadata": {},
   "outputs": [],
   "source": [
    "### Model Initialization\n",
    "mingru = MinGRUDecoder(vocab_size, EMBEDDING_DIM, HIDDEN_DIM, NUM_LAYERS).to(device)\n",
    "criterion = nn.CrossEntropyLoss()\n",
    "optimizer = optim.AdamW(mingru.parameters(), lr=LEARNING_RATE)"
   ]
  },
  {
   "cell_type": "code",
   "execution_count": 43,
   "id": "8199acd7",
   "metadata": {},
   "outputs": [
    {
     "data": {
      "text/plain": [
       "==========================================================================================\n",
       "Layer (type:depth-idx)                   Output Shape              Param #\n",
       "==========================================================================================\n",
       "MinGRUDecoder                            [512, 64, 65]             --\n",
       "├─Embedding: 1-1                         [512, 64, 32]             2,080\n",
       "├─ModuleList: 1-5                        --                        (recursive)\n",
       "│    └─ParallelLogMinGRU: 2-1            [512, 64, 64]             --\n",
       "│    │    └─Linear: 3-1                  [512, 64, 64]             2,112\n",
       "│    │    └─Linear: 3-2                  [512, 64, 64]             2,112\n",
       "├─ModuleList: 1-6                        --                        (recursive)\n",
       "│    └─LayerNorm: 2-2                    [512, 64, 64]             128\n",
       "├─Dropout: 1-4                           [512, 64, 64]             --\n",
       "├─ModuleList: 1-5                        --                        (recursive)\n",
       "│    └─ParallelLogMinGRU: 2-3            [512, 64, 64]             --\n",
       "│    │    └─Linear: 3-3                  [512, 64, 64]             4,160\n",
       "│    │    └─Linear: 3-4                  [512, 64, 64]             4,160\n",
       "├─ModuleList: 1-6                        --                        (recursive)\n",
       "│    └─LayerNorm: 2-4                    [512, 64, 64]             128\n",
       "├─Dropout: 1-7                           [512, 64, 64]             --\n",
       "├─Linear: 1-8                            [512, 64, 64]             4,160\n",
       "├─Linear: 1-9                            [512, 64, 65]             4,225\n",
       "==========================================================================================\n",
       "Total params: 23,265\n",
       "Trainable params: 23,265\n",
       "Non-trainable params: 0\n",
       "Total mult-adds (M): 11.91\n",
       "==========================================================================================\n",
       "Input size (MB): 0.26\n",
       "Forward/backward pass size (MB): 142.87\n",
       "Params size (MB): 0.09\n",
       "Estimated Total Size (MB): 143.22\n",
       "=========================================================================================="
      ]
     },
     "execution_count": 43,
     "metadata": {},
     "output_type": "execute_result"
    }
   ],
   "source": [
    "from torchinfo import summary\n",
    "\n",
    "summary(mingru, input_size=(BATCH_SIZE, SEQUENCE_LENGTH), dtypes=[torch.long])"
   ]
  },
  {
   "cell_type": "code",
   "execution_count": 44,
   "id": "284bd8a6",
   "metadata": {},
   "outputs": [],
   "source": [
    "EPOCHS = 20"
   ]
  },
  {
   "cell_type": "code",
   "execution_count": 45,
   "id": "9f66c397",
   "metadata": {},
   "outputs": [
    {
     "name": "stderr",
     "output_type": "stream",
     "text": [
      "                                                                                                                                                \r"
     ]
    },
    {
     "name": "stdout",
     "output_type": "stream",
     "text": [
      "Epoch 1/20, Train Loss: 2.8209, Val Loss: 2.8024, Epoch Time: 26.61s Average Vram Usage: 563.17MB\n"
     ]
    },
    {
     "name": "stderr",
     "output_type": "stream",
     "text": [
      "                                                                                                                                                \r"
     ]
    },
    {
     "name": "stdout",
     "output_type": "stream",
     "text": [
      "Epoch 2/20, Train Loss: 2.5395, Val Loss: 2.4750, Epoch Time: 26.71s Average Vram Usage: 563.17MB\n"
     ]
    },
    {
     "name": "stderr",
     "output_type": "stream",
     "text": [
      "                                                                                                                                                \r"
     ]
    },
    {
     "name": "stdout",
     "output_type": "stream",
     "text": [
      "Epoch 3/20, Train Loss: 2.4459, Val Loss: 2.3421, Epoch Time: 26.79s Average Vram Usage: 563.17MB\n"
     ]
    },
    {
     "name": "stderr",
     "output_type": "stream",
     "text": [
      "                                                                                                                                                \r"
     ]
    },
    {
     "name": "stdout",
     "output_type": "stream",
     "text": [
      "Epoch 4/20, Train Loss: 2.3477, Val Loss: 2.2892, Epoch Time: 27.32s Average Vram Usage: 563.17MB\n"
     ]
    },
    {
     "name": "stderr",
     "output_type": "stream",
     "text": [
      "                                                                                                                                                \r"
     ]
    },
    {
     "name": "stdout",
     "output_type": "stream",
     "text": [
      "Epoch 5/20, Train Loss: 2.3039, Val Loss: 2.2598, Epoch Time: 26.44s Average Vram Usage: 563.17MB\n"
     ]
    },
    {
     "name": "stderr",
     "output_type": "stream",
     "text": [
      "                                                                                                                                                 \r"
     ]
    },
    {
     "name": "stdout",
     "output_type": "stream",
     "text": [
      "Epoch 6/20, Train Loss: 2.2598, Val Loss: 2.2440, Epoch Time: 26.74s Average Vram Usage: 563.17MB\n"
     ]
    },
    {
     "name": "stderr",
     "output_type": "stream",
     "text": [
      "                                                                                                                                                 \r"
     ]
    },
    {
     "name": "stdout",
     "output_type": "stream",
     "text": [
      "Epoch 7/20, Train Loss: 2.2378, Val Loss: 2.2328, Epoch Time: 27.19s Average Vram Usage: 563.17MB\n"
     ]
    },
    {
     "name": "stderr",
     "output_type": "stream",
     "text": [
      "                                                                                                                                                 \r"
     ]
    },
    {
     "name": "stdout",
     "output_type": "stream",
     "text": [
      "Epoch 8/20, Train Loss: 2.2086, Val Loss: 2.2303, Epoch Time: 26.27s Average Vram Usage: 563.17MB\n"
     ]
    },
    {
     "name": "stderr",
     "output_type": "stream",
     "text": [
      "                                                                                                                                                 \r"
     ]
    },
    {
     "name": "stdout",
     "output_type": "stream",
     "text": [
      "Epoch 9/20, Train Loss: 2.2025, Val Loss: 2.2274, Epoch Time: 26.43s Average Vram Usage: 563.17MB\n"
     ]
    },
    {
     "name": "stderr",
     "output_type": "stream",
     "text": [
      "                                                                                                                                                  \r"
     ]
    },
    {
     "name": "stdout",
     "output_type": "stream",
     "text": [
      "Epoch 10/20, Train Loss: 2.1847, Val Loss: 2.2237, Epoch Time: 25.29s Average Vram Usage: 563.17MB\n"
     ]
    },
    {
     "name": "stderr",
     "output_type": "stream",
     "text": [
      "                                                                                                                                                   \r"
     ]
    },
    {
     "name": "stdout",
     "output_type": "stream",
     "text": [
      "Epoch 11/20, Train Loss: 2.1799, Val Loss: 2.2204, Epoch Time: 25.52s Average Vram Usage: 563.17MB\n"
     ]
    },
    {
     "name": "stderr",
     "output_type": "stream",
     "text": [
      "                                                                                                                                                  \r"
     ]
    },
    {
     "name": "stdout",
     "output_type": "stream",
     "text": [
      "Epoch 12/20, Train Loss: 2.1866, Val Loss: 2.2097, Epoch Time: 26.12s Average Vram Usage: 563.17MB\n"
     ]
    },
    {
     "name": "stderr",
     "output_type": "stream",
     "text": [
      "                                                                                                                                                  \r"
     ]
    },
    {
     "name": "stdout",
     "output_type": "stream",
     "text": [
      "Epoch 13/20, Train Loss: 2.1576, Val Loss: 2.2088, Epoch Time: 26.47s Average Vram Usage: 563.17MB\n"
     ]
    },
    {
     "name": "stderr",
     "output_type": "stream",
     "text": [
      "                                                                                                                                                  \r"
     ]
    },
    {
     "name": "stdout",
     "output_type": "stream",
     "text": [
      "Epoch 14/20, Train Loss: 2.1439, Val Loss: 2.2040, Epoch Time: 26.86s Average Vram Usage: 563.17MB\n"
     ]
    },
    {
     "name": "stderr",
     "output_type": "stream",
     "text": [
      "                                                                                                                                                  \r"
     ]
    },
    {
     "name": "stdout",
     "output_type": "stream",
     "text": [
      "Epoch 15/20, Train Loss: 2.1344, Val Loss: 2.1981, Epoch Time: 25.91s Average Vram Usage: 563.17MB\n"
     ]
    },
    {
     "name": "stderr",
     "output_type": "stream",
     "text": [
      "                                                                                                                                                  \r"
     ]
    },
    {
     "name": "stdout",
     "output_type": "stream",
     "text": [
      "Epoch 16/20, Train Loss: 2.1675, Val Loss: 2.1903, Epoch Time: 26.68s Average Vram Usage: 563.17MB\n"
     ]
    },
    {
     "name": "stderr",
     "output_type": "stream",
     "text": [
      "                                                                                                                                                  \r"
     ]
    },
    {
     "name": "stdout",
     "output_type": "stream",
     "text": [
      "Epoch 17/20, Train Loss: 2.1237, Val Loss: 2.1888, Epoch Time: 26.16s Average Vram Usage: 563.17MB\n"
     ]
    },
    {
     "name": "stderr",
     "output_type": "stream",
     "text": [
      "                                                                                                                                                  \r"
     ]
    },
    {
     "name": "stdout",
     "output_type": "stream",
     "text": [
      "Epoch 18/20, Train Loss: 2.1337, Val Loss: 2.1838, Epoch Time: 26.47s Average Vram Usage: 563.17MB\n"
     ]
    },
    {
     "name": "stderr",
     "output_type": "stream",
     "text": [
      "                                                                                                                                                  \r"
     ]
    },
    {
     "name": "stdout",
     "output_type": "stream",
     "text": [
      "Epoch 19/20, Train Loss: 2.1255, Val Loss: 2.1855, Epoch Time: 25.82s Average Vram Usage: 563.17MB\n"
     ]
    },
    {
     "name": "stderr",
     "output_type": "stream",
     "text": [
      "                                                                                                                                                  \r"
     ]
    },
    {
     "name": "stdout",
     "output_type": "stream",
     "text": [
      "Epoch 20/20, Train Loss: 2.1168, Val Loss: 2.1816, Epoch Time: 26.65s Average Vram Usage: 563.17MB\n"
     ]
    }
   ],
   "source": [
    "train_and_test(\"minGRU\", mingru, start_text)"
   ]
  },
  {
   "cell_type": "code",
   "execution_count": 46,
   "id": "b912f66e",
   "metadata": {},
   "outputs": [],
   "source": [
    "import io\n",
    "\n",
    "def count_params(m): return sum(p.numel() for p in m.parameters())\n",
    "def model_size_kb(m):\n",
    "    buf=io.BytesIO(); torch.save(m.state_dict(),buf)\n",
    "    return round(len(buf.getvalue())/1024)\n",
    "def measure_time_ms(m,inp,iters=20):\n",
    "    m.eval()\n",
    "    with torch.no_grad():\n",
    "        for _ in range(5): m(inp)\n",
    "        ts=[]\n",
    "        for _ in range(iters):\n",
    "            t0=time.time(); m(inp); ts.append((time.time()-t0)*1000)\n",
    "    return sum(ts)/len(ts)\n",
    "\n",
    "# settings\n",
    "device='cuda'\n",
    "\n",
    "models={\n",
    "    \"Transformer\":llama,\n",
    "    \"Mamba\": mamba,\n",
    "    \"GRU\": gru,\n",
    "    \"MinGRU\": mingru\n",
    "}\n",
    "\n",
    "# 1) fixed length\n",
    "inputs=torch.randint(vocab_size,(BATCH_SIZE,SEQUENCE_LENGTH),dtype=torch.long,device=device)\n",
    "records=[]\n",
    "for name,m in models.items():\n",
    "    records.append({\n",
    "        \"Model\": name,\n",
    "        \"Params\": count_params(m),\n",
    "        \"Size_KB\": model_size_kb(m),\n",
    "        \"Time_512_ms\": round(measure_time_ms(m,inputs), 2)\n",
    "    })\n",
    "df_fixed=pd.DataFrame(records).set_index(\"Model\")\n",
    "\n",
    "# 2) speed vs length\n",
    "seq_lens=[128,256,512,768,1024]\n",
    "speed_data={name:[round(measure_time_ms(m,torch.randint(vocab_size,(BATCH_SIZE,L),dtype=torch.long,device=device)), 2) for L in seq_lens]\n",
    "            for name,m in models.items()}\n",
    "df_speed=pd.DataFrame(speed_data,index=seq_lens)\n",
    "df_speed.index.name=\"Seq_Len\"\n"
   ]
  },
  {
   "cell_type": "code",
   "execution_count": 47,
   "id": "bf8ee361",
   "metadata": {},
   "outputs": [
    {
     "name": "stdout",
     "output_type": "stream",
     "text": [
      "=== Comparison ===\n"
     ]
    },
    {
     "data": {
      "text/html": [
       "<div>\n",
       "<style scoped>\n",
       "    .dataframe tbody tr th:only-of-type {\n",
       "        vertical-align: middle;\n",
       "    }\n",
       "\n",
       "    .dataframe tbody tr th {\n",
       "        vertical-align: top;\n",
       "    }\n",
       "\n",
       "    .dataframe thead th {\n",
       "        text-align: right;\n",
       "    }\n",
       "</style>\n",
       "<table border=\"1\" class=\"dataframe\">\n",
       "  <thead>\n",
       "    <tr style=\"text-align: right;\">\n",
       "      <th></th>\n",
       "      <th>Params</th>\n",
       "      <th>Size_KB</th>\n",
       "      <th>Time_512_ms</th>\n",
       "    </tr>\n",
       "    <tr>\n",
       "      <th>Model</th>\n",
       "      <th></th>\n",
       "      <th></th>\n",
       "      <th></th>\n",
       "    </tr>\n",
       "  </thead>\n",
       "  <tbody>\n",
       "    <tr>\n",
       "      <th>Transformer</th>\n",
       "      <td>61680</td>\n",
       "      <td>249</td>\n",
       "      <td>2.62</td>\n",
       "    </tr>\n",
       "    <tr>\n",
       "      <th>Mamba</th>\n",
       "      <td>99200</td>\n",
       "      <td>395</td>\n",
       "      <td>1.35</td>\n",
       "    </tr>\n",
       "    <tr>\n",
       "      <th>GRU</th>\n",
       "      <td>79329</td>\n",
       "      <td>315</td>\n",
       "      <td>24.16</td>\n",
       "    </tr>\n",
       "    <tr>\n",
       "      <th>MinGRU</th>\n",
       "      <td>23265</td>\n",
       "      <td>96</td>\n",
       "      <td>0.86</td>\n",
       "    </tr>\n",
       "  </tbody>\n",
       "</table>\n",
       "</div>"
      ],
      "text/plain": [
       "             Params  Size_KB  Time_512_ms\n",
       "Model                                    \n",
       "Transformer   61680      249         2.62\n",
       "Mamba         99200      395         1.35\n",
       "GRU           79329      315        24.16\n",
       "MinGRU        23265       96         0.86"
      ]
     },
     "metadata": {},
     "output_type": "display_data"
    }
   ],
   "source": [
    "print(\"=== Comparison ===\")\n",
    "display(df_fixed)"
   ]
  },
  {
   "cell_type": "code",
   "execution_count": 48,
   "id": "fd1c5791",
   "metadata": {},
   "outputs": [
    {
     "data": {
      "text/html": [
       "<div>\n",
       "<style scoped>\n",
       "    .dataframe tbody tr th:only-of-type {\n",
       "        vertical-align: middle;\n",
       "    }\n",
       "\n",
       "    .dataframe tbody tr th {\n",
       "        vertical-align: top;\n",
       "    }\n",
       "\n",
       "    .dataframe thead th {\n",
       "        text-align: right;\n",
       "    }\n",
       "</style>\n",
       "<table border=\"1\" class=\"dataframe\">\n",
       "  <thead>\n",
       "    <tr style=\"text-align: right;\">\n",
       "      <th></th>\n",
       "      <th>Transformer</th>\n",
       "      <th>Mamba</th>\n",
       "      <th>GRU</th>\n",
       "      <th>MinGRU</th>\n",
       "    </tr>\n",
       "    <tr>\n",
       "      <th>Seq_Len</th>\n",
       "      <th></th>\n",
       "      <th></th>\n",
       "      <th></th>\n",
       "      <th></th>\n",
       "    </tr>\n",
       "  </thead>\n",
       "  <tbody>\n",
       "    <tr>\n",
       "      <th>128</th>\n",
       "      <td>5.29</td>\n",
       "      <td>4.81</td>\n",
       "      <td>48.06</td>\n",
       "      <td>1.00</td>\n",
       "    </tr>\n",
       "    <tr>\n",
       "      <th>256</th>\n",
       "      <td>14.11</td>\n",
       "      <td>4.71</td>\n",
       "      <td>95.86</td>\n",
       "      <td>4.11</td>\n",
       "    </tr>\n",
       "    <tr>\n",
       "      <th>512</th>\n",
       "      <td>46.84</td>\n",
       "      <td>9.48</td>\n",
       "      <td>190.72</td>\n",
       "      <td>8.25</td>\n",
       "    </tr>\n",
       "    <tr>\n",
       "      <th>768</th>\n",
       "      <td>99.98</td>\n",
       "      <td>17.34</td>\n",
       "      <td>285.68</td>\n",
       "      <td>14.27</td>\n",
       "    </tr>\n",
       "    <tr>\n",
       "      <th>1024</th>\n",
       "      <td>173.97</td>\n",
       "      <td>26.49</td>\n",
       "      <td>380.65</td>\n",
       "      <td>20.26</td>\n",
       "    </tr>\n",
       "  </tbody>\n",
       "</table>\n",
       "</div>"
      ],
      "text/plain": [
       "         Transformer  Mamba     GRU  MinGRU\n",
       "Seq_Len                                    \n",
       "128             5.29   4.81   48.06    1.00\n",
       "256            14.11   4.71   95.86    4.11\n",
       "512            46.84   9.48  190.72    8.25\n",
       "768            99.98  17.34  285.68   14.27\n",
       "1024          173.97  26.49  380.65   20.26"
      ]
     },
     "metadata": {},
     "output_type": "display_data"
    }
   ],
   "source": [
    "display(df_speed)"
   ]
  },
  {
   "cell_type": "code",
   "execution_count": 49,
   "id": "6ece8e22",
   "metadata": {},
   "outputs": [
    {
     "data": {
      "image/png": "[encoded data removed]",
      "text/plain": [
       "<Figure size 640x480 with 1 Axes>"
      ]
     },
     "metadata": {},
     "output_type": "display_data"
    }
   ],
   "source": [
    "import matplotlib.pyplot as plt\n",
    "\n",
    "# df_speed: DataFrame with index=sequence lengths and columns=model names, values=time in ms\n",
    "plt.figure()\n",
    "for model in df_speed.columns:\n",
    "    plt.plot(df_speed.index, df_speed[model], marker='o', label=model)\n",
    "plt.xlabel(\"Sequence Length\")\n",
    "plt.ylabel(\"Inference Time (ms)\")\n",
    "plt.title(\"Inference Time vs Sequence Length\")\n",
    "plt.legend()\n",
    "plt.grid(True)\n",
    "plt.tight_layout()\n",
    "plt.show()\n"
   ]
  }
 ],
 "metadata": {
  "accelerator": "GPU",
  "colab": {
   "gpuType": "T4",
   "provenance": []
  },
  "kernelspec": {
   "display_name": "Python 3",
   "name": "python3"
  },
  "language_info": {
   "codemirror_mode": {
    "name": "ipython",
    "version": 3
   },
   "file_extension": ".py",
   "mimetype": "text/x-python",
   "name": "python",
   "nbconvert_exporter": "python",
   "pygments_lexer": "ipython3",
   "version": "3.10.12"
  }
 },
 "nbformat": 4,
 "nbformat_minor": 5
}
