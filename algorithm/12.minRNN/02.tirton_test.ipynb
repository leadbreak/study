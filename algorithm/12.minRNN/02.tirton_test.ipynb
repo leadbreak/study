{
 "cells": [
  {
   "cell_type": "code",
   "execution_count": 17,
   "id": "ce0f7402",
   "metadata": {},
   "outputs": [],
   "source": [
    "import torch\n",
    "from torch import nn\n",
    "\n",
    "# 랜덤 시드 고정\n",
    "torch.manual_seed(0)\n",
    "B, T, d_x, d_h, L = 2, 5, 3, 4, 1\n",
    "x = torch.randn(B, T, d_x)\n",
    "h0 = torch.randn(1, B, d_h)\n",
    "c0 = torch.randn(1, B, d_h)"
   ]
  },
  {
   "cell_type": "code",
   "execution_count": null,
   "id": "e21c04dd",
   "metadata": {},
   "outputs": [],
   "source": [
    "# LSTM\n",
    "lstm = nn.LSTM(input_size=d_x, hidden_size=d_h, num_layers=L,\n",
    "               bias=True, batch_first=True, bidirectional=False)\n",
    "# 입력: x of shape [batch, seq_len, d_x]\n",
    "# 초기 hidden/cell: (h0, c0) each of shape [L, batch, d_h]\n",
    "out, (hn, cn) = lstm(x, (h0, c0))\n",
    "# out: [batch, seq_len, d_h];  hn, cn: [L, batch, d_h]\n",
    "\n",
    "# GRU\n",
    "gru = nn.GRU(input_size=d_x, hidden_size=d_h, num_layers=L,\n",
    "             bias=True, batch_first=True, bidirectional=False)\n",
    "# out: [batch, seq_len, d_h];  hn: [L, batch, d_h]\n"
   ]
  },
  {
   "cell_type": "code",
   "execution_count": 19,
   "id": "be4bd07f",
   "metadata": {},
   "outputs": [],
   "source": [
    "class MyLSTMCell(nn.Module):\n",
    "    def __init__(self, d_x, d_h):\n",
    "        super().__init__()\n",
    "        self.W = nn.Linear(d_x + d_h, 4 * d_h, bias=False)\n",
    "\n",
    "    def forward(self, x_t, hc_prev):\n",
    "        h_prev, c_prev = hc_prev\n",
    "        concat = torch.cat([x_t, h_prev], dim=-1)  # [B, d_x + d_h]\n",
    "        f,i,ctilde,o = self.W(concat).chunk(4, dim=-1)\n",
    "        f = torch.sigmoid(f); i = torch.sigmoid(i)\n",
    "        ctilde = torch.tanh(ctilde); o = torch.sigmoid(o)\n",
    "        c_t = f * c_prev + i * ctilde\n",
    "        h_t = o * torch.tanh(c_t)\n",
    "        return h_t, c_t\n",
    "\n",
    "class MyLSTM(nn.Module):\n",
    "    def __init__(self, d_x, d_h):\n",
    "        super().__init__()\n",
    "        self.cell = MyLSTMCell(d_x, d_h)\n",
    "\n",
    "    def forward(self, x, hc0):\n",
    "        # x: [B, T, d_x], hc0: ([B,d_h],[B,d_h])\n",
    "        h, c = hc0\n",
    "        outputs = []\n",
    "        for t in range(x.size(1)):\n",
    "            h, c = self.cell(x[:,t], (h, c))\n",
    "            outputs.append(h.unsqueeze(1))\n",
    "        return torch.cat(outputs, dim=1), (h, c)\n"
   ]
  },
  {
   "cell_type": "code",
   "execution_count": 20,
   "id": "70d727a5",
   "metadata": {},
   "outputs": [
    {
     "ename": "RuntimeError",
     "evalue": "The expanded size of the tensor (3) must match the existing size (7) at non-singleton dimension 1.  Target sizes: [16, 3].  Tensor sizes: [16, 7]",
     "output_type": "error",
     "traceback": [
      "\u001b[0;31m---------------------------------------------------------------------------\u001b[0m",
      "\u001b[0;31mRuntimeError\u001b[0m                              Traceback (most recent call last)",
      "Cell \u001b[0;32mIn[20], line 4\u001b[0m\n\u001b[1;32m      1\u001b[0m mylstm \u001b[38;5;241m=\u001b[39m MyLSTM(d_x, d_h)\n\u001b[1;32m      3\u001b[0m lstm \u001b[38;5;241m=\u001b[39m nn\u001b[38;5;241m.\u001b[39mLSTM(d_x, d_h, num_layers\u001b[38;5;241m=\u001b[39m\u001b[38;5;241m1\u001b[39m, bias\u001b[38;5;241m=\u001b[39m\u001b[38;5;28;01mFalse\u001b[39;00m, batch_first\u001b[38;5;241m=\u001b[39m\u001b[38;5;28;01mTrue\u001b[39;00m)\n\u001b[0;32m----> 4\u001b[0m \u001b[43mlstm\u001b[49m\u001b[38;5;241;43m.\u001b[39;49m\u001b[43mweight_ih_l0\u001b[49m\u001b[38;5;241;43m.\u001b[39;49m\u001b[43mdata\u001b[49m\u001b[43m[\u001b[49m\u001b[43m:\u001b[49m\u001b[43m]\u001b[49m \u001b[38;5;241m=\u001b[39m torch\u001b[38;5;241m.\u001b[39mcat([mylstm\u001b[38;5;241m.\u001b[39mcell\u001b[38;5;241m.\u001b[39mW\u001b[38;5;241m.\u001b[39mweight[:d_h],\n\u001b[1;32m      5\u001b[0m                                        mylstm\u001b[38;5;241m.\u001b[39mcell\u001b[38;5;241m.\u001b[39mW\u001b[38;5;241m.\u001b[39mweight[d_h:\u001b[38;5;241m2\u001b[39m\u001b[38;5;241m*\u001b[39md_h],\n\u001b[1;32m      6\u001b[0m                                        mylstm\u001b[38;5;241m.\u001b[39mcell\u001b[38;5;241m.\u001b[39mW\u001b[38;5;241m.\u001b[39mweight[\u001b[38;5;241m2\u001b[39m\u001b[38;5;241m*\u001b[39md_h:\u001b[38;5;241m3\u001b[39m\u001b[38;5;241m*\u001b[39md_h],\n\u001b[1;32m      7\u001b[0m                                        mylstm\u001b[38;5;241m.\u001b[39mcell\u001b[38;5;241m.\u001b[39mW\u001b[38;5;241m.\u001b[39mweight[\u001b[38;5;241m3\u001b[39m\u001b[38;5;241m*\u001b[39md_h:]], dim\u001b[38;5;241m=\u001b[39m\u001b[38;5;241m0\u001b[39m)\n\u001b[1;32m      8\u001b[0m lstm\u001b[38;5;241m.\u001b[39mweight_hh_l0\u001b[38;5;241m.\u001b[39mdata[:] \u001b[38;5;241m=\u001b[39m torch\u001b[38;5;241m.\u001b[39mzeros_like(lstm\u001b[38;5;241m.\u001b[39mweight_hh_l0)  \u001b[38;5;66;03m# myLSTMCell은 hh weight 없음\u001b[39;00m\n\u001b[1;32m     10\u001b[0m out1, (hn1, cn1) \u001b[38;5;241m=\u001b[39m mylstm(x, (h0\u001b[38;5;241m.\u001b[39msqueeze(\u001b[38;5;241m0\u001b[39m), c0\u001b[38;5;241m.\u001b[39msqueeze(\u001b[38;5;241m0\u001b[39m)))\n",
      "\u001b[0;31mRuntimeError\u001b[0m: The expanded size of the tensor (3) must match the existing size (7) at non-singleton dimension 1.  Target sizes: [16, 3].  Tensor sizes: [16, 7]"
     ]
    }
   ],
   "source": [
    "mylstm = MyLSTM(d_x, d_h)\n",
    "\n",
    "lstm = nn.LSTM(d_x, d_h, num_layers=1, bias=False, batch_first=True)\n",
    "lstm.weight_ih_l0.data[:] = torch.cat([mylstm.cell.W.weight[:d_h],\n",
    "                                       mylstm.cell.W.weight[d_h:2*d_h],\n",
    "                                       mylstm.cell.W.weight[2*d_h:3*d_h],\n",
    "                                       mylstm.cell.W.weight[3*d_h:]], dim=0)\n",
    "lstm.weight_hh_l0.data[:] = torch.zeros_like(lstm.weight_hh_l0)  # myLSTMCell은 hh weight 없음\n",
    "\n",
    "out1, (hn1, cn1) = mylstm(x, (h0.squeeze(0), c0.squeeze(0)))\n",
    "out2, (hn2, cn2) = lstm(x, (h0, c0))\n",
    "\n",
    "print(\"Max abs diff:\", (out1 - out2).abs().max().item())"
   ]
  },
  {
   "cell_type": "code",
   "execution_count": 1,
   "id": "9c91b5a7",
   "metadata": {},
   "outputs": [
    {
     "name": "stderr",
     "output_type": "stream",
     "text": [
      "/usr/local/lib/python3.10/dist-packages/torch/utils/_pytree.py:185: FutureWarning: optree is installed but the version is too old to support PyTorch Dynamo in C++ pytree. C++ pytree support is disabled. Please consider upgrading optree using `python3 -m pip install --upgrade 'optree>=0.13.0'`.\n",
      "  warnings.warn(\n"
     ]
    }
   ],
   "source": [
    "import torch\n",
    "\n",
    "def heinsen_associative_scan_log(log_coeffs, log_values):\n",
    "    # log_coeffs: [B, T, D], log_values: [B, T+1, D]\n",
    "    # 1) 누적합 계산 후 앞에 0 패딩\n",
    "    a_star = log_coeffs.cumsum(dim=1)                              # [B, T, D]\n",
    "    zero = torch.zeros_like(a_star[:, :1, :])                      # [B, 1, D]\n",
    "    a_star_padded = torch.cat([zero, a_star], dim=1)               # [B, T+1, D]\n",
    "\n",
    "    # 2) Hillis–Steele prefix-scan의 로그-누적\n",
    "    log_h0_plus_b_star = (log_values - a_star_padded).logcumsumexp(dim=1)\n",
    "\n",
    "    # 3) 최종 결과 복원\n",
    "    log_h = a_star_padded + log_h0_plus_b_star\n",
    "    return log_h.exp()"
   ]
  },
  {
   "cell_type": "code",
   "execution_count": 2,
   "id": "b580a774",
   "metadata": {},
   "outputs": [],
   "source": [
    "import triton\n",
    "import triton.language as tl\n",
    "\n",
    "@triton.jit\n",
    "def row_scan_kernel(\n",
    "    x_ptr, y_ptr, length_ptr, stride_ptr,\n",
    "    BLOCK: tl.constexpr\n",
    "):\n",
    "    row_id = tl.program_id(0)\n",
    "    length = tl.load(length_ptr)\n",
    "    stride = tl.load(stride_ptr)\n",
    "    offs = tl.arange(0, BLOCK)\n",
    "\n",
    "    # 입력/출력 포인터\n",
    "    base_ptr = x_ptr + row_id * stride\n",
    "    mask = offs < length\n",
    "    data = tl.load(base_ptr + offs, mask=mask)\n",
    "\n",
    "    # Hillis–Steele\n",
    "    step = 1\n",
    "    while step < BLOCK:\n",
    "        prev = tl.load(base_ptr + offs - step, mask=offs >= step)\n",
    "        data = tl.where(offs >= step, data + prev, data)\n",
    "        step *= 2\n",
    "\n",
    "    tl.store(y_ptr + row_id * stride + offs, data, mask=mask)"
   ]
  },
  {
   "cell_type": "code",
   "execution_count": 3,
   "id": "99c95121",
   "metadata": {},
   "outputs": [],
   "source": [
    "def triton_scan(log_values: torch.Tensor, block_size: int = 128) -> torch.Tensor:\n",
    "    B, Lp1, D = log_values.shape\n",
    "    flat = log_values.permute(0,2,1).reshape(-1, Lp1).contiguous()\n",
    "    out_flat = torch.empty_like(flat)\n",
    "\n",
    "    length_ptr = torch.tensor([Lp1], device=flat.device, dtype=torch.int32)\n",
    "    stride_ptr = torch.tensor([Lp1], device=flat.device, dtype=torch.int32)\n",
    "\n",
    "    grid = (flat.shape[0],)\n",
    "    row_scan_kernel[grid](\n",
    "        flat, out_flat, length_ptr, stride_ptr,\n",
    "        BLOCK=block_size, num_warps=4\n",
    "    )\n",
    "\n",
    "    return out_flat.view(B, D, Lp1).permute(0,2,1).contiguous()"
   ]
  },
  {
   "cell_type": "code",
   "execution_count": 8,
   "id": "aafbc406",
   "metadata": {},
   "outputs": [
    {
     "data": {
      "text/plain": [
       "(torch.Size([1, 5, 8]), torch.Size([1, 5, 8]))"
      ]
     },
     "execution_count": 8,
     "metadata": {},
     "output_type": "execute_result"
    }
   ],
   "source": [
    "from torch.utils.benchmark import Timer\n",
    "\n",
    "# 데이터 준비\n",
    "device = 'cuda'\n",
    "B, T, D = 1, 4, 8\n",
    "log_coeffs = torch.randn(B, T, D, device=device).abs()\n",
    "log_values = torch.randn(B, T+1, D, device=device).abs()\n",
    "\n",
    "# Warmup\n",
    "torch_one = heinsen_associative_scan_log(log_coeffs, log_values)\n",
    "triton_one = triton_scan(log_values)\n",
    "\n",
    "torch_one.shape, triton_one.shape"
   ]
  },
  {
   "cell_type": "code",
   "execution_count": 10,
   "id": "bf562b7f",
   "metadata": {},
   "outputs": [
    {
     "data": {
      "text/plain": [
       "tensor([3.2234, 2.7486, 1.6426, 3.3325, 1.6021, 3.9480, 2.9908, 1.9364],\n",
       "       device='cuda:0')"
      ]
     },
     "execution_count": 10,
     "metadata": {},
     "output_type": "execute_result"
    }
   ],
   "source": [
    "torch_one[0][0]"
   ]
  },
  {
   "cell_type": "code",
   "execution_count": 11,
   "id": "6a74eee5",
   "metadata": {},
   "outputs": [
    {
     "data": {
      "text/plain": [
       "tensor([1.1704, 1.0111, 0.4963, 1.2037, 0.4713, 1.3732, 1.0955, 0.6608],\n",
       "       device='cuda:0')"
      ]
     },
     "execution_count": 11,
     "metadata": {},
     "output_type": "execute_result"
    }
   ],
   "source": [
    "triton_one[0][0]"
   ]
  },
  {
   "cell_type": "code",
   "execution_count": 12,
   "id": "382c5e51",
   "metadata": {},
   "outputs": [
    {
     "name": "stdout",
     "output_type": "stream",
     "text": [
      "Heinsen scan: 0.0001 ms\n",
      "Triton scan: 0.0001 ms\n",
      "Speedup: 0.64x\n"
     ]
    }
   ],
   "source": [
    "# 타이머 설정\n",
    "t1 = Timer(\n",
    "    stmt=\"heinsen_associative_scan_log(log_coeffs, log_values)\",\n",
    "    globals=globals()\n",
    ")\n",
    "t2 = Timer(\n",
    "    stmt=\"triton_scan(log_values)\",\n",
    "    globals=globals()\n",
    ")\n",
    "\n",
    "# 벤치마크 (50회)\n",
    "result1 = t1.timeit(1000)\n",
    "result2 = t2.timeit(1000)\n",
    "result1 = result1.mean\n",
    "result2 = result2.mean \n",
    "print(f\"Heinsen scan: {result1:.4f} ms\")\n",
    "print(f\"Triton scan: {result2:.4f} ms\")\n",
    "print(f\"Speedup: {result1/result2:.2f}x\")"
   ]
  },
  {
   "cell_type": "code",
   "execution_count": 13,
   "id": "f66bff73",
   "metadata": {},
   "outputs": [
    {
     "name": "stdout",
     "output_type": "stream",
     "text": [
      "Heinsen scan: 0.0005 ms\n",
      "Triton scan: 0.0002 ms\n",
      "Speedup: 3.50x\n"
     ]
    }
   ],
   "source": [
    "# 큰 데이터에 대해 테스트\n",
    "B, T, D = 16, 512, 256\n",
    "log_coeffs = torch.randn(B, T, D, device=device).abs()\n",
    "log_values = torch.randn(B, T+1, D, device=device).abs()\n",
    "\n",
    "# Warmup\n",
    "_ = heinsen_associative_scan_log(log_coeffs, log_values)\n",
    "_ = triton_scan(log_values)\n",
    "\n",
    "# 타이머 설정\n",
    "t1 = Timer(\n",
    "    stmt=\"heinsen_associative_scan_log(log_coeffs, log_values)\",\n",
    "    globals=globals()\n",
    ")\n",
    "t2 = Timer(\n",
    "    stmt=\"triton_scan(log_values)\",\n",
    "    globals=globals()\n",
    ")\n",
    "\n",
    "# 벤치마크 (50회)\n",
    "result1 = t1.timeit(1000)\n",
    "result2 = t2.timeit(1000)\n",
    "result1 = result1.mean\n",
    "result2 = result2.mean \n",
    "print(f\"Heinsen scan: {result1:.4f} ms\")\n",
    "print(f\"Triton scan: {result2:.4f} ms\")\n",
    "print(f\"Speedup: {result1/result2:.2f}x\")"
   ]
  },
  {
   "cell_type": "code",
   "execution_count": 14,
   "id": "ee7e5bd2",
   "metadata": {},
   "outputs": [
    {
     "name": "stdout",
     "output_type": "stream",
     "text": [
      "Heinsen scan: 0.0013 ms\n",
      "Triton scan: 0.0002 ms\n",
      "Speedup: 6.20x\n"
     ]
    }
   ],
   "source": [
    "B, T, D = 16, 1024, 256\n",
    "log_coeffs = torch.randn(B, T, D, device=device).abs()\n",
    "log_values = torch.randn(B, T+1, D, device=device).abs()\n",
    "\n",
    "# Warmup\n",
    "_ = heinsen_associative_scan_log(log_coeffs, log_values)\n",
    "_ = triton_scan(log_values)\n",
    "\n",
    "# 타이머 설정\n",
    "t1 = Timer(\n",
    "    stmt=\"heinsen_associative_scan_log(log_coeffs, log_values)\",\n",
    "    globals=globals()\n",
    ")\n",
    "t2 = Timer(\n",
    "    stmt=\"triton_scan(log_values)\",\n",
    "    globals=globals()\n",
    ")\n",
    "\n",
    "# 벤치마크 (50회)\n",
    "result1 = t1.timeit(1000)\n",
    "result2 = t2.timeit(1000)\n",
    "result1 = result1.mean\n",
    "result2 = result2.mean \n",
    "print(f\"Heinsen scan: {result1:.4f} ms\")\n",
    "print(f\"Triton scan: {result2:.4f} ms\")\n",
    "print(f\"Speedup: {result1/result2:.2f}x\")"
   ]
  },
  {
   "cell_type": "code",
   "execution_count": null,
   "id": "6f83679e",
   "metadata": {},
   "outputs": [],
   "source": []
  }
 ],
 "metadata": {
  "kernelspec": {
   "display_name": "Python 3",
   "language": "python",
   "name": "python3"
  },
  "language_info": {
   "codemirror_mode": {
    "name": "ipython",
    "version": 3
   },
   "file_extension": ".py",
   "mimetype": "text/x-python",
   "name": "python",
   "nbconvert_exporter": "python",
   "pygments_lexer": "ipython3",
   "version": "3.10.12"
  }
 },
 "nbformat": 4,
 "nbformat_minor": 5
}
