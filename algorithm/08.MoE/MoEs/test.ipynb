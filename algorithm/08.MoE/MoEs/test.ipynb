{
 "cells": [
  {
   "cell_type": "code",
   "execution_count": 1,
   "metadata": {},
   "outputs": [],
   "source": [
    "import torch\n",
    "import torch.nn as nn"
   ]
  },
  {
   "cell_type": "code",
   "execution_count": 2,
   "metadata": {},
   "outputs": [],
   "source": [
    "batch_size = 10\n",
    "input_dim = 1024\n",
    "output_dim = 1024\n",
    "num_experts = 16\n",
    "\n",
    "x = torch.randn(batch_size, input_dim)"
   ]
  },
  {
   "cell_type": "code",
   "execution_count": 3,
   "metadata": {},
   "outputs": [
    {
     "data": {
      "text/plain": [
       "(torch.Size([10, 1024]),\n",
       " tensor([[-0.1441, -0.0355, -0.0581,  ...,  0.0475,  0.1620, -0.1104],\n",
       "         [-0.0374,  0.0152,  0.1166,  ...,  0.0207,  0.2767,  0.0706],\n",
       "         [-0.2413,  0.1405, -0.0144,  ...,  0.0641,  0.1570, -0.0326],\n",
       "         ...,\n",
       "         [ 0.0876,  0.2312, -0.2725,  ...,  0.0683,  0.0522,  0.1977],\n",
       "         [-0.1639,  0.0687,  0.1832,  ..., -0.1782,  0.1724, -0.1425],\n",
       "         [ 0.1618, -0.2489, -0.0729,  ..., -0.1278, -0.0618,  0.2350]],\n",
       "        grad_fn=<SumBackward1>))"
      ]
     },
     "execution_count": 3,
     "metadata": {},
     "output_type": "execute_result"
    }
   ],
   "source": [
    "from basic import MoE\n",
    "\n",
    "moe1 = MoE(input_dim, output_dim, num_experts)\n",
    "output = moe1(x)\n",
    "output.shape, output"
   ]
  },
  {
   "cell_type": "code",
   "execution_count": 4,
   "metadata": {},
   "outputs": [
    {
     "data": {
      "text/plain": [
       "(torch.Size([10, 1024]),\n",
       " tensor([[-0.8437,  0.0367,  0.6553,  ...,  0.8658, -0.8034,  0.2971],\n",
       "         [-0.2960, -0.5037, -0.0940,  ...,  0.4612, -0.0919,  0.0616],\n",
       "         [-1.1444, -1.5098, -0.1794,  ..., -0.5377,  0.2361,  0.2515],\n",
       "         ...,\n",
       "         [-0.1164, -0.2981, -0.2179,  ...,  0.3078, -0.0786, -0.1896],\n",
       "         [-0.3905, -0.8869,  0.2743,  ...,  0.6439,  0.4578, -0.7600],\n",
       "         [-0.5665,  0.2391, -0.0139,  ...,  0.1789,  0.2526,  0.2955]],\n",
       "        grad_fn=<StackBackward0>))"
      ]
     },
     "execution_count": 4,
     "metadata": {},
     "output_type": "execute_result"
    }
   ],
   "source": [
    "from toSparse import MoE\n",
    "\n",
    "moe2 = MoE(input_dim, output_dim, num_experts)\n",
    "output = moe2(x)\n",
    "output.shape, output"
   ]
  },
  {
   "cell_type": "code",
   "execution_count": 5,
   "metadata": {},
   "outputs": [
    {
     "data": {
      "text/plain": [
       "(torch.Size([10, 1024]),\n",
       " tensor([[  2.3068,  -1.0810,   6.4254,  ...,   2.3950,  -3.7233,   2.8763],\n",
       "         [ -8.3937,  -3.4064,  -0.9115,  ...,  -2.8173,   0.5736,   3.2354],\n",
       "         [ -8.8756,  -6.4844,  18.3571,  ...,   2.6927,  -4.3333,   1.6694],\n",
       "         ...,\n",
       "         [  1.0099,   3.4600,   9.1068,  ..., -13.4703,  -1.6315,   0.5879],\n",
       "         [ -4.1129,   0.2050,  -0.0415,  ...,  15.3774,  -4.3215,  -2.7909],\n",
       "         [ -8.2702,  -3.5825,   2.2312,  ...,   0.9416,  -6.0617,   0.5111]],\n",
       "        grad_fn=<SumBackward1>))"
      ]
     },
     "execution_count": 5,
     "metadata": {},
     "output_type": "execute_result"
    }
   ],
   "source": [
    "from toSparse2 import MoE\n",
    "\n",
    "topk = 2\n",
    "\n",
    "moe3 = MoE(input_dim, output_dim, num_experts, topk)\n",
    "output = moe3(x)\n",
    "output.shape, output"
   ]
  }
 ],
 "metadata": {
  "kernelspec": {
   "display_name": "Python 3",
   "language": "python",
   "name": "python3"
  },
  "language_info": {
   "codemirror_mode": {
    "name": "ipython",
    "version": 3
   },
   "file_extension": ".py",
   "mimetype": "text/x-python",
   "name": "python",
   "nbconvert_exporter": "python",
   "pygments_lexer": "ipython3",
   "version": "3.10.12"
  }
 },
 "nbformat": 4,
 "nbformat_minor": 2
}
