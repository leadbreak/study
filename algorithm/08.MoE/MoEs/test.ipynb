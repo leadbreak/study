{
 "cells": [
  {
   "cell_type": "code",
   "execution_count": 1,
   "metadata": {},
   "outputs": [],
   "source": [
    "import torch\n",
    "import torch.nn as nn"
   ]
  },
  {
   "cell_type": "code",
   "execution_count": 2,
   "metadata": {},
   "outputs": [],
   "source": [
    "batch_size = 10\n",
    "input_dim = 1024\n",
    "output_dim = 1024\n",
    "num_experts = 16\n",
    "\n",
    "x = torch.randn(batch_size, input_dim).cuda()"
   ]
  },
  {
   "cell_type": "code",
   "execution_count": 3,
   "metadata": {},
   "outputs": [
    {
     "data": {
      "text/plain": [
       "(torch.Size([10, 1024]),\n",
       " tensor([[-0.2058,  0.0986,  0.1500,  ...,  0.0827, -0.3624,  0.2859],\n",
       "         [-0.1283, -0.0538,  0.1200,  ...,  0.0201, -0.3653, -0.0725],\n",
       "         [ 0.3320, -0.1554,  0.0751,  ...,  0.2465, -0.0369, -0.1451],\n",
       "         ...,\n",
       "         [ 0.2430,  0.3744,  0.1355,  ..., -0.0760,  0.1077,  0.0744],\n",
       "         [-0.2925, -0.0213,  0.1528,  ..., -0.0856, -0.0333,  0.0052],\n",
       "         [ 0.0328, -0.1962, -0.1069,  ...,  0.0845,  0.0808,  0.0367]],\n",
       "        device='cuda:0', grad_fn=<SumBackward1>))"
      ]
     },
     "execution_count": 3,
     "metadata": {},
     "output_type": "execute_result"
    }
   ],
   "source": [
    "from moe_v1_basic import MoE\n",
    "\n",
    "moe1 = MoE(input_dim, output_dim, num_experts).cuda()\n",
    "output = moe1(x)\n",
    "output.shape, output"
   ]
  },
  {
   "cell_type": "code",
   "execution_count": 4,
   "metadata": {},
   "outputs": [
    {
     "data": {
      "text/plain": [
       "(torch.Size([10, 1024]),\n",
       " tensor([[ 0.4440,  0.2380,  0.1422,  ...,  0.0591, -0.1180,  0.1894],\n",
       "         [ 1.4021,  0.1073, -0.6160,  ..., -0.4645, -0.0168,  0.0389],\n",
       "         [ 0.2732, -0.0975, -0.3064,  ...,  1.7107,  0.7109,  0.4052],\n",
       "         ...,\n",
       "         [-0.5975,  0.5013, -0.0268,  ..., -1.1373,  0.1182, -0.0534],\n",
       "         [-0.0066,  0.2181,  0.2037,  ..., -0.4815,  0.6203, -0.1041],\n",
       "         [-0.2771, -0.6388,  0.1856,  ...,  0.9925, -0.0381,  0.1130]],\n",
       "        device='cuda:0', grad_fn=<StackBackward0>))"
      ]
     },
     "execution_count": 4,
     "metadata": {},
     "output_type": "execute_result"
    }
   ],
   "source": [
    "from moe_v2_toSparse import MoE\n",
    "\n",
    "moe2 = MoE(input_dim, output_dim, num_experts).cuda()\n",
    "output = moe2(x)\n",
    "output.shape, output"
   ]
  },
  {
   "cell_type": "code",
   "execution_count": 7,
   "metadata": {},
   "outputs": [
    {
     "data": {
      "text/plain": [
       "(torch.Size([10, 1024]),\n",
       " tensor([[-0.0875, -0.0932, -0.0056,  ...,  0.1254, -0.0085,  0.2034],\n",
       "         [-0.1713,  0.0212,  0.0275,  ...,  0.0050, -0.1049,  0.1096],\n",
       "         [ 0.0215,  0.0418,  0.0030,  ..., -0.0907,  0.0037,  0.0565],\n",
       "         ...,\n",
       "         [ 0.0845, -0.1321,  0.0945,  ...,  0.1759,  0.1503, -0.0669],\n",
       "         [ 0.0948,  0.0117, -0.1164,  ...,  0.1025, -0.0624, -0.1522],\n",
       "         [-0.0511,  0.1141, -0.1445,  ...,  0.0728, -0.0342,  0.0680]],\n",
       "        device='cuda:0', grad_fn=<SumBackward1>))"
      ]
     },
     "execution_count": 7,
     "metadata": {},
     "output_type": "execute_result"
    }
   ],
   "source": [
    "from moe_v2_toSparse2 import MoE\n",
    "\n",
    "topk = 2\n",
    "\n",
    "moe3 = MoE(input_dim, output_dim, num_experts, topk).cuda()\n",
    "output = moe3(x)\n",
    "output.shape, output"
   ]
  },
  {
   "cell_type": "code",
   "execution_count": 9,
   "metadata": {},
   "outputs": [
    {
     "name": "stdout",
     "output_type": "stream",
     "text": [
      "170 μs ± 2.87 μs per loop (mean ± std. dev. of 7 runs, 10,000 loops each)\n"
     ]
    }
   ],
   "source": [
    "# %%timeit\n",
    "\n",
    "# moe1(x)"
   ]
  },
  {
   "cell_type": "code",
   "execution_count": 10,
   "metadata": {},
   "outputs": [
    {
     "name": "stdout",
     "output_type": "stream",
     "text": [
      "234 μs ± 612 ns per loop (mean ± std. dev. of 7 runs, 1,000 loops each)\n"
     ]
    }
   ],
   "source": [
    "# %%timeit\n",
    "\n",
    "# moe3(x)"
   ]
  },
  {
   "cell_type": "code",
   "execution_count": 7,
   "metadata": {},
   "outputs": [],
   "source": [
    "from torch.profiler import profile, record_function, ProfilerActivity\n",
    "\n",
    "def profile_model(model, input_tensor, profiler, label):\n",
    "    with record_function(label):\n",
    "        output = model(input_tensor)\n",
    "    return output"
   ]
  },
  {
   "cell_type": "code",
   "execution_count": 8,
   "metadata": {},
   "outputs": [
    {
     "name": "stdout",
     "output_type": "stream",
     "text": [
      "-------------------------------------------------------  ------------  ------------  ------------  ------------  ------------  ------------  ------------  ------------  ------------  ------------  ------------  ------------  ------------  ------------  \n",
      "                                                   Name    Self CPU %      Self CPU   CPU total %     CPU total  CPU time avg     Self CUDA   Self CUDA %    CUDA total  CUDA time avg       CPU Mem  Self CPU Mem      CUDA Mem  Self CUDA Mem    # of Calls  \n",
      "-------------------------------------------------------  ------------  ------------  ------------  ------------  ------------  ------------  ------------  ------------  ------------  ------------  ------------  ------------  ------------  ------------  \n",
      "                                      SparseMoE Forward         0.00%       0.000us         0.00%       0.000us       0.000us       1.449ms        42.22%       1.449ms     482.839us           0 b           0 b           0 b           0 b             3  \n",
      "                                       DenseMoE Forward         0.00%       0.000us         0.00%       0.000us       0.000us       1.146ms        33.41%       1.146ms     382.039us           0 b           0 b           0 b           0 b             3  \n",
      "                                          ProfilerStep*         4.84%     324.713us        99.77%       6.687ms       2.229ms       0.000us         0.00%     835.940us     278.647us           0 b           0 b           0 b      -4.23 Mb             3  \n",
      "                                      SparseMoE Forward         9.36%     627.337us        28.82%       1.932ms     643.834us       0.000us         0.00%     441.156us     147.052us           0 b           0 b       2.23 Mb      -2.11 Mb             3  \n",
      "                                       DenseMoE Forward        10.96%     734.739us        66.10%       4.431ms       1.477ms       0.000us         0.00%     394.784us     131.595us           0 b           0 b       2.00 Mb      -3.75 Mb             3  \n",
      "                                           aten::linear         0.73%      48.662us        45.86%       3.074ms     512.335us       0.000us         0.00%     387.105us      64.517us           0 b           0 b       6.00 Kb           0 b             6  \n",
      "                                            aten::addmm        41.29%       2.767ms        43.10%       2.889ms     481.440us     387.105us        11.28%     387.105us      64.517us           0 b           0 b       6.00 Kb       6.00 Kb             6  \n",
      "                                 ampere_sgemm_32x128_tn         0.00%       0.000us         0.00%       0.000us       0.000us     387.105us        11.28%     387.105us      64.517us           0 b           0 b           0 b           0 b             6  \n",
      "                                              aten::sum         4.93%     330.223us         6.85%     459.134us      38.261us     310.305us         9.05%     310.305us      25.859us           0 b           0 b     624.00 Kb     624.00 Kb            12  \n",
      "                                           aten::einsum         2.46%     164.831us        11.41%     764.932us     127.489us       0.000us         0.00%     297.953us      49.659us           0 b           0 b       3.75 Mb    -384.00 Kb             6  \n",
      "void at::native::reduce_kernel<512, 1, at::native::R...         0.00%       0.000us         0.00%       0.000us       0.000us     273.378us         7.97%     273.378us      45.563us           0 b           0 b           0 b           0 b             6  \n",
      "                                              aten::mul         3.51%     235.215us         5.00%     335.311us      27.943us      44.927us         1.31%      44.927us       3.744us           0 b           0 b       5.86 Mb       5.86 Mb            12  \n",
      "void at::native::elementwise_kernel<128, 2, at::nati...         0.00%       0.000us         0.00%       0.000us       0.000us      44.927us         1.31%      44.927us       3.744us           0 b           0 b           0 b           0 b            12  \n",
      "                                             aten::topk         1.70%     114.075us         3.47%     232.251us      77.417us      44.864us         1.31%      44.864us      14.955us           0 b           0 b       3.00 Kb       3.00 Kb             3  \n",
      "void at::native::reduce_kernel<128, 4, at::native::R...         0.00%       0.000us         0.00%       0.000us       0.000us      36.927us         1.08%      36.927us       6.155us           0 b           0 b           0 b           0 b             6  \n",
      "                                              aten::add         1.66%     111.568us         2.45%     164.085us      27.348us      23.650us         0.69%      23.650us       3.942us           0 b           0 b       3.75 Mb       3.75 Mb             6  \n",
      "void at::native::elementwise_kernel<128, 2, at::nati...         0.00%       0.000us         0.00%       0.000us       0.000us      23.650us         0.69%      23.650us       3.942us           0 b           0 b           0 b           0 b             6  \n",
      "void at::native::sbtopk::gatherTopK<float, unsigned ...         0.00%       0.000us         0.00%       0.000us       0.000us      23.648us         0.69%      23.648us       7.883us           0 b           0 b           0 b           0 b             3  \n",
      "void at::native::bitonicSortKVInPlace<2, -1, 16, 16,...         0.00%       0.000us         0.00%       0.000us       0.000us      21.216us         0.62%      21.216us       7.072us           0 b           0 b           0 b           0 b             3  \n",
      "                                           aten::gather         1.23%      82.434us         1.76%     118.290us      39.430us      14.112us         0.41%      14.112us       4.704us           0 b           0 b     240.00 Kb     240.00 Kb             3  \n",
      "void at::native::_scatter_gather_elementwise_kernel<...         0.00%       0.000us         0.00%       0.000us       0.000us      14.112us         0.41%      14.112us       4.704us           0 b           0 b           0 b           0 b             3  \n",
      "                                          aten::softmax         0.30%      20.128us         3.08%     206.685us      34.448us       0.000us         0.00%      10.977us       1.830us           0 b           0 b       6.00 Kb           0 b             6  \n",
      "                                         aten::_softmax         1.89%     126.345us         2.78%     186.557us      31.093us      10.977us         0.32%      10.977us       1.830us           0 b           0 b       6.00 Kb       6.00 Kb             6  \n",
      "void (anonymous namespace)::softmax_warp_forward<flo...         0.00%       0.000us         0.00%       0.000us       0.000us      10.977us         0.32%      10.977us       1.830us           0 b           0 b           0 b           0 b             6  \n",
      "                                                aten::t         1.08%      72.435us         2.04%     136.704us      22.784us       0.000us         0.00%       0.000us       0.000us           0 b           0 b           0 b           0 b             6  \n",
      "                                        aten::transpose         0.71%      47.627us         0.96%      64.269us      10.712us       0.000us         0.00%       0.000us       0.000us           0 b           0 b           0 b           0 b             6  \n",
      "                                       aten::as_strided         0.97%      64.946us         0.97%      64.946us       1.082us       0.000us         0.00%       0.000us       0.000us           0 b           0 b           0 b           0 b            60  \n",
      "                                       cudaLaunchKernel         8.02%     537.198us         8.02%     537.198us      10.533us       0.000us         0.00%       0.000us       0.000us           0 b           0 b           0 b           0 b            51  \n",
      "                                        aten::unsqueeze         1.76%     118.061us         2.15%     143.785us       5.325us       0.000us         0.00%       0.000us       0.000us           0 b           0 b           0 b           0 b            27  \n",
      "                                          aten::permute         0.72%      48.129us         0.82%      55.031us       4.586us       0.000us         0.00%       0.000us       0.000us           0 b           0 b           0 b           0 b            12  \n",
      "                                             aten::view         0.42%      27.842us         0.42%      27.842us       4.640us       0.000us         0.00%       0.000us       0.000us           0 b           0 b           0 b           0 b             6  \n",
      "                                 cudaDeviceGetAttribute         0.38%      25.476us         0.38%      25.476us       2.123us       0.000us         0.00%       0.000us       0.000us           0 b           0 b           0 b           0 b            12  \n",
      "                                  cudaFuncGetAttributes         0.31%      20.547us         0.31%      20.547us       6.849us       0.000us         0.00%       0.000us       0.000us           0 b           0 b           0 b           0 b             3  \n",
      "cudaOccupancyMaxActiveBlocksPerMultiprocessorWithFla...         0.32%      21.289us         0.32%      21.289us       0.887us       0.000us         0.00%       0.000us       0.000us           0 b           0 b           0 b           0 b            24  \n",
      "                                           aten::expand         0.23%      15.719us         0.28%      18.675us       6.225us       0.000us         0.00%       0.000us       0.000us           0 b           0 b           0 b           0 b             3  \n",
      "                                  cudaDeviceSynchronize         0.23%      15.649us         0.23%      15.649us      15.649us       0.000us         0.00%       0.000us       0.000us           0 b           0 b           0 b           0 b             1  \n",
      "-------------------------------------------------------  ------------  ------------  ------------  ------------  ------------  ------------  ------------  ------------  ------------  ------------  ------------  ------------  ------------  ------------  \n",
      "Self CPU time total: 6.702ms\n",
      "Self CUDA time total: 3.431ms\n",
      "\n"
     ]
    }
   ],
   "source": [
    "dense_moe = moe1.cuda()\n",
    "sparse_moe = moe3.cuda()\n",
    "x = x.cuda()\n",
    "\n",
    "# 프로파일러 설정\n",
    "with profile(\n",
    "    activities=[ProfilerActivity.CPU, ProfilerActivity.CUDA],\n",
    "    schedule=torch.profiler.schedule(\n",
    "        wait=1,\n",
    "        warmup=1,\n",
    "        active=3\n",
    "    ),\n",
    "    on_trace_ready=torch.profiler.tensorboard_trace_handler(\"./log/profiler\"),\n",
    "    record_shapes=True,\n",
    "    profile_memory=True,\n",
    "    with_stack=True\n",
    ") as prof:\n",
    "    for step in range(5):\n",
    "        if step == 0:\n",
    "            # 첫 번째 스텝은 wait\n",
    "            pass\n",
    "        elif step == 1:\n",
    "            # 두 번째 스텝은 warmup\n",
    "            pass\n",
    "        elif step >= 2:\n",
    "            # 세 번째 이후 스텝은 active\n",
    "            profile_model(dense_moe, x, prof, \"DenseMoE Forward\")\n",
    "            profile_model(sparse_moe, x, prof, \"SparseMoE Forward\")\n",
    "        prof.step()\n",
    "\n",
    "print(prof.key_averages().table(sort_by=\"cuda_time_total\", row_limit=50))"
   ]
  },
  {
   "cell_type": "code",
   "execution_count": 1,
   "metadata": {},
   "outputs": [
    {
     "name": "stdout",
     "output_type": "stream",
     "text": [
      "TensorFlow installation not found - running with reduced feature set.\n",
      "\n",
      "NOTE: Using experimental fast data loading logic. To disable, pass\n",
      "    \"--load_fast=false\" and report issues on GitHub. More details:\n",
      "    https://github.com/tensorflow/tensorboard/issues/4784\n",
      "\n",
      "Serving TensorBoard on localhost; to expose to the network, use a proxy or pass --bind_all\n",
      "TensorBoard 2.18.0 at http://localhost:6006/ (Press CTRL+C to quit)\n",
      "^C\n"
     ]
    }
   ],
   "source": [
    "!tensorboard --logdir=./log/profiler/"
   ]
  }
 ],
 "metadata": {
  "kernelspec": {
   "display_name": "Python 3",
   "language": "python",
   "name": "python3"
  },
  "language_info": {
   "codemirror_mode": {
    "name": "ipython",
    "version": 3
   },
   "file_extension": ".py",
   "mimetype": "text/x-python",
   "name": "python",
   "nbconvert_exporter": "python",
   "pygments_lexer": "ipython3",
   "version": "3.10.12"
  }
 },
 "nbformat": 4,
 "nbformat_minor": 2
}
