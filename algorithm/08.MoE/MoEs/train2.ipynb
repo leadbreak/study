{
 "cells": [
  {
   "cell_type": "code",
   "execution_count": 1,
   "metadata": {},
   "outputs": [
    {
     "name": "stderr",
     "output_type": "stream",
     "text": [
      "/root/miniconda3/envs/sam_env2/lib/python3.10/site-packages/tqdm/auto.py:21: TqdmWarning: IProgress not found. Please update jupyter and ipywidgets. See https://ipywidgets.readthedocs.io/en/stable/user_install.html\n",
      "  from .autonotebook import tqdm as notebook_tqdm\n",
      "/root/miniconda3/envs/sam_env2/lib/python3.10/site-packages/timm/models/layers/__init__.py:48: FutureWarning: Importing from timm.models.layers is deprecated, please import via timm.layers\n",
      "  warnings.warn(f\"Importing from {__name__} is deprecated, please import via timm.layers\", FutureWarning)\n"
     ]
    }
   ],
   "source": [
    "import torch\n",
    "import torch.nn as nn\n",
    "import torch.nn.functional as F\n",
    "import torch.optim as optim\n",
    "from tqdm import tqdm\n",
    "from torch.amp import autocast, GradScaler  \n",
    "\n",
    "from model.convnextv2 import ConvNeXtV2\n",
    "from model.convnextv2_moe import ConvNeXtV2_MoE\n",
    "from model.convnextv2_moe_grn import ConvNeXtV2_MoE_GRN \n",
    "\n",
    "# 파라미터 설정\n",
    "\n",
    "## model\n",
    "# input_dim = output_dim = 3072  # cifar10 이미지 크기\n",
    "# hidden_dim = 784\n",
    "num_classes = 10     # MNIST 클래스 수\n",
    "# num_experts = 5\n",
    "# topk = 2\n",
    "# noise_std = 0.1\n",
    "\n",
    "## train\n",
    "batch_size = 256  \n",
    "lambda_cov = 0.1  # 공분산 손실의 가중치\n",
    "epochs = 10       "
   ]
  },
  {
   "cell_type": "code",
   "execution_count": 2,
   "metadata": {},
   "outputs": [],
   "source": [
    "convnext = ConvNeXtV2(num_classes=num_classes)\n",
    "convnext_moe = ConvNeXtV2_MoE(num_classes=num_classes)\n",
    "convnext_moe_grn = ConvNeXtV2_MoE_GRN(num_classes=num_classes)"
   ]
  },
  {
   "cell_type": "code",
   "execution_count": 3,
   "metadata": {},
   "outputs": [
    {
     "data": {
      "text/plain": [
       "===================================================================================================================\n",
       "Layer (type:depth-idx)                   Input Shape               Output Shape              Param #\n",
       "===================================================================================================================\n",
       "ConvNeXtV2                               [1, 3, 32, 32]            [1, 10]                   --\n",
       "├─ModuleList: 1-7                        --                        --                        (recursive)\n",
       "│    └─Sequential: 2-1                   [1, 3, 32, 32]            [1, 96, 8, 8]             --\n",
       "│    │    └─Conv2d: 3-1                  [1, 3, 32, 32]            [1, 96, 8, 8]             4,704\n",
       "│    │    └─LayerNorm: 3-2               [1, 96, 8, 8]             [1, 96, 8, 8]             192\n",
       "├─ModuleList: 1-8                        --                        --                        (recursive)\n",
       "│    └─Sequential: 2-2                   [1, 96, 8, 8]             [1, 96, 8, 8]             --\n",
       "│    │    └─Block: 3-3                   [1, 96, 8, 8]             [1, 96, 8, 8]             79,968\n",
       "│    │    └─Block: 3-4                   [1, 96, 8, 8]             [1, 96, 8, 8]             79,968\n",
       "│    │    └─Block: 3-5                   [1, 96, 8, 8]             [1, 96, 8, 8]             79,968\n",
       "├─ModuleList: 1-7                        --                        --                        (recursive)\n",
       "│    └─Sequential: 2-3                   [1, 96, 8, 8]             [1, 192, 4, 4]            --\n",
       "│    │    └─LayerNorm: 3-6               [1, 96, 8, 8]             [1, 96, 8, 8]             192\n",
       "│    │    └─Conv2d: 3-7                  [1, 96, 8, 8]             [1, 192, 4, 4]            73,920\n",
       "├─ModuleList: 1-8                        --                        --                        (recursive)\n",
       "│    └─Sequential: 2-4                   [1, 192, 4, 4]            [1, 192, 4, 4]            --\n",
       "│    │    └─Block: 3-8                   [1, 192, 4, 4]            [1, 192, 4, 4]            307,392\n",
       "│    │    └─Block: 3-9                   [1, 192, 4, 4]            [1, 192, 4, 4]            307,392\n",
       "│    │    └─Block: 3-10                  [1, 192, 4, 4]            [1, 192, 4, 4]            307,392\n",
       "├─ModuleList: 1-7                        --                        --                        (recursive)\n",
       "│    └─Sequential: 2-5                   [1, 192, 4, 4]            [1, 384, 2, 2]            --\n",
       "│    │    └─LayerNorm: 3-11              [1, 192, 4, 4]            [1, 192, 4, 4]            384\n",
       "│    │    └─Conv2d: 3-12                 [1, 192, 4, 4]            [1, 384, 2, 2]            295,296\n",
       "├─ModuleList: 1-8                        --                        --                        (recursive)\n",
       "│    └─Sequential: 2-6                   [1, 384, 2, 2]            [1, 384, 2, 2]            --\n",
       "│    │    └─Block: 3-13                  [1, 384, 2, 2]            [1, 384, 2, 2]            1,204,608\n",
       "│    │    └─Block: 3-14                  [1, 384, 2, 2]            [1, 384, 2, 2]            1,204,608\n",
       "│    │    └─Block: 3-15                  [1, 384, 2, 2]            [1, 384, 2, 2]            1,204,608\n",
       "│    │    └─Block: 3-16                  [1, 384, 2, 2]            [1, 384, 2, 2]            1,204,608\n",
       "│    │    └─Block: 3-17                  [1, 384, 2, 2]            [1, 384, 2, 2]            1,204,608\n",
       "│    │    └─Block: 3-18                  [1, 384, 2, 2]            [1, 384, 2, 2]            1,204,608\n",
       "│    │    └─Block: 3-19                  [1, 384, 2, 2]            [1, 384, 2, 2]            1,204,608\n",
       "│    │    └─Block: 3-20                  [1, 384, 2, 2]            [1, 384, 2, 2]            1,204,608\n",
       "│    │    └─Block: 3-21                  [1, 384, 2, 2]            [1, 384, 2, 2]            1,204,608\n",
       "├─ModuleList: 1-7                        --                        --                        (recursive)\n",
       "│    └─Sequential: 2-7                   [1, 384, 2, 2]            [1, 768, 1, 1]            --\n",
       "│    │    └─LayerNorm: 3-22              [1, 384, 2, 2]            [1, 384, 2, 2]            768\n",
       "│    │    └─Conv2d: 3-23                 [1, 384, 2, 2]            [1, 768, 1, 1]            1,180,416\n",
       "├─ModuleList: 1-8                        --                        --                        (recursive)\n",
       "│    └─Sequential: 2-8                   [1, 768, 1, 1]            [1, 768, 1, 1]            --\n",
       "│    │    └─Block: 3-24                  [1, 768, 1, 1]            [1, 768, 1, 1]            4,768,512\n",
       "│    │    └─Block: 3-25                  [1, 768, 1, 1]            [1, 768, 1, 1]            4,768,512\n",
       "│    │    └─Block: 3-26                  [1, 768, 1, 1]            [1, 768, 1, 1]            4,768,512\n",
       "├─AdaptiveAvgPool2d: 1-9                 [1, 768, 1, 1]            [1, 768, 1, 1]            --\n",
       "├─LayerNorm: 1-10                        [1, 768]                  [1, 768]                  1,536\n",
       "├─Linear: 1-11                           [1, 768]                  [1, 10]                   7,690\n",
       "===================================================================================================================\n",
       "Total params: 27,874,186\n",
       "Trainable params: 27,874,186\n",
       "Non-trainable params: 0\n",
       "Total mult-adds (M): 31.97\n",
       "===================================================================================================================\n",
       "Input size (MB): 0.01\n",
       "Forward/backward pass size (MB): 4.09\n",
       "Params size (MB): 111.50\n",
       "Estimated Total Size (MB): 115.59\n",
       "==================================================================================================================="
      ]
     },
     "execution_count": 3,
     "metadata": {},
     "output_type": "execute_result"
    }
   ],
   "source": [
    "from torchinfo import summary\n",
    "\n",
    "summary(convnext, input_size=(1, 3, 32, 32), depth=3, col_names=[\"input_size\", \"output_size\", \"num_params\"])"
   ]
  },
  {
   "cell_type": "code",
   "execution_count": 4,
   "metadata": {},
   "outputs": [
    {
     "data": {
      "text/plain": [
       "========================================================================================================================\n",
       "Layer (type:depth-idx)                        Input Shape               Output Shape              Param #\n",
       "========================================================================================================================\n",
       "ConvNeXtV2_MoE                                [1, 3, 32, 32]            [1, 10]                   --\n",
       "├─ModuleList: 1-7                             --                        --                        (recursive)\n",
       "│    └─Sequential: 2-1                        [1, 3, 32, 32]            [1, 96, 8, 8]             --\n",
       "│    │    └─Conv2d: 3-1                       [1, 3, 32, 32]            [1, 96, 8, 8]             4,704\n",
       "│    │    └─LayerNorm: 3-2                    [1, 96, 8, 8]             [1, 96, 8, 8]             192\n",
       "├─ModuleList: 1-8                             --                        --                        (recursive)\n",
       "│    └─ModuleList: 2-2                        --                        --                        --\n",
       "│    │    └─Block: 3-3                        [1, 96, 8, 8]             [1, 96, 8, 8]             80,162\n",
       "│    │    └─Block: 3-4                        [1, 96, 8, 8]             [1, 96, 8, 8]             80,162\n",
       "│    │    └─Block: 3-5                        [1, 96, 8, 8]             [1, 96, 8, 8]             80,162\n",
       "├─ModuleList: 1-7                             --                        --                        (recursive)\n",
       "│    └─Sequential: 2-3                        [1, 96, 8, 8]             [1, 192, 4, 4]            --\n",
       "│    │    └─LayerNorm: 3-6                    [1, 96, 8, 8]             [1, 96, 8, 8]             192\n",
       "│    │    └─Conv2d: 3-7                       [1, 96, 8, 8]             [1, 192, 4, 4]            73,920\n",
       "├─ModuleList: 1-8                             --                        --                        (recursive)\n",
       "│    └─ModuleList: 2-4                        --                        --                        --\n",
       "│    │    └─Block: 3-8                        [1, 192, 4, 4]            [1, 192, 4, 4]            307,778\n",
       "│    │    └─Block: 3-9                        [1, 192, 4, 4]            [1, 192, 4, 4]            307,778\n",
       "│    │    └─Block: 3-10                       [1, 192, 4, 4]            [1, 192, 4, 4]            307,778\n",
       "├─ModuleList: 1-7                             --                        --                        (recursive)\n",
       "│    └─Sequential: 2-5                        [1, 192, 4, 4]            [1, 384, 2, 2]            --\n",
       "│    │    └─LayerNorm: 3-11                   [1, 192, 4, 4]            [1, 192, 4, 4]            384\n",
       "│    │    └─Conv2d: 3-12                      [1, 192, 4, 4]            [1, 384, 2, 2]            295,296\n",
       "├─ModuleList: 1-8                             --                        --                        (recursive)\n",
       "│    └─ModuleList: 2-6                        --                        --                        --\n",
       "│    │    └─Block: 3-13                       [1, 384, 2, 2]            [1, 384, 2, 2]            1,205,378\n",
       "│    │    └─Block: 3-14                       [1, 384, 2, 2]            [1, 384, 2, 2]            1,205,378\n",
       "│    │    └─Block: 3-15                       [1, 384, 2, 2]            [1, 384, 2, 2]            1,205,378\n",
       "│    │    └─Block: 3-16                       [1, 384, 2, 2]            [1, 384, 2, 2]            1,205,378\n",
       "│    │    └─Block: 3-17                       [1, 384, 2, 2]            [1, 384, 2, 2]            1,205,378\n",
       "│    │    └─Block: 3-18                       [1, 384, 2, 2]            [1, 384, 2, 2]            1,205,378\n",
       "│    │    └─Block: 3-19                       [1, 384, 2, 2]            [1, 384, 2, 2]            1,205,378\n",
       "│    │    └─Block: 3-20                       [1, 384, 2, 2]            [1, 384, 2, 2]            1,205,378\n",
       "│    │    └─Block: 3-21                       [1, 384, 2, 2]            [1, 384, 2, 2]            1,205,378\n",
       "├─ModuleList: 1-7                             --                        --                        (recursive)\n",
       "│    └─Sequential: 2-7                        [1, 384, 2, 2]            [1, 768, 1, 1]            --\n",
       "│    │    └─LayerNorm: 3-22                   [1, 384, 2, 2]            [1, 384, 2, 2]            768\n",
       "│    │    └─Conv2d: 3-23                      [1, 384, 2, 2]            [1, 768, 1, 1]            1,180,416\n",
       "├─ModuleList: 1-8                             --                        --                        (recursive)\n",
       "│    └─ModuleList: 2-8                        --                        --                        --\n",
       "│    │    └─Block: 3-24                       [1, 768, 1, 1]            [1, 768, 1, 1]            4,770,050\n",
       "│    │    └─Block: 3-25                       [1, 768, 1, 1]            [1, 768, 1, 1]            4,770,050\n",
       "│    │    └─Block: 3-26                       [1, 768, 1, 1]            [1, 768, 1, 1]            4,770,050\n",
       "├─AdaptiveAvgPool2d: 1-9                      [1, 768, 1, 1]            [1, 768, 1, 1]            --\n",
       "├─LayerNorm: 1-10                             [1, 768]                  [1, 768]                  1,536\n",
       "├─MoE: 1-11                                   [1, 768]                  [1, 10]                   --\n",
       "│    └─Linear: 2-9                            [1, 768]                  [1, 1]                    769\n",
       "│    └─ModuleList: 2-10                       --                        --                        --\n",
       "│    │    └─Linear: 3-27                      [1, 768]                  [1, 10]                   7,690\n",
       "========================================================================================================================\n",
       "Total params: 27,888,239\n",
       "Trainable params: 27,888,239\n",
       "Non-trainable params: 0\n",
       "Total mult-adds (M): 61.74\n",
       "========================================================================================================================\n",
       "Input size (MB): 0.01\n",
       "Forward/backward pass size (MB): 4.09\n",
       "Params size (MB): 111.55\n",
       "Estimated Total Size (MB): 115.66\n",
       "========================================================================================================================"
      ]
     },
     "execution_count": 4,
     "metadata": {},
     "output_type": "execute_result"
    }
   ],
   "source": [
    "summary(convnext_moe, input_size=(1, 3, 32, 32), col_names=[\"input_size\", \"output_size\", \"num_params\"])"
   ]
  },
  {
   "cell_type": "code",
   "execution_count": 5,
   "metadata": {},
   "outputs": [
    {
     "data": {
      "text/plain": [
       "========================================================================================================================\n",
       "Layer (type:depth-idx)                        Input Shape               Output Shape              Param #\n",
       "========================================================================================================================\n",
       "ConvNeXtV2_MoE_GRN                            [1, 3, 32, 32]            [1, 10]                   --\n",
       "├─ModuleList: 1-7                             --                        --                        (recursive)\n",
       "│    └─Sequential: 2-1                        [1, 3, 32, 32]            [1, 96, 8, 8]             --\n",
       "│    │    └─Conv2d: 3-1                       [1, 3, 32, 32]            [1, 96, 8, 8]             4,704\n",
       "│    │    └─LayerNorm: 3-2                    [1, 96, 8, 8]             [1, 96, 8, 8]             192\n",
       "├─ModuleList: 1-8                             --                        --                        (recursive)\n",
       "│    └─ModuleList: 2-2                        --                        --                        --\n",
       "│    │    └─Block: 3-3                        [1, 96, 8, 8]             [1, 96, 8, 8]             80,166\n",
       "│    │    └─Block: 3-4                        [1, 96, 8, 8]             [1, 96, 8, 8]             80,166\n",
       "│    │    └─Block: 3-5                        [1, 96, 8, 8]             [1, 96, 8, 8]             80,166\n",
       "├─ModuleList: 1-7                             --                        --                        (recursive)\n",
       "│    └─Sequential: 2-3                        [1, 96, 8, 8]             [1, 192, 4, 4]            --\n",
       "│    │    └─LayerNorm: 3-6                    [1, 96, 8, 8]             [1, 96, 8, 8]             192\n",
       "│    │    └─Conv2d: 3-7                       [1, 96, 8, 8]             [1, 192, 4, 4]            73,920\n",
       "├─ModuleList: 1-8                             --                        --                        (recursive)\n",
       "│    └─ModuleList: 2-4                        --                        --                        --\n",
       "│    │    └─Block: 3-8                        [1, 192, 4, 4]            [1, 192, 4, 4]            307,782\n",
       "│    │    └─Block: 3-9                        [1, 192, 4, 4]            [1, 192, 4, 4]            307,782\n",
       "│    │    └─Block: 3-10                       [1, 192, 4, 4]            [1, 192, 4, 4]            307,782\n",
       "├─ModuleList: 1-7                             --                        --                        (recursive)\n",
       "│    └─Sequential: 2-5                        [1, 192, 4, 4]            [1, 384, 2, 2]            --\n",
       "│    │    └─LayerNorm: 3-11                   [1, 192, 4, 4]            [1, 192, 4, 4]            384\n",
       "│    │    └─Conv2d: 3-12                      [1, 192, 4, 4]            [1, 384, 2, 2]            295,296\n",
       "├─ModuleList: 1-8                             --                        --                        (recursive)\n",
       "│    └─ModuleList: 2-6                        --                        --                        --\n",
       "│    │    └─Block: 3-13                       [1, 384, 2, 2]            [1, 384, 2, 2]            1,205,382\n",
       "│    │    └─Block: 3-14                       [1, 384, 2, 2]            [1, 384, 2, 2]            1,205,382\n",
       "│    │    └─Block: 3-15                       [1, 384, 2, 2]            [1, 384, 2, 2]            1,205,382\n",
       "│    │    └─Block: 3-16                       [1, 384, 2, 2]            [1, 384, 2, 2]            1,205,382\n",
       "│    │    └─Block: 3-17                       [1, 384, 2, 2]            [1, 384, 2, 2]            1,205,382\n",
       "│    │    └─Block: 3-18                       [1, 384, 2, 2]            [1, 384, 2, 2]            1,205,382\n",
       "│    │    └─Block: 3-19                       [1, 384, 2, 2]            [1, 384, 2, 2]            1,205,382\n",
       "│    │    └─Block: 3-20                       [1, 384, 2, 2]            [1, 384, 2, 2]            1,205,382\n",
       "│    │    └─Block: 3-21                       [1, 384, 2, 2]            [1, 384, 2, 2]            1,205,382\n",
       "├─ModuleList: 1-7                             --                        --                        (recursive)\n",
       "│    └─Sequential: 2-7                        [1, 384, 2, 2]            [1, 768, 1, 1]            --\n",
       "│    │    └─LayerNorm: 3-22                   [1, 384, 2, 2]            [1, 384, 2, 2]            768\n",
       "│    │    └─Conv2d: 3-23                      [1, 384, 2, 2]            [1, 768, 1, 1]            1,180,416\n",
       "├─ModuleList: 1-8                             --                        --                        (recursive)\n",
       "│    └─ModuleList: 2-8                        --                        --                        --\n",
       "│    │    └─Block: 3-24                       [1, 768, 1, 1]            [1, 768, 1, 1]            4,770,054\n",
       "│    │    └─Block: 3-25                       [1, 768, 1, 1]            [1, 768, 1, 1]            4,770,054\n",
       "│    │    └─Block: 3-26                       [1, 768, 1, 1]            [1, 768, 1, 1]            4,770,054\n",
       "├─AdaptiveAvgPool2d: 1-9                      [1, 768, 1, 1]            [1, 768, 1, 1]            --\n",
       "├─LayerNorm: 1-10                             [1, 768]                  [1, 768]                  1,536\n",
       "├─MoE: 1-11                                   [1, 768]                  [1, 10]                   --\n",
       "│    └─Linear: 2-9                            [1, 768]                  [1, 1]                    769\n",
       "│    └─GRN: 2-10                              [1, 1]                    [1, 1]                    2\n",
       "│    └─ModuleList: 2-11                       --                        --                        --\n",
       "│    │    └─Linear: 3-27                      [1, 768]                  [1, 10]                   7,690\n",
       "========================================================================================================================\n",
       "Total params: 27,888,313\n",
       "Trainable params: 27,888,313\n",
       "Non-trainable params: 0\n",
       "Total mult-adds (M): 61.74\n",
       "========================================================================================================================\n",
       "Input size (MB): 0.01\n",
       "Forward/backward pass size (MB): 4.09\n",
       "Params size (MB): 111.55\n",
       "Estimated Total Size (MB): 115.66\n",
       "========================================================================================================================"
      ]
     },
     "execution_count": 5,
     "metadata": {},
     "output_type": "execute_result"
    }
   ],
   "source": [
    "summary(convnext_moe_grn, input_size=(1, 3, 32, 32), depth=3, col_names=[\"input_size\", \"output_size\", \"num_params\"])"
   ]
  },
  {
   "cell_type": "code",
   "execution_count": 6,
   "metadata": {},
   "outputs": [],
   "source": [
    "# GPU 사용 여부 설정\n",
    "device = torch.device(\"cuda\" if torch.cuda.is_available() else \"cpu\")\n",
    "\n",
    "def train(model, train_loader, optimizer, criterion, epochs=1):\n",
    "    model.to(device)\n",
    "    model.train()\n",
    "    scaler = GradScaler()  # GradScaler 초기화\n",
    "    for epoch in range(epochs):\n",
    "        total_loss = 0\n",
    "        for images, labels in tqdm(train_loader):\n",
    "            images = images.to(device)\n",
    "            labels = labels.to(device)\n",
    "\n",
    "            optimizer.zero_grad()\n",
    "\n",
    "            with autocast('cuda'):  # autocast 사용\n",
    "                if isinstance(model, (ConvNeXtV2_MoE)):\n",
    "                    outputs, l_aux = model(images)\n",
    "                    loss = criterion(outputs, labels) + l_aux\n",
    "                else:\n",
    "                    outputs = model(images)\n",
    "                    loss = criterion(outputs, labels)\n",
    "\n",
    "            scaler.scale(loss).backward()  # 손실 스케일링 후 역전파\n",
    "            scaler.step(optimizer)         # Optimizer 스텝\n",
    "            scaler.update()                # 스케일러 업데이트\n",
    "\n",
    "            total_loss += loss.item()\n",
    "        print(f\"Epoch [{epoch+1}/{epochs}], Loss: {total_loss / len(train_loader):.4f}\")\n",
    "\n",
    "# 테스트 함수 (변경 없음)\n",
    "def test(model, test_loader):\n",
    "    model.to(device)\n",
    "    model.eval()\n",
    "    correct = 0\n",
    "    total = 0\n",
    "    with torch.no_grad():\n",
    "        for images, labels in tqdm(test_loader):\n",
    "            images = images.to(device)\n",
    "            labels = labels.to(device)\n",
    "            if isinstance(model, (ConvNeXtV2_MoE)):\n",
    "                outputs, _ = model(images)\n",
    "            else:\n",
    "                outputs = model(images)\n",
    "            _, predicted = torch.max(outputs.data, 1)\n",
    "            total += labels.size(0)\n",
    "            correct += (predicted == labels).sum().item()\n",
    "    print(f\"테스트 정확도: {100 * correct / total:.2f}%\")\n",
    "    return 100 * correct / total\n"
   ]
  },
  {
   "cell_type": "code",
   "execution_count": 7,
   "metadata": {},
   "outputs": [
    {
     "name": "stdout",
     "output_type": "stream",
     "text": [
      "Files already downloaded and verified\n",
      "Files already downloaded and verified\n"
     ]
    }
   ],
   "source": [
    "import torch.nn as nn\n",
    "from torchvision import datasets, transforms\n",
    "from torch.utils.data import DataLoader\n",
    "\n",
    "# 데이터셋 로드 및 전처리\n",
    "transform = transforms.Compose([\n",
    "    transforms.RandomResizedCrop(224, scale=(0.6,1), interpolation=transforms.InterpolationMode.BICUBIC),\n",
    "    transforms.RandomHorizontalFlip(),\n",
    "    transforms.ToTensor(),\n",
    "    transforms.Normalize(mean=[0.485, 0.456, 0.406], std=[0.229, 0.224, 0.225]),\n",
    "    transforms.RandomErasing(p=1., scale=(0.02, 0.33)),\n",
    "])\n",
    "\n",
    "train_dataset = datasets.CIFAR10(root='./cifar10_data/', train=True, transform=transform, download=True)\n",
    "test_dataset = datasets.CIFAR10(root='./cifar10_data/', train=False, transform=transform, download=True)\n",
    "\n",
    "train_loader = DataLoader(dataset=train_dataset, batch_size=batch_size, shuffle=True, num_workers=2)\n",
    "test_loader = DataLoader(dataset=test_dataset, batch_size=batch_size, shuffle=False, num_workers=2)"
   ]
  },
  {
   "cell_type": "code",
   "execution_count": 8,
   "metadata": {},
   "outputs": [
    {
     "name": "stderr",
     "output_type": "stream",
     "text": [
      "100%|██████████| 196/196 [02:16<00:00,  1.44it/s]\n"
     ]
    },
    {
     "name": "stdout",
     "output_type": "stream",
     "text": [
      "Epoch [1/10], Loss: 2.3876\n"
     ]
    },
    {
     "name": "stderr",
     "output_type": "stream",
     "text": [
      "100%|██████████| 196/196 [02:15<00:00,  1.44it/s]\n"
     ]
    },
    {
     "name": "stdout",
     "output_type": "stream",
     "text": [
      "Epoch [2/10], Loss: 1.7853\n"
     ]
    },
    {
     "name": "stderr",
     "output_type": "stream",
     "text": [
      "100%|██████████| 196/196 [02:16<00:00,  1.44it/s]\n"
     ]
    },
    {
     "name": "stdout",
     "output_type": "stream",
     "text": [
      "Epoch [3/10], Loss: 1.5552\n"
     ]
    },
    {
     "name": "stderr",
     "output_type": "stream",
     "text": [
      "100%|██████████| 196/196 [02:15<00:00,  1.45it/s]\n"
     ]
    },
    {
     "name": "stdout",
     "output_type": "stream",
     "text": [
      "Epoch [4/10], Loss: 1.3572\n"
     ]
    },
    {
     "name": "stderr",
     "output_type": "stream",
     "text": [
      "100%|██████████| 196/196 [02:15<00:00,  1.44it/s]\n"
     ]
    },
    {
     "name": "stdout",
     "output_type": "stream",
     "text": [
      "Epoch [5/10], Loss: 1.1718\n"
     ]
    },
    {
     "name": "stderr",
     "output_type": "stream",
     "text": [
      "100%|██████████| 196/196 [02:15<00:00,  1.45it/s]\n"
     ]
    },
    {
     "name": "stdout",
     "output_type": "stream",
     "text": [
      "Epoch [6/10], Loss: 1.0568\n"
     ]
    },
    {
     "name": "stderr",
     "output_type": "stream",
     "text": [
      "100%|██████████| 196/196 [02:15<00:00,  1.44it/s]\n"
     ]
    },
    {
     "name": "stdout",
     "output_type": "stream",
     "text": [
      "Epoch [7/10], Loss: 0.9388\n"
     ]
    },
    {
     "name": "stderr",
     "output_type": "stream",
     "text": [
      "  0%|          | 0/196 [00:00<?, ?it/s]"
     ]
    }
   ],
   "source": [
    "optimizer = optim.AdamW(convnext.parameters(), lr=0.001)\n",
    "criterion = nn.CrossEntropyLoss()\n",
    "train(convnext, train_loader, optimizer, criterion, epochs=epochs)\n",
    "test(convnext, test_loader)"
   ]
  },
  {
   "cell_type": "code",
   "execution_count": 14,
   "metadata": {},
   "outputs": [
    {
     "name": "stderr",
     "output_type": "stream",
     "text": [
      "100%|██████████| 196/196 [02:33<00:00,  1.28it/s]\n"
     ]
    },
    {
     "name": "stdout",
     "output_type": "stream",
     "text": [
      "Epoch [1/30], Loss: 2.7283\n"
     ]
    },
    {
     "name": "stderr",
     "output_type": "stream",
     "text": [
      "  1%|          | 1/196 [00:01<04:18,  1.32s/it]"
     ]
    }
   ],
   "source": [
    "optimizer = optim.AdamW(convnext_moe.parameters(), lr=0.001)\n",
    "criterion = nn.CrossEntropyLoss()\n",
    "train(convnext_moe, train_loader, optimizer, criterion, epochs=epochs)\n",
    "test(convnext_moe, test_loader)"
   ]
  },
  {
   "cell_type": "code",
   "execution_count": null,
   "metadata": {},
   "outputs": [],
   "source": [
    "optimizer = optim.AdamW(convnext_moe_grn.parameters(), lr=0.001)\n",
    "criterion = nn.CrossEntropyLoss()\n",
    "train(convnext_moe_grn, train_loader, optimizer, criterion, epochs=epochs)\n",
    "test(convnext_moe_grn, test_loader)"
   ]
  }
 ],
 "metadata": {
  "kernelspec": {
   "display_name": "sam_env2",
   "language": "python",
   "name": "python3"
  },
  "language_info": {
   "codemirror_mode": {
    "name": "ipython",
    "version": 3
   },
   "file_extension": ".py",
   "mimetype": "text/x-python",
   "name": "python",
   "nbconvert_exporter": "python",
   "pygments_lexer": "ipython3",
   "version": "3.10.14"
  }
 },
 "nbformat": 4,
 "nbformat_minor": 2
}
