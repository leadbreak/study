{
 "cells": [
  {
   "cell_type": "code",
   "execution_count": null,
   "metadata": {},
   "outputs": [],
   "source": [
    "import torch\n",
    "import torch.nn as nn\n",
    "import torch.nn.functional as F\n",
    "import torch.optim as optim\n",
    "from tqdm import tqdm\n",
    "from torch.cuda.amp import autocast, GradScaler  \n",
    "\n",
    "from model.convnextv2 import ConvNeXtV2\n",
    "from model.convnextv2_moe import ConvNeXtV2_MoE\n",
    "from model.convnextv2_moe_grn import ConvNeXtV2_MoE_GRN \n",
    "\n",
    "# 파라미터 설정\n",
    "\n",
    "## model\n",
    "# input_dim = output_dim = 3072  # cifar10 이미지 크기\n",
    "# hidden_dim = 784\n",
    "num_classes = 10     # MNIST 클래스 수\n",
    "# num_experts = 5\n",
    "# topk = 2\n",
    "# noise_std = 0.1\n",
    "\n",
    "## train\n",
    "batch_size = 256  \n",
    "lambda_cov = 0.1  # 공분산 손실의 가중치\n",
    "epochs = 10    "
   ]
  },
  {
   "cell_type": "code",
   "execution_count": 2,
   "metadata": {},
   "outputs": [],
   "source": [
    "convnext = ConvNeXtV2(num_classes=num_classes)\n",
    "convnext_moe = ConvNeXtV2_MoE(num_classes=num_classes)\n",
    "convnext_moe_grn = ConvNeXtV2_MoE_GRN(num_classes=num_classes)"
   ]
  },
  {
   "cell_type": "code",
   "execution_count": null,
   "metadata": {},
   "outputs": [],
   "source": [
    "from torchinfo import summary\n",
    "\n",
    "summary(convnext, input_size=(1, 3, 32, 32), depth=3, col_names=[\"input_size\", \"output_size\", \"num_params\"])"
   ]
  },
  {
   "cell_type": "code",
   "execution_count": null,
   "metadata": {},
   "outputs": [],
   "source": [
    "summary(convnext_moe, input_size=(1, 3, 32, 32), col_names=[\"input_size\", \"output_size\", \"num_params\"])"
   ]
  },
  {
   "cell_type": "code",
   "execution_count": null,
   "metadata": {},
   "outputs": [],
   "source": [
    "summary(convnext_moe_grn, input_size=(1, 3, 32, 32), depth=3, col_names=[\"input_size\", \"output_size\", \"num_params\"])"
   ]
  },
  {
   "cell_type": "code",
   "execution_count": 6,
   "metadata": {},
   "outputs": [],
   "source": [
    "# GPU 사용 여부 설정\n",
    "device = torch.device(\"cuda\" if torch.cuda.is_available() else \"cpu\")\n",
    "\n",
    "def train(model, train_loader, optimizer, criterion, epochs=1):\n",
    "    model.to(device)\n",
    "    model.train()\n",
    "    scaler = GradScaler()  # GradScaler 초기화\n",
    "    for epoch in range(epochs):\n",
    "        total_loss = 0\n",
    "        for images, labels in tqdm(train_loader):\n",
    "            images = images.to(device)\n",
    "            labels = labels.to(device)\n",
    "\n",
    "            optimizer.zero_grad()\n",
    "\n",
    "            with autocast():  # autocast 사용\n",
    "                if isinstance(model, (ConvNeXtV2_MoE)):\n",
    "                    outputs, l_aux = model(images)\n",
    "                    loss = criterion(outputs, labels) + l_aux\n",
    "                else:\n",
    "                    outputs = model(images)\n",
    "                    loss = criterion(outputs, labels)\n",
    "\n",
    "            scaler.scale(loss).backward()  # 손실 스케일링 후 역전파\n",
    "            scaler.step(optimizer)         # Optimizer 스텝\n",
    "            scaler.update()                # 스케일러 업데이트\n",
    "\n",
    "            total_loss += loss.item()\n",
    "        print(f\"Epoch [{epoch+1}/{epochs}], Loss: {total_loss / len(train_loader):.4f}\")\n",
    "\n",
    "# 테스트 함수 (변경 없음)\n",
    "def test(model, test_loader):\n",
    "    model.to(device)\n",
    "    model.eval()\n",
    "    correct = 0\n",
    "    total = 0\n",
    "    with torch.no_grad():\n",
    "        for images, labels in tqdm(test_loader):\n",
    "            images = images.to(device)\n",
    "            labels = labels.to(device)\n",
    "            if isinstance(model, (ConvNeXtV2_MoE)):\n",
    "                outputs, _ = model(images)\n",
    "            else:\n",
    "                outputs = model(images)\n",
    "            _, predicted = torch.max(outputs.data, 1)\n",
    "            total += labels.size(0)\n",
    "            correct += (predicted == labels).sum().item()\n",
    "    print(f\"테스트 정확도: {100 * correct / total:.2f}%\")\n",
    "    return 100 * correct / total\n"
   ]
  },
  {
   "cell_type": "code",
   "execution_count": null,
   "metadata": {},
   "outputs": [],
   "source": [
    "import torch.nn as nn\n",
    "from torchvision import datasets, transforms\n",
    "from torch.utils.data import DataLoader\n",
    "\n",
    "# 데이터셋 로드 및 전처리\n",
    "transform = transforms.Compose([\n",
    "    transforms.RandomResizedCrop(32, scale=(0.6,1), interpolation=transforms.InterpolationMode.BICUBIC),\n",
    "    transforms.RandomHorizontalFlip(),\n",
    "    transforms.ToTensor(),\n",
    "    transforms.Normalize(mean=[0.485, 0.456, 0.406], std=[0.229, 0.224, 0.225]),\n",
    "    transforms.RandomErasing(p=1., scale=(0.02, 0.33)),\n",
    "])\n",
    "\n",
    "train_dataset = datasets.CIFAR10(root='./cifar10_data/', train=True, transform=transform, download=True)\n",
    "test_dataset = datasets.CIFAR10(root='./cifar10_data/', train=False, transform=transform, download=True)\n",
    "\n",
    "train_loader = DataLoader(dataset=train_dataset, batch_size=batch_size, shuffle=True, num_workers=4)\n",
    "test_loader = DataLoader(dataset=test_dataset, batch_size=batch_size, shuffle=False, num_workers=4)"
   ]
  },
  {
   "cell_type": "code",
   "execution_count": null,
   "metadata": {},
   "outputs": [],
   "source": [
    "optimizer = optim.AdamW(convnext.parameters(), lr=0.001)\n",
    "criterion = nn.CrossEntropyLoss()\n",
    "train(convnext, train_loader, optimizer, criterion, epochs=epochs)\n",
    "test(convnext, test_loader)"
   ]
  },
  {
   "cell_type": "code",
   "execution_count": null,
   "metadata": {},
   "outputs": [],
   "source": [
    "optimizer = optim.AdamW(convnext_moe.parameters(), lr=0.001)\n",
    "criterion = nn.CrossEntropyLoss()\n",
    "train(convnext_moe, train_loader, optimizer, criterion, epochs=epochs)\n",
    "test(convnext_moe, test_loader)"
   ]
  },
  {
   "cell_type": "code",
   "execution_count": null,
   "metadata": {},
   "outputs": [],
   "source": [
    "optimizer = optim.AdamW(convnext_moe_grn.parameters(), lr=0.001)\n",
    "criterion = nn.CrossEntropyLoss()\n",
    "train(convnext_moe_grn, train_loader, optimizer, criterion, epochs=epochs)\n",
    "test(convnext_moe_grn, test_loader)"
   ]
  },
  {
   "cell_type": "code",
   "execution_count": null,
   "metadata": {},
   "outputs": [],
   "source": []
  }
 ],
 "metadata": {
  "kernelspec": {
   "display_name": "sam_env2",
   "language": "python",
   "name": "python3"
  },
  "language_info": {
   "codemirror_mode": {
    "name": "ipython",
    "version": 3
   },
   "file_extension": ".py",
   "mimetype": "text/x-python",
   "name": "python",
   "nbconvert_exporter": "python",
   "pygments_lexer": "ipython3",
   "version": "3.10.14"
  }
 },
 "nbformat": 4,
 "nbformat_minor": 2
}
