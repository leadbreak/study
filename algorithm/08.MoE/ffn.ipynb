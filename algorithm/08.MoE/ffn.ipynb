{
 "cells": [
  {
   "cell_type": "markdown",
   "metadata": {},
   "source": [
    "- MoE에 이르는 변천사 정리\n",
    "1. 기존 선형 계층으로만 이뤄진 FFN\n",
    "2. Gating Network를 추가해, 불필요한 정보를 억제함으로써 학습 효율성과 다양한 표현력을 챙긴 GLU FFN\n",
    "3. 전문가 집합으로 구분해 입력 데이터에 따라 활성화되는 전문가 층을 제어함으로써 자원 효율성과 실행속도, 더 큰 표현력의 장점을 갖춘 MoE"
   ]
  },
  {
   "cell_type": "markdown",
   "metadata": {},
   "source": [
    "### 1. 기본 Transformer의 FFN"
   ]
  },
  {
   "cell_type": "code",
   "execution_count": 1,
   "metadata": {},
   "outputs": [
    {
     "name": "stdout",
     "output_type": "stream",
     "text": [
      "torch.Size([64, 512])\n"
     ]
    }
   ],
   "source": [
    "import torch\n",
    "import torch.nn as nn\n",
    "import torch.nn.functional as F\n",
    "\n",
    "class BasicFFN(nn.Module):\n",
    "    def __init__(self, d_model, d_ff):\n",
    "        super(BasicFFN, self).__init__()\n",
    "        self.linear1 = nn.Linear(d_model, d_ff)\n",
    "        self.linear2 = nn.Linear(d_ff, d_model)\n",
    "        self.relu = nn.ReLU()\n",
    "        \n",
    "    def forward(self, x):\n",
    "        x = self.linear1(x)\n",
    "        x = self.relu(x)\n",
    "        x = self.linear2(x)\n",
    "        return x\n",
    "\n",
    "# 예시 사용\n",
    "d_model = 512\n",
    "d_ff = 2048\n",
    "x = torch.randn(64, d_model)  # 배치 크기 64, 모델 차원 512\n",
    "ffn = BasicFFN(d_model, d_ff)\n",
    "output = ffn(x)\n",
    "print(output.shape)  # 출력: torch.Size([64, 512])"
   ]
  },
  {
   "cell_type": "markdown",
   "metadata": {},
   "source": [
    "### 2. GLU (Gated Linear Unit)를 사용한 FFN"
   ]
  },
  {
   "cell_type": "code",
   "execution_count": 2,
   "metadata": {},
   "outputs": [
    {
     "name": "stdout",
     "output_type": "stream",
     "text": [
      "torch.Size([64, 512])\n"
     ]
    }
   ],
   "source": [
    "class GLUFFN(nn.Module):\n",
    "    def __init__(self, d_model, d_ff):\n",
    "        super(GLUFFN, self).__init__()\n",
    "        self.linear1 = nn.Linear(d_model, d_ff)\n",
    "        self.linear2 = nn.Linear(d_model, d_ff)\n",
    "        self.linear3 = nn.Linear(d_ff, d_model)\n",
    "        self.silu = nn.SiLU()  # Sigmoid Linear Unit (SiLU, Swish)\n",
    "\n",
    "    def forward(self, x):\n",
    "        gate = self.silu(self.linear2(x))\n",
    "        value = self.linear1(x)\n",
    "        x = value * gate\n",
    "        x = self.linear3(x)\n",
    "        return x\n",
    "\n",
    "# 예시 사용\n",
    "glu_ffn = GLUFFN(d_model, d_ff)\n",
    "output_glu = glu_ffn(x)\n",
    "print(output_glu.shape)  # 출력: torch.Size([64, 512])\n"
   ]
  },
  {
   "cell_type": "markdown",
   "metadata": {},
   "source": [
    "### 3. MoE (Mixture of Experts)를 사용한 FFN"
   ]
  },
  {
   "cell_type": "code",
   "execution_count": 3,
   "metadata": {},
   "outputs": [
    {
     "name": "stdout",
     "output_type": "stream",
     "text": [
      "torch.Size([64, 512])\n"
     ]
    }
   ],
   "source": [
    "class MoEFFN(nn.Module):\n",
    "    def __init__(self, d_model, d_ff, num_experts):\n",
    "        super(MoEFFN, self).__init__()\n",
    "        self.experts = nn.ModuleList([nn.Linear(d_model, d_ff) for _ in range(num_experts)])\n",
    "        self.gates = nn.Linear(d_model, num_experts)\n",
    "        self.linear_out = nn.Linear(d_ff, d_model)\n",
    "\n",
    "    def forward(self, x):\n",
    "        # 각 입력에 대한 게이트 값 계산\n",
    "        gate_values = F.softmax(self.gates(x), dim=-1)  # [batch_size, num_experts]\n",
    "        \n",
    "        # 각 전문가의 출력을 구하고 게이트로 가중합 계산\n",
    "        expert_outputs = torch.stack([expert(x) for expert in self.experts], dim=1)  # [batch_size, num_experts, d_ff]\n",
    "        weighted_sum = torch.einsum('be,bed->bd', gate_values, expert_outputs)  # [batch_size, d_ff]\n",
    "\n",
    "        # 최종 출력 레이어 통과\n",
    "        output = self.linear_out(weighted_sum)\n",
    "        return output\n",
    "\n",
    "# 예시 사용\n",
    "num_experts = 4\n",
    "moe_ffn = MoEFFN(d_model, d_ff, num_experts)\n",
    "output_moe = moe_ffn(x)\n",
    "print(output_moe.shape)  # 출력: torch.Size([64, 512])"
   ]
  }
 ],
 "metadata": {
  "kernelspec": {
   "display_name": "Python 3",
   "language": "python",
   "name": "python3"
  },
  "language_info": {
   "codemirror_mode": {
    "name": "ipython",
    "version": 3
   },
   "file_extension": ".py",
   "mimetype": "text/x-python",
   "name": "python",
   "nbconvert_exporter": "python",
   "pygments_lexer": "ipython3",
   "version": "3.10.12"
  }
 },
 "nbformat": 4,
 "nbformat_minor": 2
}
