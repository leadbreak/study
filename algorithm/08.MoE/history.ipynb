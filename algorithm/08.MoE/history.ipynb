{
 "cells": [
  {
   "cell_type": "markdown",
   "metadata": {},
   "source": [
    "### 기본(초창기) MoE 구현\n",
    "- 가장 기본적인 전문가(Expert) 및 게이트웨이 네트워크로 구현"
   ]
  },
  {
   "cell_type": "code",
   "execution_count": 1,
   "metadata": {},
   "outputs": [],
   "source": [
    "import torch\n",
    "import torch.nn as nn"
   ]
  },
  {
   "cell_type": "code",
   "execution_count": 3,
   "metadata": {},
   "outputs": [],
   "source": [
    "class Expert(nn.Module):\n",
    "    def __init__(self, input_dim, output_dim):\n",
    "        super(Expert, self).__init__()\n",
    "        self.layer = nn.Linear(input_dim, output_dim)\n",
    "        \n",
    "    def forward(self, x):\n",
    "        return self.layer(x)"
   ]
  },
  {
   "cell_type": "code",
   "execution_count": 4,
   "metadata": {},
   "outputs": [],
   "source": [
    "class GatingNetwork(nn.Module):\n",
    "    def __init__(self, input_dim, num_experts):\n",
    "        super(GatingNetwork, self).__init__()\n",
    "        self.layer = nn.Linear(input_dim, num_experts)\n",
    "        \n",
    "    def forward(self, x):\n",
    "        return torch.softmax(self.layer(x), dim=-1) # [batch size, num experts]"
   ]
  },
  {
   "cell_type": "code",
   "execution_count": 6,
   "metadata": {},
   "outputs": [],
   "source": [
    "class MoE(nn.Module):\n",
    "    def __init__(self, input_dim, output_dim, num_experts):\n",
    "        super(MoE, self).__init__()\n",
    "        self.num_experts = num_experts\n",
    "        self.experts = nn.ModuleList([\n",
    "            Expert(input_dim, output_dim) for _ in range(num_experts)\n",
    "        ])\n",
    "        self.gate = GatingNetwork(input_dim, num_experts)\n",
    "        \n",
    "    def forward(self, x):\n",
    "        gate_outputs = self.gate(x) # [batch size, num experts]\n",
    "        \n",
    "        # 전문가들의 출력을 병렬로 계산\n",
    "        expert_outputs = torch.stack([expert(x) for expert in self.experts], dim=1) # [batch size, num experts, output dim]\n",
    "        \n",
    "        # 게이트웨이 확률과 전문가 출력을 가중합산\n",
    "        gate_outputs = gate_outputs.unsqueeze(-1) # [batch size, num experts, 1]\n",
    "        output = torch.sum(gate_outputs * expert_outputs, dim=1) # [batch size, output dim]\n",
    "        \n",
    "        return output"
   ]
  },
  {
   "cell_type": "code",
   "execution_count": 19,
   "metadata": {},
   "outputs": [],
   "source": [
    "batch_size = 10\n",
    "input_dim = 512\n",
    "output_dim = 256\n",
    "num_experts = 4\n",
    "\n",
    "moe = MoE(input_dim, output_dim, num_experts)"
   ]
  },
  {
   "cell_type": "code",
   "execution_count": 21,
   "metadata": {},
   "outputs": [
    {
     "data": {
      "text/plain": [
       "(torch.Size([10, 256]),\n",
       " tensor([[ 4.5667e-02,  2.7210e-01,  3.2642e-02,  ...,  1.3159e-01,\n",
       "          -1.6857e-01, -5.6110e-02],\n",
       "         [-1.1751e-01, -4.8721e-01, -1.2975e-01,  ...,  2.4370e-01,\n",
       "           2.4538e-01, -9.4550e-02],\n",
       "         [ 1.6024e-01,  2.1195e-01, -4.2267e-01,  ...,  2.1199e-01,\n",
       "           5.7871e-02,  6.9476e-01],\n",
       "         ...,\n",
       "         [-2.9266e-04, -4.3952e-01,  2.4019e-01,  ..., -8.0054e-02,\n",
       "           1.4274e-01, -3.5533e-01],\n",
       "         [-3.5217e-01, -1.9802e-01,  4.3595e-01,  ...,  2.2851e-01,\n",
       "           3.6919e-01,  4.3869e-01],\n",
       "         [ 3.2570e-01, -1.5187e-01, -4.3439e-01,  ..., -7.7880e-02,\n",
       "           2.7718e-01,  3.2285e-01]], grad_fn=<SumBackward1>))"
      ]
     },
     "execution_count": 21,
     "metadata": {},
     "output_type": "execute_result"
    }
   ],
   "source": [
    "x = torch.randn(batch_size, input_dim)\n",
    "output = moe(x)\n",
    "output.shape, output"
   ]
  },
  {
   "cell_type": "code",
   "execution_count": null,
   "metadata": {},
   "outputs": [],
   "source": []
  }
 ],
 "metadata": {
  "kernelspec": {
   "display_name": "Python 3",
   "language": "python",
   "name": "python3"
  },
  "language_info": {
   "codemirror_mode": {
    "name": "ipython",
    "version": 3
   },
   "file_extension": ".py",
   "mimetype": "text/x-python",
   "name": "python",
   "nbconvert_exporter": "python",
   "pygments_lexer": "ipython3",
   "version": "3.10.12"
  }
 },
 "nbformat": 4,
 "nbformat_minor": 2
}
