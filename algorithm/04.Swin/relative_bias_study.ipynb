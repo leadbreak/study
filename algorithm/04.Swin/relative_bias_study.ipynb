{
 "cells": [
  {
   "cell_type": "code",
   "execution_count": 1,
   "metadata": {},
   "outputs": [
    {
     "name": "stdout",
     "output_type": "stream",
     "text": [
      "Relative Position Bias Matrix:\n",
      " [[ 0  1  2  3  0  1  2  3  0  1  2  3  0  1  2  3]\n",
      " [ 0  1  2  3  0  1  2  3  0  1  2  3  0  1  2  3]\n",
      " [ 0  1  2  3  0  1  2  3  0  1  2  3  0  1  2  3]\n",
      " [ 0  1  2  3  0  1  2  3  0  1  2  3  0  1  2  3]\n",
      " [ 7  8  9 10  7  8  9 10  7  8  9 10  7  8  9 10]\n",
      " [ 7  8  9 10  7  8  9 10  7  8  9 10  7  8  9 10]\n",
      " [ 7  8  9 10  7  8  9 10  7  8  9 10  7  8  9 10]\n",
      " [ 7  8  9 10  7  8  9 10  7  8  9 10  7  8  9 10]\n",
      " [14 15 16 17 14 15 16 17 14 15 16 17 14 15 16 17]\n",
      " [14 15 16 17 14 15 16 17 14 15 16 17 14 15 16 17]\n",
      " [14 15 16 17 14 15 16 17 14 15 16 17 14 15 16 17]\n",
      " [14 15 16 17 14 15 16 17 14 15 16 17 14 15 16 17]\n",
      " [21 22 23 24 21 22 23 24 21 22 23 24 21 22 23 24]\n",
      " [21 22 23 24 21 22 23 24 21 22 23 24 21 22 23 24]\n",
      " [21 22 23 24 21 22 23 24 21 22 23 24 21 22 23 24]\n",
      " [21 22 23 24 21 22 23 24 21 22 23 24 21 22 23 24]]\n"
     ]
    }
   ],
   "source": [
    "import numpy as np\n",
    "\n",
    "def compute_relative_position_bias(window_size):\n",
    "    # 1. x, y축에 대한 위치 행렬 생성\n",
    "    range_vec = np.arange(window_size)\n",
    "    ypos, xpos = np.meshgrid(range_vec, range_vec)\n",
    "    \n",
    "    # 2. 위치 행렬 보정 (window size - 1 만큼 더함)\n",
    "    ypos = ypos.reshape(-1) + (window_size - 1)\n",
    "    xpos = xpos.reshape(-1) + (window_size - 1)\n",
    "    \n",
    "    # 3. x축 위치 행렬에 대한 조정 ((2 * window size - 1) 곱함)\n",
    "    xpos *= (2 * window_size - 1)\n",
    "    \n",
    "    # 4. 두 축의 위치 행렬 더하기\n",
    "    relative_position_bias = xpos.reshape(-1, 1) + ypos.reshape(1, -1)\n",
    "    \n",
    "    # 상대적 위치 행렬의 크기 조정\n",
    "    relative_position_bias = relative_position_bias - np.min(relative_position_bias)\n",
    "    \n",
    "    return relative_position_bias\n",
    "\n",
    "# 예시: window_size = 4\n",
    "window_size = 4\n",
    "relative_position_bias = compute_relative_position_bias(window_size)\n",
    "print(\"Relative Position Bias Matrix:\\n\", relative_position_bias)\n"
   ]
  }
 ],
 "metadata": {
  "kernelspec": {
   "display_name": "Python 3",
   "language": "python",
   "name": "python3"
  },
  "language_info": {
   "codemirror_mode": {
    "name": "ipython",
    "version": 3
   },
   "file_extension": ".py",
   "mimetype": "text/x-python",
   "name": "python",
   "nbconvert_exporter": "python",
   "pygments_lexer": "ipython3",
   "version": "3.10.12"
  }
 },
 "nbformat": 4,
 "nbformat_minor": 2
}
