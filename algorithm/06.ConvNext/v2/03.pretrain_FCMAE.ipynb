{
 "cells": [
  {
   "cell_type": "code",
   "execution_count": 1,
   "metadata": {},
   "outputs": [
    {
     "name": "stderr",
     "output_type": "stream",
     "text": [
      "/opt/conda/lib/python3.10/site-packages/tqdm/auto.py:21: TqdmWarning: IProgress not found. Please update jupyter and ipywidgets. See https://ipywidgets.readthedocs.io/en/stable/user_install.html\n",
      "  from .autonotebook import tqdm as notebook_tqdm\n",
      "/opt/conda/lib/python3.10/site-packages/MinkowskiEngine-0.5.4-py3.10-linux-x86_64.egg/MinkowskiEngine/__init__.py:36: UserWarning: The environment variable `OMP_NUM_THREADS` not set. MinkowskiEngine will automatically set `OMP_NUM_THREADS=16`. If you want to set `OMP_NUM_THREADS` manually, please export it on the command line before running a python script. e.g. `export OMP_NUM_THREADS=12; python your_program.py`. It is recommended to set it below 24.\n",
      "  warnings.warn(\n"
     ]
    }
   ],
   "source": [
    "import torch\n",
    "import torch.optim as optim\n",
    "from torchvision import transforms\n",
    "from torchvision.datasets import ImageFolder\n",
    "from torch.utils.data import DataLoader\n",
    "\n",
    "from tqdm import tqdm\n",
    "import time\n",
    "\n",
    "from torchsummary import summary\n",
    "\n",
    "from model.fcmae import convnextv2_fcmae_tiny\n",
    "import math\n",
    "import warnings\n",
    "from torch.optim.lr_scheduler import _LRScheduler\n",
    "\n",
    "class CosineWarmupScheduler(_LRScheduler):\n",
    "    def __init__(self, optimizer, num_warmup_steps, num_training_steps, num_cycles=0.5, min_lr=1e-6, last_epoch=-1, verbose=False):\n",
    "        self.num_warmup_steps = num_warmup_steps\n",
    "        self.num_training_steps = num_training_steps\n",
    "        self.num_cycles = num_cycles\n",
    "        self.min_lr = min_lr\n",
    "        self.base_lrs = [group['lr'] for group in optimizer.param_groups]\n",
    "        super().__init__(optimizer, last_epoch, verbose)\n",
    "\n",
    "    def get_lr(self):\n",
    "        if not self._get_lr_called_within_step:\n",
    "            warnings.warn(\"To get the last learning rate computed by the scheduler, \"\n",
    "                          \"please use `get_last_lr()`.\", UserWarning)\n",
    "        \n",
    "        lrs = []\n",
    "        for base_lr in self.base_lrs:\n",
    "            if self.last_epoch < self.num_warmup_steps:\n",
    "                # Linear warmup\n",
    "                lr = (base_lr - self.min_lr) * self.last_epoch / max(1, self.num_warmup_steps) + self.min_lr\n",
    "            else:\n",
    "                # Cosine annealing\n",
    "                progress = (self.last_epoch - self.num_warmup_steps) / max(1, self.num_training_steps - self.num_warmup_steps)\n",
    "                lr = self.min_lr + (base_lr - self.min_lr) * 0.5 * (1 + math.cos(math.pi * self.num_cycles * 2.0 * progress))\n",
    "            lrs.append(lr)\n",
    "        return lrs"
   ]
  },
  {
   "cell_type": "code",
   "execution_count": 2,
   "metadata": {},
   "outputs": [
    {
     "name": "stdout",
     "output_type": "stream",
     "text": [
      "----------------------------------------------------------------\n",
      "        Layer (type)               Output Shape         Param #\n",
      "================================================================\n",
      "            Conv2d-1           [-1, 96, 56, 56]           4,704\n",
      "            Conv2d-2           [-1, 96, 56, 56]           4,704\n",
      "         LayerNorm-3           [-1, 96, 56, 56]             192\n",
      "         LayerNorm-4           [-1, 96, 56, 56]             192\n",
      "MinkowskiDepthwiseConvolution-5                   [-1, 96]              96\n",
      "         LayerNorm-6                   [-1, 96]             192\n",
      "MinkowskiLayerNorm-7                   [-1, 96]               0\n",
      "            Linear-8                  [-1, 384]          37,248\n",
      "   MinkowskiLinear-9                  [-1, 384]               0\n",
      "             GELU-10                  [-1, 384]               0\n",
      "    MinkowskiGELU-11                  [-1, 384]               0\n",
      "     MinkowskiGRN-12                  [-1, 384]               0\n",
      "           Linear-13                   [-1, 96]          36,960\n",
      "  MinkowskiLinear-14                   [-1, 96]               0\n",
      "MinkowskiDropPath-15                   [-1, 96]               0\n",
      "            Block-16                   [-1, 96]               0\n",
      "MinkowskiDepthwiseConvolution-17                   [-1, 96]              96\n",
      "        LayerNorm-18                   [-1, 96]             192\n",
      "MinkowskiLayerNorm-19                   [-1, 96]               0\n",
      "           Linear-20                  [-1, 384]          37,248\n",
      "  MinkowskiLinear-21                  [-1, 384]               0\n",
      "             GELU-22                  [-1, 384]               0\n",
      "    MinkowskiGELU-23                  [-1, 384]               0\n",
      "     MinkowskiGRN-24                  [-1, 384]               0\n",
      "           Linear-25                   [-1, 96]          36,960\n",
      "  MinkowskiLinear-26                   [-1, 96]               0\n",
      "MinkowskiDropPath-27                   [-1, 96]               0\n",
      "            Block-28                   [-1, 96]               0\n",
      "MinkowskiDepthwiseConvolution-29                   [-1, 96]              96\n",
      "        LayerNorm-30                   [-1, 96]             192\n",
      "MinkowskiLayerNorm-31                   [-1, 96]               0\n",
      "           Linear-32                  [-1, 384]          37,248\n",
      "  MinkowskiLinear-33                  [-1, 384]               0\n",
      "             GELU-34                  [-1, 384]               0\n",
      "    MinkowskiGELU-35                  [-1, 384]               0\n",
      "     MinkowskiGRN-36                  [-1, 384]               0\n",
      "           Linear-37                   [-1, 96]          36,960\n",
      "  MinkowskiLinear-38                   [-1, 96]               0\n",
      "MinkowskiDropPath-39                   [-1, 96]               0\n",
      "            Block-40                   [-1, 96]               0\n",
      "        LayerNorm-41                   [-1, 96]             192\n",
      "MinkowskiLayerNorm-42                   [-1, 96]               0\n",
      "MinkowskiConvolution-43                  [-1, 192]             192\n",
      "MinkowskiDepthwiseConvolution-44                  [-1, 192]             192\n",
      "        LayerNorm-45                  [-1, 192]             384\n",
      "MinkowskiLayerNorm-46                  [-1, 192]               0\n",
      "           Linear-47                  [-1, 768]         148,224\n",
      "  MinkowskiLinear-48                  [-1, 768]               0\n",
      "             GELU-49                  [-1, 768]               0\n",
      "    MinkowskiGELU-50                  [-1, 768]               0\n",
      "     MinkowskiGRN-51                  [-1, 768]               0\n",
      "           Linear-52                  [-1, 192]         147,648\n",
      "  MinkowskiLinear-53                  [-1, 192]               0\n",
      "MinkowskiDropPath-54                  [-1, 192]               0\n",
      "            Block-55                  [-1, 192]               0\n",
      "MinkowskiDepthwiseConvolution-56                  [-1, 192]             192\n",
      "        LayerNorm-57                  [-1, 192]             384\n",
      "MinkowskiLayerNorm-58                  [-1, 192]               0\n",
      "           Linear-59                  [-1, 768]         148,224\n",
      "  MinkowskiLinear-60                  [-1, 768]               0\n",
      "             GELU-61                  [-1, 768]               0\n",
      "    MinkowskiGELU-62                  [-1, 768]               0\n",
      "     MinkowskiGRN-63                  [-1, 768]               0\n",
      "           Linear-64                  [-1, 192]         147,648\n",
      "  MinkowskiLinear-65                  [-1, 192]               0\n",
      "MinkowskiDropPath-66                  [-1, 192]               0\n",
      "            Block-67                  [-1, 192]               0\n",
      "MinkowskiDepthwiseConvolution-68                  [-1, 192]             192\n",
      "        LayerNorm-69                  [-1, 192]             384\n",
      "MinkowskiLayerNorm-70                  [-1, 192]               0\n",
      "           Linear-71                  [-1, 768]         148,224\n",
      "  MinkowskiLinear-72                  [-1, 768]               0\n",
      "             GELU-73                  [-1, 768]               0\n",
      "    MinkowskiGELU-74                  [-1, 768]               0\n",
      "     MinkowskiGRN-75                  [-1, 768]               0\n",
      "           Linear-76                  [-1, 192]         147,648\n",
      "  MinkowskiLinear-77                  [-1, 192]               0\n",
      "MinkowskiDropPath-78                  [-1, 192]               0\n",
      "            Block-79                  [-1, 192]               0\n",
      "        LayerNorm-80                  [-1, 192]             384\n",
      "MinkowskiLayerNorm-81                  [-1, 192]               0\n",
      "MinkowskiConvolution-82                  [-1, 384]             384\n",
      "MinkowskiDepthwiseConvolution-83                  [-1, 384]             384\n",
      "        LayerNorm-84                  [-1, 384]             768\n",
      "MinkowskiLayerNorm-85                  [-1, 384]               0\n",
      "           Linear-86                 [-1, 1536]         591,360\n",
      "  MinkowskiLinear-87                 [-1, 1536]               0\n",
      "             GELU-88                 [-1, 1536]               0\n",
      "    MinkowskiGELU-89                 [-1, 1536]               0\n",
      "     MinkowskiGRN-90                 [-1, 1536]               0\n",
      "           Linear-91                  [-1, 384]         590,208\n",
      "  MinkowskiLinear-92                  [-1, 384]               0\n",
      "MinkowskiDropPath-93                  [-1, 384]               0\n",
      "            Block-94                  [-1, 384]               0\n",
      "MinkowskiDepthwiseConvolution-95                  [-1, 384]             384\n",
      "        LayerNorm-96                  [-1, 384]             768\n",
      "MinkowskiLayerNorm-97                  [-1, 384]               0\n",
      "           Linear-98                 [-1, 1536]         591,360\n",
      "  MinkowskiLinear-99                 [-1, 1536]               0\n",
      "            GELU-100                 [-1, 1536]               0\n",
      "   MinkowskiGELU-101                 [-1, 1536]               0\n",
      "    MinkowskiGRN-102                 [-1, 1536]               0\n",
      "          Linear-103                  [-1, 384]         590,208\n",
      " MinkowskiLinear-104                  [-1, 384]               0\n",
      "MinkowskiDropPath-105                  [-1, 384]               0\n",
      "           Block-106                  [-1, 384]               0\n",
      "MinkowskiDepthwiseConvolution-107                  [-1, 384]             384\n",
      "       LayerNorm-108                  [-1, 384]             768\n",
      "MinkowskiLayerNorm-109                  [-1, 384]               0\n",
      "          Linear-110                 [-1, 1536]         591,360\n",
      " MinkowskiLinear-111                 [-1, 1536]               0\n",
      "            GELU-112                 [-1, 1536]               0\n",
      "   MinkowskiGELU-113                 [-1, 1536]               0\n",
      "    MinkowskiGRN-114                 [-1, 1536]               0\n",
      "          Linear-115                  [-1, 384]         590,208\n",
      " MinkowskiLinear-116                  [-1, 384]               0\n",
      "MinkowskiDropPath-117                  [-1, 384]               0\n",
      "           Block-118                  [-1, 384]               0\n",
      "MinkowskiDepthwiseConvolution-119                  [-1, 384]             384\n",
      "       LayerNorm-120                  [-1, 384]             768\n",
      "MinkowskiLayerNorm-121                  [-1, 384]               0\n",
      "          Linear-122                 [-1, 1536]         591,360\n",
      " MinkowskiLinear-123                 [-1, 1536]               0\n",
      "            GELU-124                 [-1, 1536]               0\n",
      "   MinkowskiGELU-125                 [-1, 1536]               0\n",
      "    MinkowskiGRN-126                 [-1, 1536]               0\n",
      "          Linear-127                  [-1, 384]         590,208\n",
      " MinkowskiLinear-128                  [-1, 384]               0\n",
      "MinkowskiDropPath-129                  [-1, 384]               0\n",
      "           Block-130                  [-1, 384]               0\n",
      "MinkowskiDepthwiseConvolution-131                  [-1, 384]             384\n",
      "       LayerNorm-132                  [-1, 384]             768\n",
      "MinkowskiLayerNorm-133                  [-1, 384]               0\n",
      "          Linear-134                 [-1, 1536]         591,360\n",
      " MinkowskiLinear-135                 [-1, 1536]               0\n",
      "            GELU-136                 [-1, 1536]               0\n",
      "   MinkowskiGELU-137                 [-1, 1536]               0\n",
      "    MinkowskiGRN-138                 [-1, 1536]               0\n",
      "          Linear-139                  [-1, 384]         590,208\n",
      " MinkowskiLinear-140                  [-1, 384]               0\n",
      "MinkowskiDropPath-141                  [-1, 384]               0\n",
      "           Block-142                  [-1, 384]               0\n",
      "MinkowskiDepthwiseConvolution-143                  [-1, 384]             384\n",
      "       LayerNorm-144                  [-1, 384]             768\n",
      "MinkowskiLayerNorm-145                  [-1, 384]               0\n",
      "          Linear-146                 [-1, 1536]         591,360\n",
      " MinkowskiLinear-147                 [-1, 1536]               0\n",
      "            GELU-148                 [-1, 1536]               0\n",
      "   MinkowskiGELU-149                 [-1, 1536]               0\n",
      "    MinkowskiGRN-150                 [-1, 1536]               0\n",
      "          Linear-151                  [-1, 384]         590,208\n",
      " MinkowskiLinear-152                  [-1, 384]               0\n",
      "MinkowskiDropPath-153                  [-1, 384]               0\n",
      "           Block-154                  [-1, 384]               0\n",
      "MinkowskiDepthwiseConvolution-155                  [-1, 384]             384\n",
      "       LayerNorm-156                  [-1, 384]             768\n",
      "MinkowskiLayerNorm-157                  [-1, 384]               0\n",
      "          Linear-158                 [-1, 1536]         591,360\n",
      " MinkowskiLinear-159                 [-1, 1536]               0\n",
      "            GELU-160                 [-1, 1536]               0\n",
      "   MinkowskiGELU-161                 [-1, 1536]               0\n",
      "    MinkowskiGRN-162                 [-1, 1536]               0\n",
      "          Linear-163                  [-1, 384]         590,208\n",
      " MinkowskiLinear-164                  [-1, 384]               0\n",
      "MinkowskiDropPath-165                  [-1, 384]               0\n",
      "           Block-166                  [-1, 384]               0\n",
      "MinkowskiDepthwiseConvolution-167                  [-1, 384]             384\n",
      "       LayerNorm-168                  [-1, 384]             768\n",
      "MinkowskiLayerNorm-169                  [-1, 384]               0\n",
      "          Linear-170                 [-1, 1536]         591,360\n",
      " MinkowskiLinear-171                 [-1, 1536]               0\n",
      "            GELU-172                 [-1, 1536]               0\n",
      "   MinkowskiGELU-173                 [-1, 1536]               0\n",
      "    MinkowskiGRN-174                 [-1, 1536]               0\n",
      "          Linear-175                  [-1, 384]         590,208\n",
      " MinkowskiLinear-176                  [-1, 384]               0\n",
      "MinkowskiDropPath-177                  [-1, 384]               0\n",
      "           Block-178                  [-1, 384]               0\n",
      "MinkowskiDepthwiseConvolution-179                  [-1, 384]             384\n",
      "       LayerNorm-180                  [-1, 384]             768\n",
      "MinkowskiLayerNorm-181                  [-1, 384]               0\n",
      "          Linear-182                 [-1, 1536]         591,360\n",
      " MinkowskiLinear-183                 [-1, 1536]               0\n",
      "            GELU-184                 [-1, 1536]               0\n",
      "   MinkowskiGELU-185                 [-1, 1536]               0\n",
      "    MinkowskiGRN-186                 [-1, 1536]               0\n",
      "          Linear-187                  [-1, 384]         590,208\n",
      " MinkowskiLinear-188                  [-1, 384]               0\n",
      "MinkowskiDropPath-189                  [-1, 384]               0\n",
      "           Block-190                  [-1, 384]               0\n",
      "       LayerNorm-191                  [-1, 384]             768\n",
      "MinkowskiLayerNorm-192                  [-1, 384]               0\n",
      "MinkowskiConvolution-193                  [-1, 768]             768\n",
      "MinkowskiDepthwiseConvolution-194                  [-1, 768]             768\n",
      "       LayerNorm-195                  [-1, 768]           1,536\n",
      "MinkowskiLayerNorm-196                  [-1, 768]               0\n",
      "          Linear-197                 [-1, 3072]       2,362,368\n",
      " MinkowskiLinear-198                 [-1, 3072]               0\n",
      "            GELU-199                 [-1, 3072]               0\n",
      "   MinkowskiGELU-200                 [-1, 3072]               0\n",
      "    MinkowskiGRN-201                 [-1, 3072]               0\n",
      "          Linear-202                  [-1, 768]       2,360,064\n",
      " MinkowskiLinear-203                  [-1, 768]               0\n",
      "MinkowskiDropPath-204                  [-1, 768]               0\n",
      "           Block-205                  [-1, 768]               0\n",
      "MinkowskiDepthwiseConvolution-206                  [-1, 768]             768\n",
      "       LayerNorm-207                  [-1, 768]           1,536\n",
      "MinkowskiLayerNorm-208                  [-1, 768]               0\n",
      "          Linear-209                 [-1, 3072]       2,362,368\n",
      " MinkowskiLinear-210                 [-1, 3072]               0\n",
      "            GELU-211                 [-1, 3072]               0\n",
      "   MinkowskiGELU-212                 [-1, 3072]               0\n",
      "    MinkowskiGRN-213                 [-1, 3072]               0\n",
      "          Linear-214                  [-1, 768]       2,360,064\n",
      " MinkowskiLinear-215                  [-1, 768]               0\n",
      "MinkowskiDropPath-216                  [-1, 768]               0\n",
      "           Block-217                  [-1, 768]               0\n",
      "MinkowskiDepthwiseConvolution-218                  [-1, 768]             768\n",
      "       LayerNorm-219                  [-1, 768]           1,536\n",
      "MinkowskiLayerNorm-220                  [-1, 768]               0\n",
      "          Linear-221                 [-1, 3072]       2,362,368\n",
      " MinkowskiLinear-222                 [-1, 3072]               0\n",
      "            GELU-223                 [-1, 3072]               0\n",
      "   MinkowskiGELU-224                 [-1, 3072]               0\n",
      "    MinkowskiGRN-225                 [-1, 3072]               0\n",
      "          Linear-226                  [-1, 768]       2,360,064\n",
      " MinkowskiLinear-227                  [-1, 768]               0\n",
      "MinkowskiDropPath-228                  [-1, 768]               0\n",
      "           Block-229                  [-1, 768]               0\n",
      "SparseConvNeXtV2-230            [-1, 768, 7, 7]               0\n",
      "          Conv2d-231            [-1, 512, 7, 7]         393,728\n",
      "          Conv2d-232            [-1, 512, 7, 7]          25,600\n",
      "       LayerNorm-233            [-1, 512, 7, 7]           1,024\n",
      "          Conv2d-234           [-1, 2048, 7, 7]       1,050,624\n",
      "       QuickGELU-235           [-1, 2048, 7, 7]               0\n",
      "             GRN-236           [-1, 2048, 7, 7]               0\n",
      "          Conv2d-237            [-1, 512, 7, 7]       1,049,088\n",
      "        Identity-238            [-1, 512, 7, 7]               0\n",
      "           Block-239            [-1, 512, 7, 7]               0\n",
      "          Conv2d-240           [-1, 3072, 7, 7]       1,575,936\n",
      "================================================================\n",
      "Total params: 30,040,000\n",
      "Trainable params: 30,032,032\n",
      "Non-trainable params: 7,968\n",
      "----------------------------------------------------------------\n",
      "Input size (MB): 0.57\n",
      "Forward/backward pass size (MB): 15.45\n",
      "Params size (MB): 114.59\n",
      "Estimated Total Size (MB): 130.62\n",
      "----------------------------------------------------------------\n"
     ]
    }
   ],
   "source": [
    "model = convnextv2_fcmae_tiny()\n",
    "summary(model.cuda(), (3,224,224))"
   ]
  },
  {
   "cell_type": "code",
   "execution_count": 3,
   "metadata": {},
   "outputs": [],
   "source": [
    "# Transforms 정의하기\n",
    "train_transform = transforms.Compose([\n",
    "            transforms.RandomResizedCrop(224, scale=(0.2, 1.0), interpolation=3),  # 3 is bicubic\n",
    "            transforms.RandomHorizontalFlip(),\n",
    "            transforms.ToTensor(),\n",
    "            transforms.Normalize(mean=[0.485, 0.456, 0.406], std=[0.229, 0.224, 0.225])])"
   ]
  },
  {
   "cell_type": "code",
   "execution_count": 4,
   "metadata": {},
   "outputs": [
    {
     "data": {
      "text/plain": [
       "19"
      ]
     },
     "execution_count": 4,
     "metadata": {},
     "output_type": "execute_result"
    }
   ],
   "source": [
    "data_dir = '../../data/sports/'\n",
    "batch_size = 800\n",
    "train_path = data_dir\n",
    "\n",
    "# dataset load\n",
    "train_data = ImageFolder(train_path, transform=train_transform)\n",
    "train_loader = DataLoader(train_data, batch_size=batch_size, shuffle=True, pin_memory=True)\n",
    "\n",
    "len(train_loader)"
   ]
  },
  {
   "cell_type": "code",
   "execution_count": 5,
   "metadata": {},
   "outputs": [],
   "source": [
    "device = 'cuda:0'\n",
    "model.to(device)\n",
    "\n",
    "model_path = '../../model/convnext/fcmae.pt'\n",
    "\n",
    "epochs = 100\n",
    "optimizer = optim.AdamW(model.parameters(), lr=1.5e-4, weight_decay=0.05, betas=(0.9, 0.95))"
   ]
  },
  {
   "cell_type": "code",
   "execution_count": 6,
   "metadata": {},
   "outputs": [
    {
     "name": "stderr",
     "output_type": "stream",
     "text": [
      "/opt/conda/lib/python3.10/site-packages/torch/optim/lr_scheduler.py:28: UserWarning: The verbose parameter is deprecated. Please use get_last_lr() to access the learning rate.\n",
      "  warnings.warn(\"The verbose parameter is deprecated. Please use get_last_lr() \"\n"
     ]
    }
   ],
   "source": [
    "warmup_steps = int(len(train_loader)*(epochs)*0.1)\n",
    "train_steps = len(train_loader)*(epochs)\n",
    "scheduler = CosineWarmupScheduler(optimizer, \n",
    "                                num_warmup_steps=10, \n",
    "                                num_training_steps=100,\n",
    "                                num_cycles=0.5,\n",
    "                                min_lr=1e-7)"
   ]
  },
  {
   "cell_type": "code",
   "execution_count": 7,
   "metadata": {},
   "outputs": [
    {
     "name": "stderr",
     "output_type": "stream",
     "text": [
      "Epoch 1: 100%|██████████| 19/19 [01:14<00:00,  3.91s/it]\n"
     ]
    },
    {
     "name": "stdout",
     "output_type": "stream",
     "text": [
      "\tLoss: 124940581.8947, LR: 1e-07, Duration: 74.26 sec - model save pass\n"
     ]
    },
    {
     "name": "stderr",
     "output_type": "stream",
     "text": [
      "Epoch 2: 100%|██████████| 19/19 [01:13<00:00,  3.88s/it]\n"
     ]
    },
    {
     "name": "stdout",
     "output_type": "stream",
     "text": [
      "\tLoss: 120143580.6316, LR: 1.509e-05, Duration: 73.71 sec - model save pass\n"
     ]
    },
    {
     "name": "stderr",
     "output_type": "stream",
     "text": [
      "Epoch 3: 100%|██████████| 19/19 [01:14<00:00,  3.90s/it]\n"
     ]
    },
    {
     "name": "stdout",
     "output_type": "stream",
     "text": [
      "\tLoss: 108351080.4211, LR: 3.0079999999999997e-05, Duration: 74.06 sec - model save pass\n"
     ]
    },
    {
     "name": "stderr",
     "output_type": "stream",
     "text": [
      "Epoch 4: 100%|██████████| 19/19 [01:13<00:00,  3.85s/it]\n"
     ]
    },
    {
     "name": "stdout",
     "output_type": "stream",
     "text": [
      "\tLoss: 95343880.4211, LR: 4.5069999999999994e-05, Duration: 73.16 sec - model save pass\n"
     ]
    },
    {
     "name": "stderr",
     "output_type": "stream",
     "text": [
      "Epoch 5: 100%|██████████| 19/19 [01:13<00:00,  3.87s/it]\n"
     ]
    },
    {
     "name": "stdout",
     "output_type": "stream",
     "text": [
      "\tLoss: 83317754.9474, LR: 6.006e-05, Duration: 73.48 sec - model save pass\n"
     ]
    },
    {
     "name": "stderr",
     "output_type": "stream",
     "text": [
      "Epoch 6: 100%|██████████| 19/19 [01:13<00:00,  3.86s/it]\n"
     ]
    },
    {
     "name": "stdout",
     "output_type": "stream",
     "text": [
      "\tLoss: 72509474.1053, LR: 7.505e-05, Duration: 73.32 sec - model save pass\n"
     ]
    },
    {
     "name": "stderr",
     "output_type": "stream",
     "text": [
      "Epoch 7: 100%|██████████| 19/19 [01:13<00:00,  3.85s/it]\n"
     ]
    },
    {
     "name": "stdout",
     "output_type": "stream",
     "text": [
      "\tLoss: 62319604.6316, LR: 9.003999999999998e-05, Duration: 73.18 sec - model save pass\n"
     ]
    },
    {
     "name": "stderr",
     "output_type": "stream",
     "text": [
      "Epoch 8: 100%|██████████| 19/19 [01:13<00:00,  3.86s/it]\n"
     ]
    },
    {
     "name": "stdout",
     "output_type": "stream",
     "text": [
      "\tLoss: 53134588.4211, LR: 0.00010503, Duration: 73.34 sec - model save pass\n"
     ]
    },
    {
     "name": "stderr",
     "output_type": "stream",
     "text": [
      "Epoch 9: 100%|██████████| 19/19 [01:13<00:00,  3.85s/it]\n"
     ]
    },
    {
     "name": "stdout",
     "output_type": "stream",
     "text": [
      "\tLoss: 45141916.6316, LR: 0.00012001999999999999, Duration: 73.18 sec - model save pass\n"
     ]
    },
    {
     "name": "stderr",
     "output_type": "stream",
     "text": [
      "Epoch 10: 100%|██████████| 19/19 [01:13<00:00,  3.86s/it]\n"
     ]
    },
    {
     "name": "stdout",
     "output_type": "stream",
     "text": [
      "\tLoss: 38238362.1053, LR: 0.00013500999999999997, Duration: 73.26 sec - model save pass\n"
     ]
    },
    {
     "name": "stderr",
     "output_type": "stream",
     "text": [
      "Epoch 11: 100%|██████████| 19/19 [01:13<00:00,  3.85s/it]\n"
     ]
    },
    {
     "name": "stdout",
     "output_type": "stream",
     "text": [
      "\tLoss: 32159035.8947, LR: 0.00015, Duration: 73.23 sec - model save pass\n"
     ]
    },
    {
     "name": "stderr",
     "output_type": "stream",
     "text": [
      "Epoch 12: 100%|██████████| 19/19 [01:12<00:00,  3.84s/it]\n"
     ]
    },
    {
     "name": "stdout",
     "output_type": "stream",
     "text": [
      "\tLoss: 27229349.4737, LR: 0.00014995434248508122, Duration: 72.88 sec - model save pass\n"
     ]
    },
    {
     "name": "stderr",
     "output_type": "stream",
     "text": [
      "Epoch 13: 100%|██████████| 19/19 [01:13<00:00,  3.85s/it]\n"
     ]
    },
    {
     "name": "stdout",
     "output_type": "stream",
     "text": [
      "\tLoss: 23284808.7368, LR: 0.0001498174255669738, Duration: 73.16 sec - model save pass\n"
     ]
    },
    {
     "name": "stderr",
     "output_type": "stream",
     "text": [
      "Epoch 14: 100%|██████████| 19/19 [01:13<00:00,  3.86s/it]\n"
     ]
    },
    {
     "name": "stdout",
     "output_type": "stream",
     "text": [
      "\tLoss: 20001592.5263, LR: 0.00014958941605785206, Duration: 73.27 sec - model save pass\n"
     ]
    },
    {
     "name": "stderr",
     "output_type": "stream",
     "text": [
      "Epoch 15: 100%|██████████| 19/19 [01:13<00:00,  3.86s/it]\n"
     ]
    },
    {
     "name": "stdout",
     "output_type": "stream",
     "text": [
      "\tLoss: 17300365.3684, LR: 0.0001492705917521807, Duration: 73.32 sec - model save pass\n"
     ]
    },
    {
     "name": "stderr",
     "output_type": "stream",
     "text": [
      "Epoch 16: 100%|██████████| 19/19 [01:13<00:00,  3.88s/it]\n"
     ]
    },
    {
     "name": "stdout",
     "output_type": "stream",
     "text": [
      "\tLoss: 14967883.9474, LR: 0.000148861341088265, Duration: 73.74 sec - model save pass\n"
     ]
    },
    {
     "name": "stderr",
     "output_type": "stream",
     "text": [
      "Epoch 17: 100%|██████████| 19/19 [01:13<00:00,  3.87s/it]\n"
     ]
    },
    {
     "name": "stdout",
     "output_type": "stream",
     "text": [
      "\tLoss: 12970437.2632, LR: 0.00014836216267499872, Duration: 73.51 sec - model save pass\n"
     ]
    },
    {
     "name": "stderr",
     "output_type": "stream",
     "text": [
      "Epoch 18: 100%|██████████| 19/19 [01:13<00:00,  3.86s/it]\n"
     ]
    },
    {
     "name": "stdout",
     "output_type": "stream",
     "text": [
      "\tLoss: 11218848.8421, LR: 0.00014777366468438592, Duration: 73.36 sec - model save pass\n"
     ]
    },
    {
     "name": "stderr",
     "output_type": "stream",
     "text": [
      "Epoch 19: 100%|██████████| 19/19 [01:13<00:00,  3.88s/it]\n"
     ]
    },
    {
     "name": "stdout",
     "output_type": "stream",
     "text": [
      "\tLoss: 9684486.7368, LR: 0.00014709656411057698, Duration: 73.68 sec - model save pass\n"
     ]
    },
    {
     "name": "stderr",
     "output_type": "stream",
     "text": [
      "Epoch 20: 100%|██████████| 19/19 [01:13<00:00,  3.85s/it]\n"
     ]
    },
    {
     "name": "stdout",
     "output_type": "stream",
     "text": [
      "\tLoss: 8362035.5263, LR: 0.00014633168589632176, Duration: 73.10 sec - model save pass\n"
     ]
    },
    {
     "name": "stderr",
     "output_type": "stream",
     "text": [
      "Epoch 21: 100%|██████████| 19/19 [01:13<00:00,  3.88s/it]\n"
     ]
    },
    {
     "name": "stdout",
     "output_type": "stream",
     "text": [
      "\tLoss: 7178421.6579, LR: 0.00014547996192790382, Duration: 73.78 sec - model save pass\n"
     ]
    },
    {
     "name": "stderr",
     "output_type": "stream",
     "text": [
      "Epoch 22: 100%|██████████| 19/19 [01:13<00:00,  3.86s/it]\n"
     ]
    },
    {
     "name": "stdout",
     "output_type": "stream",
     "text": [
      "\tLoss: 6164096.1316, LR: 0.0001445424298997807, Duration: 73.25 sec - model save pass\n"
     ]
    },
    {
     "name": "stderr",
     "output_type": "stream",
     "text": [
      "Epoch 23: 100%|██████████| 19/19 [01:12<00:00,  3.84s/it]\n"
     ]
    },
    {
     "name": "stdout",
     "output_type": "stream",
     "text": [
      "\tLoss: 5227093.2368, LR: 0.00014352023205031292, Duration: 72.97 sec - model save pass\n"
     ]
    },
    {
     "name": "stderr",
     "output_type": "stream",
     "text": [
      "Epoch 24: 100%|██████████| 19/19 [01:13<00:00,  3.87s/it]\n"
     ]
    },
    {
     "name": "stdout",
     "output_type": "stream",
     "text": [
      "\tLoss: 4424824.1974, LR: 0.00014241461377012256, Duration: 73.49 sec - model save pass\n"
     ]
    },
    {
     "name": "stderr",
     "output_type": "stream",
     "text": [
      "Epoch 25: 100%|██████████| 19/19 [01:12<00:00,  3.84s/it]\n"
     ]
    },
    {
     "name": "stdout",
     "output_type": "stream",
     "text": [
      "\tLoss: 3672617.6447, LR: 0.00014122692208477655, Duration: 72.94 sec - model save pass\n"
     ]
    },
    {
     "name": "stderr",
     "output_type": "stream",
     "text": [
      "Epoch 26: 100%|██████████| 19/19 [01:13<00:00,  3.86s/it]\n"
     ]
    },
    {
     "name": "stdout",
     "output_type": "stream",
     "text": [
      "\tLoss: 3129342.6579, LR: 0.00013995860401364368, Duration: 73.25 sec - model save pass\n"
     ]
    },
    {
     "name": "stderr",
     "output_type": "stream",
     "text": [
      "Epoch 27: 100%|██████████| 19/19 [01:13<00:00,  3.85s/it]\n"
     ]
    },
    {
     "name": "stdout",
     "output_type": "stream",
     "text": [
      "\tLoss: 2561853.7500, LR: 0.0001386112048069241, Duration: 73.19 sec - model save pass\n"
     ]
    },
    {
     "name": "stderr",
     "output_type": "stream",
     "text": [
      "Epoch 28: 100%|██████████| 19/19 [01:13<00:00,  3.87s/it]\n"
     ]
    },
    {
     "name": "stdout",
     "output_type": "stream",
     "text": [
      "\tLoss: 2125888.5987, LR: 0.00013718636606300036, Duration: 73.47 sec - model save pass\n"
     ]
    },
    {
     "name": "stderr",
     "output_type": "stream",
     "text": [
      "Epoch 29: 100%|██████████| 19/19 [01:13<00:00,  3.85s/it]\n"
     ]
    },
    {
     "name": "stdout",
     "output_type": "stream",
     "text": [
      "\tLoss: 1752313.2500, LR: 0.0001356858237284023, Duration: 73.15 sec - model save pass\n"
     ]
    },
    {
     "name": "stderr",
     "output_type": "stream",
     "text": [
      "Epoch 30: 100%|██████████| 19/19 [01:13<00:00,  3.89s/it]\n"
     ]
    },
    {
     "name": "stdout",
     "output_type": "stream",
     "text": [
      "\tLoss: 1443232.7829, LR: 0.0001341114059828238, Duration: 73.92 sec - model save pass\n"
     ]
    },
    {
     "name": "stderr",
     "output_type": "stream",
     "text": [
      "Epoch 31: 100%|██████████| 19/19 [01:13<00:00,  3.88s/it]\n"
     ]
    },
    {
     "name": "stdout",
     "output_type": "stream",
     "text": [
      "\tLoss: 1194650.1645, LR: 0.00013246503101176739, Duration: 73.66 sec - model save pass\n"
     ]
    },
    {
     "name": "stderr",
     "output_type": "stream",
     "text": [
      "Epoch 32: 100%|██████████| 19/19 [01:12<00:00,  3.84s/it]\n"
     ]
    },
    {
     "name": "stdout",
     "output_type": "stream",
     "text": [
      "\tLoss: 989536.2270, LR: 0.00013074870466953068, Duration: 72.95 sec - model save pass\n"
     ]
    },
    {
     "name": "stderr",
     "output_type": "stream",
     "text": [
      "Epoch 33: 100%|██████████| 19/19 [01:13<00:00,  3.85s/it]\n"
     ]
    },
    {
     "name": "stdout",
     "output_type": "stream",
     "text": [
      "\tLoss: 822664.2434, LR: 0.0001289645180353819, Duration: 73.20 sec - model save pass\n"
     ]
    },
    {
     "name": "stderr",
     "output_type": "stream",
     "text": [
      "Epoch 34: 100%|██████████| 19/19 [01:13<00:00,  3.89s/it]\n"
     ]
    },
    {
     "name": "stdout",
     "output_type": "stream",
     "text": [
      "\tLoss: 683637.4342, LR: 0.00012711464486590184, Duration: 73.88 sec - model save pass\n"
     ]
    },
    {
     "name": "stderr",
     "output_type": "stream",
     "text": [
      "Epoch 35: 100%|██████████| 19/19 [01:13<00:00,  3.84s/it]\n"
     ]
    },
    {
     "name": "stdout",
     "output_type": "stream",
     "text": [
      "\tLoss: 567901.8536, LR: 0.00012520133894659643, Duration: 73.03 sec - model save pass\n"
     ]
    },
    {
     "name": "stderr",
     "output_type": "stream",
     "text": [
      "Epoch 36: 100%|██████████| 19/19 [01:13<00:00,  3.88s/it]\n"
     ]
    },
    {
     "name": "stdout",
     "output_type": "stream",
     "text": [
      "\tLoss: 476341.9474, LR: 0.0001232269313460061, Duration: 73.69 sec - model save pass\n"
     ]
    },
    {
     "name": "stderr",
     "output_type": "stream",
     "text": [
      "Epoch 37: 100%|██████████| 19/19 [01:13<00:00,  3.88s/it]\n"
     ]
    },
    {
     "name": "stdout",
     "output_type": "stream",
     "text": [
      "\tLoss: 396103.4161, LR: 0.00012119382757565807, Duration: 73.68 sec - model save pass\n"
     ]
    },
    {
     "name": "stderr",
     "output_type": "stream",
     "text": [
      "Epoch 38: 100%|██████████| 19/19 [01:13<00:00,  3.85s/it]\n"
     ]
    },
    {
     "name": "stdout",
     "output_type": "stream",
     "text": [
      "\tLoss: 338214.7220, LR: 0.00011910450465932085, Duration: 73.18 sec - model save pass\n"
     ]
    },
    {
     "name": "stderr",
     "output_type": "stream",
     "text": [
      "Epoch 39: 100%|██████████| 19/19 [01:13<00:00,  3.86s/it]\n"
     ]
    },
    {
     "name": "stdout",
     "output_type": "stream",
     "text": [
      "\tLoss: 286772.2270, LR: 0.00011696150811513247, Duration: 73.33 sec - model save pass\n"
     ]
    },
    {
     "name": "stderr",
     "output_type": "stream",
     "text": [
      "Epoch 40: 100%|██████████| 19/19 [01:12<00:00,  3.84s/it]\n"
     ]
    },
    {
     "name": "stdout",
     "output_type": "stream",
     "text": [
      "\tLoss: 245819.4507, LR: 0.0001147674488542787, Duration: 72.95 sec - model save pass\n"
     ]
    },
    {
     "name": "stderr",
     "output_type": "stream",
     "text": [
      "Epoch 41: 100%|██████████| 19/19 [01:12<00:00,  3.84s/it]\n"
     ]
    },
    {
     "name": "stdout",
     "output_type": "stream",
     "text": [
      "\tLoss: 207888.7500, LR: 0.00011252499999999998, Duration: 72.90 sec - model save pass\n"
     ]
    },
    {
     "name": "stderr",
     "output_type": "stream",
     "text": [
      "Epoch 42: 100%|██████████| 19/19 [01:12<00:00,  3.83s/it]\n"
     ]
    },
    {
     "name": "stdout",
     "output_type": "stream",
     "text": [
      "\tLoss: 179541.8766, LR: 0.0001102368936308025, Duration: 72.86 sec - model save pass\n"
     ]
    },
    {
     "name": "stderr",
     "output_type": "stream",
     "text": [
      "Epoch 43: 100%|██████████| 19/19 [01:12<00:00,  3.84s/it]\n"
     ]
    },
    {
     "name": "stdout",
     "output_type": "stream",
     "text": [
      "\tLoss: 156848.1891, LR: 0.00010790591745184134, Duration: 72.98 sec - model save pass\n"
     ]
    },
    {
     "name": "stderr",
     "output_type": "stream",
     "text": [
      "Epoch 44: 100%|██████████| 19/19 [01:13<00:00,  3.85s/it]\n"
     ]
    },
    {
     "name": "stdout",
     "output_type": "stream",
     "text": [
      "\tLoss: 132330.4745, LR: 0.00010553491139853123, Duration: 73.12 sec - model save pass\n"
     ]
    },
    {
     "name": "stderr",
     "output_type": "stream",
     "text": [
      "Epoch 45: 100%|██████████| 19/19 [01:13<00:00,  3.84s/it]\n"
     ]
    },
    {
     "name": "stdout",
     "output_type": "stream",
     "text": [
      "\tLoss: 121852.3623, LR: 0.00010312676417652261, Duration: 73.03 sec - model save pass\n"
     ]
    },
    {
     "name": "stderr",
     "output_type": "stream",
     "text": [
      "Epoch 46: 100%|██████████| 19/19 [01:12<00:00,  3.84s/it]\n"
     ]
    },
    {
     "name": "stdout",
     "output_type": "stream",
     "text": [
      "\tLoss: 107198.7504, LR: 0.00010068440974225888, Duration: 73.00 sec - model save pass\n"
     ]
    },
    {
     "name": "stderr",
     "output_type": "stream",
     "text": [
      "Epoch 47: 100%|██████████| 19/19 [01:12<00:00,  3.83s/it]\n"
     ]
    },
    {
     "name": "stdout",
     "output_type": "stream",
     "text": [
      "\tLoss: 93537.5362, LR: 9.82108237284023e-05, Duration: 72.73 sec - model save pass\n"
     ]
    },
    {
     "name": "stderr",
     "output_type": "stream",
     "text": [
      "Epoch 48: 100%|██████████| 19/19 [01:12<00:00,  3.84s/it]\n"
     ]
    },
    {
     "name": "stdout",
     "output_type": "stream",
     "text": [
      "\tLoss: 83136.0999, LR: 9.570901981848408e-05, Duration: 72.93 sec - model save pass\n"
     ]
    },
    {
     "name": "stderr",
     "output_type": "stream",
     "text": [
      "Epoch 49: 100%|██████████| 19/19 [01:13<00:00,  3.84s/it]\n"
     ]
    },
    {
     "name": "stdout",
     "output_type": "stream",
     "text": [
      "\tLoss: 78615.7578, LR: 9.318204607519508e-05, Duration: 73.03 sec - model save pass\n"
     ]
    },
    {
     "name": "stderr",
     "output_type": "stream",
     "text": [
      "Epoch 50: 100%|██████████| 19/19 [01:12<00:00,  3.84s/it]\n"
     ]
    },
    {
     "name": "stdout",
     "output_type": "stream",
     "text": [
      "\tLoss: 70062.5280, LR: 9.063298122679104e-05, Duration: 72.98 sec - model save pass\n"
     ]
    },
    {
     "name": "stderr",
     "output_type": "stream",
     "text": [
      "Epoch 51: 100%|██████████| 19/19 [01:13<00:00,  3.86s/it]\n"
     ]
    },
    {
     "name": "stdout",
     "output_type": "stream",
     "text": [
      "\tLoss: 59522.8810, LR: 8.806493091613644e-05, Duration: 73.38 sec - model save pass\n"
     ]
    },
    {
     "name": "stderr",
     "output_type": "stream",
     "text": [
      "Epoch 52: 100%|██████████| 19/19 [01:13<00:00,  3.86s/it]\n"
     ]
    },
    {
     "name": "stdout",
     "output_type": "stream",
     "text": [
      "\tLoss: 54963.3877, LR: 8.548102391695689e-05, Duration: 73.70 sec - model saved!\n"
     ]
    },
    {
     "name": "stderr",
     "output_type": "stream",
     "text": [
      "Epoch 53: 100%|██████████| 19/19 [01:12<00:00,  3.84s/it]\n"
     ]
    },
    {
     "name": "stdout",
     "output_type": "stream",
     "text": [
      "\tLoss: 50658.0863, LR: 8.288440832191063e-05, Duration: 73.25 sec - model saved!\n"
     ]
    },
    {
     "name": "stderr",
     "output_type": "stream",
     "text": [
      "Epoch 54: 100%|██████████| 19/19 [01:12<00:00,  3.84s/it]\n"
     ]
    },
    {
     "name": "stdout",
     "output_type": "stream",
     "text": [
      "\tLoss: 45665.5870, LR: 8.027824770712218e-05, Duration: 73.18 sec - model saved!\n"
     ]
    },
    {
     "name": "stderr",
     "output_type": "stream",
     "text": [
      "Epoch 55: 100%|██████████| 19/19 [01:12<00:00,  3.84s/it]\n"
     ]
    },
    {
     "name": "stdout",
     "output_type": "stream",
     "text": [
      "\tLoss: 41843.8968, LR: 7.766571727785245e-05, Duration: 73.23 sec - model saved!\n"
     ]
    },
    {
     "name": "stderr",
     "output_type": "stream",
     "text": [
      "Epoch 56: 100%|██████████| 19/19 [01:13<00:00,  3.88s/it]\n"
     ]
    },
    {
     "name": "stdout",
     "output_type": "stream",
     "text": [
      "\tLoss: 38402.5558, LR: 7.505e-05, Duration: 74.04 sec - model saved!\n"
     ]
    },
    {
     "name": "stderr",
     "output_type": "stream",
     "text": [
      "Epoch 57: 100%|██████████| 19/19 [01:13<00:00,  3.86s/it]\n"
     ]
    },
    {
     "name": "stdout",
     "output_type": "stream",
     "text": [
      "\tLoss: 37245.9431, LR: 7.243428272214756e-05, Duration: 73.56 sec - model saved!\n"
     ]
    },
    {
     "name": "stderr",
     "output_type": "stream",
     "text": [
      "Epoch 58: 100%|██████████| 19/19 [01:12<00:00,  3.84s/it]\n"
     ]
    },
    {
     "name": "stdout",
     "output_type": "stream",
     "text": [
      "\tLoss: 33115.8931, LR: 6.982175229287781e-05, Duration: 73.23 sec - model saved!\n"
     ]
    },
    {
     "name": "stderr",
     "output_type": "stream",
     "text": [
      "Epoch 59: 100%|██████████| 19/19 [01:13<00:00,  3.85s/it]\n"
     ]
    },
    {
     "name": "stdout",
     "output_type": "stream",
     "text": [
      "\tLoss: 31807.9862, LR: 6.721559167808938e-05, Duration: 73.48 sec - model saved!\n"
     ]
    },
    {
     "name": "stderr",
     "output_type": "stream",
     "text": [
      "Epoch 60: 100%|██████████| 19/19 [01:13<00:00,  3.85s/it]\n"
     ]
    },
    {
     "name": "stdout",
     "output_type": "stream",
     "text": [
      "\tLoss: 29211.5805, LR: 6.461897608304311e-05, Duration: 73.46 sec - model saved!\n"
     ]
    },
    {
     "name": "stderr",
     "output_type": "stream",
     "text": [
      "Epoch 61: 100%|██████████| 19/19 [01:13<00:00,  3.85s/it]\n"
     ]
    },
    {
     "name": "stdout",
     "output_type": "stream",
     "text": [
      "\tLoss: 27356.2622, LR: 6.203506908386357e-05, Duration: 73.37 sec - model saved!\n"
     ]
    },
    {
     "name": "stderr",
     "output_type": "stream",
     "text": [
      "Epoch 62: 100%|██████████| 19/19 [01:13<00:00,  3.85s/it]\n"
     ]
    },
    {
     "name": "stdout",
     "output_type": "stream",
     "text": [
      "\tLoss: 25650.3864, LR: 5.9467018773208945e-05, Duration: 73.45 sec - model saved!\n"
     ]
    },
    {
     "name": "stderr",
     "output_type": "stream",
     "text": [
      "Epoch 63: 100%|██████████| 19/19 [01:12<00:00,  3.84s/it]\n"
     ]
    },
    {
     "name": "stdout",
     "output_type": "stream",
     "text": [
      "\tLoss: 26728.7325, LR: 5.691795392480491e-05, Duration: 72.91 sec\n"
     ]
    },
    {
     "name": "stderr",
     "output_type": "stream",
     "text": [
      "Epoch 64: 100%|██████████| 19/19 [01:12<00:00,  3.83s/it]\n"
     ]
    },
    {
     "name": "stdout",
     "output_type": "stream",
     "text": [
      "\tLoss: 24012.0302, LR: 5.4390980181515915e-05, Duration: 73.02 sec - model saved!\n"
     ]
    },
    {
     "name": "stderr",
     "output_type": "stream",
     "text": [
      "Epoch 65: 100%|██████████| 19/19 [01:12<00:00,  3.83s/it]\n"
     ]
    },
    {
     "name": "stdout",
     "output_type": "stream",
     "text": [
      "\tLoss: 23650.6216, LR: 5.188917627159769e-05, Duration: 73.03 sec - model saved!\n"
     ]
    },
    {
     "name": "stderr",
     "output_type": "stream",
     "text": [
      "Epoch 66: 100%|██████████| 19/19 [01:12<00:00,  3.84s/it]\n"
     ]
    },
    {
     "name": "stdout",
     "output_type": "stream",
     "text": [
      "\tLoss: 21230.8275, LR: 4.941559025774113e-05, Duration: 73.14 sec - model saved!\n"
     ]
    },
    {
     "name": "stderr",
     "output_type": "stream",
     "text": [
      "Epoch 67: 100%|██████████| 19/19 [01:12<00:00,  3.84s/it]\n"
     ]
    },
    {
     "name": "stdout",
     "output_type": "stream",
     "text": [
      "\tLoss: 20558.9130, LR: 4.697323582347739e-05, Duration: 73.18 sec - model saved!\n"
     ]
    },
    {
     "name": "stderr",
     "output_type": "stream",
     "text": [
      "Epoch 68: 100%|██████████| 19/19 [01:12<00:00,  3.83s/it]\n"
     ]
    },
    {
     "name": "stdout",
     "output_type": "stream",
     "text": [
      "\tLoss: 19989.1851, LR: 4.4565088601468784e-05, Duration: 73.07 sec - model saved!\n"
     ]
    },
    {
     "name": "stderr",
     "output_type": "stream",
     "text": [
      "Epoch 69: 100%|██████████| 19/19 [01:12<00:00,  3.83s/it]\n"
     ]
    },
    {
     "name": "stdout",
     "output_type": "stream",
     "text": [
      "\tLoss: 18789.1560, LR: 4.219408254815864e-05, Duration: 72.92 sec - model saved!\n"
     ]
    },
    {
     "name": "stderr",
     "output_type": "stream",
     "text": [
      "Epoch 70: 100%|██████████| 19/19 [01:12<00:00,  3.83s/it]\n"
     ]
    },
    {
     "name": "stdout",
     "output_type": "stream",
     "text": [
      "\tLoss: 18613.2859, LR: 3.98631063691975e-05, Duration: 73.05 sec - model saved!\n"
     ]
    },
    {
     "name": "stderr",
     "output_type": "stream",
     "text": [
      "Epoch 71: 100%|██████████| 19/19 [01:12<00:00,  3.84s/it]\n"
     ]
    },
    {
     "name": "stdout",
     "output_type": "stream",
     "text": [
      "\tLoss: 17441.2810, LR: 3.757500000000001e-05, Duration: 73.16 sec - model saved!\n"
     ]
    },
    {
     "name": "stderr",
     "output_type": "stream",
     "text": [
      "Epoch 72: 100%|██████████| 19/19 [01:13<00:00,  3.85s/it]\n"
     ]
    },
    {
     "name": "stdout",
     "output_type": "stream",
     "text": [
      "\tLoss: 18044.4721, LR: 3.53325511457213e-05, Duration: 73.21 sec\n"
     ]
    },
    {
     "name": "stderr",
     "output_type": "stream",
     "text": [
      "Epoch 73: 100%|██████████| 19/19 [01:12<00:00,  3.84s/it]\n"
     ]
    },
    {
     "name": "stdout",
     "output_type": "stream",
     "text": [
      "\tLoss: 16508.1975, LR: 3.3138491884867534e-05, Duration: 73.19 sec - model saved!\n"
     ]
    },
    {
     "name": "stderr",
     "output_type": "stream",
     "text": [
      "Epoch 74: 100%|██████████| 19/19 [01:13<00:00,  3.85s/it]\n"
     ]
    },
    {
     "name": "stdout",
     "output_type": "stream",
     "text": [
      "\tLoss: 16675.0491, LR: 3.099549534067914e-05, Duration: 73.21 sec\n"
     ]
    },
    {
     "name": "stderr",
     "output_type": "stream",
     "text": [
      "Epoch 75: 100%|██████████| 19/19 [01:12<00:00,  3.83s/it]\n"
     ]
    },
    {
     "name": "stdout",
     "output_type": "stream",
     "text": [
      "\tLoss: 16472.9322, LR: 2.890617242434191e-05, Duration: 73.05 sec - model saved!\n"
     ]
    },
    {
     "name": "stderr",
     "output_type": "stream",
     "text": [
      "Epoch 76: 100%|██████████| 19/19 [01:12<00:00,  3.83s/it]\n"
     ]
    },
    {
     "name": "stdout",
     "output_type": "stream",
     "text": [
      "\tLoss: 15689.9712, LR: 2.6873068653993872e-05, Duration: 73.08 sec - model saved!\n"
     ]
    },
    {
     "name": "stderr",
     "output_type": "stream",
     "text": [
      "Epoch 77: 100%|██████████| 19/19 [01:12<00:00,  3.84s/it]\n"
     ]
    },
    {
     "name": "stdout",
     "output_type": "stream",
     "text": [
      "\tLoss: 15139.3484, LR: 2.4898661053403597e-05, Duration: 73.26 sec - model saved!\n"
     ]
    },
    {
     "name": "stderr",
     "output_type": "stream",
     "text": [
      "Epoch 78: 100%|██████████| 19/19 [01:12<00:00,  3.84s/it]\n"
     ]
    },
    {
     "name": "stdout",
     "output_type": "stream",
     "text": [
      "\tLoss: 15651.5587, LR: 2.2985355134098145e-05, Duration: 72.88 sec\n"
     ]
    },
    {
     "name": "stderr",
     "output_type": "stream",
     "text": [
      "Epoch 79: 100%|██████████| 19/19 [01:12<00:00,  3.82s/it]\n"
     ]
    },
    {
     "name": "stdout",
     "output_type": "stream",
     "text": [
      "\tLoss: 14729.4627, LR: 2.1135481964618108e-05, Duration: 72.90 sec - model saved!\n"
     ]
    },
    {
     "name": "stderr",
     "output_type": "stream",
     "text": [
      "Epoch 80: 100%|██████████| 19/19 [01:12<00:00,  3.82s/it]\n"
     ]
    },
    {
     "name": "stdout",
     "output_type": "stream",
     "text": [
      "\tLoss: 15863.8362, LR: 1.935129533046929e-05, Duration: 72.62 sec\n"
     ]
    },
    {
     "name": "stderr",
     "output_type": "stream",
     "text": [
      "Epoch 81: 100%|██████████| 19/19 [01:12<00:00,  3.83s/it]\n"
     ]
    },
    {
     "name": "stdout",
     "output_type": "stream",
     "text": [
      "\tLoss: 14274.2926, LR: 1.7634968988232603e-05, Duration: 72.97 sec - model saved!\n"
     ]
    },
    {
     "name": "stderr",
     "output_type": "stream",
     "text": [
      "Epoch 82: 100%|██████████| 19/19 [01:12<00:00,  3.83s/it]\n"
     ]
    },
    {
     "name": "stdout",
     "output_type": "stream",
     "text": [
      "\tLoss: 13899.5751, LR: 1.598859401717619e-05, Duration: 73.07 sec - model saved!\n"
     ]
    },
    {
     "name": "stderr",
     "output_type": "stream",
     "text": [
      "Epoch 83: 100%|██████████| 19/19 [01:12<00:00,  3.83s/it]\n"
     ]
    },
    {
     "name": "stdout",
     "output_type": "stream",
     "text": [
      "\tLoss: 14251.5447, LR: 1.4414176271597697e-05, Duration: 72.82 sec\n"
     ]
    },
    {
     "name": "stderr",
     "output_type": "stream",
     "text": [
      "Epoch 84: 100%|██████████| 19/19 [01:12<00:00,  3.83s/it]\n"
     ]
    },
    {
     "name": "stdout",
     "output_type": "stream",
     "text": [
      "\tLoss: 13557.7791, LR: 1.291363393699963e-05, Duration: 73.09 sec - model saved!\n"
     ]
    },
    {
     "name": "stderr",
     "output_type": "stream",
     "text": [
      "Epoch 85: 100%|██████████| 19/19 [01:12<00:00,  3.84s/it]\n"
     ]
    },
    {
     "name": "stdout",
     "output_type": "stream",
     "text": [
      "\tLoss: 13805.4995, LR: 1.1488795193075874e-05, Duration: 72.93 sec\n"
     ]
    },
    {
     "name": "stderr",
     "output_type": "stream",
     "text": [
      "Epoch 86: 100%|██████████| 19/19 [01:13<00:00,  3.84s/it]\n"
     ]
    },
    {
     "name": "stdout",
     "output_type": "stream",
     "text": [
      "\tLoss: 13219.0259, LR: 1.0141395986356318e-05, Duration: 73.29 sec - model saved!\n"
     ]
    },
    {
     "name": "stderr",
     "output_type": "stream",
     "text": [
      "Epoch 87: 100%|██████████| 19/19 [01:12<00:00,  3.83s/it]\n"
     ]
    },
    {
     "name": "stdout",
     "output_type": "stream",
     "text": [
      "\tLoss: 13389.1962, LR: 8.873077915223421e-06, Duration: 72.84 sec\n"
     ]
    },
    {
     "name": "stderr",
     "output_type": "stream",
     "text": [
      "Epoch 88: 100%|██████████| 19/19 [01:12<00:00,  3.83s/it]\n"
     ]
    },
    {
     "name": "stdout",
     "output_type": "stream",
     "text": [
      "\tLoss: 13308.7577, LR: 7.685386229877447e-06, Duration: 72.81 sec\n"
     ]
    },
    {
     "name": "stderr",
     "output_type": "stream",
     "text": [
      "Epoch 89: 100%|██████████| 19/19 [01:12<00:00,  3.83s/it]\n"
     ]
    },
    {
     "name": "stdout",
     "output_type": "stream",
     "text": [
      "\tLoss: 13298.4105, LR: 6.579767949687056e-06, Duration: 72.83 sec\n"
     ]
    },
    {
     "name": "stderr",
     "output_type": "stream",
     "text": [
      "Epoch 90: 100%|██████████| 19/19 [01:12<00:00,  3.83s/it]\n"
     ]
    },
    {
     "name": "stdout",
     "output_type": "stream",
     "text": [
      "\tLoss: 13003.0021, LR: 5.55757010021929e-06, Duration: 73.05 sec - model saved!\n"
     ]
    },
    {
     "name": "stderr",
     "output_type": "stream",
     "text": [
      "Epoch 91: 100%|██████████| 19/19 [01:12<00:00,  3.84s/it]\n"
     ]
    },
    {
     "name": "stdout",
     "output_type": "stream",
     "text": [
      "\tLoss: 13532.0861, LR: 4.620038072096171e-06, Duration: 72.98 sec\n"
     ]
    },
    {
     "name": "stderr",
     "output_type": "stream",
     "text": [
      "Epoch 92: 100%|██████████| 19/19 [01:12<00:00,  3.83s/it]\n"
     ]
    },
    {
     "name": "stdout",
     "output_type": "stream",
     "text": [
      "\tLoss: 13360.0260, LR: 3.768314103678242e-06, Duration: 72.85 sec\n"
     ]
    },
    {
     "name": "stderr",
     "output_type": "stream",
     "text": [
      "Epoch 93: 100%|██████████| 19/19 [01:12<00:00,  3.84s/it]\n"
     ]
    },
    {
     "name": "stdout",
     "output_type": "stream",
     "text": [
      "\tLoss: 12931.8329, LR: 3.0034358894229985e-06, Duration: 73.22 sec - model saved!\n"
     ]
    },
    {
     "name": "stderr",
     "output_type": "stream",
     "text": [
      "Epoch 94: 100%|██████████| 19/19 [01:13<00:00,  3.86s/it]\n"
     ]
    },
    {
     "name": "stdout",
     "output_type": "stream",
     "text": [
      "\tLoss: 12885.2042, LR: 2.326335315614064e-06, Duration: 73.53 sec - model saved!\n"
     ]
    },
    {
     "name": "stderr",
     "output_type": "stream",
     "text": [
      "Epoch 95: 100%|██████████| 19/19 [01:12<00:00,  3.84s/it]\n"
     ]
    },
    {
     "name": "stdout",
     "output_type": "stream",
     "text": [
      "\tLoss: 12669.5234, LR: 1.7378373250012637e-06, Duration: 73.17 sec - model saved!\n"
     ]
    },
    {
     "name": "stderr",
     "output_type": "stream",
     "text": [
      "Epoch 96: 100%|██████████| 19/19 [01:13<00:00,  3.85s/it]\n"
     ]
    },
    {
     "name": "stdout",
     "output_type": "stream",
     "text": [
      "\tLoss: 12527.2315, LR: 1.2386589117350088e-06, Duration: 73.33 sec - model saved!\n"
     ]
    },
    {
     "name": "stderr",
     "output_type": "stream",
     "text": [
      "Epoch 97: 100%|██████████| 19/19 [01:12<00:00,  3.84s/it]\n"
     ]
    },
    {
     "name": "stdout",
     "output_type": "stream",
     "text": [
      "\tLoss: 12654.6296, LR: 8.294082478193013e-07, Duration: 72.92 sec\n"
     ]
    },
    {
     "name": "stderr",
     "output_type": "stream",
     "text": [
      "Epoch 98: 100%|██████████| 19/19 [01:12<00:00,  3.84s/it]\n"
     ]
    },
    {
     "name": "stdout",
     "output_type": "stream",
     "text": [
      "\tLoss: 12681.9633, LR: 5.10583942147917e-07, Duration: 72.88 sec\n"
     ]
    },
    {
     "name": "stderr",
     "output_type": "stream",
     "text": [
      "Epoch 99: 100%|██████████| 19/19 [01:13<00:00,  3.84s/it]\n"
     ]
    },
    {
     "name": "stdout",
     "output_type": "stream",
     "text": [
      "\tLoss: 12586.6381, LR: 2.8257443302617634e-07, Duration: 73.03 sec\n"
     ]
    },
    {
     "name": "stderr",
     "output_type": "stream",
     "text": [
      "Epoch 100: 100%|██████████| 19/19 [01:13<00:00,  3.85s/it]\n"
     ]
    },
    {
     "name": "stdout",
     "output_type": "stream",
     "text": [
      "\tLoss: 12408.5535, LR: 1.4565751491877262e-07, Duration: 73.43 sec - model saved!\n"
     ]
    }
   ],
   "source": [
    "training_time = 0\n",
    "losses = []\n",
    "val_losses = []\n",
    "lrs = []\n",
    "best_loss = float('inf')\n",
    "\n",
    "for epoch in range(epochs):\n",
    "    model.train()\n",
    "    start_time = time.time()\n",
    "    running_loss = 0.0\n",
    "    pbar = tqdm(enumerate(train_loader), total=len(train_loader), desc=f\"Epoch {epoch + 1}\")\n",
    "    \n",
    "    for _, data in pbar:\n",
    "        optimizer.zero_grad()\n",
    "        \n",
    "        samples= data[0].to(device)\n",
    "        loss, _, _ = model(samples, mask_ratio=0.6)\n",
    "        \n",
    "        loss.backward()\n",
    "        optimizer.step()\n",
    "            \n",
    "        lr = optimizer.param_groups[0][\"lr\"]\n",
    "        lrs.append(lr)\n",
    "        running_loss += loss.item()\n",
    "\n",
    "    epoch_loss = running_loss / len(train_loader)\n",
    "    losses.append(epoch_loss)        \n",
    "    \n",
    "    # 모델 저장 로직 조정\n",
    "    if epoch_loss < best_loss:\n",
    "        best_loss = epoch_loss\n",
    "        if epoch > (epochs // 2) :\n",
    "            torch.save(model.state_dict(), model_path)\n",
    "            model_saved_text = ' - model saved!'\n",
    "        else :\n",
    "            model_saved_text = ' - model save pass'\n",
    "    else:\n",
    "        model_saved_text = ''\n",
    "    \n",
    "    epoch_duration = time.time() - start_time\n",
    "    training_time += epoch_duration\n",
    "    \n",
    "    text = f'\\tLoss: {epoch_loss:,.4f}, LR: {lr}, Duration: {epoch_duration:.2f} sec{model_saved_text}'\n",
    "    print(text)\n",
    "\n",
    "    # 에폭마다 스케줄러 업데이트\n",
    "    scheduler.step()"
   ]
  }
 ],
 "metadata": {
  "kernelspec": {
   "display_name": "base",
   "language": "python",
   "name": "python3"
  },
  "language_info": {
   "codemirror_mode": {
    "name": "ipython",
    "version": 3
   },
   "file_extension": ".py",
   "mimetype": "text/x-python",
   "name": "python",
   "nbconvert_exporter": "python",
   "pygments_lexer": "ipython3",
   "version": "3.10.13"
  }
 },
 "nbformat": 4,
 "nbformat_minor": 2
}
