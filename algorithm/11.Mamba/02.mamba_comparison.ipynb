{
 "cells": [
  {
   "cell_type": "markdown",
   "id": "94bebad5",
   "metadata": {},
   "source": [
    "```\n",
    "GRU vs LLaMA vs Mamba\n",
    "```"
   ]
  },
  {
   "cell_type": "code",
   "execution_count": 1,
   "id": "20ec8bf0",
   "metadata": {
    "id": "20ec8bf0"
   },
   "outputs": [],
   "source": [
    "import torch\n",
    "import torch.nn as nn\n",
    "import torch.optim as optim\n",
    "from torch.utils.data import Dataset, DataLoader\n",
    "import numpy as np\n",
    "import time\n",
    "import matplotlib.pyplot as plt\n",
    "import pandas as pd"
   ]
  },
  {
   "cell_type": "markdown",
   "id": "5a3390f4",
   "metadata": {
    "id": "5a3390f4"
   },
   "source": [
    "## Hyperparameters and Configuration"
   ]
  },
  {
   "cell_type": "code",
   "execution_count": 2,
   "id": "d0c61f36",
   "metadata": {
    "colab": {
     "base_uri": "https://localhost:8080/"
    },
    "executionInfo": {
     "elapsed": 6,
     "status": "ok",
     "timestamp": 1732703737281,
     "user": {
      "displayName": "Hugman Sangkeun Jung",
      "userId": "08689291704194029524"
     },
     "user_tz": -540
    },
    "id": "d0c61f36",
    "outputId": "45d9894c-a14d-4164-9f2d-699025751e72"
   },
   "outputs": [
    {
     "name": "stdout",
     "output_type": "stream",
     "text": [
      "Using device: cuda\n"
     ]
    }
   ],
   "source": [
    "# Modified hyperparameters\n",
    "SEQUENCE_LENGTH = 64\n",
    "\n",
    "EMBEDDING_DIM = 32\n",
    "HIDDEN_DIM = EMBEDDING_DIM*2\n",
    "\n",
    "BATCH_SIZE = 512\n",
    "EPOCHS = 20\n",
    "LEARNING_RATE = 1e-4\n",
    "VALIDATION_SPLIT = 0.1\n",
    "\n",
    "NUM_LAYERS = 4\n",
    "NUM_HEADS = 4\n",
    "FFN_DIM = 480\n",
    "DROPOUT = 0.1\n",
    "\n",
    "device = torch.device('cuda' if torch.cuda.is_available() else 'cpu')\n",
    "print(f\"Using device: {device}\")"
   ]
  },
  {
   "cell_type": "markdown",
   "id": "89c9b962",
   "metadata": {
    "id": "89c9b962"
   },
   "source": [
    "## Data Preparation\n",
    "\n",
    "We are using the TinyShakespeare dataset, a small character-level text corpus consisting of a subset of Shakespeare's plays. It's often used for testing sequence models, as it includes a rich set of vocabulary and provides a challenging task for next-character prediction."
   ]
  },
  {
   "cell_type": "code",
   "execution_count": 3,
   "id": "089830e2",
   "metadata": {
    "id": "089830e2"
   },
   "outputs": [],
   "source": [
    "## Utility Functions\n",
    "\n",
    "def load_data(filename):\n",
    "    with open(filename, 'r', encoding='utf-8') as f:\n",
    "        return f.read()\n",
    "\n",
    "def create_char_mappings(text):\n",
    "    chars = sorted(list(set(text)))\n",
    "    char_to_idx = {ch: i for i, ch in enumerate(chars)}\n",
    "    idx_to_char = {i: ch for i, ch in enumerate(chars)}\n",
    "    return chars, char_to_idx, idx_to_char"
   ]
  },
  {
   "cell_type": "markdown",
   "id": "30fc6452",
   "metadata": {
    "id": "30fc6452"
   },
   "source": [
    "## Dataset"
   ]
  },
  {
   "cell_type": "code",
   "execution_count": 4,
   "id": "f07670d9",
   "metadata": {
    "id": "f07670d9"
   },
   "outputs": [],
   "source": [
    "class CharDataset(Dataset):\n",
    "    def __init__(self, text, seq_length, char_to_idx):\n",
    "        self.text = text\n",
    "        self.seq_length = seq_length\n",
    "        self.char_to_idx = char_to_idx\n",
    "\n",
    "    def __len__(self):\n",
    "        return len(self.text) - self.seq_length\n",
    "\n",
    "    def __getitem__(self, idx):\n",
    "        x = [self.char_to_idx[ch] for ch in self.text[idx:idx+self.seq_length]]\n",
    "        y = [self.char_to_idx[ch] for ch in self.text[idx+1:idx+self.seq_length+1]]\n",
    "        return torch.tensor(x), torch.tensor(y)"
   ]
  },
  {
   "cell_type": "code",
   "execution_count": 5,
   "id": "9172da13",
   "metadata": {
    "id": "9172da13"
   },
   "outputs": [],
   "source": [
    "def prepare_data(text, seq_length, batch_size, val_split):\n",
    "    chars, char_to_idx, idx_to_char = create_char_mappings(text)\n",
    "\n",
    "    # Split data into train and validation\n",
    "    val_size = int(len(text) * val_split)\n",
    "    train_text, val_text = text[:-val_size], text[-val_size:]\n",
    "\n",
    "    train_dataset = CharDataset(train_text, seq_length, char_to_idx)\n",
    "    val_dataset = CharDataset(val_text, seq_length, char_to_idx)\n",
    "\n",
    "    train_loader = DataLoader(train_dataset, batch_size=batch_size, shuffle=True, num_workers=12, pin_memory=True)\n",
    "    val_loader = DataLoader(val_dataset, batch_size=batch_size, shuffle=False, num_workers=12, pin_memory=True)\n",
    "\n",
    "    return train_loader, val_loader, chars, char_to_idx, idx_to_char"
   ]
  },
  {
   "cell_type": "code",
   "execution_count": 6,
   "id": "nEwKFB_8L6AG",
   "metadata": {
    "colab": {
     "base_uri": "https://localhost:8080/"
    },
    "executionInfo": {
     "elapsed": 3706,
     "status": "ok",
     "timestamp": 1732704246464,
     "user": {
      "displayName": "Hugman Sangkeun Jung",
      "userId": "08689291704194029524"
     },
     "user_tz": -540
    },
    "id": "nEwKFB_8L6AG",
    "outputId": "e75cdff9-3775-461e-d930-0ced534bf74d"
   },
   "outputs": [],
   "source": [
    "# !wget --no-check-certificate 'https://drive.google.com/uc?export=download&id=19zosLuU0z4MxIMKbGVYEGlg52QyfbTIy' -O input.txt"
   ]
  },
  {
   "cell_type": "code",
   "execution_count": 7,
   "id": "47d03398",
   "metadata": {
    "colab": {
     "base_uri": "https://localhost:8080/"
    },
    "executionInfo": {
     "elapsed": 668,
     "status": "ok",
     "timestamp": 1732704255324,
     "user": {
      "displayName": "Hugman Sangkeun Jung",
      "userId": "08689291704194029524"
     },
     "user_tz": -540
    },
    "id": "47d03398",
    "outputId": "f247f5b3-88ff-4ecb-e8a3-4b2e42a2820b"
   },
   "outputs": [
    {
     "name": "stdout",
     "output_type": "stream",
     "text": [
      "Total characters: 1115394\n",
      "Vocabulary size: 65\n",
      "Train dataset size: 1003791\n",
      "Validation dataset size: 111475\n"
     ]
    }
   ],
   "source": [
    "# Load the data\n",
    "text = load_data('./input.txt')\n",
    "train_loader, val_loader, chars, char_to_idx, idx_to_char = prepare_data(text, SEQUENCE_LENGTH, BATCH_SIZE, VALIDATION_SPLIT)\n",
    "vocab_size = len(chars)\n",
    "\n",
    "print(f\"Total characters: {len(text)}\")\n",
    "print(f\"Vocabulary size: {vocab_size}\")\n",
    "print(f\"Train dataset size: {len(train_loader.dataset)}\")\n",
    "print(f\"Validation dataset size: {len(val_loader.dataset)}\")"
   ]
  },
  {
   "cell_type": "markdown",
   "id": "9442b104",
   "metadata": {
    "id": "9442b104"
   },
   "source": [
    "## Data Visualization"
   ]
  },
  {
   "cell_type": "code",
   "execution_count": 8,
   "id": "f1f0a6a1",
   "metadata": {
    "colab": {
     "base_uri": "https://localhost:8080/"
    },
    "executionInfo": {
     "elapsed": 916,
     "status": "ok",
     "timestamp": 1732704257555,
     "user": {
      "displayName": "Hugman Sangkeun Jung",
      "userId": "08689291704194029524"
     },
     "user_tz": -540
    },
    "id": "f1f0a6a1",
    "outputId": "9ef6eb5a-0015-40ad-f143-236e3d38fb7e"
   },
   "outputs": [
    {
     "name": "stdout",
     "output_type": "stream",
     "text": [
      "Input shape: torch.Size([512, 64])\n",
      "Target shape: torch.Size([512, 64])\n",
      "Sample 1: ------------------------------\n",
      "Input sequence :  what I am to say must be but thatWhich contradicts my accusati\n",
      "Target sequence: what I am to say must be but thatWhich contradicts my accusatio\n",
      "\n",
      "Sample 2: ------------------------------\n",
      "Input sequence : The gods assist you!AUFIDIUS:And keep your honours safe!Fir\n",
      "Target sequence: he gods assist you!AUFIDIUS:And keep your honours safe!Firs\n",
      "\n",
      "Sample 3: ------------------------------\n",
      "Input sequence : DUKE OF AUMERLE:Comfort, my liege; why looks your grace so pa\n",
      "Target sequence: DUKE OF AUMERLE:Comfort, my liege; why looks your grace so pal\n",
      "\n"
     ]
    }
   ],
   "source": [
    "# Function to convert index sequence to character sequence\n",
    "def indices_to_text(indices, idx_to_char):\n",
    "    return ''.join([idx_to_char[idx.item()] for idx in indices])\n",
    "\n",
    "# Get a batch of data\n",
    "dataiter = iter(train_loader)\n",
    "batch_x, batch_y = next(dataiter)\n",
    "\n",
    "print(f\"Input shape: {batch_x.shape}\")\n",
    "print(f\"Target shape: {batch_y.shape}\")\n",
    "\n",
    "# Print a few samples from the batch\n",
    "num_samples = 3\n",
    "for i in range(num_samples):\n",
    "    print(f\"Sample {i+1}: ------------------------------\" )\n",
    "    print(\"Input sequence :\", indices_to_text(batch_x[i], idx_to_char).replace('\\n',''))\n",
    "    print(\"Target sequence:\", indices_to_text(batch_y[i], idx_to_char).replace('\\n',''))\n",
    "    print()\n"
   ]
  },
  {
   "cell_type": "markdown",
   "id": "5486f73f",
   "metadata": {
    "id": "5486f73f"
   },
   "source": [
    "## Training Function"
   ]
  },
  {
   "cell_type": "code",
   "execution_count": 9,
   "id": "61a52f82",
   "metadata": {},
   "outputs": [],
   "source": [
    "def print_vram_usage(device=\"cuda\"):\n",
    "    allocated = torch.cuda.memory_allocated(device) / (1024**2)  # in MB\n",
    "    reserved = torch.cuda.memory_reserved(device) / (1024**2)    # in MB\n",
    "    max_allocated = torch.cuda.max_memory_allocated(device) / (1024**2)  # in MB\n",
    "    print(f\"Allocated: {allocated:.2f} MB, Reserved: {reserved:.2f} MB, Max Allocated: {max_allocated:.2f} MB\")"
   ]
  },
  {
   "cell_type": "code",
   "execution_count": 10,
   "id": "59178a11",
   "metadata": {
    "id": "59178a11"
   },
   "outputs": [],
   "source": [
    "def validate(model, dataloader, criterion, device, epoch, step):\n",
    "    model.eval()\n",
    "    losses = []\n",
    "    with torch.no_grad():\n",
    "        for x, y in dataloader:\n",
    "            x, y = x.to(device), y.to(device)\n",
    "            output, _ = model(x)\n",
    "            loss = criterion(output.view(-1, output.size(-1)), y.view(-1))\n",
    "            losses.append((step, epoch, loss.item()))\n",
    "    return losses"
   ]
  },
  {
   "cell_type": "code",
   "execution_count": 11,
   "id": "ea5e61f5",
   "metadata": {
    "id": "ea5e61f5"
   },
   "outputs": [],
   "source": [
    "from tqdm import tqdm\n",
    "\n",
    "def train(model, dataloader, criterion, optimizer, device, epoch, step):\n",
    "    model.train()\n",
    "    losses = []\n",
    "    vram_usage = []\n",
    "    scaler = torch.amp.GradScaler('cuda')\n",
    "    pbar = tqdm(dataloader, desc=f\"Epoch {epoch}\", leave=False)\n",
    "    for batch, (x, y) in enumerate(pbar):\n",
    "        x, y = x.to(device), y.to(device)\n",
    "        optimizer.zero_grad()\n",
    "        \n",
    "        with torch.amp.autocast('cuda'):\n",
    "            output, _ = model(x)\n",
    "            loss = criterion(output.view(-1, output.size(-1)), y.view(-1))\n",
    "            \n",
    "        scaler.scale(loss).backward()\n",
    "        scaler.step(optimizer)\n",
    "        scaler.update()\n",
    "\n",
    "        step += 1\n",
    "        losses.append((step, epoch, loss.item()))\n",
    "        \n",
    "        # VRAM 사용량을 progress bar의 postfix로 업데이트\n",
    "        allocated = torch.cuda.memory_allocated(device) / (1024**2)\n",
    "        vram_usage.append(allocated)\n",
    "        pbar.set_postfix(loss=f'{loss.item():.4f}', step=step, vram=f'{allocated:.2f} MB')\n",
    "    return losses, step, vram_usage"
   ]
  },
  {
   "cell_type": "markdown",
   "id": "cbedfd61",
   "metadata": {
    "id": "cbedfd61"
   },
   "source": [
    "## Generation Function"
   ]
  },
  {
   "cell_type": "code",
   "execution_count": 12,
   "id": "e91075e8",
   "metadata": {
    "id": "e91075e8"
   },
   "outputs": [],
   "source": [
    "def train_model(model, train_loader, val_loader, criterion, optimizer, device, epochs):\n",
    "    all_train_losses = []\n",
    "    all_val_losses = []\n",
    "    all_vram_usages = []\n",
    "    step = 0\n",
    "\n",
    "    for epoch in range(1, epochs + 1):\n",
    "        epoch_start_time = time.time()\n",
    "        # Training phase with tqdm updates\n",
    "        epoch_train_losses, step, vram_usage = train(model, train_loader, criterion, optimizer, device, epoch, step)\n",
    "        all_train_losses.extend(epoch_train_losses)\n",
    "        all_vram_usages.append(vram_usage)\n",
    "        \n",
    "        # Validation phase\n",
    "        epoch_val_losses = validate(model, val_loader, criterion, device, epoch, step)\n",
    "        all_val_losses.extend(epoch_val_losses)\n",
    "        \n",
    "        epoch_time = time.time() - epoch_start_time\n",
    "        print(f'Epoch {epoch}/{epochs}, Train Loss: {epoch_train_losses[-1][2]:.4f}, '\n",
    "              f'Val Loss: {epoch_val_losses[-1][2]:.4f}, Epoch Time: {epoch_time:.2f}s',\n",
    "              f'Average Vram Usage: {np.mean(vram_usage):.2f}MB')\n",
    "\n",
    "    train_losses_df = pd.DataFrame(all_train_losses, columns=['step', 'epoch', 'loss_value'])\n",
    "    val_losses_df = pd.DataFrame(all_val_losses, columns=['step', 'epoch', 'loss_value'])\n",
    "    # average_vram_usage = np.mean(all_vram_usages)\n",
    "    return model, train_losses_df, val_losses_df\n"
   ]
  },
  {
   "cell_type": "code",
   "execution_count": 13,
   "id": "4535c886",
   "metadata": {
    "id": "4535c886"
   },
   "outputs": [],
   "source": [
    "def generate_text(model, char_to_idx, idx_to_char, start_text, device, max_length=500):\n",
    "    model.eval()\n",
    "    current_text = start_text\n",
    "    hidden = None\n",
    "\n",
    "    with torch.no_grad():\n",
    "        for _ in range(max_length):\n",
    "            x = torch.tensor([[char_to_idx[ch] for ch in current_text[-SEQUENCE_LENGTH:]]]).to(device)\n",
    "            output, hidden = model(x, hidden)\n",
    "            probs = torch.softmax(output[0, -1], dim=0)\n",
    "            next_char_idx = torch.multinomial(probs, 1).item()\n",
    "            next_char = idx_to_char[next_char_idx]\n",
    "            current_text += next_char\n",
    "\n",
    "    return current_text"
   ]
  },
  {
   "cell_type": "code",
   "execution_count": 14,
   "id": "6aef1cf9",
   "metadata": {},
   "outputs": [],
   "source": [
    "loss_comparison_dict = {}\n",
    "\n",
    "def add_loss_to_comparison(model_name, train_losses_df, val_losses_df):\n",
    "    \"\"\"\n",
    "    Adds training and validation losses from a model to the comparison dictionary.\n",
    "    \"\"\"\n",
    "    loss_comparison_dict[model_name] = {\n",
    "        'train': train_losses_df,\n",
    "        'val': val_losses_df\n",
    "    }\n",
    "\n",
    "def print_final_losses(loss_dict):\n",
    "    for model_name, losses in loss_dict.items():\n",
    "        train_df = losses['train']\n",
    "        val_df = losses['val']\n",
    "        final_train = train_df.groupby('epoch')['loss_value'].last().iloc[-1]\n",
    "        final_val = val_df.groupby('epoch')['loss_value'].last().iloc[-1]\n",
    "        print(f\"{model_name}: Final Train Loss: {final_train:.4f}, Final Val Loss: {final_val:.4f}\")"
   ]
  },
  {
   "cell_type": "code",
   "execution_count": 15,
   "id": "973b4a80",
   "metadata": {
    "id": "973b4a80"
   },
   "outputs": [],
   "source": [
    "# Function to plot loss curves\n",
    "def plot_loss(train_losses_df, val_losses_df):\n",
    "    plt.figure(figsize=(10, 5))\n",
    "\n",
    "    # Plot training losses\n",
    "    for epoch in train_losses_df['epoch'].unique():\n",
    "        epoch_train_losses = train_losses_df[train_losses_df['epoch'] == epoch]\n",
    "        plt.plot(epoch_train_losses['step'], epoch_train_losses['loss_value'],\n",
    "                 color='blue', alpha=0.3)\n",
    "\n",
    "    # scatter training loss at the end of each epoch\n",
    "    last_train_losses = train_losses_df.groupby('epoch').last().reset_index()\n",
    "    plt.scatter(last_train_losses['step'], last_train_losses['loss_value'],\n",
    "                color='blue')\n",
    "\n",
    "    # Plot and scatter validation loss at the end of each epoch\n",
    "    last_val_losses = val_losses_df.groupby('epoch').last().reset_index()\n",
    "    plt.plot(last_val_losses['step'], last_val_losses['loss_value'],\n",
    "             color='orange', label='Validation Loss')\n",
    "    plt.scatter(last_val_losses['step'], last_val_losses['loss_value'],\n",
    "                color='orange')\n",
    "\n",
    "    plt.xlabel('Steps')\n",
    "    plt.ylabel('Loss')\n",
    "    plt.title('Training and Validation Loss')\n",
    "    plt.legend()\n",
    "    plt.grid(True)\n",
    "    plt.show()\n",
    "\n",
    "# Function to print final loss values\n",
    "def print_final_losses(train_losses_df, val_losses_df):\n",
    "    print(\"Final Training Loss:\", train_losses_df.groupby('epoch')['loss_value'].last().iloc[-1])\n",
    "    print(\"Final Validation Loss:\", val_losses_df.groupby('epoch')['loss_value'].last().iloc[-1])"
   ]
  },
  {
   "cell_type": "code",
   "execution_count": 16,
   "id": "5001e203",
   "metadata": {
    "id": "5001e203"
   },
   "outputs": [],
   "source": [
    "# Function to plot loss curves for multiple models stored in loss_comparison_dict\n",
    "def plot_loss_comparisons():\n",
    "    \"\"\"\n",
    "    Plots the training loss curves and average validation loss per epoch for multiple models added to the loss comparison dictionary.\n",
    "    \"\"\"\n",
    "    plt.figure(figsize=(10, 5))\n",
    "    \n",
    "    # Get the last model in the dictionary (for special final-point highlighting)\n",
    "    last_model_name = list(loss_comparison_dict.keys())[-1]\n",
    "\n",
    "    # Loop through each model in the loss dictionary\n",
    "    for model_name, losses in loss_comparison_dict.items():\n",
    "        train_losses_df = losses['train']\n",
    "        val_losses_df = losses['val']\n",
    "\n",
    "        # Plot training losses for each model\n",
    "        plt.plot(train_losses_df['step'], train_losses_df['loss_value'],\n",
    "                 label=f'{model_name} train', linestyle='-', alpha=0.7)\n",
    "\n",
    "        # Scatter training loss at the end of each epoch\n",
    "        last_train_losses = train_losses_df.groupby('epoch').last().reset_index()\n",
    "        plt.scatter(last_train_losses['step'], last_train_losses['loss_value'], marker='o', s=50)\n",
    "\n",
    "        # Compute average validation loss per epoch (using the last step of each epoch for x-axis)\n",
    "        avg_val_losses = val_losses_df.groupby('epoch').agg({'loss_value': 'mean', 'step': 'last'}).reset_index()\n",
    "        # Scatter the average validation loss for each epoch\n",
    "        plt.scatter(avg_val_losses['step'], avg_val_losses['loss_value'], marker='s', s=50,\n",
    "                    label=f'{model_name} val avg')\n",
    "\n",
    "        # For the last model, highlight the final training loss with a star\n",
    "        if model_name == last_model_name:\n",
    "            final_step = train_losses_df['step'].iloc[-1]\n",
    "            final_loss = train_losses_df['loss_value'].iloc[-1]\n",
    "            plt.scatter(final_step, final_loss, marker='*', s=100, color='red', zorder=5)\n",
    "\n",
    "    plt.xlabel('Steps')\n",
    "    plt.ylabel('Loss')\n",
    "    plt.title('Training Loss Comparison')\n",
    "    plt.legend()  # Legend shows both training and validation average labels\n",
    "    plt.grid(True)\n",
    "    plt.show()\n"
   ]
  },
  {
   "cell_type": "code",
   "execution_count": 17,
   "id": "16777ffd",
   "metadata": {},
   "outputs": [],
   "source": [
    "def plot_separate_train_val(loss_dict):\n",
    "    \"\"\"\n",
    "    모델별 Training Loss와 Validation Loss를 각각 별도의 그래프로 그립니다.\n",
    "    단, Validation Loss는 에포크별 평균으로 계산합니다.\n",
    "    \"\"\"\n",
    "    # 1. Training Loss Plot (원본 그대로)\n",
    "    plt.figure(figsize=(20, 5))\n",
    "    plt.subplot(1, 2, 1)  # 1행 2열 중 첫 번째\n",
    "    for model_name, losses in loss_dict.items():\n",
    "        train_df = losses['train']\n",
    "        steps_train = train_df['step'].values\n",
    "        loss_train = train_df['loss_value'].values\n",
    "        plt.plot(steps_train, loss_train, label=f'{model_name} Train')\n",
    "    plt.title('Training Loss Comparison')\n",
    "    plt.xlabel('Steps')\n",
    "    plt.ylabel('Loss')\n",
    "    plt.legend()\n",
    "    plt.grid(True)\n",
    "\n",
    "    # 2. Validation Loss Plot (에포크별 평균 처리)\n",
    "    plt.subplot(1, 2, 2)  # 1행 2열 중 두 번째\n",
    "    for model_name, losses in loss_dict.items():\n",
    "        val_df = losses['val']\n",
    "        # 에포크별 평균 loss와 마지막 step을 계산\n",
    "        val_avg = val_df.groupby('epoch').agg({'loss_value': 'mean', 'step': 'last'}).reset_index()\n",
    "        plt.plot(val_avg['step'], val_avg['loss_value'], label=f'{model_name} Val')\n",
    "    plt.title('Validation Loss (Epoch Avg) Comparison')\n",
    "    plt.xlabel('Steps')\n",
    "    plt.ylabel('Loss')\n",
    "    plt.legend()\n",
    "    plt.grid(True)\n",
    "\n",
    "    plt.tight_layout()\n",
    "    plt.show()\n"
   ]
  },
  {
   "cell_type": "markdown",
   "id": "aa1eb8ad",
   "metadata": {
    "id": "aa1eb8ad"
   },
   "source": [
    "## Model 1: GRU Decoder"
   ]
  },
  {
   "cell_type": "code",
   "execution_count": 18,
   "id": "e017e89b",
   "metadata": {
    "id": "e017e89b"
   },
   "outputs": [],
   "source": [
    "import torch\n",
    "import torch.nn as nn\n",
    "import torch.nn.functional as F\n",
    "\n",
    "class GRUDecoder(nn.Module):\n",
    "    def __init__(self, vocab_size, embedding_dim, hidden_dim, ffn_dim, num_layers, dropout=0.1):\n",
    "        super(GRUDecoder, self).__init__()\n",
    "        self.embedding = nn.Embedding(vocab_size, embedding_dim)\n",
    "        self.gru = nn.GRU(embedding_dim, hidden_dim, num_layers=num_layers,\n",
    "                          dropout=dropout if num_layers > 1 else 0.0, batch_first=True)\n",
    "        self.fc1 = nn.Linear(hidden_dim, ffn_dim)\n",
    "        self.fc2 = nn.Linear(ffn_dim, vocab_size)\n",
    "        self.dropout = nn.Dropout(dropout)\n",
    "        self.layer_norm = nn.LayerNorm(hidden_dim)\n",
    "\n",
    "    def forward(self, x, hidden=None):\n",
    "        embed = self.embedding(x)\n",
    "        output, hidden = self.gru(embed, hidden)\n",
    "        output = self.dropout(output)\n",
    "        output = self.layer_norm(output)\n",
    "        output = F.gelu(self.fc1(output))\n",
    "        output = self.fc2(output)\n",
    "        return output, hidden"
   ]
  },
  {
   "cell_type": "code",
   "execution_count": 19,
   "id": "9a3581e4",
   "metadata": {
    "id": "9a3581e4"
   },
   "outputs": [],
   "source": [
    "### Model Initialization\n",
    "gru = GRUDecoder(vocab_size, EMBEDDING_DIM, HIDDEN_DIM, FFN_DIM, NUM_LAYERS+2).to(device)\n",
    "criterion = nn.CrossEntropyLoss()\n",
    "optimizer = optim.AdamW(gru.parameters(), lr=LEARNING_RATE, fused=True)"
   ]
  },
  {
   "cell_type": "code",
   "execution_count": 20,
   "id": "2fe18507",
   "metadata": {},
   "outputs": [
    {
     "data": {
      "text/plain": [
       "==========================================================================================\n",
       "Layer (type:depth-idx)                   Output Shape              Param #\n",
       "==========================================================================================\n",
       "GRUDecoder                               [512, 64, 65]             --\n",
       "├─Embedding: 1-1                         [512, 64, 32]             2,080\n",
       "├─GRU: 1-2                               [512, 64, 64]             143,616\n",
       "├─Dropout: 1-3                           [512, 64, 64]             --\n",
       "├─LayerNorm: 1-4                         [512, 64, 64]             128\n",
       "├─Linear: 1-5                            [512, 64, 480]            31,200\n",
       "├─Linear: 1-6                            [512, 64, 65]             31,265\n",
       "==========================================================================================\n",
       "Total params: 208,289\n",
       "Trainable params: 208,289\n",
       "Non-trainable params: 0\n",
       "Total mult-adds (G): 4.74\n",
       "==========================================================================================\n",
       "Input size (MB): 0.26\n",
       "Forward/backward pass size (MB): 184.81\n",
       "Params size (MB): 0.83\n",
       "Estimated Total Size (MB): 185.91\n",
       "=========================================================================================="
      ]
     },
     "execution_count": 20,
     "metadata": {},
     "output_type": "execute_result"
    }
   ],
   "source": [
    "from torchinfo import summary\n",
    "\n",
    "summary(gru, input_size=(BATCH_SIZE, SEQUENCE_LENGTH), dtypes=[torch.long])"
   ]
  },
  {
   "cell_type": "code",
   "execution_count": 21,
   "id": "ec86dc8e",
   "metadata": {
    "colab": {
     "base_uri": "https://localhost:8080/"
    },
    "executionInfo": {
     "elapsed": 121082,
     "status": "ok",
     "timestamp": 1732704395031,
     "user": {
      "displayName": "Hugman Sangkeun Jung",
      "userId": "08689291704194029524"
     },
     "user_tz": -540
    },
    "id": "ec86dc8e",
    "outputId": "d3a32ebf-e2ad-4e8b-fb04-f2651e0ac049"
   },
   "outputs": [
    {
     "name": "stderr",
     "output_type": "stream",
     "text": [
      "                                                                                                   \r"
     ]
    },
    {
     "name": "stdout",
     "output_type": "stream",
     "text": [
      "Epoch 1/20, Train Loss: 2.0672, Val Loss: 2.0431, Epoch Time: 34.55s Average Vram Usage: 29.46MB\n"
     ]
    },
    {
     "name": "stderr",
     "output_type": "stream",
     "text": [
      "                                                                                                   \r"
     ]
    },
    {
     "name": "stdout",
     "output_type": "stream",
     "text": [
      "Epoch 2/20, Train Loss: 1.8567, Val Loss: 1.9006, Epoch Time: 35.35s Average Vram Usage: 29.46MB\n"
     ]
    },
    {
     "name": "stderr",
     "output_type": "stream",
     "text": [
      "                                                                                                   \r"
     ]
    },
    {
     "name": "stdout",
     "output_type": "stream",
     "text": [
      "Epoch 3/20, Train Loss: 1.7452, Val Loss: 1.8539, Epoch Time: 34.79s Average Vram Usage: 29.46MB\n"
     ]
    },
    {
     "name": "stderr",
     "output_type": "stream",
     "text": [
      "                                                                                                   \r"
     ]
    },
    {
     "name": "stdout",
     "output_type": "stream",
     "text": [
      "Epoch 4/20, Train Loss: 1.6597, Val Loss: 1.8203, Epoch Time: 35.31s Average Vram Usage: 29.46MB\n"
     ]
    },
    {
     "name": "stderr",
     "output_type": "stream",
     "text": [
      "                                                                                                   \r"
     ]
    },
    {
     "name": "stdout",
     "output_type": "stream",
     "text": [
      "Epoch 5/20, Train Loss: 1.5957, Val Loss: 1.7958, Epoch Time: 34.47s Average Vram Usage: 29.46MB\n"
     ]
    },
    {
     "name": "stderr",
     "output_type": "stream",
     "text": [
      "                                                                                                    \r"
     ]
    },
    {
     "name": "stdout",
     "output_type": "stream",
     "text": [
      "Epoch 6/20, Train Loss: 1.5831, Val Loss: 1.7891, Epoch Time: 35.46s Average Vram Usage: 29.46MB\n"
     ]
    },
    {
     "name": "stderr",
     "output_type": "stream",
     "text": [
      "                                                                                                    \r"
     ]
    },
    {
     "name": "stdout",
     "output_type": "stream",
     "text": [
      "Epoch 7/20, Train Loss: 1.5885, Val Loss: 1.7677, Epoch Time: 34.34s Average Vram Usage: 29.46MB\n"
     ]
    },
    {
     "name": "stderr",
     "output_type": "stream",
     "text": [
      "                                                                                                    \r"
     ]
    },
    {
     "name": "stdout",
     "output_type": "stream",
     "text": [
      "Epoch 8/20, Train Loss: 1.5546, Val Loss: 1.7497, Epoch Time: 35.52s Average Vram Usage: 29.46MB\n"
     ]
    },
    {
     "name": "stderr",
     "output_type": "stream",
     "text": [
      "                                                                                                    \r"
     ]
    },
    {
     "name": "stdout",
     "output_type": "stream",
     "text": [
      "Epoch 9/20, Train Loss: 1.5026, Val Loss: 1.7495, Epoch Time: 35.11s Average Vram Usage: 29.46MB\n"
     ]
    },
    {
     "name": "stderr",
     "output_type": "stream",
     "text": [
      "                                                                                                     \r"
     ]
    },
    {
     "name": "stdout",
     "output_type": "stream",
     "text": [
      "Epoch 10/20, Train Loss: 1.5487, Val Loss: 1.7327, Epoch Time: 35.28s Average Vram Usage: 29.46MB\n"
     ]
    },
    {
     "name": "stderr",
     "output_type": "stream",
     "text": [
      "                                                                                                     \r"
     ]
    },
    {
     "name": "stdout",
     "output_type": "stream",
     "text": [
      "Epoch 11/20, Train Loss: 1.5069, Val Loss: 1.7232, Epoch Time: 35.14s Average Vram Usage: 29.46MB\n"
     ]
    },
    {
     "name": "stderr",
     "output_type": "stream",
     "text": [
      "                                                                                                     \r"
     ]
    },
    {
     "name": "stdout",
     "output_type": "stream",
     "text": [
      "Epoch 12/20, Train Loss: 1.5122, Val Loss: 1.7269, Epoch Time: 35.55s Average Vram Usage: 29.46MB\n"
     ]
    },
    {
     "name": "stderr",
     "output_type": "stream",
     "text": [
      "                                                                                                     \r"
     ]
    },
    {
     "name": "stdout",
     "output_type": "stream",
     "text": [
      "Epoch 13/20, Train Loss: 1.5025, Val Loss: 1.7221, Epoch Time: 35.00s Average Vram Usage: 29.46MB\n"
     ]
    },
    {
     "name": "stderr",
     "output_type": "stream",
     "text": [
      "                                                                                                     \r"
     ]
    },
    {
     "name": "stdout",
     "output_type": "stream",
     "text": [
      "Epoch 14/20, Train Loss: 1.5127, Val Loss: 1.7190, Epoch Time: 35.62s Average Vram Usage: 29.46MB\n"
     ]
    },
    {
     "name": "stderr",
     "output_type": "stream",
     "text": [
      "                                                                                                     \r"
     ]
    },
    {
     "name": "stdout",
     "output_type": "stream",
     "text": [
      "Epoch 15/20, Train Loss: 1.4670, Val Loss: 1.7076, Epoch Time: 34.61s Average Vram Usage: 29.46MB\n"
     ]
    },
    {
     "name": "stderr",
     "output_type": "stream",
     "text": [
      "                                                                                                     \r"
     ]
    },
    {
     "name": "stdout",
     "output_type": "stream",
     "text": [
      "Epoch 16/20, Train Loss: 1.4889, Val Loss: 1.7130, Epoch Time: 32.03s Average Vram Usage: 29.46MB\n"
     ]
    },
    {
     "name": "stderr",
     "output_type": "stream",
     "text": [
      "                                                                                                     \r"
     ]
    },
    {
     "name": "stdout",
     "output_type": "stream",
     "text": [
      "Epoch 17/20, Train Loss: 1.4835, Val Loss: 1.7070, Epoch Time: 31.86s Average Vram Usage: 29.46MB\n"
     ]
    },
    {
     "name": "stderr",
     "output_type": "stream",
     "text": [
      "                                                                                                     \r"
     ]
    },
    {
     "name": "stdout",
     "output_type": "stream",
     "text": [
      "Epoch 18/20, Train Loss: 1.4754, Val Loss: 1.7087, Epoch Time: 31.11s Average Vram Usage: 29.46MB\n"
     ]
    },
    {
     "name": "stderr",
     "output_type": "stream",
     "text": [
      "                                                                                                     \r"
     ]
    },
    {
     "name": "stdout",
     "output_type": "stream",
     "text": [
      "Epoch 19/20, Train Loss: 1.4504, Val Loss: 1.7094, Epoch Time: 31.98s Average Vram Usage: 29.46MB\n"
     ]
    },
    {
     "name": "stderr",
     "output_type": "stream",
     "text": [
      "                                                                                                     \r"
     ]
    },
    {
     "name": "stdout",
     "output_type": "stream",
     "text": [
      "Epoch 20/20, Train Loss: 1.4840, Val Loss: 1.7231, Epoch Time: 30.63s Average Vram Usage: 29.46MB\n"
     ]
    }
   ],
   "source": [
    "## Training Loop\n",
    "trained_model, train_losses_df, val_losses_df = train_model(gru, train_loader, val_loader, criterion, optimizer, device, EPOCHS)"
   ]
  },
  {
   "cell_type": "code",
   "execution_count": 22,
   "id": "396c469b",
   "metadata": {},
   "outputs": [],
   "source": [
    "# Text generation using validation data\n",
    "val_sample, _ = next(iter(val_loader))\n",
    "start_text = ''.join([idx_to_char[idx.item()] for idx in val_sample[0][:SEQUENCE_LENGTH]])"
   ]
  },
  {
   "cell_type": "code",
   "execution_count": 23,
   "id": "70664998",
   "metadata": {
    "colab": {
     "base_uri": "https://localhost:8080/"
    },
    "executionInfo": {
     "elapsed": 489,
     "status": "ok",
     "timestamp": 1732704395512,
     "user": {
      "displayName": "Hugman Sangkeun Jung",
      "userId": "08689291704194029524"
     },
     "user_tz": -540
    },
    "id": "70664998",
    "outputId": "a970b003-a23c-47b7-900e-5ed705866838"
   },
   "outputs": [
    {
     "name": "stdout",
     "output_type": "stream",
     "text": [
      "Generated text (starting with validation data [\n",
      "\n",
      "GREMIO:\n",
      "Good morrow, neighbour Baptista.\n",
      "\n",
      "BAPTISTA:\n",
      "Good morro]):\n",
      "--------------------------------------------------\n",
      "\n",
      "\n",
      "GREMIO:\n",
      "Good morrow, neighbour Baptista.\n",
      "\n",
      "BAPTISTA:\n",
      "Good morrow.\n",
      "\n",
      "GLOUCESTER:\n",
      "EOers: but now, I preperate melant;\n",
      "I have spent his state, look possess'd me?\n",
      "I had a perpity. Why is none she\n",
      "for my battle often be supply:--\n",
      "\n",
      "CAPULET:\n",
      "Haoning sweet in thee befell'd.\n",
      "\n",
      "KING RICHARD III:\n",
      "So It, think you now, were me, then comes here.\n",
      "\n",
      "FRIAR LAURENCE:\n",
      "I hearzy, and mey is not out\n",
      "how to us to have, and my\n",
      "long vily husband knilm, I cannd but he being balish,\n",
      "And I take a man requests against my heart.\n",
      "My drother: if I will find your soverill lives she die,\n",
      "Flow\n"
     ]
    }
   ],
   "source": [
    "generated_text = generate_text(trained_model, char_to_idx, idx_to_char, start_text, device)\n",
    "                      \n",
    "print(f\"Generated text (starting with validation data [{start_text}]):\")\n",
    "print(\"-\"*50)\n",
    "print(generated_text)"
   ]
  },
  {
   "cell_type": "code",
   "execution_count": 24,
   "id": "fcca4e52",
   "metadata": {
    "id": "fcca4e52"
   },
   "outputs": [],
   "source": [
    "# After training a model (e.g., LSTM without RMSNorm), add its losses\n",
    "add_loss_to_comparison('GRU', train_losses_df, val_losses_df)"
   ]
  },
  {
   "cell_type": "code",
   "execution_count": 25,
   "id": "98b72703",
   "metadata": {
    "colab": {
     "base_uri": "https://localhost:8080/"
    },
    "executionInfo": {
     "elapsed": 3,
     "status": "ok",
     "timestamp": 1732704396861,
     "user": {
      "displayName": "Hugman Sangkeun Jung",
      "userId": "08689291704194029524"
     },
     "user_tz": -540
    },
    "id": "98b72703",
    "outputId": "ece1620a-8690-4750-97c1-ada645d59a08"
   },
   "outputs": [
    {
     "name": "stdout",
     "output_type": "stream",
     "text": [
      "\n",
      "Sample Input:\n",
      "\n",
      "\n",
      "GREMIO:\n",
      "Good morrow, neighbour Baptista.\n",
      "\n",
      "BAPTISTA:\n",
      "Good morro\n",
      "\n",
      "Model Output (logits for next character prediction):\n",
      "torch.Size([1, 64, 65])\n",
      "tensor([  5.2098,  -4.4428, -12.0669, -21.4630, -14.2862,   1.1006,  -7.7435,\n",
      "         -5.5344,  -7.5349,  -0.6969], device='cuda:0')\n",
      "\n",
      "Predicted next character:\n",
      "w\n"
     ]
    }
   ],
   "source": [
    "# Decoder Input/Output Example\n",
    "sample_input, _ = next(iter(val_loader))\n",
    "sample_input = sample_input[0].unsqueeze(0).to(device)  # Add batch dimension\n",
    "\n",
    "trained_model.eval()\n",
    "with torch.no_grad():\n",
    "    output, _ = trained_model(sample_input)\n",
    "\n",
    "print(\"\\nSample Input:\")\n",
    "print(''.join([idx_to_char[idx.item()] for idx in sample_input[0]]))\n",
    "\n",
    "print(\"\\nModel Output (logits for next character prediction):\")\n",
    "print(output.shape)\n",
    "print(output[0, 0, :10])  # Print first 10 logits of the first timestep\n",
    "\n",
    "print(\"\\nPredicted next character:\")\n",
    "predicted_char_idx = torch.argmax(output[0, -1]).item()\n",
    "print(idx_to_char[predicted_char_idx])"
   ]
  },
  {
   "cell_type": "code",
   "execution_count": 26,
   "id": "f23a4aea",
   "metadata": {},
   "outputs": [
    {
     "data": {
      "image/png": "[encoded data removed]",
      "text/plain": [
       "<Figure size 1000x500 with 1 Axes>"
      ]
     },
     "metadata": {},
     "output_type": "display_data"
    }
   ],
   "source": [
    "plot_loss_comparisons()"
   ]
  },
  {
   "cell_type": "code",
   "execution_count": 27,
   "id": "868a5338",
   "metadata": {
    "colab": {
     "base_uri": "https://localhost:8080/",
     "height": 487
    },
    "executionInfo": {
     "elapsed": 899,
     "status": "ok",
     "timestamp": 1732704397758,
     "user": {
      "displayName": "Hugman Sangkeun Jung",
      "userId": "08689291704194029524"
     },
     "user_tz": -540
    },
    "id": "868a5338",
    "outputId": "06397d97-49fb-4f85-b2b3-2b27ca481fe0"
   },
   "outputs": [
    {
     "data": {
      "image/png": "[encoded data removed]",
      "text/plain": [
       "<Figure size 2000x500 with 2 Axes>"
      ]
     },
     "metadata": {},
     "output_type": "display_data"
    }
   ],
   "source": [
    "plot_separate_train_val(loss_comparison_dict)"
   ]
  },
  {
   "cell_type": "code",
   "execution_count": 28,
   "id": "a2d8a352",
   "metadata": {
    "id": "a2d8a352"
   },
   "outputs": [],
   "source": [
    "def generate_text_attention(model, char_to_idx, idx_to_char, start_text, device, max_length=500):\n",
    "    model.eval()\n",
    "    current_text = start_text\n",
    "\n",
    "    with torch.no_grad():\n",
    "        for _ in range(max_length):\n",
    "            # Convert the last sequence of characters to indices and feed it to the model\n",
    "            x = torch.tensor([[char_to_idx[ch] for ch in current_text[-SEQUENCE_LENGTH:]]]).to(device)\n",
    "            output = model(x)[0]  # No hidden state needed for attention-based models\n",
    "            probs = torch.softmax(output[0, -1], dim=0)\n",
    "            next_char_idx = torch.multinomial(probs, 1).item()\n",
    "            next_char = idx_to_char[next_char_idx]\n",
    "            current_text += next_char\n",
    "\n",
    "    return current_text"
   ]
  },
  {
   "cell_type": "code",
   "execution_count": 29,
   "id": "32c936b1",
   "metadata": {
    "id": "32c936b1"
   },
   "outputs": [],
   "source": [
    "def train_and_test(model_desc, model, start_text):\n",
    "    # Initialize the model\n",
    "    model = model.to(device)\n",
    "    # Use the same optimizer and criterion\n",
    "    criterion = nn.CrossEntropyLoss()\n",
    "    optimizer = torch.optim.AdamW(model.parameters(), lr=LEARNING_RATE)\n",
    "    \n",
    "    # Train the model\n",
    "    trained_model, train_losses_df, val_losses_df = train_model(\n",
    "        model, train_loader, val_loader, criterion, optimizer, device, EPOCHS\n",
    "    )\n",
    "\n",
    "    # Generate text\n",
    "    generated_text = generate_text_attention(trained_model, char_to_idx, idx_to_char, start_text, device)\n",
    "    print(f\"Generated text [{start_text}]:\")\n",
    "    print(\"-\"*50)\n",
    "    print(generated_text)\n",
    "    \n",
    "    add_loss_to_comparison(model_desc, train_losses_df, val_losses_df)\n",
    "\n",
    "    # Plot loss comparisons including this model\n",
    "    plot_loss_comparisons()\n",
    "    \n",
    "    plot_separate_train_val(loss_comparison_dict)"
   ]
  },
  {
   "cell_type": "code",
   "execution_count": 30,
   "id": "645a951b",
   "metadata": {},
   "outputs": [
    {
     "data": {
      "text/plain": [
       "<function gc.collect(generation=2)>"
      ]
     },
     "execution_count": 30,
     "metadata": {},
     "output_type": "execute_result"
    }
   ],
   "source": [
    "del gru\n",
    "torch.cuda.empty_cache()\n",
    "\n",
    "import gc\n",
    "gc.collect"
   ]
  },
  {
   "cell_type": "markdown",
   "id": "39911f55",
   "metadata": {
    "id": "39911f55"
   },
   "source": [
    "## Model 2: Modern Transformer(LLaMA - 2023)"
   ]
  },
  {
   "cell_type": "code",
   "execution_count": 31,
   "id": "6b43bc11",
   "metadata": {},
   "outputs": [],
   "source": [
    "import torch\n",
    "import torch.nn as nn\n",
    "import torch.nn.functional as F\n",
    "import math\n",
    "from dataclasses import dataclass\n",
    "\n",
    "@dataclass\n",
    "class ModelArgs:\n",
    "    DIM = EMBEDDING_DIM \n",
    "    FFN_DIM = FFN_DIM\n",
    "    NUM_HEADS = NUM_HEADS \n",
    "    NUM_LAYERS = NUM_LAYERS\n",
    "\n",
    "    NUM_KV_HEADS = NUM_HEADS \n",
    "    VOCAB_SIZE = vocab_size\n",
    "    NORM_EPS = 1e-5 # LLaMA: 1e-5\n",
    "    ROPE_THETA = 10000 # LLaMA: 10000\n",
    "\n",
    "    MAX_BATCH_SIZE = BATCH_SIZE\n",
    "    MAX_SEQ_LEN = SEQUENCE_LENGTH # depending on the DATASET\n",
    "    NUM_KV_HEAD_REP = NUM_HEADS // NUM_KV_HEADS\n",
    "\n",
    "    HEAD_DIM = DIM // NUM_HEADS\n",
    "    DROPOUT = DROPOUT\n",
    "    DEVICE = device\n",
    "\n",
    "class RMSNorm(nn.Module):\n",
    "    def __init__(self, dim: int, eps: float = 1e-6):\n",
    "        super().__init__()\n",
    "        self.eps = eps\n",
    "        self.weight = nn.Parameter(torch.ones(dim))\n",
    "    def _norm(self, x: torch.Tensor):\n",
    "        return x * torch.rsqrt(x.pow(2).mean(-1, keepdim=True) + self.eps)\n",
    "    def forward(self, x: torch.Tensor):\n",
    "        return self.weight.to(x.device) * self._norm(x.float()).type_as(x)\n",
    "    \n",
    "def precompute_freqs_cis(head_dim: int, seq_len: int, theta: float = 100.0, device: str = \"cuda\"):\n",
    "    if head_dim % 2 != 0:\n",
    "        raise ValueError(\"head_dim must be even for rotary embeddings.\")\n",
    "    freqs = 1.0 / (theta ** (torch.arange(0, head_dim, 2).float() / head_dim)).to(device)\n",
    "    t = torch.arange(seq_len, device=device, dtype=torch.float32)\n",
    "    freqs = torch.outer(t, freqs)  # [seq_len, head_dim//2]\n",
    "    freqs_cis = torch.polar(torch.ones_like(freqs), freqs)\n",
    "    return freqs_cis  # [seq_len, head_dim // 2]\n",
    "\n",
    "def reshape_for_broadcast(freqs_cis: torch.Tensor, x: torch.Tensor):\n",
    "    L = x.shape[1]\n",
    "    return freqs_cis.view(1, L, 1, x.shape[-1] // 2)  # [1, L, 1, head_dim]\n",
    "\n",
    "def apply_rotary_emb(x: torch.Tensor, device: str = \"cuda\"):\n",
    "    # x: [B, L, 2*heads, D] & D is even\n",
    "    _, L, _, D = x.shape\n",
    "    x_complex = torch.view_as_complex(x.float().reshape(*x.shape[:-1], -1, 2)) # [B, L, 2*heads, D//2, 2]\n",
    "    freqs_cis = precompute_freqs_cis(D, L)\n",
    "    freqs = reshape_for_broadcast(freqs_cis, x)\n",
    "    x_rotated = x_complex * freqs\n",
    "    x_out = torch.view_as_real(x_rotated).reshape(x.shape)\n",
    "    return x_out.type_as(x).to(device)\n",
    "\n",
    "def repeat_kv(x: torch.Tensor, n_rep: int) -> torch.Tensor:\n",
    "    B, L, nk, d = x.shape\n",
    "    if n_rep == 1:\n",
    "        return x\n",
    "    return x[:, :, :, None, :].expand(B, L, nk, n_rep, d).reshape(B, L, nk * n_rep, d)\n",
    "\n",
    "class FeedForward(nn.Module):\n",
    "    def __init__(self, dim, ffn_dim, dropout):\n",
    "        super().__init__()\n",
    "        hidden_dim = ffn_dim\n",
    "        self.w1 = nn.Linear(dim, hidden_dim, bias=False)\n",
    "        self.w2 = nn.Linear(hidden_dim, dim, bias=False)\n",
    "        self.w3 = nn.Linear(dim, hidden_dim, bias=False)\n",
    "        self.dropout = nn.Dropout(dropout)\n",
    "    def forward(self, x: torch.Tensor):\n",
    "        # x: [B, L, D]\n",
    "        return self.w2(F.silu(self.w1(x)) * self.dropout(self.w3(x)))\n",
    "\n",
    "class SelfAttention(nn.Module):\n",
    "    def __init__(self, n_heads, n_kv_heads, n_rep, dim, dropout, batch, seq_len, device):\n",
    "        super().__init__()\n",
    "        self.n_heads_q = n_heads\n",
    "        self.n_kv_heads = n_kv_heads\n",
    "        self.n_rep = n_rep\n",
    "        self.head_dim = dim // n_heads\n",
    "\n",
    "        self.wq = nn.Linear(dim, n_heads * self.head_dim, bias=False)\n",
    "        self.wk = nn.Linear(dim, n_kv_heads * self.head_dim, bias=False)\n",
    "        self.wv = nn.Linear(dim, n_kv_heads * self.head_dim, bias=False)\n",
    "        self.wo = nn.Linear(n_heads * self.head_dim, dim, bias=False)\n",
    "        self.attn_dropout = dropout\n",
    "        \n",
    "        self.norm = RMSNorm(self.head_dim)\n",
    "\n",
    "    def forward(self, x: torch.Tensor, start_pos, mask, return_attn=False):\n",
    "        B, L, _ = x.shape\n",
    "        src_len = trg_len = L\n",
    "        offset = start_pos\n",
    "        \n",
    "        xq = self.wq(x).view(B, L, self.n_heads_q, self.head_dim)\n",
    "        xk = self.wk(x).view(B, L, self.n_kv_heads, self.head_dim)\n",
    "        xv = self.wv(x).view(B, L, self.n_kv_heads, self.head_dim)\n",
    "        \n",
    "        # Apply rotary embeddings\n",
    "        xq = apply_rotary_emb(xq)\n",
    "        xk = apply_rotary_emb(xk)\n",
    "        \n",
    "        # GQA: Adjust dimensions for attention computation\n",
    "        xq = xq.transpose(1, 2)   # [B, n_heads, L, head_dim]\n",
    "        xk = repeat_kv(xk, self.n_rep).transpose(1, 2) # [B, n_heads, L, head_dim]\n",
    "        xv = repeat_kv(xv, self.n_rep).transpose(1, 2) # [B, n_heads, L, head_dim]\n",
    "\n",
    "        # Compute scaled dot-product attention manually to capture attention weights\n",
    "        scores = torch.matmul(xq, xk.transpose(-2, -1)) / math.sqrt(self.head_dim)  # [B, n_heads, L, L]\n",
    "        scores = torch.nan_to_num(scores)\n",
    "        if mask is None:\n",
    "            mask = torch.triu(\n",
    "                torch.zeros([L, L])\n",
    "                .float()\n",
    "                .fill_(float(\"-inf\"))\n",
    "                .type_as(attn_weights),\n",
    "                1 + offset,\n",
    "            )\n",
    "            \n",
    "        scores += mask\n",
    "        attn_weights = torch.softmax(scores, dim=-1)\n",
    "        attn_weights = F.dropout(attn_weights, self.attn_dropout, training=self.training)\n",
    "        attn_output = torch.matmul(attn_weights, xv)  # [B, n_heads, L, head_dim]\n",
    "        attn_output = self.norm(attn_output)\n",
    "        \n",
    "        # Reshape attention output and project\n",
    "        attn_output = attn_output.transpose(1, 2).contiguous().view(B, L, -1)\n",
    "        output = self.wo(attn_output)  # [B, L, D]\n",
    "        if return_attn:\n",
    "            return output, attn_weights\n",
    "        else:\n",
    "            return output\n",
    "\n",
    "class TransformerBlock(nn.Module):\n",
    "    def __init__(self, args: 'ModelArgs'):\n",
    "        super().__init__()\n",
    "        self.attention = SelfAttention(\n",
    "            args.NUM_HEADS, \n",
    "            args.NUM_KV_HEADS, \n",
    "            args.NUM_KV_HEAD_REP, \n",
    "            args.DIM, \n",
    "            args.DROPOUT, \n",
    "            args.MAX_BATCH_SIZE, \n",
    "            args.MAX_SEQ_LEN, \n",
    "            args.DEVICE\n",
    "        )\n",
    "        self.ffn = FeedForward(args.DIM, args.FFN_DIM, args.DROPOUT)\n",
    "        self.attention_norm = RMSNorm(args.DIM, args.NORM_EPS)\n",
    "        self.ffn_norm = RMSNorm(args.DIM, args.NORM_EPS)\n",
    "        self.res_dropout = nn.Dropout(args.DROPOUT)\n",
    "        \n",
    "    def forward(self, x: torch.Tensor, start_pos, mask, return_attn=False):\n",
    "        if return_attn:\n",
    "            attn_out, attn_map = self.attention(self.attention_norm(x), start_pos, mask, return_attn=True)\n",
    "            h = x + self.res_dropout(attn_out)\n",
    "            h = h + self.res_dropout(self.ffn(self.ffn_norm(h)))\n",
    "            return h, attn_map\n",
    "        else:\n",
    "            h = x + self.res_dropout(self.attention(self.attention_norm(x), start_pos, mask))\n",
    "            h = h + self.res_dropout(self.ffn(self.ffn_norm(h)))\n",
    "            return h\n",
    "\n",
    "class LlamaTransformer(nn.Module):\n",
    "    def __init__(self, args: 'ModelArgs'):\n",
    "        super().__init__()\n",
    "        self.args = args\n",
    "        self.tok_embeddings = nn.Embedding(args.VOCAB_SIZE, args.DIM)\n",
    "        self.layers = nn.ModuleList([TransformerBlock(args) for _ in range(args.NUM_LAYERS)])\n",
    "        self.norm = RMSNorm(args.DIM, args.NORM_EPS)\n",
    "        self.output = nn.Linear(args.DIM, args.VOCAB_SIZE, bias=False)\n",
    "        self.device = args.DEVICE\n",
    "        \n",
    "    def forward(self, x: torch.Tensor, start_pos=0, return_attn=False):\n",
    "        B, L = x.shape\n",
    "        h = self.tok_embeddings(x)  # [B, L, D]\n",
    "        \n",
    "        mask = None\n",
    "        if L > 1:\n",
    "            mask = torch.triu(\n",
    "                torch.zeros([L, L])\n",
    "                .float()\n",
    "                .fill_(float(\"-inf\"))\n",
    "                .type_as(x),\n",
    "                1 + start_pos,\n",
    "            )\n",
    "        attn_maps = []\n",
    "        for layer in self.layers:\n",
    "            if return_attn:\n",
    "                h, attn_map = layer(h, start_pos, mask, return_attn=True)\n",
    "                attn_maps.append(attn_map)\n",
    "            else:\n",
    "                h = layer(h, start_pos, mask)\n",
    "        logits = self.output(self.norm(h)).float()\n",
    "        if return_attn:\n",
    "            return logits, attn_maps\n",
    "        return logits, _"
   ]
  },
  {
   "cell_type": "code",
   "execution_count": 32,
   "id": "66b4f114",
   "metadata": {},
   "outputs": [
    {
     "data": {
      "text/plain": [
       "LlamaTransformer(\n",
       "  (tok_embeddings): Embedding(65, 32)\n",
       "  (layers): ModuleList(\n",
       "    (0-3): 4 x TransformerBlock(\n",
       "      (attention): SelfAttention(\n",
       "        (wq): Linear(in_features=32, out_features=32, bias=False)\n",
       "        (wk): Linear(in_features=32, out_features=32, bias=False)\n",
       "        (wv): Linear(in_features=32, out_features=32, bias=False)\n",
       "        (wo): Linear(in_features=32, out_features=32, bias=False)\n",
       "        (norm): RMSNorm()\n",
       "      )\n",
       "      (ffn): FeedForward(\n",
       "        (w1): Linear(in_features=32, out_features=480, bias=False)\n",
       "        (w2): Linear(in_features=480, out_features=32, bias=False)\n",
       "        (w3): Linear(in_features=32, out_features=480, bias=False)\n",
       "        (dropout): Dropout(p=0.1, inplace=False)\n",
       "      )\n",
       "      (attention_norm): RMSNorm()\n",
       "      (ffn_norm): RMSNorm()\n",
       "      (res_dropout): Dropout(p=0.1, inplace=False)\n",
       "    )\n",
       "  )\n",
       "  (norm): RMSNorm()\n",
       "  (output): Linear(in_features=32, out_features=65, bias=False)\n",
       ")"
      ]
     },
     "execution_count": 32,
     "metadata": {},
     "output_type": "execute_result"
    }
   ],
   "source": [
    "PARAMS = ModelArgs()\n",
    "llama = LlamaTransformer(PARAMS).to(device)\n",
    "llama"
   ]
  },
  {
   "cell_type": "code",
   "execution_count": 33,
   "id": "087c3927",
   "metadata": {},
   "outputs": [
    {
     "data": {
      "text/plain": [
       "==========================================================================================\n",
       "Layer (type:depth-idx)                   Output Shape              Param #\n",
       "==========================================================================================\n",
       "LlamaTransformer                         [512, 64, 65]             --\n",
       "├─Embedding: 1-1                         [512, 64, 32]             2,080\n",
       "├─ModuleList: 1-2                        --                        --\n",
       "│    └─TransformerBlock: 2-1             [512, 64, 32]             --\n",
       "│    │    └─RMSNorm: 3-1                 [512, 64, 32]             32\n",
       "│    │    └─SelfAttention: 3-2           [512, 64, 32]             4,104\n",
       "│    │    └─Dropout: 3-3                 [512, 64, 32]             --\n",
       "│    │    └─RMSNorm: 3-4                 [512, 64, 32]             32\n",
       "│    │    └─FeedForward: 3-5             [512, 64, 32]             46,080\n",
       "│    │    └─Dropout: 3-6                 [512, 64, 32]             --\n",
       "│    └─TransformerBlock: 2-2             [512, 64, 32]             --\n",
       "│    │    └─RMSNorm: 3-7                 [512, 64, 32]             32\n",
       "│    │    └─SelfAttention: 3-8           [512, 64, 32]             4,104\n",
       "│    │    └─Dropout: 3-9                 [512, 64, 32]             --\n",
       "│    │    └─RMSNorm: 3-10                [512, 64, 32]             32\n",
       "│    │    └─FeedForward: 3-11            [512, 64, 32]             46,080\n",
       "│    │    └─Dropout: 3-12                [512, 64, 32]             --\n",
       "│    └─TransformerBlock: 2-3             [512, 64, 32]             --\n",
       "│    │    └─RMSNorm: 3-13                [512, 64, 32]             32\n",
       "│    │    └─SelfAttention: 3-14          [512, 64, 32]             4,104\n",
       "│    │    └─Dropout: 3-15                [512, 64, 32]             --\n",
       "│    │    └─RMSNorm: 3-16                [512, 64, 32]             32\n",
       "│    │    └─FeedForward: 3-17            [512, 64, 32]             46,080\n",
       "│    │    └─Dropout: 3-18                [512, 64, 32]             --\n",
       "│    └─TransformerBlock: 2-4             [512, 64, 32]             --\n",
       "│    │    └─RMSNorm: 3-19                [512, 64, 32]             32\n",
       "│    │    └─SelfAttention: 3-20          [512, 64, 32]             4,104\n",
       "│    │    └─Dropout: 3-21                [512, 64, 32]             --\n",
       "│    │    └─RMSNorm: 3-22                [512, 64, 32]             32\n",
       "│    │    └─FeedForward: 3-23            [512, 64, 32]             46,080\n",
       "│    │    └─Dropout: 3-24                [512, 64, 32]             --\n",
       "├─RMSNorm: 1-3                           [512, 64, 32]             32\n",
       "├─Linear: 1-4                            [512, 64, 65]             2,080\n",
       "==========================================================================================\n",
       "Total params: 205,184\n",
       "Trainable params: 205,184\n",
       "Non-trainable params: 0\n",
       "Total mult-adds (M): 105.05\n",
       "==========================================================================================\n",
       "Input size (MB): 0.26\n",
       "Forward/backward pass size (MB): 1308.88\n",
       "Params size (MB): 0.82\n",
       "Estimated Total Size (MB): 1309.97\n",
       "=========================================================================================="
      ]
     },
     "execution_count": 33,
     "metadata": {},
     "output_type": "execute_result"
    }
   ],
   "source": [
    "summary(llama.to(device), input_size=(BATCH_SIZE, SEQUENCE_LENGTH), dtypes=[torch.long])"
   ]
  },
  {
   "cell_type": "code",
   "execution_count": 34,
   "id": "b361db8b",
   "metadata": {
    "id": "b361db8b",
    "outputId": "33c6269c-5979-4100-b6e7-a89b6b4ed962"
   },
   "outputs": [
    {
     "name": "stderr",
     "output_type": "stream",
     "text": [
      "                                                                                                   \r"
     ]
    },
    {
     "name": "stdout",
     "output_type": "stream",
     "text": [
      "Epoch 1/20, Train Loss: 2.0945, Val Loss: 2.0434, Epoch Time: 67.56s Average Vram Usage: 36.32MB\n"
     ]
    },
    {
     "name": "stderr",
     "output_type": "stream",
     "text": [
      "                                                                                                   \r"
     ]
    },
    {
     "name": "stdout",
     "output_type": "stream",
     "text": [
      "Epoch 2/20, Train Loss: 1.8820, Val Loss: 1.8404, Epoch Time: 67.73s Average Vram Usage: 36.32MB\n"
     ]
    },
    {
     "name": "stderr",
     "output_type": "stream",
     "text": [
      "                                                                                                   \r"
     ]
    },
    {
     "name": "stdout",
     "output_type": "stream",
     "text": [
      "Epoch 3/20, Train Loss: 1.7597, Val Loss: 1.7984, Epoch Time: 68.47s Average Vram Usage: 36.32MB\n"
     ]
    },
    {
     "name": "stderr",
     "output_type": "stream",
     "text": [
      "                                                                                                   \r"
     ]
    },
    {
     "name": "stdout",
     "output_type": "stream",
     "text": [
      "Epoch 4/20, Train Loss: 1.7044, Val Loss: 1.7789, Epoch Time: 67.93s Average Vram Usage: 36.32MB\n"
     ]
    },
    {
     "name": "stderr",
     "output_type": "stream",
     "text": [
      "                                                                                                   \r"
     ]
    },
    {
     "name": "stdout",
     "output_type": "stream",
     "text": [
      "Epoch 5/20, Train Loss: 1.6540, Val Loss: 1.7834, Epoch Time: 68.87s Average Vram Usage: 36.32MB\n"
     ]
    },
    {
     "name": "stderr",
     "output_type": "stream",
     "text": [
      "                                                                                                    \r"
     ]
    },
    {
     "name": "stdout",
     "output_type": "stream",
     "text": [
      "Epoch 6/20, Train Loss: 1.6009, Val Loss: 1.7759, Epoch Time: 68.84s Average Vram Usage: 36.32MB\n"
     ]
    },
    {
     "name": "stderr",
     "output_type": "stream",
     "text": [
      "                                                                                                    \r"
     ]
    },
    {
     "name": "stdout",
     "output_type": "stream",
     "text": [
      "Epoch 7/20, Train Loss: 1.6137, Val Loss: 1.7794, Epoch Time: 68.17s Average Vram Usage: 36.32MB\n"
     ]
    },
    {
     "name": "stderr",
     "output_type": "stream",
     "text": [
      "                                                                                                    \r"
     ]
    },
    {
     "name": "stdout",
     "output_type": "stream",
     "text": [
      "Epoch 8/20, Train Loss: 1.6053, Val Loss: 1.7773, Epoch Time: 68.74s Average Vram Usage: 36.32MB\n"
     ]
    },
    {
     "name": "stderr",
     "output_type": "stream",
     "text": [
      "                                                                                                    \r"
     ]
    },
    {
     "name": "stdout",
     "output_type": "stream",
     "text": [
      "Epoch 9/20, Train Loss: 1.5957, Val Loss: 1.7741, Epoch Time: 68.40s Average Vram Usage: 36.32MB\n"
     ]
    },
    {
     "name": "stderr",
     "output_type": "stream",
     "text": [
      "                                                                                                     \r"
     ]
    },
    {
     "name": "stdout",
     "output_type": "stream",
     "text": [
      "Epoch 10/20, Train Loss: 1.5532, Val Loss: 1.7739, Epoch Time: 68.12s Average Vram Usage: 36.32MB\n"
     ]
    },
    {
     "name": "stderr",
     "output_type": "stream",
     "text": [
      "                                                                                                     \r"
     ]
    },
    {
     "name": "stdout",
     "output_type": "stream",
     "text": [
      "Epoch 11/20, Train Loss: 1.5707, Val Loss: 1.7721, Epoch Time: 67.88s Average Vram Usage: 36.32MB\n"
     ]
    },
    {
     "name": "stderr",
     "output_type": "stream",
     "text": [
      "                                                                                                     \r"
     ]
    },
    {
     "name": "stdout",
     "output_type": "stream",
     "text": [
      "Epoch 12/20, Train Loss: 1.5606, Val Loss: 1.7757, Epoch Time: 67.80s Average Vram Usage: 36.32MB\n"
     ]
    },
    {
     "name": "stderr",
     "output_type": "stream",
     "text": [
      "                                                                                                     \r"
     ]
    },
    {
     "name": "stdout",
     "output_type": "stream",
     "text": [
      "Epoch 13/20, Train Loss: 1.5378, Val Loss: 1.7747, Epoch Time: 67.50s Average Vram Usage: 36.32MB\n"
     ]
    },
    {
     "name": "stderr",
     "output_type": "stream",
     "text": [
      "                                                                                                     \r"
     ]
    },
    {
     "name": "stdout",
     "output_type": "stream",
     "text": [
      "Epoch 14/20, Train Loss: 1.5306, Val Loss: 1.7746, Epoch Time: 98.35s Average Vram Usage: 36.32MB\n"
     ]
    },
    {
     "name": "stderr",
     "output_type": "stream",
     "text": [
      "                                                                                                     \r"
     ]
    },
    {
     "name": "stdout",
     "output_type": "stream",
     "text": [
      "Epoch 15/20, Train Loss: 1.5196, Val Loss: 1.7764, Epoch Time: 99.24s Average Vram Usage: 36.32MB\n"
     ]
    },
    {
     "name": "stderr",
     "output_type": "stream",
     "text": [
      "                                                                                                     \r"
     ]
    },
    {
     "name": "stdout",
     "output_type": "stream",
     "text": [
      "Epoch 16/20, Train Loss: 1.5354, Val Loss: 1.7747, Epoch Time: 96.97s Average Vram Usage: 36.32MB\n"
     ]
    },
    {
     "name": "stderr",
     "output_type": "stream",
     "text": [
      "                                                                                                     \r"
     ]
    },
    {
     "name": "stdout",
     "output_type": "stream",
     "text": [
      "Epoch 17/20, Train Loss: 1.5101, Val Loss: 1.7721, Epoch Time: 98.68s Average Vram Usage: 36.32MB\n"
     ]
    },
    {
     "name": "stderr",
     "output_type": "stream",
     "text": [
      "                                                                                                     \r"
     ]
    },
    {
     "name": "stdout",
     "output_type": "stream",
     "text": [
      "Epoch 18/20, Train Loss: 1.5550, Val Loss: 1.7645, Epoch Time: 99.82s Average Vram Usage: 36.32MB\n"
     ]
    },
    {
     "name": "stderr",
     "output_type": "stream",
     "text": [
      "                                                                                                     \r"
     ]
    },
    {
     "name": "stdout",
     "output_type": "stream",
     "text": [
      "Epoch 19/20, Train Loss: 1.5063, Val Loss: 1.7636, Epoch Time: 99.47s Average Vram Usage: 36.32MB\n"
     ]
    },
    {
     "name": "stderr",
     "output_type": "stream",
     "text": [
      "                                                                                                     \r"
     ]
    },
    {
     "name": "stdout",
     "output_type": "stream",
     "text": [
      "Epoch 20/20, Train Loss: 1.5063, Val Loss: 1.7740, Epoch Time: 98.02s Average Vram Usage: 36.32MB\n",
      "Generated text [\n",
      "\n",
      "GREMIO:\n",
      "Good morrow, neighbour Baptista.\n",
      "\n",
      "BAPTISTA:\n",
      "Good morro]:\n",
      "--------------------------------------------------\n",
      "\n",
      "\n",
      "GREMIO:\n",
      "Good morrow, neighbour Baptista.\n",
      "\n",
      "BAPTISTA:\n",
      "Good morrow and a lurk:\n",
      "My valiant heart; no, go do me throat.\n",
      "\n",
      "CORIOLANUS:\n",
      "Be charge from my wish on her body, they\n",
      "praying Verona, as I sees free threat fortune than weep,\n",
      "Since the laze lifend\n",
      "That shall was fell my tears, he will in solemn.\n",
      "\n",
      "MERCUTIO:\n",
      "Why, the should die it-desubstance and she's\n",
      "There excepts no no me of hearth\n",
      "But not old nobles, but more and his prithee\n",
      "Our own in vashes; not to not must night,\n",
      "But I will up too the rodefil for that,\n",
      "Speak my house blood more than my due my knews\n",
      "As\n"
     ]
    },
    {
     "data": {
      "image/png": "[encoded data removed]",
      "text/plain": [
       "<Figure size 1000x500 with 1 Axes>"
      ]
     },
     "metadata": {},
     "output_type": "display_data"
    },
    {
     "data": {
      "image/png": "[encoded data removed]",
      "text/plain": [
       "<Figure size 2000x500 with 2 Axes>"
      ]
     },
     "metadata": {},
     "output_type": "display_data"
    }
   ],
   "source": [
    "train_and_test(\"LLaMA\", llama, start_text)"
   ]
  },
  {
   "cell_type": "code",
   "execution_count": 35,
   "id": "66d8c9fe",
   "metadata": {},
   "outputs": [
    {
     "data": {
      "text/plain": [
       "<function gc.collect(generation=2)>"
      ]
     },
     "execution_count": 35,
     "metadata": {},
     "output_type": "execute_result"
    }
   ],
   "source": [
    "del llama\n",
    "torch.cuda.empty_cache()\n",
    "gc.collect"
   ]
  },
  {
   "cell_type": "markdown",
   "id": "8775d573",
   "metadata": {},
   "source": [
    "## Model 3: Mamba"
   ]
  },
  {
   "cell_type": "code",
   "execution_count": 36,
   "id": "dd160c0c",
   "metadata": {},
   "outputs": [],
   "source": [
    "import torch\n",
    "import torch.nn as nn\n",
    "\n",
    "from torch.nn import functional as F\n",
    "from einops import rearrange"
   ]
  },
  {
   "cell_type": "code",
   "execution_count": 37,
   "id": "c6be4f1a",
   "metadata": {},
   "outputs": [],
   "source": [
    "class RMSNorm(nn.Module):\n",
    "    def __init__(self, dim: int, eps: float = 1e-6):\n",
    "        super().__init__()\n",
    "        self.eps = eps\n",
    "        self.weight = nn.Parameter(torch.ones(dim))\n",
    "\n",
    "    def _norm(self, x):\n",
    "        return x * torch.rsqrt(x.pow(2).mean(-1, keepdim=True) + self.eps)\n",
    "\n",
    "    def forward(self, x: torch.Tensor):\n",
    "        # x = x.to(torch.float32) # RMSNorm 계산은 float32에서 수행하는 것이 안정적일 수 있음\n",
    "        norm = self._norm(x.to(torch.float32))\n",
    "        return self.weight * norm\n",
    "\n",
    "class SSM(nn.Module):\n",
    "    def __init__(self, d_inner, state_size, device='cuda'): # seq_len 불필요\n",
    "        super(SSM, self).__init__()\n",
    "        self.d_inner = d_inner\n",
    "        self.state_size = state_size\n",
    "        self.device = device\n",
    "\n",
    "        # 입력 x (d_inner) -> dt, B, C 계산용 프로젝션 (Mamba 스타일)\n",
    "        # dt_rank 는 보통 d_inner / 16 정도 사용\n",
    "        dt_rank = d_inner // 16\n",
    "        self.x_proj = nn.Linear(d_inner, dt_rank + state_size * 2, bias=False, device=device)\n",
    "        # dt_rank -> d_inner 로 확장\n",
    "        self.dt_proj = nn.Linear(dt_rank, d_inner, bias=True, device=device)\n",
    "\n",
    "        A = torch.arange(1, state_size + 1, dtype=torch.float32, device=device).repeat(d_inner, 1)\n",
    "        self.A_log = nn.Parameter(torch.log(A)) # (d_inner, N) \n",
    "        nn.init.normal_(self.A_log, mean=-1, std=0.5) # 음수 초기화\n",
    "\n",
    "        # 파라미터 D (피드스루) - Mamba는 보통 학습 가능한 D 사용\n",
    "        self.D = nn.Parameter(torch.ones(d_inner, device=device))\n",
    "\n",
    "        # 수치 안정성 위한 값\n",
    "        self.log_eps = torch.log(torch.tensor(1e-7)).to(device) # 로그 공간 연산 시 안전성 확보\n",
    "        self.exp_clamp_val = 20.0 # exp() 결과가 너무 커지는 것을 방지\n",
    "\n",
    "    def discretization(self, delta, B):\n",
    "        # delta: [B, L, d_inner]\n",
    "        # B: [B, L, state_size]\n",
    "        # A: [d_inner, state_size] (A_log를 exp()한 값)\n",
    "\n",
    "        # A 계산 (로그 공간 -> 실제 공간)\n",
    "        # A는 일반적으로 음수 값을 가짐 (안정적 시스템)\n",
    "        A = -torch.exp(self.A_log.float()) # (d_inner, N)\n",
    "\n",
    "        # ΔA 계산: einsum 또는 broadcasting\n",
    "        # delta_A = torch.exp(torch.einsum(\"bld,dn->bldn\", delta, A))\n",
    "        # broadcasting: delta (B, L, D, 1) * A (1, 1, D, N) -> (B, L, D, N)\n",
    "        # 너무 큰 양수/음수 방지 및 exp() 계산\n",
    "        log_delta_A = torch.clamp(delta.unsqueeze(-1) * A.unsqueeze(0).unsqueeze(0), min=self.log_eps.to(A.device), max=self.exp_clamp_val)\n",
    "        delta_A = torch.exp(log_delta_A) # (B, L, D, N)\n",
    "\n",
    "        # ΔB 계산 (근사 공식: B̄ ≈ Δ * B)\n",
    "        # 여기서는 einsum 사용: delta (bld) * B (bln) -> dB (bldn)\n",
    "        # delta_B = torch.einsum(\"bld,bln->bldn\", delta, B)\n",
    "        # broadcasting: delta (B, L, D, 1) * B (B, L, 1, N) -> (B, L, D, N)\n",
    "        delta_B = delta.unsqueeze(-1) * B.unsqueeze(2) # (B, L, D, N)\n",
    "\n",
    "        # --- 더 정확한 이산화 (ZOH) --- (근사 공식 사용 시 주석 처리)\n",
    "        # delta_A = torch.exp(delta.unsqueeze(-1) * A)\n",
    "        # delta_B = (delta_A - 1) / torch.clamp(delta.unsqueeze(-1) * A, min=1e-7) * (delta.unsqueeze(-1) * B.unsqueeze(2))\n",
    "        # delta_B = (delta_A - 1) * B.unsqueeze(2) \n",
    "\n",
    "        return delta_A, delta_B\n",
    "\n",
    "    def forward(self, x):\n",
    "        # x: [B, L, d_inner]\n",
    "        B, L, d_inner = x.shape\n",
    "\n",
    "        # 입력 x로부터 Δ, B, C 계산\n",
    "        x_proj_out = self.x_proj(x) # (B, L, dt_rank + 2 * state_size)\n",
    "        dt_inter, B_ssm, C_ssm = torch.split(x_proj_out, [self.dt_proj.in_features, self.state_size, self.state_size], dim=-1)\n",
    "        # dt_inter: (B, L, dt_rank)\n",
    "        # B_ssm: (B, L, state_size)\n",
    "        # C_ssm: (B, L, state_size)\n",
    "\n",
    "        # Δ 계산\n",
    "        dt = self.dt_proj(dt_inter) # (B, L, d_inner)\n",
    "        delta = F.softplus(dt)      # (B, L, d_inner), softplus는 항상 양수 보장\n",
    "\n",
    "        # 이산화\n",
    "        delta_A, delta_B = self.discretization(delta.to(x.device), B_ssm.to(x.device)) # dA:[B,L,D,N], dB:[B,L,D,N]\n",
    "\n",
    "        # Scan 연산 (Vectorized Recurrence - 주의: 공식 Mamba는 CUDA/Triton 사용)\n",
    "        # 순차적 계산 h_t = dA_t * h_{t-1} + dB_t * x_t 를 벡터화\n",
    "        # 이 방식은 수치적으로 불안정할 수 있음\n",
    "\n",
    "        # beta = dB * x.unsqueeze(-1) # (B, L, D, N) - 수정됨: dB는 이미 delta * B 형태임. 여기에 x를 곱하는게 맞나?\n",
    "                                      # Mamba 논문: h_t = dA_t * h_{t-1} + dB_t * u_t 여기서 u=x\n",
    "        delta_B_u = delta_B * x.unsqueeze(-1) # (B, L, D, N)\n",
    "\n",
    "        # log(dA)의 누적 합 계산 시 안정성 확보\n",
    "        log_delta_A = torch.log(torch.clamp(delta_A, min=1e-7)) # 0 방지\n",
    "        log_R = torch.cumsum(log_delta_A, dim=1) # (B, L, D, N)\n",
    "\n",
    "        # R = exp(log_R), 1/R = exp(-log_R) 계산 시 클램핑\n",
    "        R = torch.exp(torch.clamp(log_R, max=self.exp_clamp_val)) # (B, L, D, N)\n",
    "        exp_neg_log_R = torch.exp(torch.clamp(-log_R, max=self.exp_clamp_val)) # (B, L, D, N)\n",
    "\n",
    "        # S = cumsum( (dB * u) / R )\n",
    "        # S_term = beta * exp_neg_log_R # beta = dB*u\n",
    "        S_term = delta_B_u * exp_neg_log_R # (B, L, D, N)\n",
    "        S = torch.cumsum(S_term, dim=1)    # (B, L, D, N)\n",
    "\n",
    "        # h = R * S\n",
    "        h = R * S # (B, L, D, N)\n",
    "\n",
    "        # y = C * h + D * x\n",
    "        # C_ssm: (B, L, N), h: (B, L, D, N) -> y: (B, L, D)\n",
    "        y = torch.einsum('bln,bldn->bld', C_ssm, h) # (B, L, D)\n",
    "\n",
    "        # 피드스루 D 추가\n",
    "        y = y + x * self.D.unsqueeze(0).unsqueeze(0).to(x.device)\n",
    "\n",
    "        return y\n",
    "\n",
    "class MambaBlock(nn.Module):\n",
    "    def __init__(self, d_model, state_size, d_conv=4, expand=2, dropout_prob=0.1, device='cuda'): \n",
    "        super(MambaBlock, self).__init__()\n",
    "        self.d_model = d_model\n",
    "        self.d_inner = int(expand * d_model) \n",
    "        self.state_size = state_size\n",
    "        self.d_conv = d_conv\n",
    "        self.device = device\n",
    "\n",
    "        # 입력 프로젝션 (x -> xz) 및 분기 (x -> x_for_ssm, z -> gate)\n",
    "        self.in_proj = nn.Linear(d_model, 2 * self.d_inner, bias=False, device=device)\n",
    "\n",
    "        # 컨볼루션 브랜치 (Depthwise Conv1d)\n",
    "        self.conv1d = nn.Conv1d(\n",
    "            in_channels=self.d_inner,\n",
    "            out_channels=self.d_inner,\n",
    "            bias=True,\n",
    "            kernel_size=d_conv,\n",
    "            groups=self.d_inner, # Depthwise 설정\n",
    "            padding=d_conv - 1, # Causal padding을 위한 설정\n",
    "            device=device,\n",
    "        )\n",
    "\n",
    "        # SSM 모듈 (d_inner 차원 사용)\n",
    "        self.ssm = SSM(self.d_inner, state_size, device=device)\n",
    "\n",
    "        # 출력 프로젝션\n",
    "        self.out_proj = nn.Linear(self.d_inner, d_model, bias=False, device=device)\n",
    "\n",
    "        # Layer Normalization (RMSNorm 사용)\n",
    "        self.norm = RMSNorm(d_model, eps=1e-5) # RMSNorm 사용 시 eps는 1e-5가 종종 사용됨\n",
    "\n",
    "        # Residual Dropout 추가 (Llama의 res_dropout과 유사)\n",
    "        self.dropout_res = nn.Dropout(dropout_prob)\n",
    "\n",
    "    def forward(self, x):\n",
    "        # x: [B, L, d_model]\n",
    "        B, L, D = x.shape\n",
    "\n",
    "        # Residual connection 저장\n",
    "        residual = x\n",
    "\n",
    "        # Layer Norm 적용\n",
    "        x_norm = self.norm(x)\n",
    "\n",
    "        # Input projection & split (x -> x_in, z)\n",
    "        xz = self.in_proj(x_norm) # [B, L, 2 * d_inner]\n",
    "        x_in, z = xz.chunk(2, dim=-1) # 각 [B, L, d_inner]\n",
    "\n",
    "        # Conv branch\n",
    "        # .to(x_in.device) 추가하여 device 일치 보장\n",
    "        x_conv = rearrange(x_in, 'b l d -> b d l') # [B, d_inner, L]\n",
    "        # Conv1D 적용 시 causal padding 효과를 위해 마지막 d_conv-1 제거\n",
    "        x_conv = self.conv1d(x_conv)[:, :, :L]\n",
    "        x_conv = rearrange(x_conv, 'b d l -> b l d') # [B, L, d_inner]\n",
    "        x_conv_act = F.silu(x_conv) # Conv 후 Activation\n",
    "\n",
    "        # SSM branch\n",
    "        y_ssm = self.ssm(x_conv_act) # [B, L, d_inner]\n",
    "\n",
    "        # Gating (z * y_ssm)\n",
    "        y_gated = y_ssm * F.silu(z) # [B, L, d_inner]\n",
    "\n",
    "        # Output projection\n",
    "        output = self.out_proj(y_gated) # [B, L, d_model]\n",
    "\n",
    "        # Residual connection 추가 전에 Dropout 적용\n",
    "        # dropout은 training 중에만 활성화됨 (model.eval() 시 자동 비활성화)\n",
    "        output = residual + self.dropout_res(output) # [B, L, d_model]\n",
    "\n",
    "        return output\n",
    "\n",
    "class Mamba(nn.Module):\n",
    "    def __init__(self, d_model, n_layers, vocab_size, state_size=16, d_conv=4, expand=2, dropout_prob=0.1, device='cuda'): # seq_len 불필요\n",
    "        super(Mamba, self).__init__()\n",
    "        self.d_model = d_model\n",
    "        self.n_layers = n_layers\n",
    "        self.vocab_size = vocab_size\n",
    "        self.device = device\n",
    "        self.dropout_prob = dropout_prob\n",
    "\n",
    "        self.embedding = nn.Embedding(vocab_size, d_model, device=device)\n",
    "        self.dropout_emb = nn.Dropout(dropout_prob)\n",
    "\n",
    "        self.layers = nn.ModuleList([\n",
    "            MambaBlock(\n",
    "                d_model=d_model,\n",
    "                state_size=state_size,\n",
    "                d_conv=d_conv,\n",
    "                expand=expand,\n",
    "                dropout_prob=self.dropout_prob,\n",
    "                device=device\n",
    "            )\n",
    "            for _ in range(n_layers)\n",
    "        ])\n",
    "        self.norm_f = RMSNorm(d_model, eps=1e-5)\n",
    "        self.lm_head = nn.Linear(d_model, vocab_size, bias=False, device=device)\n",
    "\n",
    "        # Weight tying (optional but common)\n",
    "        self.lm_head.weight = self.embedding.weight\n",
    "\n",
    "        # Weight initialization (optional)\n",
    "        self.apply(self._init_weights)\n",
    "\n",
    "    def _init_weights(self, module):\n",
    "        if isinstance(module, nn.Linear):\n",
    "            if module.bias is not None:\n",
    "                nn.init.zeros_(module.bias)\n",
    "            nn.init.normal_(module.weight, mean=0.0, std=0.02)\n",
    "        elif isinstance(module, nn.Embedding):\n",
    "            nn.init.normal_(module.weight, std=0.02)\n",
    "        elif isinstance(module, nn.Conv1d):\n",
    "            nn.init.kaiming_normal_(module.weight, nonlinearity='leaky_relu') \n",
    "            if module.bias is not None:\n",
    "                nn.init.zeros_(module.bias)\n",
    "        elif isinstance(module, RMSNorm):\n",
    "             nn.init.ones_(module.weight) # RMSNorm 가중치는 1로 초기화\n",
    "        if hasattr(module, 'A_log'):\n",
    "             nn.init.normal_(module.A_log, mean=-1.0, std=0.5) # A_log는 음수로 초기화\n",
    "        if hasattr(module, 'D'):\n",
    "             nn.init.ones_(module.D) # D는 1로 초기화\n",
    "\n",
    "    def forward(self, input_ids): \n",
    "        # input_ids: [B, L]\n",
    "        x = self.embedding(input_ids) # [B, L, d_model]\n",
    "        x = self.dropout_emb(x)\n",
    "        # x: [B, L, d_model]\n",
    "        for layer in self.layers:\n",
    "            x = layer(x)\n",
    "\n",
    "        x = self.norm_f(x)\n",
    "        logits = self.lm_head(x) # [B, L, vocab_size]\n",
    "\n",
    "        return logits, _"
   ]
  },
  {
   "cell_type": "code",
   "execution_count": 38,
   "id": "7cf6a7c4",
   "metadata": {},
   "outputs": [
    {
     "name": "stdout",
     "output_type": "stream",
     "text": [
      "test_output.shape = torch.Size([512, 64, 65])\n"
     ]
    }
   ],
   "source": [
    "STATE_SIZE = 8\n",
    "\n",
    "x = torch.randint(0, vocab_size, (BATCH_SIZE, SEQUENCE_LENGTH)).to(device)\n",
    "\n",
    "mamba = Mamba(HIDDEN_DIM, NUM_LAYERS, vocab_size, STATE_SIZE, d_conv=4, expand=3).to(device)\n",
    "\n",
    "test_output, _ = mamba(x)\n",
    "print(f\"test_output.shape = {test_output.shape}\") "
   ]
  },
  {
   "cell_type": "code",
   "execution_count": 39,
   "id": "e31528f8",
   "metadata": {},
   "outputs": [
    {
     "data": {
      "text/plain": [
       "==========================================================================================\n",
       "Layer (type:depth-idx)                   Output Shape              Param #\n",
       "==========================================================================================\n",
       "Mamba                                    [512, 64, 65]             --\n",
       "├─Embedding: 1-1                         [512, 64, 64]             4,160\n",
       "├─Dropout: 1-2                           [512, 64, 64]             --\n",
       "├─ModuleList: 1-3                        --                        --\n",
       "│    └─MambaBlock: 2-1                   [512, 64, 64]             --\n",
       "│    │    └─RMSNorm: 3-1                 [512, 64, 64]             64\n",
       "│    │    └─Linear: 3-2                  [512, 64, 384]            24,576\n",
       "│    │    └─Conv1d: 3-3                  [512, 192, 67]            960\n",
       "│    │    └─SSM: 3-4                     [512, 64, 192]            9,600\n",
       "│    │    └─Linear: 3-5                  [512, 64, 64]             12,288\n",
       "│    │    └─Dropout: 3-6                 [512, 64, 64]             --\n",
       "│    └─MambaBlock: 2-2                   [512, 64, 64]             --\n",
       "│    │    └─RMSNorm: 3-7                 [512, 64, 64]             64\n",
       "│    │    └─Linear: 3-8                  [512, 64, 384]            24,576\n",
       "│    │    └─Conv1d: 3-9                  [512, 192, 67]            960\n",
       "│    │    └─SSM: 3-10                    [512, 64, 192]            9,600\n",
       "│    │    └─Linear: 3-11                 [512, 64, 64]             12,288\n",
       "│    │    └─Dropout: 3-12                [512, 64, 64]             --\n",
       "│    └─MambaBlock: 2-3                   [512, 64, 64]             --\n",
       "│    │    └─RMSNorm: 3-13                [512, 64, 64]             64\n",
       "│    │    └─Linear: 3-14                 [512, 64, 384]            24,576\n",
       "│    │    └─Conv1d: 3-15                 [512, 192, 67]            960\n",
       "│    │    └─SSM: 3-16                    [512, 64, 192]            9,600\n",
       "│    │    └─Linear: 3-17                 [512, 64, 64]             12,288\n",
       "│    │    └─Dropout: 3-18                [512, 64, 64]             --\n",
       "│    └─MambaBlock: 2-4                   [512, 64, 64]             --\n",
       "│    │    └─RMSNorm: 3-19                [512, 64, 64]             64\n",
       "│    │    └─Linear: 3-20                 [512, 64, 384]            24,576\n",
       "│    │    └─Conv1d: 3-21                 [512, 192, 67]            960\n",
       "│    │    └─SSM: 3-22                    [512, 64, 192]            9,600\n",
       "│    │    └─Linear: 3-23                 [512, 64, 64]             12,288\n",
       "│    │    └─Dropout: 3-24                [512, 64, 64]             --\n",
       "├─RMSNorm: 1-4                           [512, 64, 64]             64\n",
       "├─Linear: 1-5                            [512, 64, 65]             4,160\n",
       "==========================================================================================\n",
       "Total params: 198,336\n",
       "Trainable params: 198,336\n",
       "Non-trainable params: 0\n",
       "Total mult-adds (M): 227.77\n",
       "==========================================================================================\n",
       "Input size (MB): 0.26\n",
       "Forward/backward pass size (MB): 1028.92\n",
       "Params size (MB): 0.77\n",
       "Estimated Total Size (MB): 1029.94\n",
       "=========================================================================================="
      ]
     },
     "execution_count": 39,
     "metadata": {},
     "output_type": "execute_result"
    }
   ],
   "source": [
    "from torchinfo import summary\n",
    "\n",
    "summary(mamba.to(device), input_size=(BATCH_SIZE, SEQUENCE_LENGTH), dtypes=[torch.long])"
   ]
  },
  {
   "cell_type": "code",
   "execution_count": 40,
   "id": "51ce9296",
   "metadata": {},
   "outputs": [
    {
     "name": "stderr",
     "output_type": "stream",
     "text": [
      "                                                                                                     \r"
     ]
    },
    {
     "name": "stdout",
     "output_type": "stream",
     "text": [
      "Epoch 1/20, Train Loss: 1.6899, Val Loss: 1.8520, Epoch Time: 396.66s Average Vram Usage: 9602.27MB\n"
     ]
    },
    {
     "name": "stderr",
     "output_type": "stream",
     "text": [
      "                                                                                                     \r"
     ]
    },
    {
     "name": "stdout",
     "output_type": "stream",
     "text": [
      "Epoch 2/20, Train Loss: 1.5389, Val Loss: 1.8043, Epoch Time: 396.99s Average Vram Usage: 9602.27MB\n"
     ]
    },
    {
     "name": "stderr",
     "output_type": "stream",
     "text": [
      "                                                                                                     \r"
     ]
    },
    {
     "name": "stdout",
     "output_type": "stream",
     "text": [
      "Epoch 3/20, Train Loss: 1.4455, Val Loss: 1.7606, Epoch Time: 395.55s Average Vram Usage: 9602.27MB\n"
     ]
    },
    {
     "name": "stderr",
     "output_type": "stream",
     "text": [
      "                                                                                                     \r"
     ]
    },
    {
     "name": "stdout",
     "output_type": "stream",
     "text": [
      "Epoch 4/20, Train Loss: 1.4591, Val Loss: 1.7332, Epoch Time: 397.98s Average Vram Usage: 9602.27MB\n"
     ]
    },
    {
     "name": "stderr",
     "output_type": "stream",
     "text": [
      "                                                                                                     \r"
     ]
    },
    {
     "name": "stdout",
     "output_type": "stream",
     "text": [
      "Epoch 5/20, Train Loss: 1.4374, Val Loss: 1.7321, Epoch Time: 398.45s Average Vram Usage: 9602.27MB\n"
     ]
    },
    {
     "name": "stderr",
     "output_type": "stream",
     "text": [
      "                                                                                                      \r"
     ]
    },
    {
     "name": "stdout",
     "output_type": "stream",
     "text": [
      "Epoch 6/20, Train Loss: 1.4151, Val Loss: 1.7293, Epoch Time: 398.42s Average Vram Usage: 9602.27MB\n"
     ]
    },
    {
     "name": "stderr",
     "output_type": "stream",
     "text": [
      "                                                                                                      \r"
     ]
    },
    {
     "name": "stdout",
     "output_type": "stream",
     "text": [
      "Epoch 7/20, Train Loss: 1.4011, Val Loss: 1.7076, Epoch Time: 397.74s Average Vram Usage: 9602.27MB\n"
     ]
    },
    {
     "name": "stderr",
     "output_type": "stream",
     "text": [
      "                                                                                                      \r"
     ]
    },
    {
     "name": "stdout",
     "output_type": "stream",
     "text": [
      "Epoch 8/20, Train Loss: 1.3939, Val Loss: 1.7095, Epoch Time: 396.76s Average Vram Usage: 9602.27MB\n"
     ]
    },
    {
     "name": "stderr",
     "output_type": "stream",
     "text": [
      "                                                                                                      \r"
     ]
    },
    {
     "name": "stdout",
     "output_type": "stream",
     "text": [
      "Epoch 9/20, Train Loss: 1.3823, Val Loss: 1.6948, Epoch Time: 397.02s Average Vram Usage: 9602.27MB\n"
     ]
    },
    {
     "name": "stderr",
     "output_type": "stream",
     "text": [
      "                                                                                                       \r"
     ]
    },
    {
     "name": "stdout",
     "output_type": "stream",
     "text": [
      "Epoch 10/20, Train Loss: 1.3647, Val Loss: 1.6981, Epoch Time: 397.19s Average Vram Usage: 9602.27MB\n"
     ]
    },
    {
     "name": "stderr",
     "output_type": "stream",
     "text": [
      "                                                                                                       \r"
     ]
    },
    {
     "name": "stdout",
     "output_type": "stream",
     "text": [
      "Epoch 11/20, Train Loss: 1.3472, Val Loss: 1.6777, Epoch Time: 396.46s Average Vram Usage: 9602.27MB\n"
     ]
    },
    {
     "name": "stderr",
     "output_type": "stream",
     "text": [
      "                                                                                                       \r"
     ]
    },
    {
     "name": "stdout",
     "output_type": "stream",
     "text": [
      "Epoch 12/20, Train Loss: 1.3693, Val Loss: 1.6852, Epoch Time: 397.61s Average Vram Usage: 9602.27MB\n"
     ]
    },
    {
     "name": "stderr",
     "output_type": "stream",
     "text": [
      "                                                                                                       \r"
     ]
    },
    {
     "name": "stdout",
     "output_type": "stream",
     "text": [
      "Epoch 13/20, Train Loss: 1.3559, Val Loss: 1.6696, Epoch Time: 398.82s Average Vram Usage: 9602.27MB\n"
     ]
    },
    {
     "name": "stderr",
     "output_type": "stream",
     "text": [
      "                                                                                                       \r"
     ]
    },
    {
     "name": "stdout",
     "output_type": "stream",
     "text": [
      "Epoch 14/20, Train Loss: 1.3495, Val Loss: 1.6623, Epoch Time: 277.53s Average Vram Usage: 9602.27MB\n"
     ]
    },
    {
     "name": "stderr",
     "output_type": "stream",
     "text": [
      "                                                                                                       \r"
     ]
    },
    {
     "name": "stdout",
     "output_type": "stream",
     "text": [
      "Epoch 15/20, Train Loss: 1.3472, Val Loss: 1.6549, Epoch Time: 179.50s Average Vram Usage: 9602.27MB\n"
     ]
    },
    {
     "name": "stderr",
     "output_type": "stream",
     "text": [
      "                                                                                                       \r"
     ]
    },
    {
     "name": "stdout",
     "output_type": "stream",
     "text": [
      "Epoch 16/20, Train Loss: 1.3429, Val Loss: 1.6569, Epoch Time: 179.50s Average Vram Usage: 9602.27MB\n"
     ]
    },
    {
     "name": "stderr",
     "output_type": "stream",
     "text": [
      "                                                                                                       \r"
     ]
    },
    {
     "name": "stdout",
     "output_type": "stream",
     "text": [
      "Epoch 17/20, Train Loss: 1.3491, Val Loss: 1.6682, Epoch Time: 179.48s Average Vram Usage: 9602.27MB\n"
     ]
    },
    {
     "name": "stderr",
     "output_type": "stream",
     "text": [
      "                                                                                                       \r"
     ]
    },
    {
     "name": "stdout",
     "output_type": "stream",
     "text": [
      "Epoch 18/20, Train Loss: 1.3491, Val Loss: 1.6451, Epoch Time: 180.07s Average Vram Usage: 9602.27MB\n"
     ]
    },
    {
     "name": "stderr",
     "output_type": "stream",
     "text": [
      "                                                                                                       \r"
     ]
    },
    {
     "name": "stdout",
     "output_type": "stream",
     "text": [
      "Epoch 19/20, Train Loss: 1.3201, Val Loss: 1.6420, Epoch Time: 179.90s Average Vram Usage: 9602.27MB\n"
     ]
    },
    {
     "name": "stderr",
     "output_type": "stream",
     "text": [
      "                                                                                                       \r"
     ]
    },
    {
     "name": "stdout",
     "output_type": "stream",
     "text": [
      "Epoch 20/20, Train Loss: 1.3251, Val Loss: 1.6479, Epoch Time: 179.95s Average Vram Usage: 9602.27MB\n",
      "Generated text [\n",
      "\n",
      "GREMIO:\n",
      "Good morrow, neighbour Baptista.\n",
      "\n",
      "BAPTISTA:\n",
      "Good morro]:\n",
      "--------------------------------------------------\n",
      "\n",
      "\n",
      "GREMIO:\n",
      "Good morrow, neighbour Baptista.\n",
      "\n",
      "BAPTISTA:\n",
      "Good morrow, ha' speaks; if you to the shoulder-but of\n",
      "converse I pursuit you know I:fead away;\n",
      "And thou keeps my kneel on the dack like love.\n",
      "As villains legiving up, that hath strikes my sing,\n",
      "And read yours--Not sproud, and the lasts of well.\n",
      "\n",
      "AUTOLYCUS:\n",
      "He appears! But the letter of marrumnazes,\n",
      "A know a nostical!\n",
      "\n",
      "BRUTUS:\n",
      "You'll deep thee spall gone:\n",
      "I'll say you perform, then? Thinkling this death\n",
      "Have fellows without as little interced thee,\n",
      "And all thy decker senting valoud day?\n",
      "\n",
      "PLINCE EDWARD:\n",
      "Ha\n"
     ]
    },
    {
     "data": {
      "image/png": "[encoded data removed]",
      "text/plain": [
       "<Figure size 1000x500 with 1 Axes>"
      ]
     },
     "metadata": {},
     "output_type": "display_data"
    },
    {
     "data": {
      "image/png": "[encoded data removed]",
      "text/plain": [
       "<Figure size 2000x500 with 2 Axes>"
      ]
     },
     "metadata": {},
     "output_type": "display_data"
    }
   ],
   "source": [
    "train_and_test(\"mamba\", mamba, start_text)"
   ]
  },
  {
   "cell_type": "markdown",
   "id": "5e6970ed",
   "metadata": {},
   "source": [
    "- 공식 코드에서 사용한 triton 기반의 fused kernel을 이용한 연산을 하지 않으면 dA 연산 과젇에서 폭주가 발생해 loss가 nan이 되며 문제가 발생\n",
    "  - 이를 해결하기 위해 lr 조정, gradient clipping, scheduler 등을 적용하고, amp 연산을 제외하더라도 마찬가지로 문제가 발생함\n",
    "  - 결국 해당 문제가 발생하기 전에 학습을 종료해야함(그럴 경우 여타 비교군 모델에 비해 성능이 떨어짐)\n",
    "  - 또한 재귀적으로 수행되는 해당 작업(for-loop, cumprod, cumsum)들로 인해 논문에서 제시한 바와 달리 Transformer에 비해 더욱 느리고, 성능이 떨어지는 문제가 발생함"
   ]
  },
  {
   "cell_type": "code",
   "execution_count": 41,
   "id": "516525fa",
   "metadata": {},
   "outputs": [],
   "source": [
    "# !pip install causal-conv1d mamba-ssm"
   ]
  },
  {
   "cell_type": "markdown",
   "id": "8386a3af",
   "metadata": {},
   "source": [
    "- 하루를 넘게 기다려도 위 방법으로 mamba-ssm 설치가 안됨. 'Getting requirements to build wheel ... \\'에서 넘어가질 않으며, 오히려 중간에 서버가 다운되는 현상 발생"
   ]
  }
 ],
 "metadata": {
  "accelerator": "GPU",
  "colab": {
   "gpuType": "T4",
   "provenance": []
  },
  "kernelspec": {
   "display_name": "Python 3",
   "name": "python3"
  },
  "language_info": {
   "codemirror_mode": {
    "name": "ipython",
    "version": 3
   },
   "file_extension": ".py",
   "mimetype": "text/x-python",
   "name": "python",
   "nbconvert_exporter": "python",
   "pygments_lexer": "ipython3",
   "version": "3.10.12"
  }
 },
 "nbformat": 4,
 "nbformat_minor": 5
}
