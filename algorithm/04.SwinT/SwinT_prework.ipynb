{
 "cells": [
  {
   "cell_type": "code",
   "execution_count": 1,
   "metadata": {},
   "outputs": [
    {
     "name": "stderr",
     "output_type": "stream",
     "text": [
      "/usr/local/lib/python3.10/dist-packages/tqdm/auto.py:21: TqdmWarning: IProgress not found. Please update jupyter and ipywidgets. See https://ipywidgets.readthedocs.io/en/stable/user_install.html\n",
      "  from .autonotebook import tqdm as notebook_tqdm\n"
     ]
    },
    {
     "name": "stdout",
     "output_type": "stream",
     "text": [
      "\n",
      "【 swin 】\n",
      " ┠ embeddings\n",
      " ┃ └ patch_embeddings\n",
      " ┃ └ norm\n",
      " ┃ └ dropout\n",
      " ┠ encoder\n",
      " ┃ └ layers\n",
      " ┠ layernorm\n",
      " ┠ pooler\n",
      "\n",
      "【 classifier 】\n"
     ]
    }
   ],
   "source": [
    "from transformers import SwinForImageClassification\n",
    "\n",
    "model = SwinForImageClassification.from_pretrained(\n",
    "    pretrained_model_name_or_path='microsoft/swin-tiny-patch4-window7-224',\n",
    "    num_labels=1000,\n",
    "    ignore_mismatched_sizes=True,    \n",
    ")\n",
    "\n",
    "for main_name, main_module in model.named_children():\n",
    "    print(\"\\n【\", main_name, \"】\")\n",
    "    for sub_name, sub_module in main_module.named_children():\n",
    "        print(\" ┠\", sub_name)\n",
    "        for ssub_name, ssub_module in sub_module.named_children():\n",
    "            print(\" ┃ └\", ssub_name)"
   ]
  },
  {
   "cell_type": "code",
   "execution_count": 2,
   "metadata": {},
   "outputs": [
    {
     "data": {
      "text/plain": [
       "SwinEmbeddings(\n",
       "  (patch_embeddings): SwinPatchEmbeddings(\n",
       "    (projection): Conv2d(3, 96, kernel_size=(4, 4), stride=(4, 4))\n",
       "  )\n",
       "  (norm): LayerNorm((96,), eps=1e-05, elementwise_affine=True)\n",
       "  (dropout): Dropout(p=0.0, inplace=False)\n",
       ")"
      ]
     },
     "execution_count": 2,
     "metadata": {},
     "output_type": "execute_result"
    }
   ],
   "source": [
    "model.swin.embeddings"
   ]
  },
  {
   "cell_type": "code",
   "execution_count": 3,
   "metadata": {},
   "outputs": [
    {
     "data": {
      "text/plain": [
       "tensor([[[ 1.8002e-01,  1.1153e+00, -7.3518e-02,  ...,  5.4042e-02,\n",
       "           1.4729e-01,  2.8756e-01],\n",
       "         [ 2.4254e-01,  1.1437e+00,  2.0761e-01,  ..., -1.1001e-03,\n",
       "           1.2255e-01,  2.7576e-01],\n",
       "         [ 1.3412e-01,  1.1595e+00, -6.9756e-03,  ..., -5.6498e-02,\n",
       "           1.7086e-01,  1.2430e-01],\n",
       "         ...,\n",
       "         [ 1.2358e-01,  1.1057e+00,  1.3460e-01,  ..., -4.4163e-03,\n",
       "           2.1940e-01,  3.3055e-01],\n",
       "         [ 2.8840e-01,  1.1491e+00,  2.5101e-02,  ..., -7.4145e-02,\n",
       "           1.2188e-01,  2.4401e-01],\n",
       "         [ 1.8269e-01,  1.1510e+00, -8.2024e-02,  ..., -2.2320e-01,\n",
       "           1.6736e-01,  2.7984e-01]],\n",
       "\n",
       "        [[ 3.9434e-01,  1.1263e+00, -1.5684e-02,  ..., -9.8119e-02,\n",
       "           2.0059e-01,  2.5339e-01],\n",
       "         [ 1.9995e-01,  1.1400e+00,  8.0658e-02,  ..., -1.0614e-01,\n",
       "           2.5817e-01,  2.6667e-01],\n",
       "         [ 3.5540e-01,  1.1370e+00,  8.5421e-02,  ..., -1.3956e-03,\n",
       "           3.2202e-02,  8.3148e-02],\n",
       "         ...,\n",
       "         [ 2.7143e-01,  1.1537e+00, -2.6501e-02,  ..., -1.6661e-02,\n",
       "           1.4195e-01,  1.5926e-01],\n",
       "         [ 2.0475e-01,  1.1214e+00, -7.2531e-02,  ..., -1.8111e-01,\n",
       "           2.2771e-01,  3.6362e-01],\n",
       "         [ 2.7200e-01,  1.1613e+00,  3.1306e-03,  ..., -8.9595e-02,\n",
       "           1.8262e-01,  1.3118e-01]]], grad_fn=<TransposeBackward0>)"
      ]
     },
     "execution_count": 3,
     "metadata": {},
     "output_type": "execute_result"
    }
   ],
   "source": [
    "import torch\n",
    "sample = torch.rand((2, 3,224,224), dtype=torch.float32)\n",
    "output, shape = model.swin.embeddings.patch_embeddings(sample)\n",
    "output"
   ]
  },
  {
   "cell_type": "code",
   "execution_count": 4,
   "metadata": {},
   "outputs": [
    {
     "data": {
      "text/plain": [
       "SwinImageClassifierOutput(loss=None, logits=tensor([[-0.1210,  0.4052,  0.2679,  ..., -0.2080,  0.1818,  0.3028],\n",
       "        [-0.1520,  0.4044,  0.3013,  ..., -0.2082,  0.1786,  0.3034]],\n",
       "       grad_fn=<AddmmBackward0>), hidden_states=None, attentions=None, reshaped_hidden_states=None)"
      ]
     },
     "execution_count": 4,
     "metadata": {},
     "output_type": "execute_result"
    }
   ],
   "source": [
    "output = model(sample)\n",
    "output"
   ]
  },
  {
   "cell_type": "code",
   "execution_count": 5,
   "metadata": {},
   "outputs": [
    {
     "data": {
      "text/plain": [
       "torch.Size([2, 1000])"
      ]
     },
     "execution_count": 5,
     "metadata": {},
     "output_type": "execute_result"
    }
   ],
   "source": [
    "output.logits.shape"
   ]
  },
  {
   "cell_type": "code",
   "execution_count": 6,
   "metadata": {},
   "outputs": [
    {
     "data": {
      "text/plain": [
       "AdaptiveAvgPool1d(output_size=1)"
      ]
     },
     "execution_count": 6,
     "metadata": {},
     "output_type": "execute_result"
    }
   ],
   "source": [
    "model.swin.pooler"
   ]
  },
  {
   "cell_type": "code",
   "execution_count": 7,
   "metadata": {},
   "outputs": [
    {
     "data": {
      "text/plain": [
       "Linear(in_features=768, out_features=1000, bias=True)"
      ]
     },
     "execution_count": 7,
     "metadata": {},
     "output_type": "execute_result"
    }
   ],
   "source": [
    "model.classifier"
   ]
  }
 ],
 "metadata": {
  "kernelspec": {
   "display_name": "Python 3",
   "language": "python",
   "name": "python3"
  },
  "language_info": {
   "codemirror_mode": {
    "name": "ipython",
    "version": 3
   },
   "file_extension": ".py",
   "mimetype": "text/x-python",
   "name": "python",
   "nbconvert_exporter": "python",
   "pygments_lexer": "ipython3",
   "version": "3.10.12"
  }
 },
 "nbformat": 4,
 "nbformat_minor": 2
}
