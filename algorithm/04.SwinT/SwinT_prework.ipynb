{
 "cells": [
  {
   "cell_type": "code",
   "execution_count": 10,
   "metadata": {},
   "outputs": [
    {
     "name": "stderr",
     "output_type": "stream",
     "text": [
      "Some weights of SwinForImageClassification were not initialized from the model checkpoint at microsoft/swin-tiny-patch4-window7-224 and are newly initialized because the shapes did not match:\n",
      "- classifier.bias: found shape torch.Size([1000]) in the checkpoint and torch.Size([100]) in the model instantiated\n",
      "- classifier.weight: found shape torch.Size([1000, 768]) in the checkpoint and torch.Size([100, 768]) in the model instantiated\n",
      "You should probably TRAIN this model on a down-stream task to be able to use it for predictions and inference.\n"
     ]
    },
    {
     "name": "stdout",
     "output_type": "stream",
     "text": [
      "====================\n",
      "\n",
      "Model Structure\n",
      "\n",
      "====================\n",
      "\n",
      "【 swin 】\n",
      " ┠ embeddings\n",
      " ┃ └ patch_embeddings\n",
      " ┃ └ norm\n",
      " ┃ └ dropout\n",
      " ┠ encoder\n",
      " ┃ └ layers\n",
      " ┠ layernorm\n",
      " ┠ pooler\n",
      "\n",
      "【 classifier 】\n"
     ]
    }
   ],
   "source": [
    "from transformers import SwinForImageClassification\n",
    "\n",
    "model = SwinForImageClassification.from_pretrained(\n",
    "    pretrained_model_name_or_path='microsoft/swin-tiny-patch4-window7-224',\n",
    "    num_labels=100,\n",
    "    ignore_mismatched_sizes=True,    \n",
    ")\n",
    "\n",
    "print('='*20)\n",
    "print('\\nModel Structure\\n')\n",
    "print('='*20)\n",
    "for main_name, main_module in model.named_children():\n",
    "    print(\"\\n【\", main_name, \"】\")\n",
    "    for sub_name, sub_module in main_module.named_children():\n",
    "        print(\" ┠\", sub_name)\n",
    "        for ssub_name, ssub_module in sub_module.named_children():\n",
    "            print(\" ┃ └\", ssub_name)"
   ]
  },
  {
   "cell_type": "code",
   "execution_count": null,
   "metadata": {},
   "outputs": [],
   "source": []
  }
 ],
 "metadata": {
  "kernelspec": {
   "display_name": "Python 3",
   "language": "python",
   "name": "python3"
  },
  "language_info": {
   "codemirror_mode": {
    "name": "ipython",
    "version": 3
   },
   "file_extension": ".py",
   "mimetype": "text/x-python",
   "name": "python",
   "nbconvert_exporter": "python",
   "pygments_lexer": "ipython3",
   "version": "3.10.12"
  }
 },
 "nbformat": 4,
 "nbformat_minor": 2
}
