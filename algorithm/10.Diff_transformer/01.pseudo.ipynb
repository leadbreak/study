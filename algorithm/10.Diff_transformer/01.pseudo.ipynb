{
 "cells": [
  {
   "cell_type": "code",
   "execution_count": 1,
   "metadata": {},
   "outputs": [],
   "source": [
    "import torch\n",
    "import torch.nn.functional as F\n",
    "import time"
   ]
  },
  {
   "cell_type": "code",
   "execution_count": 2,
   "metadata": {},
   "outputs": [],
   "source": [
    "def attention(X, W_q, W_k, W_v):\n",
    "    # X: [b, n, d_model]\n",
    "    # W_q, W_k, W_v: [d_model, d]\n",
    "    Q = X @ W_q              # [b, n, d]\n",
    "    K = X @ W_k              # [b, n, d]\n",
    "    V = X @ W_v              # [b, n, d]\n",
    "    s = 1 / torch.sqrt(torch.tensor(Q.shape[-1], dtype=torch.float32))\n",
    "    A = (Q @ K.transpose(-2, -1)) * s   # [b, n, n]\n",
    "    return F.softmax(A, dim=-1) @ V     # [b, n, d]"
   ]
  },
  {
   "cell_type": "code",
   "execution_count": 3,
   "metadata": {},
   "outputs": [],
   "source": [
    "def diff_attn(X, W_q, W_k, W_v, lam):\n",
    "    # X: [b, n, d_model]\n",
    "    # W_q, W_k: [d_model, 2*d] -> split 후 각각 [b, n, d]\n",
    "    # W_v: [d_model, 2*d] -> 출력 [b, n, 2*d]\n",
    "    Q = X @ W_q  # [b, n, 2*d]\n",
    "    K = X @ W_k  # [b, n, 2*d]\n",
    "    \n",
    "    # split: 마지막 차원을 절반으로 분할\n",
    "    d = Q.shape[-1] // 2\n",
    "    Q1, Q2 = Q[..., :d], Q[..., d:]\n",
    "    K1, K2 = K[..., :d], K[..., d:]\n",
    "    V = X @ W_v             # [b, n, 2*d]\n",
    "    \n",
    "    s = 1 / torch.sqrt(torch.tensor(d, dtype=torch.float32))\n",
    "    A1 = (Q1 @ K1.transpose(-2, -1)) * s  # [b, n, n]\n",
    "    A2 = (Q2 @ K2.transpose(-2, -1)) * s  # [b, n, n]\n",
    "    \n",
    "    # 두 attention score의 softmax를 계산하고 λ 배 조합한 후 V와 곱함\n",
    "    return (F.softmax(A1, dim=-1) - lam * F.softmax(A2, dim=-1)) @ V  # [b, n, 2*d]"
   ]
  },
  {
   "cell_type": "code",
   "execution_count": 8,
   "metadata": {},
   "outputs": [],
   "source": [
    "def model_init():\n",
    "    # 파라미터 설정\n",
    "    batch_size = 2\n",
    "    n = 10\n",
    "    d_model = 32\n",
    "    d = 16  # standard attention의 출력 차원 (W_q, W_k, W_v: [d_model, d])\n",
    "    \n",
    "    return batch_size, n, d_model, d"
   ]
  },
  {
   "cell_type": "code",
   "execution_count": 9,
   "metadata": {},
   "outputs": [],
   "source": [
    "# 테스트 코드\n",
    "def test_transformer():\n",
    "    torch.manual_seed(0)\n",
    "    batch_size, n, d_model, d = model_init()\n",
    "    \n",
    "    # 일반 Transformer용 가중치: [d_model, d]\n",
    "    W_q_std = torch.randn(d_model, d)\n",
    "    W_k_std = torch.randn(d_model, d)\n",
    "    W_v_std = torch.randn(d_model, d)\n",
    "    \n",
    "    # 입력 X: [batch_size, n, d_model]\n",
    "    X = torch.randn(batch_size, n, d_model)\n",
    "    \n",
    "    # 일반 Attention 테스트\n",
    "    start = time.time()\n",
    "    out_std = attention(X, W_q_std, W_k_std, W_v_std)\n",
    "    elapsed_std = time.time() - start\n",
    "    print(\"일반 Attention 출력 shape:\", out_std.shape)\n",
    "    print(\"일반 Attention 실행 시간:\", elapsed_std)"
   ]
  },
  {
   "cell_type": "code",
   "execution_count": 13,
   "metadata": {},
   "outputs": [],
   "source": [
    "# 테스트 코드\n",
    "def test_diff():\n",
    "    torch.manual_seed(0)\n",
    "    batch_size, n, d_model, d = model_init()\n",
    "    \n",
    "    # Diff Transformer용 가중치:\n",
    "    # W_q, W_k: [d_model, 2*d] (출력 후 두 부분으로 분할)\n",
    "    # W_v: [d_model, 2*d]\n",
    "    W_q_diff = torch.randn(d_model, d)\n",
    "    W_k_diff = torch.randn(d_model, d)\n",
    "    W_v_diff = torch.randn(d_model, d)\n",
    "    \n",
    "    # 입력 X: [batch_size, n, d_model]\n",
    "    X = torch.randn(batch_size, n, d_model)\n",
    "    \n",
    "    # Diff Attention 테스트 (λ = 0.5 예시)\n",
    "    lam = 0.5\n",
    "    start = time.time()\n",
    "    out_diff = diff_attn(X, W_q_diff, W_k_diff, W_v_diff, lam)\n",
    "    elapsed_diff = time.time() - start\n",
    "    print(\"Diff Attention 출력 shape:\", out_diff.shape)\n",
    "    print(\"Diff Attention 실행 시간:\", elapsed_diff)"
   ]
  },
  {
   "cell_type": "code",
   "execution_count": 14,
   "metadata": {},
   "outputs": [
    {
     "name": "stdout",
     "output_type": "stream",
     "text": [
      "일반 Attention 출력 shape: torch.Size([2, 10, 16])\n",
      "일반 Attention 실행 시간: 0.0008032321929931641\n"
     ]
    }
   ],
   "source": [
    "test_transformer()"
   ]
  },
  {
   "cell_type": "code",
   "execution_count": 15,
   "metadata": {},
   "outputs": [
    {
     "name": "stdout",
     "output_type": "stream",
     "text": [
      "Diff Attention 출력 shape: torch.Size([2, 10, 16])\n",
      "Diff Attention 실행 시간: 0.0007767677307128906\n"
     ]
    }
   ],
   "source": [
    "test_diff()"
   ]
  },
  {
   "cell_type": "code",
   "execution_count": 9,
   "metadata": {},
   "outputs": [],
   "source": [
    "# 테스트 코드\n",
    "def simple_test_transformer():\n",
    "    torch.manual_seed(0)\n",
    "    # 파라미터 설정\n",
    "    batch_size = 2\n",
    "    n = 10\n",
    "    d_model = 32\n",
    "    d = 16  # standard attention의 출력 차원 (W_q, W_k, W_v: [d_model, d])\n",
    "    \n",
    "    # 일반 Transformer용 가중치: [d_model, d]\n",
    "    W_q_std = torch.randn(d_model, d)\n",
    "    W_k_std = torch.randn(d_model, d)\n",
    "    W_v_std = torch.randn(d_model, d)\n",
    "    \n",
    "    # 입력 X: [batch_size, n, d_model]\n",
    "    X = torch.randn(batch_size, n, d_model)\n",
    "    \n",
    "    # 일반 Attention 테스트\n",
    "    out_std = attention(X, W_q_std, W_k_std, W_v_std)"
   ]
  },
  {
   "cell_type": "code",
   "execution_count": 13,
   "metadata": {},
   "outputs": [],
   "source": [
    "# 테스트 코드\n",
    "def simple_test_diff():\n",
    "    torch.manual_seed(0)\n",
    "    # 파라미터 설정\n",
    "    batch_size = 2\n",
    "    n = 10\n",
    "    d_model = 32\n",
    "    d = 16  # standard attention의 출력 차원 (W_q, W_k, W_v: [d_model, d])\n",
    "    \n",
    "    # Diff Transformer용 가중치:\n",
    "    # W_q, W_k: [d_model, 2*d] (출력 후 두 부분으로 분할)\n",
    "    # W_v: [d_model, 2*d]\n",
    "    W_q_diff = torch.randn(d_model, d)\n",
    "    W_k_diff = torch.randn(d_model, d)\n",
    "    W_v_diff = torch.randn(d_model, d)\n",
    "    \n",
    "    # 입력 X: [batch_size, n, d_model]\n",
    "    X = torch.randn(batch_size, n, d_model)\n",
    "    \n",
    "    # Diff Attention 테스트 (λ = 0.5 예시)\n",
    "    lam = 0.5\n",
    "    out_diff = diff_attn(X, W_q_diff, W_k_diff, W_v_diff, lam)"
   ]
  },
  {
   "cell_type": "code",
   "execution_count": 11,
   "metadata": {},
   "outputs": [
    {
     "name": "stdout",
     "output_type": "stream",
     "text": [
      "727 μs ± 3.41 μs per loop (mean ± std. dev. of 7 runs, 1,000 loops each)\n"
     ]
    }
   ],
   "source": [
    "%%timeit\n",
    "\n",
    "simple_test_transformer()"
   ]
  },
  {
   "cell_type": "code",
   "execution_count": 14,
   "metadata": {},
   "outputs": [
    {
     "name": "stdout",
     "output_type": "stream",
     "text": [
      "802 μs ± 5.14 μs per loop (mean ± std. dev. of 7 runs, 1,000 loops each)\n"
     ]
    }
   ],
   "source": [
    "%%timeit\n",
    "\n",
    "simple_test_diff()"
   ]
  },
  {
   "cell_type": "code",
   "execution_count": null,
   "metadata": {},
   "outputs": [],
   "source": []
  }
 ],
 "metadata": {
  "kernelspec": {
   "display_name": "Python 3",
   "language": "python",
   "name": "python3"
  },
  "language_info": {
   "codemirror_mode": {
    "name": "ipython",
    "version": 3
   },
   "file_extension": ".py",
   "mimetype": "text/x-python",
   "name": "python",
   "nbconvert_exporter": "python",
   "pygments_lexer": "ipython3",
   "version": "3.10.12"
  }
 },
 "nbformat": 4,
 "nbformat_minor": 2
}
