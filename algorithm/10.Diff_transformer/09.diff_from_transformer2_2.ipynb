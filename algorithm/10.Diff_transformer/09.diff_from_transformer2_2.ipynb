{
 "cells": [
  {
   "cell_type": "markdown",
   "id": "94bebad5",
   "metadata": {},
   "source": [
    "```\n",
    "GQA 유무에 따른 성능 비교\n",
    "with MoE\n",
    "+) 큰 모델로 비교\n",
    "```"
   ]
  },
  {
   "cell_type": "code",
   "execution_count": 1,
   "id": "20ec8bf0",
   "metadata": {
    "id": "20ec8bf0"
   },
   "outputs": [],
   "source": [
    "## Importing Libraries\n",
    "\n",
    "import torch\n",
    "import torch.nn as nn\n",
    "import torch.nn.functional as F\n",
    "from torch.utils.data import Dataset, DataLoader\n",
    "import numpy as np\n",
    "import time\n",
    "import math\n",
    "import matplotlib.pyplot as plt\n",
    "import pandas as pd"
   ]
  },
  {
   "cell_type": "markdown",
   "id": "5a3390f4",
   "metadata": {
    "id": "5a3390f4"
   },
   "source": [
    "## Hyperparameters and Configuration"
   ]
  },
  {
   "cell_type": "code",
   "execution_count": 2,
   "id": "d0c61f36",
   "metadata": {
    "colab": {
     "base_uri": "https://localhost:8080/"
    },
    "executionInfo": {
     "elapsed": 6,
     "status": "ok",
     "timestamp": 1732703737281,
     "user": {
      "displayName": "Hugman Sangkeun Jung",
      "userId": "08689291704194029524"
     },
     "user_tz": -540
    },
    "id": "d0c61f36",
    "outputId": "45d9894c-a14d-4164-9f2d-699025751e72"
   },
   "outputs": [
    {
     "name": "stdout",
     "output_type": "stream",
     "text": [
      "Using device: cuda\n"
     ]
    }
   ],
   "source": [
    "# Modified hyperparameters\n",
    "SEQUENCE_LENGTH = 64\n",
    "\n",
    "EMBEDDING_DIM = 128\n",
    "HIDDEN_DIM = 160\n",
    "\n",
    "# Hyperparameters for Transformer\n",
    "NUM_LAYERS = 4\n",
    "NUM_HEADS = 4\n",
    "FFN_DIM = HIDDEN_DIM\n",
    "DROPOUT = 0.1\n",
    "\n",
    "BATCH_SIZE = 1024\n",
    "EPOCHS = 10\n",
    "LEARNING_RATE = 1e-4\n",
    "VALIDATION_SPLIT = 0.1\n",
    "\n",
    "device = torch.device('cuda' if torch.cuda.is_available() else 'cpu')\n",
    "print(f\"Using device: {device}\")"
   ]
  },
  {
   "cell_type": "code",
   "execution_count": 3,
   "id": "cba3eefc",
   "metadata": {},
   "outputs": [],
   "source": [
    "from dataclasses import dataclass\n",
    "\n",
    "\n",
    "@dataclass\n",
    "class ModelArgs:\n",
    "    DIM = EMBEDDING_DIM\n",
    "    FFN_DIM = FFN_DIM\n",
    "    NUM_HEADS = NUM_HEADS \n",
    "    NUM_LAYERS = NUM_LAYERS\n",
    "\n",
    "    NUM_KV_HEADS = NUM_HEADS\n",
    "    VOCAB_SIZE = SEQUENCE_LENGTH+1\n",
    "    NORM_EPS = 1e-5  # LLaMA: 1e-5\n",
    "    ROPE_THETA = 10000  # LLaMA: 10000\n",
    "\n",
    "    MAX_BATCH_SIZE = BATCH_SIZE\n",
    "    MAX_SEQ_LEN = SEQUENCE_LENGTH  # depending on the DATASET\n",
    "    NUM_KV_HEAD_REP = NUM_HEADS // NUM_KV_HEADS\n",
    "\n",
    "    HEAD_DIM = DIM // NUM_HEADS\n",
    "    DROPOUT = DROPOUT\n",
    "    DEVICE = device"
   ]
  },
  {
   "cell_type": "markdown",
   "id": "89c9b962",
   "metadata": {
    "id": "89c9b962"
   },
   "source": [
    "## Data Preparation\n",
    "\n",
    "We are using the TinyShakespeare dataset, a small character-level text corpus consisting of a subset of Shakespeare's plays. It's often used for testing sequence models, as it includes a rich set of vocabulary and provides a challenging task for next-character prediction."
   ]
  },
  {
   "cell_type": "code",
   "execution_count": 4,
   "id": "089830e2",
   "metadata": {
    "id": "089830e2"
   },
   "outputs": [],
   "source": [
    "## Utility Functions\n",
    "\n",
    "def load_data(filename):\n",
    "    with open(filename, 'r', encoding='utf-8') as f:\n",
    "        return f.read()\n",
    "\n",
    "def create_char_mappings(text):\n",
    "    chars = sorted(list(set(text)))\n",
    "    char_to_idx = {ch: i for i, ch in enumerate(chars)}\n",
    "    idx_to_char = {i: ch for i, ch in enumerate(chars)}\n",
    "    return chars, char_to_idx, idx_to_char"
   ]
  },
  {
   "cell_type": "markdown",
   "id": "30fc6452",
   "metadata": {
    "id": "30fc6452"
   },
   "source": [
    "## Dataset"
   ]
  },
  {
   "cell_type": "code",
   "execution_count": 5,
   "id": "f07670d9",
   "metadata": {
    "id": "f07670d9"
   },
   "outputs": [],
   "source": [
    "class CharDataset(Dataset):\n",
    "    def __init__(self, text, seq_length, char_to_idx):\n",
    "        self.text = text\n",
    "        self.seq_length = seq_length\n",
    "        self.char_to_idx = char_to_idx\n",
    "\n",
    "    def __len__(self):\n",
    "        return len(self.text) - self.seq_length\n",
    "\n",
    "    def __getitem__(self, idx):\n",
    "        x = [self.char_to_idx[ch] for ch in self.text[idx:idx+self.seq_length]]\n",
    "        y = [self.char_to_idx[ch] for ch in self.text[idx+1:idx+self.seq_length+1]]\n",
    "        return torch.tensor(x), torch.tensor(y)"
   ]
  },
  {
   "cell_type": "code",
   "execution_count": 6,
   "id": "9172da13",
   "metadata": {
    "id": "9172da13"
   },
   "outputs": [],
   "source": [
    "def prepare_data(text, seq_length, batch_size, val_split):\n",
    "    chars, char_to_idx, idx_to_char = create_char_mappings(text)\n",
    "\n",
    "    # Split data into train and validation\n",
    "    val_size = int(len(text) * val_split)\n",
    "    train_text, val_text = text[:-val_size], text[-val_size:]\n",
    "\n",
    "    train_dataset = CharDataset(train_text, seq_length, char_to_idx)\n",
    "    val_dataset = CharDataset(val_text, seq_length, char_to_idx)\n",
    "\n",
    "    train_loader = DataLoader(train_dataset, batch_size=batch_size, shuffle=True, num_workers=12, pin_memory=True)\n",
    "    val_loader = DataLoader(val_dataset, batch_size=batch_size, shuffle=False, num_workers=12, pin_memory=True)\n",
    "\n",
    "    return train_loader, val_loader, chars, char_to_idx, idx_to_char"
   ]
  },
  {
   "cell_type": "code",
   "execution_count": 7,
   "id": "nEwKFB_8L6AG",
   "metadata": {
    "colab": {
     "base_uri": "https://localhost:8080/"
    },
    "executionInfo": {
     "elapsed": 3706,
     "status": "ok",
     "timestamp": 1732704246464,
     "user": {
      "displayName": "Hugman Sangkeun Jung",
      "userId": "08689291704194029524"
     },
     "user_tz": -540
    },
    "id": "nEwKFB_8L6AG",
    "outputId": "e75cdff9-3775-461e-d930-0ced534bf74d"
   },
   "outputs": [],
   "source": [
    "# !wget --no-check-certificate 'https://drive.google.com/uc?export=download&id=19zosLuU0z4MxIMKbGVYEGlg52QyfbTIy' -O input.txt"
   ]
  },
  {
   "cell_type": "code",
   "execution_count": 8,
   "id": "47d03398",
   "metadata": {
    "colab": {
     "base_uri": "https://localhost:8080/"
    },
    "executionInfo": {
     "elapsed": 668,
     "status": "ok",
     "timestamp": 1732704255324,
     "user": {
      "displayName": "Hugman Sangkeun Jung",
      "userId": "08689291704194029524"
     },
     "user_tz": -540
    },
    "id": "47d03398",
    "outputId": "f247f5b3-88ff-4ecb-e8a3-4b2e42a2820b"
   },
   "outputs": [
    {
     "name": "stdout",
     "output_type": "stream",
     "text": [
      "Total characters: 1115394\n",
      "Vocabulary size: 65\n",
      "Train dataset size: 1003791\n",
      "Validation dataset size: 111475\n"
     ]
    }
   ],
   "source": [
    "# Load the data\n",
    "text = load_data('./input.txt')\n",
    "train_loader, val_loader, chars, char_to_idx, idx_to_char = prepare_data(text, SEQUENCE_LENGTH, BATCH_SIZE, VALIDATION_SPLIT)\n",
    "vocab_size = len(chars)\n",
    "\n",
    "print(f\"Total characters: {len(text)}\")\n",
    "print(f\"Vocabulary size: {vocab_size}\")\n",
    "print(f\"Train dataset size: {len(train_loader.dataset)}\")\n",
    "print(f\"Validation dataset size: {len(val_loader.dataset)}\")"
   ]
  },
  {
   "cell_type": "markdown",
   "id": "9442b104",
   "metadata": {
    "id": "9442b104"
   },
   "source": [
    "## Data Visualization"
   ]
  },
  {
   "cell_type": "code",
   "execution_count": 9,
   "id": "f1f0a6a1",
   "metadata": {
    "colab": {
     "base_uri": "https://localhost:8080/"
    },
    "executionInfo": {
     "elapsed": 916,
     "status": "ok",
     "timestamp": 1732704257555,
     "user": {
      "displayName": "Hugman Sangkeun Jung",
      "userId": "08689291704194029524"
     },
     "user_tz": -540
    },
    "id": "f1f0a6a1",
    "outputId": "9ef6eb5a-0015-40ad-f143-236e3d38fb7e"
   },
   "outputs": [
    {
     "name": "stdout",
     "output_type": "stream",
     "text": [
      "Input shape: torch.Size([1024, 64])\n",
      "Target shape: torch.Size([1024, 64])\n",
      "Sample 1: ------------------------------\n",
      "Input sequence : rise, and lend thine ear:There is no more but so: say it is don\n",
      "Target sequence: ise, and lend thine ear:There is no more but so: say it is done\n",
      "\n",
      "Sample 2: ------------------------------\n",
      "Input sequence : n I do this, and cannot get a crown?Tut, were it farther off, I\n",
      "Target sequence:  I do this, and cannot get a crown?Tut, were it farther off, I'\n",
      "\n",
      "Sample 3: ------------------------------\n",
      "Input sequence : ine ten times so much.Son:I'll bear thee hence, where I may w\n",
      "Target sequence: ne ten times so much.Son:I'll bear thee hence, where I may we\n",
      "\n"
     ]
    }
   ],
   "source": [
    "# Function to convert index sequence to character sequence\n",
    "def indices_to_text(indices, idx_to_char):\n",
    "    return ''.join([idx_to_char[idx.item()] for idx in indices])\n",
    "\n",
    "# Get a batch of data\n",
    "dataiter = iter(train_loader)\n",
    "batch_x, batch_y = next(dataiter)\n",
    "\n",
    "print(f\"Input shape: {batch_x.shape}\")\n",
    "print(f\"Target shape: {batch_y.shape}\")\n",
    "\n",
    "# Print a few samples from the batch\n",
    "num_samples = 3\n",
    "for i in range(num_samples):\n",
    "    print(f\"Sample {i+1}: ------------------------------\" )\n",
    "    print(\"Input sequence :\", indices_to_text(batch_x[i], idx_to_char).replace('\\n',''))\n",
    "    print(\"Target sequence:\", indices_to_text(batch_y[i], idx_to_char).replace('\\n',''))\n",
    "    print()\n"
   ]
  },
  {
   "cell_type": "markdown",
   "id": "5486f73f",
   "metadata": {
    "id": "5486f73f"
   },
   "source": [
    "## Training Function"
   ]
  },
  {
   "cell_type": "code",
   "execution_count": 10,
   "id": "61a52f82",
   "metadata": {},
   "outputs": [],
   "source": [
    "def print_vram_usage(device=\"cuda\"):\n",
    "    allocated = torch.cuda.memory_allocated(device) / (1024**2)  # in MB\n",
    "    reserved = torch.cuda.memory_reserved(device) / (1024**2)    # in MB\n",
    "    max_allocated = torch.cuda.max_memory_allocated(device) / (1024**2)  # in MB\n",
    "    print(f\"Allocated: {allocated:.2f} MB, Reserved: {reserved:.2f} MB, Max Allocated: {max_allocated:.2f} MB\")"
   ]
  },
  {
   "cell_type": "code",
   "execution_count": 11,
   "id": "59178a11",
   "metadata": {
    "id": "59178a11"
   },
   "outputs": [],
   "source": [
    "def validate(model, dataloader, criterion, device, epoch, step):\n",
    "    model.eval()\n",
    "    losses = []\n",
    "    with torch.inference_mode():\n",
    "        for x, y in dataloader:\n",
    "            x, y = x.to(device), y.to(device)\n",
    "            output, _ = model(x)\n",
    "            loss = criterion(output.view(-1, output.size(-1)), y.view(-1))\n",
    "            losses.append((step, epoch, loss.item()))\n",
    "    return losses"
   ]
  },
  {
   "cell_type": "code",
   "execution_count": 12,
   "id": "ea5e61f5",
   "metadata": {
    "id": "ea5e61f5"
   },
   "outputs": [],
   "source": [
    "from tqdm import tqdm\n",
    "\n",
    "def train(model, dataloader, criterion, optimizer, device, epoch, step, moe_loss_weight=0.05):\n",
    "    model.train()\n",
    "    losses = []\n",
    "    vram_usage = []\n",
    "    scaler = torch.amp.GradScaler('cuda')\n",
    "    pbar = tqdm(dataloader, desc=f\"Epoch {epoch}\", leave=False)\n",
    "    for batch, (x, y) in enumerate(pbar):\n",
    "        x, y = x.to(device), y.to(device)\n",
    "        optimizer.zero_grad()\n",
    "        \n",
    "        with torch.amp.autocast('cuda'):\n",
    "            output, moe_loss = model(x)\n",
    "            loss = criterion(output.view(-1, output.size(-1)), y.view(-1)) + moe_loss_weight * moe_loss\n",
    "            \n",
    "        scaler.scale(loss).backward()\n",
    "        scaler.step(optimizer)\n",
    "        scaler.update()\n",
    "\n",
    "        step += 1\n",
    "        losses.append((step, epoch, loss.item()))\n",
    "        \n",
    "        allocated = torch.cuda.memory_allocated(device) / (1024**2)\n",
    "        vram_usage.append(allocated)\n",
    "        pbar.set_postfix(loss=f'{loss.item():.4f}', step=step, vram=f'{allocated:.2f} MB')\n",
    "    return losses, step, vram_usage"
   ]
  },
  {
   "cell_type": "markdown",
   "id": "cbedfd61",
   "metadata": {
    "id": "cbedfd61"
   },
   "source": [
    "## Generation Function"
   ]
  },
  {
   "cell_type": "code",
   "execution_count": 13,
   "id": "e91075e8",
   "metadata": {
    "id": "e91075e8"
   },
   "outputs": [],
   "source": [
    "def train_model(model, train_loader, val_loader, criterion, optimizer, device, epochs):\n",
    "    all_train_losses = []\n",
    "    all_val_losses = []\n",
    "    all_vram_usages = []\n",
    "    step = 0\n",
    "\n",
    "    for epoch in range(1, epochs + 1):\n",
    "        epoch_start_time = time.time()\n",
    "        # Training phase with tqdm updates\n",
    "        epoch_train_losses, step, vram_usage = train(model, train_loader, criterion, optimizer, device, epoch, step)\n",
    "        all_train_losses.extend(epoch_train_losses)\n",
    "        all_vram_usages.append(vram_usage)\n",
    "        \n",
    "        # Validation phase\n",
    "        epoch_val_losses = validate(model, val_loader, criterion, device, epoch, step)\n",
    "        all_val_losses.extend(epoch_val_losses)\n",
    "        \n",
    "        epoch_time = time.time() - epoch_start_time\n",
    "        print(f'Epoch {epoch}/{epochs}, Train Loss: {epoch_train_losses[-1][2]:.4f}, '\n",
    "              f'Val Loss: {epoch_val_losses[-1][2]:.4f}, Epoch Time: {epoch_time:.2f}s',\n",
    "              f'Average Vram Usage: {np.mean(vram_usage):.2f}MB')\n",
    "\n",
    "    train_losses_df = pd.DataFrame(all_train_losses, columns=['step', 'epoch', 'loss_value'])\n",
    "    val_losses_df = pd.DataFrame(all_val_losses, columns=['step', 'epoch', 'loss_value'])\n",
    "    # average_vram_usage = np.mean(all_vram_usages)\n",
    "    return model, train_losses_df, val_losses_df\n"
   ]
  },
  {
   "cell_type": "code",
   "execution_count": 14,
   "id": "4535c886",
   "metadata": {
    "id": "4535c886"
   },
   "outputs": [],
   "source": [
    "def generate_text(model, char_to_idx, idx_to_char, start_text, device, max_length=500):\n",
    "    model.eval()\n",
    "    current_text = start_text\n",
    "    hidden = None\n",
    "\n",
    "    with torch.no_grad():\n",
    "        for _ in range(max_length):\n",
    "            x = torch.tensor([[char_to_idx[ch] for ch in current_text[-SEQUENCE_LENGTH:]]]).to(device)\n",
    "            output, hidden = model(x, hidden)\n",
    "            probs = torch.softmax(output[0, -1], dim=0)\n",
    "            next_char_idx = torch.multinomial(probs, 1).item()\n",
    "            next_char = idx_to_char[next_char_idx]\n",
    "            current_text += next_char\n",
    "\n",
    "    return current_text"
   ]
  },
  {
   "cell_type": "code",
   "execution_count": 15,
   "id": "6aef1cf9",
   "metadata": {},
   "outputs": [],
   "source": [
    "loss_comparison_dict = {}\n",
    "\n",
    "def add_loss_to_comparison(model_name, train_losses_df, val_losses_df):\n",
    "    \"\"\"\n",
    "    Adds training and validation losses from a model to the comparison dictionary.\n",
    "    \"\"\"\n",
    "    loss_comparison_dict[model_name] = {\n",
    "        'train': train_losses_df,\n",
    "        'val': val_losses_df\n",
    "    }\n",
    "\n",
    "def print_final_losses(loss_dict):\n",
    "    for model_name, losses in loss_dict.items():\n",
    "        train_df = losses['train']\n",
    "        val_df = losses['val']\n",
    "        final_train = train_df.groupby('epoch')['loss_value'].last().iloc[-1]\n",
    "        final_val = val_df.groupby('epoch')['loss_value'].last().iloc[-1]\n",
    "        print(f\"{model_name}: Final Train Loss: {final_train:.4f}, Final Val Loss: {final_val:.4f}\")"
   ]
  },
  {
   "cell_type": "code",
   "execution_count": 16,
   "id": "973b4a80",
   "metadata": {
    "id": "973b4a80"
   },
   "outputs": [],
   "source": [
    "# Function to plot loss curves\n",
    "def plot_loss(train_losses_df, val_losses_df):\n",
    "    plt.figure(figsize=(10, 5))\n",
    "\n",
    "    # Plot training losses\n",
    "    for epoch in train_losses_df['epoch'].unique():\n",
    "        epoch_train_losses = train_losses_df[train_losses_df['epoch'] == epoch]\n",
    "        plt.plot(epoch_train_losses['step'], epoch_train_losses['loss_value'],\n",
    "                 color='blue', alpha=0.3)\n",
    "\n",
    "    # scatter training loss at the end of each epoch\n",
    "    last_train_losses = train_losses_df.groupby('epoch').last().reset_index()\n",
    "    plt.scatter(last_train_losses['step'], last_train_losses['loss_value'],\n",
    "                color='blue')\n",
    "\n",
    "    # Plot and scatter validation loss at the end of each epoch\n",
    "    last_val_losses = val_losses_df.groupby('epoch').last().reset_index()\n",
    "    plt.plot(last_val_losses['step'], last_val_losses['loss_value'],\n",
    "             color='orange', label='Validation Loss')\n",
    "    plt.scatter(last_val_losses['step'], last_val_losses['loss_value'],\n",
    "                color='orange')\n",
    "\n",
    "    plt.xlabel('Steps')\n",
    "    plt.ylabel('Loss')\n",
    "    plt.title('Training and Validation Loss')\n",
    "    plt.legend()\n",
    "    plt.grid(True)\n",
    "    plt.show()\n",
    "\n",
    "# Function to print final loss values\n",
    "def print_final_losses(train_losses_df, val_losses_df):\n",
    "    print(\"Final Training Loss:\", train_losses_df.groupby('epoch')['loss_value'].last().iloc[-1])\n",
    "    print(\"Final Validation Loss:\", val_losses_df.groupby('epoch')['loss_value'].last().iloc[-1])"
   ]
  },
  {
   "cell_type": "code",
   "execution_count": 17,
   "id": "5001e203",
   "metadata": {
    "id": "5001e203"
   },
   "outputs": [],
   "source": [
    "# Function to plot loss curves for multiple models stored in loss_comparison_dict\n",
    "def plot_loss_comparisons():\n",
    "    \"\"\"\n",
    "    Plots the training loss curves and average validation loss per epoch for multiple models added to the loss comparison dictionary.\n",
    "    \"\"\"\n",
    "    plt.figure(figsize=(10, 5))\n",
    "    \n",
    "    # Get the last model in the dictionary (for special final-point highlighting)\n",
    "    last_model_name = list(loss_comparison_dict.keys())[-1]\n",
    "\n",
    "    # Loop through each model in the loss dictionary\n",
    "    for model_name, losses in loss_comparison_dict.items():\n",
    "        train_losses_df = losses['train']\n",
    "        val_losses_df = losses['val']\n",
    "\n",
    "        # Plot training losses for each model\n",
    "        plt.plot(train_losses_df['step'], train_losses_df['loss_value'],\n",
    "                 label=f'{model_name} train', linestyle='-', alpha=0.7)\n",
    "\n",
    "        # Scatter training loss at the end of each epoch\n",
    "        last_train_losses = train_losses_df.groupby('epoch').last().reset_index()\n",
    "        plt.scatter(last_train_losses['step'], last_train_losses['loss_value'], marker='o', s=50)\n",
    "\n",
    "        # Compute average validation loss per epoch (using the last step of each epoch for x-axis)\n",
    "        avg_val_losses = val_losses_df.groupby('epoch').agg({'loss_value': 'mean', 'step': 'last'}).reset_index()\n",
    "        # Scatter the average validation loss for each epoch\n",
    "        plt.scatter(avg_val_losses['step'], avg_val_losses['loss_value'], marker='s', s=50,\n",
    "                    label=f'{model_name} val avg')\n",
    "\n",
    "        # For the last model, highlight the final training loss with a star\n",
    "        if model_name == last_model_name:\n",
    "            final_step = train_losses_df['step'].iloc[-1]\n",
    "            final_loss = train_losses_df['loss_value'].iloc[-1]\n",
    "            plt.scatter(final_step, final_loss, marker='*', s=100, color='red', zorder=5)\n",
    "\n",
    "    plt.xlabel('Steps')\n",
    "    plt.ylabel('Loss')\n",
    "    plt.title('Training Loss Comparison')\n",
    "    plt.legend()  # Legend shows both training and validation average labels\n",
    "    plt.grid(True)\n",
    "    plt.show()\n"
   ]
  },
  {
   "cell_type": "code",
   "execution_count": 18,
   "id": "16777ffd",
   "metadata": {},
   "outputs": [],
   "source": [
    "def plot_separate_train_val(loss_dict):\n",
    "    \"\"\"\n",
    "    모델별 Training Loss와 Validation Loss를 각각 별도의 그래프로 그립니다.\n",
    "    단, Validation Loss는 에포크별 평균으로 계산합니다.\n",
    "    \"\"\"\n",
    "    # 1. Training Loss Plot (원본 그대로)\n",
    "    plt.figure(figsize=(20, 5))\n",
    "    plt.subplot(1, 2, 1)  # 1행 2열 중 첫 번째\n",
    "    for model_name, losses in loss_dict.items():\n",
    "        train_df = losses['train']\n",
    "        steps_train = train_df['step'].values\n",
    "        loss_train = train_df['loss_value'].values\n",
    "        plt.plot(steps_train, loss_train, label=f'{model_name} Train')\n",
    "    plt.title('Training Loss Comparison')\n",
    "    plt.xlabel('Steps')\n",
    "    plt.ylabel('Loss')\n",
    "    plt.legend()\n",
    "    plt.grid(True)\n",
    "\n",
    "    # 2. Validation Loss Plot (에포크별 평균 처리)\n",
    "    plt.subplot(1, 2, 2)  # 1행 2열 중 두 번째\n",
    "    for model_name, losses in loss_dict.items():\n",
    "        val_df = losses['val']\n",
    "        # 에포크별 평균 loss와 마지막 step을 계산\n",
    "        val_avg = val_df.groupby('epoch').agg({'loss_value': 'mean', 'step': 'last'}).reset_index()\n",
    "        plt.plot(val_avg['step'], val_avg['loss_value'], label=f'{model_name} Val')\n",
    "    plt.title('Validation Loss (Epoch Avg) Comparison')\n",
    "    plt.xlabel('Steps')\n",
    "    plt.ylabel('Loss')\n",
    "    plt.legend()\n",
    "    plt.grid(True)\n",
    "\n",
    "    plt.tight_layout()\n",
    "    plt.show()\n"
   ]
  },
  {
   "cell_type": "code",
   "execution_count": 19,
   "id": "3cdc2b88",
   "metadata": {},
   "outputs": [],
   "source": [
    "def generate_text_attention(model, char_to_idx, idx_to_char, start_text, device, max_length=500):\n",
    "    model.eval()\n",
    "    current_text = start_text\n",
    "\n",
    "    with torch.no_grad():\n",
    "        for _ in range(max_length):\n",
    "            # Convert the last sequence of characters to indices and feed it to the model\n",
    "            x = torch.tensor([[char_to_idx[ch] for ch in current_text[-SEQUENCE_LENGTH:]]]).to(device)\n",
    "            output = model(x)[0]  # No hidden state needed for attention-based models\n",
    "            probs = torch.softmax(output[0, -1], dim=0)\n",
    "            next_char_idx = torch.multinomial(probs, 1).item()\n",
    "            next_char = idx_to_char[next_char_idx]\n",
    "            current_text += next_char\n",
    "\n",
    "    return current_text"
   ]
  },
  {
   "cell_type": "code",
   "execution_count": 20,
   "id": "2abd2d77",
   "metadata": {},
   "outputs": [],
   "source": [
    "def train_and_test(model_desc, model):\n",
    "    # Initialize the model\n",
    "    model = model.to(device)\n",
    "    # Use the same optimizer and criterion\n",
    "    criterion = nn.CrossEntropyLoss()\n",
    "    optimizer = torch.optim.AdamW(model.parameters(), lr=LEARNING_RATE)\n",
    "    \n",
    "    # Train the model\n",
    "    trained_model, train_losses_df, val_losses_df = train_model(\n",
    "        model, train_loader, val_loader, criterion, optimizer, device, EPOCHS\n",
    "    )\n",
    "\n",
    "    add_loss_to_comparison(model_desc, train_losses_df, val_losses_df)\n",
    "\n",
    "    # Plot loss comparisons including this model\n",
    "    plot_loss_comparisons()\n",
    "    \n",
    "    plot_separate_train_val(loss_comparison_dict)"
   ]
  },
  {
   "cell_type": "markdown",
   "id": "f169751c",
   "metadata": {},
   "source": [
    "## Model 1: Diff w/ MHA(w/o GQA)"
   ]
  },
  {
   "cell_type": "code",
   "execution_count": 21,
   "id": "4b090898",
   "metadata": {},
   "outputs": [],
   "source": [
    "class RMSNorm(nn.Module):\n",
    "    def __init__(self, dim: int, eps: float = 1e-6):\n",
    "        super().__init__()\n",
    "        self.eps = eps\n",
    "        self.weight = nn.Parameter(torch.ones(dim))\n",
    "    def _norm(self, x: torch.Tensor):\n",
    "        return x * torch.rsqrt(x.pow(2).mean(-1, keepdim=True) + self.eps)\n",
    "    def forward(self, x: torch.Tensor):\n",
    "        return self.weight * self._norm(x.float()).type_as(x)\n",
    "    \n",
    "def precompute_freqs_cis(head_dim: int, seq_len: int, theta: float = 10000.0, device: str = \"cuda\"):\n",
    "    if head_dim % 2 != 0:\n",
    "        raise ValueError(\"head_dim must be even for rotary embeddings.\")\n",
    "    freqs = 1.0 / (theta ** (torch.arange(0, head_dim, 2).float() / head_dim)).to(device)\n",
    "    t = torch.arange(seq_len, device=device, dtype=torch.float32)\n",
    "    freqs = torch.outer(t, freqs)  # [seq_len, head_dim//2]\n",
    "    freqs_cis = torch.polar(torch.ones_like(freqs), freqs)\n",
    "    return freqs_cis  # [seq_len, head_dim // 2]\n",
    "\n",
    "def reshape_for_broadcast(freqs_cis: torch.Tensor, x: torch.Tensor):\n",
    "    L = x.shape[1]\n",
    "    return freqs_cis.view(1, L, 1, x.shape[-1] // 2)  # [1, L, 1, head_dim]\n",
    "\n",
    "def apply_rotary_emb(x: torch.Tensor, device: str = \"cuda\"):\n",
    "    # x: [B, L, 2*heads, D] with even D\n",
    "    _, L, _, D = x.shape\n",
    "    x_complex = torch.view_as_complex(x.float().reshape(*x.shape[:-1], -1, 2))\n",
    "    freqs_cis = precompute_freqs_cis(D, L, device=device)\n",
    "    freqs = reshape_for_broadcast(freqs_cis, x)\n",
    "    x_rotated = x_complex * freqs\n",
    "    x_out = torch.view_as_real(x_rotated).reshape(x.shape)\n",
    "    return x_out.type_as(x).to(device)\n",
    "\n",
    "def repeat_kv(x: torch.Tensor, n_rep: int) -> torch.Tensor:\n",
    "    # x: [B, L, n_kv, d]\n",
    "    B, L, nk, d = x.shape\n",
    "    if n_rep == 1:\n",
    "        return x\n",
    "    return x[:, :, :, None, :].expand(B, L, nk, n_rep, d).reshape(B, L, nk * n_rep, d)\n",
    "\n",
    "class Expert(nn.Module):\n",
    "    def __init__(self, dim, dropout=0.1):\n",
    "        super().__init__()\n",
    "        # 각 전문가의 출력 차원은 입력과 동일하게 설정\n",
    "        self.w1 = nn.Linear(dim, dim, bias=True)\n",
    "        self.w3 = nn.Linear(dim, dim, bias=True)\n",
    "        self.w2 = nn.Linear(dim, dim, bias=True)\n",
    "        self.dropout = nn.Dropout(dropout)\n",
    "        \n",
    "        nn.init.xavier_uniform_(self.w1.weight)\n",
    "        nn.init.xavier_uniform_(self.w2.weight)\n",
    "        nn.init.xavier_uniform_(self.w3.weight)\n",
    "        \n",
    "        nn.init.zeros_(self.w1.bias)\n",
    "        nn.init.zeros_(self.w2.bias)\n",
    "        nn.init.zeros_(self.w3.bias)\n",
    "        \n",
    "    def forward(self, x):\n",
    "        # x: [N, D]\n",
    "        w1_out = F.silu(self.w1(x))\n",
    "        w3_out = self.dropout(self.w3(x))\n",
    "        out = self.w2(w1_out * w3_out)\n",
    "        return out\n",
    "\n",
    "class MoE(nn.Module):\n",
    "    def __init__(self, dim, num_experts=3, topk=2, noise_std=0.1, dropout=0.1):\n",
    "        super().__init__()\n",
    "        self.num_experts = num_experts\n",
    "        self.topk = topk\n",
    "        self.noise_std = noise_std\n",
    "\n",
    "        self.gate = nn.Linear(dim, num_experts)\n",
    "        self.experts = nn.ModuleList([\n",
    "            Expert(dim, dropout=dropout) for _ in range(num_experts)\n",
    "        ])\n",
    "\n",
    "    def forward(self, x):\n",
    "        gate_logits = self.gate(x)\n",
    "        if self.noise_std > 0:\n",
    "            gate_logits += torch.randn_like(gate_logits) * self.noise_std\n",
    "        gate_probs = F.softmax(gate_logits, dim=-1)\n",
    "        load_balance_loss = ((gate_probs.mean(0) - 1/self.num_experts)**2).mean() * self.num_experts\n",
    "\n",
    "        topk_probs, topk_indices = torch.topk(gate_probs, self.topk, dim=-1)  # [B, L, topk]\n",
    "\n",
    "        expert_outputs = torch.stack([expert(x) for expert in self.experts], dim=-1)  # [B, L, D, num_experts]\n",
    "\n",
    "        gate_mask = torch.zeros_like(gate_probs).scatter_(-1, topk_indices, topk_probs)  # [B, L, num_experts]\n",
    "        gate_mask = gate_mask.unsqueeze(2)  # [B, L, 1, num_experts]\n",
    "\n",
    "        output = torch.matmul(gate_mask, expert_outputs.transpose(-1, -2)).squeeze(2)  # [B, L, D]\n",
    "\n",
    "        return output, load_balance_loss\n",
    "\n",
    "\n",
    "class DiffSelfAttention(nn.Module):\n",
    "    def __init__(self, n_heads, n_kv_heads, n_rep, dim, dropout, batch, seq_len, device, depth=0):\n",
    "        super().__init__()\n",
    "        self.n_heads_q = n_heads\n",
    "        self.n_kv_heads = n_kv_heads\n",
    "        self.n_rep = n_rep  # typically n_heads // n_kv_heads\n",
    "        self.head_dim = dim // n_heads  # standard head dimension\n",
    "\n",
    "        self.wq = nn.Linear(dim, 2 * n_heads * self.head_dim, bias=False)\n",
    "        self.wk = nn.Linear(dim, 2 * n_kv_heads * self.head_dim, bias=False)\n",
    "        self.wv = nn.Linear(dim, 2 * n_kv_heads * self.head_dim, bias=False)\n",
    "        self.wo = nn.Linear(2 * n_heads * self.head_dim, dim, bias=False)\n",
    "        self.attn_dropout = dropout\n",
    "\n",
    "        self.cache_k = torch.zeros(batch, 2 * n_heads, seq_len, self.head_dim, device=device)\n",
    "        self.cache_v = torch.zeros(batch, n_heads, seq_len, 2 * self.head_dim, device=device)\n",
    "\n",
    "        self.lambda_init = 0.8 - 0.6 * math.exp(-0.3 * depth)\n",
    "        self.lambda_q1 = nn.Parameter(torch.zeros(self.head_dim, dtype=torch.float32).normal_(mean=0, std=0.1))\n",
    "        self.lambda_k1 = nn.Parameter(torch.zeros(self.head_dim, dtype=torch.float32).normal_(mean=0, std=0.1))\n",
    "        self.lambda_q2 = nn.Parameter(torch.zeros(self.head_dim, dtype=torch.float32).normal_(mean=0, std=0.1))\n",
    "        self.lambda_k2 = nn.Parameter(torch.zeros(self.head_dim, dtype=torch.float32).normal_(mean=0, std=0.1))\n",
    "        \n",
    "        self.norm = RMSNorm(2*self.head_dim)\n",
    "\n",
    "    def forward(self, x: torch.Tensor, start_pos: int, mask, return_attn=False):\n",
    "        B, L, _ = x.shape\n",
    "        src_len = trg_len = L\n",
    "        offset = start_pos\n",
    "        \n",
    "        xq = self.wq(x).view(B, trg_len, 2 * self.n_heads_q, self.head_dim)\n",
    "        xk = self.wk(x).view(B, src_len, 2 * self.n_kv_heads, self.head_dim)\n",
    "        xv = self.wv(x).view(B, src_len, self.n_kv_heads, 2 * self.head_dim)\n",
    "        \n",
    "        xq = apply_rotary_emb(xq, device=x.device)\n",
    "        xk = apply_rotary_emb(xk, device=x.device)\n",
    "        \n",
    "        xq = xq.transpose(1, 2)\n",
    "        xk = repeat_kv(xk, self.n_rep).transpose(1, 2)\n",
    "        xv = repeat_kv(xv, self.n_rep).transpose(1, 2)\n",
    "        \n",
    "        self.cache_k[:B, :, offset:offset+L] = xk\n",
    "        self.cache_v[:B, :, offset:offset+L] = xv\n",
    "        \n",
    "        scaling = 1 / math.sqrt(self.head_dim)\n",
    "        xq *= scaling\n",
    "        \n",
    "        attn_weights = torch.matmul(xq, xk.transpose(-1, -2))\n",
    "        \n",
    "        if mask is None:\n",
    "            mask = torch.triu(\n",
    "                torch.zeros([L, L]).float().fill_(float(\"-inf\")).type_as(attn_weights),\n",
    "                1 + offset,\n",
    "            )\n",
    "        \n",
    "        attn_weights = torch.nan_to_num(attn_weights)\n",
    "        attn_weights += mask\n",
    "        attn_weights = F.softmax(attn_weights, dim=-1).type_as(attn_weights)\n",
    "        attn_weights = attn_weights.view(B, self.n_heads_q, 2, trg_len, src_len)\n",
    "        \n",
    "        lambda_1 = torch.exp(torch.sum(self.lambda_q1 * self.lambda_k1, dim=-1).float()).type_as(xq)\n",
    "        lambda_2 = torch.exp(torch.sum(self.lambda_q2 * self.lambda_k2, dim=-1).float()).type_as(xq)\n",
    "        lambda_full = lambda_1 - lambda_2 + self.lambda_init\n",
    "        \n",
    "        attn1 = attn_weights[:,:,0]\n",
    "        attn2 = attn_weights[:,:,1]\n",
    "        \n",
    "        attn_weights = attn1 - lambda_full * attn2\n",
    "        attn_weights = F.dropout(attn_weights, self.attn_dropout, training=self.training)\n",
    "        \n",
    "        attn = torch.matmul(attn_weights, xv)\n",
    "        attn = self.norm(attn)\n",
    "        attn = attn * (1 - self.lambda_init)\n",
    "        attn = attn.transpose(1, 2).contiguous().view(B, L, -1)\n",
    "        attn_output = self.wo(attn)\n",
    "        \n",
    "        if return_attn:\n",
    "            return attn_output, [attn1, attn2, lambda_full * attn2, attn_weights]\n",
    "        else:\n",
    "            return attn_output\n",
    "\n",
    "class TransformerBlock(nn.Module):\n",
    "    def __init__(self, args, depth: int = 0, num_experts=5, topk=2, noise_std=0.1):\n",
    "        super().__init__()\n",
    "        self.attn_norm = RMSNorm(args.DIM, eps=args.NORM_EPS)\n",
    "        self.ffn_norm = RMSNorm(args.DIM, eps=args.NORM_EPS)\n",
    "        self.attention = DiffSelfAttention(\n",
    "            n_heads=args.NUM_HEADS,\n",
    "            n_kv_heads=args.NUM_KV_HEADS if args.NUM_KV_HEADS is not None else args.NUM_HEADS,\n",
    "            n_rep=args.NUM_KV_HEAD_REP,\n",
    "            dim=args.DIM,\n",
    "            dropout=args.DROPOUT,\n",
    "            batch=args.MAX_BATCH_SIZE,\n",
    "            seq_len=args.MAX_SEQ_LEN,\n",
    "            device=args.DEVICE,\n",
    "            depth=depth\n",
    "        )\n",
    "        \n",
    "        self.ffn = MoE(\n",
    "            dim=args.DIM,\n",
    "            num_experts=num_experts,\n",
    "            topk=topk,\n",
    "            noise_std=noise_std,\n",
    "            dropout=args.DROPOUT\n",
    "        )\n",
    "\n",
    "        self.res_dropout = nn.Dropout(args.DROPOUT)\n",
    "        \n",
    "    def forward(self, x: torch.Tensor, start_pos: int, mask, return_attn=False):\n",
    "        if return_attn:\n",
    "            attn_out, attn_map = self.attention(self.attn_norm(x), start_pos, mask, return_attn=True)\n",
    "            h = x + self.res_dropout(attn_out)\n",
    "            ffn_out, moe_loss = self.ffn(self.ffn_norm(h))\n",
    "            h = h + self.res_dropout(ffn_out)\n",
    "            return h, attn_map, moe_loss\n",
    "        else:\n",
    "            h = x + self.res_dropout(self.attention(self.attn_norm(x), start_pos, mask))\n",
    "            ffn_out, moe_loss = self.ffn(self.ffn_norm(h))\n",
    "            h = h + self.res_dropout(ffn_out)\n",
    "            return h, moe_loss\n",
    "        \n",
    "class DiffTransformer(nn.Module):\n",
    "    def __init__(self, args, num_experts=5, topk=1, noise_std=0.1):\n",
    "        super().__init__()\n",
    "        self.args = args\n",
    "        self.tok_embeddings = nn.Embedding(args.VOCAB_SIZE, args.DIM)\n",
    "        self.layers = nn.ModuleList([\n",
    "            TransformerBlock(args, depth=i, num_experts=num_experts, topk=topk, noise_std=noise_std)\n",
    "            for i in range(args.NUM_LAYERS)\n",
    "        ])\n",
    "        self.norm = RMSNorm(args.DIM, eps=args.NORM_EPS)\n",
    "        self.output = nn.Linear(args.DIM, args.VOCAB_SIZE, bias=False)\n",
    "        self.device = args.DEVICE\n",
    "\n",
    "    def forward(self, x: torch.Tensor, start_pos: int = 0, return_attn=False):\n",
    "        B, L = x.shape\n",
    "        h = self.tok_embeddings(x)\n",
    "        mask = None\n",
    "        if L > 1:\n",
    "            mask = torch.triu(torch.full((L, L), float('-inf'), device=self.device), diagonal=1)\n",
    "        attn_maps, moe_losses = [], []\n",
    "        for layer in self.layers:\n",
    "            if return_attn:\n",
    "                h, attn_map, moe_loss = layer(h, start_pos, mask, return_attn=True)\n",
    "                attn_maps.append(attn_map)\n",
    "                moe_losses.append(moe_loss)\n",
    "            else:\n",
    "                h, moe_loss = layer(h, start_pos, mask)\n",
    "                moe_losses.append(moe_loss)\n",
    "        logits = self.output(self.norm(h)).float()\n",
    "        total_moe_loss = sum(moe_losses)\n",
    "        if return_attn:\n",
    "            return logits, attn_maps, total_moe_loss\n",
    "        return logits, total_moe_loss\n"
   ]
  },
  {
   "cell_type": "code",
   "execution_count": 22,
   "id": "3c60df16",
   "metadata": {},
   "outputs": [
    {
     "data": {
      "text/plain": [
       "DiffTransformer(\n",
       "  (tok_embeddings): Embedding(65, 128)\n",
       "  (layers): ModuleList(\n",
       "    (0-3): 4 x TransformerBlock(\n",
       "      (attn_norm): RMSNorm()\n",
       "      (ffn_norm): RMSNorm()\n",
       "      (attention): DiffSelfAttention(\n",
       "        (wq): Linear(in_features=128, out_features=256, bias=False)\n",
       "        (wk): Linear(in_features=128, out_features=256, bias=False)\n",
       "        (wv): Linear(in_features=128, out_features=256, bias=False)\n",
       "        (wo): Linear(in_features=256, out_features=128, bias=False)\n",
       "        (norm): RMSNorm()\n",
       "      )\n",
       "      (ffn): MoE(\n",
       "        (gate): Linear(in_features=128, out_features=5, bias=True)\n",
       "        (experts): ModuleList(\n",
       "          (0-4): 5 x Expert(\n",
       "            (w1): Linear(in_features=128, out_features=128, bias=True)\n",
       "            (w3): Linear(in_features=128, out_features=128, bias=True)\n",
       "            (w2): Linear(in_features=128, out_features=128, bias=True)\n",
       "            (dropout): Dropout(p=0.1, inplace=False)\n",
       "          )\n",
       "        )\n",
       "      )\n",
       "      (res_dropout): Dropout(p=0.1, inplace=False)\n",
       "    )\n",
       "  )\n",
       "  (norm): RMSNorm()\n",
       "  (output): Linear(in_features=128, out_features=65, bias=False)\n",
       ")"
      ]
     },
     "execution_count": 22,
     "metadata": {},
     "output_type": "execute_result"
    }
   ],
   "source": [
    "PARAMS = ModelArgs()\n",
    "diff1 = DiffTransformer(PARAMS).to(device)\n",
    "diff1"
   ]
  },
  {
   "cell_type": "code",
   "execution_count": 23,
   "id": "e1ecdc1f",
   "metadata": {},
   "outputs": [
    {
     "data": {
      "text/plain": [
       "===============================================================================================\n",
       "Layer (type:depth-idx)                        Output Shape              Param #\n",
       "===============================================================================================\n",
       "DiffTransformer                               [1024, 64, 65]            --\n",
       "├─Embedding: 1-1                              [1024, 64, 128]           8,320\n",
       "├─ModuleList: 1-2                             --                        --\n",
       "│    └─TransformerBlock: 2-1                  [1024, 64, 128]           --\n",
       "│    │    └─RMSNorm: 3-1                      [1024, 64, 128]           128\n",
       "│    │    └─DiffSelfAttention: 3-2            [1024, 64, 128]           131,264\n",
       "│    │    └─Dropout: 3-3                      [1024, 64, 128]           --\n",
       "│    │    └─RMSNorm: 3-4                      [1024, 64, 128]           128\n",
       "│    │    └─MoE: 3-5                          [1024, 64, 128]           248,325\n",
       "│    │    └─Dropout: 3-6                      [1024, 64, 128]           --\n",
       "│    └─TransformerBlock: 2-2                  [1024, 64, 128]           --\n",
       "│    │    └─RMSNorm: 3-7                      [1024, 64, 128]           128\n",
       "│    │    └─DiffSelfAttention: 3-8            [1024, 64, 128]           131,264\n",
       "│    │    └─Dropout: 3-9                      [1024, 64, 128]           --\n",
       "│    │    └─RMSNorm: 3-10                     [1024, 64, 128]           128\n",
       "│    │    └─MoE: 3-11                         [1024, 64, 128]           248,325\n",
       "│    │    └─Dropout: 3-12                     [1024, 64, 128]           --\n",
       "│    └─TransformerBlock: 2-3                  [1024, 64, 128]           --\n",
       "│    │    └─RMSNorm: 3-13                     [1024, 64, 128]           128\n",
       "│    │    └─DiffSelfAttention: 3-14           [1024, 64, 128]           131,264\n",
       "│    │    └─Dropout: 3-15                     [1024, 64, 128]           --\n",
       "│    │    └─RMSNorm: 3-16                     [1024, 64, 128]           128\n",
       "│    │    └─MoE: 3-17                         [1024, 64, 128]           248,325\n",
       "│    │    └─Dropout: 3-18                     [1024, 64, 128]           --\n",
       "│    └─TransformerBlock: 2-4                  [1024, 64, 128]           --\n",
       "│    │    └─RMSNorm: 3-19                     [1024, 64, 128]           128\n",
       "│    │    └─DiffSelfAttention: 3-20           [1024, 64, 128]           131,264\n",
       "│    │    └─Dropout: 3-21                     [1024, 64, 128]           --\n",
       "│    │    └─RMSNorm: 3-22                     [1024, 64, 128]           128\n",
       "│    │    └─MoE: 3-23                         [1024, 64, 128]           248,325\n",
       "│    │    └─Dropout: 3-24                     [1024, 64, 128]           --\n",
       "├─RMSNorm: 1-3                                [1024, 64, 128]           128\n",
       "├─Linear: 1-4                                 [1024, 64, 65]            8,320\n",
       "===============================================================================================\n",
       "Total params: 1,536,148\n",
       "Trainable params: 1,536,148\n",
       "Non-trainable params: 0\n",
       "Total mult-adds (G): 1.57\n",
       "===============================================================================================\n",
       "Input size (MB): 0.52\n",
       "Forward/backward pass size (MB): 7158.10\n",
       "Params size (MB): 6.14\n",
       "Estimated Total Size (MB): 7164.77\n",
       "==============================================================================================="
      ]
     },
     "execution_count": 23,
     "metadata": {},
     "output_type": "execute_result"
    }
   ],
   "source": [
    "from torchinfo import summary\n",
    "\n",
    "# Describe the model\n",
    "summary(diff1.to(device), input_size=(BATCH_SIZE, SEQUENCE_LENGTH), dtypes=[torch.long])"
   ]
  },
  {
   "cell_type": "code",
   "execution_count": 24,
   "id": "6fc9c02e",
   "metadata": {},
   "outputs": [
    {
     "name": "stderr",
     "output_type": "stream",
     "text": [
      "                                                                                                 \r"
     ]
    },
    {
     "name": "stdout",
     "output_type": "stream",
     "text": [
      "Epoch 1/10, Train Loss: 1.7806, Val Loss: 1.8931, Epoch Time: 197.31s Average Vram Usage: 568.96MB\n"
     ]
    },
    {
     "name": "stderr",
     "output_type": "stream",
     "text": [
      "                                                                                                  \r"
     ]
    },
    {
     "name": "stdout",
     "output_type": "stream",
     "text": [
      "Epoch 2/10, Train Loss: 1.5782, Val Loss: 1.8226, Epoch Time: 196.06s Average Vram Usage: 568.96MB\n"
     ]
    },
    {
     "name": "stderr",
     "output_type": "stream",
     "text": [
      "                                                                                                  \r"
     ]
    },
    {
     "name": "stdout",
     "output_type": "stream",
     "text": [
      "Epoch 3/10, Train Loss: 1.4951, Val Loss: 1.7943, Epoch Time: 196.54s Average Vram Usage: 568.96MB\n"
     ]
    },
    {
     "name": "stderr",
     "output_type": "stream",
     "text": [
      "                                                                                                  \r"
     ]
    },
    {
     "name": "stdout",
     "output_type": "stream",
     "text": [
      "Epoch 4/10, Train Loss: 1.4466, Val Loss: 1.7876, Epoch Time: 198.67s Average Vram Usage: 568.96MB\n"
     ]
    },
    {
     "name": "stderr",
     "output_type": "stream",
     "text": [
      "                                                                                                  \r"
     ]
    },
    {
     "name": "stdout",
     "output_type": "stream",
     "text": [
      "Epoch 5/10, Train Loss: 1.4020, Val Loss: 1.7847, Epoch Time: 197.34s Average Vram Usage: 568.96MB\n"
     ]
    },
    {
     "name": "stderr",
     "output_type": "stream",
     "text": [
      "                                                                                                  \r"
     ]
    },
    {
     "name": "stdout",
     "output_type": "stream",
     "text": [
      "Epoch 6/10, Train Loss: 1.3847, Val Loss: 1.7835, Epoch Time: 198.70s Average Vram Usage: 568.96MB\n"
     ]
    },
    {
     "name": "stderr",
     "output_type": "stream",
     "text": [
      "                                                                                                  \r"
     ]
    },
    {
     "name": "stdout",
     "output_type": "stream",
     "text": [
      "Epoch 7/10, Train Loss: 1.3782, Val Loss: 1.7859, Epoch Time: 198.84s Average Vram Usage: 568.96MB\n"
     ]
    },
    {
     "name": "stderr",
     "output_type": "stream",
     "text": [
      "                                                                                                  \r"
     ]
    },
    {
     "name": "stdout",
     "output_type": "stream",
     "text": [
      "Epoch 8/10, Train Loss: 1.3831, Val Loss: 1.7868, Epoch Time: 197.92s Average Vram Usage: 568.96MB\n"
     ]
    },
    {
     "name": "stderr",
     "output_type": "stream",
     "text": [
      "                                                                                                  \r"
     ]
    },
    {
     "name": "stdout",
     "output_type": "stream",
     "text": [
      "Epoch 9/10, Train Loss: 1.3548, Val Loss: 1.7865, Epoch Time: 114.16s Average Vram Usage: 568.96MB\n"
     ]
    },
    {
     "name": "stderr",
     "output_type": "stream",
     "text": [
      "                                                                                                   \r"
     ]
    },
    {
     "name": "stdout",
     "output_type": "stream",
     "text": [
      "Epoch 10/10, Train Loss: 1.3419, Val Loss: 1.7876, Epoch Time: 95.59s Average Vram Usage: 568.96MB\n"
     ]
    },
    {
     "data": {
      "image/png": "[encoded data removed]",
      "text/plain": [
       "<Figure size 1000x500 with 1 Axes>"
      ]
     },
     "metadata": {},
     "output_type": "display_data"
    },
    {
     "data": {
      "image/png": "[encoded data removed]",
      "text/plain": [
       "<Figure size 2000x500 with 2 Axes>"
      ]
     },
     "metadata": {},
     "output_type": "display_data"
    }
   ],
   "source": [
    "train_and_test(\"MHA\", diff1)"
   ]
  },
  {
   "cell_type": "markdown",
   "id": "8775d573",
   "metadata": {},
   "source": [
    "## Model 2: Diff w/ GQA(groups=2)"
   ]
  },
  {
   "cell_type": "code",
   "execution_count": 25,
   "id": "b1d0ea19",
   "metadata": {},
   "outputs": [],
   "source": [
    "PARAMS.NUM_KV_HEADS = PARAMS.NUM_HEADS // 2\n",
    "PARAMS.NUM_KV_HEAD_REP = 2"
   ]
  },
  {
   "cell_type": "code",
   "execution_count": 26,
   "id": "123e5eb7",
   "metadata": {},
   "outputs": [
    {
     "data": {
      "text/plain": [
       "DiffTransformer(\n",
       "  (tok_embeddings): Embedding(65, 128)\n",
       "  (layers): ModuleList(\n",
       "    (0-3): 4 x TransformerBlock(\n",
       "      (attn_norm): RMSNorm()\n",
       "      (ffn_norm): RMSNorm()\n",
       "      (attention): DiffSelfAttention(\n",
       "        (wq): Linear(in_features=128, out_features=256, bias=False)\n",
       "        (wk): Linear(in_features=128, out_features=256, bias=False)\n",
       "        (wv): Linear(in_features=128, out_features=256, bias=False)\n",
       "        (wo): Linear(in_features=256, out_features=128, bias=False)\n",
       "        (norm): RMSNorm()\n",
       "      )\n",
       "      (ffn): MoE(\n",
       "        (gate): Linear(in_features=128, out_features=5, bias=True)\n",
       "        (experts): ModuleList(\n",
       "          (0-4): 5 x Expert(\n",
       "            (w1): Linear(in_features=128, out_features=128, bias=True)\n",
       "            (w3): Linear(in_features=128, out_features=128, bias=True)\n",
       "            (w2): Linear(in_features=128, out_features=128, bias=True)\n",
       "            (dropout): Dropout(p=0.1, inplace=False)\n",
       "          )\n",
       "        )\n",
       "      )\n",
       "      (res_dropout): Dropout(p=0.1, inplace=False)\n",
       "    )\n",
       "  )\n",
       "  (norm): RMSNorm()\n",
       "  (output): Linear(in_features=128, out_features=65, bias=False)\n",
       ")"
      ]
     },
     "execution_count": 26,
     "metadata": {},
     "output_type": "execute_result"
    }
   ],
   "source": [
    "PARAMS = ModelArgs()\n",
    "diff2 = DiffTransformer(PARAMS).to(device)\n",
    "diff2"
   ]
  },
  {
   "cell_type": "code",
   "execution_count": 27,
   "id": "b11c6f25",
   "metadata": {},
   "outputs": [
    {
     "data": {
      "text/plain": [
       "===============================================================================================\n",
       "Layer (type:depth-idx)                        Output Shape              Param #\n",
       "===============================================================================================\n",
       "DiffTransformer                               [1024, 64, 65]            --\n",
       "├─Embedding: 1-1                              [1024, 64, 128]           8,320\n",
       "├─ModuleList: 1-2                             --                        --\n",
       "│    └─TransformerBlock: 2-1                  [1024, 64, 128]           --\n",
       "│    │    └─RMSNorm: 3-1                      [1024, 64, 128]           128\n",
       "│    │    └─DiffSelfAttention: 3-2            [1024, 64, 128]           131,264\n",
       "│    │    └─Dropout: 3-3                      [1024, 64, 128]           --\n",
       "│    │    └─RMSNorm: 3-4                      [1024, 64, 128]           128\n",
       "│    │    └─MoE: 3-5                          [1024, 64, 128]           248,325\n",
       "│    │    └─Dropout: 3-6                      [1024, 64, 128]           --\n",
       "│    └─TransformerBlock: 2-2                  [1024, 64, 128]           --\n",
       "│    │    └─RMSNorm: 3-7                      [1024, 64, 128]           128\n",
       "│    │    └─DiffSelfAttention: 3-8            [1024, 64, 128]           131,264\n",
       "│    │    └─Dropout: 3-9                      [1024, 64, 128]           --\n",
       "│    │    └─RMSNorm: 3-10                     [1024, 64, 128]           128\n",
       "│    │    └─MoE: 3-11                         [1024, 64, 128]           248,325\n",
       "│    │    └─Dropout: 3-12                     [1024, 64, 128]           --\n",
       "│    └─TransformerBlock: 2-3                  [1024, 64, 128]           --\n",
       "│    │    └─RMSNorm: 3-13                     [1024, 64, 128]           128\n",
       "│    │    └─DiffSelfAttention: 3-14           [1024, 64, 128]           131,264\n",
       "│    │    └─Dropout: 3-15                     [1024, 64, 128]           --\n",
       "│    │    └─RMSNorm: 3-16                     [1024, 64, 128]           128\n",
       "│    │    └─MoE: 3-17                         [1024, 64, 128]           248,325\n",
       "│    │    └─Dropout: 3-18                     [1024, 64, 128]           --\n",
       "│    └─TransformerBlock: 2-4                  [1024, 64, 128]           --\n",
       "│    │    └─RMSNorm: 3-19                     [1024, 64, 128]           128\n",
       "│    │    └─DiffSelfAttention: 3-20           [1024, 64, 128]           131,264\n",
       "│    │    └─Dropout: 3-21                     [1024, 64, 128]           --\n",
       "│    │    └─RMSNorm: 3-22                     [1024, 64, 128]           128\n",
       "│    │    └─MoE: 3-23                         [1024, 64, 128]           248,325\n",
       "│    │    └─Dropout: 3-24                     [1024, 64, 128]           --\n",
       "├─RMSNorm: 1-3                                [1024, 64, 128]           128\n",
       "├─Linear: 1-4                                 [1024, 64, 65]            8,320\n",
       "===============================================================================================\n",
       "Total params: 1,536,148\n",
       "Trainable params: 1,536,148\n",
       "Non-trainable params: 0\n",
       "Total mult-adds (G): 1.57\n",
       "===============================================================================================\n",
       "Input size (MB): 0.52\n",
       "Forward/backward pass size (MB): 7158.10\n",
       "Params size (MB): 6.14\n",
       "Estimated Total Size (MB): 7164.77\n",
       "==============================================================================================="
      ]
     },
     "execution_count": 27,
     "metadata": {},
     "output_type": "execute_result"
    }
   ],
   "source": [
    "from torchinfo import summary\n",
    "\n",
    "# Describe the model\n",
    "summary(diff2.to(device), input_size=(BATCH_SIZE, SEQUENCE_LENGTH), dtypes=[torch.long])"
   ]
  },
  {
   "cell_type": "code",
   "execution_count": 28,
   "id": "28a0194f",
   "metadata": {},
   "outputs": [
    {
     "name": "stderr",
     "output_type": "stream",
     "text": [
      "                                                                                                  \r"
     ]
    },
    {
     "name": "stdout",
     "output_type": "stream",
     "text": [
      "Epoch 1/10, Train Loss: 1.7435, Val Loss: 1.8577, Epoch Time: 96.77s Average Vram Usage: 1092.70MB\n"
     ]
    },
    {
     "name": "stderr",
     "output_type": "stream",
     "text": [
      "                                                                                                   \r"
     ]
    },
    {
     "name": "stdout",
     "output_type": "stream",
     "text": [
      "Epoch 2/10, Train Loss: 1.5517, Val Loss: 1.7788, Epoch Time: 97.29s Average Vram Usage: 1092.70MB\n"
     ]
    },
    {
     "name": "stderr",
     "output_type": "stream",
     "text": [
      "                                                                                                   \r"
     ]
    },
    {
     "name": "stdout",
     "output_type": "stream",
     "text": [
      "Epoch 3/10, Train Loss: 1.5070, Val Loss: 1.7377, Epoch Time: 97.54s Average Vram Usage: 1092.70MB\n"
     ]
    },
    {
     "name": "stderr",
     "output_type": "stream",
     "text": [
      "                                                                                                   \r"
     ]
    },
    {
     "name": "stdout",
     "output_type": "stream",
     "text": [
      "Epoch 4/10, Train Loss: 1.4382, Val Loss: 1.7217, Epoch Time: 97.99s Average Vram Usage: 1092.70MB\n"
     ]
    },
    {
     "name": "stderr",
     "output_type": "stream",
     "text": [
      "                                                                                                   \r"
     ]
    },
    {
     "name": "stdout",
     "output_type": "stream",
     "text": [
      "Epoch 5/10, Train Loss: 1.3920, Val Loss: 1.7329, Epoch Time: 98.05s Average Vram Usage: 1092.70MB\n"
     ]
    },
    {
     "name": "stderr",
     "output_type": "stream",
     "text": [
      "                                                                                                   \r"
     ]
    },
    {
     "name": "stdout",
     "output_type": "stream",
     "text": [
      "Epoch 6/10, Train Loss: 1.3774, Val Loss: 1.7191, Epoch Time: 98.13s Average Vram Usage: 1092.70MB\n"
     ]
    },
    {
     "name": "stderr",
     "output_type": "stream",
     "text": [
      "                                                                                                   \r"
     ]
    },
    {
     "name": "stdout",
     "output_type": "stream",
     "text": [
      "Epoch 7/10, Train Loss: 1.3474, Val Loss: 1.7197, Epoch Time: 98.01s Average Vram Usage: 1092.70MB\n"
     ]
    },
    {
     "name": "stderr",
     "output_type": "stream",
     "text": [
      "                                                                                                   \r"
     ]
    },
    {
     "name": "stdout",
     "output_type": "stream",
     "text": [
      "Epoch 8/10, Train Loss: 1.3603, Val Loss: 1.7080, Epoch Time: 98.33s Average Vram Usage: 1092.70MB\n"
     ]
    },
    {
     "name": "stderr",
     "output_type": "stream",
     "text": [
      "                                                                                                   \r"
     ]
    },
    {
     "name": "stdout",
     "output_type": "stream",
     "text": [
      "Epoch 9/10, Train Loss: 1.3177, Val Loss: 1.7001, Epoch Time: 99.47s Average Vram Usage: 1092.70MB\n"
     ]
    },
    {
     "name": "stderr",
     "output_type": "stream",
     "text": [
      "                                                                                                    \r"
     ]
    },
    {
     "name": "stdout",
     "output_type": "stream",
     "text": [
      "Epoch 10/10, Train Loss: 1.3066, Val Loss: 1.6993, Epoch Time: 99.75s Average Vram Usage: 1092.70MB\n"
     ]
    },
    {
     "data": {
      "image/png": "[encoded data removed]",
      "text/plain": [
       "<Figure size 1000x500 with 1 Axes>"
      ]
     },
     "metadata": {},
     "output_type": "display_data"
    },
    {
     "data": {
      "image/png": "[encoded data removed]",
      "text/plain": [
       "<Figure size 2000x500 with 2 Axes>"
      ]
     },
     "metadata": {},
     "output_type": "display_data"
    }
   ],
   "source": [
    "train_and_test(\"GQA\", diff2)"
   ]
  }
 ],
 "metadata": {
  "accelerator": "GPU",
  "colab": {
   "gpuType": "T4",
   "provenance": []
  },
  "kernelspec": {
   "display_name": "Python 3",
   "name": "python3"
  },
  "language_info": {
   "codemirror_mode": {
    "name": "ipython",
    "version": 3
   },
   "file_extension": ".py",
   "mimetype": "text/x-python",
   "name": "python",
   "nbconvert_exporter": "python",
   "pygments_lexer": "ipython3",
   "version": "3.10.12"
  }
 },
 "nbformat": 4,
 "nbformat_minor": 5
}
