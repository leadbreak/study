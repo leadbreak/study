{
 "cells": [
  {
   "cell_type": "code",
   "execution_count": 1,
   "metadata": {},
   "outputs": [
    {
     "name": "stderr",
     "output_type": "stream",
     "text": [
      "/usr/local/lib/python3.10/dist-packages/tqdm/auto.py:21: TqdmWarning: IProgress not found. Please update jupyter and ipywidgets. See https://ipywidgets.readthedocs.io/en/stable/user_install.html\n",
      "  from .autonotebook import tqdm as notebook_tqdm\n"
     ]
    }
   ],
   "source": [
    "import torch\n",
    "import torch.nn as nn\n",
    "import time\n",
    "\n",
    "from einops import rearrange\n",
    "from einops.layers.torch import Rearrange\n",
    "\n",
    "# GPU 사용 가능 여부 확인\n",
    "device = torch.device('cuda' if torch.cuda.is_available() else 'cpu')\n",
    "\n",
    "# 실험을 위한 임의의 텐서 생성\n",
    "N, C, H, W = 32, 128, 56, 56  # 배치 크기, 채널 수, 높이, 너비\n",
    "x = torch.randn(N, C, H, W, device=device)\n",
    "\n",
    "# 1x1 Conv2d를 사용하는 경우\n",
    "class Conv1x1(nn.Module):\n",
    "    def __init__(self, channels):\n",
    "        super(Conv1x1, self).__init__()\n",
    "        self.conv = nn.Conv2d(channels, channels, kernel_size=1)\n",
    "        self.rearrange = Rearrange('b c h w -> b h w c')\n",
    "\n",
    "    def forward(self, x):\n",
    "        N, C, H, W = x.shape\n",
    "        x = self.conv(x)\n",
    "        # x = x.permute(0,2,3,1).reshape(-1, C)\n",
    "        x = self.rearrange(x)\n",
    "        return x\n",
    "\n",
    "# Linear를 사용하는 경우\n",
    "class LinearConv(nn.Module):\n",
    "    def __init__(self, channels):\n",
    "        super(LinearConv, self).__init__()\n",
    "        self.linear = nn.Linear(channels, channels)\n",
    "\n",
    "    def forward(self, x):\n",
    "        N, C, H, W = x.shape\n",
    "        # x = x.permute(0, 2, 3, 1).reshape(-1, C)  # (N, H, W, C)\n",
    "        x = x.reshape(-1, C)\n",
    "        x = self.linear(x)\n",
    "        # x = x.view(N, H, W, C).permute(0, 3, 1, 2)  # (N, C, H, W)\n",
    "        return x\n",
    "\n",
    "# 메모리 및 시간 측정 함수\n",
    "def measure_time_and_memory(model, input):\n",
    "    torch.cuda.synchronize()  # 현재 모든 스트림이 끝날 때까지 기다립니다\n",
    "    start_time = time.time()\n",
    "    start_memory = torch.cuda.memory_allocated()\n",
    "    \n",
    "    output = model(input)\n",
    "    print(output.shape)\n",
    "    \n",
    "    torch.cuda.synchronize()\n",
    "    end_time = time.time()\n",
    "    end_memory = torch.cuda.memory_allocated()\n",
    "    \n",
    "    time_elapsed = end_time - start_time\n",
    "    memory_used = end_memory - start_memory\n",
    "    return time_elapsed, memory_used"
   ]
  },
  {
   "cell_type": "code",
   "execution_count": 2,
   "metadata": {},
   "outputs": [
    {
     "name": "stdout",
     "output_type": "stream",
     "text": [
      "torch.Size([32, 56, 56, 128])\n",
      "torch.Size([100352, 128])\n",
      "Conv1x1 - Time: 0.138421s, Memory: 52428800 bytes\n",
      "Linear - Time: 0.002460s, Memory: 60948480 bytes\n"
     ]
    }
   ],
   "source": [
    "# 모델 및 데이터를 GPU로 이동\n",
    "conv1x1_model = Conv1x1(C).to(device)\n",
    "linear_model = LinearConv(C).to(device)\n",
    "x = x.to(device)\n",
    "\n",
    "# 실험 실행\n",
    "time_conv, memory_conv = measure_time_and_memory(conv1x1_model, x)\n",
    "time_linear, memory_linear = measure_time_and_memory(linear_model, x)\n",
    "\n",
    "print(f\"Conv1x1 - Time: {time_conv:.6f}s, Memory: {memory_conv} bytes\")\n",
    "print(f\"Linear - Time: {time_linear:.6f}s, Memory: {memory_linear} bytes\")"
   ]
  },
  {
   "cell_type": "code",
   "execution_count": 3,
   "metadata": {},
   "outputs": [
    {
     "name": "stdout",
     "output_type": "stream",
     "text": [
      "torch.Size([32, 56, 56, 128])\n",
      "torch.Size([100352, 128])\n",
      "Conv1x1 - Time: 0.000477s, Memory: 52428800 bytes\n",
      "Linear - Time: 0.000560s, Memory: 52428800 bytes\n"
     ]
    }
   ],
   "source": [
    "# 모델 및 데이터를 GPU로 이동\n",
    "conv1x1_model = Conv1x1(C).to(device)\n",
    "linear_model = LinearConv(C).to(device)\n",
    "x = x.to(device)\n",
    "\n",
    "# 실험 실행\n",
    "time_conv, memory_conv = measure_time_and_memory(conv1x1_model, x)\n",
    "time_linear, memory_linear = measure_time_and_memory(linear_model, x)\n",
    "\n",
    "print(f\"Conv1x1 - Time: {time_conv:.6f}s, Memory: {memory_conv} bytes\")\n",
    "print(f\"Linear - Time: {time_linear:.6f}s, Memory: {memory_linear} bytes\")"
   ]
  },
  {
   "cell_type": "code",
   "execution_count": 4,
   "metadata": {},
   "outputs": [
    {
     "name": "stdout",
     "output_type": "stream",
     "text": [
      "Conv1x1 output:\n",
      " tensor([ 0.0235,  0.1586,  0.1314, -0.1478,  0.3107,  0.2606, -0.1566, -0.3747],\n",
      "       device='cuda:0')\n",
      "Linear output:\n",
      " tensor([ 0.0235,  0.1586,  0.1314, -0.1478,  0.3107,  0.2606, -0.1566, -0.3747],\n",
      "       device='cuda:0')\n"
     ]
    }
   ],
   "source": [
    "# 모델 정의\n",
    "class Conv1x1(nn.Module):\n",
    "    def __init__(self, channels):\n",
    "        super(Conv1x1, self).__init__()\n",
    "        self.conv = nn.Conv2d(channels, channels, kernel_size=1)\n",
    "\n",
    "    def forward(self, x):\n",
    "        return self.conv(x)\n",
    "\n",
    "class LinearConv(nn.Module):\n",
    "    def __init__(self, channels):\n",
    "        super(LinearConv, self).__init__()\n",
    "        self.linear = nn.Linear(channels, channels)\n",
    "\n",
    "    def forward(self, x):\n",
    "        N, C, H, W = x.shape\n",
    "        x = x.permute(0, 2, 3, 1).reshape(-1, C)\n",
    "        x = self.linear(x)\n",
    "        x = x.view(N, H, W, C).permute(0, 3, 1, 2)\n",
    "        return x\n",
    "\n",
    "# 모델 초기화 및 동일한 가중치 설정\n",
    "def initialize_models(channels):\n",
    "    conv1x1 = Conv1x1(channels).to(device)\n",
    "    linear = LinearConv(channels).to(device)\n",
    "\n",
    "    # Conv1x1 모델의 가중치를 추출\n",
    "    conv_weights = conv1x1.conv.weight.data\n",
    "    conv_bias = conv1x1.conv.bias.data\n",
    "\n",
    "    # Linear 모델의 가중치에 Conv1x1 모델의 가중치를 적용\n",
    "    linear.linear.weight.data = conv_weights.squeeze().view(channels, channels)\n",
    "    linear.linear.bias.data = conv_bias\n",
    "\n",
    "    return conv1x1, linear\n",
    "\n",
    "# 작은 텐서 생성 및 초기화\n",
    "channels = 3  # 예를 들어 RGB 채널\n",
    "small_tensor = torch.randn(1, channels, 224, 224, device=device) \n",
    "\n",
    "# 모델 및 데이터 초기화\n",
    "conv1x1_model, linear_model = initialize_models(channels)\n",
    "\n",
    "# 두 모델의 출력 비교\n",
    "with torch.no_grad():  # 그래디언트 계산을 하지 않음\n",
    "    conv1x1_output = conv1x1_model(small_tensor)\n",
    "    linear_output = linear_model(small_tensor)\n",
    "\n",
    "# 출력 비교\n",
    "print(\"Conv1x1 output:\\n\", conv1x1_output[0][0][0][:8])\n",
    "print(\"Linear output:\\n\", linear_output[0][0][0][:8])"
   ]
  },
  {
   "cell_type": "code",
   "execution_count": 5,
   "metadata": {},
   "outputs": [
    {
     "name": "stdout",
     "output_type": "stream",
     "text": [
      "0.00018616652488708497 0.0005698230266571045\n",
      "conv 1x1이 linear에 비해 3.06배 빠릅니다\n"
     ]
    }
   ],
   "source": [
    "import time\n",
    "\n",
    "# 반복 실행을 위한 함수 정의\n",
    "def repeat_experiment(model, input, repeats=1000):\n",
    "    times = []\n",
    "    for _ in range(repeats):\n",
    "        start_time = time.time()\n",
    "        model(input)\n",
    "        torch.cuda.synchronize()  # GPU 연산이 완료될 때까지 기다림\n",
    "        end_time = time.time()\n",
    "        times.append(end_time - start_time)\n",
    "    return times\n",
    "\n",
    "# 모델 초기화\n",
    "conv1x1_model, linear_model = initialize_models(C)\n",
    "\n",
    "# 반복 실험\n",
    "conv_times = repeat_experiment(conv1x1_model, x)\n",
    "linear_times = repeat_experiment(linear_model, x)\n",
    "\n",
    "# 평균 시간 계산\n",
    "avg_time_conv = sum(conv_times) / len(conv_times)\n",
    "avg_time_linear = sum(linear_times) / len(linear_times)\n",
    "\n",
    "print(avg_time_conv, avg_time_linear)\n",
    "print(f'conv 1x1이 linear에 비해 {avg_time_linear/avg_time_conv:.2f}배 빠릅니다')"
   ]
  },
  {
   "cell_type": "code",
   "execution_count": null,
   "metadata": {},
   "outputs": [],
   "source": []
  }
 ],
 "metadata": {
  "kernelspec": {
   "display_name": "Python 3",
   "language": "python",
   "name": "python3"
  },
  "language_info": {
   "codemirror_mode": {
    "name": "ipython",
    "version": 3
   },
   "file_extension": ".py",
   "mimetype": "text/x-python",
   "name": "python",
   "nbconvert_exporter": "python",
   "pygments_lexer": "ipython3",
   "version": "3.10.12"
  }
 },
 "nbformat": 4,
 "nbformat_minor": 2
}
