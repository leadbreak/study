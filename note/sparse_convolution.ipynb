{
 "cells": [
  {
   "cell_type": "code",
   "execution_count": 1,
   "metadata": {},
   "outputs": [
    {
     "name": "stdout",
     "output_type": "stream",
     "text": [
      "Normal Convolution Output:\n",
      " tensor([[[[-1.0792, -1.2014],\n",
      "          [-1.5681, -1.6904]]]], grad_fn=<ConvolutionBackward0>)\n"
     ]
    }
   ],
   "source": [
    "import torch\n",
    "import torch.nn as nn\n",
    "\n",
    "# 입력 데이터 생성 (1개의 샘플, 1개의 채널, 4x4 크기)\n",
    "input_tensor = torch.tensor([[[[1, 2, 3, 4],\n",
    "                               [5, 6, 7, 8],\n",
    "                               [9, 10, 11, 12],\n",
    "                               [13, 14, 15, 16]]]], dtype=torch.float32)\n",
    "\n",
    "# 2D Convolution 적용 (입력 채널 1개, 출력 채널 1개, 커널 크기 3x3)\n",
    "conv = nn.Conv2d(in_channels=1, out_channels=1, kernel_size=3, stride=1)\n",
    "output_tensor = conv(input_tensor)\n",
    "\n",
    "print(\"Normal Convolution Output:\\n\", output_tensor)"
   ]
  },
  {
   "cell_type": "code",
   "execution_count": 2,
   "metadata": {},
   "outputs": [
    {
     "name": "stdout",
     "output_type": "stream",
     "text": [
      "Sparse Convolution Output (Coordinates):\n",
      " tensor([[0, 0, 0],\n",
      "        [0, 0, 1],\n",
      "        [0, 1, 1],\n",
      "        [0, 1, 2]], dtype=torch.int32)\n",
      "Sparse Convolution Output (Features):\n",
      " tensor([[1.3210],\n",
      "        [2.0876],\n",
      "        [1.1055],\n",
      "        [0.5088]], grad_fn=<MinkowskiConvolutionFunctionBackward>)\n"
     ]
    },
    {
     "name": "stderr",
     "output_type": "stream",
     "text": [
      "/opt/conda/lib/python3.10/site-packages/MinkowskiEngine-0.5.4-py3.10-linux-x86_64.egg/MinkowskiEngine/__init__.py:36: UserWarning: The environment variable `OMP_NUM_THREADS` not set. MinkowskiEngine will automatically set `OMP_NUM_THREADS=16`. If you want to set `OMP_NUM_THREADS` manually, please export it on the command line before running a python script. e.g. `export OMP_NUM_THREADS=12; python your_program.py`. It is recommended to set it below 24.\n",
      "  warnings.warn(\n"
     ]
    }
   ],
   "source": [
    "import MinkowskiEngine as ME\n",
    "\n",
    "# 희소 데이터 생성 (2차원 공간에서 4개의 포인트)\n",
    "coordinates = torch.tensor([[0, 0], [0, 1], [1, 1], [1, 2]], dtype=torch.int32)  # 좌표\n",
    "features = torch.tensor([[1], [2], [3], [4]], dtype=torch.float32)  # 특징\n",
    "\n",
    "# Sparse Tensor 생성\n",
    "sparse_tensor = ME.SparseTensor(features=features, coordinates=ME.utils.batched_coordinates([coordinates]))\n",
    "\n",
    "# Sparse Convolution 적용\n",
    "conv = ME.MinkowskiConvolution(in_channels=1, out_channels=1, kernel_size=3, stride=1, dimension=2)\n",
    "output_sparse_tensor = conv(sparse_tensor)\n",
    "\n",
    "print(\"Sparse Convolution Output (Coordinates):\\n\", output_sparse_tensor.C)\n",
    "print(\"Sparse Convolution Output (Features):\\n\", output_sparse_tensor.F)\n"
   ]
  }
 ],
 "metadata": {
  "kernelspec": {
   "display_name": "Python 3",
   "language": "python",
   "name": "python3"
  },
  "language_info": {
   "codemirror_mode": {
    "name": "ipython",
    "version": 3
   },
   "file_extension": ".py",
   "mimetype": "text/x-python",
   "name": "python",
   "nbconvert_exporter": "python",
   "pygments_lexer": "ipython3",
   "version": "3.10.13"
  }
 },
 "nbformat": 4,
 "nbformat_minor": 2
}
