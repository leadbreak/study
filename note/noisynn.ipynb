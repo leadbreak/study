{
 "cells": [
  {
   "cell_type": "code",
   "execution_count": 2,
   "metadata": {},
   "outputs": [
    {
     "data": {
      "text/plain": [
       "tensor([[-0.7500,  0.1250,  0.1250,  0.1250,  0.1250,  0.1250,  0.1250],\n",
       "        [ 0.1250, -0.7500,  0.1250,  0.1250,  0.1250,  0.1250,  0.1250],\n",
       "        [ 0.1250,  0.1250, -0.7500,  0.1250,  0.1250,  0.1250,  0.1250],\n",
       "        [ 0.1250,  0.1250,  0.1250, -0.7500,  0.1250,  0.1250,  0.1250],\n",
       "        [ 0.1250,  0.1250,  0.1250,  0.1250, -0.7500,  0.1250,  0.1250],\n",
       "        [ 0.1250,  0.1250,  0.1250,  0.1250,  0.1250, -0.7500,  0.1250],\n",
       "        [ 0.1250,  0.1250,  0.1250,  0.1250,  0.1250,  0.1250, -0.7500]])"
      ]
     },
     "execution_count": 2,
     "metadata": {},
     "output_type": "execute_result"
    }
   ],
   "source": [
    "import torch\n",
    "k = 7\n",
    "torch.diag(torch.ones(k)) * -k/(k+1) + torch.ones(k, k) / (k+1)"
   ]
  },
  {
   "cell_type": "code",
   "execution_count": 3,
   "metadata": {},
   "outputs": [
    {
     "data": {
      "text/plain": [
       "tensor([[-0.3000,  0.0000,  0.0000,  0.0000,  0.0000,  0.0000,  0.3000],\n",
       "        [ 0.3000, -0.3000,  0.0000,  0.0000,  0.0000,  0.0000,  0.0000],\n",
       "        [ 0.0000,  0.3000, -0.3000,  0.0000,  0.0000,  0.0000,  0.0000],\n",
       "        [ 0.0000,  0.0000,  0.3000, -0.3000,  0.0000,  0.0000,  0.0000],\n",
       "        [ 0.0000,  0.0000,  0.0000,  0.3000, -0.3000,  0.0000,  0.0000],\n",
       "        [ 0.0000,  0.0000,  0.0000,  0.0000,  0.3000, -0.3000,  0.0000],\n",
       "        [ 0.0000,  0.0000,  0.0000,  0.0000,  0.0000,  0.3000, -0.3000]])"
      ]
     },
     "execution_count": 3,
     "metadata": {},
     "output_type": "execute_result"
    }
   ],
   "source": [
    "alpha=0.3\n",
    "\n",
    "identity = torch.diag(torch.ones(k))\n",
    "shift_identity = torch.zeros(k, k)\n",
    "for i in range(k):\n",
    "    shift_identity[(i+1)%k, i] = 1\n",
    "opt = -alpha * identity + alpha * shift_identity\n",
    "\n",
    "opt"
   ]
  }
 ],
 "metadata": {
  "kernelspec": {
   "display_name": "Python 3",
   "language": "python",
   "name": "python3"
  },
  "language_info": {
   "codemirror_mode": {
    "name": "ipython",
    "version": 3
   },
   "file_extension": ".py",
   "mimetype": "text/x-python",
   "name": "python",
   "nbconvert_exporter": "python",
   "pygments_lexer": "ipython3",
   "version": "3.10.12"
  }
 },
 "nbformat": 4,
 "nbformat_minor": 2
}
