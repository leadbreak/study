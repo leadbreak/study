{
 "cells": [
  {
   "cell_type": "markdown",
   "metadata": {},
   "source": [
    "### torch.gather\n",
    "- 주어진 텐서로부터 특정 위치의 값을 선택하여 새로운 텐서를 반환하는 함수  \n",
    "- Params:  \n",
    "`input: 값을 선택할 대상이 되는 텐서.`  \n",
    "`dim: 값을 선택할 차원. (예: 0이면 행 기준, 1이면 열 기준)`  \n",
    "`index: input 텐서에서 값을 선택할 위치를 지정하는 텐서.  index의 크기는 input 텐서의 크기와 동일하거나 더 작아야 함.`"
   ]
  },
  {
   "cell_type": "code",
   "execution_count": 1,
   "metadata": {},
   "outputs": [
    {
     "name": "stdout",
     "output_type": "stream",
     "text": [
      "tensor([[1, 3, 2],\n",
      "        [6, 4, 5],\n",
      "        [8, 9, 7]])\n"
     ]
    }
   ],
   "source": [
    "import torch\n",
    "\n",
    "# 2차원 텐서 예시\n",
    "input_tensor = torch.tensor([[1, 2, 3],\n",
    "                             [4, 5, 6],\n",
    "                             [7, 8, 9]])\n",
    "\n",
    "# 인덱스 텐서\n",
    "index_tensor = torch.tensor([[0, 2, 1],\n",
    "                             [2, 0, 1],\n",
    "                             [1, 2, 0]])\n",
    "\n",
    "# gather 실행 (dim=1에서 인덱스를 기반으로 값 선택)\n",
    "result = torch.gather(input_tensor, dim=1, index=index_tensor)\n",
    "\n",
    "print(result)\n"
   ]
  }
 ],
 "metadata": {
  "kernelspec": {
   "display_name": "Python 3",
   "language": "python",
   "name": "python3"
  },
  "language_info": {
   "codemirror_mode": {
    "name": "ipython",
    "version": 3
   },
   "file_extension": ".py",
   "mimetype": "text/x-python",
   "name": "python",
   "nbconvert_exporter": "python",
   "pygments_lexer": "ipython3",
   "version": "3.10.12"
  }
 },
 "nbformat": 4,
 "nbformat_minor": 2
}
