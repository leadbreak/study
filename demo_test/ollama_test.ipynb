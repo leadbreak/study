{
 "cells": [
  {
   "cell_type": "code",
   "execution_count": 30,
   "metadata": {},
   "outputs": [],
   "source": [
    "import requests\n",
    "import json\n",
    "import base64\n",
    "\n",
    "# API 엔드포인트\n",
    "url = 'http://localhost:11434/api/generate'\n",
    "\n",
    "# 이미지 파일을 읽고 base64로 인코딩\n",
    "with open('/workspace/qscar/research/demo_test/Korean-Bllossom-Vision-8B/1.png', 'rb') as image_file:\n",
    "    encoded_image = base64.b64encode(image_file.read()).decode('utf-8')\n",
    "\n",
    "# 요청에 사용할 데이터\n",
    "data = {\n",
    "    \"model\": \"llava\",\n",
    "    \"prompt\": \"\"\"\n",
    "    What is the personal color of person in the picture. Classify one of the 12 personal colors.\n",
    "    I will give you a tip to help your work. Listen.\n",
    "    What is Personal Color?\n",
    "    Personal color is about finding the colors that look best on you, based on your skin tone, hair, and eyes. It helps people choose clothes and makeup that make them look their best. There are 12 main personal color types, and they fall into four seasons: Spring, Summer, Autumn, and Winter. Each season is divided into three different types based on how warm, cool, soft, or bright the colors look on you.\n",
    "    \n",
    "    The Four Seasons and Their Types\n",
    "    Spring (Warm and Bright Colors)\n",
    "    Spring colors are light, warm, and lively, like the fresh flowers in springtime.\n",
    "\n",
    "    Bright Spring: Colors are clear, bright, and warm (think of a sunny day).\n",
    "    Warm Spring: Soft, golden, and warm colors, like warm sunlight.\n",
    "    Light Spring: Light, soft, and warm colors, like baby yellow or light green.\n",
    "    Summer (Cool and Soft Colors)\n",
    "    Summer colors are cool, soft, and gentle, like the soft sunlight on a beach.\n",
    "\n",
    "    Light Summer: Light, cool, and soft colors like soft pink or sky blue.\n",
    "    Cool Summer: Cool, soft, and fresh colors, like lavender or cool pink.\n",
    "    Soft Summer: Muted, soft colors with a cool tone, like dusty rose or soft gray.\n",
    "    Autumn (Warm and Deep Colors)\n",
    "    Autumn colors are warm, rich, and deep, like the changing leaves in fall.\n",
    "\n",
    "    Warm Autumn: Golden and warm tones like brown or mustard yellow.\n",
    "    Soft Autumn: Soft, warm, and muted colors, like olive green or warm taupe.\n",
    "    Deep Autumn: Deep, rich, warm colors like burgundy or chocolate brown.\n",
    "    Winter (Cool and Bold Colors)\n",
    "    Winter colors are bold, cool, and bright, like a cold snowy day.\n",
    "\n",
    "    Cool Winter: Icy, cool, and clear colors like navy blue or pure white.\n",
    "    Bright Winter: Bright, bold, and cool colors, like cherry red or cobalt blue.\n",
    "    Deep Winter: Deep, cool, and intense colors like black or deep plum.\n",
    "    How to Classify People’s Personal Colors by Looking at Them?\n",
    "    Check Their Skin Tone:\n",
    "\n",
    "    Warm Tone: Skin looks more golden or yellow. These people usually look best in warm colors like gold, yellow, and warm browns.\n",
    "    Cool Tone: Skin looks more pink or bluish. They look good in cool colors like silver, blue, and purple.\n",
    "    Check Their Hair Color:\n",
    "\n",
    "    Warm Hair Colors: Hair that looks golden, red, or warm brown usually fits warm tones.\n",
    "    Cool Hair Colors: Hair that looks black, dark brown, or ashy fits cool tones.\n",
    "    Check Their Eye Color:\n",
    "\n",
    "    Warm Eyes: Eyes with golden, hazel, or warm brown colors suit warm tones.\n",
    "    Cool Eyes: Blue, gray, or dark brown eyes fit cool tones.\n",
    "    Look at Brightness:\n",
    "\n",
    "    Bright Features: If someone’s skin, hair, and eyes are clear and bright, they might look best in bright colors (Bright Spring or Bright Winter).\n",
    "    Soft Features: If their features look more muted or gentle, they might suit soft colors (Soft Summer or Soft Autumn).\n",
    "    Check Depth (Light or Dark):\n",
    "\n",
    "    Light: If their features are light (light skin, light hair), they usually look better in lighter colors like pale pink or sky blue (Light Spring or Light Summer).\n",
    "    Deep: If they have darker skin, hair, or eyes, deep colors like dark red or navy may be best (Deep Autumn or Deep Winter).\n",
    "    Example:\n",
    "    Let’s say you are looking at a photo of someone. They have light blonde hair, blue eyes, and skin that looks a little pinkish. You might think:\n",
    "\n",
    "    Their cool skin and blue eyes suggest they look good in cool colors.\n",
    "    Their light hair and soft skin tone suggest they need soft or light colors.\n",
    "    So, they might be a Light Summer. Light, cool, and soft colors like light blue or soft pink would look great on them!\n",
    "                \"\"\",\n",
    "    \"images\": [encoded_image]  # base64로 인코딩된 이미지를 사용\n",
    "}\n",
    "\n",
    "# POST 요청 보내기\n",
    "response = requests.post(url, data=json.dumps(data), headers={'Content-Type': 'application/json'})"
   ]
  },
  {
   "cell_type": "code",
   "execution_count": 31,
   "metadata": {},
   "outputs": [
    {
     "name": "stdout",
     "output_type": "stream",
     "text": [
      "<Response [200]>\n"
     ]
    }
   ],
   "source": [
    "# 응답 출력\n",
    "print(response)"
   ]
  },
  {
   "cell_type": "code",
   "execution_count": 33,
   "metadata": {},
   "outputs": [
    {
     "name": "stdout",
     "output_type": "stream",
     "text": [
      "\n"
     ]
    }
   ],
   "source": [
    "# 각 줄로 나눠서 JSON 객체 처리\n",
    "responses = response.text.strip().split('\\n')\n",
    "\n",
    "# response 필드를 결합하여 최종 응답을 생성\n",
    "final_response = ''\n",
    "for response_str in responses:\n",
    "    try:\n",
    "        response_data = json.loads(response_str)\n",
    "        final_response += response_data.get('response', '')\n",
    "    except json.JSONDecodeError as e:\n",
    "        print(f\"JSONDecodeError: {e}\")\n",
    "\n",
    "# 최종 응답 출력\n",
    "print(final_response)"
   ]
  },
  {
   "cell_type": "code",
   "execution_count": null,
   "metadata": {},
   "outputs": [],
   "source": []
  }
 ],
 "metadata": {
  "kernelspec": {
   "display_name": ".venv",
   "language": "python",
   "name": "python3"
  },
  "language_info": {
   "codemirror_mode": {
    "name": "ipython",
    "version": 3
   },
   "file_extension": ".py",
   "mimetype": "text/x-python",
   "name": "python",
   "nbconvert_exporter": "python",
   "pygments_lexer": "ipython3",
   "version": "3.10.12"
  }
 },
 "nbformat": 4,
 "nbformat_minor": 2
}
