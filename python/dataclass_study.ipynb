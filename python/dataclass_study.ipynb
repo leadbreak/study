{
 "cells": [
  {
   "cell_type": "markdown",
   "metadata": {},
   "source": [
    "# 1. without dataclass"
   ]
  },
  {
   "cell_type": "code",
   "execution_count": 1,
   "metadata": {},
   "outputs": [],
   "source": [
    "from functools import total_ordering\n",
    "\n",
    "# without dataclass\n",
    "@total_ordering\n",
    "class ManualComment:\n",
    "    def __init__(self, id:int, text):\n",
    "        self.__id: int = id\n",
    "        self.__text: str = text\n",
    "    \n",
    "    @property\n",
    "    def id(self):\n",
    "        return self.__id\n",
    "    \n",
    "    @property\n",
    "    def text(self):\n",
    "        return self.__text\n",
    "    \n",
    "    def __repr__(self):\n",
    "        return \"{}(id={}, text={})\".format(self.__class__.__name__, self.id, self.text)\n",
    "\n",
    "    def __eq__(self, other):\n",
    "        if other.__class__ is self.__class__:\n",
    "            return (self.id, self.text) == (other.id, other.text)\n",
    "        else:\n",
    "            return NotImplemented\n",
    "\n",
    "    def __ne__(self, other):\n",
    "        result = self.__eq__(other)\n",
    "        if result is NotImplemented:\n",
    "            return NotImplemented\n",
    "        else:\n",
    "            return not result\n",
    "\n",
    "    def __hash__(self):\n",
    "        return hash((self.__class__, self.id, self.text))\n",
    "\n",
    "    def __lt__(self, other):\n",
    "        if other.__class__ is self.__class__:\n",
    "            return (self.id, self.text) < (other.id, other.text)\n",
    "        else:\n",
    "            return NotImplemented\n",
    "\n",
    "    def __le__(self, other):\n",
    "        if other.__class__ is self.__class__:\n",
    "            return (self.id, self.text) <= (other.id, other.text)\n",
    "        else:\n",
    "            return NotImplemented\n",
    "\n",
    "    def __gt__(self, other):\n",
    "        if other.__class__ is self.__class__:\n",
    "            return (self.id, self.text) > (other.id, other.text)\n",
    "        else:\n",
    "            return NotImplemented\n",
    "\n",
    "    def __ge__(self, other):\n",
    "        if other.__class__ is self.__class__:\n",
    "            return (self.id, self.text) >= (other.id, other.text)\n",
    "        else:\n",
    "            return NotImplemented"
   ]
  },
  {
   "cell_type": "code",
   "execution_count": 5,
   "metadata": {},
   "outputs": [],
   "source": [
    "def main():\n",
    "    comment = ManualComment(1, \"I just studied!\")\n",
    "    print(comment)"
   ]
  },
  {
   "cell_type": "code",
   "execution_count": 6,
   "metadata": {},
   "outputs": [
    {
     "name": "stdout",
     "output_type": "stream",
     "text": [
      "ManualComment(id=1, text=I just studied!)\n"
     ]
    }
   ],
   "source": [
    "main()"
   ]
  },
  {
   "cell_type": "markdown",
   "metadata": {},
   "source": [
    "# 2. with dataclass"
   ]
  },
  {
   "cell_type": "code",
   "execution_count": 2,
   "metadata": {},
   "outputs": [],
   "source": [
    "from dataclasses import dataclass\n",
    "\n",
    "@dataclass(frozen=True, order=True)\n",
    "class Comment:\n",
    "    id: int\n",
    "    text: str"
   ]
  },
  {
   "cell_type": "code",
   "execution_count": 3,
   "metadata": {},
   "outputs": [],
   "source": [
    "def main():\n",
    "    comment = Comment(1, \"I just studied!\")\n",
    "    print(comment)"
   ]
  },
  {
   "cell_type": "code",
   "execution_count": 4,
   "metadata": {},
   "outputs": [
    {
     "name": "stdout",
     "output_type": "stream",
     "text": [
      "Comment(id=1, text='I just studied!')\n"
     ]
    }
   ],
   "source": [
    "main()"
   ]
  },
  {
   "cell_type": "code",
   "execution_count": 9,
   "metadata": {},
   "outputs": [],
   "source": [
    "from dataclasses import astuple, asdict\n",
    "\n",
    "def main():\n",
    "    comment = Comment(1, \"I just studied!\")\n",
    "    print(comment)\n",
    "    print(astuple(comment))\n",
    "    print(asdict(comment))"
   ]
  },
  {
   "cell_type": "code",
   "execution_count": 10,
   "metadata": {},
   "outputs": [
    {
     "name": "stdout",
     "output_type": "stream",
     "text": [
      "Comment(id=1, text='I just studied!')\n",
      "(1, 'I just studied!')\n",
      "{'id': 1, 'text': 'I just studied!'}\n"
     ]
    }
   ],
   "source": [
    "main()"
   ]
  },
  {
   "cell_type": "code",
   "execution_count": 11,
   "metadata": {},
   "outputs": [],
   "source": [
    "import inspect\n",
    "from pprint import pprint\n",
    "\n",
    "def main():\n",
    "    comment = Comment(1, \"I just studied!\")\n",
    "    print(comment)\n",
    "    pprint(inspect.getmembers(Comment, inspect.isfunction))"
   ]
  },
  {
   "cell_type": "code",
   "execution_count": 12,
   "metadata": {},
   "outputs": [
    {
     "name": "stdout",
     "output_type": "stream",
     "text": [
      "Comment(id=1, text='I just studied!')\n",
      "[('__delattr__', <function Comment.__delattr__ at 0x7fc8337d32e0>),\n",
      " ('__eq__', <function Comment.__eq__ at 0x7fc8337d2f20>),\n",
      " ('__ge__', <function Comment.__ge__ at 0x7fc8337d31a0>),\n",
      " ('__gt__', <function Comment.__gt__ at 0x7fc8337d3100>),\n",
      " ('__hash__', <function Comment.__hash__ at 0x7fc8337d3380>),\n",
      " ('__init__', <function Comment.__init__ at 0x7fc8337d27a0>),\n",
      " ('__le__', <function Comment.__le__ at 0x7fc8337d3060>),\n",
      " ('__lt__', <function Comment.__lt__ at 0x7fc8337d2fc0>),\n",
      " ('__repr__', <function Comment.__repr__ at 0x7fc8337d2520>),\n",
      " ('__setattr__', <function Comment.__setattr__ at 0x7fc8337d3240>)]\n"
     ]
    }
   ],
   "source": [
    "main()"
   ]
  },
  {
   "cell_type": "code",
   "execution_count": 13,
   "metadata": {},
   "outputs": [],
   "source": [
    "def main():\n",
    "    comment = Comment(1, \"I just studied!\")\n",
    "    print(comment)\n",
    "    \n",
    "    # dataclass frozen test\n",
    "    comment.id = 3"
   ]
  },
  {
   "cell_type": "code",
   "execution_count": 14,
   "metadata": {},
   "outputs": [
    {
     "name": "stdout",
     "output_type": "stream",
     "text": [
      "Comment(id=1, text='I just studied!')\n"
     ]
    },
    {
     "ename": "FrozenInstanceError",
     "evalue": "cannot assign to field 'id'",
     "output_type": "error",
     "traceback": [
      "\u001b[0;31m---------------------------------------------------------------------------\u001b[0m",
      "\u001b[0;31mFrozenInstanceError\u001b[0m                       Traceback (most recent call last)",
      "\u001b[1;32m/home/wfs/study/python/dataclass_study.ipynb 셀 14\u001b[0m line \u001b[0;36m1\n\u001b[0;32m----> <a href='vscode-notebook-cell://wsl%2Bubuntu-20.04/home/wfs/study/python/dataclass_study.ipynb#X16sdnNjb2RlLXJlbW90ZQ%3D%3D?line=0'>1</a>\u001b[0m main()\n",
      "\u001b[1;32m/home/wfs/study/python/dataclass_study.ipynb 셀 14\u001b[0m line \u001b[0;36m6\n\u001b[1;32m      <a href='vscode-notebook-cell://wsl%2Bubuntu-20.04/home/wfs/study/python/dataclass_study.ipynb#X16sdnNjb2RlLXJlbW90ZQ%3D%3D?line=2'>3</a>\u001b[0m \u001b[39mprint\u001b[39m(comment)\n\u001b[1;32m      <a href='vscode-notebook-cell://wsl%2Bubuntu-20.04/home/wfs/study/python/dataclass_study.ipynb#X16sdnNjb2RlLXJlbW90ZQ%3D%3D?line=4'>5</a>\u001b[0m \u001b[39m# dataclass frozen test\u001b[39;00m\n\u001b[0;32m----> <a href='vscode-notebook-cell://wsl%2Bubuntu-20.04/home/wfs/study/python/dataclass_study.ipynb#X16sdnNjb2RlLXJlbW90ZQ%3D%3D?line=5'>6</a>\u001b[0m comment\u001b[39m.\u001b[39;49mid \u001b[39m=\u001b[39m \u001b[39m3\u001b[39m\n",
      "File \u001b[0;32m<string>:4\u001b[0m, in \u001b[0;36m__setattr__\u001b[0;34m(self, name, value)\u001b[0m\n",
      "\u001b[0;31mFrozenInstanceError\u001b[0m: cannot assign to field 'id'"
     ]
    }
   ],
   "source": [
    "main()"
   ]
  },
  {
   "cell_type": "code",
   "execution_count": 15,
   "metadata": {},
   "outputs": [
    {
     "name": "stdout",
     "output_type": "stream",
     "text": [
      "Comment(id=1, text='I just studied!')\n",
      "Comment(id=3, text='I just studied!')\n",
      "Comment(id=1, text='I just studied!')\n"
     ]
    }
   ],
   "source": [
    "import dataclasses\n",
    "\n",
    "def main():\n",
    "    comment = Comment(1, \"I just studied!\")\n",
    "    print(comment)\n",
    "    \n",
    "    # dataclass replace test\n",
    "    print(dataclasses.replace(comment, id=3))\n",
    "    print(comment)\n",
    "\n",
    "main()"
   ]
  },
  {
   "cell_type": "code",
   "execution_count": 17,
   "metadata": {},
   "outputs": [
    {
     "name": "stdout",
     "output_type": "stream",
     "text": [
      "Comment(id=1, text='I just studied!')\n",
      "[('__delattr__', <function Comment.__delattr__ at 0x7fc830155a80>),\n",
      " ('__eq__', <function Comment.__eq__ at 0x7fc83382e7a0>),\n",
      " ('__ge__', <function Comment.__ge__ at 0x7fc830155c60>),\n",
      " ('__gt__', <function Comment.__gt__ at 0x7fc830155d00>),\n",
      " ('__hash__', <function Comment.__hash__ at 0x7fc830155bc0>),\n",
      " ('__init__', <function Comment.__init__ at 0x7fc83382eca0>),\n",
      " ('__le__', <function Comment.__le__ at 0x7fc83382e700>),\n",
      " ('__lt__', <function Comment.__lt__ at 0x7fc83382ede0>),\n",
      " ('__repr__', <function Comment.__repr__ at 0x7fc83382e980>),\n",
      " ('__setattr__', <function Comment.__setattr__ at 0x7fc830155b20>)]\n"
     ]
    }
   ],
   "source": [
    "from dataclasses import dataclass, field\n",
    "\n",
    "@dataclass(frozen=True, order=True)\n",
    "class Comment:\n",
    "    id: int = field()\n",
    "    text: str = field(default='')\n",
    "    replies: list[int] = field(default_factory=list, compare=False, hash=False, repr=False)\n",
    "    \n",
    "def main():\n",
    "    comment = Comment(1, \"I just studied!\")\n",
    "    print(comment)\n",
    "    pprint(inspect.getmembers(Comment, inspect.isfunction))\n",
    "    \n",
    "main()"
   ]
  }
 ],
 "metadata": {
  "kernelspec": {
   "display_name": "Python 3",
   "language": "python",
   "name": "python3"
  },
  "language_info": {
   "codemirror_mode": {
    "name": "ipython",
    "version": 3
   },
   "file_extension": ".py",
   "mimetype": "text/x-python",
   "name": "python",
   "nbconvert_exporter": "python",
   "pygments_lexer": "ipython3",
   "version": "3.11.2"
  }
 },
 "nbformat": 4,
 "nbformat_minor": 2
}
